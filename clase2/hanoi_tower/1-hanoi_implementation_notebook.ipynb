{
 "cells": [
  {
   "cell_type": "markdown",
   "id": "e9b0ad3fdc3fc830",
   "metadata": {
    "collapsed": false,
    "jupyter": {
     "outputs_hidden": false
    }
   },
   "source": [
    "# Torre de Hanoi\n",
    "**Facundo A. Lucianna - Inteligencia Artificial - CEIA - FIUBA**\n",
    "\n",
    "El rompecabezas comienza con los discos apilados en una varilla en orden de tamaño decreciente, el más pequeño en la parte superior, aproximándose así a una forma cónica. \n",
    "\n",
    "El objetivo del rompecabezas es mover toda la pila a una de las otras barras, con las reglas de la leyenda:\n",
    "1. Sólo se puede mover un disco a la vez.\n",
    "2. Cada movimiento consiste en coger el disco superior de una de las pilas y colocarlo encima de otra pila o sobre una varilla vacía.\n",
    "3. Ningún disco podrá colocarse encima de un disco que sea más pequeño que él.\n",
    "\n",
    "## Resolviendo este problema usando IA\n",
    "\n",
    "Este problema es un típico problema para aplicar métodos de búsquedas. Podemos crear un agente que pueda resolver este problema. \n",
    "\n",
    "El agente puede percibir cuantos discos y en qué orden hay en cada varilla. Además, puede tomar cualquier disco que se encuentre en la parte superior y moverlo a cualquier otra varilla que esté permitido moverlo. \n",
    "\n",
    "Definamos el problema para que podamos resolverlo,\n",
    "\n",
    "### Espacio de estados:\n",
    "\n",
    "Para 5 discos, tenemos $3^5 = 243$ posibles estados,\n",
    "\n",
    "![estados_hanoi](./img/state_hanoi1.png)\n",
    "\n",
    "### Estado inicial\n",
    "\n",
    "Para este caso arrancamos con todos los discos de mayor a menor en la varilla izquierda.\n",
    "\n",
    "![estados_hanoi_initial](./img/state_hanoi2.png)\n",
    "\n",
    "### Estado objetivo\n",
    "\n",
    "Para simplificar, vamos a tener un solo estado objetivo. Este caso el objetivo es terminar con todos los discos de mayor a menor en la varilla derecha.\n",
    "\n",
    "![estados_hanoi_goal](./img/state_hanoi3.png)\n",
    "\n",
    "----\n",
    "\n",
    "Veamos una implementación de las diferentes estructuras que tenemos definidos del problema de la Torre de Hanoi que vimos en el video de resolución de problemas mediante búsqueda. Para ello nos vamos a basar en el código del libro Artificial Intelligence - A Modern Approach de Norvig And Russell, el cual está [disponible acá](https://github.com/aimacode). Particularmente usamos la [versión de Python](https://github.com/aimacode/aima-python).\n",
    "\n",
    "OBS: Si deseas armar una versión en otro lenguaje, podes ver desde el link que la librería que nos basamos está escrita en otros lenguajes.\n",
    "OBS2: Para profundizar no solo en como usarlo, sino en la implementación, se recomienda ver el archivo `hanoi_states.py` en `./lib`, el cual está ampliamente comentado. \n",
    "\n",
    "---\n",
    "\n",
    "# Estado\n",
    "\n",
    "Podemos representar cualquier estado con la clase `StatesHanoi` "
   ]
  },
  {
   "cell_type": "code",
   "execution_count": 1,
   "id": "46618ef8-06c6-4154-a10f-185aa577d087",
   "metadata": {},
   "outputs": [],
   "source": [
    "from aima_libs.hanoi_states import StatesHanoi"
   ]
  },
  {
   "cell_type": "markdown",
   "id": "c758ea0e-da11-4d18-beef-40cdacdd3977",
   "metadata": {},
   "source": [
    "Para representar la ubicación de los discos, usamos tres listas, uno por varilla, y un número del 1 al 5 para cada disco. Si queremos representar este estado\n",
    "\n",
    "![estados_hanoi_goal](./img/state_hanoi0.png)"
   ]
  },
  {
   "cell_type": "code",
   "execution_count": 2,
   "id": "a5b6369a-adc9-4499-ab5a-e3260ffe7da6",
   "metadata": {},
   "outputs": [],
   "source": [
    "varilla_izquierda = []\n",
    "varilla_medio = [5, 3, 1]\n",
    "varilla_derecha = [4, 2]"
   ]
  },
  {
   "cell_type": "code",
   "execution_count": 3,
   "id": "8874207f-f10f-4450-8154-b11311e3c588",
   "metadata": {},
   "outputs": [],
   "source": [
    "state = StatesHanoi(varilla_izquierda, varilla_medio, varilla_derecha, max_disks=5)"
   ]
  },
  {
   "cell_type": "markdown",
   "id": "3ec52830-ba05-4693-864b-4ab5df8227f5",
   "metadata": {},
   "source": [
    "Con esta clase tenemos la posibilidad de imprimir el estado:"
   ]
  },
  {
   "cell_type": "code",
   "execution_count": 4,
   "id": "3fd91d5f-099b-4cd7-91ef-87af92eb9b78",
   "metadata": {},
   "outputs": [
    {
     "name": "stdout",
     "output_type": "stream",
     "text": [
      "HanoiState:  | 5 3 1 | 4 2\n"
     ]
    }
   ],
   "source": [
    "print(state)"
   ]
  },
  {
   "cell_type": "markdown",
   "id": "8443721a-903b-4f11-8d53-321a39dbd624",
   "metadata": {},
   "source": [
    "Y tenemos los siguientes métodos:"
   ]
  },
  {
   "cell_type": "code",
   "execution_count": 5,
   "id": "81ce6afe-db63-404a-b10a-983037251f4b",
   "metadata": {},
   "outputs": [
    {
     "name": "stdout",
     "output_type": "stream",
     "text": [
      "El ultimo disco de la varilla del centro es 1\n"
     ]
    }
   ],
   "source": [
    "# Podemos ver cual es el disco que está mas arriba de una varilla\n",
    "disk = state.get_last_disk_rod(number_rod=1)\n",
    "print(f\"El ultimo disco de la varilla del centro es {disk}\")"
   ]
  },
  {
   "cell_type": "code",
   "execution_count": 6,
   "id": "67cf2cd6-6bfc-4424-bf2a-605e344533ff",
   "metadata": {},
   "outputs": [
    {
     "name": "stdout",
     "output_type": "stream",
     "text": [
      "Podemos poner el disco 1 en la varilla derecha?\n",
      "Si, es posible poner el disco 1 en la varilla de derecha\n"
     ]
    }
   ],
   "source": [
    "# Podemos ver si poner un disco en una varilla es un movimiento válido\n",
    "disk = 1\n",
    "print(\"Podemos poner el disco 1 en la varilla derecha?\")\n",
    "if state.check_valid_disk_in_rod(number_rod=2, disk=disk):\n",
    "    print(\"Si, es posible poner el disco 1 en la varilla de derecha\")"
   ]
  },
  {
   "cell_type": "code",
   "execution_count": 7,
   "id": "6551a84d-6fe5-4a1a-898a-50c480253de5",
   "metadata": {},
   "outputs": [
    {
     "name": "stdout",
     "output_type": "stream",
     "text": [
      "El nuevo estado es: HanoiState:  | 5 3 | 4 2 1\n"
     ]
    }
   ],
   "source": [
    "# Podemos modificar el estado aplicando un movimiento válido\n",
    "state.put_disk_in_rod(number_rod=2, disk=disk)\n",
    "print(f\"El nuevo estado es: {state}\")"
   ]
  },
  {
   "cell_type": "markdown",
   "id": "5671f9ef-aa68-47f9-8d13-f1d917bfec23",
   "metadata": {},
   "source": [
    "El cual no genera el siguiente estado:\n",
    "\n",
    "![estados_hanoi_goal](./img/state_hanoi4.png)"
   ]
  },
  {
   "cell_type": "markdown",
   "id": "4482a155-c600-472a-baf6-a0bbe810e678",
   "metadata": {},
   "source": [
    "Esta clase tiene además implementado:\n",
    "\n",
    "Atributos:\n",
    "* `rods`: Es la lista de lista con los discos en cada varilla\n",
    "* `number_of_disks`: El número de discos que hay en esta torre de Hanoi. Estamos usando 5, pero la implementación permite para cualquier número de discos.\n",
    "* `number_of_pegs`: El número de varillas. Siempre es 3.\n",
    "* `accumulated_cost`: Es el costo acumulado. Por ahora no tiene sentido este atributo, pero más adelante nos va a servir para ir determinando el costo que nos llevó ir hasta ahí.\n",
    "\n",
    "Métodos:\n",
    "* `accumulate_cost`: Es un método que se le pasa un valor de costo y lo va acumulando en el atributo `accumulated_cost`. Similar a `accumulated_cost`, más adelante tendrá más sentido.\n",
    "* `get_state`: Método getter que nos devuelve el atributo `rods`\n",
    "* `get_state_dict`: Método getter que nos devuelve el atributo `rods` en forma de diccionario.\n",
    "* `get_accumulated_cost`: Método getter que nos permite obtener el costo acumulado.\n",
    "* `check_valid_disk_in_rod`\n",
    "* `get_last_disk_rod`\n",
    "* `put_disk_in_rod`\n",
    "\n",
    "Además tiene implementada métodos que nos permite hacer diferentes operaciones en Python:\n",
    "\n",
    "* Podemos comparar dos estados (haciendo `estado1 == estado2`)\n",
    "* Podemos preguntar si un estado es mayor a otro (haciendo `estado1 > estado2`), esto significa si el costo acumulado de un costo es mayor a otro.\n",
    "* Tenemos una representación en string del estado, y es por eso que cuando hacemos `print()` se observa cómo están los discos.\n",
    "* También podemos obtener un hash del estado, esto funciona si hacemos `hash(estado)`\n",
    "\n",
    "---\n",
    "### Acciones\n",
    "\n",
    "Además de tener los estados, tenemos las acciones que podemos aplicar para pasar de un estado a otro, es decir mover un disco de una varilla a otra. Para ello tenemos la clase `ActionHanoi`:"
   ]
  },
  {
   "cell_type": "code",
   "execution_count": 8,
   "id": "8fee743d-ac0a-4996-819e-08a620549302",
   "metadata": {},
   "outputs": [],
   "source": [
    "from aima_libs.hanoi_states import ActionHanoi"
   ]
  },
  {
   "cell_type": "markdown",
   "id": "4c00b46c-816f-4455-9fa6-0b7f873291e3",
   "metadata": {},
   "source": [
    "Vamos a aplicar la acción que realiza la acción de ir de este estado:\n",
    "\n",
    "![estados_hanoi_goal](./img/state_hanoi0.png)\n",
    "\n",
    "A este estado:\n",
    "\n",
    "![estados_hanoi_goal](./img/state_hanoi4.png)\n",
    "\n",
    "Es decir mover el disco 1 a la varilla derecha:"
   ]
  },
  {
   "cell_type": "code",
   "execution_count": 9,
   "id": "16a664a2-2dd8-4c57-b6bc-08527a8d35d9",
   "metadata": {},
   "outputs": [],
   "source": [
    "varilla_izquierda = []\n",
    "varilla_medio = [5, 3, 1]\n",
    "varilla_derecha = [4, 2]\n",
    "state = StatesHanoi(varilla_izquierda, varilla_medio, varilla_derecha, max_disks=5)"
   ]
  },
  {
   "cell_type": "markdown",
   "id": "8a87b060-88d8-4fcc-b907-d7019d907e6b",
   "metadata": {},
   "source": [
    "Acá creamos la acción, pero no se aplicó todavia:"
   ]
  },
  {
   "cell_type": "code",
   "execution_count": 10,
   "id": "52619179-9c0e-4c11-a13f-ed3df27ac723",
   "metadata": {},
   "outputs": [
    {
     "name": "stdout",
     "output_type": "stream",
     "text": [
      "Move disk 1 from 2 to 3\n"
     ]
    }
   ],
   "source": [
    "action_example = ActionHanoi(disk=1, rod_input=1, rod_out=2)\n",
    "print(action_example)"
   ]
  },
  {
   "cell_type": "markdown",
   "id": "de82b838-bd1b-48d9-95e4-ecd5dc4eaeaf",
   "metadata": {},
   "source": [
    "Acá aplicamos la acción al estado `state`, el cual nos devuelve un nuevo estado:"
   ]
  },
  {
   "cell_type": "code",
   "execution_count": 11,
   "id": "13383df4-8fcb-4b7c-93af-4fa23b40f1a4",
   "metadata": {},
   "outputs": [
    {
     "name": "stdout",
     "output_type": "stream",
     "text": [
      "HanoiState:  | 5 3 | 4 2 1\n"
     ]
    }
   ],
   "source": [
    "new_state = action_example.execute(state_hanoi=state)\n",
    "\n",
    "print(new_state)"
   ]
  },
  {
   "cell_type": "markdown",
   "id": "04c19fe5-bff1-4fba-bc51-42dc25209f5b",
   "metadata": {},
   "source": [
    "Ahora vemos que el costo acumulado empieza a tener sentido, aplicar la acción de mover un disco tiene un costo igual a 1, entonces el nuevo estado, tiene un costo acumulado de 1:"
   ]
  },
  {
   "cell_type": "code",
   "execution_count": 12,
   "id": "dbae31c6-69b8-4404-8f4c-98a9f370f7fc",
   "metadata": {},
   "outputs": [
    {
     "name": "stdout",
     "output_type": "stream",
     "text": [
      "El costo acumulado del nuevo estado es 1.0\n"
     ]
    }
   ],
   "source": [
    "print(f\"El costo acumulado del nuevo estado es {new_state.accumulated_cost}\")"
   ]
  },
  {
   "cell_type": "markdown",
   "id": "db971d52-60f0-4e8d-a5d3-69aec116810a",
   "metadata": {},
   "source": [
    "La clase `ActionHanoi` tiene además implementado:\n",
    "\n",
    "Atributos:\n",
    "* `disk`: Es el disco que se quiere mover en la acción\n",
    "* `rod_input`: Es la varilla de donde sale el disco.\n",
    "* `rod_out`: Es la varilla de donde sale el disco.\n",
    "* `action`: Es un string con la acción que se va a aplicar\n",
    "* `action_dict`: Es un diccionario con toda la información de la acción.\n",
    "* `cost`: Es el costo de la acción, la cual es siempre igual a 1, salvo cuando el disco se mueve desde y hacia la misma varilla, el cual el costo ahí es 0.\n",
    "\n",
    "Métodos:\n",
    "* `execute`: Es el método que aplica la acción, tal como vimos más arriba, toma como entrada el estado que se le quiere aplicar la acción y devuelve un nuevo estado. Además al nuevo estado le suma al costo acumulado el costo de la acción.\n",
    "  \n",
    "Además tiene implementada métodos que nos permite hacer diferentes operaciones en Python:\n",
    "\n",
    "* Tenemos una representación en string del estado, y es por eso que cuando hacemos `print()` se observa una descripción de la acción."
   ]
  },
  {
   "cell_type": "markdown",
   "id": "75d9808a-769c-4ee6-87ee-94433bcde0e0",
   "metadata": {},
   "source": [
    "---\n",
    "### Problema de Hanoi\n",
    "\n",
    "Por último podemos implementar el problema que tenga todo el problema incorporado, desde un estado inicial, a un estado final, y la posibilidad de movimientos de un estado a otro. De tal forma que podemos movernos por el grafo de estado. Nuesta implementación es `ProblemHanoi`."
   ]
  },
  {
   "cell_type": "code",
   "execution_count": 13,
   "id": "7ccb55e3-5691-4e3f-966b-c9992097acc1",
   "metadata": {},
   "outputs": [],
   "source": [
    "from aima_libs.hanoi_states import ProblemHanoi"
   ]
  },
  {
   "cell_type": "markdown",
   "id": "5e0db65b-9253-4a95-9d1c-c106a31e28e4",
   "metadata": {},
   "source": [
    "En el problema definimos el estado inicial desde donde arrancamos:\n",
    "\n",
    "![estados_hanoi_initial](./img/state_hanoi2.png)"
   ]
  },
  {
   "cell_type": "code",
   "execution_count": 14,
   "id": "cb9b835b-83f3-4199-b960-10c9827833db",
   "metadata": {},
   "outputs": [],
   "source": [
    "varilla_izquierda = [5, 4, 3, 2, 1]\n",
    "varilla_medio = []\n",
    "varilla_derecha = []\n",
    "\n",
    "initial_state = StatesHanoi(varilla_izquierda, varilla_medio, varilla_derecha, max_disks=5)"
   ]
  },
  {
   "cell_type": "markdown",
   "id": "f9959802-ee90-4e23-b371-7e3a45f64528",
   "metadata": {},
   "source": [
    "Al estado objetivo que queremos llegar:\n",
    "\n",
    "![estados_hanoi_goal](./img/state_hanoi3.png)"
   ]
  },
  {
   "cell_type": "code",
   "execution_count": 15,
   "id": "e314edba-1a18-4d22-8c1f-593e5eb7e5f4",
   "metadata": {},
   "outputs": [],
   "source": [
    "varilla_izquierda = []\n",
    "varilla_medio = []\n",
    "varilla_derecha = [5, 4, 3, 2, 1]\n",
    "goal_state = StatesHanoi(varilla_izquierda, varilla_medio, varilla_derecha, max_disks=5)"
   ]
  },
  {
   "cell_type": "markdown",
   "id": "10d3dddf-007f-4fcb-9137-fef9c5df5131",
   "metadata": {},
   "source": [
    "Con estos estados, definamos el problema:"
   ]
  },
  {
   "cell_type": "code",
   "execution_count": 16,
   "id": "288544c7-cbea-4971-b982-d1b1e8cdb8bb",
   "metadata": {},
   "outputs": [],
   "source": [
    "problem = ProblemHanoi(initial=initial_state, goal=goal_state)"
   ]
  },
  {
   "cell_type": "markdown",
   "id": "adc875e0-2859-4f4f-9507-552d1b4bf5d5",
   "metadata": {},
   "source": [
    "Con esta clase tenemos dos atributos:\n",
    "* `initial`: Es el estado inicial\n",
    "* `goal`: Es el estado objetivo.\n",
    "\n",
    "Y cuatro métodos:\n",
    "* `actions`:  Devuelve todas las acciones posibles que se pueden ejecutar desde un estado dado.\n",
    "* `result`: Calcula el nuevo estado después de aplicar una acción.\n",
    "* `path_cost`: Calcula el costo del camino de ir de un estado a otro.\n",
    "* `goal_test`: Verifica si un estado particular es el estado objetivo.\n",
    "\n",
    "Entonces, así podemos ver todas las acciones que podemos aplicar desde un estado dado:"
   ]
  },
  {
   "cell_type": "code",
   "execution_count": 17,
   "id": "b8899e88-6fa9-4f0b-9098-59ff71c2f31f",
   "metadata": {},
   "outputs": [],
   "source": [
    "varilla_izquierda = []\n",
    "varilla_medio = [5, 3, 1]\n",
    "varilla_derecha = [4, 2]\n",
    "state = StatesHanoi(varilla_izquierda, varilla_medio, varilla_derecha, max_disks=5)"
   ]
  },
  {
   "cell_type": "code",
   "execution_count": 18,
   "id": "dcfb4f5c-62b8-4880-a3fd-dc42443879df",
   "metadata": {},
   "outputs": [
    {
     "name": "stdout",
     "output_type": "stream",
     "text": [
      "Move disk 1 from 2 to 1\n",
      "Move disk 1 from 2 to 3\n",
      "Move disk 2 from 3 to 1\n"
     ]
    }
   ],
   "source": [
    "lista_acciones = problem.actions(state)\n",
    "for action in lista_acciones:\n",
    "    print(action)"
   ]
  },
  {
   "cell_type": "markdown",
   "id": "d50bc97d-2461-4f0b-adaa-9fccd0db7653",
   "metadata": {},
   "source": [
    "Aplicamos una de las acciones que nos devuelve:"
   ]
  },
  {
   "cell_type": "code",
   "execution_count": 19,
   "id": "578e97cf-7365-44d9-b040-ba996ad662f6",
   "metadata": {},
   "outputs": [
    {
     "name": "stdout",
     "output_type": "stream",
     "text": [
      "HanoiState:  | 5 3 | 4 2 1\n"
     ]
    }
   ],
   "source": [
    "# Aplicamos la acción de Mover el disco 1 de 2 a 3\n",
    "new_state = problem.result(state=state, action=lista_acciones[1])\n",
    "\n",
    "print(new_state)"
   ]
  },
  {
   "cell_type": "markdown",
   "id": "0edbf74c-a64f-4c3b-aa99-0c8e706c7b8d",
   "metadata": {},
   "source": [
    "Es decir, fuimos de este estado:\n",
    "\n",
    "![estados_hanoi_goal](./img/state_hanoi0.png)\n",
    "\n",
    "a este estado:\n",
    "\n",
    "![estados_hanoi_goal](./img/state_hanoi4.png)\n",
    "\n",
    "pero ahora en el contexto del **Problema**."
   ]
  },
  {
   "cell_type": "markdown",
   "id": "51e8d7f6-53eb-4fbd-8935-d1163daa0d2f",
   "metadata": {},
   "source": [
    "Acumulemos el costo que venimos llevando al nuevo estado:"
   ]
  },
  {
   "cell_type": "code",
   "execution_count": 20,
   "id": "7127dada-e271-41d9-9464-28dc0aed62c4",
   "metadata": {},
   "outputs": [
    {
     "name": "stdout",
     "output_type": "stream",
     "text": [
      "El costo acumulado según el problema del nuevo estado es 1.0\n"
     ]
    }
   ],
   "source": [
    "print(f\"El costo acumulado según el problema del nuevo estado es {problem.path_cost(c=1, state1=state, action=lista_acciones[1], state2=new_state)}\")"
   ]
  },
  {
   "cell_type": "markdown",
   "id": "48ec250e-63c7-4052-a8fc-f8c0112119ba",
   "metadata": {},
   "source": [
    "Apliquemos al nuevo estado otra acción:"
   ]
  },
  {
   "cell_type": "code",
   "execution_count": 21,
   "id": "b5540c40-c251-4bf7-a933-e3bb3e96a94d",
   "metadata": {},
   "outputs": [
    {
     "name": "stdout",
     "output_type": "stream",
     "text": [
      "Move disk 3 from 2 to 1\n",
      "Move disk 1 from 3 to 1\n",
      "Move disk 1 from 3 to 2\n"
     ]
    }
   ],
   "source": [
    "lista_acciones = problem.actions(new_state)\n",
    "for action in lista_acciones:\n",
    "    print(action)"
   ]
  },
  {
   "cell_type": "code",
   "execution_count": 22,
   "id": "e58c389d-dab8-4560-b18c-8cbcd949705b",
   "metadata": {},
   "outputs": [
    {
     "name": "stdout",
     "output_type": "stream",
     "text": [
      "HanoiState: 3 | 5 | 4 2 1\n"
     ]
    }
   ],
   "source": [
    "# Aplicamos la acción de Mover el disco 3 de 2 a 1\n",
    "new_state_2 = problem.result(state=new_state, action=lista_acciones[0])\n",
    "\n",
    "print(new_state_2)"
   ]
  },
  {
   "cell_type": "markdown",
   "id": "bda793c4-bf24-43db-921f-ef3ea2cd8088",
   "metadata": {},
   "source": [
    "Y ahora el costo acumulado es 2, dado que pasamos por dos estados para llegar a este nuevo estado:"
   ]
  },
  {
   "cell_type": "code",
   "execution_count": 23,
   "id": "f539c9c1-0293-4ebf-900d-82306841c7af",
   "metadata": {},
   "outputs": [
    {
     "name": "stdout",
     "output_type": "stream",
     "text": [
      "El costo acumulado según el problema del nuevo estado es 2.0\n"
     ]
    }
   ],
   "source": [
    "print(f\"El costo acumulado según el problema del nuevo estado es {problem.path_cost(c=1, state1=new_state, action=lista_acciones[0], state2=new_state_2)}\")"
   ]
  },
  {
   "cell_type": "markdown",
   "id": "b7d2926a-692b-4975-956c-00c006834a28",
   "metadata": {},
   "source": [
    "Por último podemos ver si un estado dado es la solución:"
   ]
  },
  {
   "cell_type": "code",
   "execution_count": 24,
   "id": "f4580aeb-a759-45d5-aa8f-728dfc5031c6",
   "metadata": {},
   "outputs": [
    {
     "name": "stdout",
     "output_type": "stream",
     "text": [
      "HanoiState: 3 | 5 | 4 2 1 no es la solución final HanoiState:  |  | 5 4 3 2 1\n"
     ]
    }
   ],
   "source": [
    "if not problem.goal_test(state=new_state_2):\n",
    "    print(f\"{new_state_2} no es la solución final {goal_state}\")"
   ]
  },
  {
   "cell_type": "markdown",
   "id": "bb38c8c2-fb17-4c92-9906-b5e7c5a02a1f",
   "metadata": {},
   "source": [
    "Con esta implementación ya tenemos la posibilidad de generar el grafo de estados de Hanoi,\n",
    "\n",
    "![grafo_de_hanoi](./img/state_hanoi_graph.png)"
   ]
  }
 ],
 "metadata": {
  "kernelspec": {
   "display_name": "Python 3 (ipykernel)",
   "language": "python",
   "name": "python3"
  },
  "language_info": {
   "codemirror_mode": {
    "name": "ipython",
    "version": 3
   },
   "file_extension": ".py",
   "mimetype": "text/x-python",
   "name": "python",
   "nbconvert_exporter": "python",
   "pygments_lexer": "ipython3",
   "version": "3.10.14"
  }
 },
 "nbformat": 4,
 "nbformat_minor": 5
}
