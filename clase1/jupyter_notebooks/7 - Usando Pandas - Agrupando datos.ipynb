{
 "cells": [
  {
   "attachments": {},
   "cell_type": "markdown",
   "id": "706184f8",
   "metadata": {},
   "source": [
    "# Pandas - Agrupando datos\n",
    "Inteligencia Artificial - Facundo A. Lucianna - CEIA - FIUBA\n",
    "\n",
    "Una pieza esencial del análisis de datos es el agregado eficiente: calcular operaciones como `sum()`, `mean()`, `median()`, `min()` y `max()`. En esta notebook, exploraremos las agregaciones en Pandas, desde operaciones simples, hasta operaciones más sofisticadas basadas en el concepto de `groupby`."
   ]
  },
  {
   "cell_type": "code",
   "execution_count": 1,
   "id": "a9e84458",
   "metadata": {
    "ExecuteTime": {
     "end_time": "2024-06-21T18:08:29.007447Z",
     "start_time": "2024-06-21T18:08:28.735080Z"
    }
   },
   "outputs": [],
   "source": [
    "import pandas as pd\n",
    "import numpy as np\n",
    "import seaborn as sns"
   ]
  },
  {
   "cell_type": "markdown",
   "id": "cfe982fb-c9b3-4607-98c7-388403718776",
   "metadata": {},
   "source": [
    "Para poder aplicar las herramientas de Pandas en este notebook usaremos el dataset Planets disponible a través del paquete Seaborn. Este conjunto proporciona información sobre planetas que los astrónomos han descubierto alrededor de otras estrellas (conocidos como exoplanetas):"
   ]
  },
  {
   "cell_type": "code",
   "execution_count": 2,
   "id": "5f94b69a-c75a-4ece-a142-878f0f7df9ee",
   "metadata": {},
   "outputs": [
    {
     "data": {
      "text/html": [
       "<div>\n",
       "<style scoped>\n",
       "    .dataframe tbody tr th:only-of-type {\n",
       "        vertical-align: middle;\n",
       "    }\n",
       "\n",
       "    .dataframe tbody tr th {\n",
       "        vertical-align: top;\n",
       "    }\n",
       "\n",
       "    .dataframe thead th {\n",
       "        text-align: right;\n",
       "    }\n",
       "</style>\n",
       "<table border=\"1\" class=\"dataframe\">\n",
       "  <thead>\n",
       "    <tr style=\"text-align: right;\">\n",
       "      <th></th>\n",
       "      <th>method</th>\n",
       "      <th>number</th>\n",
       "      <th>orbital_period</th>\n",
       "      <th>mass</th>\n",
       "      <th>distance</th>\n",
       "      <th>year</th>\n",
       "    </tr>\n",
       "  </thead>\n",
       "  <tbody>\n",
       "    <tr>\n",
       "      <th>0</th>\n",
       "      <td>Radial Velocity</td>\n",
       "      <td>1</td>\n",
       "      <td>269.300</td>\n",
       "      <td>7.10</td>\n",
       "      <td>77.40</td>\n",
       "      <td>2006</td>\n",
       "    </tr>\n",
       "    <tr>\n",
       "      <th>1</th>\n",
       "      <td>Radial Velocity</td>\n",
       "      <td>1</td>\n",
       "      <td>874.774</td>\n",
       "      <td>2.21</td>\n",
       "      <td>56.95</td>\n",
       "      <td>2008</td>\n",
       "    </tr>\n",
       "    <tr>\n",
       "      <th>2</th>\n",
       "      <td>Radial Velocity</td>\n",
       "      <td>1</td>\n",
       "      <td>763.000</td>\n",
       "      <td>2.60</td>\n",
       "      <td>19.84</td>\n",
       "      <td>2011</td>\n",
       "    </tr>\n",
       "    <tr>\n",
       "      <th>3</th>\n",
       "      <td>Radial Velocity</td>\n",
       "      <td>1</td>\n",
       "      <td>326.030</td>\n",
       "      <td>19.40</td>\n",
       "      <td>110.62</td>\n",
       "      <td>2007</td>\n",
       "    </tr>\n",
       "    <tr>\n",
       "      <th>4</th>\n",
       "      <td>Radial Velocity</td>\n",
       "      <td>1</td>\n",
       "      <td>516.220</td>\n",
       "      <td>10.50</td>\n",
       "      <td>119.47</td>\n",
       "      <td>2009</td>\n",
       "    </tr>\n",
       "  </tbody>\n",
       "</table>\n",
       "</div>"
      ],
      "text/plain": [
       "            method  number  orbital_period   mass  distance  year\n",
       "0  Radial Velocity       1         269.300   7.10     77.40  2006\n",
       "1  Radial Velocity       1         874.774   2.21     56.95  2008\n",
       "2  Radial Velocity       1         763.000   2.60     19.84  2011\n",
       "3  Radial Velocity       1         326.030  19.40    110.62  2007\n",
       "4  Radial Velocity       1         516.220  10.50    119.47  2009"
      ]
     },
     "execution_count": 2,
     "metadata": {},
     "output_type": "execute_result"
    }
   ],
   "source": [
    "planets = sns.load_dataset('planets')\n",
    "planets.head()"
   ]
  },
  {
   "cell_type": "markdown",
   "id": "c7b30306-437c-40bc-b3c4-1d7ad9d72d5c",
   "metadata": {},
   "source": [
    "## Agregaciones simples en Pandas\n",
    "\n",
    "Al igual que con un array unidimensional de NumPy, para una `Serie` de Pandas, podemos hacer agregaciones que devuelven un único valor:"
   ]
  },
  {
   "cell_type": "code",
   "execution_count": 3,
   "id": "d95a2615-779c-4fc2-bd5c-09f8bc92e400",
   "metadata": {},
   "outputs": [
    {
     "data": {
      "text/plain": [
       "0    0.155995\n",
       "1    0.058084\n",
       "2    0.866176\n",
       "3    0.601115\n",
       "4    0.708073\n",
       "dtype: float64"
      ]
     },
     "execution_count": 3,
     "metadata": {},
     "output_type": "execute_result"
    }
   ],
   "source": [
    "rng = np.random.RandomState(42)\n",
    "random_numpy = rng.rand(5)\n",
    "random_serie = pd.Series(rng.rand(5))\n",
    "random_serie"
   ]
  },
  {
   "cell_type": "code",
   "execution_count": 4,
   "id": "756be1a5-433b-4325-8786-328146a21b25",
   "metadata": {},
   "outputs": [
    {
     "data": {
      "text/plain": [
       "2.389441867818592"
      ]
     },
     "execution_count": 4,
     "metadata": {},
     "output_type": "execute_result"
    }
   ],
   "source": [
    "random_serie.sum()"
   ]
  },
  {
   "cell_type": "code",
   "execution_count": 5,
   "id": "7155851b-cc81-4987-93b4-c2884e697660",
   "metadata": {},
   "outputs": [
    {
     "data": {
      "text/plain": [
       "2.811925491708157"
      ]
     },
     "execution_count": 5,
     "metadata": {},
     "output_type": "execute_result"
    }
   ],
   "source": [
    "random_numpy.sum()"
   ]
  },
  {
   "cell_type": "code",
   "execution_count": 6,
   "id": "ccb09054-f673-44c6-bc34-de9243aff42f",
   "metadata": {},
   "outputs": [
    {
     "data": {
      "text/plain": [
       "0.4778883735637184"
      ]
     },
     "execution_count": 6,
     "metadata": {},
     "output_type": "execute_result"
    }
   ],
   "source": [
    "random_serie.mean()"
   ]
  },
  {
   "cell_type": "markdown",
   "id": "53d4e52a-e0cf-4e12-bd52-7bf57fff2df1",
   "metadata": {},
   "source": [
    "Hay un método conveniente llamado `describe()` que calcula varias agregaciones comunes para cada columna de un `DataFrame`. Vamos a usar esto en los datos de `planets`, eliminando por ahora las filas con valores faltantes:"
   ]
  },
  {
   "cell_type": "code",
   "execution_count": 7,
   "id": "f7cb0f60-f97e-418b-982b-bd191d80fee3",
   "metadata": {},
   "outputs": [
    {
     "data": {
      "text/html": [
       "<div>\n",
       "<style scoped>\n",
       "    .dataframe tbody tr th:only-of-type {\n",
       "        vertical-align: middle;\n",
       "    }\n",
       "\n",
       "    .dataframe tbody tr th {\n",
       "        vertical-align: top;\n",
       "    }\n",
       "\n",
       "    .dataframe thead th {\n",
       "        text-align: right;\n",
       "    }\n",
       "</style>\n",
       "<table border=\"1\" class=\"dataframe\">\n",
       "  <thead>\n",
       "    <tr style=\"text-align: right;\">\n",
       "      <th></th>\n",
       "      <th>number</th>\n",
       "      <th>orbital_period</th>\n",
       "      <th>mass</th>\n",
       "      <th>distance</th>\n",
       "      <th>year</th>\n",
       "    </tr>\n",
       "  </thead>\n",
       "  <tbody>\n",
       "    <tr>\n",
       "      <th>count</th>\n",
       "      <td>498.00000</td>\n",
       "      <td>498.000000</td>\n",
       "      <td>498.000000</td>\n",
       "      <td>498.000000</td>\n",
       "      <td>498.000000</td>\n",
       "    </tr>\n",
       "    <tr>\n",
       "      <th>mean</th>\n",
       "      <td>1.73494</td>\n",
       "      <td>835.778671</td>\n",
       "      <td>2.509320</td>\n",
       "      <td>52.068213</td>\n",
       "      <td>2007.377510</td>\n",
       "    </tr>\n",
       "    <tr>\n",
       "      <th>std</th>\n",
       "      <td>1.17572</td>\n",
       "      <td>1469.128259</td>\n",
       "      <td>3.636274</td>\n",
       "      <td>46.596041</td>\n",
       "      <td>4.167284</td>\n",
       "    </tr>\n",
       "    <tr>\n",
       "      <th>min</th>\n",
       "      <td>1.00000</td>\n",
       "      <td>1.328300</td>\n",
       "      <td>0.003600</td>\n",
       "      <td>1.350000</td>\n",
       "      <td>1989.000000</td>\n",
       "    </tr>\n",
       "    <tr>\n",
       "      <th>25%</th>\n",
       "      <td>1.00000</td>\n",
       "      <td>38.272250</td>\n",
       "      <td>0.212500</td>\n",
       "      <td>24.497500</td>\n",
       "      <td>2005.000000</td>\n",
       "    </tr>\n",
       "    <tr>\n",
       "      <th>50%</th>\n",
       "      <td>1.00000</td>\n",
       "      <td>357.000000</td>\n",
       "      <td>1.245000</td>\n",
       "      <td>39.940000</td>\n",
       "      <td>2009.000000</td>\n",
       "    </tr>\n",
       "    <tr>\n",
       "      <th>75%</th>\n",
       "      <td>2.00000</td>\n",
       "      <td>999.600000</td>\n",
       "      <td>2.867500</td>\n",
       "      <td>59.332500</td>\n",
       "      <td>2011.000000</td>\n",
       "    </tr>\n",
       "    <tr>\n",
       "      <th>max</th>\n",
       "      <td>6.00000</td>\n",
       "      <td>17337.500000</td>\n",
       "      <td>25.000000</td>\n",
       "      <td>354.000000</td>\n",
       "      <td>2014.000000</td>\n",
       "    </tr>\n",
       "  </tbody>\n",
       "</table>\n",
       "</div>"
      ],
      "text/plain": [
       "          number  orbital_period        mass    distance         year\n",
       "count  498.00000      498.000000  498.000000  498.000000   498.000000\n",
       "mean     1.73494      835.778671    2.509320   52.068213  2007.377510\n",
       "std      1.17572     1469.128259    3.636274   46.596041     4.167284\n",
       "min      1.00000        1.328300    0.003600    1.350000  1989.000000\n",
       "25%      1.00000       38.272250    0.212500   24.497500  2005.000000\n",
       "50%      1.00000      357.000000    1.245000   39.940000  2009.000000\n",
       "75%      2.00000      999.600000    2.867500   59.332500  2011.000000\n",
       "max      6.00000    17337.500000   25.000000  354.000000  2014.000000"
      ]
     },
     "execution_count": 7,
     "metadata": {},
     "output_type": "execute_result"
    }
   ],
   "source": [
    "planets.dropna().describe()"
   ]
  },
  {
   "cell_type": "markdown",
   "id": "4f2bdfe1-997e-4abe-b00e-5dcb12239534",
   "metadata": {},
   "source": [
    "Esto puede ser una forma útil de comenzar a entender las propiedades generales de un conjunto de datos, antes que empecemos a trabajar con nuestro modelo. \n",
    "\n",
    "*Por ejemplo, observamos en la columna de año que aunque los exoplanetas fueron descubiertos por primera vez en 1989, la mitad de todos los exoplanetas conocidos no fueron descubiertos hasta 2010 o después**.\n",
    "\n",
    "----\n",
    "## Group by\n",
    "Las agregaciones simples pueden dar una idea del conjunto de datos, pero a menudo se prefiere agregar condicionalmente según alguna etiqueta o índice: esto se implementa en la llamada operación `groupby`. El nombre **group by** proviene de un comando en el lenguaje de base de datos SQL.\n",
    "\n",
    "Lo que hace el `groupby` es:\n",
    "\n",
    "1. Dividir y agrupar un DataFrame según el valor de una llave especificada.\n",
    "2. Luego se calcula alguna función, generalmente una agregación, transformación o filtrado, dentro de los grupos individuales.\n",
    "3. Al final se fusiona los resultados de estas operaciones en un array de salida.\n",
    "\n",
    "Esto se puede realizar individualmente paso a paso, pero la función `groupby` nos facilita esta tarea.\n",
    "\n",
    "Quizás las operaciones más importantes disponibles mediante `groupby` son `aggregate`, `filter`, `transform` y `apply`.\n",
    "\n",
    "### Indexación de columnas\n",
    "\n",
    "`groupby` admite la indexación de columnas de la misma manera que el `DataFrame`y devuelve un objeto GroupBy modificado:"
   ]
  },
  {
   "cell_type": "code",
   "execution_count": 8,
   "id": "386e08e8-1879-467e-91b1-bdc149930145",
   "metadata": {},
   "outputs": [
    {
     "data": {
      "text/plain": [
       "<pandas.core.groupby.generic.DataFrameGroupBy object at 0x144c017e0>"
      ]
     },
     "execution_count": 8,
     "metadata": {},
     "output_type": "execute_result"
    }
   ],
   "source": [
    "planets.groupby('method')"
   ]
  },
  {
   "cell_type": "code",
   "execution_count": 9,
   "id": "9cb81387-5bdc-4d22-b388-8cceef822539",
   "metadata": {},
   "outputs": [
    {
     "data": {
      "text/plain": [
       "<pandas.core.groupby.generic.SeriesGroupBy object at 0x144c01e10>"
      ]
     },
     "execution_count": 9,
     "metadata": {},
     "output_type": "execute_result"
    }
   ],
   "source": [
    "planets.groupby('method')['orbital_period']"
   ]
  },
  {
   "cell_type": "markdown",
   "id": "c559d817-a1fd-4e8c-9d79-a0a83d9b55cd",
   "metadata": {},
   "source": [
    "Acá seleccionamos un grupo particular del `DataFrame` original agrupándolo por referencia a su nombre de columna. Al igual que con el objeto `DataFrameGroupBy`, no se realiza ninguna computación hasta que llamemos a alguna agregación en el objeto:"
   ]
  },
  {
   "cell_type": "code",
   "execution_count": 10,
   "id": "c5c0bfcf-2954-4e44-b440-39548d823f98",
   "metadata": {},
   "outputs": [
    {
     "data": {
      "text/plain": [
       "method\n",
       "Astrometry                         631.180000\n",
       "Eclipse Timing Variations         4343.500000\n",
       "Imaging                          27500.000000\n",
       "Microlensing                      3300.000000\n",
       "Orbital Brightness Modulation        0.342887\n",
       "Pulsar Timing                       66.541900\n",
       "Pulsation Timing Variations       1170.000000\n",
       "Radial Velocity                    360.200000\n",
       "Transit                              5.714932\n",
       "Transit Timing Variations           57.011000\n",
       "Name: orbital_period, dtype: float64"
      ]
     },
     "execution_count": 10,
     "metadata": {},
     "output_type": "execute_result"
    }
   ],
   "source": [
    "planets.groupby('method')['orbital_period'].median()"
   ]
  },
  {
   "cell_type": "markdown",
   "id": "839c3353-11fa-4732-90bb-f28a9c2a20a3",
   "metadata": {},
   "source": [
    "### aggregate\n",
    "\n",
    "El método `aggregate()` permite más flexibilidad. Puede tomar un string, una función, o una lista de estas, y calcular todas las agregaciones a la vez:"
   ]
  },
  {
   "cell_type": "code",
   "execution_count": 11,
   "id": "3a54e1d9-3a0e-4241-a86e-e198cf1baf2d",
   "metadata": {},
   "outputs": [
    {
     "name": "stderr",
     "output_type": "stream",
     "text": [
      "/var/folders/50/q05bl7gj7jxb0qq6rb67fp4m0000gn/T/ipykernel_84888/1681637294.py:1: FutureWarning: The provided callable <function median at 0x107f9f5b0> is currently using SeriesGroupBy.median. In a future version of pandas, the provided callable will be used directly. To keep current behavior pass the string \"median\" instead.\n",
      "  planets.groupby('method')[[\"distance\", \"mass\"]].aggregate(['min', np.median, max])\n",
      "/var/folders/50/q05bl7gj7jxb0qq6rb67fp4m0000gn/T/ipykernel_84888/1681637294.py:1: FutureWarning: The provided callable <built-in function max> is currently using SeriesGroupBy.max. In a future version of pandas, the provided callable will be used directly. To keep current behavior pass the string \"max\" instead.\n",
      "  planets.groupby('method')[[\"distance\", \"mass\"]].aggregate(['min', np.median, max])\n"
     ]
    },
    {
     "data": {
      "text/html": [
       "<div>\n",
       "<style scoped>\n",
       "    .dataframe tbody tr th:only-of-type {\n",
       "        vertical-align: middle;\n",
       "    }\n",
       "\n",
       "    .dataframe tbody tr th {\n",
       "        vertical-align: top;\n",
       "    }\n",
       "\n",
       "    .dataframe thead tr th {\n",
       "        text-align: left;\n",
       "    }\n",
       "\n",
       "    .dataframe thead tr:last-of-type th {\n",
       "        text-align: right;\n",
       "    }\n",
       "</style>\n",
       "<table border=\"1\" class=\"dataframe\">\n",
       "  <thead>\n",
       "    <tr>\n",
       "      <th></th>\n",
       "      <th colspan=\"3\" halign=\"left\">distance</th>\n",
       "      <th colspan=\"3\" halign=\"left\">mass</th>\n",
       "    </tr>\n",
       "    <tr>\n",
       "      <th></th>\n",
       "      <th>min</th>\n",
       "      <th>median</th>\n",
       "      <th>max</th>\n",
       "      <th>min</th>\n",
       "      <th>median</th>\n",
       "      <th>max</th>\n",
       "    </tr>\n",
       "    <tr>\n",
       "      <th>method</th>\n",
       "      <th></th>\n",
       "      <th></th>\n",
       "      <th></th>\n",
       "      <th></th>\n",
       "      <th></th>\n",
       "      <th></th>\n",
       "    </tr>\n",
       "  </thead>\n",
       "  <tbody>\n",
       "    <tr>\n",
       "      <th>Astrometry</th>\n",
       "      <td>14.98</td>\n",
       "      <td>17.875</td>\n",
       "      <td>20.77</td>\n",
       "      <td>NaN</td>\n",
       "      <td>NaN</td>\n",
       "      <td>NaN</td>\n",
       "    </tr>\n",
       "    <tr>\n",
       "      <th>Eclipse Timing Variations</th>\n",
       "      <td>130.72</td>\n",
       "      <td>315.360</td>\n",
       "      <td>500.00</td>\n",
       "      <td>4.2000</td>\n",
       "      <td>5.125</td>\n",
       "      <td>6.05</td>\n",
       "    </tr>\n",
       "    <tr>\n",
       "      <th>Imaging</th>\n",
       "      <td>7.69</td>\n",
       "      <td>40.395</td>\n",
       "      <td>165.00</td>\n",
       "      <td>NaN</td>\n",
       "      <td>NaN</td>\n",
       "      <td>NaN</td>\n",
       "    </tr>\n",
       "    <tr>\n",
       "      <th>Microlensing</th>\n",
       "      <td>1760.00</td>\n",
       "      <td>3840.000</td>\n",
       "      <td>7720.00</td>\n",
       "      <td>NaN</td>\n",
       "      <td>NaN</td>\n",
       "      <td>NaN</td>\n",
       "    </tr>\n",
       "    <tr>\n",
       "      <th>Orbital Brightness Modulation</th>\n",
       "      <td>1180.00</td>\n",
       "      <td>1180.000</td>\n",
       "      <td>1180.00</td>\n",
       "      <td>NaN</td>\n",
       "      <td>NaN</td>\n",
       "      <td>NaN</td>\n",
       "    </tr>\n",
       "    <tr>\n",
       "      <th>Pulsar Timing</th>\n",
       "      <td>1200.00</td>\n",
       "      <td>1200.000</td>\n",
       "      <td>1200.00</td>\n",
       "      <td>NaN</td>\n",
       "      <td>NaN</td>\n",
       "      <td>NaN</td>\n",
       "    </tr>\n",
       "    <tr>\n",
       "      <th>Pulsation Timing Variations</th>\n",
       "      <td>NaN</td>\n",
       "      <td>NaN</td>\n",
       "      <td>NaN</td>\n",
       "      <td>NaN</td>\n",
       "      <td>NaN</td>\n",
       "      <td>NaN</td>\n",
       "    </tr>\n",
       "    <tr>\n",
       "      <th>Radial Velocity</th>\n",
       "      <td>1.35</td>\n",
       "      <td>40.445</td>\n",
       "      <td>354.00</td>\n",
       "      <td>0.0036</td>\n",
       "      <td>1.260</td>\n",
       "      <td>25.00</td>\n",
       "    </tr>\n",
       "    <tr>\n",
       "      <th>Transit</th>\n",
       "      <td>38.00</td>\n",
       "      <td>341.000</td>\n",
       "      <td>8500.00</td>\n",
       "      <td>1.4700</td>\n",
       "      <td>1.470</td>\n",
       "      <td>1.47</td>\n",
       "    </tr>\n",
       "    <tr>\n",
       "      <th>Transit Timing Variations</th>\n",
       "      <td>339.00</td>\n",
       "      <td>855.000</td>\n",
       "      <td>2119.00</td>\n",
       "      <td>NaN</td>\n",
       "      <td>NaN</td>\n",
       "      <td>NaN</td>\n",
       "    </tr>\n",
       "  </tbody>\n",
       "</table>\n",
       "</div>"
      ],
      "text/plain": [
       "                              distance                       mass         \\\n",
       "                                   min    median      max     min median   \n",
       "method                                                                     \n",
       "Astrometry                       14.98    17.875    20.77     NaN    NaN   \n",
       "Eclipse Timing Variations       130.72   315.360   500.00  4.2000  5.125   \n",
       "Imaging                           7.69    40.395   165.00     NaN    NaN   \n",
       "Microlensing                   1760.00  3840.000  7720.00     NaN    NaN   \n",
       "Orbital Brightness Modulation  1180.00  1180.000  1180.00     NaN    NaN   \n",
       "Pulsar Timing                  1200.00  1200.000  1200.00     NaN    NaN   \n",
       "Pulsation Timing Variations        NaN       NaN      NaN     NaN    NaN   \n",
       "Radial Velocity                   1.35    40.445   354.00  0.0036  1.260   \n",
       "Transit                          38.00   341.000  8500.00  1.4700  1.470   \n",
       "Transit Timing Variations       339.00   855.000  2119.00     NaN    NaN   \n",
       "\n",
       "                                      \n",
       "                                 max  \n",
       "method                                \n",
       "Astrometry                       NaN  \n",
       "Eclipse Timing Variations       6.05  \n",
       "Imaging                          NaN  \n",
       "Microlensing                     NaN  \n",
       "Orbital Brightness Modulation    NaN  \n",
       "Pulsar Timing                    NaN  \n",
       "Pulsation Timing Variations      NaN  \n",
       "Radial Velocity                25.00  \n",
       "Transit                         1.47  \n",
       "Transit Timing Variations        NaN  "
      ]
     },
     "execution_count": 11,
     "metadata": {},
     "output_type": "execute_result"
    }
   ],
   "source": [
    "planets.groupby('method')[[\"distance\", \"mass\"]].aggregate(['min', np.median, max])"
   ]
  },
  {
   "cell_type": "markdown",
   "id": "450c7f24-6f78-4b6f-b524-706c28f80b32",
   "metadata": {},
   "source": [
    "Otra forma util es pasar un mapeado con un diccionario:"
   ]
  },
  {
   "cell_type": "code",
   "execution_count": 12,
   "id": "d098e7c9-7685-4df0-86c8-092b3e877a5b",
   "metadata": {},
   "outputs": [
    {
     "data": {
      "text/html": [
       "<div>\n",
       "<style scoped>\n",
       "    .dataframe tbody tr th:only-of-type {\n",
       "        vertical-align: middle;\n",
       "    }\n",
       "\n",
       "    .dataframe tbody tr th {\n",
       "        vertical-align: top;\n",
       "    }\n",
       "\n",
       "    .dataframe thead th {\n",
       "        text-align: right;\n",
       "    }\n",
       "</style>\n",
       "<table border=\"1\" class=\"dataframe\">\n",
       "  <thead>\n",
       "    <tr style=\"text-align: right;\">\n",
       "      <th></th>\n",
       "      <th>distance</th>\n",
       "      <th>mass</th>\n",
       "    </tr>\n",
       "    <tr>\n",
       "      <th>method</th>\n",
       "      <th></th>\n",
       "      <th></th>\n",
       "    </tr>\n",
       "  </thead>\n",
       "  <tbody>\n",
       "    <tr>\n",
       "      <th>Astrometry</th>\n",
       "      <td>14.98</td>\n",
       "      <td>NaN</td>\n",
       "    </tr>\n",
       "    <tr>\n",
       "      <th>Eclipse Timing Variations</th>\n",
       "      <td>130.72</td>\n",
       "      <td>5.125</td>\n",
       "    </tr>\n",
       "    <tr>\n",
       "      <th>Imaging</th>\n",
       "      <td>7.69</td>\n",
       "      <td>NaN</td>\n",
       "    </tr>\n",
       "    <tr>\n",
       "      <th>Microlensing</th>\n",
       "      <td>1760.00</td>\n",
       "      <td>NaN</td>\n",
       "    </tr>\n",
       "    <tr>\n",
       "      <th>Orbital Brightness Modulation</th>\n",
       "      <td>1180.00</td>\n",
       "      <td>NaN</td>\n",
       "    </tr>\n",
       "    <tr>\n",
       "      <th>Pulsar Timing</th>\n",
       "      <td>1200.00</td>\n",
       "      <td>NaN</td>\n",
       "    </tr>\n",
       "    <tr>\n",
       "      <th>Pulsation Timing Variations</th>\n",
       "      <td>NaN</td>\n",
       "      <td>NaN</td>\n",
       "    </tr>\n",
       "    <tr>\n",
       "      <th>Radial Velocity</th>\n",
       "      <td>1.35</td>\n",
       "      <td>1.260</td>\n",
       "    </tr>\n",
       "    <tr>\n",
       "      <th>Transit</th>\n",
       "      <td>38.00</td>\n",
       "      <td>1.470</td>\n",
       "    </tr>\n",
       "    <tr>\n",
       "      <th>Transit Timing Variations</th>\n",
       "      <td>339.00</td>\n",
       "      <td>NaN</td>\n",
       "    </tr>\n",
       "  </tbody>\n",
       "</table>\n",
       "</div>"
      ],
      "text/plain": [
       "                               distance   mass\n",
       "method                                        \n",
       "Astrometry                        14.98    NaN\n",
       "Eclipse Timing Variations        130.72  5.125\n",
       "Imaging                            7.69    NaN\n",
       "Microlensing                    1760.00    NaN\n",
       "Orbital Brightness Modulation   1180.00    NaN\n",
       "Pulsar Timing                   1200.00    NaN\n",
       "Pulsation Timing Variations         NaN    NaN\n",
       "Radial Velocity                    1.35  1.260\n",
       "Transit                           38.00  1.470\n",
       "Transit Timing Variations        339.00    NaN"
      ]
     },
     "execution_count": 12,
     "metadata": {},
     "output_type": "execute_result"
    }
   ],
   "source": [
    "planets.groupby('method').aggregate({\n",
    "    'distance': 'min',\n",
    "    'mass': 'median'\n",
    "})"
   ]
  },
  {
   "cell_type": "markdown",
   "id": "6ecefd46-5052-41d4-aa06-d0689df39fa6",
   "metadata": {},
   "source": [
    "### filter\n",
    "\n",
    "Una operación de filtrado te permite eliminar datos basados en las propiedades del grupo. Por ejemplo, podríamos querer mantener todos los grupos en los que la desviación estándar sea mayor que algún valor crítico:"
   ]
  },
  {
   "cell_type": "code",
   "execution_count": 13,
   "id": "711624d3-5a87-48db-8c8a-8bc63565881d",
   "metadata": {},
   "outputs": [],
   "source": [
    "def filter_func(x):\n",
    "    return x['distance'].std() > 215"
   ]
  },
  {
   "cell_type": "code",
   "execution_count": 14,
   "id": "90f4df76-d8a5-46dc-9761-29d89ac3a714",
   "metadata": {},
   "outputs": [
    {
     "data": {
      "text/html": [
       "<div>\n",
       "<style scoped>\n",
       "    .dataframe tbody tr th:only-of-type {\n",
       "        vertical-align: middle;\n",
       "    }\n",
       "\n",
       "    .dataframe tbody tr th {\n",
       "        vertical-align: top;\n",
       "    }\n",
       "\n",
       "    .dataframe thead th {\n",
       "        text-align: right;\n",
       "    }\n",
       "</style>\n",
       "<table border=\"1\" class=\"dataframe\">\n",
       "  <thead>\n",
       "    <tr style=\"text-align: right;\">\n",
       "      <th></th>\n",
       "      <th>distance</th>\n",
       "    </tr>\n",
       "    <tr>\n",
       "      <th>method</th>\n",
       "      <th></th>\n",
       "    </tr>\n",
       "  </thead>\n",
       "  <tbody>\n",
       "    <tr>\n",
       "      <th>Astrometry</th>\n",
       "      <td>4.094148</td>\n",
       "    </tr>\n",
       "    <tr>\n",
       "      <th>Eclipse Timing Variations</th>\n",
       "      <td>213.203907</td>\n",
       "    </tr>\n",
       "    <tr>\n",
       "      <th>Imaging</th>\n",
       "      <td>53.736817</td>\n",
       "    </tr>\n",
       "    <tr>\n",
       "      <th>Microlensing</th>\n",
       "      <td>2076.611556</td>\n",
       "    </tr>\n",
       "    <tr>\n",
       "      <th>Orbital Brightness Modulation</th>\n",
       "      <td>0.000000</td>\n",
       "    </tr>\n",
       "    <tr>\n",
       "      <th>Pulsar Timing</th>\n",
       "      <td>NaN</td>\n",
       "    </tr>\n",
       "    <tr>\n",
       "      <th>Pulsation Timing Variations</th>\n",
       "      <td>NaN</td>\n",
       "    </tr>\n",
       "    <tr>\n",
       "      <th>Radial Velocity</th>\n",
       "      <td>45.559381</td>\n",
       "    </tr>\n",
       "    <tr>\n",
       "      <th>Transit</th>\n",
       "      <td>913.876990</td>\n",
       "    </tr>\n",
       "    <tr>\n",
       "      <th>Transit Timing Variations</th>\n",
       "      <td>915.819487</td>\n",
       "    </tr>\n",
       "  </tbody>\n",
       "</table>\n",
       "</div>"
      ],
      "text/plain": [
       "                                  distance\n",
       "method                                    \n",
       "Astrometry                        4.094148\n",
       "Eclipse Timing Variations       213.203907\n",
       "Imaging                          53.736817\n",
       "Microlensing                   2076.611556\n",
       "Orbital Brightness Modulation     0.000000\n",
       "Pulsar Timing                          NaN\n",
       "Pulsation Timing Variations            NaN\n",
       "Radial Velocity                  45.559381\n",
       "Transit                         913.876990\n",
       "Transit Timing Variations       915.819487"
      ]
     },
     "execution_count": 14,
     "metadata": {},
     "output_type": "execute_result"
    }
   ],
   "source": [
    "planets.groupby('method')[[\"distance\"]].std()"
   ]
  },
  {
   "cell_type": "code",
   "execution_count": 15,
   "id": "48d3a635-414c-45a9-a0ea-433ad243bd79",
   "metadata": {},
   "outputs": [
    {
     "data": {
      "text/html": [
       "<div>\n",
       "<style scoped>\n",
       "    .dataframe tbody tr th:only-of-type {\n",
       "        vertical-align: middle;\n",
       "    }\n",
       "\n",
       "    .dataframe tbody tr th {\n",
       "        vertical-align: top;\n",
       "    }\n",
       "\n",
       "    .dataframe thead th {\n",
       "        text-align: right;\n",
       "    }\n",
       "</style>\n",
       "<table border=\"1\" class=\"dataframe\">\n",
       "  <thead>\n",
       "    <tr style=\"text-align: right;\">\n",
       "      <th></th>\n",
       "      <th>method</th>\n",
       "      <th>number</th>\n",
       "      <th>orbital_period</th>\n",
       "      <th>mass</th>\n",
       "      <th>distance</th>\n",
       "      <th>year</th>\n",
       "    </tr>\n",
       "  </thead>\n",
       "  <tbody>\n",
       "    <tr>\n",
       "      <th>91</th>\n",
       "      <td>Transit</td>\n",
       "      <td>1</td>\n",
       "      <td>1.508956</td>\n",
       "      <td>NaN</td>\n",
       "      <td>NaN</td>\n",
       "      <td>2008</td>\n",
       "    </tr>\n",
       "    <tr>\n",
       "      <th>92</th>\n",
       "      <td>Transit</td>\n",
       "      <td>1</td>\n",
       "      <td>1.742994</td>\n",
       "      <td>NaN</td>\n",
       "      <td>200.0</td>\n",
       "      <td>2008</td>\n",
       "    </tr>\n",
       "    <tr>\n",
       "      <th>93</th>\n",
       "      <td>Transit</td>\n",
       "      <td>1</td>\n",
       "      <td>4.256800</td>\n",
       "      <td>NaN</td>\n",
       "      <td>680.0</td>\n",
       "      <td>2008</td>\n",
       "    </tr>\n",
       "    <tr>\n",
       "      <th>94</th>\n",
       "      <td>Transit</td>\n",
       "      <td>1</td>\n",
       "      <td>9.202050</td>\n",
       "      <td>NaN</td>\n",
       "      <td>NaN</td>\n",
       "      <td>2008</td>\n",
       "    </tr>\n",
       "    <tr>\n",
       "      <th>95</th>\n",
       "      <td>Transit</td>\n",
       "      <td>1</td>\n",
       "      <td>4.037896</td>\n",
       "      <td>NaN</td>\n",
       "      <td>NaN</td>\n",
       "      <td>2009</td>\n",
       "    </tr>\n",
       "  </tbody>\n",
       "</table>\n",
       "</div>"
      ],
      "text/plain": [
       "     method  number  orbital_period  mass  distance  year\n",
       "91  Transit       1        1.508956   NaN       NaN  2008\n",
       "92  Transit       1        1.742994   NaN     200.0  2008\n",
       "93  Transit       1        4.256800   NaN     680.0  2008\n",
       "94  Transit       1        9.202050   NaN       NaN  2008\n",
       "95  Transit       1        4.037896   NaN       NaN  2009"
      ]
     },
     "execution_count": 15,
     "metadata": {},
     "output_type": "execute_result"
    }
   ],
   "source": [
    "planets.groupby('method').filter(filter_func).head()"
   ]
  },
  {
   "cell_type": "markdown",
   "id": "ba1dcc2d-a1a9-464b-bdbe-17819bb29f98",
   "metadata": {},
   "source": [
    "La función `filter_func` debe devolver un valor booleano que especifique si el grupo pasa el filtro. Acá, dado que los grupos `Astrometry`, `Imaging`, `Orbital Brightness Modulation`, `Pulsar Timing`, `Pulsation Timing Variations` y `Radial Velocity` no superan un desvio estándar de 215, se filtran.\n",
    "\n",
    "----\n",
    "### transform\n",
    "\n",
    "Mientras que la agregación debe devolver una versión reducida de los datos, la transformación puede devolver una versión transformada de todos los datos para recombinarlos. Para dicha transformación, la salida tiene la misma forma que la entrada. Un ejemplo común es centrar los datos restando la media por grupo:"
   ]
  },
  {
   "cell_type": "code",
   "execution_count": 16,
   "id": "4b892312-d201-4828-8235-4ea06f1e8387",
   "metadata": {},
   "outputs": [
    {
     "data": {
      "text/html": [
       "<div>\n",
       "<style scoped>\n",
       "    .dataframe tbody tr th:only-of-type {\n",
       "        vertical-align: middle;\n",
       "    }\n",
       "\n",
       "    .dataframe tbody tr th {\n",
       "        vertical-align: top;\n",
       "    }\n",
       "\n",
       "    .dataframe thead th {\n",
       "        text-align: right;\n",
       "    }\n",
       "</style>\n",
       "<table border=\"1\" class=\"dataframe\">\n",
       "  <thead>\n",
       "    <tr style=\"text-align: right;\">\n",
       "      <th></th>\n",
       "      <th>distance</th>\n",
       "    </tr>\n",
       "  </thead>\n",
       "  <tbody>\n",
       "    <tr>\n",
       "      <th>0</th>\n",
       "      <td>25.799792</td>\n",
       "    </tr>\n",
       "    <tr>\n",
       "      <th>1</th>\n",
       "      <td>5.349792</td>\n",
       "    </tr>\n",
       "    <tr>\n",
       "      <th>2</th>\n",
       "      <td>-31.760208</td>\n",
       "    </tr>\n",
       "    <tr>\n",
       "      <th>3</th>\n",
       "      <td>59.019792</td>\n",
       "    </tr>\n",
       "    <tr>\n",
       "      <th>4</th>\n",
       "      <td>67.869792</td>\n",
       "    </tr>\n",
       "    <tr>\n",
       "      <th>...</th>\n",
       "      <td>...</td>\n",
       "    </tr>\n",
       "    <tr>\n",
       "      <th>1030</th>\n",
       "      <td>-427.298080</td>\n",
       "    </tr>\n",
       "    <tr>\n",
       "      <th>1031</th>\n",
       "      <td>-451.298080</td>\n",
       "    </tr>\n",
       "    <tr>\n",
       "      <th>1032</th>\n",
       "      <td>-425.298080</td>\n",
       "    </tr>\n",
       "    <tr>\n",
       "      <th>1033</th>\n",
       "      <td>-306.298080</td>\n",
       "    </tr>\n",
       "    <tr>\n",
       "      <th>1034</th>\n",
       "      <td>-339.298080</td>\n",
       "    </tr>\n",
       "  </tbody>\n",
       "</table>\n",
       "<p>1035 rows × 1 columns</p>\n",
       "</div>"
      ],
      "text/plain": [
       "        distance\n",
       "0      25.799792\n",
       "1       5.349792\n",
       "2     -31.760208\n",
       "3      59.019792\n",
       "4      67.869792\n",
       "...          ...\n",
       "1030 -427.298080\n",
       "1031 -451.298080\n",
       "1032 -425.298080\n",
       "1033 -306.298080\n",
       "1034 -339.298080\n",
       "\n",
       "[1035 rows x 1 columns]"
      ]
     },
     "execution_count": 16,
     "metadata": {},
     "output_type": "execute_result"
    }
   ],
   "source": [
    "planets.groupby('method')[[\"distance\"]].transform(lambda x: x - x.mean())"
   ]
  },
  {
   "cell_type": "markdown",
   "id": "95fc1514-ef6b-42ef-8cdd-02e576423ba4",
   "metadata": {},
   "source": [
    "### apply\n",
    "\n",
    "El método `apply()` permite aplicar una función arbitraria a los resultados del grupo. La función debe tomar un `DataFrame` y devolver un objeto de Pandas (por ejemplo, `DataFrame`, `Series`) o un escalar."
   ]
  },
  {
   "cell_type": "code",
   "execution_count": 17,
   "id": "bb447cc8-2376-426d-aba6-cc1b51dd1bae",
   "metadata": {},
   "outputs": [
    {
     "data": {
      "text/html": [
       "<div>\n",
       "<style scoped>\n",
       "    .dataframe tbody tr th:only-of-type {\n",
       "        vertical-align: middle;\n",
       "    }\n",
       "\n",
       "    .dataframe tbody tr th {\n",
       "        vertical-align: top;\n",
       "    }\n",
       "\n",
       "    .dataframe thead th {\n",
       "        text-align: right;\n",
       "    }\n",
       "</style>\n",
       "<table border=\"1\" class=\"dataframe\">\n",
       "  <thead>\n",
       "    <tr style=\"text-align: right;\">\n",
       "      <th></th>\n",
       "      <th></th>\n",
       "      <th>orbital_period</th>\n",
       "      <th>distance</th>\n",
       "    </tr>\n",
       "    <tr>\n",
       "      <th>method</th>\n",
       "      <th></th>\n",
       "      <th></th>\n",
       "      <th></th>\n",
       "    </tr>\n",
       "  </thead>\n",
       "  <tbody>\n",
       "    <tr>\n",
       "      <th rowspan=\"2\" valign=\"top\">Astrometry</th>\n",
       "      <th>113</th>\n",
       "      <td>6.891189</td>\n",
       "      <td>20.77</td>\n",
       "    </tr>\n",
       "    <tr>\n",
       "      <th>537</th>\n",
       "      <td>28.419580</td>\n",
       "      <td>14.98</td>\n",
       "    </tr>\n",
       "    <tr>\n",
       "      <th rowspan=\"3\" valign=\"top\">Eclipse Timing Variations</th>\n",
       "      <th>32</th>\n",
       "      <td>8.101852</td>\n",
       "      <td>NaN</td>\n",
       "    </tr>\n",
       "    <tr>\n",
       "      <th>37</th>\n",
       "      <td>4.571759</td>\n",
       "      <td>130.72</td>\n",
       "    </tr>\n",
       "    <tr>\n",
       "      <th>38</th>\n",
       "      <td>2.632705</td>\n",
       "      <td>130.72</td>\n",
       "    </tr>\n",
       "    <tr>\n",
       "      <th>...</th>\n",
       "      <th>...</th>\n",
       "      <td>...</td>\n",
       "      <td>...</td>\n",
       "    </tr>\n",
       "    <tr>\n",
       "      <th>Transit</th>\n",
       "      <th>1034</th>\n",
       "      <td>0.000031</td>\n",
       "      <td>260.00</td>\n",
       "    </tr>\n",
       "    <tr>\n",
       "      <th rowspan=\"4\" valign=\"top\">Transit Timing Variations</th>\n",
       "      <th>680</th>\n",
       "      <td>0.048295</td>\n",
       "      <td>2119.00</td>\n",
       "    </tr>\n",
       "    <tr>\n",
       "      <th>736</th>\n",
       "      <td>0.017208</td>\n",
       "      <td>855.00</td>\n",
       "    </tr>\n",
       "    <tr>\n",
       "      <th>749</th>\n",
       "      <td>NaN</td>\n",
       "      <td>NaN</td>\n",
       "    </tr>\n",
       "    <tr>\n",
       "      <th>813</th>\n",
       "      <td>0.006743</td>\n",
       "      <td>339.00</td>\n",
       "    </tr>\n",
       "  </tbody>\n",
       "</table>\n",
       "<p>1035 rows × 2 columns</p>\n",
       "</div>"
      ],
      "text/plain": [
       "                                orbital_period  distance\n",
       "method                                                  \n",
       "Astrometry                113         6.891189     20.77\n",
       "                          537        28.419580     14.98\n",
       "Eclipse Timing Variations 32          8.101852       NaN\n",
       "                          37          4.571759    130.72\n",
       "                          38          2.632705    130.72\n",
       "...                                        ...       ...\n",
       "Transit                   1034        0.000031    260.00\n",
       "Transit Timing Variations 680         0.048295   2119.00\n",
       "                          736         0.017208    855.00\n",
       "                          749              NaN       NaN\n",
       "                          813         0.006743    339.00\n",
       "\n",
       "[1035 rows x 2 columns]"
      ]
     },
     "execution_count": 17,
     "metadata": {},
     "output_type": "execute_result"
    }
   ],
   "source": [
    "def norm_by_distance(x):\n",
    "    x['orbital_period'] /= x['distance'].sum()\n",
    "    return x\n",
    "\n",
    "planets.groupby('method')[['orbital_period', \"distance\"]].apply(norm_by_distance)"
   ]
  },
  {
   "cell_type": "code",
   "execution_count": null,
   "id": "493ff5a5-2857-44df-813f-9a3c9d26061f",
   "metadata": {},
   "outputs": [],
   "source": []
  }
 ],
 "metadata": {
  "kernelspec": {
   "display_name": "Python 3 (ipykernel)",
   "language": "python",
   "name": "python3"
  },
  "language_info": {
   "codemirror_mode": {
    "name": "ipython",
    "version": 3
   },
   "file_extension": ".py",
   "mimetype": "text/x-python",
   "name": "python",
   "nbconvert_exporter": "python",
   "pygments_lexer": "ipython3",
   "version": "3.10.14"
  }
 },
 "nbformat": 4,
 "nbformat_minor": 5
}
