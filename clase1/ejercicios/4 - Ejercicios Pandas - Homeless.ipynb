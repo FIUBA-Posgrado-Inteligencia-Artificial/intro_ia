{
 "cells": [
  {
   "cell_type": "markdown",
   "id": "53fb38a7",
   "metadata": {},
   "source": [
    "# Homeless\n",
    "Inteligencia Artificial - Facundo A. Lucianna - CEIA - FIUBA\n",
    "\n",
    "Para este trabajo, se incorpora un csv (*homeless2021.csv*) con información de estimaciones de falta de vivienda en los estados de EE UU en 2021. Se presenta para 6 columnas, 3 con información de cuantos el número de vagabundos individuales (*individuals*) que no forman parte de una familia, y otra 3 con el número de vagabundos que son parte de una familia con hijos (*family*). Son tres para cada una, correspondiendo a la separación por género (masculino y femenino) y una sin discriminar el género. Además, *state_pop* presenta el total de la población del estado.\n",
    "\n",
    "La información la obtuvimos de [endhomelessness.org](https://endhomelessness.org/homelessness-in-america/homelessness-statistics/state-of-homelessness-2021/)\n",
    "\n",
    "OBS: En las celdas de procesamiento si ves ___ es para que reemplaces.\n",
    "\n",
    "----\n",
    "## Primeros pasos exploratorios\n",
    "\n",
    "Una de las primeras cosas que podemos hacer cuando tenemos un DataFrame nuevo, es explorarlo y ver que contiene. Entre las herramientas de Pandas que nos permite hacer eso son:\n",
    "\n",
    "- `.head()`\n",
    "- `.info()`\n",
    "- `.shape`\n",
    "- `.describe()`\n",
    "\n",
    "Por lo que pongamos manos a la obra:\n",
    "\n",
    "1. Importa `pandas` como `pd` "
   ]
  },
  {
   "cell_type": "code",
   "execution_count": null,
   "id": "e6edd0d2",
   "metadata": {},
   "outputs": [],
   "source": [
    "import pandas as ___"
   ]
  },
  {
   "cell_type": "markdown",
   "id": "f75238ad",
   "metadata": {},
   "source": [
    "2. Lea el csv en un DataFrame y llame al DataFrame `homeless`"
   ]
  },
  {
   "cell_type": "code",
   "execution_count": null,
   "id": "c82e2b89",
   "metadata": {},
   "outputs": [],
   "source": [
    "___ = pd.____(\"./homeless2021.csv\")"
   ]
  },
  {
   "cell_type": "markdown",
   "id": "24ce876c",
   "metadata": {},
   "source": [
    "3. Muestre la cabecera del DataFrame con las primeras 7 filas."
   ]
  },
  {
   "cell_type": "code",
   "execution_count": null,
   "id": "cf811d87",
   "metadata": {},
   "outputs": [],
   "source": [
    "homeless.head(___)"
   ]
  },
  {
   "cell_type": "markdown",
   "id": "b1a42083",
   "metadata": {},
   "source": [
    "4. Muestre información sobre los tipos de columna y los valores faltantes  "
   ]
  },
  {
   "cell_type": "code",
   "execution_count": null,
   "id": "58350550",
   "metadata": {},
   "outputs": [],
   "source": []
  },
  {
   "cell_type": "markdown",
   "id": "9670db9f",
   "metadata": {},
   "source": [
    "5. Muestre la cantidad de filas y columnas que posee el DataFrame."
   ]
  },
  {
   "cell_type": "code",
   "execution_count": null,
   "id": "44a089c5",
   "metadata": {},
   "outputs": [],
   "source": []
  },
  {
   "cell_type": "markdown",
   "id": "5c832db6",
   "metadata": {},
   "source": [
    "6. Imprima algunas estadísticas resumidas del DataFrame."
   ]
  },
  {
   "cell_type": "code",
   "execution_count": null,
   "id": "c49a8806",
   "metadata": {},
   "outputs": [],
   "source": []
  },
  {
   "cell_type": "markdown",
   "id": "f871e348",
   "metadata": {},
   "source": [
    "Siguiendo explorando nuestro DataFrame, es útil saber siempre que sea posible, analizar las columnas, índices y elementos de nuestro DataFrame. Para ello tenemos tres atributos:\n",
    "\n",
    "- `.values`: Nos devuelve un array de Numpy de dos dimensiones con los valores.\n",
    "- `.columns`: Un índice de columnas con los nombres de las columnas.\n",
    "- `.index`: Un índice de filas, ya sea números de fila o nombres de fila.\n",
    "\n",
    "Siguiendo con el mismo DataFrame del punto anterior (`homeless`):\n",
    "\n",
    "1. Imprima una matriz Numpy con los valores de `homeless`"
   ]
  },
  {
   "cell_type": "code",
   "execution_count": null,
   "id": "b19ce054",
   "metadata": {},
   "outputs": [],
   "source": []
  },
  {
   "cell_type": "markdown",
   "id": "2fa6907d",
   "metadata": {},
   "source": [
    "2. Imprima los nombres de la columna de `homeless`"
   ]
  },
  {
   "cell_type": "code",
   "execution_count": null,
   "id": "ee8d3da9",
   "metadata": {},
   "outputs": [],
   "source": []
  },
  {
   "cell_type": "markdown",
   "id": "f7737a0e",
   "metadata": {},
   "source": [
    "3. Imprima el índice de `homeless`"
   ]
  },
  {
   "cell_type": "code",
   "execution_count": null,
   "id": "a52fcbc3",
   "metadata": {},
   "outputs": [],
   "source": []
  },
  {
   "cell_type": "markdown",
   "id": "7c8106b0",
   "metadata": {},
   "source": [
    "---\n",
    "\n",
    "## Ordenando valores\n",
    "\n",
    "Una forma rápida de encontrar pedazos de datos interesantes en un DataFrame es reordenando el orden de las filas. En un DataFrame, se puede ordenar usando `.sort_values()`. En los casos en que las filas tengan el mismo valor, es posible que desee ordenar en más de una columna. Puede ordenar varias columnas de esta manera pasando una lista de nombres de columnas.\n",
    "\n",
    "| Ordenar usando... | Sintaxis  |\n",
    "|---|---|\n",
    "| una columna.   | `df.sort_values(\"sexo\")`   |\n",
    "| múltiples columnas.  | `df.sort_values([\"sexo\", \"peso\"])`  |\n",
    "\n",
    "`.sort_values()` por defecto ordena de menor a mayor (ascendente), pero es posible cambiarlo para que sea descendente, usando el parámetro opcional `ascending=False`.\n",
    "\n",
    "| Ordenar... | Sintaxis  |\n",
    "|---|---|\n",
    "| de menor a mayor.   | `df.sort_values(\"sexo\")`   |\n",
    "| de mayor a menor.  | `df.sort_values(\"sexo\", ascending=False)`  |\n",
    "| con múltiples columnas.  | `df.sort_values([\"sexo\", \"peso\"], ascending=[False, True])`  |\n",
    "\n",
    "Al combinar `.sort_values()` con `.head()`, podés responder preguntas del tipo \"¿Cuáles son los casos principales donde...?\".\n",
    "\n",
    "Siguiendo con el mismo DataFrame del punto anterior (`homeless`):\n",
    "\n",
    "1. Ordene `homeless` por el número de personas sin hogar inviduales (`individuals`), de menor a mayor, y guárdelo como `homelessness_ind`. "
   ]
  },
  {
   "cell_type": "code",
   "execution_count": null,
   "id": "81e97a0b",
   "metadata": {},
   "outputs": [],
   "source": [
    "___ = homeless.sort_values(___)"
   ]
  },
  {
   "cell_type": "markdown",
   "id": "3f5a6973",
   "metadata": {},
   "source": [
    "2. Imprima el encabezado del DataFrame ordenado."
   ]
  },
  {
   "cell_type": "code",
   "execution_count": null,
   "id": "e27040eb",
   "metadata": {},
   "outputs": [],
   "source": [
    "___.head()"
   ]
  },
  {
   "cell_type": "markdown",
   "id": "716e5116",
   "metadata": {},
   "source": [
    "3. Ordene `homeless` por el número de personas sin hogar con familias (`family_members`), de mayor a menor, y guárdelo como `homelessness_fam`. "
   ]
  },
  {
   "cell_type": "code",
   "execution_count": null,
   "id": "27488e48",
   "metadata": {},
   "outputs": [],
   "source": [
    "___ = homeless.sort_values(___, ascending=___)"
   ]
  },
  {
   "cell_type": "markdown",
   "id": "d8b1c055",
   "metadata": {},
   "source": [
    "4. Imprima el encabezado del DataFrame ordenado."
   ]
  },
  {
   "cell_type": "code",
   "execution_count": null,
   "id": "a203fd33",
   "metadata": {},
   "outputs": [],
   "source": []
  },
  {
   "cell_type": "markdown",
   "id": "1c21e5ad",
   "metadata": {},
   "source": [
    "Responda con estos puntos:\n",
    "\n",
    "1. ¿Qué estado posee menos personas sin hogar inviduales?\n",
    "2. ¿Cuál es el tercer  estado con más personas sin hogar con familias?\n",
    "\n",
    "---\n",
    "\n",
    "## Slicing de columnas \n",
    "\n",
    "Cuando trabaja con un dataset, es posible que no se necesiten todas las columnas. Los corchetes ([]) se pueden usar para seleccionar solo las columnas que interesan, además en un orden que tenga sentido. Para seleccionar solamente la columna `\"col_a\"` del DataFrame `df`, se debe usar:\n",
    "\n",
    "``` Python\n",
    "df[\"col_a\"]\n",
    "``` \n",
    "\n",
    "Para seleccionar `\"col_a\"` y `\"col_b\"` de `df`, usar\n",
    "\n",
    "``` Python\n",
    "df[[\"col_a\", \"col_b\"]]\n",
    "```\n",
    "\n",
    "Obsérvese, que si se cambia el orden de  `\"col_a\"` y `\"col_b\"` , el DataFrame va a mostrar las columnas en ese orden.\n",
    "\n",
    "Siguiendo con el mismo DataFrame del punto anterior (`homeless`):\n",
    "\n",
    "1. Cree un DataFrame llamado `individuals` que contiene solo la columna de `homeless` asociada a la medición de vagabundo inviduales sin discriminar genero (`individuals`)."
   ]
  },
  {
   "cell_type": "code",
   "execution_count": null,
   "id": "4f8b509b",
   "metadata": {},
   "outputs": [],
   "source": [
    "___ = homeless[[___]]"
   ]
  },
  {
   "cell_type": "markdown",
   "id": "a3e0f206",
   "metadata": {},
   "source": [
    "2. Muestre la cabecera del resultado."
   ]
  },
  {
   "cell_type": "code",
   "execution_count": null,
   "id": "1f1818db",
   "metadata": {},
   "outputs": [],
   "source": []
  },
  {
   "cell_type": "markdown",
   "id": "f0d88678",
   "metadata": {},
   "source": [
    "3. Cree un DataFrame llamado `state_fam` que contiene solo las columnas de `homeless`  con el nombre de estado (`state`) y el número de vagabundo con familia sin discriminar género (`family_members`)."
   ]
  },
  {
   "cell_type": "code",
   "execution_count": null,
   "id": "6109b016",
   "metadata": {},
   "outputs": [],
   "source": []
  },
  {
   "cell_type": "markdown",
   "id": "ff6147f8",
   "metadata": {},
   "source": [
    "4. Muestre la cabecera del resultado."
   ]
  },
  {
   "cell_type": "code",
   "execution_count": null,
   "id": "e127f84f",
   "metadata": {},
   "outputs": [],
   "source": []
  },
  {
   "cell_type": "markdown",
   "id": "de599de9",
   "metadata": {},
   "source": [
    "5. Cree un DataFrame llamado `ind_state_by_sex` que contenga a los estados (`state`), el número de vagabundos individuales que se identifican como mujer (`individuals female`)  y el número de vagabundos individuales que se identifican como hombres (`individuals male`). En ese orden."
   ]
  },
  {
   "cell_type": "code",
   "execution_count": null,
   "id": "667f3199",
   "metadata": {},
   "outputs": [],
   "source": []
  },
  {
   "cell_type": "markdown",
   "id": "fda4f6c8",
   "metadata": {},
   "source": [
    "6. Muestre la cabecera del resultado."
   ]
  },
  {
   "cell_type": "code",
   "execution_count": null,
   "id": "2a5b6100",
   "metadata": {},
   "outputs": [],
   "source": []
  },
  {
   "cell_type": "markdown",
   "id": "d12486aa",
   "metadata": {},
   "source": [
    "---\n",
    "\n",
    "## Filtros avanzados\n",
    "\n",
    "Una gran parte del trabajo en ciencias de datos es encontrar que partes de tu dataset son interesantes. Una de las técnicas más simples para esto es encontrar un subconjunto de filas que coincidan con algunos criterios.\n",
    "\n",
    "Hay muchas maneras de crear subconjuntos de un DataFrame, quizás la más común, tal como vimos en clase, es usar operadores relacionales para devolver `True` o `False` para cada fila, luego pasar eso entre corchetes:\n",
    "\n",
    "``` Python\n",
    "df[df[\"sexo\" == \"Female\"]]\n",
    "df[df[\"peso\" > 80]]\n",
    "``` \n",
    "\n",
    "Recordar también que se puede filtrar combinando los filtros con operadores bitwise:\n",
    "\n",
    "``` Python\n",
    "df[(df[\"sexo\" == \"Female\"]) & (df[\"peso\" > 80])]\n",
    "``` \n",
    "\n",
    "Siguiendo con el mismo DataFrame de los puntos anteriores (`homeless`):\n",
    "\n",
    "1. Filtre  `homeless` para los estados (`state`) en donde posee el numero número de vagabundos individuales (`individuals`) sea mayor a 5000, guardándolo en `ind_gt_5k`. Y muestre el resultado."
   ]
  },
  {
   "cell_type": "code",
   "execution_count": null,
   "id": "e6a87472",
   "metadata": {},
   "outputs": [],
   "source": [
    "ind_gt_5k = ___[___[\"individuals\"] > 5000]\n",
    "\n",
    "ind_gt_5k"
   ]
  },
  {
   "cell_type": "markdown",
   "id": "1640eb42",
   "metadata": {},
   "source": [
    "2. Filtre `homeless` en donde las región es `\"Mountain\"`, guardándolo en `mountain_reg`. Muestre el resultado."
   ]
  },
  {
   "cell_type": "code",
   "execution_count": null,
   "id": "e098f572",
   "metadata": {},
   "outputs": [],
   "source": []
  },
  {
   "cell_type": "markdown",
   "id": "c8b113d3",
   "metadata": {},
   "source": [
    "3. Filtre `homeless` para los estados en donde el número de personas sin hogar con familias se menor o igual a 1000 y que la región sea `“Pacific”`, asignelo a `fam_lt_1k_pac`. Muestre el resultado."
   ]
  },
  {
   "cell_type": "code",
   "execution_count": null,
   "id": "9f168842",
   "metadata": {},
   "outputs": [],
   "source": []
  },
  {
   "cell_type": "markdown",
   "id": "7fe0780e",
   "metadata": {},
   "source": [
    "---\n",
    "\n",
    "## Filtros más avanzados\n",
    "\n",
    "La creación de un subconjunto de datos basados en una variable categórica, en general implica utilizar el operador “or” (`|`) para seleccionar filas de varias categorias. Por ejemplo,\n",
    "\n",
    "``` Python\n",
    "df[(df[\"estado\" == \"soltero\"]) | (df[\"estado\" == \"divorciado\"])]\n",
    "```\n",
    "\n",
    "Esto puede volverse tedioso cuando se quiere filtrar multiples valores. En su lugar, se puede utilizar el método `.isin()`, que permite abordar este problema escribiendo una condición en lugar de tres separadas.\n",
    "\n",
    "``` Python\n",
    "estados_filtrados = [\"soltero\", \"divorciado\"]\n",
    "condition = df[\"estado\"].isin(estados_filtrados)\n",
    "df[condition]\n",
    "```\n",
    "\n",
    "Siguiendo con el mismo DataFrame de los puntos anteriores (`homeless`):\n",
    "\n",
    "1. Filtre  `homeless` para los casos en que la región es `\"South Atlantic\"` o es `\"Mid-Atlantic\"`, asignelo a `south_mid_atlantic`. Muestre el resultado."
   ]
  },
  {
   "cell_type": "code",
   "execution_count": null,
   "id": "db381626",
   "metadata": {},
   "outputs": [],
   "source": [
    "___ = homeless[homeless[___].isin([___, ___])]"
   ]
  },
  {
   "cell_type": "markdown",
   "id": "6da78917",
   "metadata": {},
   "source": [
    "2. Filtre  `homeless` para los casos para los estados que comparten el desierto Mojave, asignelo a `mojave_homelessness`. Muestre el resultado.\n",
    "\n",
    "Los estados que comparten el [desierto Mojave](https://en.wikipedia.org/wiki/Mojave_Desert) son Arizona, California, Nevada y Utah"
   ]
  },
  {
   "cell_type": "code",
   "execution_count": null,
   "id": "16cb8d87",
   "metadata": {},
   "outputs": [],
   "source": []
  },
  {
   "cell_type": "markdown",
   "id": "6a320d79",
   "metadata": {},
   "source": [
    "---\n",
    "\n",
    "## Transformaciones\n",
    "\n",
    "Uno no está atascado únicamente con los datos que provienen del Dataset. Se puede crear nuevas columnas, lo que llamamos como transformaciones o también ingeniería de características.\n",
    "\n",
    "Se pueden crear columnas desde cero, pero también, tal como vimos de clase, es común obtenerlas de otras columnas. \n",
    "\n",
    "Siguiendo con el mismo DataFrame de los puntos anteriores (`homeless`),\n",
    "\n",
    "1. Agregue una nueva columna a `homeless`, llamada `\"total\"`, que contenga la suma de `\"individuals\"` y `\"family_members\"`."
   ]
  },
  {
   "cell_type": "code",
   "execution_count": null,
   "id": "62e5cd3d",
   "metadata": {},
   "outputs": [],
   "source": [
    "homeless[\"total\"] = homeless[___] + ___"
   ]
  },
  {
   "cell_type": "markdown",
   "id": "8788fb26",
   "metadata": {},
   "source": [
    "2. Agregue otra columna a `homeless`, llamada `p_female`, que contiene la proporción de  personas sin hogar individuales en cada estado que son mujeres. "
   ]
  },
  {
   "cell_type": "code",
   "execution_count": null,
   "id": "1be28ff3",
   "metadata": {},
   "outputs": [],
   "source": [
    "___ = homeless[___] / homeless[\"individuals\"]"
   ]
  },
  {
   "cell_type": "markdown",
   "id": "6c69568b",
   "metadata": {},
   "source": [
    "3. Agregue una columna a `homeless`, llamada `\"family_members non binary\"` con el número de personas sin hogar con familia que no se definen como male o female."
   ]
  },
  {
   "cell_type": "code",
   "execution_count": null,
   "id": "b0874fbd",
   "metadata": {},
   "outputs": [],
   "source": []
  },
  {
   "cell_type": "markdown",
   "id": "74b6105d",
   "metadata": {},
   "source": [
    "---\n",
    "\n",
    "## Combinando lo aprendido\n",
    "\n",
    "Usando las herramientas que se han usado hasta ahora, responda la siguiente pregunta \n",
    "\n",
    "¿Qué estado tiene el mayor número de personas sin hogar individuales por cada 10.000 personas en el estado?\n",
    "\n",
    "Pistas:\n",
    "\n",
    "- Agregue a `homeless` una columna llamada `\"indiv_per_10k\"` conteniendo el número de personas sin hogar individuales dividido la población del estado. Multiplique esta division por `10000`.\n",
    "- Filtre las filas en donde `\"indiv_per_10k\"` es mayor a `10`, asignalo a `homelessness_high`.\n",
    "- Ordene `homelessness_high` de forma descendente usando la columna `\"indiv_per_10k\"`. asignalo a `homelessness_high_sorted`.\n",
    "- Seleccione únicamente la columna `state` e `indiv_per_10k` de `homelessness_high_sorted` y asignalo a `result`.\n",
    "- Imprima `result`."
   ]
  },
  {
   "cell_type": "code",
   "execution_count": null,
   "id": "2d349862",
   "metadata": {},
   "outputs": [],
   "source": [
    "homeless[___] = (homeless[___] / homeless[___]) * 10000\n",
    "\n",
    "___ = homeless[homeless[___] > 10]\n",
    "\n",
    "___ = ___.sort_values(___, ascending=___)\n",
    "\n",
    "result = ___[[\"state\", ___]]\n",
    "\n",
    "# Mostramos el resultado\n",
    "result"
   ]
  }
 ],
 "metadata": {
  "kernelspec": {
   "display_name": "Python 3 (ipykernel)",
   "language": "python",
   "name": "python3"
  },
  "language_info": {
   "codemirror_mode": {
    "name": "ipython",
    "version": 3
   },
   "file_extension": ".py",
   "mimetype": "text/x-python",
   "name": "python",
   "nbconvert_exporter": "python",
   "pygments_lexer": "ipython3",
   "version": "3.9.13"
  }
 },
 "nbformat": 4,
 "nbformat_minor": 5
}
