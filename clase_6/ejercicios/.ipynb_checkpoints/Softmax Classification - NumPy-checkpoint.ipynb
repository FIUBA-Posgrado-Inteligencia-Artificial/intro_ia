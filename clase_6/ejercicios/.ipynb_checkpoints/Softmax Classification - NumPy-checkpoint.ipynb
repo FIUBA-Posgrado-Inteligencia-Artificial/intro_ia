{
 "cells": [
  {
   "cell_type": "markdown",
   "metadata": {},
   "source": [
    "# Softmax Classification - NumPy"
   ]
  },
  {
   "cell_type": "markdown",
   "metadata": {},
   "source": [
    "El objetivo de éste ejercicio implementar el modelo de clasificación con softmax y testear sobre un dataset de evaluación."
   ]
  },
  {
   "cell_type": "markdown",
   "metadata": {},
   "source": [
    "## Cargamos las Librerías"
   ]
  },
  {
   "cell_type": "code",
   "execution_count": 16,
   "metadata": {},
   "outputs": [],
   "source": [
    "import numpy as np\n",
    "import time\n",
    "import matplotlib.pyplot as plt\n",
    "import itertools\n",
    "from sklearn.datasets import make_classification\n",
    "from sklearn.model_selection import train_test_split\n",
    "import pandas as pd\n",
    "import random"
   ]
  },
  {
   "cell_type": "code",
   "execution_count": 2,
   "metadata": {},
   "outputs": [],
   "source": [
    "import sys  \n",
    "sys.path.insert(0, 'C:/Users/Lautaro/PycharmProjects/ceia_intro_a_IA/clase_3/ejercicios/src')"
   ]
  },
  {
   "cell_type": "code",
   "execution_count": 3,
   "metadata": {},
   "outputs": [],
   "source": [
    "from models import BaseModel\n",
    "from metrics import Accuracy, Precision, Recall"
   ]
  },
  {
   "cell_type": "markdown",
   "metadata": {},
   "source": [
    "## Implementación de Building Blocks del Modelo"
   ]
  },
  {
   "cell_type": "markdown",
   "metadata": {},
   "source": [
    "A continuación, se deberán implementar paso a paso los distintos bloques de código que conforman el modelo, junto con algunas funciones auxiliares."
   ]
  },
  {
   "cell_type": "markdown",
   "metadata": {},
   "source": [
    "### One Hot Encoder de Etiquetas"
   ]
  },
  {
   "cell_type": "markdown",
   "metadata": {},
   "source": [
    "Las clases de y las debemos convertir a un vector one-hot encoded para poder utilizar softmax. Recuerden de la teoría que lo que vamos a generar es un vector con probabilidades."
   ]
  },
  {
   "cell_type": "code",
   "execution_count": 4,
   "metadata": {},
   "outputs": [],
   "source": [
    "def one_hot_digit(y):\n",
    "    \n",
    "    \"\"\"\n",
    "    shapes:\n",
    "        y     --> nx1 \n",
    "        y_hot --> nxc\n",
    "        c = cantidad de clases    \n",
    "    \"\"\"    \n",
    "    c = np.unique(y).shape[0]\n",
    "    \n",
    "    # matriz de ceros de nxc\n",
    "    y_hot = np.zeros((len(y), c))\n",
    "    \n",
    "    # indexamos con el valor de y (0,1,...,9) y colocamos un 1\n",
    "    y_hot[np.arange(len(y)), y] = 1\n",
    "    \n",
    "    return y_hot"
   ]
  },
  {
   "cell_type": "markdown",
   "metadata": {},
   "source": [
    "## Clase Softmax"
   ]
  },
  {
   "cell_type": "markdown",
   "metadata": {},
   "source": [
    "Vamos a armar una clase Softmax que herede de BaseModel y tenga la siguiente estructura:"
   ]
  },
  {
   "cell_type": "code",
   "execution_count": 5,
   "metadata": {},
   "outputs": [],
   "source": [
    "class Softmax(BaseModel):\n",
    "\n",
    "    def fit(self, X, y, epochs, lr, batchSize, alpha, momentum, verbose=True, log=50):\n",
    "        \n",
    "        \"\"\"\n",
    "        shapes:\n",
    "            X ==> n*m\n",
    "            y ==> n*c\n",
    "            W ==> m*c\n",
    "        \"\"\"\n",
    "        \n",
    "        # inicializamos aleatoriamente los pesos\n",
    "\n",
    "        n = X.shape[0] # numero de muestras\n",
    "        m = X.shape[1] # numero de features\n",
    "        c = np.unique(y).shape[0] # numero de clases\n",
    "\n",
    "        self.model = 0.001 * np.random.rand(m, c)\n",
    "        \n",
    "        # Inicializamos el término de velocidad (comprende el momento + gradiente de epoch)\n",
    "        self.velocity = np.zeros_like(self.model)\n",
    "        \n",
    "        y_hot = self.OneHotEncoding(y)\n",
    "        \n",
    "        train_loss = []\n",
    "\n",
    "        for i in range(epochs):\n",
    "            loss = self.MiniBatchGD(X, y_hot, lr, batchSize, alpha, momentum)\n",
    "            train_loss.append(loss)\n",
    "        \n",
    "            if verbose:\n",
    "                if i%log==0:\n",
    "                    print(\"Epoch: {}, Loss: {}\".format(i, loss))\n",
    "\n",
    "        return train_loss\n",
    "\n",
    "    def MiniBatchGD(self, X, y, lr, batchSize, alpha, momentum):\n",
    "        \n",
    "        losses = []\n",
    "        \n",
    "        # Hcemos un shuffle de los datos\n",
    "        idx = random.sample(range(X.shape[0]), X.shape[0])\n",
    "        X = X[idx]\n",
    "        y = y[idx]\n",
    "        \n",
    "        for i in range(0, X.shape[0], batchSize):\n",
    "            batch_X = X[i:i+batchSize]\n",
    "            batch_y = y[i:i+batchSize]\n",
    "            \n",
    "            loss, dw = self.computeLoss(batch_X, batch_y, alpha)\n",
    "            \n",
    "            self.velocity = (momentum * self.velocity) + (lr * dw)\n",
    "            \n",
    "            self.model -= self.velocity\n",
    "            \n",
    "            losses.append(loss)\n",
    "        \n",
    "        return np.mean(losses)\n",
    "    \n",
    "    def softmaxEquation(self, z):\n",
    "        \n",
    "        # Restamos el máximos por estabilidad numérica\n",
    "        z -= np.max(z)\n",
    "        \n",
    "        prob = (np.exp(z).T / np.sum(np.exp(z), axis=1)).T\n",
    "        \n",
    "        return prob\n",
    "    \n",
    "\n",
    "    def computeLoss(self, X, y, alpha):\n",
    "        \n",
    "        n = X.shape[0]\n",
    "        \n",
    "        # Calculamos el linear mapping y las predicciones con softmax\n",
    "        z = np.dot(X, self.model)\n",
    "        predictions = self.softmaxEquation(z)\n",
    "\n",
    "        # Calculamos el loss total (modelo + regularización)\n",
    "        loss = -np.log(np.max(predictions)) * y\n",
    "        reg_loss = (1/2) * alpha * np.sum(self.model * self.model)\n",
    "        total_loss = (np.sum(loss) / n) + reg_loss\n",
    "        \n",
    "        # Calculamos el gradiente\n",
    "        gradient = ((-1 / n) * np.dot(X.T, (y - predictions))) + (alpha * self.model)\n",
    "        \n",
    "        return total_loss, gradient\n",
    "\n",
    "    \n",
    "    def OneHotEncoding(self, y):\n",
    "        \n",
    "        \"\"\"\n",
    "        shapes:\n",
    "            y     --> nx1 \n",
    "            y_hot --> nxc\n",
    "            c = cantidad de clases    \n",
    "        \"\"\"    \n",
    "        c = np.unique(y).shape[0]\n",
    "\n",
    "        # matriz de ceros de nxc\n",
    "        y_hot = np.zeros((len(y), c))\n",
    "\n",
    "        # indexamos con el valor de y (0,1,...,9) y colocamos un 1\n",
    "        y_hot[np.arange(len(y)), y] = 1\n",
    "\n",
    "        return y_hot\n",
    "    \n",
    "\n",
    "    def predict(self, X):\n",
    "        return np.argmax(X.dot(self.model), axis=1)\n",
    "\n"
   ]
  },
  {
   "cell_type": "markdown",
   "metadata": {},
   "source": [
    "## Testar con Datasets sintéticos"
   ]
  },
  {
   "cell_type": "markdown",
   "metadata": {},
   "source": [
    "La librería Scikit-Learn tiene una función make_classification que nos permite armar datasets de prueba para problemas de clasificación. Prueben con datasets que tengan varios clusters por clase, que tengan menor o mayor separación y calculen las métricas en cada caso."
   ]
  },
  {
   "cell_type": "code",
   "execution_count": 6,
   "metadata": {},
   "outputs": [],
   "source": [
    "n_features = 10\n",
    "n_redundant = 0\n",
    "n_informative = 10\n",
    "random_state = 1\n",
    "n_clusters_per_class = 1\n",
    "n_classes = 6\n",
    "n_samples = 10000\n",
    "flip_y = 0.01\n",
    "class_sep = 1"
   ]
  },
  {
   "cell_type": "code",
   "execution_count": 7,
   "metadata": {},
   "outputs": [],
   "source": [
    "X, y = make_classification(n_features=n_features, n_redundant=n_redundant, n_informative=n_informative, \n",
    "                           random_state=random_state, n_clusters_per_class=n_clusters_per_class, n_classes=n_classes,\n",
    "                           n_samples=n_samples, flip_y=flip_y, class_sep=class_sep)"
   ]
  },
  {
   "cell_type": "code",
   "execution_count": 8,
   "metadata": {},
   "outputs": [
    {
     "data": {
      "text/plain": [
       "(10000, 10)"
      ]
     },
     "execution_count": 8,
     "metadata": {},
     "output_type": "execute_result"
    }
   ],
   "source": [
    "X.shape"
   ]
  },
  {
   "cell_type": "code",
   "execution_count": 9,
   "metadata": {},
   "outputs": [
    {
     "data": {
      "text/plain": [
       "(10000,)"
      ]
     },
     "execution_count": 9,
     "metadata": {},
     "output_type": "execute_result"
    }
   ],
   "source": [
    "y.shape"
   ]
  },
  {
   "cell_type": "code",
   "execution_count": 11,
   "metadata": {},
   "outputs": [
    {
     "data": {
      "text/html": [
       "<div>\n",
       "<style scoped>\n",
       "    .dataframe tbody tr th:only-of-type {\n",
       "        vertical-align: middle;\n",
       "    }\n",
       "\n",
       "    .dataframe tbody tr th {\n",
       "        vertical-align: top;\n",
       "    }\n",
       "\n",
       "    .dataframe thead th {\n",
       "        text-align: right;\n",
       "    }\n",
       "</style>\n",
       "<table border=\"1\" class=\"dataframe\">\n",
       "  <thead>\n",
       "    <tr style=\"text-align: right;\">\n",
       "      <th></th>\n",
       "      <th>0</th>\n",
       "      <th>1</th>\n",
       "      <th>2</th>\n",
       "      <th>3</th>\n",
       "      <th>4</th>\n",
       "      <th>5</th>\n",
       "      <th>6</th>\n",
       "      <th>7</th>\n",
       "      <th>8</th>\n",
       "      <th>9</th>\n",
       "    </tr>\n",
       "  </thead>\n",
       "  <tbody>\n",
       "    <tr>\n",
       "      <th>0</th>\n",
       "      <td>2.717804</td>\n",
       "      <td>5.843112</td>\n",
       "      <td>2.320623</td>\n",
       "      <td>4.870722</td>\n",
       "      <td>3.444353</td>\n",
       "      <td>-2.529634</td>\n",
       "      <td>-0.375060</td>\n",
       "      <td>1.575589</td>\n",
       "      <td>0.336004</td>\n",
       "      <td>1.232973</td>\n",
       "    </tr>\n",
       "    <tr>\n",
       "      <th>1</th>\n",
       "      <td>0.892027</td>\n",
       "      <td>0.600819</td>\n",
       "      <td>1.911763</td>\n",
       "      <td>0.514873</td>\n",
       "      <td>1.709493</td>\n",
       "      <td>1.614072</td>\n",
       "      <td>-0.169324</td>\n",
       "      <td>1.652966</td>\n",
       "      <td>0.965931</td>\n",
       "      <td>2.500725</td>\n",
       "    </tr>\n",
       "    <tr>\n",
       "      <th>2</th>\n",
       "      <td>-1.273053</td>\n",
       "      <td>3.202645</td>\n",
       "      <td>-0.618112</td>\n",
       "      <td>6.627380</td>\n",
       "      <td>-2.464550</td>\n",
       "      <td>0.189068</td>\n",
       "      <td>0.528203</td>\n",
       "      <td>-0.928756</td>\n",
       "      <td>-3.241525</td>\n",
       "      <td>-2.423403</td>\n",
       "    </tr>\n",
       "    <tr>\n",
       "      <th>3</th>\n",
       "      <td>0.820273</td>\n",
       "      <td>-1.799763</td>\n",
       "      <td>1.644507</td>\n",
       "      <td>1.063922</td>\n",
       "      <td>-0.681537</td>\n",
       "      <td>-2.671318</td>\n",
       "      <td>0.514767</td>\n",
       "      <td>-0.045881</td>\n",
       "      <td>2.352562</td>\n",
       "      <td>1.476881</td>\n",
       "    </tr>\n",
       "    <tr>\n",
       "      <th>4</th>\n",
       "      <td>3.726465</td>\n",
       "      <td>2.113760</td>\n",
       "      <td>1.110222</td>\n",
       "      <td>-0.333296</td>\n",
       "      <td>0.980864</td>\n",
       "      <td>4.440549</td>\n",
       "      <td>0.404455</td>\n",
       "      <td>-0.323214</td>\n",
       "      <td>1.342029</td>\n",
       "      <td>3.142019</td>\n",
       "    </tr>\n",
       "  </tbody>\n",
       "</table>\n",
       "</div>"
      ],
      "text/plain": [
       "          0         1         2         3         4         5         6  \\\n",
       "0  2.717804  5.843112  2.320623  4.870722  3.444353 -2.529634 -0.375060   \n",
       "1  0.892027  0.600819  1.911763  0.514873  1.709493  1.614072 -0.169324   \n",
       "2 -1.273053  3.202645 -0.618112  6.627380 -2.464550  0.189068  0.528203   \n",
       "3  0.820273 -1.799763  1.644507  1.063922 -0.681537 -2.671318  0.514767   \n",
       "4  3.726465  2.113760  1.110222 -0.333296  0.980864  4.440549  0.404455   \n",
       "\n",
       "          7         8         9  \n",
       "0  1.575589  0.336004  1.232973  \n",
       "1  1.652966  0.965931  2.500725  \n",
       "2 -0.928756 -3.241525 -2.423403  \n",
       "3 -0.045881  2.352562  1.476881  \n",
       "4 -0.323214  1.342029  3.142019  "
      ]
     },
     "execution_count": 11,
     "metadata": {},
     "output_type": "execute_result"
    }
   ],
   "source": [
    "df = pd.DataFrame(data = X, columns=[i for i in range(10)])\n",
    "df.head(5)"
   ]
  },
  {
   "cell_type": "code",
   "execution_count": 12,
   "metadata": {},
   "outputs": [
    {
     "data": {
      "text/html": [
       "<div>\n",
       "<style scoped>\n",
       "    .dataframe tbody tr th:only-of-type {\n",
       "        vertical-align: middle;\n",
       "    }\n",
       "\n",
       "    .dataframe tbody tr th {\n",
       "        vertical-align: top;\n",
       "    }\n",
       "\n",
       "    .dataframe thead th {\n",
       "        text-align: right;\n",
       "    }\n",
       "</style>\n",
       "<table border=\"1\" class=\"dataframe\">\n",
       "  <thead>\n",
       "    <tr style=\"text-align: right;\">\n",
       "      <th></th>\n",
       "      <th>0</th>\n",
       "      <th>1</th>\n",
       "      <th>2</th>\n",
       "      <th>3</th>\n",
       "      <th>4</th>\n",
       "      <th>5</th>\n",
       "      <th>6</th>\n",
       "      <th>7</th>\n",
       "      <th>8</th>\n",
       "      <th>9</th>\n",
       "    </tr>\n",
       "  </thead>\n",
       "  <tbody>\n",
       "    <tr>\n",
       "      <th>count</th>\n",
       "      <td>10000.000000</td>\n",
       "      <td>10000.000000</td>\n",
       "      <td>10000.000000</td>\n",
       "      <td>10000.000000</td>\n",
       "      <td>10000.000000</td>\n",
       "      <td>10000.000000</td>\n",
       "      <td>10000.000000</td>\n",
       "      <td>10000.000000</td>\n",
       "      <td>10000.000000</td>\n",
       "      <td>10000.000000</td>\n",
       "    </tr>\n",
       "    <tr>\n",
       "      <th>mean</th>\n",
       "      <td>0.020280</td>\n",
       "      <td>-0.312460</td>\n",
       "      <td>0.375077</td>\n",
       "      <td>0.696194</td>\n",
       "      <td>-0.005962</td>\n",
       "      <td>0.003607</td>\n",
       "      <td>-0.300511</td>\n",
       "      <td>0.033723</td>\n",
       "      <td>-0.678388</td>\n",
       "      <td>0.316020</td>\n",
       "    </tr>\n",
       "    <tr>\n",
       "      <th>std</th>\n",
       "      <td>2.126476</td>\n",
       "      <td>2.035050</td>\n",
       "      <td>1.964896</td>\n",
       "      <td>2.103055</td>\n",
       "      <td>2.156078</td>\n",
       "      <td>1.957729</td>\n",
       "      <td>2.044957</td>\n",
       "      <td>2.065136</td>\n",
       "      <td>2.108230</td>\n",
       "      <td>2.108645</td>\n",
       "    </tr>\n",
       "    <tr>\n",
       "      <th>min</th>\n",
       "      <td>-8.207477</td>\n",
       "      <td>-9.036623</td>\n",
       "      <td>-7.455172</td>\n",
       "      <td>-8.793357</td>\n",
       "      <td>-8.696051</td>\n",
       "      <td>-7.414780</td>\n",
       "      <td>-7.628435</td>\n",
       "      <td>-7.745386</td>\n",
       "      <td>-8.422695</td>\n",
       "      <td>-7.801246</td>\n",
       "    </tr>\n",
       "    <tr>\n",
       "      <th>25%</th>\n",
       "      <td>-1.400985</td>\n",
       "      <td>-1.661336</td>\n",
       "      <td>-0.853751</td>\n",
       "      <td>-0.614591</td>\n",
       "      <td>-1.454599</td>\n",
       "      <td>-1.344204</td>\n",
       "      <td>-1.702615</td>\n",
       "      <td>-1.381432</td>\n",
       "      <td>-2.066973</td>\n",
       "      <td>-1.124017</td>\n",
       "    </tr>\n",
       "    <tr>\n",
       "      <th>50%</th>\n",
       "      <td>-0.026353</td>\n",
       "      <td>-0.331692</td>\n",
       "      <td>0.480335</td>\n",
       "      <td>0.762413</td>\n",
       "      <td>0.058529</td>\n",
       "      <td>-0.076066</td>\n",
       "      <td>-0.291545</td>\n",
       "      <td>0.035073</td>\n",
       "      <td>-0.652037</td>\n",
       "      <td>0.325573</td>\n",
       "    </tr>\n",
       "    <tr>\n",
       "      <th>75%</th>\n",
       "      <td>1.441888</td>\n",
       "      <td>1.031311</td>\n",
       "      <td>1.692462</td>\n",
       "      <td>2.089512</td>\n",
       "      <td>1.478395</td>\n",
       "      <td>1.276068</td>\n",
       "      <td>1.100039</td>\n",
       "      <td>1.402286</td>\n",
       "      <td>0.750890</td>\n",
       "      <td>1.746482</td>\n",
       "    </tr>\n",
       "    <tr>\n",
       "      <th>max</th>\n",
       "      <td>8.323284</td>\n",
       "      <td>7.282033</td>\n",
       "      <td>7.154305</td>\n",
       "      <td>8.736518</td>\n",
       "      <td>9.613876</td>\n",
       "      <td>7.227577</td>\n",
       "      <td>6.373683</td>\n",
       "      <td>8.094221</td>\n",
       "      <td>8.522935</td>\n",
       "      <td>8.554476</td>\n",
       "    </tr>\n",
       "  </tbody>\n",
       "</table>\n",
       "</div>"
      ],
      "text/plain": [
       "                  0             1             2             3             4  \\\n",
       "count  10000.000000  10000.000000  10000.000000  10000.000000  10000.000000   \n",
       "mean       0.020280     -0.312460      0.375077      0.696194     -0.005962   \n",
       "std        2.126476      2.035050      1.964896      2.103055      2.156078   \n",
       "min       -8.207477     -9.036623     -7.455172     -8.793357     -8.696051   \n",
       "25%       -1.400985     -1.661336     -0.853751     -0.614591     -1.454599   \n",
       "50%       -0.026353     -0.331692      0.480335      0.762413      0.058529   \n",
       "75%        1.441888      1.031311      1.692462      2.089512      1.478395   \n",
       "max        8.323284      7.282033      7.154305      8.736518      9.613876   \n",
       "\n",
       "                  5             6             7             8             9  \n",
       "count  10000.000000  10000.000000  10000.000000  10000.000000  10000.000000  \n",
       "mean       0.003607     -0.300511      0.033723     -0.678388      0.316020  \n",
       "std        1.957729      2.044957      2.065136      2.108230      2.108645  \n",
       "min       -7.414780     -7.628435     -7.745386     -8.422695     -7.801246  \n",
       "25%       -1.344204     -1.702615     -1.381432     -2.066973     -1.124017  \n",
       "50%       -0.076066     -0.291545      0.035073     -0.652037      0.325573  \n",
       "75%        1.276068      1.100039      1.402286      0.750890      1.746482  \n",
       "max        7.227577      6.373683      8.094221      8.522935      8.554476  "
      ]
     },
     "execution_count": 12,
     "metadata": {},
     "output_type": "execute_result"
    }
   ],
   "source": [
    "df.describe()"
   ]
  },
  {
   "cell_type": "code",
   "execution_count": 13,
   "metadata": {},
   "outputs": [],
   "source": [
    "X_train, X_test, y_train, y_test = train_test_split(X, y, test_size=0.2, shuffle=True)"
   ]
  },
  {
   "cell_type": "code",
   "execution_count": 18,
   "metadata": {},
   "outputs": [],
   "source": [
    "# Seleccionar hiperparámetros\n",
    "\n",
    "lr = 0.01\n",
    "batchSize = 10\n",
    "epochs = 1000\n",
    "alpha = 0.001\n",
    "momentum = 0.05"
   ]
  },
  {
   "cell_type": "code",
   "execution_count": 19,
   "metadata": {},
   "outputs": [
    {
     "name": "stdout",
     "output_type": "stream",
     "text": [
      "Epoch: 0, Loss: 0.28038467915566084\n",
      "Epoch: 50, Loss: 0.05127571082580553\n",
      "Epoch: 100, Loss: 0.050295336407179925\n",
      "Epoch: 150, Loss: 0.049916875754590126\n",
      "Epoch: 200, Loss: 0.05019583527552623\n",
      "Epoch: 250, Loss: 0.0487121796349922\n",
      "Epoch: 300, Loss: 0.04787684615997202\n",
      "Epoch: 350, Loss: 0.04836356952641085\n",
      "Epoch: 400, Loss: 0.04936422108633268\n",
      "Epoch: 450, Loss: 0.052421721226247865\n",
      "Epoch: 500, Loss: 0.04866972242720918\n",
      "Epoch: 550, Loss: 0.05085318141629488\n",
      "Epoch: 600, Loss: 0.048589856193369266\n",
      "Epoch: 650, Loss: 0.051250238101233185\n",
      "Epoch: 700, Loss: 0.050187439477818716\n",
      "Epoch: 750, Loss: 0.0487240355853866\n",
      "Epoch: 800, Loss: 0.05123855615945188\n",
      "Epoch: 850, Loss: 0.05233690204080741\n",
      "Epoch: 900, Loss: 0.04765526736998006\n",
      "Epoch: 950, Loss: 0.0500666428810129\n"
     ]
    }
   ],
   "source": [
    "softmax_clf = Softmax()\n",
    "\n",
    "train_loss = softmax_clf.fit(X_train, y_train, epochs=epochs, lr=lr, batchSize=batchSize, alpha=alpha, momentum=momentum)"
   ]
  },
  {
   "cell_type": "code",
   "execution_count": 20,
   "metadata": {},
   "outputs": [
    {
     "data": {
      "text/plain": [
       "Text(0, 0.5, 'Cross Entropy Loss')"
      ]
     },
     "execution_count": 20,
     "metadata": {},
     "output_type": "execute_result"
    },
    {
     "data": {
      "image/png": "[encoded data removed]",
      "text/plain": [
       "<Figure size 432x288 with 1 Axes>"
      ]
     },
     "metadata": {
      "needs_background": "light"
     },
     "output_type": "display_data"
    }
   ],
   "source": [
    "# Graficamos el error de entrenamiento\n",
    "\n",
    "plt.plot(train_loss, label=\"Train Loss\")\n",
    "plt.legend(loc='best')\n",
    "plt.title(\"Cross Entropy Loss vs. Epoch\")\n",
    "plt.xlabel(\"Epoch\")\n",
    "plt.ylabel(\"Cross Entropy Loss\")"
   ]
  },
  {
   "cell_type": "code",
   "execution_count": 21,
   "metadata": {},
   "outputs": [],
   "source": [
    "predictions = softmax_clf.predict(X_test)"
   ]
  },
  {
   "cell_type": "code",
   "execution_count": 22,
   "metadata": {},
   "outputs": [],
   "source": [
    "Acc = Accuracy()"
   ]
  },
  {
   "cell_type": "code",
   "execution_count": 23,
   "metadata": {},
   "outputs": [
    {
     "data": {
      "text/plain": [
       "0.7565"
      ]
     },
     "execution_count": 23,
     "metadata": {},
     "output_type": "execute_result"
    }
   ],
   "source": [
    "Acc(y_test, predictions)"
   ]
  },
  {
   "cell_type": "markdown",
   "metadata": {},
   "source": [
    "### Graficamos la matriz de confusión"
   ]
  },
  {
   "cell_type": "code",
   "execution_count": 24,
   "metadata": {},
   "outputs": [],
   "source": [
    "def getConfusionMatrix(truth, prediction, c):\n",
    "\n",
    "    conf_mtx =[]\n",
    "    \n",
    "    for _ in range(c):\n",
    "        conf_mtx.append([])\n",
    "        for _ in range(c):\n",
    "            conf_mtx[-1].append(0)\n",
    "\n",
    "    for i in range(truth.shape[0]):\n",
    "        conf_mtx[int(truth[i])][int(prediction[i])] += 1\n",
    "    \n",
    "    conf_mtx = np.array(conf_mtx)\n",
    "    \n",
    "    conf_mtx = conf_mtx.astype('float') / conf_mtx.sum(axis=1)[:, np.newaxis]\n",
    "    \n",
    "    return conf_mtx"
   ]
  },
  {
   "cell_type": "code",
   "execution_count": 25,
   "metadata": {},
   "outputs": [],
   "source": [
    "def plotConfusionMatrix(conf_mtx):    \n",
    "    plt.imshow(conf_mtx, interpolation='nearest', cmap=plt.cm.Blues)\n",
    "    plt.title(\"Confusion Matrix\")\n",
    "    plt.colorbar()\n",
    "\n",
    "    tick_marks = np.arange(6)\n",
    "    plt.xticks(tick_marks, np.arange(6) , rotation=45)\n",
    "    plt.yticks(tick_marks, np.arange(6))\n",
    "\n",
    "    fmt = '.2f'\n",
    "    thresh = conf_mtx.max() / 2.\n",
    "\n",
    "    for i, j in itertools.product(range(conf_mtx.shape[0]), range(conf_mtx.shape[1])):\n",
    "        plt.text(j, i, format(conf_mtx[i, j], fmt),\n",
    "                 horizontalalignment=\"center\",\n",
    "                 color=\"white\" if conf_mtx[i, j] > thresh else \"black\")\n",
    "\n",
    "        plt.tight_layout()\n",
    "        plt.ylabel('True label')\n",
    "        plt.xlabel('Predicted label')"
   ]
  },
  {
   "cell_type": "code",
   "execution_count": 26,
   "metadata": {},
   "outputs": [],
   "source": [
    "conf_mtx = getConfusionMatrix(y_test, predictions, 6)"
   ]
  },
  {
   "cell_type": "code",
   "execution_count": 27,
   "metadata": {},
   "outputs": [
    {
     "data": {
      "image/png": "[encoded data removed]",
      "text/plain": [
       "<Figure size 432x288 with 2 Axes>"
      ]
     },
     "metadata": {
      "needs_background": "light"
     },
     "output_type": "display_data"
    }
   ],
   "source": [
    "plotConfusionMatrix(conf_mtx)"
   ]
  }
 ],
 "metadata": {
  "kernelspec": {
   "display_name": "Python 3",
   "language": "python",
   "name": "python3"
  },
  "language_info": {
   "codemirror_mode": {
    "name": "ipython",
    "version": 3
   },
   "file_extension": ".py",
   "mimetype": "text/x-python",
   "name": "python",
   "nbconvert_exporter": "python",
   "pygments_lexer": "ipython3",
   "version": "3.8.3"
  }
 },
 "nbformat": 4,
 "nbformat_minor": 4
}
