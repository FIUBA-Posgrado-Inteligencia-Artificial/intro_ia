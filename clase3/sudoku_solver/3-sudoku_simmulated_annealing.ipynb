{
 "cells": [
  {
   "cell_type": "code",
   "execution_count": 1,
   "id": "initial_id",
   "metadata": {
    "jupyter": {
     "is_executing": true
    }
   },
   "outputs": [],
   "source": [
    "import numpy as np\n",
    "\n",
    "from sudoku_stuff import *"
   ]
  },
  {
   "cell_type": "markdown",
   "id": "b8bafd0acf580cb1",
   "metadata": {
    "collapsed": false,
    "jupyter": {
     "outputs_hidden": false
    }
   },
   "source": [
    "# Resolviendo Sudokus con Simulated Annealing\n",
    "Inteligencia Artificial - Facundo A. Lucianna - CEIA - FIUBA\n",
    "\n",
    "En la notebook anterior, intentamos resolver sudokus utilizando el algoritmo de gradiente descendente. Observamos que, aunque el algoritmo encontraba la solución, era necesario realizar muchas iteraciones para obtener buenos resultados.\n",
    "\n",
    "Ahora veamos si podemos resolverlo usando **Simulated Annealing**. La idea es que el algoritmo, en general, se dirija hacia un estado de menor energía, pero ocasionalmente permita movimientos aleatorios en la dirección contraria. De esta manera, busca escapar de los mínimos locales. La clave es \"sacudir\" el sistema para salir de un mínimo local sin alejarse demasiado, de modo que podamos llegar al mínimo global.\n",
    "\n",
    "Resolvamos este problema:\n",
    "\n",
    "<div>\n",
    "<img src=\"./sudoku_7.png\" width=\"300\"/>\n",
    "</div>\n",
    "\n",
    "El diccionario de **celdas fijas** quedaría de la siguiente forma:"
   ]
  },
  {
   "cell_type": "code",
   "execution_count": 2,
   "id": "8a83eafb-55a6-44b2-8aac-eecb5c0eeeaa",
   "metadata": {},
   "outputs": [],
   "source": [
    "fixed_squares = {\n",
    "    'A1': 3, 'A3': 4, 'A4': 5, 'A5': 6, 'A7': 9,\n",
    "    'B1': 1, 'B2': 8, 'B3': 5, 'B6': 9, 'B7': 7,\n",
    "    'C5': 7, 'C6': 8, 'C7': 4, 'C8': 1, 'C9': 5,\n",
    "    'D2': 2, 'D5': 1, 'D8': 4, 'D9': 9,\n",
    "    'E2': 4, 'E3': 9, 'E5': 5, \n",
    "    'F3': 1, \"F4\": 9, \"F5\": 8, \"F7\": 6, \"F8\": 7,\n",
    "    'G1': 4, 'G2': 9, 'G5': 3, 'G9': 7, \n",
    "    'H2': 1, 'H3': 8, 'H4': 7, 'H5': 4, 'H6': 5, 'H9': 6,\n",
    "    'I8': 8,\n",
    "}"
   ]
  },
  {
   "cell_type": "markdown",
   "id": "d741ef6a-6751-4761-b79b-931932cc6c00",
   "metadata": {},
   "source": [
    "Y la solución que tenemos, que vamos a usar para verificar al final de todo es:"
   ]
  },
  {
   "cell_type": "code",
   "execution_count": 3,
   "id": "c52990e0-9de5-4ce7-ae47-17daf7d1ae60",
   "metadata": {},
   "outputs": [],
   "source": [
    "solution = {\n",
    "    'A1': 3, 'A2': 7, 'A3': 4, 'A4': 5, 'A5': 6, 'A6': 1, 'A7': 9, 'A8': 2, 'A9': 8,\n",
    "    'B1': 1, 'B2': 8, 'B3': 5, 'B4': 4, 'B5': 2, 'B6': 9, 'B7': 7, 'B8': 6, 'B9': 3,\n",
    "    'C1': 9, 'C2': 6, 'C3': 2, 'C4': 3, 'C5': 7, 'C6': 8, 'C7': 4, 'C8': 1, 'C9': 5,\n",
    "    'D1': 8, 'D2': 2, 'D3': 7, 'D4': 6, 'D5': 1, 'D6': 3, 'D7': 5, 'D8': 4, 'D9': 9,\n",
    "    'E1': 6, 'E2': 4, 'E3': 9, 'E4': 2, 'E5': 5, 'E6': 7, 'E7': 8, 'E8': 3, 'E9': 1,\n",
    "    'F1': 5, 'F2': 3, 'F3': 1, 'F4': 9, 'F5': 8, 'F6': 4, 'F7': 6, 'F8': 7, 'F9': 2,\n",
    "    'G1': 4, 'G2': 9, 'G3': 6, 'G4': 8, 'G5': 3, 'G6': 2, 'G7': 1, 'G8': 5, 'G9': 7,\n",
    "    'H1': 2, 'H2': 1, 'H3': 8, 'H4': 7, 'H5': 4, 'H6': 5, 'H7': 3, 'H8': 9, 'H9': 6,\n",
    "    'I1': 7, 'I2': 5, 'I3': 3, 'I4': 1, 'I5': 9, 'I6': 6, 'I7': 2, 'I8': 8, 'I9': 4,\n",
    "}"
   ]
  },
  {
   "cell_type": "code",
   "execution_count": 4,
   "id": "9b13b263-9674-4874-ab0b-592bfcafa00b",
   "metadata": {},
   "outputs": [
    {
     "name": "stdout",
     "output_type": "stream",
     "text": [
      "*---------+---------+---------*\n",
      "| 3  7  4 | 5  6  1 | 9  2  8 |\n",
      "| 1  8  5 | 4  2  9 | 7  6  3 |\n",
      "| 9  6  2 | 3  7  8 | 4  1  5 |\n",
      "*---------+---------+---------*\n",
      "| 8  2  7 | 6  1  3 | 5  4  9 |\n",
      "| 6  4  9 | 2  5  7 | 8  3  1 |\n",
      "| 5  3  1 | 9  8  4 | 6  7  2 |\n",
      "*---------+---------+---------*\n",
      "| 4  9  6 | 8  3  2 | 1  5  7 |\n",
      "| 2  1  8 | 7  4  5 | 3  9  6 |\n",
      "| 7  5  3 | 1  9  6 | 2  8  4 |\n",
      "*---------+---------+---------*\n"
     ]
    }
   ],
   "source": [
    "print_state(solution)"
   ]
  },
  {
   "cell_type": "markdown",
   "id": "1402b8b302abed22",
   "metadata": {
    "collapsed": false,
    "jupyter": {
     "outputs_hidden": false
    }
   },
   "source": [
    "## Implementado Simulated Annealing\n",
    "\n",
    "Este algoritmo comienza con una temperatura alta y, a medida que avanza, va enfriándose, de manera similar a cómo se enfría un metal al ser tratado térmicamente.\n",
    "\n",
    "Aquí tenemos dos nuevos parámetros:\n",
    "- `initial_temperature`: Es la temperatura inicial con la que arranca el algoritmo. Por defecto, se utiliza el valor 0.01.\n",
    "- `cooling_rate`: Es la velocidad con la que vamos a enfriar el sistema. La nueva temperatura en cada iteración se actualiza con la fórmula `temperature = temperature*cooling_rate`. Por defecto usamos 0.1.\n",
    "\n",
    "Luego, tenemos un punto importante: seleccionamos al azar uno de los posibles vecinos. Si la diferencia en el costo entre el estado actual y el vecino es negativa, se acepta el cambio, tal como hacíamos con el gradiente descendente estocástico. Si la diferencia es positiva, se genera un valor aleatorio entre 0 y 1, y si este valor es menor que `exp(-delta_cost / temperature)`, se acepta el cambio. Esta fórmula está basada en la distribución de Boltzmann, que nos dice que, cuanto más grande sea `delta_cost` o más pequeña `temperature`, más difícil será que el cambio sea aceptado.\n",
    "\n",
    "Veamos la implementación, leyendo cada comentario con atención:"
   ]
  },
  {
   "cell_type": "code",
   "execution_count": 5,
   "id": "b0474e61-9e19-4aeb-9e84-2a06526e4661",
   "metadata": {},
   "outputs": [],
   "source": [
    "def simulated_annealing_sudoku(initial_state: dict, fixed_squares: dict, max_iterations: int = 1000,\n",
    "                               initial_temperature: float = 0.01, cooling_rate: float = 0.1):\n",
    "    \"\"\"\n",
    "    Realiza la optimización del Sudoku utilizando Simulated Annealing.\n",
    "\n",
    "    Args:\n",
    "        initial_state (dict): El estado inicial del Sudoku.\n",
    "        fixed_squares (dict): Diccionario que contiene las casillas fijas del Sudoku.\n",
    "        max_iterations (int, optional): El número máximo de iteraciones permitidas.\n",
    "                                        Por defecto es 100.\n",
    "        initial_temperature (float, optional): La temperatura inicial para el algoritmo de Simulated Annealing.\n",
    "        cooling_rate (float, optional): La tasa de enfriamiento para el algoritmo de Simulated Annealing.\n",
    "\n",
    "    Returns:\n",
    "        dict: El mejor estado encontrado después de la optimización.\n",
    "        float: El costo del mejor estado encontrado\n",
    "    \"\"\"\n",
    "    current_state = initial_state\n",
    "    best_state = initial_state\n",
    "    temperature = initial_temperature\n",
    "    best_cost = cost_function(best_state)\n",
    "\n",
    "    # Iteramos hasta max_iterations\n",
    "    for iteration in range(max_iterations):\n",
    "\n",
    "        # Calculamos la función de costo para el estado actual\n",
    "        current_cost = cost_function(current_state)\n",
    "\n",
    "        # Obtenemos los vecinos de un estado\n",
    "        neib_states = return_neib_states(current_state, fixed_squares)\n",
    "        amount_neib = len(neib_states)\n",
    "\n",
    "        # Mientras un estado tengas vecinos\n",
    "        while(amount_neib > 0):\n",
    "            # Obtenemos un estado vecino aleatorio\n",
    "            neib_state = random.choice(neib_states)\n",
    "            neib_states.remove(neib_state)\n",
    "            amount_neib -= 1\n",
    "            \n",
    "            # Calculamos la función de costo para el estado vecino\n",
    "            neib_cost = cost_function(neib_state)\n",
    "    \n",
    "            # Calculamos el delta de costo entre el estado actual y el vecino\n",
    "            delta_cost = neib_cost - current_cost\n",
    "    \n",
    "            # Si el vecino es mejor o se acepta según la probabilidad de Boltzmann, actualizamos el estado actual\n",
    "            if delta_cost < 0:\n",
    "                current_state = neib_state\n",
    "                break\n",
    "            else:\n",
    "                if temperature > 0:\n",
    "                    if random.random() < math.exp(-delta_cost / temperature):\n",
    "                        current_state = neib_state\n",
    "                        break\n",
    "\n",
    "        # Si termino el anterior ciclo y se visitaron a todos los vecinos y no se acepto ningún cambio\n",
    "        # se termina el proceso.\n",
    "        if amount_neib < 1:\n",
    "            return best_state, best_cost\n",
    "\n",
    "        # Si el nuevo estado es mejor que el mejor estado encontrado hasta ahora, actualizamos el mejor estado\n",
    "        if current_cost < best_cost:\n",
    "            best_state = current_state\n",
    "            best_cost = cost_function(best_state)\n",
    "\n",
    "        # Si el costo es cero, significa que estamos en el mínimo. Esto tiene sentido para el caso de Sudoku y la\n",
    "        # función de costo que implementamos.\n",
    "        if best_cost == 0:\n",
    "            break\n",
    "\n",
    "        # Enfriamos el problema\n",
    "        temperature *= cooling_rate\n",
    "        \n",
    "    # Si terminamos las iteraciones, retornamos el mejor resultado encontrado\n",
    "    return best_state, best_cost"
   ]
  },
  {
   "cell_type": "markdown",
   "id": "f5b46e80-591f-44b0-b493-fb5c7b5472ce",
   "metadata": {},
   "source": [
    "Ahora, veamos si podemos encontrar la solución en una única ejecución. Para ello, vamos a llamar a una función llamada `execute_search()`, a la cual le pasamos la implementación del algoritmo. Esta función inicializa el sudoku en un estado al azar, aplica la búsqueda y verifica si se ha alcanzado una solución o no."
   ]
  },
  {
   "cell_type": "code",
   "execution_count": 6,
   "id": "f0e5773c-52bb-4ada-8781-0a97bb8b6e2e",
   "metadata": {},
   "outputs": [],
   "source": [
    "from processing import execute_search"
   ]
  },
  {
   "cell_type": "code",
   "execution_count": 7,
   "id": "55e63dee-989b-4562-b5b4-85df3907d909",
   "metadata": {},
   "outputs": [],
   "source": [
    "solution_bool, last_state, initial_state, _ = execute_search(0, simulated_annealing_sudoku, fixed_squares)"
   ]
  },
  {
   "cell_type": "code",
   "execution_count": 8,
   "id": "f2dfa72f-b8d6-4dcf-babe-51b96965e51d",
   "metadata": {},
   "outputs": [
    {
     "name": "stdout",
     "output_type": "stream",
     "text": [
      "Valor de costo inicial 6.5 y final 0.2\n",
      "Primer estado:\n",
      "*---------+---------+---------*\n",
      "| 3  1  4 | 5  6  8 | 9  5  6 |\n",
      "| 1  8  5 | 8  1  9 | 7  9  1 |\n",
      "| 5  6  8 | 2  7  8 | 4  1  5 |\n",
      "*---------+---------+---------*\n",
      "| 7  2  8 | 4  1  7 | 6  4  9 |\n",
      "| 3  4  9 | 9  5  2 | 5  3  2 |\n",
      "| 8  7  1 | 9  8  5 | 6  7  9 |\n",
      "*---------+---------+---------*\n",
      "| 4  9  2 | 6  3  3 | 5  3  7 |\n",
      "| 2  1  8 | 7  4  5 | 9  7  6 |\n",
      "| 9  2  7 | 5  3  1 | 7  8  9 |\n",
      "*---------+---------+---------*\n",
      "Último estado encontrado:\n",
      "*---------+---------+---------*\n",
      "| 3  7  4 | 5  6  1 | 9  2  8 |\n",
      "| 1  8  5 | 4  2  9 | 7  6  3 |\n",
      "| 9  6  2 | 3  7  8 | 4  1  5 |\n",
      "*---------+---------+---------*\n",
      "| 6  2  7 | 2  1  3 | 5  4  9 |\n",
      "| 8  4  9 | 6  5  7 | 8  3  1 |\n",
      "| 5  3  1 | 9  8  4 | 6  7  2 |\n",
      "*---------+---------+---------*\n",
      "| 4  9  6 | 8  3  2 | 1  5  7 |\n",
      "| 2  1  8 | 7  4  5 | 3  9  6 |\n",
      "| 7  5  3 | 1  9  6 | 2  8  4 |\n",
      "*---------+---------+---------*\n"
     ]
    }
   ],
   "source": [
    "print(f\"Valor de costo inicial {cost_function(initial_state)} y final {cost_function(last_state)}\")\n",
    "print(\"Primer estado:\")\n",
    "print_state(initial_state)\n",
    "\n",
    "print(\"Último estado encontrado:\")\n",
    "print_state(last_state)"
   ]
  },
  {
   "cell_type": "code",
   "execution_count": 9,
   "id": "a26ed1f8-f240-4932-8c02-299e41af3082",
   "metadata": {},
   "outputs": [
    {
     "name": "stdout",
     "output_type": "stream",
     "text": [
      "El estado encontrado es solución?\n",
      "El estado que encontramos no es solución\n"
     ]
    }
   ],
   "source": [
    "print(\"El estado encontrado es solución?\")\n",
    "if solution_bool:\n",
    "    print(\"El estado que encontramos verifica que realmente es la solución\")\n",
    "else:\n",
    "    print(\"El estado que encontramos no es solución\")"
   ]
  },
  {
   "cell_type": "markdown",
   "id": "9ecff94b-2fbf-4212-9c99-818807609c02",
   "metadata": {},
   "source": [
    "Vemos que el algoritmo no está encontrando la **solución**. Ahora, podemos probar repetir 500 ejecuciones de la busqueda, comenzando desde diferentes puntos iniciales, para ver si eventualmente llegamos a la solución. Para acelerar el proceso, aprovecharemos que tenemos **CPUs multinúcleo**.\n",
    "\n",
    "Para ello, vamos a llamar a la función `parallel_sudoku_search()`, a la cual le pasaremos la función de búsqueda y el número de iteraciones que queremos realizar."
   ]
  },
  {
   "cell_type": "code",
   "execution_count": 10,
   "id": "945fcc19-eff4-41cd-92a7-0433d35adecd",
   "metadata": {},
   "outputs": [],
   "source": [
    "from processing import parallel_sudoku_search\n",
    "\n",
    "# Debemos llamar a la función de busqueda desde un archivo .py sino los threads no pueden recibir a la función desde la notebook directamente.\n",
    "from search_methods import simulated_annealing_sudoku"
   ]
  },
  {
   "cell_type": "code",
   "execution_count": 11,
   "id": "504b6289-a136-42c6-a2fb-5d828b1a83f7",
   "metadata": {},
   "outputs": [
    {
     "data": {
      "application/vnd.jupyter.widget-view+json": {
       "model_id": "89f973bbd06b4ca3856b6d3c9decdd25",
       "version_major": 2,
       "version_minor": 0
      },
      "text/plain": [
       "  0%|          | 0/500 [00:00<?, ?it/s]"
      ]
     },
     "metadata": {},
     "output_type": "display_data"
    }
   ],
   "source": [
    "results = parallel_sudoku_search(simulated_annealing_sudoku, fixed_squares, max_iterations=500)"
   ]
  },
  {
   "cell_type": "markdown",
   "id": "0d5e397d-9586-4799-a582-08a50d09bcf0",
   "metadata": {},
   "source": [
    "Veamos si algún proceso encontró la solución:"
   ]
  },
  {
   "cell_type": "code",
   "execution_count": 12,
   "id": "9ebe25b4-a66b-4bbf-85ab-95545dcf2b0a",
   "metadata": {},
   "outputs": [
    {
     "name": "stdout",
     "output_type": "stream",
     "text": [
      "*---------+---------+---------*\n",
      "| 3  7  4 | 5  6  1 | 9  2  8 |\n",
      "| 1  8  5 | 4  2  9 | 7  6  3 |\n",
      "| 9  6  2 | 3  7  8 | 4  1  5 |\n",
      "*---------+---------+---------*\n",
      "| 8  2  7 | 6  1  3 | 5  4  9 |\n",
      "| 6  4  9 | 2  5  7 | 8  3  1 |\n",
      "| 5  3  1 | 9  8  4 | 6  7  2 |\n",
      "*---------+---------+---------*\n",
      "| 4  9  6 | 8  3  2 | 1  5  7 |\n",
      "| 2  1  8 | 7  4  5 | 3  9  6 |\n",
      "| 7  5  3 | 1  9  6 | 2  8  4 |\n",
      "*---------+---------+---------*\n",
      "En la iteración 20 se encontró la solución.\n",
      "En la iteración 27 se encontró la solución.\n",
      "En la iteración 37 se encontró la solución.\n",
      "En la iteración 40 se encontró la solución.\n",
      "En la iteración 46 se encontró la solución.\n",
      "En la iteración 57 se encontró la solución.\n",
      "En la iteración 69 se encontró la solución.\n",
      "En la iteración 101 se encontró la solución.\n",
      "En la iteración 117 se encontró la solución.\n",
      "En la iteración 131 se encontró la solución.\n",
      "En la iteración 151 se encontró la solución.\n",
      "En la iteración 153 se encontró la solución.\n",
      "En la iteración 232 se encontró la solución.\n",
      "En la iteración 240 se encontró la solución.\n",
      "En la iteración 250 se encontró la solución.\n",
      "En la iteración 256 se encontró la solución.\n",
      "En la iteración 278 se encontró la solución.\n",
      "En la iteración 285 se encontró la solución.\n",
      "En la iteración 303 se encontró la solución.\n",
      "En la iteración 338 se encontró la solución.\n",
      "En la iteración 351 se encontró la solución.\n",
      "En la iteración 370 se encontró la solución.\n",
      "En la iteración 376 se encontró la solución.\n",
      "En la iteración 402 se encontró la solución.\n",
      "En la iteración 480 se encontró la solución.\n"
     ]
    }
   ],
   "source": [
    "show_solution = True\n",
    "for res in results:\n",
    "    # Acá nos devuelve el booleano de si encontró la solución o no\n",
    "    is_solution = res[0]\n",
    "    # Este es el últimos estado encontrado en esta iteración\n",
    "    last_state = res[1]\n",
    "    # Este es el estado desde donde partio\n",
    "    initial_state = res[2]\n",
    "    # Este es el identificador de cual iteración se obtuvo la solución\n",
    "    process_id = res[-1]\n",
    "\n",
    "    if is_solution:\n",
    "        if show_solution:\n",
    "            print_state(last_state)\n",
    "            show_solution = False\n",
    "        print(f\"En la iteración {process_id} se encontró la solución.\")"
   ]
  },
  {
   "cell_type": "markdown",
   "id": "7c51d079-e842-4150-bc3e-4febc08ed1d1",
   "metadata": {},
   "source": [
    "**Nota**: Si usamos una temperatura inicial igual a cero, obtenemos una implementación equivalente al gradiente descendente estocástico.\n",
    "\n",
    "Con este método, es más fácil encontrar la solución. Mientras que con gradiente descendente tuvimos que repetir el experimento muchas veces hasta dar con la solución, con **Simulated Annealing** generalmente basta con unas pocas ejecuciones para llegar a la solución. La temperatura permite escapar de algunos mínimos locales que existen en la función de costo. Lo negativo de este método es que lleva tiempo encontrar los valores adecuados de temperatura y tasa de enfriamiento."
   ]
  },
  {
   "cell_type": "code",
   "execution_count": null,
   "id": "8e1b3be1-1358-4e6b-95bf-787e5def7faf",
   "metadata": {},
   "outputs": [],
   "source": []
  }
 ],
 "metadata": {
  "kernelspec": {
   "display_name": "Python 3 (ipykernel)",
   "language": "python",
   "name": "python3"
  },
  "language_info": {
   "codemirror_mode": {
    "name": "ipython",
    "version": 3
   },
   "file_extension": ".py",
   "mimetype": "text/x-python",
   "name": "python",
   "nbconvert_exporter": "python",
   "pygments_lexer": "ipython3",
   "version": "3.10.14"
  }
 },
 "nbformat": 4,
 "nbformat_minor": 5
}
