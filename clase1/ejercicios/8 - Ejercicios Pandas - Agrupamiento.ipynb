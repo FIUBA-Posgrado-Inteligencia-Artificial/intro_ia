{
 "cells": [
  {
   "cell_type": "markdown",
   "id": "7d7395c1",
   "metadata": {},
   "source": [
    "# Agrupando datos\n",
    "\n",
    "Inteligencia Artificial - Facundo A. Lucianna - CEIA - FIUBA\n",
    "\n",
    "Un análisis EDA que vimos en el notebook anterior no nos alcanza completamente para entender los datos, principalmente cuando hay variables categóricas. Hasta ahora, estuvimos calculando un EDA para todas las filas de un conjunto de datos, pero los EDA pueden ser útiles para comparar diferentes grupos, dados por variables categóricas. Por ejemplo, ¿una raza de perro pesa más que otra en promedio? ¿Las colibríes hembra son más grandes que los machos? En este notebook vamos a aprender a trabajar cuando nuestros datos están formados por diferentes grupos.\n",
    "\n",
    "En este notebook trabajaremos con un subset de datos de [AVONET](https://onlinelibrary.wiley.com/doi/10.1111/ele.13898). El cual es el registro de datos morfológicos, ecológicos y geográficos de pájaros. Las mediciones morfológicas son las de las siguiente [imagen](https://onlinelibrary.wiley.com/doi/10.1111/ele.13898)\n",
    "\n",
    "Este es un subset de pequeño de especies de 11020 posibles. Y solo se eligieron las siguientes mediciones:\n",
    "\n",
    "- **species**: Nombre de la especie.\n",
    "- **sex**: Sexo del animal (macho, hembra o indefinido).\n",
    "- **beak_length**: La distancia desde la punta de la mandíbula superior hasta el final del culmen en su intersección con el cere o la frente (Medida 1 de la imagen).\n",
    "- **beak_depth**: Distancia entre la parte superior e inferior del pico (Medida 3 de la imagen).\n",
    "- **tarsus_length**: Longitud desde el pliegue interior de la articulación tibiotarsiana hasta la base de los dedos (Medida 5 de la imagen).\n",
    "- **wing_length**: La longitud del ala, la distancia entre la curva del ala y la pluma primaria más larga (Medida 6 de la imagen). \n",
    "- **tail_length**: La medida de la cola se toma desde la base de la cola hasta la punta de las plumas más largas (Medida 9 de la imagen). \n",
    "\n",
    "OBS: En las celdas de procesamiento si ves ___ es para que reemplaces.\n",
    "\n",
    "Arranquemos cargando nuestro datos.\n",
    "\n",
    "1. Importa `pandas` como `pd` "
   ]
  },
  {
   "cell_type": "code",
   "execution_count": null,
   "id": "c5b96e3e",
   "metadata": {},
   "outputs": [],
   "source": [
    "import ___ as pd"
   ]
  },
  {
   "cell_type": "markdown",
   "id": "16a44d32",
   "metadata": {},
   "source": [
    "2. Lea el csv `birds.csv` en un DataFrame y llame al DataFrame `birds`"
   ]
  },
  {
   "cell_type": "code",
   "execution_count": null,
   "id": "44a0d8ff",
   "metadata": {},
   "outputs": [],
   "source": [
    "birds = pd.___(\"birds.csv\")"
   ]
  },
  {
   "cell_type": "markdown",
   "id": "f47b511a",
   "metadata": {},
   "source": [
    "3. Imprima la cabecera de `birds`. Ademas, explore la información sobre columnas."
   ]
  },
  {
   "cell_type": "code",
   "execution_count": null,
   "id": "c322abef",
   "metadata": {},
   "outputs": [],
   "source": [
    "birds.___()"
   ]
  },
  {
   "cell_type": "code",
   "execution_count": null,
   "id": "d854471d",
   "metadata": {},
   "outputs": [],
   "source": [
    "birds.___()"
   ]
  },
  {
   "cell_type": "markdown",
   "id": "bf769844",
   "metadata": {},
   "source": [
    "## Explorando variables categóricas\n",
    "\n",
    "Analizar una variable categórica con pocas categorías es relativamente sencilla. Se calcula la proporción de las categorías o al menos de las más importantes.\n",
    "\n",
    "Vamos a trabajar con la columna `species` que contiene el nombre de las especies de pájaros.\n",
    "\n",
    "1. Usando el método `.unique()` vea las categorías únicas que posee la columna `species` de `birds`."
   ]
  },
  {
   "cell_type": "code",
   "execution_count": null,
   "id": "f29f50f8",
   "metadata": {},
   "outputs": [],
   "source": [
    "birds[\"___\"].unique()"
   ]
  },
  {
   "cell_type": "markdown",
   "id": "f2dad45c",
   "metadata": {},
   "source": [
    "Como vemos se encuentran 10 especies diferentes. Ahora vamos a calcular cuántas veces aparecen en `birds` cada especie.\n",
    "\n",
    "2. Calcule usando `.value_counts()` la columna `species` de `birds`. Asignelo a `cuenta_species_birds`."
   ]
  },
  {
   "cell_type": "code",
   "execution_count": null,
   "id": "9cb9222a",
   "metadata": {},
   "outputs": [],
   "source": [
    "cuenta_species_birds = birds[\"___\"].___"
   ]
  },
  {
   "cell_type": "markdown",
   "id": "f99fc1f9",
   "metadata": {},
   "source": [
    "3. Cuente el total de filas de la columna `species` de `birds` usando `.count()`. Asignelo a `total_birds`."
   ]
  },
  {
   "cell_type": "code",
   "execution_count": null,
   "id": "d04548d5",
   "metadata": {},
   "outputs": [],
   "source": [
    "___ = ___.count()"
   ]
  },
  {
   "cell_type": "markdown",
   "id": "bb9add99",
   "metadata": {},
   "source": [
    "4. Obtenga la proporción de cada categoría dividiendo `cuenta_species_birds` con `total_birds`. Asignelo a `proporcion_species_birds`."
   ]
  },
  {
   "cell_type": "code",
   "execution_count": null,
   "id": "5dfb563e",
   "metadata": {},
   "outputs": [],
   "source": [
    "proporcion_species_birds = ___ / ___"
   ]
  },
  {
   "cell_type": "markdown",
   "id": "f2f434dc",
   "metadata": {},
   "source": [
    "5. Muestre a `proporcion_species_birds`"
   ]
  },
  {
   "cell_type": "code",
   "execution_count": null,
   "id": "08bacef0",
   "metadata": {},
   "outputs": [],
   "source": [
    "___"
   ]
  },
  {
   "cell_type": "markdown",
   "id": "bd990eb9",
   "metadata": {},
   "source": [
    "Como podemos ver 23% de los pájaros son [Zosterops chloris](https://es.wikipedia.org/wiki/Zosterops_chloris) y el que menos proporción tiene en el dataset es [Hylopezus perspicillatus](https://es.wikipedia.org/wiki/Hylopezus_perspicillatus).  \n",
    "\n",
    "Los gráficos de barras son una herramienta visual común para mostrar una sola variable categórica. Las categorías se enumeran en el eje x y las frecuencias o proporciones en el eje y.\n",
    "\n",
    "1. Grafique en un gráfico de barra `proporcion_species_birds` usando `.plot.bar()` de Pandas."
   ]
  },
  {
   "cell_type": "code",
   "execution_count": null,
   "id": "c0e07135",
   "metadata": {},
   "outputs": [],
   "source": [
    "ax = proporcion_species_birds.plot.___()\n",
    "ax.set_ylabel(\"Proportion\")\n",
    "ax.set_xlabel(\"Species\");"
   ]
  },
  {
   "cell_type": "markdown",
   "id": "2e95f32a",
   "metadata": {},
   "source": [
    "### Moda\n",
    "\n",
    "La moda es el valor, o valores en caso de empate, que aparece con mayor frecuencia en los datos. En los casos de `birds`, la moda es **Zosterops chloris**. La moda es una estadística de resumen simple para datos categóricos y, por lo general, no se usa para datos numéricos.\n",
    "\n",
    "----\n",
    "\n",
    "La proporción en este dataset es la proporción de la muestra, la cual no es medida de la proporción de la población de pájaros. Generalizar a una población puede estar determinado por muchas situaciones de cómo fue tomada la muestra. En este caso depende del operador y comportamiento del animal, atrapar a un animal depende de qué especies es.\n",
    "\n",
    "Ahora, hay casos que son más fáciles de lograr obtener la proporción de una población, principalmente con casos que tenemos control. Por ejemplo, si tenemos registros de usuarios en una página web y queremos ver que tipo de artículos compran. En estos casos no hay problemas de operador. Cuando tenemos la posibilidad de registrar todos los datos, gracias a big data, podemos procesar toda la población directamente. Si por algún motivo no se puede contar con herramientas de **Big Data**, se puede utilizar herramientas de inferencias estadística para poder estimar esta proporción. Con esto, estamos comentando que para resolver un problema como Data Scientist, se puede ser más tradicional usando herramientas estadísticas, así como resolver problemas con heurística, Big Data y Machine Learning. \n",
    "\n",
    "## Agrupando mediante variables categóricas y agregación de datos\n",
    "\n",
    "Con las variables categóricas no solo podemos ver la proporción en un dataset, sino que nos permite realizar un análisis estadístico usando a estas variables como agrupadoras. Las variables categóricas cumplen en general el rol de separar, y es esperable que las variables numéricas, estadísticamente nos presenten información como para poder obtener nueva información de nuestro dataset. Por ejemplo, el sexo de un león determina variaciones en su peso y tamaño, o un nivel socioeconomico de la población va a tener diferentes rangos de ingresos y gastos mensuales. \n",
    "\n",
    "Como vimos en clase, Pandas nos permite agrupar los datos usando `.groupby()`.\n",
    "`\n",
    "1. Usando el método `.groupby()` agrupe usando `species` de `birds` y asignelo a `birds_grouped`"
   ]
  },
  {
   "cell_type": "code",
   "execution_count": null,
   "id": "f9176fe5",
   "metadata": {},
   "outputs": [],
   "source": [
    "___ = birds.groupby([___])"
   ]
  },
  {
   "cell_type": "markdown",
   "id": "88916966",
   "metadata": {},
   "source": [
    "`.groupby()` posee un atributo llamado `.groups` que nos devuelve los grupos formados y que filas (dado por el indice) pertenece a cada uno de los grupos. Si utilizamos con `.groups`, el método `.keys()`, podemos ver cada uno de los posibles grupos, en este caso a la especies de pájaros del dataset.\n",
    "\n",
    "2. Usando `.groups.keys()` en `birds_grouped` muestre las diferentes especies de pájaros."
   ]
  },
  {
   "cell_type": "code",
   "execution_count": null,
   "id": "b81ae37f",
   "metadata": {},
   "outputs": [],
   "source": [
    "___.groups.keys()"
   ]
  },
  {
   "cell_type": "markdown",
   "id": "ffce3477",
   "metadata": {},
   "source": [
    "3. Usando `birds_grouped`, obtenga el promedio del largo de pico por especie (`\"beak_length\"`)"
   ]
  },
  {
   "cell_type": "code",
   "execution_count": null,
   "id": "5de1eb76",
   "metadata": {},
   "outputs": [],
   "source": [
    "birds_grouped[\"___\"].mean()"
   ]
  },
  {
   "cell_type": "markdown",
   "id": "e88ba45d",
   "metadata": {},
   "source": [
    "4. Usando `birds_grouped`, obtenga el desvio estandar del largo del pico por especie (`\"beak_length\"`)"
   ]
  },
  {
   "cell_type": "code",
   "execution_count": null,
   "id": "f13d224c",
   "metadata": {},
   "outputs": [],
   "source": [
    "___.std()"
   ]
  },
  {
   "cell_type": "markdown",
   "id": "f230a45f",
   "metadata": {},
   "source": [
    "Acá vemos que el largo de pico promedio de *Cyanomitra olivacea* es el más largo de los pájaros que se encuentran en el set. Por otro lado, vemos que *Hylopezus perspicillatus* tiene menos variación del largo del pico entre especímenes que otros pájaros."
   ]
  },
  {
   "cell_type": "markdown",
   "id": "7bfa041d",
   "metadata": {},
   "source": [
    "## Calculando múltiples estadísticas por grupo\n",
    "\n",
    "La pieza final de la sintaxis que examinaremos es el método `agg()`. La funcionalidad de agregación proporcionada por `agg()` permite calcular múltiples estadísticas por grupo en un solo cálculo.\n",
    "\n",
    "### Aplicar una sola función por columna\n",
    "\n",
    "Las instrucciones para la agregación se proporcionan en forma de diccionario. Las key del diccionario se utilizan para especificar las columnas en las que desea realizar operaciones y los valores del diccionario para especificar la función que se ejecutará.\n",
    "\n",
    "1. Cree un diccionario con las columnas `\"beak_length\"` y `\"beak_depth\"` cómo keys del diccionario, y para cada una que tenga como valor `\"mean\"` y `\"median\"` respectivamente. Asignelo a `beak_dict`."
   ]
  },
  {
   "cell_type": "code",
   "execution_count": null,
   "id": "af2b3f14",
   "metadata": {},
   "outputs": [],
   "source": [
    "beak_dict = {\n",
    "    \"___\": \"mean\",\n",
    "    \"___\": \"median\"\n",
    "}"
   ]
  },
  {
   "cell_type": "markdown",
   "id": "9f716c74",
   "metadata": {},
   "source": [
    "2. Use el método `.agg()` en `birds_grouped` con `beak_dict` como argumento"
   ]
  },
  {
   "cell_type": "code",
   "execution_count": null,
   "id": "55d58364",
   "metadata": {},
   "outputs": [],
   "source": [
    "birds_grouped.___(beak_dict)"
   ]
  },
  {
   "cell_type": "markdown",
   "id": "47ab735a",
   "metadata": {},
   "source": [
    "Como podemos ver, se calculó para la columna `\"beak_length\"` el valor promedio para cada especie y en `\"beak_depth\"` la mediana. \n",
    "\n",
    "Para realizar los pasos de agrupar y calcular la agregación no necesitamos hacerlo en varios pasos, lo podemos hacer uno solo directamente desde el dataframe `birds`.\n",
    "\n",
    "1. Realice el mismo calculo que agregación en una sola linea usando `birds`, `.groupby()` agrupando por `species`, `.agg()` y un diccionario para indicar las agregaciones para hacer por columna."
   ]
  },
  {
   "cell_type": "code",
   "execution_count": null,
   "id": "741da32c",
   "metadata": {},
   "outputs": [],
   "source": [
    "birds.___(\"species\").agg({\n",
    "    \"___\": \"mean\",\n",
    "    \"___\": \"___\"\n",
    "})"
   ]
  },
  {
   "cell_type": "markdown",
   "id": "aced9a39",
   "metadata": {},
   "source": [
    "Se observa que los grupos formados se guardan como índices. Si queremos que no formen parte del índice, sino que sean una columna más, podemos indicarle a groupby que los guarde como columna usando el argumento opcional `as_index`.\n",
    "\n",
    "2. Realice de nuevo el `.groupby()` anterior pero ahora con el argumento opcional `as_index` igual a `False`."
   ]
  },
  {
   "cell_type": "code",
   "execution_count": null,
   "id": "e3a6c913",
   "metadata": {},
   "outputs": [],
   "source": [
    "birds.___(\"species\", as_index=___).agg({\n",
    "    \"___\": \"mean\",\n",
    "    \"___\": \"___\"\n",
    "})"
   ]
  },
  {
   "cell_type": "markdown",
   "id": "f5246a54",
   "metadata": {},
   "source": [
    "### Aplicar más de una función por columna\n",
    "\n",
    "Si al diccionario que se le pasa a .agg(), a una key (recordemos que la columna que queremos agregar), le pasamos una lista con las funciones que queremos aplicar, podemos calcular más de una función estadística por columna.\n",
    "\n",
    "1. Realice un `.groupby()` del dataframe `birds`, agrupando por species. Agrupe a las columnas `\"beak_length\"` y `\"beak_depth\"` y para cada una calcule el valor medio y el desvío estándar."
   ]
  },
  {
   "cell_type": "code",
   "execution_count": null,
   "id": "6f15d758",
   "metadata": {},
   "outputs": [],
   "source": [
    "birds.___.agg({\n",
    "    \"beak_length\": [\"___\", \"___\"],\n",
    "    ___: ___    \n",
    "})"
   ]
  },
  {
   "cell_type": "markdown",
   "id": "a51e6444",
   "metadata": {},
   "source": [
    "### Aplicar funciones propias\n",
    "\n",
    "El método `.agg()` acepta [13 funciones](https://cmdlinetips.com/2019/10/pandas-groupby-13-functions-to-aggregate/) que ya están implementadas por Pandas. Estas 13 funciones abarcan un gran espectro para agregar una variable. Pero también nos permite utilizar funciones de otras librerias o las nuestras, siempre que respetemos los [requerimientos de Pandas](https://towardsdatascience.com/creating-custom-aggregations-to-use-with-pandas-groupby-e3f5ef8cb43e). \n",
    "\n",
    "Por ejemplo, dentro de las 13 funciones no se encuentra la **Desviación absoluta mediana** que vimos en un notebook anterior. Por lo que si queremos calcular, debemos usar en nuestra agregaciones, debemos utilizar scipy. Vamos a calcular la **desviación absoluta mediana** para las columnas `\"beak_length\"` y `\"beak_depth\"`.\n",
    "\n",
    "1. Importa `stats` de `scipy` "
   ]
  },
  {
   "cell_type": "code",
   "execution_count": null,
   "id": "ac656afa",
   "metadata": {},
   "outputs": [],
   "source": [
    "from ___ import ___"
   ]
  },
  {
   "cell_type": "markdown",
   "id": "57077e90",
   "metadata": {},
   "source": [
    "2. Realice un `.groupby()` del dataframe `birds`, agrupando por species. Agrupe a las columnas `\"beak_length\"` y `\"beak_depth\"` y para cada una calcule la desviación absoluta mediana usando `stats.median_abs_deviation`."
   ]
  },
  {
   "cell_type": "code",
   "execution_count": null,
   "id": "8e5e6500",
   "metadata": {},
   "outputs": [],
   "source": [
    "birds.___.agg({\n",
    "    \"beak_length\": stats.median_abs_deviation,\n",
    "    ___: ___      \n",
    "})"
   ]
  },
  {
   "cell_type": "markdown",
   "id": "9d00001e",
   "metadata": {},
   "source": [
    "Como podemos ver, para la mayoría de las especies es NaN, esto se debe a que el dataframe posee valores nulos en las columnas. Para evitar esto vamos a crear nuestra propia función que primero descarte los valores nulos y luego calcule la desviación absoluta mediana.\n",
    "\n",
    "1. Importa `numpy` como `np`"
   ]
  },
  {
   "cell_type": "code",
   "execution_count": null,
   "id": "4650c244",
   "metadata": {},
   "outputs": [],
   "source": [
    "___"
   ]
  },
  {
   "cell_type": "markdown",
   "id": "12921af9",
   "metadata": {},
   "source": [
    "2. Crea una función llamada `mad_not_null` con argumento igual a `x`, que antes de calcular la desviación absoluta mediana, saque a los valores nulos."
   ]
  },
  {
   "cell_type": "code",
   "execution_count": null,
   "id": "cb939581",
   "metadata": {},
   "outputs": [],
   "source": [
    "def ___(x):\n",
    "    ___ = x.dropna()\n",
    "    return stats.median_abs_deviation(___)"
   ]
  },
  {
   "cell_type": "markdown",
   "id": "b9fc1536",
   "metadata": {},
   "source": [
    "3. Realice un `.groupby()` del dataframe `birds`, agrupando por species. Agrupe a las columnas `\"beak_length\"` y `\"beak_depth\"` y para cada una calcule la desviación absoluta mediana usando la función que definimos `mad_not_null`."
   ]
  },
  {
   "cell_type": "code",
   "execution_count": null,
   "id": "b0ab9918",
   "metadata": {},
   "outputs": [],
   "source": [
    "birds.___(___).agg({\n",
    "    \"___\": mad_not_null,\n",
    "    ___: ___    \n",
    "})"
   ]
  },
  {
   "cell_type": "markdown",
   "id": "0244cd39",
   "metadata": {},
   "source": [
    "Ahora podemos ver que se pudo calcular sin problemas para cada especie el valor la desviación absoluta mediana con las columnas `beak_length` y `beak_depth`.\n",
    "\n",
    "Hay veces que no deseamos definir una función de forma explícita, sino realizar una función anónima ya que es para una sola aplicación. Para ello podés usar las funciones lambdas de Python. Ahora vamos a replicar el mismo cálculo de `mad_not_null` pero usando las funciones lambdas.\n",
    "\n",
    "4. Repita el último groupby para calcular la desviación absoluta mediana de `\"beak_length\"` y `\"beak_depth\"` pero usando una función anónima."
   ]
  },
  {
   "cell_type": "code",
   "execution_count": null,
   "id": "83cd461e",
   "metadata": {},
   "outputs": [],
   "source": [
    "birds.___.agg({\n",
    "    \"beak_length\": lambda x: stats.median_abs_deviation(___.dropna()),\n",
    "    \"beak_depth\": lambda ___: ___  \n",
    "})"
   ]
  },
  {
   "cell_type": "markdown",
   "id": "1d39077a",
   "metadata": {},
   "source": [
    "----\n",
    "\n",
    "## Agrupando más de una columna\n",
    "\n",
    "Para finalizar vamos a agrupar al dataframe `birds` no solo en especie, sino que ademas por sexo del animal. Para ello en vez de indicarle una columna, se le puede pasar una lista que deseamos agrupar a `.groupby()`. El orden en que se pasan las columnas es importante ya que determina la jerarquía. En este caso la especie del animal es de una jerarquia superior a la del sexo, por lo que el orden será primero `species` y luego `sex`. Para la parte de agregación, vamos a agrupar el resto de las columnas, y para cada una de ellas vamos a calcular las siguientes métricas:\n",
    "\n",
    "- 25th percentil: Usando una función anónima y `np.quantile` con `q=0.25`. \n",
    "- Mediana: Usando `\"median\"`\n",
    "- 75th percentil: Usando una función anónima y `np.quantile` con `q=0.75`.  \n",
    "\n",
    "\n",
    "1. Primero vamos a eliminar los registros de las especies que no fueron correctamente determinado. Esos caso se definieron como  `\"U\"` en `sex`. Filtre el dataframe `birds` a todas las filas que `sex` sea distinto a `\"U\"`. Asignelo a `birds_corrected`."
   ]
  },
  {
   "cell_type": "code",
   "execution_count": null,
   "id": "dd72a25d",
   "metadata": {},
   "outputs": [],
   "source": [
    "___ = ___[___[\"sex\"] != \"U\"]"
   ]
  },
  {
   "cell_type": "markdown",
   "id": "0ed11f5d",
   "metadata": {},
   "source": [
    "2. Creemos una lista llamada `bird_metrics` con las metricas mencionadas arriba"
   ]
  },
  {
   "cell_type": "code",
   "execution_count": null,
   "id": "7c209403",
   "metadata": {},
   "outputs": [],
   "source": [
    "bird_metrics = [\n",
    "    lambda x: np.___(___.dropna(), q=0.25),\n",
    "    \"median\",\n",
    "    lambda x: ___(___, q=0.75)\n",
    "]"
   ]
  },
  {
   "cell_type": "markdown",
   "id": "bf7219fa",
   "metadata": {},
   "source": [
    "3. Realice un `.groupby()` del dataframe `birds_corrected`, agrupando por `species` y `sex`, ademas que el agrupamiento se guarde como columna en vez de índice (`as_index=False`). Agrupe a las columnas `\"beak_length\"`, `\"beak_depth\"`, `\"tarsus_length\"`, `\"wing_length\"` y `\"tail_length\"` usando la lista `bird_metrics`. "
   ]
  },
  {
   "cell_type": "code",
   "execution_count": null,
   "id": "9528e6ff",
   "metadata": {},
   "outputs": [],
   "source": [
    "birds_corrected.groupby([\"___\", \"sex\"], ___=False).agg({\n",
    "    \"beak_length\": ___,\n",
    "    \"___\": bird_metrics, \n",
    "    ___: ___,\n",
    "    ___: ___,\n",
    "    ___: ___\n",
    "})"
   ]
  },
  {
   "cell_type": "markdown",
   "id": "eda05ba7",
   "metadata": {},
   "source": [
    "En este análisis podemos por ejemplo que, asumiendo que tenemos suficientes registros, que aves de la especie **Bleda notatus** presenta un dimorfismo sexual, mientras casos como **Zosterops chloris** esto no ocurriría."
   ]
  }
 ],
 "metadata": {
  "kernelspec": {
   "display_name": "Python 3 (ipykernel)",
   "language": "python",
   "name": "python3"
  },
  "language_info": {
   "codemirror_mode": {
    "name": "ipython",
    "version": 3
   },
   "file_extension": ".py",
   "mimetype": "text/x-python",
   "name": "python",
   "nbconvert_exporter": "python",
   "pygments_lexer": "ipython3",
   "version": "3.9.15"
  }
 },
 "nbformat": 4,
 "nbformat_minor": 5
}
