{
 "cells": [
  {
   "cell_type": "code",
   "execution_count": 14,
   "id": "e793cabd",
   "metadata": {},
   "outputs": [],
   "source": [
    "import numpy as np\n",
    "import sklearn \n",
    "import matplotlib.pyplot as plt\n",
    "import seaborn as sns\n",
    "import scipy\n",
    "import random"
   ]
  },
  {
   "cell_type": "code",
   "execution_count": 23,
   "id": "f6604ef5",
   "metadata": {},
   "outputs": [],
   "source": [
    "rng = np.random.default_rng(seed=10)"
   ]
  },
  {
   "cell_type": "markdown",
   "id": "ef7317c3",
   "metadata": {},
   "source": [
    "# Generar n clases"
   ]
  },
  {
   "cell_type": "code",
   "execution_count": 18,
   "id": "5e73bc2f",
   "metadata": {},
   "outputs": [],
   "source": [
    "K = random.choices(range(4), weights=[0.37, 0.18, 0.40, 0.05], k= 250)"
   ]
  },
  {
   "cell_type": "code",
   "execution_count": 34,
   "id": "7a4e1fe8",
   "metadata": {},
   "outputs": [],
   "source": [
    "n0 = scipy.stats.multivariate_normal(mean = [-1, -1], cov= [[1 , 0.5],[0.5, 1]])\n",
    "n1 = scipy.stats.multivariate_normal(mean = [1, 1], cov= [[1 , 0.55],[0.55, 1]])\n",
    "n2 = scipy.stats.multivariate_normal(mean = [-1, 1], cov= [[1 , -0.25],[-0.25, 1]])\n",
    "n3 = scipy.stats.multivariate_normal(mean = [1, -1], cov= [[1 , 0],[0, 1]])"
   ]
  },
  {
   "cell_type": "code",
   "execution_count": null,
   "id": "fa439af5",
   "metadata": {},
   "outputs": [],
   "source": []
  },
  {
   "cell_type": "code",
   "execution_count": null,
   "id": "47c12bdf",
   "metadata": {},
   "outputs": [],
   "source": []
  },
  {
   "cell_type": "code",
   "execution_count": null,
   "id": "fa60464a",
   "metadata": {},
   "outputs": [],
   "source": []
  },
  {
   "cell_type": "code",
   "execution_count": null,
   "id": "0f3eb44d",
   "metadata": {},
   "outputs": [],
   "source": []
  },
  {
   "cell_type": "code",
   "execution_count": null,
   "id": "d23c870a",
   "metadata": {},
   "outputs": [],
   "source": []
  },
  {
   "cell_type": "code",
   "execution_count": null,
   "id": "1af8879f",
   "metadata": {},
   "outputs": [],
   "source": []
  }
 ],
 "metadata": {
  "kernelspec": {
   "display_name": "Python 3 (ipykernel)",
   "language": "python",
   "name": "python3"
  },
  "language_info": {
   "codemirror_mode": {
    "name": "ipython",
    "version": 3
   },
   "file_extension": ".py",
   "mimetype": "text/x-python",
   "name": "python",
   "nbconvert_exporter": "python",
   "pygments_lexer": "ipython3",
   "version": "3.8.10"
  }
 },
 "nbformat": 4,
 "nbformat_minor": 5
}
