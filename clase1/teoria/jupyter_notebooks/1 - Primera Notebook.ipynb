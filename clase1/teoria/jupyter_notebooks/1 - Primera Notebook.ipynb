{
 "cells": [
  {
   "cell_type": "markdown",
   "metadata": {},
   "source": [
    "# Primera Notebook\n",
    "Inteligencia Artificial - Facundo A. Lucianna - CEIA - FIUBA\n",
    "\n",
    "## Introducción\n",
    "Jupyter Notebook es una herramienta poderosa para desarrollar y presentar de forma interactiva proyectos de Data Science.\n",
    "\n",
    "Pero nos surge la pregunta, qué es un **notebook**?\n",
    "\n",
    "Un notebook integra el código y su salida en un único documento que combina visualizaciones, texto narrativo, ecuaciones matemáticas y otros medios enriquecidos. En otras palabras: es un documento único donde puede ejecutar código, mostrar el resultado y también agregar explicaciones, fórmulas, gráficos y hacer que el trabajo sea más transparente, comprensible, repetible y compartible.\n",
    "\n",
    "El uso de Notebooks es una parte importante del flujo de trabajo de un Data scientist. Si se desea con datos, el uso de un Notebook facilita el flujo de trabajo y la comunicación y el intercambio de resultados.\n",
    "\n",
    "Aunque es posible utilizar muchos lenguajes de programación diferentes en Jupyter Notebooks, nos centraremos en Python.\n",
    "\n",
    "## Formato de archivo de notebook\n",
    "\n",
    "Las notebooks se guardan en formato `.ipynb`. Cada archivo .ipynb es un archivo de texto que describe el contenido del notebook en JSON. Cada celda y su contenido, incluidas las imágenes adjuntas que se han convertido en cadenas de texto, se enumeran junto con algunos metadatos.\n",
    "\n",
    "## La interfaz del notebook\n",
    "\n",
    "Cuando abrimos un notebook, ya sea desde Jupyter Notebook de local o de un Google Colab, la interfaz es esencialmente un procesador de textos avanzados.\n",
    "\n",
    "Si deseas instalar un entorno de trabajo Python, con una Jupyter Notebook, se recomienda los siguientes tutoriales:\n",
    "- [How to install Jupyter Notebook on Windows? - Geeks for geeks](https://www.geeksforgeeks.org/how-to-install-jupyter-notebook-in-windows/)\n",
    "- [How to install Jupyter Notebook on Linux? - Geeks for geeks](https://www.geeksforgeeks.org/how-to-install-jupyter-notebook-in-linux)\n",
    "- [Data Science With Python Tutorial - Geeks for geeks](https://www.geeksforgeeks.org/data-science-tutorial/)\n",
    "- [Jupyter Notebook Extension in Visual Studio Code - Geeks for geeks](https://www.geeksforgeeks.org/jupyter-notebook-extension-in-visual-studio-code)\n",
    "\n",
    "Ya que estamos en una notebook, por que no miras un poco a tu alrededor para familiarizarte con las herramientas? No te preocupes, nada se va a romper. Usa el atajo `Ctrl + Shift + P` para desplegar la paleta de comandos.\n",
    "\n",
    "Hay dos términos bastante destacados que gat tener en cuenta, que probablemente sean nuevos: **celdas** y **kernels** son claves tanto para entender Jupyter como para entender lo que lo convierte en algo más que un simple procesador de textos.\n",
    "\n",
    "- Un **kernel** es un *motor computacional* que ejecuta el código contenido en un documento del notebook.\n",
    "- Una **celda** es un contenedor para el texto que se mostrará en el cuaderno o el código que ejecutará el **kernel** del cuaderno.\n"
   ]
  },
  {
   "cell_type": "markdown",
   "metadata": {},
   "source": [
    "## Celdas\n",
    "\n",
    "Las células forman el cuerpo de un cuaderno. Donde esta este texto es una celda. \n",
    "\n",
    "Hay dos tipos de celdas principales:\n",
    "\n",
    "- Una celda de código contiene código que se ejecutará en el kernel. Cuando se ejecuta el código, el cuaderno muestra el resultado debajo de la celda del código que lo generó. La primera celda de un cuaderno nuevo es siempre una celda de código.\n",
    "- Una celda de Markdown contiene texto formateado con Markdown y muestra su salida en el lugar cuando se ejecuta la celda de Markdown.\n",
    "\n",
    "Veamos un ejemplo:\n"
   ]
  },
  {
   "cell_type": "code",
   "execution_count": 1,
   "metadata": {},
   "outputs": [
    {
     "name": "stdout",
     "output_type": "stream",
     "text": [
      "Hola mundo!\n"
     ]
    }
   ],
   "source": [
    "# Celda de código. Para ejecutarme, haz click en el botón de ejecutar celda o haciendo Ctrl+Enter\n",
    "print('Hola mundo!')"
   ]
  },
  {
   "cell_type": "markdown",
   "metadata": {},
   "source": [
    "Cuando ejecutamos la celda, su salida se muestra a abajo y la etiqueta a su izquierda habrá cambiado de `In [ ]` a `In [1]`. La salida de una celda de código también forma parte del documento. \n",
    "\n",
    "Siempre puedes notar la diferencia entre el código y las celdas de Markdown porque las celdas de código tienen esa etiqueta a la izquierda y las celdas de Markdown no.\n",
    "\n",
    "La parte `In` de la etiqueta es simplemente la abreviatura de `Input`, mientras que el número de etiqueta indica cuándo se ejecutó la celda en el kernel; en este caso, la celda se ejecutó primero.\n",
    "\n",
    "Si se ejecuta la celda nuevamente, la etiqueta cambiará a `In [2]` porque ahora la celda fue la segunda en ejecutarse en el kernel. \n",
    "\n",
    "En la barra de menú, haga clic en `Insert` y seleccione `Insert cell` para crear una nueva celda de código."
   ]
  },
  {
   "cell_type": "code",
   "execution_count": 2,
   "metadata": {},
   "outputs": [],
   "source": [
    "import time\n",
    "time.sleep(3)"
   ]
  },
  {
   "cell_type": "markdown",
   "metadata": {},
   "source": [
    "Esta celda no produce ningún resultado, pero tarda tres segundos en ejecutarse. Observe cómo Jupyter indica cuándo la celda se está ejecutando actualmente cambiando su etiqueta a `In [*]`.\n",
    "\n",
    "En general, la salida de una celda proviene de cualquier dato de texto impreso específicamente durante la ejecución de la celda, así como del valor de la última línea de la celda, ya sea una variable solitaria, una llamada a una función u otra cosa. Por ejemplo:"
   ]
  },
  {
   "cell_type": "code",
   "execution_count": 3,
   "metadata": {},
   "outputs": [
    {
     "data": {
      "text/plain": [
       "'Hola, Alice!'"
      ]
     },
     "execution_count": 3,
     "metadata": {},
     "output_type": "execute_result"
    }
   ],
   "source": [
    "def say_hello(recipient):\n",
    "    return 'Hola, {}!'.format(recipient)\n",
    "\n",
    "say_hello('Alice')"
   ]
  },
  {
   "cell_type": "markdown",
   "metadata": {},
   "source": [
    "## Atajos de teclado\n",
    "\n",
    "Al ejecutar las celdas, dependiendo de que se este usando, el borde se vuelve azul, mientras que es verde mientras se edita. En un Jupyter Notebook, siempre hay una celda **activa** resaltada con un borde cuyo color indica su modo actual:\n",
    "\n",
    "- **Contorno verde**: la celda está en \"modo de edición\"\n",
    "- **Contorno azul**: la celda está en \"modo comando\"\n",
    "\n",
    "Esto es asi si usamos la interfaz tradicional de Jupyter Notebook. Google colab resalta la celda que uno está ubicado.\n",
    "\n",
    "Mientras estamos editando una celda, podemos usar otros tipos atajos de teclados que nos hace trabajar más rapido (que no es necesario saberlos de memoria):\n",
    "- Cambiar entre el modo de edición y comando con `Esc` y `Enter` respectivamente.\n",
    "\n",
    "Estos comandos funcionan en modo comando:\n",
    "- Desplazarse en la celda superior o inferior usando las teclas `Arriba` y `Abajo`.\n",
    "- Presione `a` o `b` para insertar una celda encima o debajo de la celda activa.\n",
    "- `m` convierte a la celda activa en una celda de Markdown.\n",
    "- `y` establece a la celda en una celda de código.\n",
    "- `d` + `d` (apretando dos veces), eliminará a la celda.\n",
    "- `z` deshará la eliminación de la celda.\n",
    "- `Shift` + `Arriba`/`Abajo` para seleccionar varias celdas a la vez. \n",
    "- Con varias celdas seleccionadas, si se hace `Shift` + `m` se fusionan a todas en una sola celda.\n",
    "- `Ctrl` + `Shift` + `-`, en modo de edición, dividirá la celda activa en donde este el cursor."
   ]
  },
  {
   "cell_type": "markdown",
   "metadata": {},
   "source": [
    "## Markdown\n",
    "\n",
    "[Markdown](https://www.markdownguide.org/) es un lenguaje de marcado ligero y fácil de aprender para dar formato a texto sin formato. Su sintaxis tiene una correspondencia uno a uno con las etiquetas HTML, por lo que algún conocimiento previo sería útil, pero definitivamente no es un requisito previo.\n",
    "\n",
    "Cubramos los conceptos básicos con un ejemplo rápido:\n",
    "\n",
    "```\n",
    "# Esto es un heading nivel 1\n",
    "\n",
    "## Esto es un heading nivel 2\n",
    "\n",
    "Este es un texto sin formato que forma un párrafo. Agregue énfasis mediante **negrita** y __negrita__, o *cursiva* y _cursiva_.\n",
    "\n",
    "Los párrafos deben estar separados por una línea vacía.\n",
    "\n",
    "* En ocasiones queremos incluir listas.\n",
    "* Que se puede viñetar con asteriscos. \n",
    "\n",
    "1. Las listas también pueden estar numeradas.\n",
    "2. Si queremos una lista ordenada.\n",
    "\n",
    "[Es posible agregar links](https://www.example.com)\n",
    "\n",
    "El código en línea usa comillas invertidas simples, y los bloques de código usan comillas invertidas triples o puede tener una sangría de 4 espacios.\n",
    "\n",
    "Y finalmente, agregar imágenes es fácil: ![Alt text](https://www.iana.org/_img/2022/iana-logo-header.svg)\n",
    "```\n",
    "\n",
    "Asi es como se observa Markdown, una vez que se renderea:"
   ]
  },
  {
   "cell_type": "markdown",
   "metadata": {},
   "source": [
    "# Esto es un heading nivel 1\n",
    "\n",
    "## Esto es un heading nivel 2\n",
    "\n",
    "Este es un texto sin formato que forma un párrafo. Agregue énfasis mediante **negrita** y __negrita__, o *cursiva* y _cursiva_.\n",
    "\n",
    "Los párrafos deben estar separados por una línea vacía.\n",
    "\n",
    "* En ocasiones queremos incluir listas.\n",
    "* Que se puede viñetar con asteriscos. \n",
    "\n",
    "1. Las listas también pueden estar numeradas.\n",
    "2. Si queremos una lista ordenada.\n",
    "\n",
    "[Es posible agregar links](https://www.example.com)\n",
    "\n",
    "El código en línea usa comillas invertidas simples: `foo()`, y los bloques de código usan comillas invertidas triples\n",
    "\n",
    "```\n",
    "foo()\n",
    "```\n",
    "\n",
    "o puede tener una sangría de 4 espacios:\n",
    "\n",
    "    foo()\n",
    "\n",
    "Y finalmente, agregar imágenes es fácil: ![Alt text](https://www.iana.org/_img/2022/iana-logo-header.svg)"
   ]
  },
  {
   "cell_type": "markdown",
   "metadata": {},
   "source": [
    "Al adjuntar imágenes se tiene tres opciones:\n",
    "\n",
    "- Utilizar una URL para una imagen en la web.\n",
    "- Utilizar una URL local para una imagen que guardará junto a su cuaderno, por ejemplo en el mismo repositorio de Git.\n",
    "- Agregue un archivo adjunto a través de `Edit> Insert Image`; esto convertirá la imagen en una cadena y la almacenará dentro del archivo `.ipynb`. Tenga en cuenta que esto hará que su archivo `.ipynb` sea mucho más grande.\n",
    "\n",
    "Hay mucho más en Markdown, puedes consultar la guía oficial de [Markdown](https://www.markdownguide.org/)"
   ]
  },
  {
   "cell_type": "markdown",
   "metadata": {},
   "source": [
    "## Kernels\n",
    "\n",
    "Detrás de cada notebook se ejecuta un kernel. Cuando ejecuta una celda de código, ese código se ejecuta dentro del kernel. Cualquier resultado se devuelve a la celda que se mostrará. El estado del núcleo persiste en el tiempo y entre celdas; pertenece al documento como un todo y no a celdas individuales.\n",
    "\n",
    "Por ejemplo, si se importa bibliotecas o declara variables en una celda, estarán disponibles en otra. Probemos esto para tener una idea. Primero, importaremos un paquete de Python y definiremos una función:"
   ]
  },
  {
   "cell_type": "code",
   "execution_count": 4,
   "metadata": {},
   "outputs": [],
   "source": [
    "import numpy as np\n",
    "def square(x):\n",
    "    return x * x"
   ]
  },
  {
   "cell_type": "markdown",
   "metadata": {},
   "source": [
    "Una vez que hayamos ejecutado la celda anterior, podemos hacer referencia a `np` y `square` en cualquier otra celda."
   ]
  },
  {
   "cell_type": "code",
   "execution_count": 5,
   "metadata": {},
   "outputs": [
    {
     "name": "stdout",
     "output_type": "stream",
     "text": [
      "3 al cuadrado es 9\n"
     ]
    }
   ],
   "source": [
    "x = np.random.randint(1, 10)\n",
    "y = square(x)\n",
    "print('%d al cuadrado es %d' % (x, y))"
   ]
  },
  {
   "cell_type": "markdown",
   "metadata": {},
   "source": [
    "Esto funcionará independientemente del orden de las celdas de su cuaderno. Mientras se haya ejecutado una celda, cualquier variable que haya declarado o bibliotecas que haya importado estarán disponibles en otras celdas."
   ]
  },
  {
   "cell_type": "code",
   "execution_count": 6,
   "metadata": {},
   "outputs": [
    {
     "name": "stdout",
     "output_type": "stream",
     "text": [
      "3 al cuadrado es 9\n"
     ]
    }
   ],
   "source": [
    "print('%d al cuadrado es %d' % (x, y))"
   ]
  },
  {
   "cell_type": "markdown",
   "metadata": {},
   "source": [
    "La mayoría de las veces, cuando se crea un notebook, el flujo será de arriba a abajo. Pero es común volver atrás para hacer cambios. Cuando necesitamos realizar cambios en una celda anterior, el orden de ejecución que podemos ver a la izquierda de cada celda, como en `[6]`, puede ayudarnos a diagnosticar problemas al ver en qué orden se han ejecutado las celdas.\n",
    "\n",
    "Y si alguna vez deseamos restablecer cosas, hay varias opciones increíblemente útiles en el menú Kernel:\n",
    "- **Restart**: Reinicia el kernel, borrando así todas las variables etc que fueron definidas.\n",
    "- **Restart & Clear Output**: Igual que arriba pero también borrará la salida que se muestra debajo de las celdas de código.\n",
    "- **Restart & Run All**: Igual que el anterior, pero también ejecutará todas las celdas en orden desde la primera hasta la última.\n",
    "\n",
    "Si su kernel alguna vez se atasca en un cálculo y desea detenerlo, puede elegir la opción **Interrupt**."
   ]
  },
  {
   "cell_type": "markdown",
   "metadata": {},
   "source": [
    "## Elegir un Kernel\n",
    "\n",
    "Jupyter te da la opción de cambiar el kernel y, de hecho, hay muchas opciones diferentes para elegir. Cuando creas un nuevo notebook desde el panel seleccionando una versión de Python, se está eligiendo qué kernel usar.\n",
    "\n",
    "Existen kernels para diferentes versiones de Python y también para más de 100 lenguajes, incluidos Java, C e incluso Fortran. Cada kernel tiene sus propias instrucciones de instalación.\n",
    "\n",
    "Tenga en cuenta que cerrar la pestaña del notebook en el navegador no **cerrará** el notebook de la misma manera que lo haría al cerrar un documento en una aplicación tradicional. El kernel del notebook continuará ejecutándose en segundo plano y debe apagarse antes de que esté realmente \"cerrado\". Esto es bastante útil si cierra accidentalmente su pestaña o navegador. Google Colab no funciona asi, si se cierra la pestaña, se apaga todo.\n",
    "\n",
    "Para apagar el kernel, la forma más sencilla de hacerlo es seleccionar `File> Close and Halt` en el menú del notebook. Sin embargo, también se puede apagar el kernel yendo a `Kernel > Shutdown` o seleccionando el notebook en el panel principal y haciendo clic en `Shutdown`.\n"
   ]
  },
  {
   "cell_type": "markdown",
   "metadata": {},
   "source": [
    "## Save and Checkpoint\n",
    "\n",
    "Cuando se está trabajando en una notebook, lo mejor es guardar periódicamente. Al presionar `Ctrl + S` se guardará el notebook llamando al comando `Save and Checkpoint`.\n",
    "\n",
    "Pero qué es checkpoint? Cada vez que creamos un nuevo notebook, se crea un archivo de punto de control junto con el archivo del notebook. Se encuentra dentro de un subdirectorio oculto de donde esta el notebook llamado `.ipynb_checkpoints` y también es un archivo `.ipynb`.\n",
    "\n",
    "De forma predeterminada, Jupyter guardará automáticamente el notebook cada 120 segundos en este archivo de checkpoint sin alterar el archivo de notebook principal. Cuando se ejecuta `Save and Checkpoint`, se actualizan tanto el archivo del notebook como el del checkpoint. Por lo tanto, el checkpoint le permite recuperar su trabajo no guardado en caso de un problema inesperado. Puede volver a un checkpoint desde el menú, se puede hacer a través de `File > Revert to Checkpoint`."
   ]
  },
  {
   "cell_type": "markdown",
   "metadata": {},
   "source": [
    "## Compartiendo los notebooks\n",
    "\n",
    "Cuando la gente habla de compartir sus notebooks, generalmente hay dos paradigmas que pueden estar considerando.\n",
    "\n",
    "La mayoría de las veces, las personas comparten el resultado final de su trabajo, lo que significa compartir versiones no interactivas y pre-renderizadas de sus notebooks. Sin embargo, también es posible colaborar en notebooks con la ayuda de sistemas de control de versiones como **Git** o con **Google Colab**.\n",
    "\n",
    "### Antes de compartir\n",
    "\n",
    "Un notebook compartido aparecerá exactamente en el estado en el que se encontraba cuando lo exportó o guardó, incluida la salida de las celdas de código. Por lo tanto, para asegurarse de que su notebook esté lista para compartir, hay algunos pasos que debe seguir antes de compartir:\n",
    "\n",
    "- Haga click en `Cell > All Output > Clear`.\n",
    "- Haga click en `Kernel > Restart & Run All`.\n",
    "\n",
    "Espere a que las celdas de su código terminen de ejecutarse y verifique que se haya ejecutado como se esperaba. Esto garantizará que sus notebooks no contengan resultados intermedios, no tengan un estado obsoleto y se ejecuten en orden al momento de compartirlos.\n",
    "\n",
    "### Exportar un notebook\n",
    "\n",
    "Jupyter tiene soporte integrado para exportar a HTML y PDF, así como a varios otros formatos, que puede encontrar en el menú en `File > Download As`.\n",
    "\n",
    "Si desea compartir sus notebook con un pequeño grupo privado, esta funcionalidad puede ser todo lo que necesita. De hecho, como muchos investigadores de instituciones académicas cuentan con algún espacio web público o interno, y como se puede exportar un notebook a un archivo HTML, Jupyter Notebooks puede ser una forma especialmente conveniente para que los investigadores compartan sus resultados con sus pares.\n",
    "\n",
    "Pero si compartir archivos exportados no es suficiente, también existen algunos métodos populares para compartir archivos `.ipynb` de manera más directa. Una forma es subiendo la notebook, y contenido accesorio en repositorio de Git."
   ]
  }
 ],
 "metadata": {
  "kernelspec": {
   "display_name": "notebook_env_python3_11",
   "language": "python",
   "name": "notebook_env_python3_11"
  },
  "language_info": {
   "codemirror_mode": {
    "name": "ipython",
    "version": 3
   },
   "file_extension": ".py",
   "mimetype": "text/x-python",
   "name": "python",
   "nbconvert_exporter": "python",
   "pygments_lexer": "ipython3",
   "version": "3.11.4"
  }
 },
 "nbformat": 4,
 "nbformat_minor": 2
}
