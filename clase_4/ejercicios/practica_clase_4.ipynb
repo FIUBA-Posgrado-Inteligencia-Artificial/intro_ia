{
 "cells": [
  {
   "cell_type": "code",
   "execution_count": 1,
   "id": "aaff5b1f",
   "metadata": {},
   "outputs": [],
   "source": [
    "import numpy as np\n",
    "import matplotlib.pyplot as plt"
   ]
  },
  {
   "cell_type": "markdown",
   "id": "06fc82b2",
   "metadata": {},
   "source": [
    "# Repaso de clases y herencia en Python"
   ]
  },
  {
   "cell_type": "markdown",
   "id": "a0113b83",
   "metadata": {},
   "source": [
    "    class BaseClass:\n",
    "      Body of base class\n",
    "    class DerivedClass(BaseClass):\n",
    "      Body of derived class"
   ]
  },
  {
   "cell_type": "code",
   "execution_count": 2,
   "id": "5f5b141a",
   "metadata": {},
   "outputs": [],
   "source": [
    "class Polygon(object):\n",
    "    def __init__(self, lados): # Crear una instancia de la clase\n",
    "        self.n = lados\n",
    "        self.lados = [0 for i in range(lados)]\n",
    "\n",
    "    def inputSides(self): # Definir la longitud de los lados\n",
    "        self.lados = [float(input(\"Enter side \"+str(i+1)+\" : \")) for i in range(self.n)]\n",
    "\n",
    "    def dispSides(self): # Muestra la longitud definida en pantalla\n",
    "        for i in range(self.n):\n",
    "            print(\"Side\",i+1,\"is\",self.lados[i])"
   ]
  },
  {
   "cell_type": "code",
   "execution_count": 3,
   "id": "705c6ba3",
   "metadata": {},
   "outputs": [],
   "source": [
    "p = Polygon(4)"
   ]
  },
  {
   "cell_type": "code",
   "execution_count": 5,
   "id": "c26e41e2",
   "metadata": {},
   "outputs": [
    {
     "name": "stdout",
     "output_type": "stream",
     "text": [
      "Enter side 1 : 3\n",
      "Enter side 2 : 4\n",
      "Enter side 3 : 5\n",
      "Enter side 4 : 6\n"
     ]
    }
   ],
   "source": [
    "p.inputSides()"
   ]
  },
  {
   "cell_type": "code",
   "execution_count": 6,
   "id": "623ed594",
   "metadata": {},
   "outputs": [
    {
     "name": "stdout",
     "output_type": "stream",
     "text": [
      "Side 1 is 3.0\n",
      "Side 2 is 4.0\n",
      "Side 3 is 5.0\n",
      "Side 4 is 6.0\n"
     ]
    }
   ],
   "source": [
    "p.dispSides()"
   ]
  },
  {
   "cell_type": "markdown",
   "id": "90a6c1b4",
   "metadata": {},
   "source": [
    "¿Mejorable? \n",
    "* Verificar cantidad de lados\n",
    "* Verificar longitudes positivas\n",
    "* Verificar que las medidas den bien"
   ]
  },
  {
   "cell_type": "code",
   "execution_count": 7,
   "id": "8306869d",
   "metadata": {},
   "outputs": [],
   "source": [
    "class Triangle(Polygon):\n",
    "    def __init__(self):\n",
    "        super().__init__(3)\n",
    "\n",
    "    def findArea(self):\n",
    "        a, b, c = self.lados\n",
    "        # calculate the semi-perimeter\n",
    "        s = (a + b + c) / 2\n",
    "        area = (s*(s-a)*(s-b)*(s-c)) ** 0.5\n",
    "        print('The area of the triangle is %0.2f' %area)"
   ]
  },
  {
   "cell_type": "code",
   "execution_count": 8,
   "id": "a8f61e0d",
   "metadata": {},
   "outputs": [],
   "source": [
    "t = Triangle() # No requiere la cantidad de lados, es un triangulo! "
   ]
  },
  {
   "cell_type": "code",
   "execution_count": 9,
   "id": "d830ec1e",
   "metadata": {},
   "outputs": [
    {
     "name": "stdout",
     "output_type": "stream",
     "text": [
      "The area of the triangle is 0.00\n"
     ]
    }
   ],
   "source": [
    "t.findArea()"
   ]
  },
  {
   "cell_type": "code",
   "execution_count": 10,
   "id": "49f7da39",
   "metadata": {},
   "outputs": [
    {
     "name": "stdout",
     "output_type": "stream",
     "text": [
      "Enter side 1 : 3\n",
      "Enter side 2 : 4\n",
      "Enter side 3 : 5\n"
     ]
    }
   ],
   "source": [
    "t.inputSides()"
   ]
  },
  {
   "cell_type": "code",
   "execution_count": 12,
   "id": "53c1d6c6",
   "metadata": {},
   "outputs": [
    {
     "name": "stdout",
     "output_type": "stream",
     "text": [
      "The area of the triangle is 6.00\n"
     ]
    }
   ],
   "source": [
    "t.findArea()"
   ]
  },
  {
   "cell_type": "markdown",
   "id": "62ebfce6",
   "metadata": {},
   "source": [
    "# 1 - Evaluar modelos"
   ]
  },
  {
   "cell_type": "markdown",
   "id": "e0e0dd67",
   "metadata": {},
   "source": [
    "Dada la clase RegressionMetric como base y la métrica de $R^2$, implementar:\n",
    "\n",
    "* MAE\n",
    "* MSE\n",
    "* RMSE\n",
    "\n",
    "Como clases que heredan de RegressionMetric."
   ]
  },
  {
   "cell_type": "code",
   "execution_count": 21,
   "id": "e5d922e1",
   "metadata": {},
   "outputs": [],
   "source": [
    "class RegressionMetric(object):\n",
    "    def __init__(self,ytrue,yhat):\n",
    "        self.yhat = yhat\n",
    "        self.ytrue = ytrue\n",
    "    def __call__(self):\n",
    "        NotImplemented"
   ]
  },
  {
   "cell_type": "code",
   "execution_count": 22,
   "id": "e4e9d03b",
   "metadata": {},
   "outputs": [],
   "source": [
    "class r2(RegressionMetric):\n",
    "    def __call__(self):\n",
    "        self.ymean = np.mean(self.ytrue)\n",
    "        return 1 - np.sum((self.ytrue - self.yhat)**2)/np.sum((self.ytrue - self.ymean)**2)\n",
    "    "
   ]
  },
  {
   "cell_type": "code",
   "execution_count": 23,
   "id": "e68e4f32",
   "metadata": {},
   "outputs": [],
   "source": [
    "m = r2(np.array([1,2,3]),    np.array([1.1,2.1,3.1]))"
   ]
  },
  {
   "cell_type": "code",
   "execution_count": 19,
   "id": "080263f6",
   "metadata": {},
   "outputs": [
    {
     "data": {
      "text/plain": [
       "0.985"
      ]
     },
     "execution_count": 19,
     "metadata": {},
     "output_type": "execute_result"
    }
   ],
   "source": [
    "m()"
   ]
  },
  {
   "cell_type": "code",
   "execution_count": 20,
   "id": "b9653a5a",
   "metadata": {},
   "outputs": [
    {
     "data": {
      "text/plain": [
       "(2.0, array([1, 2, 3]), array([1.1, 2.1, 3.1]))"
      ]
     },
     "execution_count": 20,
     "metadata": {},
     "output_type": "execute_result"
    }
   ],
   "source": [
    "m.ymean, m.ytrue, m.yhat"
   ]
  },
  {
   "cell_type": "code",
   "execution_count": 21,
   "id": "7c599799",
   "metadata": {},
   "outputs": [],
   "source": [
    "class MAE():\n",
    "    NotImplemented\n",
    "class MSE():\n",
    "    NotImplemented    \n",
    "class RMSE():\n",
    "    NotImplemented"
   ]
  },
  {
   "cell_type": "markdown",
   "id": "2621d1f8",
   "metadata": {},
   "source": [
    "# 2 - Modelo lineal en numpy"
   ]
  },
  {
   "cell_type": "markdown",
   "id": "469fff07",
   "metadata": {},
   "source": [
    "## 2.a - Regresión lineal con ordenada\n",
    "\n",
    "Tomando como base el ejercicio 5 de la clase 3, modificar la función lineal para que ofrezca la posibilidad de ajustar con término independiente. "
   ]
  },
  {
   "cell_type": "code",
   "execution_count": null,
   "id": "27dc5b33",
   "metadata": {},
   "outputs": [],
   "source": [
    "def regresion_lineal():\n",
    "    NotImplemented"
   ]
  },
  {
   "cell_type": "markdown",
   "id": "9e4fc6a1",
   "metadata": {},
   "source": [
    "## 2.b - Regresión polinómica\n",
    "Tomando el ejercicio anterior. Modificar la función para que permita ajustar polinomios de grado N a elección del usuario. "
   ]
  },
  {
   "cell_type": "code",
   "execution_count": null,
   "id": "f1d47923",
   "metadata": {},
   "outputs": [],
   "source": [
    "def regresion_polinomica(x,y,n):\n",
    "    NotImplemented"
   ]
  },
  {
   "cell_type": "markdown",
   "id": "df0ae2d1",
   "metadata": {},
   "source": [
    "# 3 - Modelos como clases\n",
    "\n",
    "Tomando como ejemplo el ejercicio 1, crear una clase \"BaseModel\" que tenga, al menos, los métodos fit y predict. El primero calculará la media de la variable de salida, y el segundo siempre retorna ese valor como predicción.\n",
    "\n",
    "Reimplementar 2a y 2b como clases que hereda de BaseModel."
   ]
  },
  {
   "cell_type": "code",
   "execution_count": null,
   "id": "565dd34e",
   "metadata": {},
   "outputs": [],
   "source": [
    "class BaseModel():\n",
    "    NotImplemented\n",
    "class LinearRegression():\n",
    "    NotImplemented\n",
    "class PolynomialRegression():\n",
    "    NotImplemented"
   ]
  },
  {
   "cell_type": "markdown",
   "id": "e9cfea52",
   "metadata": {},
   "source": [
    "# 4 - Probar lo implementado"
   ]
  },
  {
   "cell_type": "markdown",
   "id": "2c6aeba1",
   "metadata": {},
   "source": [
    "Dados los siguientes datos:"
   ]
  },
  {
   "cell_type": "code",
   "execution_count": 17,
   "id": "eba544c7",
   "metadata": {},
   "outputs": [
    {
     "data": {
      "text/plain": [
       "array([7, 2, 3, 4, 4])"
      ]
     },
     "execution_count": 17,
     "metadata": {},
     "output_type": "execute_result"
    }
   ],
   "source": [
    "xline = np.linspace(-5,5,200)\n",
    "idx = np.random.randint(0,200,50)\n",
    "x = xline[idx]\n",
    "np.random.seed(12)\n",
    "np.random.randint(1,10,5)"
   ]
  },
  {
   "cell_type": "code",
   "execution_count": 18,
   "id": "b544c845",
   "metadata": {},
   "outputs": [],
   "source": [
    "y = 7 + 2 * x + 3 * x**2 + 4 * x**3 + 4 * x**4"
   ]
  },
  {
   "cell_type": "code",
   "execution_count": 19,
   "id": "d2d84b61",
   "metadata": {},
   "outputs": [
    {
     "data": {
      "text/plain": [
       "((50,), (50,))"
      ]
     },
     "execution_count": 19,
     "metadata": {},
     "output_type": "execute_result"
    }
   ],
   "source": [
    "x.shape, y.shape"
   ]
  },
  {
   "cell_type": "code",
   "execution_count": 20,
   "id": "4e36999d",
   "metadata": {
    "scrolled": true
   },
   "outputs": [
    {
     "data": {
      "image/png": "[encoded data removed]",
      "text/plain": [
       "<Figure size 432x288 with 1 Axes>"
      ]
     },
     "metadata": {
      "needs_background": "light"
     },
     "output_type": "display_data"
    }
   ],
   "source": [
    "plt.scatter(x,y)\n",
    "plt.show()"
   ]
  },
  {
   "cell_type": "markdown",
   "id": "3e52e5ca",
   "metadata": {},
   "source": [
    "**Modelar con los 3 modelos y calcular las métricas.** "
   ]
  },
  {
   "cell_type": "markdown",
   "id": "3e7a01e9",
   "metadata": {},
   "source": [
    "**BaseModel**"
   ]
  },
  {
   "cell_type": "code",
   "execution_count": null,
   "id": "cbe4e3c6",
   "metadata": {},
   "outputs": [],
   "source": []
  },
  {
   "cell_type": "markdown",
   "id": "446318be",
   "metadata": {},
   "source": [
    "**LinearRegression**"
   ]
  },
  {
   "cell_type": "code",
   "execution_count": null,
   "id": "095328ff",
   "metadata": {},
   "outputs": [],
   "source": []
  },
  {
   "cell_type": "markdown",
   "id": "8d0dbcd6",
   "metadata": {},
   "source": [
    "**PolynomialRegression**"
   ]
  },
  {
   "cell_type": "code",
   "execution_count": null,
   "id": "fa4ea00e",
   "metadata": {},
   "outputs": [],
   "source": []
  }
 ],
 "metadata": {
  "kernelspec": {
   "display_name": "Python 3 (ipykernel)",
   "language": "python",
   "name": "python3"
  },
  "language_info": {
   "codemirror_mode": {
    "name": "ipython",
    "version": 3
   },
   "file_extension": ".py",
   "mimetype": "text/x-python",
   "name": "python",
   "nbconvert_exporter": "python",
   "pygments_lexer": "ipython3",
   "version": "3.8.10"
  }
 },
 "nbformat": 4,
 "nbformat_minor": 5
}
