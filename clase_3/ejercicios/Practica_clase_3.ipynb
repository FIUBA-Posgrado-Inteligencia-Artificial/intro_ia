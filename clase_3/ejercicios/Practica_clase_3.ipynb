{
 "cells": [
  {
   "cell_type": "code",
   "execution_count": 9,
   "id": "aaf94e0a",
   "metadata": {},
   "outputs": [],
   "source": [
    "import numpy as np\n",
    "import pandas as pd\n",
    "from sklearn import *"
   ]
  },
  {
   "cell_type": "code",
   "execution_count": 10,
   "id": "65843123",
   "metadata": {},
   "outputs": [],
   "source": [
    "data = np.loadtxt('./clase3v2.csv', delimiter = ';')"
   ]
  },
  {
   "cell_type": "markdown",
   "id": "bc637a8c",
   "metadata": {},
   "source": [
    "El dataset 'clase3v2.csv' es un dataset sintético para un problema de regresión. Su columna target es la última. "
   ]
  },
  {
   "cell_type": "markdown",
   "id": "c51994ab",
   "metadata": {},
   "source": [
    "# Ejercicio 1\n",
    "\n",
    "Crear una función que remueva filas y columnas con NaNs."
   ]
  },
  {
   "cell_type": "code",
   "execution_count": 3,
   "id": "b96f9995",
   "metadata": {},
   "outputs": [
    {
     "data": {
      "text/plain": [
       "array([ True,  True,  True,  True,  True,  True,  True,  True,  True,\n",
       "        True,  True,  True,  True,  True,  True,  True,  True,  True,\n",
       "        True,  True,  True,  True,  True,  True,  True, False, False,\n",
       "       False, False, False, False, False, False, False, False, False,\n",
       "       False, False, False, False, False, False, False, False, False,\n",
       "       False, False, False, False, False, False, False, False, False,\n",
       "       False, False, False, False, False, False, False, False, False,\n",
       "       False, False, False, False, False, False, False, False, False,\n",
       "       False, False, False, False, False, False, False, False, False,\n",
       "       False, False, False, False, False, False, False, False, False,\n",
       "       False, False, False, False, False, False, False, False, False,\n",
       "       False])"
      ]
     },
     "execution_count": 3,
     "metadata": {},
     "output_type": "execute_result"
    }
   ],
   "source": [
    "np.isnan(data).any(axis=1)"
   ]
  },
  {
   "cell_type": "code",
   "execution_count": 4,
   "id": "87cbf1de",
   "metadata": {},
   "outputs": [
    {
     "data": {
      "text/plain": [
       "array([False, False, False, False, False, False, False, False, False,\n",
       "       False, False, False, False, False, False, False, False, False,\n",
       "       False, False, False, False, False, False, False,  True,  True,\n",
       "        True,  True,  True,  True,  True,  True,  True,  True,  True,\n",
       "        True,  True,  True,  True,  True,  True,  True,  True,  True,\n",
       "        True,  True,  True,  True,  True,  True,  True,  True,  True,\n",
       "        True,  True,  True,  True,  True,  True,  True,  True,  True,\n",
       "        True,  True,  True,  True,  True,  True,  True,  True,  True,\n",
       "        True,  True,  True,  True,  True,  True,  True,  True,  True,\n",
       "        True,  True,  True,  True,  True,  True,  True,  True,  True,\n",
       "        True,  True,  True,  True,  True,  True,  True,  True,  True,\n",
       "        True])"
      ]
     },
     "execution_count": 4,
     "metadata": {},
     "output_type": "execute_result"
    }
   ],
   "source": [
    "~np.isnan(data).any(axis=1)"
   ]
  },
  {
   "cell_type": "code",
   "execution_count": 5,
   "id": "6e99f05d",
   "metadata": {},
   "outputs": [
    {
     "data": {
      "text/plain": [
       "(100, 7)"
      ]
     },
     "execution_count": 5,
     "metadata": {},
     "output_type": "execute_result"
    }
   ],
   "source": [
    "data.shape"
   ]
  },
  {
   "cell_type": "code",
   "execution_count": 6,
   "id": "3cfc1af6",
   "metadata": {},
   "outputs": [],
   "source": [
    "def removefilas(data):\n",
    "    d = data[~np.isnan(data).any(axis=1), :]\n",
    "    return d"
   ]
  },
  {
   "cell_type": "code",
   "execution_count": 7,
   "id": "66052551",
   "metadata": {},
   "outputs": [],
   "source": [
    "def removecolumns(data):\n",
    "    d = data[:, ~np.isnan(data).any(axis=0)]\n",
    "    return d"
   ]
  },
  {
   "cell_type": "code",
   "execution_count": 8,
   "id": "bb74c35c",
   "metadata": {},
   "outputs": [
    {
     "ename": "NameError",
     "evalue": "name 'removenans' is not defined",
     "output_type": "error",
     "traceback": [
      "\u001b[0;31m---------------------------------------------------------------------------\u001b[0m",
      "\u001b[0;31mNameError\u001b[0m                                 Traceback (most recent call last)",
      "Input \u001b[0;32mIn [8]\u001b[0m, in \u001b[0;36m<module>\u001b[0;34m\u001b[0m\n\u001b[0;32m----> 1\u001b[0m data_nan \u001b[38;5;241m=\u001b[39m \u001b[43mremovenans\u001b[49m(data)\n",
      "\u001b[0;31mNameError\u001b[0m: name 'removenans' is not defined"
     ]
    }
   ],
   "source": [
    "data_nan = removenans(data)"
   ]
  },
  {
   "cell_type": "code",
   "execution_count": 66,
   "id": "de6919a5",
   "metadata": {},
   "outputs": [
    {
     "data": {
      "text/plain": [
       "(75, 7)"
      ]
     },
     "execution_count": 66,
     "metadata": {},
     "output_type": "execute_result"
    }
   ],
   "source": [
    "data_nan.shape"
   ]
  },
  {
   "cell_type": "markdown",
   "id": "808ffcaa",
   "metadata": {},
   "source": [
    "# Ejercicio 2\n",
    "\n",
    "Crear una función que reemplace NaN por la media y otra con la mediana de la columna."
   ]
  },
  {
   "cell_type": "code",
   "execution_count": 41,
   "id": "24afc1d0",
   "metadata": {},
   "outputs": [
    {
     "data": {
      "text/plain": [
       "array([ 2.27198551,  1.28481564,  4.18456924,  1.10395579, -0.63116864,\n",
       "       -3.83479401,  1.5093118 ])"
      ]
     },
     "execution_count": 41,
     "metadata": {},
     "output_type": "execute_result"
    }
   ],
   "source": [
    "np.nanmean(data, axis=0)"
   ]
  },
  {
   "cell_type": "code",
   "execution_count": 43,
   "id": "01b0491e",
   "metadata": {},
   "outputs": [],
   "source": [
    "data2 = data.copy()"
   ]
  },
  {
   "cell_type": "code",
   "execution_count": 67,
   "id": "8d1b1854",
   "metadata": {},
   "outputs": [],
   "source": [
    "np.nan_to_num?"
   ]
  },
  {
   "cell_type": "code",
   "execution_count": 70,
   "id": "c89ac59d",
   "metadata": {},
   "outputs": [],
   "source": [
    "data2 = np.nan_to_num(data2,False, np.nanmean(data, axis=0))"
   ]
  },
  {
   "cell_type": "code",
   "execution_count": 48,
   "id": "1b15db0b",
   "metadata": {},
   "outputs": [
    {
     "data": {
      "text/plain": [
       "0"
      ]
     },
     "execution_count": 48,
     "metadata": {},
     "output_type": "execute_result"
    }
   ],
   "source": [
    "np.isnan(data2).sum()"
   ]
  },
  {
   "cell_type": "code",
   "execution_count": 50,
   "id": "a256f478",
   "metadata": {},
   "outputs": [
    {
     "data": {
      "text/plain": [
       "array([[False, False,  True, False,  True, False, False],\n",
       "       [False, False,  True, False,  True, False, False],\n",
       "       [False, False,  True, False,  True, False, False],\n",
       "       [False, False,  True, False,  True, False, False],\n",
       "       [False, False,  True, False,  True, False, False],\n",
       "       [False, False,  True, False,  True, False, False],\n",
       "       [False, False,  True, False,  True, False, False],\n",
       "       [False, False,  True, False,  True, False, False],\n",
       "       [False, False,  True, False,  True, False, False],\n",
       "       [False, False,  True, False,  True, False, False],\n",
       "       [False, False,  True, False,  True, False, False],\n",
       "       [False, False,  True, False,  True, False, False],\n",
       "       [False, False,  True, False,  True, False, False],\n",
       "       [False, False,  True, False,  True, False, False],\n",
       "       [False, False,  True, False,  True, False, False],\n",
       "       [False, False,  True, False, False, False, False],\n",
       "       [False, False,  True, False, False, False, False],\n",
       "       [False, False,  True, False, False, False, False],\n",
       "       [False, False,  True, False, False, False, False],\n",
       "       [False, False,  True, False, False, False, False],\n",
       "       [False, False,  True, False, False, False, False],\n",
       "       [False, False,  True, False, False, False, False],\n",
       "       [False, False,  True, False, False, False, False],\n",
       "       [False, False,  True, False, False, False, False],\n",
       "       [False, False,  True, False, False, False, False],\n",
       "       [False, False, False, False, False, False, False],\n",
       "       [False, False, False, False, False, False, False],\n",
       "       [False, False, False, False, False, False, False],\n",
       "       [False, False, False, False, False, False, False],\n",
       "       [False, False, False, False, False, False, False],\n",
       "       [False, False, False, False, False, False, False],\n",
       "       [False, False, False, False, False, False, False],\n",
       "       [False, False, False, False, False, False, False],\n",
       "       [False, False, False, False, False, False, False],\n",
       "       [False, False, False, False, False, False, False],\n",
       "       [False, False, False, False, False, False, False],\n",
       "       [False, False, False, False, False, False, False],\n",
       "       [False, False, False, False, False, False, False],\n",
       "       [False, False, False, False, False, False, False],\n",
       "       [False, False, False, False, False, False, False],\n",
       "       [False, False, False, False, False, False, False],\n",
       "       [False, False, False, False, False, False, False],\n",
       "       [False, False, False, False, False, False, False],\n",
       "       [False, False, False, False, False, False, False],\n",
       "       [False, False, False, False, False, False, False],\n",
       "       [False, False, False, False, False, False, False],\n",
       "       [False, False, False, False, False, False, False],\n",
       "       [False, False, False, False, False, False, False],\n",
       "       [False, False, False, False, False, False, False],\n",
       "       [False, False, False, False, False, False, False],\n",
       "       [False, False, False, False, False, False, False],\n",
       "       [False, False, False, False, False, False, False],\n",
       "       [False, False, False, False, False, False, False],\n",
       "       [False, False, False, False, False, False, False],\n",
       "       [False, False, False, False, False, False, False],\n",
       "       [False, False, False, False, False, False, False],\n",
       "       [False, False, False, False, False, False, False],\n",
       "       [False, False, False, False, False, False, False],\n",
       "       [False, False, False, False, False, False, False],\n",
       "       [False, False, False, False, False, False, False],\n",
       "       [False, False, False, False, False, False, False],\n",
       "       [False, False, False, False, False, False, False],\n",
       "       [False, False, False, False, False, False, False],\n",
       "       [False, False, False, False, False, False, False],\n",
       "       [False, False, False, False, False, False, False],\n",
       "       [False, False, False, False, False, False, False],\n",
       "       [False, False, False, False, False, False, False],\n",
       "       [False, False, False, False, False, False, False],\n",
       "       [False, False, False, False, False, False, False],\n",
       "       [False, False, False, False, False, False, False],\n",
       "       [False, False, False, False, False, False, False],\n",
       "       [False, False, False, False, False, False, False],\n",
       "       [False, False, False, False, False, False, False],\n",
       "       [False, False, False, False, False, False, False],\n",
       "       [False, False, False, False, False, False, False],\n",
       "       [False, False, False, False, False, False, False],\n",
       "       [False, False, False, False, False, False, False],\n",
       "       [False, False, False, False, False, False, False],\n",
       "       [False, False, False, False, False, False, False],\n",
       "       [False, False, False, False, False, False, False],\n",
       "       [False, False, False, False, False, False, False],\n",
       "       [False, False, False, False, False, False, False],\n",
       "       [False, False, False, False, False, False, False],\n",
       "       [False, False, False, False, False, False, False],\n",
       "       [False, False, False, False, False, False, False],\n",
       "       [False, False, False, False, False, False, False],\n",
       "       [False, False, False, False, False, False, False],\n",
       "       [False, False, False, False, False, False, False],\n",
       "       [False, False, False, False, False, False, False],\n",
       "       [False, False, False, False, False, False, False],\n",
       "       [False, False, False, False, False, False, False],\n",
       "       [False, False, False, False, False, False, False],\n",
       "       [False, False, False, False, False, False, False],\n",
       "       [False, False, False, False, False, False, False],\n",
       "       [False, False, False, False, False, False, False],\n",
       "       [False, False, False, False, False, False, False],\n",
       "       [False, False, False, False, False, False, False],\n",
       "       [False, False, False, False, False, False, False],\n",
       "       [False, False, False, False, False, False, False],\n",
       "       [False, False, False, False, False, False, False]])"
      ]
     },
     "execution_count": 50,
     "metadata": {},
     "output_type": "execute_result"
    }
   ],
   "source": [
    "np.isnan(data)"
   ]
  },
  {
   "cell_type": "code",
   "execution_count": 53,
   "id": "5f15a606",
   "metadata": {
    "scrolled": true
   },
   "outputs": [
    {
     "data": {
      "text/plain": [
       "-0.6311686415689359"
      ]
     },
     "execution_count": 53,
     "metadata": {},
     "output_type": "execute_result"
    }
   ],
   "source": [
    "np.nanmean(data, axis=0)[4]"
   ]
  },
  {
   "cell_type": "code",
   "execution_count": 51,
   "id": "c2689d4b",
   "metadata": {},
   "outputs": [
    {
     "data": {
      "text/plain": [
       "array([-0.63116864, -0.63116864, -0.63116864, -0.63116864, -0.63116864,\n",
       "       -0.63116864, -0.63116864, -0.63116864, -0.63116864, -0.63116864,\n",
       "       -0.63116864, -0.63116864, -0.63116864, -0.63116864, -0.63116864,\n",
       "       -0.34701968, -0.90534368, -0.87100907, -0.8316363 ,  1.73002857,\n",
       "        1.72919579, -4.66404334, -3.66221363, -4.8259839 , -0.34138897,\n",
       "       -7.62384533, -2.42730589,  6.11679773,  1.34285918,  2.72547311,\n",
       "        1.19371771, -1.29957288, -0.68483286, -2.12225063, -4.21532956,\n",
       "        4.30003861, -1.73669765, -0.14175759,  0.16368406,  1.90101285,\n",
       "        0.09012476,  1.28458725,  3.36275505,  4.62508432, -0.41679513,\n",
       "        2.12395748, -1.01385569, -0.51066842, -0.82659342, -5.51494607,\n",
       "        1.02619283,  2.07782599, -3.84152758, -4.51766639, -0.93921135,\n",
       "       -3.77904391, -2.47518076,  0.01764788,  0.50988832, -0.16677125,\n",
       "       -7.48469417, -7.40287074,  2.83986748,  3.13346525, -1.44646454,\n",
       "       -4.16464641, -1.27630652,  6.57561764, -2.16817612, -4.65584563,\n",
       "        0.25072097,  0.83589074, -2.04431239,  0.21902049,  3.36989995,\n",
       "       -4.93194939,  2.35185969,  2.98794476,  2.91692581,  4.32167144,\n",
       "       -1.10224828, -1.57793669,  0.17452084, -0.33338922, -2.07584762,\n",
       "       -1.44933717,  4.26106814,  1.06958924,  1.83310708, -3.65893562,\n",
       "        1.2280297 , -4.54267921, -3.62746337, -4.92527597, -4.74058505,\n",
       "        1.87769406, -1.40300222, -0.42627608, -2.03909862, -2.03726735])"
      ]
     },
     "execution_count": 51,
     "metadata": {},
     "output_type": "execute_result"
    }
   ],
   "source": [
    "data2[:,4]"
   ]
  },
  {
   "cell_type": "code",
   "execution_count": null,
   "id": "4d824cde",
   "metadata": {},
   "outputs": [],
   "source": [
    "def replace_mean(d):\n",
    "    \n",
    "    return NotImplemented"
   ]
  },
  {
   "cell_type": "markdown",
   "id": "b77ad81a",
   "metadata": {},
   "source": [
    "# Ejercicio 3\n",
    "\n",
    "Crear una función que separe los datos en train-validation-test 70-20-10\n",
    "\n",
    "\n",
    "Hints: \n",
    "\n",
    "* Usar Indexing y slicing\n",
    "* Usar np.random.[...]"
   ]
  },
  {
   "cell_type": "code",
   "execution_count": null,
   "id": "680a51ab",
   "metadata": {},
   "outputs": [],
   "source": [
    "\n",
    "def split(data, percentage):  # 0.8\n",
    "    X = self.dataset['income']\n",
    "    y = self.dataset['happiness']\n",
    "\n",
    "    # X.shape[0] cantidad de observ\n",
    "\n",
    "    permuted_idxs = np.random.permutation(X.shape[0])\n",
    "\n",
    "    train_idxs = permuted_idxs[0:int(0.7 * X.shape[0])]\n",
    "    val_idxs =  permuted_idxs[int(0.7 * X.shape[0]: int(0.9 * X.shape[0])]\n",
    "    test_idxs = permuted_idxs[int(0.9 * X.shape[0]):]\n",
    "    # [9,117,85,41,1,6]\n",
    "\n",
    "    X_train = X[train_idxs]\n",
    "    X_val = X[val_idxs]                          \n",
    "    X_test = X[test_idxs]\n",
    "\n",
    "    y_train = y[train_idxs]\n",
    "    y_val = y[val_idxs] \n",
    "    y_test = y[test_idxs]\n",
    "\n",
    "    return X_train, X_val ... etc"
   ]
  },
  {
   "cell_type": "markdown",
   "id": "d481762b",
   "metadata": {},
   "source": [
    "# Ejercicio 4\n",
    "\n",
    "Tomar una matrix numpy y agregarle **una columna y una fila** de 1's\n",
    "\n",
    "Puede usar \n",
    "\n",
    "$$\n",
    "  A =\n",
    "  \\left[ {\\begin{array}{ccc}\n",
    "    -2 & -4 & 2 \\\\\n",
    "    -2 & 1 & 2 \\\\\n",
    "    4 & 2 & 5 \\\\\n",
    "  \\end{array} } \\right]\n",
    "$$\n",
    "\n"
   ]
  },
  {
   "cell_type": "code",
   "execution_count": null,
   "id": "34b43474",
   "metadata": {},
   "outputs": [],
   "source": [
    "np.ones()\n",
    "np.hstack()\n",
    "np.vstack()"
   ]
  },
  {
   "cell_type": "markdown",
   "id": "cea5e862",
   "metadata": {},
   "source": [
    "# Ejercicio 5\n",
    "\n",
    "Implementar la función regresión lineal **SIN término independiente**. \n",
    "\n",
    "Considerar el caso en que $X^TX$ no sea invertible. \n"
   ]
  },
  {
   "cell_type": "code",
   "execution_count": null,
   "id": "0f842b37",
   "metadata": {},
   "outputs": [],
   "source": [
    "def regresion_lineal(x,y):\n",
    "    return NotImplemented"
   ]
  },
  {
   "cell_type": "markdown",
   "id": "f086c2c6",
   "metadata": {},
   "source": [
    "# Ejercicio 6\n",
    "\n",
    "Ajustar la regresión lineal a los datos cargados. "
   ]
  },
  {
   "cell_type": "code",
   "execution_count": null,
   "id": "13a00ffc",
   "metadata": {},
   "outputs": [],
   "source": []
  },
  {
   "cell_type": "markdown",
   "id": "53d5f573",
   "metadata": {},
   "source": [
    "# Ejercicio 7\n",
    "\n",
    "Graficar los puntos y la recta ajustada."
   ]
  },
  {
   "cell_type": "markdown",
   "id": "217f6ccf",
   "metadata": {},
   "source": [
    "# Ejercicio 8 \n",
    "\n",
    "Repetir el ajuste anterior utilizando la regresión lineal de sklearn sin ordenada."
   ]
  },
  {
   "cell_type": "code",
   "execution_count": null,
   "id": "f447fe76",
   "metadata": {},
   "outputs": [],
   "source": []
  }
 ],
 "metadata": {
  "kernelspec": {
   "display_name": "Python 3 (ipykernel)",
   "language": "python",
   "name": "python3"
  },
  "language_info": {
   "codemirror_mode": {
    "name": "ipython",
    "version": 3
   },
   "file_extension": ".py",
   "mimetype": "text/x-python",
   "name": "python",
   "nbconvert_exporter": "python",
   "pygments_lexer": "ipython3",
   "version": "3.8.10"
  }
 },
 "nbformat": 4,
 "nbformat_minor": 5
}
