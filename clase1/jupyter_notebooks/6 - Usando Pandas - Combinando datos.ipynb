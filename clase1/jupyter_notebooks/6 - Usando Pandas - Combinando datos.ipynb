{
 "cells": [
  {
   "attachments": {},
   "cell_type": "markdown",
   "id": "706184f8",
   "metadata": {},
   "source": [
    "# Pandas - Combinando datos\n",
    "Inteligencia Artificial - Facundo A. Lucianna - CEIA - FIUBA\n",
    "\n",
    "En el proceso de armar nuestros dataset para entrenar modelos de Aprendizaje Automático, muchas veces debemos combinar datos de diferentes fuentes. Pandas nos da varias herramientas que nos permiten hacer combinación de ellos."
   ]
  },
  {
   "cell_type": "code",
   "execution_count": 1,
   "id": "a9e84458",
   "metadata": {
    "ExecuteTime": {
     "end_time": "2024-06-21T16:17:33.423061Z",
     "start_time": "2024-06-21T16:17:32.597566Z"
    }
   },
   "outputs": [],
   "source": [
    "import pandas as pd"
   ]
  },
  {
   "cell_type": "code",
   "execution_count": 2,
   "id": "ab05631c",
   "metadata": {},
   "outputs": [],
   "source": [
    "# Creemos el siguiente DataFrame con datos sintéticos\n",
    "\n",
    "def create_df(columns, index):\n",
    "    \n",
    "    lista_generica = []\n",
    "    for i in index:\n",
    "        row_list = [f\"{col}{i}\" for col in columns]\n",
    "        lista_generica.append(row_list)\n",
    "    return pd.DataFrame(lista_generica, columns = columns, index=index)\n",
    "\n",
    "df = create_df(['A', 'B', 'C'], range(4))"
   ]
  },
  {
   "cell_type": "code",
   "execution_count": 3,
   "id": "21f7c5b4",
   "metadata": {},
   "outputs": [
    {
     "data": {
      "text/html": [
       "<div>\n",
       "<style scoped>\n",
       "    .dataframe tbody tr th:only-of-type {\n",
       "        vertical-align: middle;\n",
       "    }\n",
       "\n",
       "    .dataframe tbody tr th {\n",
       "        vertical-align: top;\n",
       "    }\n",
       "\n",
       "    .dataframe thead th {\n",
       "        text-align: right;\n",
       "    }\n",
       "</style>\n",
       "<table border=\"1\" class=\"dataframe\">\n",
       "  <thead>\n",
       "    <tr style=\"text-align: right;\">\n",
       "      <th></th>\n",
       "      <th>A</th>\n",
       "      <th>B</th>\n",
       "      <th>C</th>\n",
       "    </tr>\n",
       "  </thead>\n",
       "  <tbody>\n",
       "    <tr>\n",
       "      <th>0</th>\n",
       "      <td>A0</td>\n",
       "      <td>B0</td>\n",
       "      <td>C0</td>\n",
       "    </tr>\n",
       "    <tr>\n",
       "      <th>1</th>\n",
       "      <td>A1</td>\n",
       "      <td>B1</td>\n",
       "      <td>C1</td>\n",
       "    </tr>\n",
       "    <tr>\n",
       "      <th>2</th>\n",
       "      <td>A2</td>\n",
       "      <td>B2</td>\n",
       "      <td>C2</td>\n",
       "    </tr>\n",
       "    <tr>\n",
       "      <th>3</th>\n",
       "      <td>A3</td>\n",
       "      <td>B3</td>\n",
       "      <td>C3</td>\n",
       "    </tr>\n",
       "  </tbody>\n",
       "</table>\n",
       "</div>"
      ],
      "text/plain": [
       "    A   B   C\n",
       "0  A0  B0  C0\n",
       "1  A1  B1  C1\n",
       "2  A2  B2  C2\n",
       "3  A3  B3  C3"
      ]
     },
     "execution_count": 3,
     "metadata": {},
     "output_type": "execute_result"
    }
   ],
   "source": [
    "df"
   ]
  },
  {
   "cell_type": "markdown",
   "id": "a94ab44d",
   "metadata": {},
   "source": [
    "## Concatenando\n",
    "\n",
    "Pandas tiene una función de concatenación muy parecida a la de NumPy `np.concatenate`, pero tiene mas opciones específicas para DataFrames y series, la función es `pd.concat()`.\n",
    "\n",
    "Empecemos con series:"
   ]
  },
  {
   "cell_type": "code",
   "execution_count": 4,
   "id": "72fb5ec8",
   "metadata": {},
   "outputs": [
    {
     "data": {
      "text/plain": [
       "1    A\n",
       "2    B\n",
       "3    C\n",
       "4    D\n",
       "5    E\n",
       "6    F\n",
       "dtype: object"
      ]
     },
     "execution_count": 4,
     "metadata": {},
     "output_type": "execute_result"
    }
   ],
   "source": [
    "# Concatenamos una serie encima de la otra\n",
    "ser1 = pd.Series(['A', 'B', 'C'], index=[1, 2, 3])\n",
    "ser2 = pd.Series(['D', 'E', 'F'], index=[4, 5, 6])\n",
    "pd.concat([ser1, ser2])"
   ]
  },
  {
   "cell_type": "code",
   "execution_count": 5,
   "id": "936013d0",
   "metadata": {},
   "outputs": [
    {
     "data": {
      "text/plain": [
       "1    A\n",
       "2    B\n",
       "3    C\n",
       "1    D\n",
       "1    E\n",
       "1    F\n",
       "dtype: object"
      ]
     },
     "execution_count": 5,
     "metadata": {},
     "output_type": "execute_result"
    }
   ],
   "source": [
    "# Concatenamos una serie encima de la otra, obsérvese los índices\n",
    "ser1 = pd.Series(['A', 'B', 'C'], index=[1, 2, 3])\n",
    "ser2 = pd.Series(['D', 'E', 'F'], index=[1, 1, 1])\n",
    "ser_concat = pd.concat([ser1, ser2])\n",
    "ser_concat"
   ]
  },
  {
   "cell_type": "code",
   "execution_count": 6,
   "id": "98e005e2",
   "metadata": {
    "scrolled": true
   },
   "outputs": [
    {
     "data": {
      "text/plain": [
       "1    A\n",
       "1    D\n",
       "1    E\n",
       "1    F\n",
       "dtype: object"
      ]
     },
     "execution_count": 6,
     "metadata": {},
     "output_type": "execute_result"
    }
   ],
   "source": [
    "ser_concat.loc[1]"
   ]
  },
  {
   "cell_type": "markdown",
   "id": "c2601cf7-678e-4f3c-bc04-b289176cda05",
   "metadata": {},
   "source": [
    "En un DataFrame tenemos mas variedad de concatenación:"
   ]
  },
  {
   "cell_type": "code",
   "execution_count": 7,
   "id": "51303235",
   "metadata": {},
   "outputs": [],
   "source": [
    "df1 = create_df(['A', 'B'], [1, 2])\n",
    "df2 = create_df(['A', 'B'], [3, 4])"
   ]
  },
  {
   "cell_type": "code",
   "execution_count": 8,
   "id": "cfa65226-e816-41e6-ad82-c74c52397303",
   "metadata": {},
   "outputs": [
    {
     "data": {
      "text/html": [
       "<div>\n",
       "<style scoped>\n",
       "    .dataframe tbody tr th:only-of-type {\n",
       "        vertical-align: middle;\n",
       "    }\n",
       "\n",
       "    .dataframe tbody tr th {\n",
       "        vertical-align: top;\n",
       "    }\n",
       "\n",
       "    .dataframe thead th {\n",
       "        text-align: right;\n",
       "    }\n",
       "</style>\n",
       "<table border=\"1\" class=\"dataframe\">\n",
       "  <thead>\n",
       "    <tr style=\"text-align: right;\">\n",
       "      <th></th>\n",
       "      <th>A</th>\n",
       "      <th>B</th>\n",
       "    </tr>\n",
       "  </thead>\n",
       "  <tbody>\n",
       "    <tr>\n",
       "      <th>1</th>\n",
       "      <td>A1</td>\n",
       "      <td>B1</td>\n",
       "    </tr>\n",
       "    <tr>\n",
       "      <th>2</th>\n",
       "      <td>A2</td>\n",
       "      <td>B2</td>\n",
       "    </tr>\n",
       "  </tbody>\n",
       "</table>\n",
       "</div>"
      ],
      "text/plain": [
       "    A   B\n",
       "1  A1  B1\n",
       "2  A2  B2"
      ]
     },
     "execution_count": 8,
     "metadata": {},
     "output_type": "execute_result"
    }
   ],
   "source": [
    "df1"
   ]
  },
  {
   "cell_type": "code",
   "execution_count": 9,
   "id": "6648c49c-8336-4985-b2b8-765ef16a7dcf",
   "metadata": {},
   "outputs": [
    {
     "data": {
      "text/html": [
       "<div>\n",
       "<style scoped>\n",
       "    .dataframe tbody tr th:only-of-type {\n",
       "        vertical-align: middle;\n",
       "    }\n",
       "\n",
       "    .dataframe tbody tr th {\n",
       "        vertical-align: top;\n",
       "    }\n",
       "\n",
       "    .dataframe thead th {\n",
       "        text-align: right;\n",
       "    }\n",
       "</style>\n",
       "<table border=\"1\" class=\"dataframe\">\n",
       "  <thead>\n",
       "    <tr style=\"text-align: right;\">\n",
       "      <th></th>\n",
       "      <th>A</th>\n",
       "      <th>B</th>\n",
       "    </tr>\n",
       "  </thead>\n",
       "  <tbody>\n",
       "    <tr>\n",
       "      <th>3</th>\n",
       "      <td>A3</td>\n",
       "      <td>B3</td>\n",
       "    </tr>\n",
       "    <tr>\n",
       "      <th>4</th>\n",
       "      <td>A4</td>\n",
       "      <td>B4</td>\n",
       "    </tr>\n",
       "  </tbody>\n",
       "</table>\n",
       "</div>"
      ],
      "text/plain": [
       "    A   B\n",
       "3  A3  B3\n",
       "4  A4  B4"
      ]
     },
     "execution_count": 9,
     "metadata": {},
     "output_type": "execute_result"
    }
   ],
   "source": [
    "df2"
   ]
  },
  {
   "cell_type": "code",
   "execution_count": 10,
   "id": "63185b43-f4d1-4586-9a61-f459aa7fcc85",
   "metadata": {},
   "outputs": [
    {
     "data": {
      "text/html": [
       "<div>\n",
       "<style scoped>\n",
       "    .dataframe tbody tr th:only-of-type {\n",
       "        vertical-align: middle;\n",
       "    }\n",
       "\n",
       "    .dataframe tbody tr th {\n",
       "        vertical-align: top;\n",
       "    }\n",
       "\n",
       "    .dataframe thead th {\n",
       "        text-align: right;\n",
       "    }\n",
       "</style>\n",
       "<table border=\"1\" class=\"dataframe\">\n",
       "  <thead>\n",
       "    <tr style=\"text-align: right;\">\n",
       "      <th></th>\n",
       "      <th>A</th>\n",
       "      <th>B</th>\n",
       "    </tr>\n",
       "  </thead>\n",
       "  <tbody>\n",
       "    <tr>\n",
       "      <th>1</th>\n",
       "      <td>A1</td>\n",
       "      <td>B1</td>\n",
       "    </tr>\n",
       "    <tr>\n",
       "      <th>2</th>\n",
       "      <td>A2</td>\n",
       "      <td>B2</td>\n",
       "    </tr>\n",
       "    <tr>\n",
       "      <th>3</th>\n",
       "      <td>A3</td>\n",
       "      <td>B3</td>\n",
       "    </tr>\n",
       "    <tr>\n",
       "      <th>4</th>\n",
       "      <td>A4</td>\n",
       "      <td>B4</td>\n",
       "    </tr>\n",
       "  </tbody>\n",
       "</table>\n",
       "</div>"
      ],
      "text/plain": [
       "    A   B\n",
       "1  A1  B1\n",
       "2  A2  B2\n",
       "3  A3  B3\n",
       "4  A4  B4"
      ]
     },
     "execution_count": 10,
     "metadata": {},
     "output_type": "execute_result"
    }
   ],
   "source": [
    "pd.concat([df1, df2])"
   ]
  },
  {
   "cell_type": "markdown",
   "id": "d8dae923-5fcf-46f5-9107-0f62c6cafe29",
   "metadata": {},
   "source": [
    "Por defecto, la concatenación se realiza por filas dentro del DataFrame (es decir, axis=0). `pd.concat` permite especificar un eje a lo largo del cual se llevará a cabo la concatenación:"
   ]
  },
  {
   "cell_type": "code",
   "execution_count": 11,
   "id": "81860821-7777-4eb1-add0-73ea9503f6de",
   "metadata": {},
   "outputs": [],
   "source": [
    "df3 = create_df(['A', 'B'], [0, 1])\n",
    "df4 = create_df(['C', 'D'], [0, 1])"
   ]
  },
  {
   "cell_type": "code",
   "execution_count": 12,
   "id": "9b32a19c-a141-4577-8437-858afc9ad49a",
   "metadata": {},
   "outputs": [
    {
     "data": {
      "text/html": [
       "<div>\n",
       "<style scoped>\n",
       "    .dataframe tbody tr th:only-of-type {\n",
       "        vertical-align: middle;\n",
       "    }\n",
       "\n",
       "    .dataframe tbody tr th {\n",
       "        vertical-align: top;\n",
       "    }\n",
       "\n",
       "    .dataframe thead th {\n",
       "        text-align: right;\n",
       "    }\n",
       "</style>\n",
       "<table border=\"1\" class=\"dataframe\">\n",
       "  <thead>\n",
       "    <tr style=\"text-align: right;\">\n",
       "      <th></th>\n",
       "      <th>A</th>\n",
       "      <th>B</th>\n",
       "    </tr>\n",
       "  </thead>\n",
       "  <tbody>\n",
       "    <tr>\n",
       "      <th>0</th>\n",
       "      <td>A0</td>\n",
       "      <td>B0</td>\n",
       "    </tr>\n",
       "    <tr>\n",
       "      <th>1</th>\n",
       "      <td>A1</td>\n",
       "      <td>B1</td>\n",
       "    </tr>\n",
       "  </tbody>\n",
       "</table>\n",
       "</div>"
      ],
      "text/plain": [
       "    A   B\n",
       "0  A0  B0\n",
       "1  A1  B1"
      ]
     },
     "execution_count": 12,
     "metadata": {},
     "output_type": "execute_result"
    }
   ],
   "source": [
    "df3"
   ]
  },
  {
   "cell_type": "code",
   "execution_count": 13,
   "id": "7e64c310-026e-470b-9520-aa66e62de54a",
   "metadata": {},
   "outputs": [
    {
     "data": {
      "text/html": [
       "<div>\n",
       "<style scoped>\n",
       "    .dataframe tbody tr th:only-of-type {\n",
       "        vertical-align: middle;\n",
       "    }\n",
       "\n",
       "    .dataframe tbody tr th {\n",
       "        vertical-align: top;\n",
       "    }\n",
       "\n",
       "    .dataframe thead th {\n",
       "        text-align: right;\n",
       "    }\n",
       "</style>\n",
       "<table border=\"1\" class=\"dataframe\">\n",
       "  <thead>\n",
       "    <tr style=\"text-align: right;\">\n",
       "      <th></th>\n",
       "      <th>C</th>\n",
       "      <th>D</th>\n",
       "    </tr>\n",
       "  </thead>\n",
       "  <tbody>\n",
       "    <tr>\n",
       "      <th>0</th>\n",
       "      <td>C0</td>\n",
       "      <td>D0</td>\n",
       "    </tr>\n",
       "    <tr>\n",
       "      <th>1</th>\n",
       "      <td>C1</td>\n",
       "      <td>D1</td>\n",
       "    </tr>\n",
       "  </tbody>\n",
       "</table>\n",
       "</div>"
      ],
      "text/plain": [
       "    C   D\n",
       "0  C0  D0\n",
       "1  C1  D1"
      ]
     },
     "execution_count": 13,
     "metadata": {},
     "output_type": "execute_result"
    }
   ],
   "source": [
    "df4"
   ]
  },
  {
   "cell_type": "markdown",
   "id": "5e2490d3-e6f2-432a-b3d9-bfa8fd4d427a",
   "metadata": {},
   "source": [
    "Podemos usar tanto `axis=1` como `axis='columns'` que es más fácil de entender:"
   ]
  },
  {
   "cell_type": "code",
   "execution_count": 14,
   "id": "a90e3658-1848-4e50-bb04-fcba6e6513f3",
   "metadata": {},
   "outputs": [
    {
     "data": {
      "text/html": [
       "<div>\n",
       "<style scoped>\n",
       "    .dataframe tbody tr th:only-of-type {\n",
       "        vertical-align: middle;\n",
       "    }\n",
       "\n",
       "    .dataframe tbody tr th {\n",
       "        vertical-align: top;\n",
       "    }\n",
       "\n",
       "    .dataframe thead th {\n",
       "        text-align: right;\n",
       "    }\n",
       "</style>\n",
       "<table border=\"1\" class=\"dataframe\">\n",
       "  <thead>\n",
       "    <tr style=\"text-align: right;\">\n",
       "      <th></th>\n",
       "      <th>A</th>\n",
       "      <th>B</th>\n",
       "      <th>C</th>\n",
       "      <th>D</th>\n",
       "    </tr>\n",
       "  </thead>\n",
       "  <tbody>\n",
       "    <tr>\n",
       "      <th>0</th>\n",
       "      <td>A0</td>\n",
       "      <td>B0</td>\n",
       "      <td>C0</td>\n",
       "      <td>D0</td>\n",
       "    </tr>\n",
       "    <tr>\n",
       "      <th>1</th>\n",
       "      <td>A1</td>\n",
       "      <td>B1</td>\n",
       "      <td>C1</td>\n",
       "      <td>D1</td>\n",
       "    </tr>\n",
       "  </tbody>\n",
       "</table>\n",
       "</div>"
      ],
      "text/plain": [
       "    A   B   C   D\n",
       "0  A0  B0  C0  D0\n",
       "1  A1  B1  C1  D1"
      ]
     },
     "execution_count": 14,
     "metadata": {},
     "output_type": "execute_result"
    }
   ],
   "source": [
    "pd.concat([df3, df4], axis='columns')"
   ]
  },
  {
   "cell_type": "markdown",
   "id": "720c551e-8ab3-43fd-bff3-51d3b6169e95",
   "metadata": {},
   "source": [
    "La concatenación en Pandas conserva los índices, incluso si el resultado tiene índices duplicados:"
   ]
  },
  {
   "cell_type": "code",
   "execution_count": 15,
   "id": "e998c1f1-153d-46b6-93eb-556d17324db5",
   "metadata": {},
   "outputs": [],
   "source": [
    "x = create_df(['A', 'B'], [0, 1])\n",
    "y = create_df(['A', 'B'], [0, 1])"
   ]
  },
  {
   "cell_type": "code",
   "execution_count": 16,
   "id": "8a9cbc13-ead3-48e3-9486-26582fb6e86a",
   "metadata": {},
   "outputs": [
    {
     "data": {
      "text/html": [
       "<div>\n",
       "<style scoped>\n",
       "    .dataframe tbody tr th:only-of-type {\n",
       "        vertical-align: middle;\n",
       "    }\n",
       "\n",
       "    .dataframe tbody tr th {\n",
       "        vertical-align: top;\n",
       "    }\n",
       "\n",
       "    .dataframe thead th {\n",
       "        text-align: right;\n",
       "    }\n",
       "</style>\n",
       "<table border=\"1\" class=\"dataframe\">\n",
       "  <thead>\n",
       "    <tr style=\"text-align: right;\">\n",
       "      <th></th>\n",
       "      <th>A</th>\n",
       "      <th>B</th>\n",
       "    </tr>\n",
       "  </thead>\n",
       "  <tbody>\n",
       "    <tr>\n",
       "      <th>0</th>\n",
       "      <td>A0</td>\n",
       "      <td>B0</td>\n",
       "    </tr>\n",
       "    <tr>\n",
       "      <th>1</th>\n",
       "      <td>A1</td>\n",
       "      <td>B1</td>\n",
       "    </tr>\n",
       "  </tbody>\n",
       "</table>\n",
       "</div>"
      ],
      "text/plain": [
       "    A   B\n",
       "0  A0  B0\n",
       "1  A1  B1"
      ]
     },
     "execution_count": 16,
     "metadata": {},
     "output_type": "execute_result"
    }
   ],
   "source": [
    "x"
   ]
  },
  {
   "cell_type": "code",
   "execution_count": 17,
   "id": "f5eeb05b-609a-4ce6-9178-920d4f84d306",
   "metadata": {},
   "outputs": [
    {
     "data": {
      "text/html": [
       "<div>\n",
       "<style scoped>\n",
       "    .dataframe tbody tr th:only-of-type {\n",
       "        vertical-align: middle;\n",
       "    }\n",
       "\n",
       "    .dataframe tbody tr th {\n",
       "        vertical-align: top;\n",
       "    }\n",
       "\n",
       "    .dataframe thead th {\n",
       "        text-align: right;\n",
       "    }\n",
       "</style>\n",
       "<table border=\"1\" class=\"dataframe\">\n",
       "  <thead>\n",
       "    <tr style=\"text-align: right;\">\n",
       "      <th></th>\n",
       "      <th>A</th>\n",
       "      <th>B</th>\n",
       "    </tr>\n",
       "  </thead>\n",
       "  <tbody>\n",
       "    <tr>\n",
       "      <th>0</th>\n",
       "      <td>A0</td>\n",
       "      <td>B0</td>\n",
       "    </tr>\n",
       "    <tr>\n",
       "      <th>1</th>\n",
       "      <td>A1</td>\n",
       "      <td>B1</td>\n",
       "    </tr>\n",
       "  </tbody>\n",
       "</table>\n",
       "</div>"
      ],
      "text/plain": [
       "    A   B\n",
       "0  A0  B0\n",
       "1  A1  B1"
      ]
     },
     "execution_count": 17,
     "metadata": {},
     "output_type": "execute_result"
    }
   ],
   "source": [
    "y"
   ]
  },
  {
   "cell_type": "code",
   "execution_count": 18,
   "id": "150122f9-f8a7-4d24-af5b-c85e43e5ae11",
   "metadata": {},
   "outputs": [
    {
     "data": {
      "text/html": [
       "<div>\n",
       "<style scoped>\n",
       "    .dataframe tbody tr th:only-of-type {\n",
       "        vertical-align: middle;\n",
       "    }\n",
       "\n",
       "    .dataframe tbody tr th {\n",
       "        vertical-align: top;\n",
       "    }\n",
       "\n",
       "    .dataframe thead th {\n",
       "        text-align: right;\n",
       "    }\n",
       "</style>\n",
       "<table border=\"1\" class=\"dataframe\">\n",
       "  <thead>\n",
       "    <tr style=\"text-align: right;\">\n",
       "      <th></th>\n",
       "      <th>A</th>\n",
       "      <th>B</th>\n",
       "    </tr>\n",
       "  </thead>\n",
       "  <tbody>\n",
       "    <tr>\n",
       "      <th>0</th>\n",
       "      <td>A0</td>\n",
       "      <td>B0</td>\n",
       "    </tr>\n",
       "    <tr>\n",
       "      <th>1</th>\n",
       "      <td>A1</td>\n",
       "      <td>B1</td>\n",
       "    </tr>\n",
       "    <tr>\n",
       "      <th>0</th>\n",
       "      <td>A0</td>\n",
       "      <td>B0</td>\n",
       "    </tr>\n",
       "    <tr>\n",
       "      <th>1</th>\n",
       "      <td>A1</td>\n",
       "      <td>B1</td>\n",
       "    </tr>\n",
       "  </tbody>\n",
       "</table>\n",
       "</div>"
      ],
      "text/plain": [
       "    A   B\n",
       "0  A0  B0\n",
       "1  A1  B1\n",
       "0  A0  B0\n",
       "1  A1  B1"
      ]
     },
     "execution_count": 18,
     "metadata": {},
     "output_type": "execute_result"
    }
   ],
   "source": [
    "pd.concat([x, y])"
   ]
  },
  {
   "cell_type": "markdown",
   "id": "5bf7a3ff-0a2a-4127-b0bc-4cd347f18090",
   "metadata": {},
   "source": [
    "Nótese la repetición de los índices, algo que es válido en un DataFrame pero en general y principalmente en DataFrame no es deseable. `pd.concat()` nos da algunas herramientas para evitar esto.\n",
    "\n",
    "**Generando un error**: Una forma de verificar que los índices en el resultado de `pd.concat()` no se superponen es especificar el argumento `verify_integrity`. Con ponerlo en `True`, la concatenación generará una excepción si hay índices duplicados:"
   ]
  },
  {
   "cell_type": "code",
   "execution_count": 19,
   "id": "74c26527-45f3-4551-a3f5-4688f23a156e",
   "metadata": {},
   "outputs": [
    {
     "ename": "ValueError",
     "evalue": "Indexes have overlapping values: Index([0, 1], dtype='int64')",
     "output_type": "error",
     "traceback": [
      "\u001b[0;31m---------------------------------------------------------------------------\u001b[0m",
      "\u001b[0;31mValueError\u001b[0m                                Traceback (most recent call last)",
      "Cell \u001b[0;32mIn[19], line 1\u001b[0m\n\u001b[0;32m----> 1\u001b[0m \u001b[43mpd\u001b[49m\u001b[38;5;241;43m.\u001b[39;49m\u001b[43mconcat\u001b[49m\u001b[43m(\u001b[49m\u001b[43m[\u001b[49m\u001b[43mx\u001b[49m\u001b[43m,\u001b[49m\u001b[43m \u001b[49m\u001b[43my\u001b[49m\u001b[43m]\u001b[49m\u001b[43m,\u001b[49m\u001b[43m \u001b[49m\u001b[43mverify_integrity\u001b[49m\u001b[38;5;241;43m=\u001b[39;49m\u001b[38;5;28;43;01mTrue\u001b[39;49;00m\u001b[43m)\u001b[49m\n",
      "File \u001b[0;32m~/Library/Caches/pypoetry/virtualenvs/intro-ia-o9dKwMag-py3.10/lib/python3.10/site-packages/pandas/core/reshape/concat.py:395\u001b[0m, in \u001b[0;36mconcat\u001b[0;34m(objs, axis, join, ignore_index, keys, levels, names, verify_integrity, sort, copy)\u001b[0m\n\u001b[1;32m    380\u001b[0m     copy \u001b[38;5;241m=\u001b[39m \u001b[38;5;28;01mFalse\u001b[39;00m\n\u001b[1;32m    382\u001b[0m op \u001b[38;5;241m=\u001b[39m _Concatenator(\n\u001b[1;32m    383\u001b[0m     objs,\n\u001b[1;32m    384\u001b[0m     axis\u001b[38;5;241m=\u001b[39maxis,\n\u001b[0;32m   (...)\u001b[0m\n\u001b[1;32m    392\u001b[0m     sort\u001b[38;5;241m=\u001b[39msort,\n\u001b[1;32m    393\u001b[0m )\n\u001b[0;32m--> 395\u001b[0m \u001b[38;5;28;01mreturn\u001b[39;00m \u001b[43mop\u001b[49m\u001b[38;5;241;43m.\u001b[39;49m\u001b[43mget_result\u001b[49m\u001b[43m(\u001b[49m\u001b[43m)\u001b[49m\n",
      "File \u001b[0;32m~/Library/Caches/pypoetry/virtualenvs/intro-ia-o9dKwMag-py3.10/lib/python3.10/site-packages/pandas/core/reshape/concat.py:671\u001b[0m, in \u001b[0;36m_Concatenator.get_result\u001b[0;34m(self)\u001b[0m\n\u001b[1;32m    669\u001b[0m \u001b[38;5;28;01mfor\u001b[39;00m obj \u001b[38;5;129;01min\u001b[39;00m \u001b[38;5;28mself\u001b[39m\u001b[38;5;241m.\u001b[39mobjs:\n\u001b[1;32m    670\u001b[0m     indexers \u001b[38;5;241m=\u001b[39m {}\n\u001b[0;32m--> 671\u001b[0m     \u001b[38;5;28;01mfor\u001b[39;00m ax, new_labels \u001b[38;5;129;01min\u001b[39;00m \u001b[38;5;28menumerate\u001b[39m(\u001b[38;5;28;43mself\u001b[39;49m\u001b[38;5;241;43m.\u001b[39;49m\u001b[43mnew_axes\u001b[49m):\n\u001b[1;32m    672\u001b[0m         \u001b[38;5;66;03m# ::-1 to convert BlockManager ax to DataFrame ax\u001b[39;00m\n\u001b[1;32m    673\u001b[0m         \u001b[38;5;28;01mif\u001b[39;00m ax \u001b[38;5;241m==\u001b[39m \u001b[38;5;28mself\u001b[39m\u001b[38;5;241m.\u001b[39mbm_axis:\n\u001b[1;32m    674\u001b[0m             \u001b[38;5;66;03m# Suppress reindexing on concat axis\u001b[39;00m\n\u001b[1;32m    675\u001b[0m             \u001b[38;5;28;01mcontinue\u001b[39;00m\n",
      "File \u001b[0;32mproperties.pyx:36\u001b[0m, in \u001b[0;36mpandas._libs.properties.CachedProperty.__get__\u001b[0;34m()\u001b[0m\n",
      "File \u001b[0;32m~/Library/Caches/pypoetry/virtualenvs/intro-ia-o9dKwMag-py3.10/lib/python3.10/site-packages/pandas/core/reshape/concat.py:702\u001b[0m, in \u001b[0;36m_Concatenator.new_axes\u001b[0;34m(self)\u001b[0m\n\u001b[1;32m    699\u001b[0m \u001b[38;5;129m@cache_readonly\u001b[39m\n\u001b[1;32m    700\u001b[0m \u001b[38;5;28;01mdef\u001b[39;00m \u001b[38;5;21mnew_axes\u001b[39m(\u001b[38;5;28mself\u001b[39m) \u001b[38;5;241m-\u001b[39m\u001b[38;5;241m>\u001b[39m \u001b[38;5;28mlist\u001b[39m[Index]:\n\u001b[1;32m    701\u001b[0m     ndim \u001b[38;5;241m=\u001b[39m \u001b[38;5;28mself\u001b[39m\u001b[38;5;241m.\u001b[39m_get_result_dim()\n\u001b[0;32m--> 702\u001b[0m     \u001b[38;5;28;01mreturn\u001b[39;00m [\n\u001b[1;32m    703\u001b[0m         \u001b[38;5;28mself\u001b[39m\u001b[38;5;241m.\u001b[39m_get_concat_axis \u001b[38;5;28;01mif\u001b[39;00m i \u001b[38;5;241m==\u001b[39m \u001b[38;5;28mself\u001b[39m\u001b[38;5;241m.\u001b[39mbm_axis \u001b[38;5;28;01melse\u001b[39;00m \u001b[38;5;28mself\u001b[39m\u001b[38;5;241m.\u001b[39m_get_comb_axis(i)\n\u001b[1;32m    704\u001b[0m         \u001b[38;5;28;01mfor\u001b[39;00m i \u001b[38;5;129;01min\u001b[39;00m \u001b[38;5;28mrange\u001b[39m(ndim)\n\u001b[1;32m    705\u001b[0m     ]\n",
      "File \u001b[0;32m~/Library/Caches/pypoetry/virtualenvs/intro-ia-o9dKwMag-py3.10/lib/python3.10/site-packages/pandas/core/reshape/concat.py:703\u001b[0m, in \u001b[0;36m<listcomp>\u001b[0;34m(.0)\u001b[0m\n\u001b[1;32m    699\u001b[0m \u001b[38;5;129m@cache_readonly\u001b[39m\n\u001b[1;32m    700\u001b[0m \u001b[38;5;28;01mdef\u001b[39;00m \u001b[38;5;21mnew_axes\u001b[39m(\u001b[38;5;28mself\u001b[39m) \u001b[38;5;241m-\u001b[39m\u001b[38;5;241m>\u001b[39m \u001b[38;5;28mlist\u001b[39m[Index]:\n\u001b[1;32m    701\u001b[0m     ndim \u001b[38;5;241m=\u001b[39m \u001b[38;5;28mself\u001b[39m\u001b[38;5;241m.\u001b[39m_get_result_dim()\n\u001b[1;32m    702\u001b[0m     \u001b[38;5;28;01mreturn\u001b[39;00m [\n\u001b[0;32m--> 703\u001b[0m         \u001b[38;5;28;43mself\u001b[39;49m\u001b[38;5;241;43m.\u001b[39;49m\u001b[43m_get_concat_axis\u001b[49m \u001b[38;5;28;01mif\u001b[39;00m i \u001b[38;5;241m==\u001b[39m \u001b[38;5;28mself\u001b[39m\u001b[38;5;241m.\u001b[39mbm_axis \u001b[38;5;28;01melse\u001b[39;00m \u001b[38;5;28mself\u001b[39m\u001b[38;5;241m.\u001b[39m_get_comb_axis(i)\n\u001b[1;32m    704\u001b[0m         \u001b[38;5;28;01mfor\u001b[39;00m i \u001b[38;5;129;01min\u001b[39;00m \u001b[38;5;28mrange\u001b[39m(ndim)\n\u001b[1;32m    705\u001b[0m     ]\n",
      "File \u001b[0;32mproperties.pyx:36\u001b[0m, in \u001b[0;36mpandas._libs.properties.CachedProperty.__get__\u001b[0;34m()\u001b[0m\n",
      "File \u001b[0;32m~/Library/Caches/pypoetry/virtualenvs/intro-ia-o9dKwMag-py3.10/lib/python3.10/site-packages/pandas/core/reshape/concat.py:766\u001b[0m, in \u001b[0;36m_Concatenator._get_concat_axis\u001b[0;34m(self)\u001b[0m\n\u001b[1;32m    761\u001b[0m \u001b[38;5;28;01melse\u001b[39;00m:\n\u001b[1;32m    762\u001b[0m     concat_axis \u001b[38;5;241m=\u001b[39m _make_concat_multiindex(\n\u001b[1;32m    763\u001b[0m         indexes, \u001b[38;5;28mself\u001b[39m\u001b[38;5;241m.\u001b[39mkeys, \u001b[38;5;28mself\u001b[39m\u001b[38;5;241m.\u001b[39mlevels, \u001b[38;5;28mself\u001b[39m\u001b[38;5;241m.\u001b[39mnames\n\u001b[1;32m    764\u001b[0m     )\n\u001b[0;32m--> 766\u001b[0m \u001b[38;5;28;43mself\u001b[39;49m\u001b[38;5;241;43m.\u001b[39;49m\u001b[43m_maybe_check_integrity\u001b[49m\u001b[43m(\u001b[49m\u001b[43mconcat_axis\u001b[49m\u001b[43m)\u001b[49m\n\u001b[1;32m    768\u001b[0m \u001b[38;5;28;01mreturn\u001b[39;00m concat_axis\n",
      "File \u001b[0;32m~/Library/Caches/pypoetry/virtualenvs/intro-ia-o9dKwMag-py3.10/lib/python3.10/site-packages/pandas/core/reshape/concat.py:774\u001b[0m, in \u001b[0;36m_Concatenator._maybe_check_integrity\u001b[0;34m(self, concat_index)\u001b[0m\n\u001b[1;32m    772\u001b[0m \u001b[38;5;28;01mif\u001b[39;00m \u001b[38;5;129;01mnot\u001b[39;00m concat_index\u001b[38;5;241m.\u001b[39mis_unique:\n\u001b[1;32m    773\u001b[0m     overlap \u001b[38;5;241m=\u001b[39m concat_index[concat_index\u001b[38;5;241m.\u001b[39mduplicated()]\u001b[38;5;241m.\u001b[39munique()\n\u001b[0;32m--> 774\u001b[0m     \u001b[38;5;28;01mraise\u001b[39;00m \u001b[38;5;167;01mValueError\u001b[39;00m(\u001b[38;5;124mf\u001b[39m\u001b[38;5;124m\"\u001b[39m\u001b[38;5;124mIndexes have overlapping values: \u001b[39m\u001b[38;5;132;01m{\u001b[39;00moverlap\u001b[38;5;132;01m}\u001b[39;00m\u001b[38;5;124m\"\u001b[39m)\n",
      "\u001b[0;31mValueError\u001b[0m: Indexes have overlapping values: Index([0, 1], dtype='int64')"
     ]
    }
   ],
   "source": [
    "pd.concat([x, y], verify_integrity=True)"
   ]
  },
  {
   "cell_type": "code",
   "execution_count": 20,
   "id": "4efa6222-cf99-4bf8-b64b-146a07e43b6b",
   "metadata": {},
   "outputs": [
    {
     "name": "stdout",
     "output_type": "stream",
     "text": [
      "ValueError: Indexes have overlapping values: Index([0, 1], dtype='int64')\n"
     ]
    }
   ],
   "source": [
    "try:\n",
    "    pd.concat([x, y], verify_integrity=True)\n",
    "except ValueError as e:\n",
    "    print(\"ValueError:\", e)"
   ]
  },
  {
   "cell_type": "markdown",
   "id": "43653131-4502-4952-8d06-a81131d7f25e",
   "metadata": {},
   "source": [
    "**Ignorando los índices**: A veces, el índice en sí mismo no importa y se prefiere que se ignore. Esta opción se puede especificar utilizando el argumento `ignore_index`:"
   ]
  },
  {
   "cell_type": "code",
   "execution_count": 21,
   "id": "809b9bfa-3ad3-4393-826c-b6eebdc091b3",
   "metadata": {},
   "outputs": [
    {
     "data": {
      "text/html": [
       "<div>\n",
       "<style scoped>\n",
       "    .dataframe tbody tr th:only-of-type {\n",
       "        vertical-align: middle;\n",
       "    }\n",
       "\n",
       "    .dataframe tbody tr th {\n",
       "        vertical-align: top;\n",
       "    }\n",
       "\n",
       "    .dataframe thead th {\n",
       "        text-align: right;\n",
       "    }\n",
       "</style>\n",
       "<table border=\"1\" class=\"dataframe\">\n",
       "  <thead>\n",
       "    <tr style=\"text-align: right;\">\n",
       "      <th></th>\n",
       "      <th>A</th>\n",
       "      <th>B</th>\n",
       "    </tr>\n",
       "  </thead>\n",
       "  <tbody>\n",
       "    <tr>\n",
       "      <th>0</th>\n",
       "      <td>A0</td>\n",
       "      <td>B0</td>\n",
       "    </tr>\n",
       "    <tr>\n",
       "      <th>1</th>\n",
       "      <td>A1</td>\n",
       "      <td>B1</td>\n",
       "    </tr>\n",
       "    <tr>\n",
       "      <th>2</th>\n",
       "      <td>A0</td>\n",
       "      <td>B0</td>\n",
       "    </tr>\n",
       "    <tr>\n",
       "      <th>3</th>\n",
       "      <td>A1</td>\n",
       "      <td>B1</td>\n",
       "    </tr>\n",
       "  </tbody>\n",
       "</table>\n",
       "</div>"
      ],
      "text/plain": [
       "    A   B\n",
       "0  A0  B0\n",
       "1  A1  B1\n",
       "2  A0  B0\n",
       "3  A1  B1"
      ]
     },
     "execution_count": 21,
     "metadata": {},
     "output_type": "execute_result"
    }
   ],
   "source": [
    "pd.concat([x, y], ignore_index=True)"
   ]
  },
  {
   "cell_type": "markdown",
   "id": "2b6a8bb0-2600-4167-b69a-237170fcefef",
   "metadata": {},
   "source": [
    "**Generando un Multiíndice**: Otra opción es utilizar la opción `keys` para especificar una etiqueta para las fuentes de datos:"
   ]
  },
  {
   "cell_type": "code",
   "execution_count": 22,
   "id": "36feae2b-6103-4e2a-ad8b-70195544709a",
   "metadata": {},
   "outputs": [
    {
     "data": {
      "text/html": [
       "<div>\n",
       "<style scoped>\n",
       "    .dataframe tbody tr th:only-of-type {\n",
       "        vertical-align: middle;\n",
       "    }\n",
       "\n",
       "    .dataframe tbody tr th {\n",
       "        vertical-align: top;\n",
       "    }\n",
       "\n",
       "    .dataframe thead th {\n",
       "        text-align: right;\n",
       "    }\n",
       "</style>\n",
       "<table border=\"1\" class=\"dataframe\">\n",
       "  <thead>\n",
       "    <tr style=\"text-align: right;\">\n",
       "      <th></th>\n",
       "      <th></th>\n",
       "      <th>A</th>\n",
       "      <th>B</th>\n",
       "    </tr>\n",
       "  </thead>\n",
       "  <tbody>\n",
       "    <tr>\n",
       "      <th rowspan=\"2\" valign=\"top\">x</th>\n",
       "      <th>0</th>\n",
       "      <td>A0</td>\n",
       "      <td>B0</td>\n",
       "    </tr>\n",
       "    <tr>\n",
       "      <th>1</th>\n",
       "      <td>A1</td>\n",
       "      <td>B1</td>\n",
       "    </tr>\n",
       "    <tr>\n",
       "      <th rowspan=\"2\" valign=\"top\">y</th>\n",
       "      <th>0</th>\n",
       "      <td>A0</td>\n",
       "      <td>B0</td>\n",
       "    </tr>\n",
       "    <tr>\n",
       "      <th>1</th>\n",
       "      <td>A1</td>\n",
       "      <td>B1</td>\n",
       "    </tr>\n",
       "  </tbody>\n",
       "</table>\n",
       "</div>"
      ],
      "text/plain": [
       "      A   B\n",
       "x 0  A0  B0\n",
       "  1  A1  B1\n",
       "y 0  A0  B0\n",
       "  1  A1  B1"
      ]
     },
     "execution_count": 22,
     "metadata": {},
     "output_type": "execute_result"
    }
   ],
   "source": [
    "pd.concat([x, y], keys=['x', 'y'])"
   ]
  },
  {
   "cell_type": "markdown",
   "id": "a5fdd93e-db15-4088-8fe1-2348360a357d",
   "metadata": {},
   "source": [
    "En los ejemplos que vimos, concatenamos DataFrames con nombres de columnas compartidos. En la práctica, los datos de diferentes fuentes pueden tener conjuntos diferentes de nombres de columnas, y `pd.concat` ofrece varias opciones en este caso:"
   ]
  },
  {
   "cell_type": "code",
   "execution_count": 23,
   "id": "809ce05d-db60-4d7c-b77a-ea0ec7122fa0",
   "metadata": {},
   "outputs": [],
   "source": [
    "df1 = create_df(['A','B','C'], [1, 2])\n",
    "df2 = create_df(['B','C','D'], [3, 4])"
   ]
  },
  {
   "cell_type": "code",
   "execution_count": 24,
   "id": "72afba50-ae2b-4723-9a4b-c4dec7884b7b",
   "metadata": {},
   "outputs": [
    {
     "data": {
      "text/html": [
       "<div>\n",
       "<style scoped>\n",
       "    .dataframe tbody tr th:only-of-type {\n",
       "        vertical-align: middle;\n",
       "    }\n",
       "\n",
       "    .dataframe tbody tr th {\n",
       "        vertical-align: top;\n",
       "    }\n",
       "\n",
       "    .dataframe thead th {\n",
       "        text-align: right;\n",
       "    }\n",
       "</style>\n",
       "<table border=\"1\" class=\"dataframe\">\n",
       "  <thead>\n",
       "    <tr style=\"text-align: right;\">\n",
       "      <th></th>\n",
       "      <th>A</th>\n",
       "      <th>B</th>\n",
       "      <th>C</th>\n",
       "      <th>D</th>\n",
       "    </tr>\n",
       "  </thead>\n",
       "  <tbody>\n",
       "    <tr>\n",
       "      <th>1</th>\n",
       "      <td>A1</td>\n",
       "      <td>B1</td>\n",
       "      <td>C1</td>\n",
       "      <td>NaN</td>\n",
       "    </tr>\n",
       "    <tr>\n",
       "      <th>2</th>\n",
       "      <td>A2</td>\n",
       "      <td>B2</td>\n",
       "      <td>C2</td>\n",
       "      <td>NaN</td>\n",
       "    </tr>\n",
       "    <tr>\n",
       "      <th>3</th>\n",
       "      <td>NaN</td>\n",
       "      <td>B3</td>\n",
       "      <td>C3</td>\n",
       "      <td>D3</td>\n",
       "    </tr>\n",
       "    <tr>\n",
       "      <th>4</th>\n",
       "      <td>NaN</td>\n",
       "      <td>B4</td>\n",
       "      <td>C4</td>\n",
       "      <td>D4</td>\n",
       "    </tr>\n",
       "  </tbody>\n",
       "</table>\n",
       "</div>"
      ],
      "text/plain": [
       "     A   B   C    D\n",
       "1   A1  B1  C1  NaN\n",
       "2   A2  B2  C2  NaN\n",
       "3  NaN  B3  C3   D3\n",
       "4  NaN  B4  C4   D4"
      ]
     },
     "execution_count": 24,
     "metadata": {},
     "output_type": "execute_result"
    }
   ],
   "source": [
    "pd.concat([df1, df2])"
   ]
  },
  {
   "cell_type": "markdown",
   "id": "57430d32-f48e-4193-ac9f-a1a6048caeea",
   "metadata": {},
   "source": [
    "Por defecto, las entradas para las cuales no hay datos disponibles se llenan con valores `NaN`. Podemos cambiar este comportamiento, especificando una de varias opciones para el parámetro `join` de la función `pd.concatenate`. \n",
    "\n",
    "Por defecto, se realiza una unión (`join='outer'`), pero podemos cambiar esto a una intersección de las columnas usando `join='inner'`:"
   ]
  },
  {
   "cell_type": "code",
   "execution_count": 25,
   "id": "914e5709-b867-4d1d-8a35-5e38223af18a",
   "metadata": {},
   "outputs": [
    {
     "data": {
      "text/html": [
       "<div>\n",
       "<style scoped>\n",
       "    .dataframe tbody tr th:only-of-type {\n",
       "        vertical-align: middle;\n",
       "    }\n",
       "\n",
       "    .dataframe tbody tr th {\n",
       "        vertical-align: top;\n",
       "    }\n",
       "\n",
       "    .dataframe thead th {\n",
       "        text-align: right;\n",
       "    }\n",
       "</style>\n",
       "<table border=\"1\" class=\"dataframe\">\n",
       "  <thead>\n",
       "    <tr style=\"text-align: right;\">\n",
       "      <th></th>\n",
       "      <th>B</th>\n",
       "      <th>C</th>\n",
       "    </tr>\n",
       "  </thead>\n",
       "  <tbody>\n",
       "    <tr>\n",
       "      <th>1</th>\n",
       "      <td>B1</td>\n",
       "      <td>C1</td>\n",
       "    </tr>\n",
       "    <tr>\n",
       "      <th>2</th>\n",
       "      <td>B2</td>\n",
       "      <td>C2</td>\n",
       "    </tr>\n",
       "    <tr>\n",
       "      <th>3</th>\n",
       "      <td>B3</td>\n",
       "      <td>C3</td>\n",
       "    </tr>\n",
       "    <tr>\n",
       "      <th>4</th>\n",
       "      <td>B4</td>\n",
       "      <td>C4</td>\n",
       "    </tr>\n",
       "  </tbody>\n",
       "</table>\n",
       "</div>"
      ],
      "text/plain": [
       "    B   C\n",
       "1  B1  C1\n",
       "2  B2  C2\n",
       "3  B3  C3\n",
       "4  B4  C4"
      ]
     },
     "execution_count": 25,
     "metadata": {},
     "output_type": "execute_result"
    }
   ],
   "source": [
    "pd.concat([df1, df2], join='inner')"
   ]
  },
  {
   "cell_type": "code",
   "execution_count": 26,
   "id": "93fff6e4-5f97-49b2-8288-0edd5d616530",
   "metadata": {},
   "outputs": [],
   "source": [
    "df1 = create_df(['A', 'B'], [1, 2])\n",
    "df2 = create_df(['A', 'B'], [3, 4])"
   ]
  },
  {
   "cell_type": "markdown",
   "id": "86b85ed8-eca0-4ff5-8d84-800c0502d8d7",
   "metadata": {},
   "source": [
    "## Merge y join\n",
    "\n",
    "Una característica importantísima de Pandas son sus operaciones de join y merge de alto rendimiento en memoria. La forma principal para esto es la función `pd.merge()`.\n",
    "\n",
    "El comportamiento implementado en `pd.merge()` es un subconjunto de lo que se conoce como álgebra relacional, que es un conjunto formal de reglas para manipular datos relacionales y constituye la base conceptual de las operaciones disponibles en la mayoría de las bases de datos. \n",
    "\n",
    "Pandas implementa varios de estos bloques de construcción fundamentales en la función `pd.merge()`.\n",
    "\n",
    "### Categorías de joins\n",
    "\n",
    "La función `pd.merge()` implementa varios tipos de joins: el **join uno a uno**, **muchos a uno** y **muchos a muchos**. \n",
    "\n",
    "**join uno a uno**: El tipo más simple de merge, que en muchos aspectos es muy similar a la concatenación por columnas."
   ]
  },
  {
   "cell_type": "code",
   "execution_count": 27,
   "id": "78bdd163-d66c-4b76-a886-3437d475b870",
   "metadata": {},
   "outputs": [],
   "source": [
    "columns1 = ['Nombre completo', 'Fecha Nacimiento'] \n",
    "columns2 = ['Nombre completo', 'Ciudad', 'Profesion']\n",
    "\n",
    "per_1a = [\"Clotilde Acosta\", \"3 octubre de 1940\"]\n",
    "per_2a = [\"Rosario Bléfari\", \"24/12/65\"]\n",
    "per_3a = [\"Norberto Carredegoas\", \"1936-04-12\"]\n",
    "per_4a = [\"Bárbara Torres\", \"11-04-1973\"]\n",
    "per_5a = [\"Eugenio Weinbaum\", \"17/08/1961\"]\n",
    "\n",
    "per_1b = [\"Norberto Carredegoas\", \"San Antonio Oeste\"]\n",
    "per_2b = [\"Rosario Bléfari\",  \"MDP\", \"Cantante\"]\n",
    "per_3b = [\"Clotilde Acosta\", \"Mar del Plata\", \"Actriz\"]\n",
    "per_4b = [\"Bárbara Torres\", \"M del plata\", \"Actuación\"]\n",
    "per_5b = [\"Eugenio Weinbaum\", \"MDQ\", \"Conductor\"]\n",
    "\n",
    "personajes1 = [per_1a, per_2a, per_3a, per_4a, per_5a]\n",
    "personajes2 = [per_1b, per_2b, per_3b, per_4b, per_5b]\n",
    "\n",
    "df1 = pd.DataFrame(personajes1, columns = columns1)\n",
    "df2 = pd.DataFrame(personajes2, columns = columns2)"
   ]
  },
  {
   "cell_type": "code",
   "execution_count": 28,
   "id": "1d0f1082-ec04-464e-8857-d794a7fb83a9",
   "metadata": {},
   "outputs": [
    {
     "data": {
      "text/html": [
       "<div>\n",
       "<style scoped>\n",
       "    .dataframe tbody tr th:only-of-type {\n",
       "        vertical-align: middle;\n",
       "    }\n",
       "\n",
       "    .dataframe tbody tr th {\n",
       "        vertical-align: top;\n",
       "    }\n",
       "\n",
       "    .dataframe thead th {\n",
       "        text-align: right;\n",
       "    }\n",
       "</style>\n",
       "<table border=\"1\" class=\"dataframe\">\n",
       "  <thead>\n",
       "    <tr style=\"text-align: right;\">\n",
       "      <th></th>\n",
       "      <th>Nombre completo</th>\n",
       "      <th>Fecha Nacimiento</th>\n",
       "    </tr>\n",
       "  </thead>\n",
       "  <tbody>\n",
       "    <tr>\n",
       "      <th>0</th>\n",
       "      <td>Clotilde Acosta</td>\n",
       "      <td>3 octubre de 1940</td>\n",
       "    </tr>\n",
       "    <tr>\n",
       "      <th>1</th>\n",
       "      <td>Rosario Bléfari</td>\n",
       "      <td>24/12/65</td>\n",
       "    </tr>\n",
       "    <tr>\n",
       "      <th>2</th>\n",
       "      <td>Norberto Carredegoas</td>\n",
       "      <td>1936-04-12</td>\n",
       "    </tr>\n",
       "    <tr>\n",
       "      <th>3</th>\n",
       "      <td>Bárbara Torres</td>\n",
       "      <td>11-04-1973</td>\n",
       "    </tr>\n",
       "    <tr>\n",
       "      <th>4</th>\n",
       "      <td>Eugenio Weinbaum</td>\n",
       "      <td>17/08/1961</td>\n",
       "    </tr>\n",
       "  </tbody>\n",
       "</table>\n",
       "</div>"
      ],
      "text/plain": [
       "        Nombre completo   Fecha Nacimiento\n",
       "0       Clotilde Acosta  3 octubre de 1940\n",
       "1       Rosario Bléfari           24/12/65\n",
       "2  Norberto Carredegoas         1936-04-12\n",
       "3        Bárbara Torres         11-04-1973\n",
       "4      Eugenio Weinbaum         17/08/1961"
      ]
     },
     "execution_count": 28,
     "metadata": {},
     "output_type": "execute_result"
    }
   ],
   "source": [
    "df1"
   ]
  },
  {
   "cell_type": "code",
   "execution_count": 29,
   "id": "018fc3ef-878e-4f2c-b5f2-2409a0185411",
   "metadata": {},
   "outputs": [
    {
     "data": {
      "text/html": [
       "<div>\n",
       "<style scoped>\n",
       "    .dataframe tbody tr th:only-of-type {\n",
       "        vertical-align: middle;\n",
       "    }\n",
       "\n",
       "    .dataframe tbody tr th {\n",
       "        vertical-align: top;\n",
       "    }\n",
       "\n",
       "    .dataframe thead th {\n",
       "        text-align: right;\n",
       "    }\n",
       "</style>\n",
       "<table border=\"1\" class=\"dataframe\">\n",
       "  <thead>\n",
       "    <tr style=\"text-align: right;\">\n",
       "      <th></th>\n",
       "      <th>Nombre completo</th>\n",
       "      <th>Ciudad</th>\n",
       "      <th>Profesion</th>\n",
       "    </tr>\n",
       "  </thead>\n",
       "  <tbody>\n",
       "    <tr>\n",
       "      <th>0</th>\n",
       "      <td>Norberto Carredegoas</td>\n",
       "      <td>San Antonio Oeste</td>\n",
       "      <td>None</td>\n",
       "    </tr>\n",
       "    <tr>\n",
       "      <th>1</th>\n",
       "      <td>Rosario Bléfari</td>\n",
       "      <td>MDP</td>\n",
       "      <td>Cantante</td>\n",
       "    </tr>\n",
       "    <tr>\n",
       "      <th>2</th>\n",
       "      <td>Clotilde Acosta</td>\n",
       "      <td>Mar del Plata</td>\n",
       "      <td>Actriz</td>\n",
       "    </tr>\n",
       "    <tr>\n",
       "      <th>3</th>\n",
       "      <td>Bárbara Torres</td>\n",
       "      <td>M del plata</td>\n",
       "      <td>Actuación</td>\n",
       "    </tr>\n",
       "    <tr>\n",
       "      <th>4</th>\n",
       "      <td>Eugenio Weinbaum</td>\n",
       "      <td>MDQ</td>\n",
       "      <td>Conductor</td>\n",
       "    </tr>\n",
       "  </tbody>\n",
       "</table>\n",
       "</div>"
      ],
      "text/plain": [
       "        Nombre completo             Ciudad  Profesion\n",
       "0  Norberto Carredegoas  San Antonio Oeste       None\n",
       "1       Rosario Bléfari                MDP   Cantante\n",
       "2       Clotilde Acosta      Mar del Plata     Actriz\n",
       "3        Bárbara Torres        M del plata  Actuación\n",
       "4      Eugenio Weinbaum                MDQ  Conductor"
      ]
     },
     "execution_count": 29,
     "metadata": {},
     "output_type": "execute_result"
    }
   ],
   "source": [
    "df2"
   ]
  },
  {
   "cell_type": "code",
   "execution_count": 30,
   "id": "fb7b5a28-f332-4ac1-bfae-38ac2bb153cc",
   "metadata": {},
   "outputs": [
    {
     "data": {
      "text/html": [
       "<div>\n",
       "<style scoped>\n",
       "    .dataframe tbody tr th:only-of-type {\n",
       "        vertical-align: middle;\n",
       "    }\n",
       "\n",
       "    .dataframe tbody tr th {\n",
       "        vertical-align: top;\n",
       "    }\n",
       "\n",
       "    .dataframe thead th {\n",
       "        text-align: right;\n",
       "    }\n",
       "</style>\n",
       "<table border=\"1\" class=\"dataframe\">\n",
       "  <thead>\n",
       "    <tr style=\"text-align: right;\">\n",
       "      <th></th>\n",
       "      <th>Nombre completo</th>\n",
       "      <th>Fecha Nacimiento</th>\n",
       "      <th>Ciudad</th>\n",
       "      <th>Profesion</th>\n",
       "    </tr>\n",
       "  </thead>\n",
       "  <tbody>\n",
       "    <tr>\n",
       "      <th>0</th>\n",
       "      <td>Clotilde Acosta</td>\n",
       "      <td>3 octubre de 1940</td>\n",
       "      <td>Mar del Plata</td>\n",
       "      <td>Actriz</td>\n",
       "    </tr>\n",
       "    <tr>\n",
       "      <th>1</th>\n",
       "      <td>Rosario Bléfari</td>\n",
       "      <td>24/12/65</td>\n",
       "      <td>MDP</td>\n",
       "      <td>Cantante</td>\n",
       "    </tr>\n",
       "    <tr>\n",
       "      <th>2</th>\n",
       "      <td>Norberto Carredegoas</td>\n",
       "      <td>1936-04-12</td>\n",
       "      <td>San Antonio Oeste</td>\n",
       "      <td>None</td>\n",
       "    </tr>\n",
       "    <tr>\n",
       "      <th>3</th>\n",
       "      <td>Bárbara Torres</td>\n",
       "      <td>11-04-1973</td>\n",
       "      <td>M del plata</td>\n",
       "      <td>Actuación</td>\n",
       "    </tr>\n",
       "    <tr>\n",
       "      <th>4</th>\n",
       "      <td>Eugenio Weinbaum</td>\n",
       "      <td>17/08/1961</td>\n",
       "      <td>MDQ</td>\n",
       "      <td>Conductor</td>\n",
       "    </tr>\n",
       "  </tbody>\n",
       "</table>\n",
       "</div>"
      ],
      "text/plain": [
       "        Nombre completo   Fecha Nacimiento             Ciudad  Profesion\n",
       "0       Clotilde Acosta  3 octubre de 1940      Mar del Plata     Actriz\n",
       "1       Rosario Bléfari           24/12/65                MDP   Cantante\n",
       "2  Norberto Carredegoas         1936-04-12  San Antonio Oeste       None\n",
       "3        Bárbara Torres         11-04-1973        M del plata  Actuación\n",
       "4      Eugenio Weinbaum         17/08/1961                MDQ  Conductor"
      ]
     },
     "execution_count": 30,
     "metadata": {},
     "output_type": "execute_result"
    }
   ],
   "source": [
    "df3 = pd.merge(df1, df2)\n",
    "df3"
   ]
  },
  {
   "cell_type": "markdown",
   "id": "1dbb0f09-5c63-4d84-9238-845cb538614a",
   "metadata": {},
   "source": [
    "La función `pd.merge()` reconoce que cada `DataFrame` tiene la columna *Nombre completo* y realiza automáticamente el join utilizando esta columna como `llaves`. El resultado del `merge` es un nuevo DataFrame que combina la información de las dos entradas. \n",
    "\n",
    "Observa que el orden de las entradas en cada columna no necesariamente se mantiene, en este caso, el orden de la columna *Nombre completo* difiere entre df1 y df2, y la función `pd.merge()` tiene en cuenta esto correctamente. Además, en general el `merge` descarta el índice.\n",
    "\n",
    "**Joins de muchos a uno**: Los joins de muchos a uno son aquellos en los que una de las columnas clave contiene entradas duplicadas. El DataFrame resultante conservará esas entradas duplicadas según corresponda. "
   ]
  },
  {
   "cell_type": "code",
   "execution_count": 31,
   "id": "f6ca686a-ad54-46bb-b1d0-42459b19b755",
   "metadata": {},
   "outputs": [],
   "source": [
    "columns1 = ['Nombre completo', 'Fecha Nacimiento'] \n",
    "columns2 = ['Nombre completo', 'Profesion']\n",
    "\n",
    "per_1a = [\"Clotilde Acosta\", \"3 octubre de 1940\"]\n",
    "per_2a = [\"Rosario Bléfari\", \"24/12/65\"]\n",
    "per_3a = [\"Norberto Carredegoas\", \"1936-04-12\"]\n",
    "per_4a = [\"Bárbara Torres\", \"11-04-1973\"]\n",
    "per_5a = [\"Eugenio Weinbaum\", \"17/08/1961\"]\n",
    "\n",
    "per_1b = [\"Norberto Carredegoas\", \"Actor\"]\n",
    "per_2b = [\"Norberto Carredegoas\", \"Conductor\"]\n",
    "per_3b = [\"Norberto Carredegoas\", \"Publicista\"]\n",
    "per_4b = [\"Rosario Bléfari\",  \"Cantante\"]\n",
    "per_5b = [\"Clotilde Acosta\", \"Actriz\"]\n",
    "per_6b = [\"Bárbara Torres\", \"Actuación\"]\n",
    "per_7b = [\"Eugenio Weinbaum\", \"Conductor\"]\n",
    "per_8b = [\"Eugenio Weinbaum\", \"Actor\"]\n",
    "\n",
    "personajes1 = [per_1a, per_2a, per_3a, per_4a, per_5a]\n",
    "personajes2 = [per_1b, per_2b, per_3b, per_4b, per_5b, per_6b, per_7b, per_8b]\n",
    "\n",
    "df1 = pd.DataFrame(personajes1, columns = columns1)\n",
    "df2 = pd.DataFrame(personajes2, columns = columns2)"
   ]
  },
  {
   "cell_type": "code",
   "execution_count": 32,
   "id": "f2fb8158-06f7-4f29-b4c2-139889b6b539",
   "metadata": {},
   "outputs": [
    {
     "data": {
      "text/html": [
       "<div>\n",
       "<style scoped>\n",
       "    .dataframe tbody tr th:only-of-type {\n",
       "        vertical-align: middle;\n",
       "    }\n",
       "\n",
       "    .dataframe tbody tr th {\n",
       "        vertical-align: top;\n",
       "    }\n",
       "\n",
       "    .dataframe thead th {\n",
       "        text-align: right;\n",
       "    }\n",
       "</style>\n",
       "<table border=\"1\" class=\"dataframe\">\n",
       "  <thead>\n",
       "    <tr style=\"text-align: right;\">\n",
       "      <th></th>\n",
       "      <th>Nombre completo</th>\n",
       "      <th>Fecha Nacimiento</th>\n",
       "    </tr>\n",
       "  </thead>\n",
       "  <tbody>\n",
       "    <tr>\n",
       "      <th>0</th>\n",
       "      <td>Clotilde Acosta</td>\n",
       "      <td>3 octubre de 1940</td>\n",
       "    </tr>\n",
       "    <tr>\n",
       "      <th>1</th>\n",
       "      <td>Rosario Bléfari</td>\n",
       "      <td>24/12/65</td>\n",
       "    </tr>\n",
       "    <tr>\n",
       "      <th>2</th>\n",
       "      <td>Norberto Carredegoas</td>\n",
       "      <td>1936-04-12</td>\n",
       "    </tr>\n",
       "    <tr>\n",
       "      <th>3</th>\n",
       "      <td>Bárbara Torres</td>\n",
       "      <td>11-04-1973</td>\n",
       "    </tr>\n",
       "    <tr>\n",
       "      <th>4</th>\n",
       "      <td>Eugenio Weinbaum</td>\n",
       "      <td>17/08/1961</td>\n",
       "    </tr>\n",
       "  </tbody>\n",
       "</table>\n",
       "</div>"
      ],
      "text/plain": [
       "        Nombre completo   Fecha Nacimiento\n",
       "0       Clotilde Acosta  3 octubre de 1940\n",
       "1       Rosario Bléfari           24/12/65\n",
       "2  Norberto Carredegoas         1936-04-12\n",
       "3        Bárbara Torres         11-04-1973\n",
       "4      Eugenio Weinbaum         17/08/1961"
      ]
     },
     "execution_count": 32,
     "metadata": {},
     "output_type": "execute_result"
    }
   ],
   "source": [
    "df1"
   ]
  },
  {
   "cell_type": "code",
   "execution_count": 33,
   "id": "45d8f9de-fd46-47dd-b12f-34972d51f5e7",
   "metadata": {},
   "outputs": [
    {
     "data": {
      "text/html": [
       "<div>\n",
       "<style scoped>\n",
       "    .dataframe tbody tr th:only-of-type {\n",
       "        vertical-align: middle;\n",
       "    }\n",
       "\n",
       "    .dataframe tbody tr th {\n",
       "        vertical-align: top;\n",
       "    }\n",
       "\n",
       "    .dataframe thead th {\n",
       "        text-align: right;\n",
       "    }\n",
       "</style>\n",
       "<table border=\"1\" class=\"dataframe\">\n",
       "  <thead>\n",
       "    <tr style=\"text-align: right;\">\n",
       "      <th></th>\n",
       "      <th>Nombre completo</th>\n",
       "      <th>Profesion</th>\n",
       "    </tr>\n",
       "  </thead>\n",
       "  <tbody>\n",
       "    <tr>\n",
       "      <th>0</th>\n",
       "      <td>Norberto Carredegoas</td>\n",
       "      <td>Actor</td>\n",
       "    </tr>\n",
       "    <tr>\n",
       "      <th>1</th>\n",
       "      <td>Norberto Carredegoas</td>\n",
       "      <td>Conductor</td>\n",
       "    </tr>\n",
       "    <tr>\n",
       "      <th>2</th>\n",
       "      <td>Norberto Carredegoas</td>\n",
       "      <td>Publicista</td>\n",
       "    </tr>\n",
       "    <tr>\n",
       "      <th>3</th>\n",
       "      <td>Rosario Bléfari</td>\n",
       "      <td>Cantante</td>\n",
       "    </tr>\n",
       "    <tr>\n",
       "      <th>4</th>\n",
       "      <td>Clotilde Acosta</td>\n",
       "      <td>Actriz</td>\n",
       "    </tr>\n",
       "    <tr>\n",
       "      <th>5</th>\n",
       "      <td>Bárbara Torres</td>\n",
       "      <td>Actuación</td>\n",
       "    </tr>\n",
       "    <tr>\n",
       "      <th>6</th>\n",
       "      <td>Eugenio Weinbaum</td>\n",
       "      <td>Conductor</td>\n",
       "    </tr>\n",
       "    <tr>\n",
       "      <th>7</th>\n",
       "      <td>Eugenio Weinbaum</td>\n",
       "      <td>Actor</td>\n",
       "    </tr>\n",
       "  </tbody>\n",
       "</table>\n",
       "</div>"
      ],
      "text/plain": [
       "        Nombre completo   Profesion\n",
       "0  Norberto Carredegoas       Actor\n",
       "1  Norberto Carredegoas   Conductor\n",
       "2  Norberto Carredegoas  Publicista\n",
       "3       Rosario Bléfari    Cantante\n",
       "4       Clotilde Acosta      Actriz\n",
       "5        Bárbara Torres   Actuación\n",
       "6      Eugenio Weinbaum   Conductor\n",
       "7      Eugenio Weinbaum       Actor"
      ]
     },
     "execution_count": 33,
     "metadata": {},
     "output_type": "execute_result"
    }
   ],
   "source": [
    "df2"
   ]
  },
  {
   "cell_type": "code",
   "execution_count": 34,
   "id": "208b76c6-f070-4714-86ab-c0be6ec55437",
   "metadata": {},
   "outputs": [
    {
     "data": {
      "text/html": [
       "<div>\n",
       "<style scoped>\n",
       "    .dataframe tbody tr th:only-of-type {\n",
       "        vertical-align: middle;\n",
       "    }\n",
       "\n",
       "    .dataframe tbody tr th {\n",
       "        vertical-align: top;\n",
       "    }\n",
       "\n",
       "    .dataframe thead th {\n",
       "        text-align: right;\n",
       "    }\n",
       "</style>\n",
       "<table border=\"1\" class=\"dataframe\">\n",
       "  <thead>\n",
       "    <tr style=\"text-align: right;\">\n",
       "      <th></th>\n",
       "      <th>Nombre completo</th>\n",
       "      <th>Fecha Nacimiento</th>\n",
       "      <th>Profesion</th>\n",
       "    </tr>\n",
       "  </thead>\n",
       "  <tbody>\n",
       "    <tr>\n",
       "      <th>0</th>\n",
       "      <td>Clotilde Acosta</td>\n",
       "      <td>3 octubre de 1940</td>\n",
       "      <td>Actriz</td>\n",
       "    </tr>\n",
       "    <tr>\n",
       "      <th>1</th>\n",
       "      <td>Rosario Bléfari</td>\n",
       "      <td>24/12/65</td>\n",
       "      <td>Cantante</td>\n",
       "    </tr>\n",
       "    <tr>\n",
       "      <th>2</th>\n",
       "      <td>Norberto Carredegoas</td>\n",
       "      <td>1936-04-12</td>\n",
       "      <td>Actor</td>\n",
       "    </tr>\n",
       "    <tr>\n",
       "      <th>3</th>\n",
       "      <td>Norberto Carredegoas</td>\n",
       "      <td>1936-04-12</td>\n",
       "      <td>Conductor</td>\n",
       "    </tr>\n",
       "    <tr>\n",
       "      <th>4</th>\n",
       "      <td>Norberto Carredegoas</td>\n",
       "      <td>1936-04-12</td>\n",
       "      <td>Publicista</td>\n",
       "    </tr>\n",
       "    <tr>\n",
       "      <th>5</th>\n",
       "      <td>Bárbara Torres</td>\n",
       "      <td>11-04-1973</td>\n",
       "      <td>Actuación</td>\n",
       "    </tr>\n",
       "    <tr>\n",
       "      <th>6</th>\n",
       "      <td>Eugenio Weinbaum</td>\n",
       "      <td>17/08/1961</td>\n",
       "      <td>Conductor</td>\n",
       "    </tr>\n",
       "    <tr>\n",
       "      <th>7</th>\n",
       "      <td>Eugenio Weinbaum</td>\n",
       "      <td>17/08/1961</td>\n",
       "      <td>Actor</td>\n",
       "    </tr>\n",
       "  </tbody>\n",
       "</table>\n",
       "</div>"
      ],
      "text/plain": [
       "        Nombre completo   Fecha Nacimiento   Profesion\n",
       "0       Clotilde Acosta  3 octubre de 1940      Actriz\n",
       "1       Rosario Bléfari           24/12/65    Cantante\n",
       "2  Norberto Carredegoas         1936-04-12       Actor\n",
       "3  Norberto Carredegoas         1936-04-12   Conductor\n",
       "4  Norberto Carredegoas         1936-04-12  Publicista\n",
       "5        Bárbara Torres         11-04-1973   Actuación\n",
       "6      Eugenio Weinbaum         17/08/1961   Conductor\n",
       "7      Eugenio Weinbaum         17/08/1961       Actor"
      ]
     },
     "execution_count": 34,
     "metadata": {},
     "output_type": "execute_result"
    }
   ],
   "source": [
    "pd.merge(df1, df2)"
   ]
  },
  {
   "cell_type": "markdown",
   "id": "0a60553f-ca05-470d-9621-81034f3f2412",
   "metadata": {},
   "source": [
    "**Join muchos a muchos**: Los joins de muchos a muchos pueden ser un poco confusos conceptualmente. Si la columna clave en ambos arreglos  contiene entradas duplicadas, entonces el resultado es un `merge` de muchos a muchos."
   ]
  },
  {
   "cell_type": "code",
   "execution_count": 35,
   "id": "f42da279-d5a4-4865-ae3b-5df8cbed3d4f",
   "metadata": {},
   "outputs": [],
   "source": [
    "df1 = pd.DataFrame({'Empleado': ['Carlos', 'Esteban', 'María', 'Verónica'],\n",
    "                    'Grupo': ['Contabilidad', 'Ingeniería', 'Ingeniería', 'People']})\n",
    "df2 = pd.DataFrame({'Grupo': ['Contabilidad', 'Contabilidad', 'Ingeniería', 'Ingeniería', 'People', 'People'],\n",
    "                    'Habilidades': ['Matemática', 'Planillas de cálculo', 'Programación', 'Linux', 'Planillas de cálculo', 'Organización']})"
   ]
  },
  {
   "cell_type": "code",
   "execution_count": 36,
   "id": "5a0f7754-5a2c-48df-9d6d-372d23878bfd",
   "metadata": {},
   "outputs": [
    {
     "data": {
      "text/html": [
       "<div>\n",
       "<style scoped>\n",
       "    .dataframe tbody tr th:only-of-type {\n",
       "        vertical-align: middle;\n",
       "    }\n",
       "\n",
       "    .dataframe tbody tr th {\n",
       "        vertical-align: top;\n",
       "    }\n",
       "\n",
       "    .dataframe thead th {\n",
       "        text-align: right;\n",
       "    }\n",
       "</style>\n",
       "<table border=\"1\" class=\"dataframe\">\n",
       "  <thead>\n",
       "    <tr style=\"text-align: right;\">\n",
       "      <th></th>\n",
       "      <th>Empleado</th>\n",
       "      <th>Grupo</th>\n",
       "    </tr>\n",
       "  </thead>\n",
       "  <tbody>\n",
       "    <tr>\n",
       "      <th>0</th>\n",
       "      <td>Carlos</td>\n",
       "      <td>Contabilidad</td>\n",
       "    </tr>\n",
       "    <tr>\n",
       "      <th>1</th>\n",
       "      <td>Esteban</td>\n",
       "      <td>Ingeniería</td>\n",
       "    </tr>\n",
       "    <tr>\n",
       "      <th>2</th>\n",
       "      <td>María</td>\n",
       "      <td>Ingeniería</td>\n",
       "    </tr>\n",
       "    <tr>\n",
       "      <th>3</th>\n",
       "      <td>Verónica</td>\n",
       "      <td>People</td>\n",
       "    </tr>\n",
       "  </tbody>\n",
       "</table>\n",
       "</div>"
      ],
      "text/plain": [
       "   Empleado         Grupo\n",
       "0    Carlos  Contabilidad\n",
       "1   Esteban    Ingeniería\n",
       "2     María    Ingeniería\n",
       "3  Verónica        People"
      ]
     },
     "execution_count": 36,
     "metadata": {},
     "output_type": "execute_result"
    }
   ],
   "source": [
    "df1"
   ]
  },
  {
   "cell_type": "code",
   "execution_count": 37,
   "id": "9c14d085-d1c8-410f-abf8-03ab7805e5fd",
   "metadata": {},
   "outputs": [
    {
     "data": {
      "text/html": [
       "<div>\n",
       "<style scoped>\n",
       "    .dataframe tbody tr th:only-of-type {\n",
       "        vertical-align: middle;\n",
       "    }\n",
       "\n",
       "    .dataframe tbody tr th {\n",
       "        vertical-align: top;\n",
       "    }\n",
       "\n",
       "    .dataframe thead th {\n",
       "        text-align: right;\n",
       "    }\n",
       "</style>\n",
       "<table border=\"1\" class=\"dataframe\">\n",
       "  <thead>\n",
       "    <tr style=\"text-align: right;\">\n",
       "      <th></th>\n",
       "      <th>Grupo</th>\n",
       "      <th>Habilidades</th>\n",
       "    </tr>\n",
       "  </thead>\n",
       "  <tbody>\n",
       "    <tr>\n",
       "      <th>0</th>\n",
       "      <td>Contabilidad</td>\n",
       "      <td>Matemática</td>\n",
       "    </tr>\n",
       "    <tr>\n",
       "      <th>1</th>\n",
       "      <td>Contabilidad</td>\n",
       "      <td>Planillas de cálculo</td>\n",
       "    </tr>\n",
       "    <tr>\n",
       "      <th>2</th>\n",
       "      <td>Ingeniería</td>\n",
       "      <td>Programación</td>\n",
       "    </tr>\n",
       "    <tr>\n",
       "      <th>3</th>\n",
       "      <td>Ingeniería</td>\n",
       "      <td>Linux</td>\n",
       "    </tr>\n",
       "    <tr>\n",
       "      <th>4</th>\n",
       "      <td>People</td>\n",
       "      <td>Planillas de cálculo</td>\n",
       "    </tr>\n",
       "    <tr>\n",
       "      <th>5</th>\n",
       "      <td>People</td>\n",
       "      <td>Organización</td>\n",
       "    </tr>\n",
       "  </tbody>\n",
       "</table>\n",
       "</div>"
      ],
      "text/plain": [
       "          Grupo           Habilidades\n",
       "0  Contabilidad            Matemática\n",
       "1  Contabilidad  Planillas de cálculo\n",
       "2    Ingeniería          Programación\n",
       "3    Ingeniería                 Linux\n",
       "4        People  Planillas de cálculo\n",
       "5        People          Organización"
      ]
     },
     "execution_count": 37,
     "metadata": {},
     "output_type": "execute_result"
    }
   ],
   "source": [
    "df2"
   ]
  },
  {
   "cell_type": "code",
   "execution_count": 38,
   "id": "700578b0-9aa3-43de-a3e6-9fbb9970b5d6",
   "metadata": {},
   "outputs": [
    {
     "data": {
      "text/html": [
       "<div>\n",
       "<style scoped>\n",
       "    .dataframe tbody tr th:only-of-type {\n",
       "        vertical-align: middle;\n",
       "    }\n",
       "\n",
       "    .dataframe tbody tr th {\n",
       "        vertical-align: top;\n",
       "    }\n",
       "\n",
       "    .dataframe thead th {\n",
       "        text-align: right;\n",
       "    }\n",
       "</style>\n",
       "<table border=\"1\" class=\"dataframe\">\n",
       "  <thead>\n",
       "    <tr style=\"text-align: right;\">\n",
       "      <th></th>\n",
       "      <th>Empleado</th>\n",
       "      <th>Grupo</th>\n",
       "      <th>Habilidades</th>\n",
       "    </tr>\n",
       "  </thead>\n",
       "  <tbody>\n",
       "    <tr>\n",
       "      <th>0</th>\n",
       "      <td>Carlos</td>\n",
       "      <td>Contabilidad</td>\n",
       "      <td>Matemática</td>\n",
       "    </tr>\n",
       "    <tr>\n",
       "      <th>1</th>\n",
       "      <td>Carlos</td>\n",
       "      <td>Contabilidad</td>\n",
       "      <td>Planillas de cálculo</td>\n",
       "    </tr>\n",
       "    <tr>\n",
       "      <th>2</th>\n",
       "      <td>Esteban</td>\n",
       "      <td>Ingeniería</td>\n",
       "      <td>Programación</td>\n",
       "    </tr>\n",
       "    <tr>\n",
       "      <th>3</th>\n",
       "      <td>Esteban</td>\n",
       "      <td>Ingeniería</td>\n",
       "      <td>Linux</td>\n",
       "    </tr>\n",
       "    <tr>\n",
       "      <th>4</th>\n",
       "      <td>María</td>\n",
       "      <td>Ingeniería</td>\n",
       "      <td>Programación</td>\n",
       "    </tr>\n",
       "    <tr>\n",
       "      <th>5</th>\n",
       "      <td>María</td>\n",
       "      <td>Ingeniería</td>\n",
       "      <td>Linux</td>\n",
       "    </tr>\n",
       "    <tr>\n",
       "      <th>6</th>\n",
       "      <td>Verónica</td>\n",
       "      <td>People</td>\n",
       "      <td>Planillas de cálculo</td>\n",
       "    </tr>\n",
       "    <tr>\n",
       "      <th>7</th>\n",
       "      <td>Verónica</td>\n",
       "      <td>People</td>\n",
       "      <td>Organización</td>\n",
       "    </tr>\n",
       "  </tbody>\n",
       "</table>\n",
       "</div>"
      ],
      "text/plain": [
       "   Empleado         Grupo           Habilidades\n",
       "0    Carlos  Contabilidad            Matemática\n",
       "1    Carlos  Contabilidad  Planillas de cálculo\n",
       "2   Esteban    Ingeniería          Programación\n",
       "3   Esteban    Ingeniería                 Linux\n",
       "4     María    Ingeniería          Programación\n",
       "5     María    Ingeniería                 Linux\n",
       "6  Verónica        People  Planillas de cálculo\n",
       "7  Verónica        People          Organización"
      ]
     },
     "execution_count": 38,
     "metadata": {},
     "output_type": "execute_result"
    }
   ],
   "source": [
    "pd.merge(df1, df2)"
   ]
  },
  {
   "cell_type": "markdown",
   "id": "c3bb33cf-85b2-4639-90ad-dae63cce5166",
   "metadata": {},
   "source": [
    "### Especificando la llave\n",
    "\n",
    "Ya hemos visto el comportamiento por defecto de `pd.merge()`, busca uno o más nombres de columnas coincidentes entre las dos entradas y utiliza esto como la clave. Sin embargo, muchas veces los nombres de las columnas no coinciden, y `pd.merge()` proporciona una variedad de opciones para manejar esto.\n",
    "\n",
    "**El argumento `on`**: Se especificar explícitamente el nombre de la columna llave utilizando el argumento `on`, que toma un nombre de columna o una lista de nombres de columnas:"
   ]
  },
  {
   "cell_type": "code",
   "execution_count": 39,
   "id": "a82c21e1-5e06-4688-ac7e-891932b481e8",
   "metadata": {},
   "outputs": [],
   "source": [
    "columns1 = ['Nombre completo', 'Fecha Nacimiento'] \n",
    "columns2 = ['Nombre completo', 'Ciudad', 'Profesion']\n",
    "\n",
    "per_1a = [\"Clotilde Acosta\", \"3 octubre de 1940\"]\n",
    "per_2a = [\"Rosario Bléfari\", \"24/12/65\"]\n",
    "per_3a = [\"Norberto Carredegoas\", \"1936-04-12\"]\n",
    "per_4a = [\"Bárbara Torres\", \"11-04-1973\"]\n",
    "per_5a = [\"Eugenio Weinbaum\", \"17/08/1961\"]\n",
    "\n",
    "per_1b = [\"Norberto Carredegoas\", \"San Antonio Oeste\"]\n",
    "per_2b = [\"Rosario Bléfari\",  \"MDP\", \"Cantante\"]\n",
    "per_3b = [\"Clotilde Acosta\", \"Mar del Plata\", \"Actriz\"]\n",
    "per_4b = [\"Bárbara Torres\", \"M del plata\", \"Actuación\"]\n",
    "per_5b = [\"Eugenio Weinbaum\", \"MDQ\", \"Conductor\"]\n",
    "\n",
    "personajes1 = [per_1a, per_2a, per_3a, per_4a, per_5a]\n",
    "personajes2 = [per_1b, per_2b, per_3b, per_4b, per_5b]\n",
    "\n",
    "df1 = pd.DataFrame(personajes1, columns = columns1)\n",
    "df2 = pd.DataFrame(personajes2, columns = columns2)"
   ]
  },
  {
   "cell_type": "code",
   "execution_count": 40,
   "id": "d90844d2-66f1-4d4e-aae1-2eb4ca5a5a65",
   "metadata": {},
   "outputs": [
    {
     "data": {
      "text/html": [
       "<div>\n",
       "<style scoped>\n",
       "    .dataframe tbody tr th:only-of-type {\n",
       "        vertical-align: middle;\n",
       "    }\n",
       "\n",
       "    .dataframe tbody tr th {\n",
       "        vertical-align: top;\n",
       "    }\n",
       "\n",
       "    .dataframe thead th {\n",
       "        text-align: right;\n",
       "    }\n",
       "</style>\n",
       "<table border=\"1\" class=\"dataframe\">\n",
       "  <thead>\n",
       "    <tr style=\"text-align: right;\">\n",
       "      <th></th>\n",
       "      <th>Nombre completo</th>\n",
       "      <th>Fecha Nacimiento</th>\n",
       "      <th>Ciudad</th>\n",
       "      <th>Profesion</th>\n",
       "    </tr>\n",
       "  </thead>\n",
       "  <tbody>\n",
       "    <tr>\n",
       "      <th>0</th>\n",
       "      <td>Clotilde Acosta</td>\n",
       "      <td>3 octubre de 1940</td>\n",
       "      <td>Mar del Plata</td>\n",
       "      <td>Actriz</td>\n",
       "    </tr>\n",
       "    <tr>\n",
       "      <th>1</th>\n",
       "      <td>Rosario Bléfari</td>\n",
       "      <td>24/12/65</td>\n",
       "      <td>MDP</td>\n",
       "      <td>Cantante</td>\n",
       "    </tr>\n",
       "    <tr>\n",
       "      <th>2</th>\n",
       "      <td>Norberto Carredegoas</td>\n",
       "      <td>1936-04-12</td>\n",
       "      <td>San Antonio Oeste</td>\n",
       "      <td>None</td>\n",
       "    </tr>\n",
       "    <tr>\n",
       "      <th>3</th>\n",
       "      <td>Bárbara Torres</td>\n",
       "      <td>11-04-1973</td>\n",
       "      <td>M del plata</td>\n",
       "      <td>Actuación</td>\n",
       "    </tr>\n",
       "    <tr>\n",
       "      <th>4</th>\n",
       "      <td>Eugenio Weinbaum</td>\n",
       "      <td>17/08/1961</td>\n",
       "      <td>MDQ</td>\n",
       "      <td>Conductor</td>\n",
       "    </tr>\n",
       "  </tbody>\n",
       "</table>\n",
       "</div>"
      ],
      "text/plain": [
       "        Nombre completo   Fecha Nacimiento             Ciudad  Profesion\n",
       "0       Clotilde Acosta  3 octubre de 1940      Mar del Plata     Actriz\n",
       "1       Rosario Bléfari           24/12/65                MDP   Cantante\n",
       "2  Norberto Carredegoas         1936-04-12  San Antonio Oeste       None\n",
       "3        Bárbara Torres         11-04-1973        M del plata  Actuación\n",
       "4      Eugenio Weinbaum         17/08/1961                MDQ  Conductor"
      ]
     },
     "execution_count": 40,
     "metadata": {},
     "output_type": "execute_result"
    }
   ],
   "source": [
    "pd.merge(df1, df2, on=\"Nombre completo\")"
   ]
  },
  {
   "cell_type": "markdown",
   "id": "ecdf1e38-9f87-4f74-add5-7720b90af362",
   "metadata": {},
   "source": [
    "**Los argumentos `left_on` y `right_on`**: En ocasiones, es posible que se desee combinar dos conjuntos de datos con nombres de columnas diferentes:"
   ]
  },
  {
   "cell_type": "code",
   "execution_count": 41,
   "id": "61e1cd28-e3a1-4798-9f1d-1d9b57c42759",
   "metadata": {},
   "outputs": [],
   "source": [
    "columns1 = ['Nombre completo', 'Fecha Nacimiento'] \n",
    "columns2 = ['Famoso', 'Ciudad', 'Profesion']\n",
    "\n",
    "per_1a = [\"Clotilde Acosta\", \"3 octubre de 1940\"]\n",
    "per_2a = [\"Rosario Bléfari\", \"24/12/65\"]\n",
    "per_3a = [\"Norberto Carredegoas\", \"1936-04-12\"]\n",
    "per_4a = [\"Bárbara Torres\", \"11-04-1973\"]\n",
    "per_5a = [\"Eugenio Weinbaum\", \"17/08/1961\"]\n",
    "\n",
    "per_1b = [\"Norberto Carredegoas\", \"San Antonio Oeste\"]\n",
    "per_2b = [\"Rosario Bléfari\",  \"MDP\", \"Cantante\"]\n",
    "per_3b = [\"Clotilde Acosta\", \"Mar del Plata\", \"Actriz\"]\n",
    "per_4b = [\"Bárbara Torres\", \"M del plata\", \"Actuación\"]\n",
    "per_5b = [\"Eugenio Weinbaum\", \"MDQ\", \"Conductor\"]\n",
    "\n",
    "personajes1 = [per_1a, per_2a, per_3a, per_4a, per_5a]\n",
    "personajes2 = [per_1b, per_2b, per_3b, per_4b, per_5b]\n",
    "\n",
    "df1 = pd.DataFrame(personajes1, columns = columns1)\n",
    "df2 = pd.DataFrame(personajes2, columns = columns2)"
   ]
  },
  {
   "cell_type": "code",
   "execution_count": 42,
   "id": "04a5a386-0127-4ef2-8f5a-6c6cb5c9e3b9",
   "metadata": {},
   "outputs": [
    {
     "data": {
      "text/html": [
       "<div>\n",
       "<style scoped>\n",
       "    .dataframe tbody tr th:only-of-type {\n",
       "        vertical-align: middle;\n",
       "    }\n",
       "\n",
       "    .dataframe tbody tr th {\n",
       "        vertical-align: top;\n",
       "    }\n",
       "\n",
       "    .dataframe thead th {\n",
       "        text-align: right;\n",
       "    }\n",
       "</style>\n",
       "<table border=\"1\" class=\"dataframe\">\n",
       "  <thead>\n",
       "    <tr style=\"text-align: right;\">\n",
       "      <th></th>\n",
       "      <th>Nombre completo</th>\n",
       "      <th>Fecha Nacimiento</th>\n",
       "    </tr>\n",
       "  </thead>\n",
       "  <tbody>\n",
       "    <tr>\n",
       "      <th>0</th>\n",
       "      <td>Clotilde Acosta</td>\n",
       "      <td>3 octubre de 1940</td>\n",
       "    </tr>\n",
       "    <tr>\n",
       "      <th>1</th>\n",
       "      <td>Rosario Bléfari</td>\n",
       "      <td>24/12/65</td>\n",
       "    </tr>\n",
       "    <tr>\n",
       "      <th>2</th>\n",
       "      <td>Norberto Carredegoas</td>\n",
       "      <td>1936-04-12</td>\n",
       "    </tr>\n",
       "    <tr>\n",
       "      <th>3</th>\n",
       "      <td>Bárbara Torres</td>\n",
       "      <td>11-04-1973</td>\n",
       "    </tr>\n",
       "    <tr>\n",
       "      <th>4</th>\n",
       "      <td>Eugenio Weinbaum</td>\n",
       "      <td>17/08/1961</td>\n",
       "    </tr>\n",
       "  </tbody>\n",
       "</table>\n",
       "</div>"
      ],
      "text/plain": [
       "        Nombre completo   Fecha Nacimiento\n",
       "0       Clotilde Acosta  3 octubre de 1940\n",
       "1       Rosario Bléfari           24/12/65\n",
       "2  Norberto Carredegoas         1936-04-12\n",
       "3        Bárbara Torres         11-04-1973\n",
       "4      Eugenio Weinbaum         17/08/1961"
      ]
     },
     "execution_count": 42,
     "metadata": {},
     "output_type": "execute_result"
    }
   ],
   "source": [
    "df1"
   ]
  },
  {
   "cell_type": "code",
   "execution_count": 43,
   "id": "24d29350-c5e8-4c6c-81af-60f7ef219e77",
   "metadata": {},
   "outputs": [
    {
     "data": {
      "text/html": [
       "<div>\n",
       "<style scoped>\n",
       "    .dataframe tbody tr th:only-of-type {\n",
       "        vertical-align: middle;\n",
       "    }\n",
       "\n",
       "    .dataframe tbody tr th {\n",
       "        vertical-align: top;\n",
       "    }\n",
       "\n",
       "    .dataframe thead th {\n",
       "        text-align: right;\n",
       "    }\n",
       "</style>\n",
       "<table border=\"1\" class=\"dataframe\">\n",
       "  <thead>\n",
       "    <tr style=\"text-align: right;\">\n",
       "      <th></th>\n",
       "      <th>Famoso</th>\n",
       "      <th>Ciudad</th>\n",
       "      <th>Profesion</th>\n",
       "    </tr>\n",
       "  </thead>\n",
       "  <tbody>\n",
       "    <tr>\n",
       "      <th>0</th>\n",
       "      <td>Norberto Carredegoas</td>\n",
       "      <td>San Antonio Oeste</td>\n",
       "      <td>None</td>\n",
       "    </tr>\n",
       "    <tr>\n",
       "      <th>1</th>\n",
       "      <td>Rosario Bléfari</td>\n",
       "      <td>MDP</td>\n",
       "      <td>Cantante</td>\n",
       "    </tr>\n",
       "    <tr>\n",
       "      <th>2</th>\n",
       "      <td>Clotilde Acosta</td>\n",
       "      <td>Mar del Plata</td>\n",
       "      <td>Actriz</td>\n",
       "    </tr>\n",
       "    <tr>\n",
       "      <th>3</th>\n",
       "      <td>Bárbara Torres</td>\n",
       "      <td>M del plata</td>\n",
       "      <td>Actuación</td>\n",
       "    </tr>\n",
       "    <tr>\n",
       "      <th>4</th>\n",
       "      <td>Eugenio Weinbaum</td>\n",
       "      <td>MDQ</td>\n",
       "      <td>Conductor</td>\n",
       "    </tr>\n",
       "  </tbody>\n",
       "</table>\n",
       "</div>"
      ],
      "text/plain": [
       "                 Famoso             Ciudad  Profesion\n",
       "0  Norberto Carredegoas  San Antonio Oeste       None\n",
       "1       Rosario Bléfari                MDP   Cantante\n",
       "2       Clotilde Acosta      Mar del Plata     Actriz\n",
       "3        Bárbara Torres        M del plata  Actuación\n",
       "4      Eugenio Weinbaum                MDQ  Conductor"
      ]
     },
     "execution_count": 43,
     "metadata": {},
     "output_type": "execute_result"
    }
   ],
   "source": [
    "df2"
   ]
  },
  {
   "cell_type": "code",
   "execution_count": 44,
   "id": "ac05c143-23ae-4616-97bf-fa1e9f80ac27",
   "metadata": {},
   "outputs": [
    {
     "data": {
      "text/html": [
       "<div>\n",
       "<style scoped>\n",
       "    .dataframe tbody tr th:only-of-type {\n",
       "        vertical-align: middle;\n",
       "    }\n",
       "\n",
       "    .dataframe tbody tr th {\n",
       "        vertical-align: top;\n",
       "    }\n",
       "\n",
       "    .dataframe thead th {\n",
       "        text-align: right;\n",
       "    }\n",
       "</style>\n",
       "<table border=\"1\" class=\"dataframe\">\n",
       "  <thead>\n",
       "    <tr style=\"text-align: right;\">\n",
       "      <th></th>\n",
       "      <th>Nombre completo</th>\n",
       "      <th>Fecha Nacimiento</th>\n",
       "      <th>Famoso</th>\n",
       "      <th>Ciudad</th>\n",
       "      <th>Profesion</th>\n",
       "    </tr>\n",
       "  </thead>\n",
       "  <tbody>\n",
       "    <tr>\n",
       "      <th>0</th>\n",
       "      <td>Clotilde Acosta</td>\n",
       "      <td>3 octubre de 1940</td>\n",
       "      <td>Clotilde Acosta</td>\n",
       "      <td>Mar del Plata</td>\n",
       "      <td>Actriz</td>\n",
       "    </tr>\n",
       "    <tr>\n",
       "      <th>1</th>\n",
       "      <td>Rosario Bléfari</td>\n",
       "      <td>24/12/65</td>\n",
       "      <td>Rosario Bléfari</td>\n",
       "      <td>MDP</td>\n",
       "      <td>Cantante</td>\n",
       "    </tr>\n",
       "    <tr>\n",
       "      <th>2</th>\n",
       "      <td>Norberto Carredegoas</td>\n",
       "      <td>1936-04-12</td>\n",
       "      <td>Norberto Carredegoas</td>\n",
       "      <td>San Antonio Oeste</td>\n",
       "      <td>None</td>\n",
       "    </tr>\n",
       "    <tr>\n",
       "      <th>3</th>\n",
       "      <td>Bárbara Torres</td>\n",
       "      <td>11-04-1973</td>\n",
       "      <td>Bárbara Torres</td>\n",
       "      <td>M del plata</td>\n",
       "      <td>Actuación</td>\n",
       "    </tr>\n",
       "    <tr>\n",
       "      <th>4</th>\n",
       "      <td>Eugenio Weinbaum</td>\n",
       "      <td>17/08/1961</td>\n",
       "      <td>Eugenio Weinbaum</td>\n",
       "      <td>MDQ</td>\n",
       "      <td>Conductor</td>\n",
       "    </tr>\n",
       "  </tbody>\n",
       "</table>\n",
       "</div>"
      ],
      "text/plain": [
       "        Nombre completo   Fecha Nacimiento                Famoso  \\\n",
       "0       Clotilde Acosta  3 octubre de 1940       Clotilde Acosta   \n",
       "1       Rosario Bléfari           24/12/65       Rosario Bléfari   \n",
       "2  Norberto Carredegoas         1936-04-12  Norberto Carredegoas   \n",
       "3        Bárbara Torres         11-04-1973        Bárbara Torres   \n",
       "4      Eugenio Weinbaum         17/08/1961      Eugenio Weinbaum   \n",
       "\n",
       "              Ciudad  Profesion  \n",
       "0      Mar del Plata     Actriz  \n",
       "1                MDP   Cantante  \n",
       "2  San Antonio Oeste       None  \n",
       "3        M del plata  Actuación  \n",
       "4                MDQ  Conductor  "
      ]
     },
     "execution_count": 44,
     "metadata": {},
     "output_type": "execute_result"
    }
   ],
   "source": [
    "pd.merge(df1, df2, left_on=\"Nombre completo\", right_on=\"Famoso\")"
   ]
  },
  {
   "cell_type": "markdown",
   "id": "48bfbdd3-ccaa-410e-9c76-e96691e18894",
   "metadata": {},
   "source": [
    "El resultado tiene una columna redundante que podemos eliminar si lo deseamos:"
   ]
  },
  {
   "cell_type": "code",
   "execution_count": 45,
   "id": "a349b403-f40e-400e-98d7-b3c49643ec91",
   "metadata": {},
   "outputs": [
    {
     "data": {
      "text/html": [
       "<div>\n",
       "<style scoped>\n",
       "    .dataframe tbody tr th:only-of-type {\n",
       "        vertical-align: middle;\n",
       "    }\n",
       "\n",
       "    .dataframe tbody tr th {\n",
       "        vertical-align: top;\n",
       "    }\n",
       "\n",
       "    .dataframe thead th {\n",
       "        text-align: right;\n",
       "    }\n",
       "</style>\n",
       "<table border=\"1\" class=\"dataframe\">\n",
       "  <thead>\n",
       "    <tr style=\"text-align: right;\">\n",
       "      <th></th>\n",
       "      <th>Nombre completo</th>\n",
       "      <th>Fecha Nacimiento</th>\n",
       "      <th>Ciudad</th>\n",
       "      <th>Profesion</th>\n",
       "    </tr>\n",
       "  </thead>\n",
       "  <tbody>\n",
       "    <tr>\n",
       "      <th>0</th>\n",
       "      <td>Clotilde Acosta</td>\n",
       "      <td>3 octubre de 1940</td>\n",
       "      <td>Mar del Plata</td>\n",
       "      <td>Actriz</td>\n",
       "    </tr>\n",
       "    <tr>\n",
       "      <th>1</th>\n",
       "      <td>Rosario Bléfari</td>\n",
       "      <td>24/12/65</td>\n",
       "      <td>MDP</td>\n",
       "      <td>Cantante</td>\n",
       "    </tr>\n",
       "    <tr>\n",
       "      <th>2</th>\n",
       "      <td>Norberto Carredegoas</td>\n",
       "      <td>1936-04-12</td>\n",
       "      <td>San Antonio Oeste</td>\n",
       "      <td>None</td>\n",
       "    </tr>\n",
       "    <tr>\n",
       "      <th>3</th>\n",
       "      <td>Bárbara Torres</td>\n",
       "      <td>11-04-1973</td>\n",
       "      <td>M del plata</td>\n",
       "      <td>Actuación</td>\n",
       "    </tr>\n",
       "    <tr>\n",
       "      <th>4</th>\n",
       "      <td>Eugenio Weinbaum</td>\n",
       "      <td>17/08/1961</td>\n",
       "      <td>MDQ</td>\n",
       "      <td>Conductor</td>\n",
       "    </tr>\n",
       "  </tbody>\n",
       "</table>\n",
       "</div>"
      ],
      "text/plain": [
       "        Nombre completo   Fecha Nacimiento             Ciudad  Profesion\n",
       "0       Clotilde Acosta  3 octubre de 1940      Mar del Plata     Actriz\n",
       "1       Rosario Bléfari           24/12/65                MDP   Cantante\n",
       "2  Norberto Carredegoas         1936-04-12  San Antonio Oeste       None\n",
       "3        Bárbara Torres         11-04-1973        M del plata  Actuación\n",
       "4      Eugenio Weinbaum         17/08/1961                MDQ  Conductor"
      ]
     },
     "execution_count": 45,
     "metadata": {},
     "output_type": "execute_result"
    }
   ],
   "source": [
    "pd.merge(df1, df2, left_on=\"Nombre completo\", right_on=\"Famoso\").drop(\"Famoso\", axis=\"columns\")"
   ]
  },
  {
   "cell_type": "markdown",
   "id": "228a5235-cc2d-4f1d-af05-61dbba8aca80",
   "metadata": {},
   "source": [
    "**Los argumentos `left_index` y `right_index`**: En casos muchos más raros, en vez de realizar el merge entre columnas, se puede usar los índices:"
   ]
  },
  {
   "cell_type": "code",
   "execution_count": 46,
   "id": "5cf1fd7c-3410-46b1-8cba-a152f09b3b66",
   "metadata": {},
   "outputs": [],
   "source": [
    "df1a = df1.set_index('Nombre completo')\n",
    "df2a = df2.set_index('Famoso')"
   ]
  },
  {
   "cell_type": "code",
   "execution_count": 47,
   "id": "794a7392-e484-4e7b-ab15-03ddd3e2e16c",
   "metadata": {},
   "outputs": [
    {
     "data": {
      "text/html": [
       "<div>\n",
       "<style scoped>\n",
       "    .dataframe tbody tr th:only-of-type {\n",
       "        vertical-align: middle;\n",
       "    }\n",
       "\n",
       "    .dataframe tbody tr th {\n",
       "        vertical-align: top;\n",
       "    }\n",
       "\n",
       "    .dataframe thead th {\n",
       "        text-align: right;\n",
       "    }\n",
       "</style>\n",
       "<table border=\"1\" class=\"dataframe\">\n",
       "  <thead>\n",
       "    <tr style=\"text-align: right;\">\n",
       "      <th></th>\n",
       "      <th>Fecha Nacimiento</th>\n",
       "    </tr>\n",
       "    <tr>\n",
       "      <th>Nombre completo</th>\n",
       "      <th></th>\n",
       "    </tr>\n",
       "  </thead>\n",
       "  <tbody>\n",
       "    <tr>\n",
       "      <th>Clotilde Acosta</th>\n",
       "      <td>3 octubre de 1940</td>\n",
       "    </tr>\n",
       "    <tr>\n",
       "      <th>Rosario Bléfari</th>\n",
       "      <td>24/12/65</td>\n",
       "    </tr>\n",
       "    <tr>\n",
       "      <th>Norberto Carredegoas</th>\n",
       "      <td>1936-04-12</td>\n",
       "    </tr>\n",
       "    <tr>\n",
       "      <th>Bárbara Torres</th>\n",
       "      <td>11-04-1973</td>\n",
       "    </tr>\n",
       "    <tr>\n",
       "      <th>Eugenio Weinbaum</th>\n",
       "      <td>17/08/1961</td>\n",
       "    </tr>\n",
       "  </tbody>\n",
       "</table>\n",
       "</div>"
      ],
      "text/plain": [
       "                       Fecha Nacimiento\n",
       "Nombre completo                        \n",
       "Clotilde Acosta       3 octubre de 1940\n",
       "Rosario Bléfari                24/12/65\n",
       "Norberto Carredegoas         1936-04-12\n",
       "Bárbara Torres               11-04-1973\n",
       "Eugenio Weinbaum             17/08/1961"
      ]
     },
     "execution_count": 47,
     "metadata": {},
     "output_type": "execute_result"
    }
   ],
   "source": [
    "df1a"
   ]
  },
  {
   "cell_type": "code",
   "execution_count": 48,
   "id": "392ef6cf-1129-4c93-b19c-381a746e77ef",
   "metadata": {},
   "outputs": [
    {
     "data": {
      "text/html": [
       "<div>\n",
       "<style scoped>\n",
       "    .dataframe tbody tr th:only-of-type {\n",
       "        vertical-align: middle;\n",
       "    }\n",
       "\n",
       "    .dataframe tbody tr th {\n",
       "        vertical-align: top;\n",
       "    }\n",
       "\n",
       "    .dataframe thead th {\n",
       "        text-align: right;\n",
       "    }\n",
       "</style>\n",
       "<table border=\"1\" class=\"dataframe\">\n",
       "  <thead>\n",
       "    <tr style=\"text-align: right;\">\n",
       "      <th></th>\n",
       "      <th>Ciudad</th>\n",
       "      <th>Profesion</th>\n",
       "    </tr>\n",
       "    <tr>\n",
       "      <th>Famoso</th>\n",
       "      <th></th>\n",
       "      <th></th>\n",
       "    </tr>\n",
       "  </thead>\n",
       "  <tbody>\n",
       "    <tr>\n",
       "      <th>Norberto Carredegoas</th>\n",
       "      <td>San Antonio Oeste</td>\n",
       "      <td>None</td>\n",
       "    </tr>\n",
       "    <tr>\n",
       "      <th>Rosario Bléfari</th>\n",
       "      <td>MDP</td>\n",
       "      <td>Cantante</td>\n",
       "    </tr>\n",
       "    <tr>\n",
       "      <th>Clotilde Acosta</th>\n",
       "      <td>Mar del Plata</td>\n",
       "      <td>Actriz</td>\n",
       "    </tr>\n",
       "    <tr>\n",
       "      <th>Bárbara Torres</th>\n",
       "      <td>M del plata</td>\n",
       "      <td>Actuación</td>\n",
       "    </tr>\n",
       "    <tr>\n",
       "      <th>Eugenio Weinbaum</th>\n",
       "      <td>MDQ</td>\n",
       "      <td>Conductor</td>\n",
       "    </tr>\n",
       "  </tbody>\n",
       "</table>\n",
       "</div>"
      ],
      "text/plain": [
       "                                 Ciudad  Profesion\n",
       "Famoso                                            \n",
       "Norberto Carredegoas  San Antonio Oeste       None\n",
       "Rosario Bléfari                     MDP   Cantante\n",
       "Clotilde Acosta           Mar del Plata     Actriz\n",
       "Bárbara Torres              M del plata  Actuación\n",
       "Eugenio Weinbaum                    MDQ  Conductor"
      ]
     },
     "execution_count": 48,
     "metadata": {},
     "output_type": "execute_result"
    }
   ],
   "source": [
    "df2a"
   ]
  },
  {
   "cell_type": "code",
   "execution_count": 49,
   "id": "4a3ed9fe-8920-4399-ab2f-6ba063954c39",
   "metadata": {},
   "outputs": [
    {
     "data": {
      "text/html": [
       "<div>\n",
       "<style scoped>\n",
       "    .dataframe tbody tr th:only-of-type {\n",
       "        vertical-align: middle;\n",
       "    }\n",
       "\n",
       "    .dataframe tbody tr th {\n",
       "        vertical-align: top;\n",
       "    }\n",
       "\n",
       "    .dataframe thead th {\n",
       "        text-align: right;\n",
       "    }\n",
       "</style>\n",
       "<table border=\"1\" class=\"dataframe\">\n",
       "  <thead>\n",
       "    <tr style=\"text-align: right;\">\n",
       "      <th></th>\n",
       "      <th>Fecha Nacimiento</th>\n",
       "      <th>Ciudad</th>\n",
       "      <th>Profesion</th>\n",
       "    </tr>\n",
       "  </thead>\n",
       "  <tbody>\n",
       "    <tr>\n",
       "      <th>Clotilde Acosta</th>\n",
       "      <td>3 octubre de 1940</td>\n",
       "      <td>Mar del Plata</td>\n",
       "      <td>Actriz</td>\n",
       "    </tr>\n",
       "    <tr>\n",
       "      <th>Rosario Bléfari</th>\n",
       "      <td>24/12/65</td>\n",
       "      <td>MDP</td>\n",
       "      <td>Cantante</td>\n",
       "    </tr>\n",
       "    <tr>\n",
       "      <th>Norberto Carredegoas</th>\n",
       "      <td>1936-04-12</td>\n",
       "      <td>San Antonio Oeste</td>\n",
       "      <td>None</td>\n",
       "    </tr>\n",
       "    <tr>\n",
       "      <th>Bárbara Torres</th>\n",
       "      <td>11-04-1973</td>\n",
       "      <td>M del plata</td>\n",
       "      <td>Actuación</td>\n",
       "    </tr>\n",
       "    <tr>\n",
       "      <th>Eugenio Weinbaum</th>\n",
       "      <td>17/08/1961</td>\n",
       "      <td>MDQ</td>\n",
       "      <td>Conductor</td>\n",
       "    </tr>\n",
       "  </tbody>\n",
       "</table>\n",
       "</div>"
      ],
      "text/plain": [
       "                       Fecha Nacimiento             Ciudad  Profesion\n",
       "Clotilde Acosta       3 octubre de 1940      Mar del Plata     Actriz\n",
       "Rosario Bléfari                24/12/65                MDP   Cantante\n",
       "Norberto Carredegoas         1936-04-12  San Antonio Oeste       None\n",
       "Bárbara Torres               11-04-1973        M del plata  Actuación\n",
       "Eugenio Weinbaum             17/08/1961                MDQ  Conductor"
      ]
     },
     "execution_count": 49,
     "metadata": {},
     "output_type": "execute_result"
    }
   ],
   "source": [
    "pd.merge(df1a, df2a, left_index=True, right_index=True)"
   ]
  },
  {
   "cell_type": "markdown",
   "id": "3e6626f7-bf12-4f30-95d3-c493722f1326",
   "metadata": {},
   "source": [
    "Si se desea mezclar índices con columnas también podemos hacerlo:"
   ]
  },
  {
   "cell_type": "code",
   "execution_count": 50,
   "id": "92ee3dd1-a66e-4f75-8e58-f09adc08e004",
   "metadata": {},
   "outputs": [
    {
     "data": {
      "text/html": [
       "<div>\n",
       "<style scoped>\n",
       "    .dataframe tbody tr th:only-of-type {\n",
       "        vertical-align: middle;\n",
       "    }\n",
       "\n",
       "    .dataframe tbody tr th {\n",
       "        vertical-align: top;\n",
       "    }\n",
       "\n",
       "    .dataframe thead th {\n",
       "        text-align: right;\n",
       "    }\n",
       "</style>\n",
       "<table border=\"1\" class=\"dataframe\">\n",
       "  <thead>\n",
       "    <tr style=\"text-align: right;\">\n",
       "      <th></th>\n",
       "      <th>Fecha Nacimiento</th>\n",
       "      <th>Famoso</th>\n",
       "      <th>Ciudad</th>\n",
       "      <th>Profesion</th>\n",
       "    </tr>\n",
       "  </thead>\n",
       "  <tbody>\n",
       "    <tr>\n",
       "      <th>2</th>\n",
       "      <td>3 octubre de 1940</td>\n",
       "      <td>Clotilde Acosta</td>\n",
       "      <td>Mar del Plata</td>\n",
       "      <td>Actriz</td>\n",
       "    </tr>\n",
       "    <tr>\n",
       "      <th>1</th>\n",
       "      <td>24/12/65</td>\n",
       "      <td>Rosario Bléfari</td>\n",
       "      <td>MDP</td>\n",
       "      <td>Cantante</td>\n",
       "    </tr>\n",
       "    <tr>\n",
       "      <th>0</th>\n",
       "      <td>1936-04-12</td>\n",
       "      <td>Norberto Carredegoas</td>\n",
       "      <td>San Antonio Oeste</td>\n",
       "      <td>None</td>\n",
       "    </tr>\n",
       "    <tr>\n",
       "      <th>3</th>\n",
       "      <td>11-04-1973</td>\n",
       "      <td>Bárbara Torres</td>\n",
       "      <td>M del plata</td>\n",
       "      <td>Actuación</td>\n",
       "    </tr>\n",
       "    <tr>\n",
       "      <th>4</th>\n",
       "      <td>17/08/1961</td>\n",
       "      <td>Eugenio Weinbaum</td>\n",
       "      <td>MDQ</td>\n",
       "      <td>Conductor</td>\n",
       "    </tr>\n",
       "  </tbody>\n",
       "</table>\n",
       "</div>"
      ],
      "text/plain": [
       "    Fecha Nacimiento                Famoso             Ciudad  Profesion\n",
       "2  3 octubre de 1940       Clotilde Acosta      Mar del Plata     Actriz\n",
       "1           24/12/65       Rosario Bléfari                MDP   Cantante\n",
       "0         1936-04-12  Norberto Carredegoas  San Antonio Oeste       None\n",
       "3         11-04-1973        Bárbara Torres        M del plata  Actuación\n",
       "4         17/08/1961      Eugenio Weinbaum                MDQ  Conductor"
      ]
     },
     "execution_count": 50,
     "metadata": {},
     "output_type": "execute_result"
    }
   ],
   "source": [
    "pd.merge(df1a, df2, left_index=True, right_on=\"Famoso\")"
   ]
  },
  {
   "cell_type": "markdown",
   "id": "efe9cd78-cd7f-4b32-8b9c-e5e76180294b",
   "metadata": {},
   "source": [
    "## Especificando la aritmética del join\n",
    "\n",
    "En todos los casos anteriores hemos pasado por alto una consideración importante al realizar un join: el tipo de aritmética de conjuntos utilizada en el join. Esto surge cuando un valor aparece en una columna llave pero no en la otra:"
   ]
  },
  {
   "cell_type": "code",
   "execution_count": 51,
   "id": "62f0184f-1267-4e39-a9c5-cd5d7f56bde6",
   "metadata": {},
   "outputs": [],
   "source": [
    "df3 = pd.DataFrame({'Nombre': ['Clotilde', 'Rosario', 'Norberto'],\n",
    "                    'Ciudad': ['Mar del Plata', 'Mar del Plata', 'San Antonio Oeste']},\n",
    "                   columns=['Nombre', 'Ciudad'])\n",
    "df4 = pd.DataFrame({'Nombre': ['Clotilde', 'Eugenio'],\n",
    "                    'Profesión': ['Actriz', 'Conductor']},\n",
    "                   columns=['Nombre', 'Profesión'])"
   ]
  },
  {
   "cell_type": "code",
   "execution_count": 52,
   "id": "854f0a27-ec36-43f0-8a23-d8bbbae37277",
   "metadata": {},
   "outputs": [
    {
     "data": {
      "text/html": [
       "<div>\n",
       "<style scoped>\n",
       "    .dataframe tbody tr th:only-of-type {\n",
       "        vertical-align: middle;\n",
       "    }\n",
       "\n",
       "    .dataframe tbody tr th {\n",
       "        vertical-align: top;\n",
       "    }\n",
       "\n",
       "    .dataframe thead th {\n",
       "        text-align: right;\n",
       "    }\n",
       "</style>\n",
       "<table border=\"1\" class=\"dataframe\">\n",
       "  <thead>\n",
       "    <tr style=\"text-align: right;\">\n",
       "      <th></th>\n",
       "      <th>Nombre</th>\n",
       "      <th>Ciudad</th>\n",
       "    </tr>\n",
       "  </thead>\n",
       "  <tbody>\n",
       "    <tr>\n",
       "      <th>0</th>\n",
       "      <td>Clotilde</td>\n",
       "      <td>Mar del Plata</td>\n",
       "    </tr>\n",
       "    <tr>\n",
       "      <th>1</th>\n",
       "      <td>Rosario</td>\n",
       "      <td>Mar del Plata</td>\n",
       "    </tr>\n",
       "    <tr>\n",
       "      <th>2</th>\n",
       "      <td>Norberto</td>\n",
       "      <td>San Antonio Oeste</td>\n",
       "    </tr>\n",
       "  </tbody>\n",
       "</table>\n",
       "</div>"
      ],
      "text/plain": [
       "     Nombre             Ciudad\n",
       "0  Clotilde      Mar del Plata\n",
       "1   Rosario      Mar del Plata\n",
       "2  Norberto  San Antonio Oeste"
      ]
     },
     "execution_count": 52,
     "metadata": {},
     "output_type": "execute_result"
    }
   ],
   "source": [
    "df3"
   ]
  },
  {
   "cell_type": "code",
   "execution_count": 53,
   "id": "25c37750-c3b8-4918-afa1-9447c3b1db8d",
   "metadata": {},
   "outputs": [
    {
     "data": {
      "text/html": [
       "<div>\n",
       "<style scoped>\n",
       "    .dataframe tbody tr th:only-of-type {\n",
       "        vertical-align: middle;\n",
       "    }\n",
       "\n",
       "    .dataframe tbody tr th {\n",
       "        vertical-align: top;\n",
       "    }\n",
       "\n",
       "    .dataframe thead th {\n",
       "        text-align: right;\n",
       "    }\n",
       "</style>\n",
       "<table border=\"1\" class=\"dataframe\">\n",
       "  <thead>\n",
       "    <tr style=\"text-align: right;\">\n",
       "      <th></th>\n",
       "      <th>Nombre</th>\n",
       "      <th>Profesión</th>\n",
       "    </tr>\n",
       "  </thead>\n",
       "  <tbody>\n",
       "    <tr>\n",
       "      <th>0</th>\n",
       "      <td>Clotilde</td>\n",
       "      <td>Actriz</td>\n",
       "    </tr>\n",
       "    <tr>\n",
       "      <th>1</th>\n",
       "      <td>Eugenio</td>\n",
       "      <td>Conductor</td>\n",
       "    </tr>\n",
       "  </tbody>\n",
       "</table>\n",
       "</div>"
      ],
      "text/plain": [
       "     Nombre  Profesión\n",
       "0  Clotilde     Actriz\n",
       "1   Eugenio  Conductor"
      ]
     },
     "execution_count": 53,
     "metadata": {},
     "output_type": "execute_result"
    }
   ],
   "source": [
    "df4"
   ]
  },
  {
   "cell_type": "code",
   "execution_count": 54,
   "id": "c4aae213-c95a-4c3e-bc38-1774213e3d76",
   "metadata": {},
   "outputs": [
    {
     "data": {
      "text/html": [
       "<div>\n",
       "<style scoped>\n",
       "    .dataframe tbody tr th:only-of-type {\n",
       "        vertical-align: middle;\n",
       "    }\n",
       "\n",
       "    .dataframe tbody tr th {\n",
       "        vertical-align: top;\n",
       "    }\n",
       "\n",
       "    .dataframe thead th {\n",
       "        text-align: right;\n",
       "    }\n",
       "</style>\n",
       "<table border=\"1\" class=\"dataframe\">\n",
       "  <thead>\n",
       "    <tr style=\"text-align: right;\">\n",
       "      <th></th>\n",
       "      <th>Nombre</th>\n",
       "      <th>Ciudad</th>\n",
       "      <th>Profesión</th>\n",
       "    </tr>\n",
       "  </thead>\n",
       "  <tbody>\n",
       "    <tr>\n",
       "      <th>0</th>\n",
       "      <td>Clotilde</td>\n",
       "      <td>Mar del Plata</td>\n",
       "      <td>Actriz</td>\n",
       "    </tr>\n",
       "  </tbody>\n",
       "</table>\n",
       "</div>"
      ],
      "text/plain": [
       "     Nombre         Ciudad Profesión\n",
       "0  Clotilde  Mar del Plata    Actriz"
      ]
     },
     "execution_count": 54,
     "metadata": {},
     "output_type": "execute_result"
    }
   ],
   "source": [
    "pd.merge(df3, df4)"
   ]
  },
  {
   "cell_type": "markdown",
   "id": "2af3c885-c5ff-41e8-86a2-db4affe27fa6",
   "metadata": {},
   "source": [
    "Aquí hemos mergeado dos conjuntos de datos que solo tienen una entrada `\"Nombre\"` en común: `Clotilde`. Por defecto, el resultado contiene la intersección de los dos conjuntos de entradas, esto es lo que se conoce como un `inner join`. Podemos especificar esto explícitamente usando el argumento `how`, que por defecto es `\"inner\"`:"
   ]
  },
  {
   "cell_type": "code",
   "execution_count": 55,
   "id": "2c5ab23d-f2b3-483a-8767-7e28ec0a9000",
   "metadata": {},
   "outputs": [
    {
     "data": {
      "text/html": [
       "<div>\n",
       "<style scoped>\n",
       "    .dataframe tbody tr th:only-of-type {\n",
       "        vertical-align: middle;\n",
       "    }\n",
       "\n",
       "    .dataframe tbody tr th {\n",
       "        vertical-align: top;\n",
       "    }\n",
       "\n",
       "    .dataframe thead th {\n",
       "        text-align: right;\n",
       "    }\n",
       "</style>\n",
       "<table border=\"1\" class=\"dataframe\">\n",
       "  <thead>\n",
       "    <tr style=\"text-align: right;\">\n",
       "      <th></th>\n",
       "      <th>Nombre</th>\n",
       "      <th>Ciudad</th>\n",
       "      <th>Profesión</th>\n",
       "    </tr>\n",
       "  </thead>\n",
       "  <tbody>\n",
       "    <tr>\n",
       "      <th>0</th>\n",
       "      <td>Clotilde</td>\n",
       "      <td>Mar del Plata</td>\n",
       "      <td>Actriz</td>\n",
       "    </tr>\n",
       "  </tbody>\n",
       "</table>\n",
       "</div>"
      ],
      "text/plain": [
       "     Nombre         Ciudad Profesión\n",
       "0  Clotilde  Mar del Plata    Actriz"
      ]
     },
     "execution_count": 55,
     "metadata": {},
     "output_type": "execute_result"
    }
   ],
   "source": [
    "pd.merge(df3, df4, how='inner')"
   ]
  },
  {
   "cell_type": "markdown",
   "id": "9a0d05b6-15bb-4eeb-b375-a469ed09473b",
   "metadata": {},
   "source": [
    "Otras opciones para el argumento `how` son `'outer'`, `'left'` y `'right'`. Un `outer join` devuelve un join sobre la unión de las columnas de entrada y completa todos los valores faltantes con nulos:"
   ]
  },
  {
   "cell_type": "code",
   "execution_count": 56,
   "id": "48689268-0cb4-44da-b48b-e315d8d9fd10",
   "metadata": {},
   "outputs": [
    {
     "data": {
      "text/html": [
       "<div>\n",
       "<style scoped>\n",
       "    .dataframe tbody tr th:only-of-type {\n",
       "        vertical-align: middle;\n",
       "    }\n",
       "\n",
       "    .dataframe tbody tr th {\n",
       "        vertical-align: top;\n",
       "    }\n",
       "\n",
       "    .dataframe thead th {\n",
       "        text-align: right;\n",
       "    }\n",
       "</style>\n",
       "<table border=\"1\" class=\"dataframe\">\n",
       "  <thead>\n",
       "    <tr style=\"text-align: right;\">\n",
       "      <th></th>\n",
       "      <th>Nombre</th>\n",
       "      <th>Ciudad</th>\n",
       "      <th>Profesión</th>\n",
       "    </tr>\n",
       "  </thead>\n",
       "  <tbody>\n",
       "    <tr>\n",
       "      <th>0</th>\n",
       "      <td>Clotilde</td>\n",
       "      <td>Mar del Plata</td>\n",
       "      <td>Actriz</td>\n",
       "    </tr>\n",
       "    <tr>\n",
       "      <th>1</th>\n",
       "      <td>Eugenio</td>\n",
       "      <td>NaN</td>\n",
       "      <td>Conductor</td>\n",
       "    </tr>\n",
       "    <tr>\n",
       "      <th>2</th>\n",
       "      <td>Norberto</td>\n",
       "      <td>San Antonio Oeste</td>\n",
       "      <td>NaN</td>\n",
       "    </tr>\n",
       "    <tr>\n",
       "      <th>3</th>\n",
       "      <td>Rosario</td>\n",
       "      <td>Mar del Plata</td>\n",
       "      <td>NaN</td>\n",
       "    </tr>\n",
       "  </tbody>\n",
       "</table>\n",
       "</div>"
      ],
      "text/plain": [
       "     Nombre             Ciudad  Profesión\n",
       "0  Clotilde      Mar del Plata     Actriz\n",
       "1   Eugenio                NaN  Conductor\n",
       "2  Norberto  San Antonio Oeste        NaN\n",
       "3   Rosario      Mar del Plata        NaN"
      ]
     },
     "execution_count": 56,
     "metadata": {},
     "output_type": "execute_result"
    }
   ],
   "source": [
    "pd.merge(df3, df4, how='outer')"
   ]
  },
  {
   "cell_type": "markdown",
   "id": "47a705c4-39f8-47ba-9ec2-93a85b7617e5",
   "metadata": {},
   "source": [
    "El `left join` y el `right join` devuelven joins sobre las entradas izquierdas y las entradas derechas, respectivamente:"
   ]
  },
  {
   "cell_type": "code",
   "execution_count": 57,
   "id": "d3ac086d-3c0e-4732-945f-e815263ee573",
   "metadata": {},
   "outputs": [
    {
     "data": {
      "text/html": [
       "<div>\n",
       "<style scoped>\n",
       "    .dataframe tbody tr th:only-of-type {\n",
       "        vertical-align: middle;\n",
       "    }\n",
       "\n",
       "    .dataframe tbody tr th {\n",
       "        vertical-align: top;\n",
       "    }\n",
       "\n",
       "    .dataframe thead th {\n",
       "        text-align: right;\n",
       "    }\n",
       "</style>\n",
       "<table border=\"1\" class=\"dataframe\">\n",
       "  <thead>\n",
       "    <tr style=\"text-align: right;\">\n",
       "      <th></th>\n",
       "      <th>Nombre</th>\n",
       "      <th>Ciudad</th>\n",
       "      <th>Profesión</th>\n",
       "    </tr>\n",
       "  </thead>\n",
       "  <tbody>\n",
       "    <tr>\n",
       "      <th>0</th>\n",
       "      <td>Clotilde</td>\n",
       "      <td>Mar del Plata</td>\n",
       "      <td>Actriz</td>\n",
       "    </tr>\n",
       "    <tr>\n",
       "      <th>1</th>\n",
       "      <td>Rosario</td>\n",
       "      <td>Mar del Plata</td>\n",
       "      <td>NaN</td>\n",
       "    </tr>\n",
       "    <tr>\n",
       "      <th>2</th>\n",
       "      <td>Norberto</td>\n",
       "      <td>San Antonio Oeste</td>\n",
       "      <td>NaN</td>\n",
       "    </tr>\n",
       "  </tbody>\n",
       "</table>\n",
       "</div>"
      ],
      "text/plain": [
       "     Nombre             Ciudad Profesión\n",
       "0  Clotilde      Mar del Plata    Actriz\n",
       "1   Rosario      Mar del Plata       NaN\n",
       "2  Norberto  San Antonio Oeste       NaN"
      ]
     },
     "execution_count": 57,
     "metadata": {},
     "output_type": "execute_result"
    }
   ],
   "source": [
    "pd.merge(df3, df4, how='left')"
   ]
  },
  {
   "cell_type": "code",
   "execution_count": 58,
   "id": "9a8b15f7-f916-4ae7-b7e8-617a4dbb45b7",
   "metadata": {},
   "outputs": [
    {
     "data": {
      "text/html": [
       "<div>\n",
       "<style scoped>\n",
       "    .dataframe tbody tr th:only-of-type {\n",
       "        vertical-align: middle;\n",
       "    }\n",
       "\n",
       "    .dataframe tbody tr th {\n",
       "        vertical-align: top;\n",
       "    }\n",
       "\n",
       "    .dataframe thead th {\n",
       "        text-align: right;\n",
       "    }\n",
       "</style>\n",
       "<table border=\"1\" class=\"dataframe\">\n",
       "  <thead>\n",
       "    <tr style=\"text-align: right;\">\n",
       "      <th></th>\n",
       "      <th>Nombre</th>\n",
       "      <th>Ciudad</th>\n",
       "      <th>Profesión</th>\n",
       "    </tr>\n",
       "  </thead>\n",
       "  <tbody>\n",
       "    <tr>\n",
       "      <th>0</th>\n",
       "      <td>Clotilde</td>\n",
       "      <td>Mar del Plata</td>\n",
       "      <td>Actriz</td>\n",
       "    </tr>\n",
       "    <tr>\n",
       "      <th>1</th>\n",
       "      <td>Eugenio</td>\n",
       "      <td>NaN</td>\n",
       "      <td>Conductor</td>\n",
       "    </tr>\n",
       "  </tbody>\n",
       "</table>\n",
       "</div>"
      ],
      "text/plain": [
       "     Nombre         Ciudad  Profesión\n",
       "0  Clotilde  Mar del Plata     Actriz\n",
       "1   Eugenio            NaN  Conductor"
      ]
     },
     "execution_count": 58,
     "metadata": {},
     "output_type": "execute_result"
    }
   ],
   "source": [
    "pd.merge(df3, df4, how='right')"
   ]
  },
  {
   "cell_type": "markdown",
   "id": "a960b446-aeeb-46aa-8e48-f1eb2628a187",
   "metadata": {},
   "source": [
    "## Nombres de columnas superpuestos:\n",
    "\n",
    "Finalmente, es posible nos encontremos en un caso donde los dos DataFrames de entrada tengan nombres de columnas conflictivos."
   ]
  },
  {
   "cell_type": "code",
   "execution_count": 59,
   "id": "faec0c9d-c9de-4732-a7a2-17e7a5875e29",
   "metadata": {},
   "outputs": [],
   "source": [
    "df5 = pd.DataFrame({'Nombre': ['Clotilde', 'Rosario', 'Norberto', 'Eugenio'],\n",
    "                    'Importancia': [1, 2, 3, 4]})\n",
    "df6 = pd.DataFrame({'Nombre': ['Clotilde', 'Rosario', 'Norberto', 'Eugenio'],\n",
    "                    'Importancia': [3, 1, 4, 2]})"
   ]
  },
  {
   "cell_type": "code",
   "execution_count": 60,
   "id": "9775b44d-ad9a-4ccd-a91a-c67f6c14cdba",
   "metadata": {},
   "outputs": [
    {
     "data": {
      "text/html": [
       "<div>\n",
       "<style scoped>\n",
       "    .dataframe tbody tr th:only-of-type {\n",
       "        vertical-align: middle;\n",
       "    }\n",
       "\n",
       "    .dataframe tbody tr th {\n",
       "        vertical-align: top;\n",
       "    }\n",
       "\n",
       "    .dataframe thead th {\n",
       "        text-align: right;\n",
       "    }\n",
       "</style>\n",
       "<table border=\"1\" class=\"dataframe\">\n",
       "  <thead>\n",
       "    <tr style=\"text-align: right;\">\n",
       "      <th></th>\n",
       "      <th>Nombre</th>\n",
       "      <th>Importancia</th>\n",
       "    </tr>\n",
       "  </thead>\n",
       "  <tbody>\n",
       "    <tr>\n",
       "      <th>0</th>\n",
       "      <td>Clotilde</td>\n",
       "      <td>1</td>\n",
       "    </tr>\n",
       "    <tr>\n",
       "      <th>1</th>\n",
       "      <td>Rosario</td>\n",
       "      <td>2</td>\n",
       "    </tr>\n",
       "    <tr>\n",
       "      <th>2</th>\n",
       "      <td>Norberto</td>\n",
       "      <td>3</td>\n",
       "    </tr>\n",
       "    <tr>\n",
       "      <th>3</th>\n",
       "      <td>Eugenio</td>\n",
       "      <td>4</td>\n",
       "    </tr>\n",
       "  </tbody>\n",
       "</table>\n",
       "</div>"
      ],
      "text/plain": [
       "     Nombre  Importancia\n",
       "0  Clotilde            1\n",
       "1   Rosario            2\n",
       "2  Norberto            3\n",
       "3   Eugenio            4"
      ]
     },
     "execution_count": 60,
     "metadata": {},
     "output_type": "execute_result"
    }
   ],
   "source": [
    "df5"
   ]
  },
  {
   "cell_type": "code",
   "execution_count": 61,
   "id": "d290cac1-4f08-40b8-a806-f9fd90131ebf",
   "metadata": {},
   "outputs": [
    {
     "data": {
      "text/html": [
       "<div>\n",
       "<style scoped>\n",
       "    .dataframe tbody tr th:only-of-type {\n",
       "        vertical-align: middle;\n",
       "    }\n",
       "\n",
       "    .dataframe tbody tr th {\n",
       "        vertical-align: top;\n",
       "    }\n",
       "\n",
       "    .dataframe thead th {\n",
       "        text-align: right;\n",
       "    }\n",
       "</style>\n",
       "<table border=\"1\" class=\"dataframe\">\n",
       "  <thead>\n",
       "    <tr style=\"text-align: right;\">\n",
       "      <th></th>\n",
       "      <th>Nombre</th>\n",
       "      <th>Importancia</th>\n",
       "    </tr>\n",
       "  </thead>\n",
       "  <tbody>\n",
       "    <tr>\n",
       "      <th>0</th>\n",
       "      <td>Clotilde</td>\n",
       "      <td>3</td>\n",
       "    </tr>\n",
       "    <tr>\n",
       "      <th>1</th>\n",
       "      <td>Rosario</td>\n",
       "      <td>1</td>\n",
       "    </tr>\n",
       "    <tr>\n",
       "      <th>2</th>\n",
       "      <td>Norberto</td>\n",
       "      <td>4</td>\n",
       "    </tr>\n",
       "    <tr>\n",
       "      <th>3</th>\n",
       "      <td>Eugenio</td>\n",
       "      <td>2</td>\n",
       "    </tr>\n",
       "  </tbody>\n",
       "</table>\n",
       "</div>"
      ],
      "text/plain": [
       "     Nombre  Importancia\n",
       "0  Clotilde            3\n",
       "1   Rosario            1\n",
       "2  Norberto            4\n",
       "3   Eugenio            2"
      ]
     },
     "execution_count": 61,
     "metadata": {},
     "output_type": "execute_result"
    }
   ],
   "source": [
    "df6"
   ]
  },
  {
   "cell_type": "code",
   "execution_count": 62,
   "id": "55703a6a-acc2-4cb6-9c84-336c09d4c781",
   "metadata": {},
   "outputs": [
    {
     "data": {
      "text/html": [
       "<div>\n",
       "<style scoped>\n",
       "    .dataframe tbody tr th:only-of-type {\n",
       "        vertical-align: middle;\n",
       "    }\n",
       "\n",
       "    .dataframe tbody tr th {\n",
       "        vertical-align: top;\n",
       "    }\n",
       "\n",
       "    .dataframe thead th {\n",
       "        text-align: right;\n",
       "    }\n",
       "</style>\n",
       "<table border=\"1\" class=\"dataframe\">\n",
       "  <thead>\n",
       "    <tr style=\"text-align: right;\">\n",
       "      <th></th>\n",
       "      <th>Nombre</th>\n",
       "      <th>Importancia_x</th>\n",
       "      <th>Importancia_y</th>\n",
       "    </tr>\n",
       "  </thead>\n",
       "  <tbody>\n",
       "    <tr>\n",
       "      <th>0</th>\n",
       "      <td>Clotilde</td>\n",
       "      <td>1</td>\n",
       "      <td>3</td>\n",
       "    </tr>\n",
       "    <tr>\n",
       "      <th>1</th>\n",
       "      <td>Rosario</td>\n",
       "      <td>2</td>\n",
       "      <td>1</td>\n",
       "    </tr>\n",
       "    <tr>\n",
       "      <th>2</th>\n",
       "      <td>Norberto</td>\n",
       "      <td>3</td>\n",
       "      <td>4</td>\n",
       "    </tr>\n",
       "    <tr>\n",
       "      <th>3</th>\n",
       "      <td>Eugenio</td>\n",
       "      <td>4</td>\n",
       "      <td>2</td>\n",
       "    </tr>\n",
       "  </tbody>\n",
       "</table>\n",
       "</div>"
      ],
      "text/plain": [
       "     Nombre  Importancia_x  Importancia_y\n",
       "0  Clotilde              1              3\n",
       "1   Rosario              2              1\n",
       "2  Norberto              3              4\n",
       "3   Eugenio              4              2"
      ]
     },
     "execution_count": 62,
     "metadata": {},
     "output_type": "execute_result"
    }
   ],
   "source": [
    "pd.merge(df5, df6, on=\"Nombre\")"
   ]
  },
  {
   "cell_type": "markdown",
   "id": "ced15796-633d-488a-9225-c29e50522f45",
   "metadata": {},
   "source": [
    "Debido a que el resultado tendría dos nombres de columna en conflicto, la función de merge automáticamente añade un sufijo `_x` o `_y` para hacer únicos los nombres de las columnas de salida. Es posible especificar un sufijo personalizado utilizando el argumento `suffixes`:"
   ]
  },
  {
   "cell_type": "code",
   "execution_count": 63,
   "id": "106d5f7b-2db4-4fed-9b9c-26d666735c15",
   "metadata": {},
   "outputs": [
    {
     "data": {
      "text/html": [
       "<div>\n",
       "<style scoped>\n",
       "    .dataframe tbody tr th:only-of-type {\n",
       "        vertical-align: middle;\n",
       "    }\n",
       "\n",
       "    .dataframe tbody tr th {\n",
       "        vertical-align: top;\n",
       "    }\n",
       "\n",
       "    .dataframe thead th {\n",
       "        text-align: right;\n",
       "    }\n",
       "</style>\n",
       "<table border=\"1\" class=\"dataframe\">\n",
       "  <thead>\n",
       "    <tr style=\"text-align: right;\">\n",
       "      <th></th>\n",
       "      <th>Nombre</th>\n",
       "      <th>Importancia_1990</th>\n",
       "      <th>Importancia_1995</th>\n",
       "    </tr>\n",
       "  </thead>\n",
       "  <tbody>\n",
       "    <tr>\n",
       "      <th>0</th>\n",
       "      <td>Clotilde</td>\n",
       "      <td>1</td>\n",
       "      <td>3</td>\n",
       "    </tr>\n",
       "    <tr>\n",
       "      <th>1</th>\n",
       "      <td>Rosario</td>\n",
       "      <td>2</td>\n",
       "      <td>1</td>\n",
       "    </tr>\n",
       "    <tr>\n",
       "      <th>2</th>\n",
       "      <td>Norberto</td>\n",
       "      <td>3</td>\n",
       "      <td>4</td>\n",
       "    </tr>\n",
       "    <tr>\n",
       "      <th>3</th>\n",
       "      <td>Eugenio</td>\n",
       "      <td>4</td>\n",
       "      <td>2</td>\n",
       "    </tr>\n",
       "  </tbody>\n",
       "</table>\n",
       "</div>"
      ],
      "text/plain": [
       "     Nombre  Importancia_1990  Importancia_1995\n",
       "0  Clotilde                 1                 3\n",
       "1   Rosario                 2                 1\n",
       "2  Norberto                 3                 4\n",
       "3   Eugenio                 4                 2"
      ]
     },
     "execution_count": 63,
     "metadata": {},
     "output_type": "execute_result"
    }
   ],
   "source": [
    "pd.merge(df5, df6, on=\"Nombre\", suffixes=[\"_1990\", \"_1995\"])"
   ]
  },
  {
   "cell_type": "code",
   "execution_count": null,
   "id": "493ff5a5-2857-44df-813f-9a3c9d26061f",
   "metadata": {},
   "outputs": [],
   "source": []
  }
 ],
 "metadata": {
  "kernelspec": {
   "display_name": "Python 3 (ipykernel)",
   "language": "python",
   "name": "python3"
  },
  "language_info": {
   "codemirror_mode": {
    "name": "ipython",
    "version": 3
   },
   "file_extension": ".py",
   "mimetype": "text/x-python",
   "name": "python",
   "nbconvert_exporter": "python",
   "pygments_lexer": "ipython3",
   "version": "3.10.14"
  }
 },
 "nbformat": 4,
 "nbformat_minor": 5
}
