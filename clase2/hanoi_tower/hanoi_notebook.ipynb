{
 "cells": [
  {
   "cell_type": "markdown",
   "source": [
    "# Torre de Hanoi\n",
    "\n",
    "Pongamonos misticos:\n",
    "\n",
    "\n",
    "> Cuenta la leyenda que unos brahmanes en un templo de Benarés han estado realizando el movimiento de la \"Torre Sagrada de Brahma” sin parar desde hace siglos, la torre está formada por sesenta \n",
    "y cuatro discos de oro, y los movimientos obedecen a las siguientes místicas reglas:\n",
    "> 1. Sólo se puede mover un disco a la vez.\n",
    "> 2. Cada movimiento consiste en recoger el disco superior de una de las pilas y colocarlo encima de otra pila o sobre una varilla vacía.\n",
    "> 3. Ningún disco podrá colocarse encima de un disco que sea más pequeño que él.\n",
    "> \n",
    "> Una vez que finalicen la torre, va a llegar el fin del mundo.\n",
    "\n",
    "La Torre de Hanói es un rompecabezas inventado en 1883 por el matemático francés **Édouard Lucas**. El rompecabezas comienza con los discos apilados en una varilla en orden de tamaño decreciente, \n",
    "el más pequeño en la parte superior, aproximándose así a una forma cónica. \n",
    "\n",
    "El objetivo del rompecabezas es mover toda la pila a una de las otras barras, con las reglas de la leyenda:\n",
    "1. Sólo se puede mover un disco a la vez.\n",
    "2. Cada movimiento consiste en coger el disco superior de una de las pilas y colocarlo encima de otra pila o sobre una varilla vacía.\n",
    "3. Ningún disco podrá colocarse encima de un disco que sea más pequeño que él.\n",
    "\n",
    "## Resolviendo este problema usando IA\n",
    "\n",
    "Este problema es un típico problema para aplicar métodos de búsquedas. Podemos crear un agente que pueda resolver este problema. \n",
    "\n",
    "Limitemos a 5 discos, salvo que quieran usar 64 discos como los brahmanes.\n",
    "\n",
    "El agente puede percibir cuantos discos y en qué orden hay en cada varilla. Además, puede tomar cualquier disco que se encuentre en la parte superior y moverlo a cualquier otra varilla que \n",
    "esté permitido moverlo. \n",
    "\n",
    "Definamos el problema para que podamos resolverlo,\n",
    "\n",
    "### Espacio de estados:\n",
    "\n",
    "Para 5 discos, tenemos $3^5 = 243$ posibles estados,\n",
    "\n",
    "![estados_hanoi](./img/state_hanoi1.png)\n",
    "\n",
    "### Estado inicial\n",
    "\n",
    "Para este caso arrancamos con todos los discos de mayor a menor en la varilla izquierda.\n",
    "\n",
    "![estados_hanoi_initial](./img/state_hanoi2.png)\n",
    "\n",
    "### Estado objetivo\n",
    "\n",
    "Para simplificar, vamos a tener un solo estado objetivo. Este caso el objetivo es terminar con todos los discos de mayor a menor en la varilla derecha.\n",
    "\n",
    "![estados_hanoi_goal](./img/state_hanoi3.png)\n",
    "\n",
    "----\n",
    "Con la clase `StatesHanoi` podemos representar a un estado,"
   ],
   "metadata": {
    "collapsed": false
   },
   "id": "e9b0ad3fdc3fc830"
  },
  {
   "cell_type": "code",
   "outputs": [],
   "source": [
    "from hanoi_states import StatesHanoi"
   ],
   "metadata": {
    "collapsed": false,
    "ExecuteTime": {
     "end_time": "2024-03-18T04:57:37.648943Z",
     "start_time": "2024-03-18T04:57:37.600106Z"
    }
   },
   "id": "46b624111ec721b",
   "execution_count": 1
  },
  {
   "cell_type": "code",
   "outputs": [],
   "source": [
    "# Para representar la ubicación de los discos, usamos tres listas, uno por varilla, y un número del 1 al 5 para cada disco.\n",
    "\n",
    "varilla_izquierda = [5, 4, 3, 2, 1]\n",
    "varilla_medio = []\n",
    "varilla_derecha = []\n",
    "\n",
    "initial_state = StatesHanoi(varilla_izquierda, varilla_medio, varilla_derecha, max_disks=5)\n",
    "\n",
    "varilla_izquierda = []\n",
    "varilla_medio = []\n",
    "varilla_derecha = [5, 4, 3, 2, 1]\n",
    "goal_state = StatesHanoi(varilla_izquierda, varilla_medio, varilla_derecha, max_disks=5)"
   ],
   "metadata": {
    "collapsed": false,
    "ExecuteTime": {
     "end_time": "2024-03-18T04:57:37.763517Z",
     "start_time": "2024-03-18T04:57:37.760415Z"
    }
   },
   "id": "79ab5b4bd33b9e6f",
   "execution_count": 2
  },
  {
   "cell_type": "markdown",
   "source": [
    "Con este estado implementado tenemos la posibilidad de imprimir el estado:"
   ],
   "metadata": {
    "collapsed": false
   },
   "id": "859efcb5857980db"
  },
  {
   "cell_type": "code",
   "outputs": [
    {
     "name": "stdout",
     "output_type": "stream",
     "text": [
      "HanoiState: 5 4 3 2 1 |  | \n"
     ]
    }
   ],
   "source": [
    "print(initial_state)"
   ],
   "metadata": {
    "collapsed": false,
    "ExecuteTime": {
     "end_time": "2024-03-18T04:57:37.770893Z",
     "start_time": "2024-03-18T04:57:37.768809Z"
    }
   },
   "id": "8c56861687d80f4f",
   "execution_count": 3
  },
  {
   "cell_type": "markdown",
   "source": [
    "Y tenemos los siguientes métodos, entre varios más:"
   ],
   "metadata": {
    "collapsed": false
   },
   "id": "f95ec8df4a269cf7"
  },
  {
   "cell_type": "code",
   "outputs": [
    {
     "name": "stdout",
     "output_type": "stream",
     "text": [
      "El ultimo disco de la varilla izquierda es 1\n",
      "Si, es posible poner el disco 1 en la varilla del medio?\n",
      "El nuevo estado es: HanoiState: 5 4 3 2 | 1 | \n"
     ]
    }
   ],
   "source": [
    "disk = initial_state.get_last_disk_rod(number_rod=0)\n",
    "print(f\"El ultimo disco de la varilla izquierda es {disk}\")\n",
    "\n",
    "if initial_state.check_valid_disk_in_rod(number_rod=1, disk=disk):\n",
    "    print(\"Si, es posible poner el disco 1 en la varilla del medio?\")\n",
    "    \n",
    "initial_state.put_disk_in_rod(number_rod=1, disk=disk)\n",
    "print(f\"El nuevo estado es: {initial_state}\")"
   ],
   "metadata": {
    "collapsed": false,
    "ExecuteTime": {
     "end_time": "2024-03-18T04:57:37.786238Z",
     "start_time": "2024-03-18T04:57:37.783945Z"
    }
   },
   "id": "65fee0280e2f02c1",
   "execution_count": 4
  },
  {
   "cell_type": "code",
   "outputs": [],
   "source": [
    "varilla_izquierda = [5, 4, 3, 2, 1]\n",
    "varilla_medio = []\n",
    "varilla_derecha = []\n",
    "\n",
    "initial_state = StatesHanoi(varilla_izquierda, varilla_medio, varilla_derecha, max_disks=5)"
   ],
   "metadata": {
    "collapsed": false,
    "ExecuteTime": {
     "end_time": "2024-03-18T04:57:37.807067Z",
     "start_time": "2024-03-18T04:57:37.805450Z"
    }
   },
   "id": "5abc5e2c43db7eb6",
   "execution_count": 5
  },
  {
   "cell_type": "markdown",
   "source": [
    "### Acciones\n",
    "\n",
    "Además de tener los estados, tenemos las acciones que podemos aplicar para pasar de un estado a otro, es decir mover un disco de una varilla a otra,"
   ],
   "metadata": {
    "collapsed": false
   },
   "id": "78da5e280ef86b24"
  },
  {
   "cell_type": "code",
   "outputs": [],
   "source": [
    "from hanoi_states import ActionHanoi"
   ],
   "metadata": {
    "collapsed": false,
    "ExecuteTime": {
     "end_time": "2024-03-18T04:57:37.815116Z",
     "start_time": "2024-03-18T04:57:37.813233Z"
    }
   },
   "id": "47e4b4ace236b3fd",
   "execution_count": 6
  },
  {
   "cell_type": "code",
   "outputs": [
    {
     "name": "stdout",
     "output_type": "stream",
     "text": [
      "HanoiState: 5 4 3 2 | 1 | \n"
     ]
    }
   ],
   "source": [
    "action_example = ActionHanoi(disk=1, rod_input=0, rod_out=1)\n",
    "\n",
    "# Movemos el disco de la varilla de la izquierda al disco del medio aplicando esta acción en el estado inicial\n",
    "new_state = action_example.execute(state_hanoi=initial_state)\n",
    "\n",
    "print(new_state)"
   ],
   "metadata": {
    "collapsed": false,
    "ExecuteTime": {
     "end_time": "2024-03-18T04:57:37.820065Z",
     "start_time": "2024-03-18T04:57:37.818215Z"
    }
   },
   "id": "2b0ae1e29fd79112",
   "execution_count": 7
  },
  {
   "cell_type": "markdown",
   "source": [
    "Mover un disco de una varilla a otra, siempre que sea un movimiento permitido, cuesta lo mismo, que podemos definir como 1. Dado que arrancamos desde el estado inicial, y nos movemos al siguiente\n",
    "estado, moviendo un disco, el nuevo estado va a tener un costo acumulado igual a 1:"
   ],
   "metadata": {
    "collapsed": false
   },
   "id": "925604765ae619f3"
  },
  {
   "cell_type": "code",
   "outputs": [
    {
     "name": "stdout",
     "output_type": "stream",
     "text": [
      "El costo acumulado del nuevo estado es 1.0\n"
     ]
    }
   ],
   "source": [
    "print(f\"El costo acumulado del nuevo estado es {new_state.accumulated_cost}\")"
   ],
   "metadata": {
    "collapsed": false,
    "ExecuteTime": {
     "end_time": "2024-03-18T04:57:37.824238Z",
     "start_time": "2024-03-18T04:57:37.822088Z"
    }
   },
   "id": "c6b214032c030664",
   "execution_count": 8
  },
  {
   "cell_type": "markdown",
   "source": [
    "### Problema de Hanoi\n",
    "\n",
    "Por último podemos implementar el problema que tenga todo el problema incorporado, desde un estado iniciial, a un estado final, y la posibilidad de movimientos de un estado a otro."
   ],
   "metadata": {
    "collapsed": false
   },
   "id": "23a4d4b860ae8f64"
  },
  {
   "cell_type": "code",
   "outputs": [],
   "source": [
    "from hanoi_states import ProblemHanoi"
   ],
   "metadata": {
    "collapsed": false,
    "ExecuteTime": {
     "end_time": "2024-03-18T04:57:37.829705Z",
     "start_time": "2024-03-18T04:57:37.828206Z"
    }
   },
   "id": "b91401c33fd379f",
   "execution_count": 9
  },
  {
   "cell_type": "code",
   "outputs": [
    {
     "name": "stdout",
     "output_type": "stream",
     "text": [
      "[Move disk 2 from 1 to 3, Move disk 1 from 2 to 1, Move disk 1 from 2 to 3]\n"
     ]
    }
   ],
   "source": [
    "problem = ProblemHanoi(initial=initial_state, goal=goal_state)\n",
    "\n",
    "# Podemos ver todas las acciones que podemos aplicar desde un estado dado,\n",
    "lista_acciones = problem.actions(new_state)\n",
    "print(lista_acciones)"
   ],
   "metadata": {
    "collapsed": false,
    "ExecuteTime": {
     "end_time": "2024-03-18T04:57:37.863039Z",
     "start_time": "2024-03-18T04:57:37.860025Z"
    }
   },
   "id": "e8712e168c931ad5",
   "execution_count": 10
  },
  {
   "cell_type": "markdown",
   "source": [
    "Aplicamos una de las acciones que nos devuelve:"
   ],
   "metadata": {
    "collapsed": false
   },
   "id": "9e847ac2e0d63557"
  },
  {
   "cell_type": "code",
   "outputs": [
    {
     "name": "stdout",
     "output_type": "stream",
     "text": [
      "HanoiState: 5 4 3 | 1 | 2\n"
     ]
    }
   ],
   "source": [
    "# Aplicamos la acción de Mover el disco 2 de 1 a 3\n",
    "new_state_2 = problem.result(state=new_state, action=lista_acciones[0])\n",
    "\n",
    "print(new_state_2)"
   ],
   "metadata": {
    "collapsed": false,
    "ExecuteTime": {
     "end_time": "2024-03-18T04:57:37.871887Z",
     "start_time": "2024-03-18T04:57:37.869542Z"
    }
   },
   "id": "999aaa478a4cc4a4",
   "execution_count": 11
  },
  {
   "cell_type": "markdown",
   "source": [
    "Podemos calcular el costo que nos llevo desde el estado inicial al que llegamos, como movimos dos discos es entonces el costo de 2:"
   ],
   "metadata": {
    "collapsed": false
   },
   "id": "4e4f60a2a6d5e832"
  },
  {
   "cell_type": "code",
   "outputs": [
    {
     "data": {
      "text/plain": "2.0"
     },
     "execution_count": 12,
     "metadata": {},
     "output_type": "execute_result"
    }
   ],
   "source": [
    "problem.path_cost(c=1, state1=new_state, action=lista_acciones[0], state2=new_state_2)"
   ],
   "metadata": {
    "collapsed": false,
    "ExecuteTime": {
     "end_time": "2024-03-18T04:57:37.882502Z",
     "start_time": "2024-03-18T04:57:37.878551Z"
    }
   },
   "id": "6054ad12f2c68e87",
   "execution_count": 12
  },
  {
   "cell_type": "markdown",
   "source": [
    "Por último podemos ver si un estado dado es la solución:"
   ],
   "metadata": {
    "collapsed": false
   },
   "id": "97290dbcaf93e953"
  },
  {
   "cell_type": "code",
   "outputs": [
    {
     "name": "stdout",
     "output_type": "stream",
     "text": [
      "HanoiState: 5 4 3 | 1 | 2 no es la solución final HanoiState:  |  | 5 4 3 2 1\n"
     ]
    }
   ],
   "source": [
    "if not problem.goal_test(state=new_state_2):\n",
    "    print(f\"{new_state_2} no es la solución final {goal_state}\")"
   ],
   "metadata": {
    "collapsed": false,
    "ExecuteTime": {
     "end_time": "2024-03-18T04:57:37.887964Z",
     "start_time": "2024-03-18T04:57:37.885957Z"
    }
   },
   "id": "193743f89b13790f",
   "execution_count": 13
  },
  {
   "cell_type": "markdown",
   "source": [
    "Con esta implementación ya tenemos la posibilidad de generar el grafo de estados de Hanoi,\n",
    "\n",
    "![grafo_de_hanoi](./img/state_hanoi_graph.png)\n",
    "\n",
    "----\n",
    "\n",
    "## Algoritmos de búsqueda\n",
    "\n",
    "Un algoritmo de búsqueda toma un problema de búsqueda como entrada y retorna una solución, o una indicación de falla.\n",
    "\n",
    "La idea es buscar un camino que llegue al estado objetivo. Para ello vamos a construir un arbol que irá avanzando por estados del grafo hasta llegar al estado objetivo.  \n",
    "\n",
    "![arbol_de_hanoi](./img/tree_hanoi.png)\n",
    "\n",
    "Cada nodo del árbol corresponde a un **estado** y las aristas corresponde a una **acción**. Importante, el árbol **NO** es el grafo de estados. El grafo describe todo el set de estados, y \n",
    "las acciones que llevan de un lado a otro. El árbol describe el camino entre estos estados, para alcanzar el objetivo. \n",
    "\n",
    "Para poder aplicar los algoritmos, debemos definir la estructura de datos para hacer seguimiento del árbol. \n",
    "\n",
    "Los nodos del árbol son representados con los siguientes componentes:\n",
    "\n",
    "- State: El estado, del espacio de estados, que corresponde el nodo.\n",
    "- Node Parent: El nodo en el árbol de búsqueda que ha generado al nodo.\n",
    "- Action: La acción que se aplicará al padre para generar el nodo.\n",
    "- Path-Cost: El costo de un camino desde el nodo inicial al nodo.\n"
   ],
   "metadata": {
    "collapsed": false
   },
   "id": "9dc3793379ee6eb9"
  },
  {
   "cell_type": "code",
   "outputs": [],
   "source": [
    "from tree_hanoi import NodeHanoi"
   ],
   "metadata": {
    "collapsed": false,
    "ExecuteTime": {
     "end_time": "2024-03-18T04:57:37.910148Z",
     "start_time": "2024-03-18T04:57:37.905788Z"
    }
   },
   "id": "a17e3bdb45589007",
   "execution_count": 14
  },
  {
   "cell_type": "code",
   "outputs": [],
   "source": [
    "# Definimos la raíz del arbol\n",
    "root = NodeHanoi(state=initial_state)"
   ],
   "metadata": {
    "collapsed": false,
    "ExecuteTime": {
     "end_time": "2024-03-18T04:57:37.917919Z",
     "start_time": "2024-03-18T04:57:37.915952Z"
    }
   },
   "id": "22167519c1c30b62",
   "execution_count": 15
  },
  {
   "cell_type": "code",
   "outputs": [
    {
     "name": "stdout",
     "output_type": "stream",
     "text": [
      "El arbol tiene como raíz a:\n",
      "<Node HanoiState: 5 4 3 2 1 |  | >\n"
     ]
    }
   ],
   "source": [
    "print(\"El arbol tiene como raíz a:\")\n",
    "print(root)"
   ],
   "metadata": {
    "collapsed": false,
    "ExecuteTime": {
     "end_time": "2024-03-18T04:57:37.922888Z",
     "start_time": "2024-03-18T04:57:37.921314Z"
    }
   },
   "id": "26a442406bd09a4e",
   "execution_count": 16
  },
  {
   "cell_type": "markdown",
   "source": [
    "Desde un nodo y definido el problema, podemos encontrar la frontera, la cual es la separación del grafo que ya fue explorada por el algoritmo de búsqueda y aquella que no.\n",
    "\n",
    "![frontera_en_arbol_de_hanoi](./img/tree_hanoi_frontier.png)"
   ],
   "metadata": {
    "collapsed": false
   },
   "id": "4816a67f49f8927f"
  },
  {
   "cell_type": "code",
   "outputs": [],
   "source": [
    "# Expandimos la frontera del nodo raiz\n",
    "lista_nodos_fronteras = root.expand(problem=problem)"
   ],
   "metadata": {
    "collapsed": false,
    "ExecuteTime": {
     "end_time": "2024-03-18T04:57:37.927884Z",
     "start_time": "2024-03-18T04:57:37.926222Z"
    }
   },
   "id": "af623a7d186af4ee",
   "execution_count": 17
  },
  {
   "cell_type": "code",
   "outputs": [
    {
     "data": {
      "text/plain": "[<Node HanoiState: 5 4 3 2 | 1 | >, <Node HanoiState: 5 4 3 2 |  | 1>]"
     },
     "execution_count": 18,
     "metadata": {},
     "output_type": "execute_result"
    }
   ],
   "source": [
    "# La raíz nos da dos nodos del arbol, uno con el disco 1 en la varilla del medio y otro con el disco 1 en la varilla de la derecha\n",
    "lista_nodos_fronteras"
   ],
   "metadata": {
    "collapsed": false,
    "ExecuteTime": {
     "end_time": "2024-03-18T04:57:37.956383Z",
     "start_time": "2024-03-18T04:57:37.954247Z"
    }
   },
   "id": "c4c2c98172667f2c",
   "execution_count": 18
  },
  {
   "cell_type": "markdown",
   "source": [
    "Para expandir la frontera, necesitamos una estructura que nos ayude en esa tarea. Ya que en un algoritmo de búsqueda es vital seleccionar que nodo vamos a expandir primero. Como\n",
    "vimos en clase, elegir el tipo de estructura para expandir es lo que define el tipo de algoritmo. \n",
    "\n",
    "La frontera se expande usando **colas**, la cual tenemos 3 tipos:\n",
    "\n",
    "- Una cola **FIFO** (primero entra, primero sale) que toma los nodos en el mismo modo que se agregan.\n",
    "- Una cola **LIFO** (último en salir, sale primero… o stack) quita el nodo más reciente.\n",
    "- Una **cola prioritaria** que primer quita nodos con el mínimo costo de acuerdo con una función de evaluación f. \n",
    "\n",
    "Veamos por ejemplo, una implementación de cola FIFO:"
   ],
   "metadata": {
    "collapsed": false
   },
   "id": "cc2b11bdc9cb336a"
  },
  {
   "cell_type": "code",
   "outputs": [],
   "source": [
    "# Implementamos usando una lista\n",
    "fifo = []"
   ],
   "metadata": {
    "collapsed": false,
    "ExecuteTime": {
     "end_time": "2024-03-18T04:57:37.966246Z",
     "start_time": "2024-03-18T04:57:37.964611Z"
    }
   },
   "id": "b6cb08bb91483cb1",
   "execution_count": 19
  },
  {
   "cell_type": "markdown",
   "source": [
    "La implementación debe incorporar la siguiente funciones\n",
    "\n",
    "- **Add(Frontier)**: Inserta el nodo en su correspondiente lugar de la cola. En el caso de la FIFO, inserta a los nodos en la medida que van llegando"
   ],
   "metadata": {
    "collapsed": false
   },
   "id": "9210ed141b4bc46f"
  },
  {
   "cell_type": "code",
   "outputs": [
    {
     "name": "stdout",
     "output_type": "stream",
     "text": [
      "[<Node HanoiState: 5 4 3 2 |  | 1>, <Node HanoiState: 5 4 3 2 | 1 | >]\n"
     ]
    }
   ],
   "source": [
    "# Insertamos a los nodos que son frontera de la raíz en el orden que nos fue presentado:\n",
    "fifo.insert(0, lista_nodos_fronteras[0])\n",
    "fifo.insert(0, lista_nodos_fronteras[1])\n",
    "\n",
    "print(fifo)"
   ],
   "metadata": {
    "collapsed": false,
    "ExecuteTime": {
     "end_time": "2024-03-18T04:57:37.975399Z",
     "start_time": "2024-03-18T04:57:37.972597Z"
    }
   },
   "id": "572dd05b05bfd5af",
   "execution_count": 20
  },
  {
   "cell_type": "markdown",
   "source": [
    "- **Is-empty(frontier)**: Retorna True si no hay nodos en la frontera. En el caso de la implementación de una lista, podemos preguntar si la cantidad de elemento es cero."
   ],
   "metadata": {
    "collapsed": false
   },
   "id": "88775cc4a588bfe0"
  },
  {
   "cell_type": "code",
   "outputs": [
    {
     "name": "stdout",
     "output_type": "stream",
     "text": [
      "La cola está vacia?\n",
      "La cola tiene elementos\n"
     ]
    }
   ],
   "source": [
    "print(\"La cola está vacia?\")\n",
    "if len(fifo) == 0:\n",
    "    print(\"La cola esta vacía\")\n",
    "else:\n",
    "    print(\"La cola tiene elementos\")"
   ],
   "metadata": {
    "collapsed": false,
    "ExecuteTime": {
     "end_time": "2024-03-18T04:57:38.004038Z",
     "start_time": "2024-03-18T04:57:38.002108Z"
    }
   },
   "id": "c669998769c9c5b0",
   "execution_count": 21
  },
  {
   "cell_type": "markdown",
   "source": [
    "- **Pop(frontier)**: Quita el primer nodo en la cola. Con las listas tenemos el método pop()."
   ],
   "metadata": {
    "collapsed": false
   },
   "id": "a7ceb6d0737f58a5"
  },
  {
   "cell_type": "code",
   "outputs": [
    {
     "name": "stdout",
     "output_type": "stream",
     "text": [
      "El nodo que sacamos es <Node HanoiState: 5 4 3 2 | 1 | >\n"
     ]
    }
   ],
   "source": [
    "new_node = fifo.pop()\n",
    "print(f\"El nodo que sacamos es {new_node}\")"
   ],
   "metadata": {
    "collapsed": false,
    "ExecuteTime": {
     "end_time": "2024-03-18T04:57:38.014303Z",
     "start_time": "2024-03-18T04:57:38.012283Z"
    }
   },
   "id": "288bfbf1c7c01e29",
   "execution_count": 22
  },
  {
   "cell_type": "markdown",
   "source": [
    "Podemos ver que una vez sacado el nodo, el mismo no está en la fila, y que particularmente sacamos el primer nodo que entró:"
   ],
   "metadata": {
    "collapsed": false
   },
   "id": "928d39a8b36f627d"
  },
  {
   "cell_type": "code",
   "outputs": [
    {
     "name": "stdout",
     "output_type": "stream",
     "text": [
      "Los nodos que quedan en la fila son:\n",
      "[<Node HanoiState: 5 4 3 2 |  | 1>]\n"
     ]
    }
   ],
   "source": [
    "print(\"Los nodos que quedan en la fila son:\")\n",
    "print(fifo)"
   ],
   "metadata": {
    "collapsed": false,
    "ExecuteTime": {
     "end_time": "2024-03-18T04:57:38.022187Z",
     "start_time": "2024-03-18T04:57:38.020012Z"
    }
   },
   "id": "79996784e77b4da5",
   "execution_count": 23
  },
  {
   "cell_type": "markdown",
   "source": [
    "Si expandimos la frontera del nuevo nodo que tenemos, podemos agregarlo a la cola:"
   ],
   "metadata": {
    "collapsed": false
   },
   "id": "53f5f83682d162a5"
  },
  {
   "cell_type": "code",
   "outputs": [],
   "source": [
    "lista_nodos_fronteras = new_node.expand(problem=problem)\n",
    "\n",
    "# Insertamos a los nodos que son frontera de la raíz en el orden que nos fue presentado:\n",
    "fifo.insert(0, lista_nodos_fronteras[0])\n",
    "fifo.insert(0, lista_nodos_fronteras[1])\n",
    "fifo.insert(0, lista_nodos_fronteras[2])"
   ],
   "metadata": {
    "collapsed": false,
    "ExecuteTime": {
     "end_time": "2024-03-18T04:57:38.029537Z",
     "start_time": "2024-03-18T04:57:38.027477Z"
    }
   },
   "id": "ffeecf283cae2cfd",
   "execution_count": 24
  },
  {
   "cell_type": "code",
   "outputs": [
    {
     "data": {
      "text/plain": "[<Node HanoiState: 5 4 3 2 |  | 1>,\n <Node HanoiState: 5 4 3 2 1 |  | >,\n <Node HanoiState: 5 4 3 | 1 | 2>,\n <Node HanoiState: 5 4 3 2 |  | 1>]"
     },
     "execution_count": 25,
     "metadata": {},
     "output_type": "execute_result"
    }
   ],
   "source": [
    "fifo"
   ],
   "metadata": {
    "collapsed": false,
    "ExecuteTime": {
     "end_time": "2024-03-18T04:57:38.056390Z",
     "start_time": "2024-03-18T04:57:38.054157Z"
    }
   },
   "id": "eb9041c677f751ee",
   "execution_count": 25
  },
  {
   "cell_type": "markdown",
   "source": [
    "Podemos ver cual es nuestro siguiente nodo sin sacarlo (**Top(frontier)**: "
   ],
   "metadata": {
    "collapsed": false
   },
   "id": "b6e8bc63a1009944"
  },
  {
   "cell_type": "code",
   "outputs": [
    {
     "name": "stdout",
     "output_type": "stream",
     "text": [
      "El siguiente nodo que podemos sacar es <Node HanoiState: 5 4 3 2 |  | 1>\n"
     ]
    }
   ],
   "source": [
    "print(f\"El siguiente nodo que podemos sacar es {fifo[-1]}\")"
   ],
   "metadata": {
    "collapsed": false,
    "ExecuteTime": {
     "end_time": "2024-03-18T04:57:38.066947Z",
     "start_time": "2024-03-18T04:57:38.064947Z"
    }
   },
   "id": "34c576906dc0feed",
   "execution_count": 26
  },
  {
   "cell_type": "markdown",
   "source": [
    "Nota: Este nodo es segundo que introducimos cuando introducimos la frontera de la raíz.\n",
    "\n",
    "----\n",
    "\n",
    "## Búsqueda primero en anchura\n",
    "\n",
    "Implementamos un algoritmo de búsqueda con una estrategia sencilla. En esta se expande primero el nodo raíz, a continuación, se expanden todos los sucesores del nodo raíz, después sus sucesores, etc. \n",
    "\n",
    "![breadth_first_search](./img/breadth_first_search.png)\n"
   ],
   "metadata": {
    "collapsed": false
   },
   "id": "3bc89c3b8cebc03f"
  },
  {
   "cell_type": "code",
   "outputs": [
    {
     "name": "stdout",
     "output_type": "stream",
     "text": [
      "Encontramos la solución\n"
     ]
    }
   ],
   "source": [
    "# Inicializaos el problema\n",
    "initial_state = StatesHanoi([3, 2, 1], [], [], max_disks=3)\n",
    "goal_state = StatesHanoi([], [], [3, 2, 1], max_disks=3)\n",
    "problem = ProblemHanoi(initial=initial_state, goal=goal_state)\n",
    "\n",
    "frontier = [NodeHanoi(problem.initial)]  # Creamos una cola FIFO con el nodo inicial\n",
    "\n",
    "# Mientras que la cola no este vacia\n",
    "while len(frontier) != 0:\n",
    "    node = frontier.pop()  # Extraemos el primer nodo de la cola\n",
    "    if problem.goal_test(node.state):  # Comprobamos si hemos alcanzado el estado objetivo\n",
    "        last_node = node\n",
    "        print(\"Encontramos la solución\")\n",
    "        break\n",
    "    \n",
    "    # Agregamos a la cola todos los nodos sucesores del nodo actual\n",
    "    for next_node in node.expand(problem):\n",
    "        frontier.insert(0, next_node)"
   ],
   "metadata": {
    "collapsed": false,
    "ExecuteTime": {
     "end_time": "2024-03-18T04:57:38.150714Z",
     "start_time": "2024-03-18T04:57:38.073798Z"
    }
   },
   "id": "e6142d0203362c8a",
   "execution_count": 27
  },
  {
   "cell_type": "markdown",
   "source": [
    "Este algoritmo lleva mucho tiempo, porque no estamos teniendo en cuenta si un nodo ya fue explorado, lo que nos hace demorar y entrar en bucles infinitos. En el caso de la torre \n",
    "de Hanoi, movernos de un estado a otro no posee dirección por lo que podemos ir de un estado a otro (por ejemplo, si tenemos el disco 1 en la varilla derecha, y la del medio está\n",
    "vacía, podemos moverla a esta, pero una vez en este nuevo estado podemos volver la estado anterior y repetir indefinidamente). \n",
    "\n",
    "Entonces armemos una variante que guarde los nodos explorados, "
   ],
   "metadata": {
    "collapsed": false
   },
   "id": "8929d099dcee1c89"
  },
  {
   "cell_type": "code",
   "outputs": [
    {
     "name": "stdout",
     "output_type": "stream",
     "text": [
      "Encontramos la solución\n"
     ]
    }
   ],
   "source": [
    "# Inicializaos el problema\n",
    "initial_state = StatesHanoi([5, 4, 3, 2, 1], [], [], max_disks=5)\n",
    "goal_state = StatesHanoi([], [], [5, 4, 3, 2, 1], max_disks=5)\n",
    "problem = ProblemHanoi(initial=initial_state, goal=goal_state)\n",
    "\n",
    "frontier = [NodeHanoi(problem.initial)]  # Creamos una cola FIFO con el nodo inicial\n",
    "\n",
    "explored = set()  # Este set nos permite ver si ya exploramos un estado para evitar repetir indefinidamente\n",
    "\n",
    "# Mientras que la cola no este vacia\n",
    "while len(frontier) != 0:\n",
    "    node = frontier.pop()  # Extraemos el primer nodo de la cola\n",
    "    \n",
    "    # Agregamos nodo al set. Esto evita guardar duplicados, porque set nunca tiene elementos repetidos\n",
    "    explored.add(node.state)\n",
    "    \n",
    "    if problem.goal_test(node.state):  # Comprobamos si hemos alcanzado el estado objetivo\n",
    "        last_node = node\n",
    "        print(\"Encontramos la solución\")\n",
    "        break\n",
    "    \n",
    "    # Agregamos a la cola todos los nodos sucesores del nodo actual\n",
    "    for next_node in node.expand(problem):\n",
    "        # Solo si no fue explorado\n",
    "        if next_node.state not in explored:\n",
    "            frontier.insert(0, next_node)"
   ],
   "metadata": {
    "collapsed": false,
    "ExecuteTime": {
     "end_time": "2024-03-18T04:57:38.203069Z",
     "start_time": "2024-03-18T04:57:38.151590Z"
    }
   },
   "id": "437689133f9019c1",
   "execution_count": 28
  },
  {
   "cell_type": "markdown",
   "source": [
    "Una vez que encontramos la solución podemos ver, analizando el ultimo nodo del arbol, cuanto nos costo llegar a la solución:"
   ],
   "metadata": {
    "collapsed": false
   },
   "id": "e99d5facedc66d51"
  },
  {
   "cell_type": "code",
   "outputs": [
    {
     "name": "stdout",
     "output_type": "stream",
     "text": [
      "Longitud del camino de la solución: 31.0\n"
     ]
    }
   ],
   "source": [
    "print(f'Longitud del camino de la solución: {last_node.state.accumulated_cost}')"
   ],
   "metadata": {
    "collapsed": false,
    "ExecuteTime": {
     "end_time": "2024-03-18T04:57:38.205407Z",
     "start_time": "2024-03-18T04:57:38.203749Z"
    }
   },
   "id": "d317320198ec487e",
   "execution_count": 29
  },
  {
   "cell_type": "markdown",
   "source": [
    "Como todo paso tiene el mismo costo, la **búsqueda primero en achura** nos asegura que el camino más corto, como podemos ver.\n",
    "\n",
    "Además, podemos ver cuantos nodos se explorados y cuantos nos quedaron en la cola,"
   ],
   "metadata": {
    "collapsed": false
   },
   "id": "3abc28f0bb7e6f8c"
  },
  {
   "cell_type": "code",
   "outputs": [
    {
     "name": "stdout",
     "output_type": "stream",
     "text": [
      "233 nodos se expandieron y 285 nodos quedaron en la frontera\n"
     ]
    }
   ],
   "source": [
    "print(len(explored), \"nodos se expandieron y\", len(frontier), \"nodos quedaron en la frontera\")"
   ],
   "metadata": {
    "collapsed": false,
    "ExecuteTime": {
     "end_time": "2024-03-18T04:57:38.208071Z",
     "start_time": "2024-03-18T04:57:38.206571Z"
    }
   },
   "id": "111e1040cca051eb",
   "execution_count": 30
  },
  {
   "cell_type": "markdown",
   "source": [
    "Podemos ver el camino tomado que nos llevo a la solución, vamos a verlo al revez, desde el nodo final al nodo inicial:"
   ],
   "metadata": {
    "collapsed": false
   },
   "id": "39c146465af9c6eb"
  },
  {
   "cell_type": "code",
   "outputs": [
    {
     "name": "stdout",
     "output_type": "stream",
     "text": [
      "HanoiState:  |  | 5 4 3 2 1\n",
      "HanoiState: 1 |  | 5 4 3 2\n",
      "HanoiState: 1 | 2 | 5 4 3\n",
      "HanoiState:  | 2 1 | 5 4 3\n",
      "HanoiState: 3 | 2 1 | 5 4\n",
      "HanoiState: 3 | 2 | 5 4 1\n",
      "HanoiState: 3 2 |  | 5 4 1\n",
      "HanoiState: 3 2 1 |  | 5 4\n",
      "HanoiState: 3 2 1 | 4 | 5\n",
      "HanoiState: 3 2 | 4 1 | 5\n",
      "HanoiState: 3 | 4 1 | 5 2\n",
      "HanoiState: 3 | 4 | 5 2 1\n",
      "HanoiState:  | 4 3 | 5 2 1\n",
      "HanoiState: 1 | 4 3 | 5 2\n",
      "HanoiState: 1 | 4 3 2 | 5\n",
      "HanoiState:  | 4 3 2 1 | 5\n",
      "HanoiState: 5 | 4 3 2 1 | \n",
      "HanoiState: 5 | 4 3 2 | 1\n",
      "HanoiState: 5 2 | 4 3 | 1\n",
      "HanoiState: 5 2 1 | 4 3 | \n",
      "HanoiState: 5 2 1 | 4 | 3\n",
      "HanoiState: 5 2 | 4 1 | 3\n",
      "HanoiState: 5 | 4 1 | 3 2\n",
      "HanoiState: 5 | 4 | 3 2 1\n",
      "HanoiState: 5 4 |  | 3 2 1\n",
      "HanoiState: 5 4 1 |  | 3 2\n",
      "HanoiState: 5 4 1 | 2 | 3\n",
      "HanoiState: 5 4 | 2 1 | 3\n",
      "HanoiState: 5 4 3 | 2 1 | \n",
      "HanoiState: 5 4 3 | 2 | 1\n",
      "HanoiState: 5 4 3 2 |  | 1\n"
     ]
    }
   ],
   "source": [
    "node = last_node\n",
    "while node.parent is not None:\n",
    "    print(node.state)\n",
    "    node = node.parent"
   ],
   "metadata": {
    "collapsed": false,
    "ExecuteTime": {
     "end_time": "2024-03-18T04:57:38.211061Z",
     "start_time": "2024-03-18T04:57:38.208851Z"
    }
   },
   "id": "887a95e2ba7fe592",
   "execution_count": 31
  },
  {
   "cell_type": "markdown",
   "source": [
    "Finalmente, si queremos medir tiempos y memoria, podemos hacer uso del metodo `%%timeit`"
   ],
   "metadata": {
    "collapsed": false
   },
   "id": "f8511deb925826be"
  },
  {
   "cell_type": "code",
   "outputs": [
    {
     "name": "stdout",
     "output_type": "stream",
     "text": [
      "45.2 ms ± 386 µs per loop (mean ± std. dev. of 7 runs, 10 loops each)\n"
     ]
    }
   ],
   "source": [
    "%%timeit \n",
    "# Inicializaos el problema\n",
    "initial_state = StatesHanoi([5, 4, 3, 2, 1], [], [], max_disks=5)\n",
    "goal_state = StatesHanoi([], [], [5, 4, 3, 2, 1], max_disks=5)\n",
    "problem = ProblemHanoi(initial=initial_state, goal=goal_state)\n",
    "\n",
    "frontier = [NodeHanoi(problem.initial)]  # Creamos una cola FIFO con el nodo inicial\n",
    "\n",
    "explored = set()  # Este set nos permite ver si ya exploramos un estado para evitar repetir indefinidamente\n",
    "\n",
    "# Mientras que la cola no este vacia\n",
    "while len(frontier) != 0:\n",
    "    node = frontier.pop()  # Extraemos el primer nodo de la cola\n",
    "    \n",
    "    # Agregamos nodo al set. Esto evita guardar duplicados, porque set nunca tiene elementos repetidos\n",
    "    explored.add(node.state)\n",
    "    \n",
    "    if problem.goal_test(node.state):  # Comprobamos si hemos alcanzado el estado objetivo\n",
    "        last_node = node\n",
    "        break\n",
    "    \n",
    "    # Agregamos a la cola todos los nodos sucesores del nodo actual\n",
    "    for next_node in node.expand(problem):\n",
    "        # Solo si no fue explorado\n",
    "        if next_node.state not in explored:\n",
    "            frontier.insert(0, next_node)"
   ],
   "metadata": {
    "collapsed": false,
    "ExecuteTime": {
     "end_time": "2024-03-18T04:57:42.008221Z",
     "start_time": "2024-03-18T04:57:38.211693Z"
    }
   },
   "id": "eb78b9d58de296ca",
   "execution_count": 32
  },
  {
   "cell_type": "markdown",
   "source": [
    "Vemos que la solución demoro en promedio 45ms. \n",
    "\n",
    "En memoria, consume:"
   ],
   "metadata": {
    "collapsed": false
   },
   "id": "7825bb110ac3999c"
  },
  {
   "cell_type": "code",
   "outputs": [
    {
     "name": "stdout",
     "output_type": "stream",
     "text": [
      "Maxima memoria ocupada: 1.39 [MB]\n"
     ]
    }
   ],
   "source": [
    "import tracemalloc\n",
    "\n",
    "# Para medir memoria consumida (usamos el pico de memoria)\n",
    "tracemalloc.start()\n",
    "\n",
    "# Inicializaos el problema\n",
    "initial_state = StatesHanoi([5, 4, 3, 2, 1], [], [], max_disks=5)\n",
    "goal_state = StatesHanoi([], [], [5, 4, 3, 2, 1], max_disks=5)\n",
    "problem = ProblemHanoi(initial=initial_state, goal=goal_state)\n",
    "\n",
    "frontier = [NodeHanoi(problem.initial)]  # Creamos una cola FIFO con el nodo inicial\n",
    "\n",
    "explored = set()  # Este set nos permite ver si ya exploramos un estado para evitar repetir indefinidamente\n",
    "\n",
    "# Mientras que la cola no este vacia\n",
    "while len(frontier) != 0:\n",
    "    node = frontier.pop()  # Extraemos el primer nodo de la cola\n",
    "    \n",
    "    # Agregamos nodo al set. Esto evita guardar duplicados, porque set nunca tiene elementos repetidos\n",
    "    explored.add(node.state)\n",
    "    \n",
    "    if problem.goal_test(node.state):  # Comprobamos si hemos alcanzado el estado objetivo\n",
    "        last_node = node\n",
    "        break\n",
    "    \n",
    "    # Agregamos a la cola todos los nodos sucesores del nodo actual\n",
    "    for next_node in node.expand(problem):\n",
    "        # Solo si no fue explorado\n",
    "        if next_node.state not in explored:\n",
    "            frontier.insert(0, next_node)\n",
    "            \n",
    "_, memory_peak = tracemalloc.get_traced_memory()\n",
    "memory_peak /= 1024*1024\n",
    "tracemalloc.stop()\n",
    "\n",
    "print(f\"Maxima memoria ocupada: {round(memory_peak, 2)} [MB]\", )"
   ],
   "metadata": {
    "collapsed": false,
    "ExecuteTime": {
     "end_time": "2024-03-18T04:57:42.288659Z",
     "start_time": "2024-03-18T04:57:42.009243Z"
    }
   },
   "id": "ef46aea3401b7c52",
   "execution_count": 33
  },
  {
   "cell_type": "markdown",
   "source": [
    "Para terminar, si queremos exportar el camino para verlo en la animación, podemos crear los archivos haciendo:"
   ],
   "metadata": {
    "collapsed": false
   },
   "id": "2160da7be8266a73"
  },
  {
   "cell_type": "code",
   "outputs": [],
   "source": [
    "last_node.generate_solution_for_simulator()"
   ],
   "metadata": {
    "collapsed": false,
    "ExecuteTime": {
     "end_time": "2024-03-18T04:57:42.291484Z",
     "start_time": "2024-03-18T04:57:42.289317Z"
    }
   },
   "id": "5bab52093a7895b9",
   "execution_count": 34
  },
  {
   "cell_type": "markdown",
   "source": [
    "Para ver la simulación, se debe ejecutar el script en la carpeta `simulator`:\n",
    "\n",
    "```bash\n",
    "python3 ./simulator/simulation_hanoi.py\n",
    "```\n",
    "\n",
    "Una vez que se copiaron los archivos `initial_state.json` y `sequence.json` en la carpeta `simulator`. Recordar que se debe tener instalado en el entorno virtual a PyGame y \n",
    "Matplotlib. Se recomienda leer el archivo `README.md` que está en la carpeta `simulator`."
   ],
   "metadata": {
    "collapsed": false
   },
   "id": "590168614607f67"
  },
  {
   "cell_type": "code",
   "outputs": [],
   "source": [],
   "metadata": {
    "collapsed": false,
    "ExecuteTime": {
     "end_time": "2024-03-18T04:57:42.294617Z",
     "start_time": "2024-03-18T04:57:42.292868Z"
    }
   },
   "id": "2d698242d3699edf",
   "execution_count": 34
  }
 ],
 "metadata": {
  "kernelspec": {
   "display_name": "Python 3",
   "language": "python",
   "name": "python3"
  },
  "language_info": {
   "codemirror_mode": {
    "name": "ipython",
    "version": 2
   },
   "file_extension": ".py",
   "mimetype": "text/x-python",
   "name": "python",
   "nbconvert_exporter": "python",
   "pygments_lexer": "ipython2",
   "version": "2.7.6"
  }
 },
 "nbformat": 4,
 "nbformat_minor": 5
}
