{
 "cells": [
  {
   "cell_type": "code",
   "execution_count": null,
   "id": "initial_id",
   "metadata": {
    "collapsed": true,
    "is_executing": true
   },
   "outputs": [],
   "source": [
    "import pandas as pd\n",
    "import numpy as np\n",
    "import matplotlib.pyplot as plt\n",
    "import seaborn as sns\n",
    "\n",
    "from sklearn.datasets import fetch_california_housing\n",
    "from sklearn.model_selection import train_test_split, cross_val_score\n",
    "from sklearn.preprocessing import StandardScaler\n",
    "from sklearn.metrics import r2_score, mean_absolute_error, mean_squared_error\n",
    "\n",
    "from sklearn.linear_model import LinearRegression, Ridge\n",
    "\n",
    "sns.set()"
   ]
  },
  {
   "cell_type": "markdown",
   "source": [
    "# California Housing\n",
    "\n",
    "Este es un popular [dataset](https://scikit-learn.org/stable/datasets/real_world.html#california-housing-dataset) que vamos a estar leyendo desde **Scikit-Learn**.\n",
    "\n",
    "Se requiere construir una regresión que nos permita predecir el valor de valor medio de casas en distritos de California (medidos en ciento de miles de dólares $100.000). Este dataset deriva del censo de 1990 de EEUU, donde cada observación es un bloque. Un bloque es la unidad geográfica más pequeña para la cual la Oficina del Censo de EE. UU. publica datos de muestra (un bloque típicamente tiene una población de 600 a 3,000 personas).\n",
    "\n",
    "Un hogar es un grupo de personas que residen dentro de una casa. Dado que el número promedio de habitaciones y dormitorios en este conjunto de datos se proporciona por hogar, estas columnas pueden tomar valores grandes para grupos de bloques con pocos hogares y muchas casas vacías.\n",
    "\n",
    "Los atributos en el orden que se guardaron en el dataset son:\n",
    "\n",
    "- `MedInc`: Ingreso medio en el bloque\n",
    "- `HouseAge`: Edad mediana de las casas en el bloque\n",
    "- `AveRooms`: Número promedio de habitaciones por hogar.\n",
    "- `AveBedrms`: Número promedio de dormitorios por hogar.\n",
    "- `Population`: Población del bloque\n",
    "- `AveOccup`: Número promedio de miembros por hogar.\n",
    "- `Latitude`: Latitud del bloque\n",
    "- `Longitude`: Longitud del bloque"
   ],
   "metadata": {
    "collapsed": false
   },
   "id": "fc079c7f8e6fdb1"
  },
  {
   "cell_type": "code",
   "outputs": [],
   "source": [
    "# Leemos el dataset\n",
    "california_housing = fetch_california_housing()\n",
    "\n",
    "# Y obtenemos los atributos y target\n",
    "X = california_housing.data\n",
    "y = california_housing.target\n",
    "\n",
    "# Transformamos en Pandas\n",
    "X = pd.DataFrame(X, columns=california_housing['feature_names'])\n",
    "y = pd.Series(y, name=california_housing['target_names'][0])\n",
    "\n",
    "# Unimos a X e y, esto ayuda a la parte de la gráfica del mapa de calor de correlación\n",
    "df_california = pd.concat([X, y], axis=1)"
   ],
   "metadata": {
    "collapsed": false,
    "is_executing": true
   },
   "id": "2a5842f97e2b9daa",
   "execution_count": null
  },
  {
   "cell_type": "code",
   "outputs": [],
   "source": [
    "X.head()"
   ],
   "metadata": {
    "collapsed": false,
    "is_executing": true
   },
   "id": "ac6af619d900031c",
   "execution_count": null
  },
  {
   "cell_type": "code",
   "outputs": [],
   "source": [
    "y.head()"
   ],
   "metadata": {
    "collapsed": false,
    "is_executing": true
   },
   "id": "ab4b60432f9b4eba",
   "execution_count": null
  },
  {
   "cell_type": "code",
   "outputs": [],
   "source": [
    "df_california.head()"
   ],
   "metadata": {
    "collapsed": false,
    "is_executing": true
   },
   "id": "b9709c1907a3f8a7",
   "execution_count": null
  },
  {
   "cell_type": "markdown",
   "source": [
    "Se separa el dataset en entrenamiento y evaluación"
   ],
   "metadata": {
    "collapsed": false
   },
   "id": "7bfdabef0544bd2"
  },
  {
   "cell_type": "code",
   "outputs": [],
   "source": [
    "X_train, X_test, y_train, y_test = train_test_split(X,  y, test_size=0.3, random_state=42)"
   ],
   "metadata": {
    "collapsed": false,
    "is_executing": true
   },
   "id": "be2e0c22a0da2786",
   "execution_count": null
  },
  {
   "cell_type": "code",
   "outputs": [],
   "source": [
    "# Escalemos los datos\n",
    "scaler = StandardScaler()\n",
    "X_train_scaled = scaler.fit_transform(X_train)\n",
    "X_test_scaled = scaler.transform(X_test)\n",
    "\n",
    "# Lo transformemos en DataFrames\n",
    "X_train_scaled = pd.DataFrame(X_train_scaled, columns=california_housing['feature_names'])\n",
    "X_test_scaled = pd.DataFrame(X_test_scaled, columns=california_housing['feature_names'])"
   ],
   "metadata": {
    "collapsed": false,
    "is_executing": true
   },
   "id": "5e4f8a6651a59e25",
   "execution_count": null
  },
  {
   "cell_type": "code",
   "outputs": [],
   "source": [
    "X_train_scaled.head()"
   ],
   "metadata": {
    "collapsed": false,
    "is_executing": true
   },
   "id": "173c93ae1ca22667",
   "execution_count": null
  },
  {
   "cell_type": "markdown",
   "source": [
    "Aquí se muestra un ejemplo de validación cruzada.\n",
    "\n",
    "- Usamos método de 5-folds\n",
    "- Usamos el MSE. [Scikit-Learn](https://scikit-learn.org/stable/modules/generated/sklearn.model_selection.cross_val_score.html#sklearn.model_selection.cross_val_score) usa el valor negativo por motivos de simplificar el funcionamiento de otras funciones de la libreria."
   ],
   "metadata": {
    "collapsed": false
   },
   "id": "d45225a6d622f98"
  },
  {
   "cell_type": "code",
   "outputs": [],
   "source": [
    "# Creamos un modelo\n",
    "alpha = 1.0\n",
    "ridge_model = Ridge(alpha=alpha)\n",
    "\n",
    "# Este la forma que se implementa en scikit-learn\n",
    "cv = cross_val_score(ridge_model, X_train_scaled, y=y_train, scoring=\"neg_mean_squared_error\", cv=5, n_jobs=-1)\n",
    "\n",
    "# Este calculo nos devuelve el valor de MSE para cada una de los folds\n",
    "cv"
   ],
   "metadata": {
    "collapsed": false,
    "is_executing": true
   },
   "id": "6bf9ae822cf0547e",
   "execution_count": null
  },
  {
   "cell_type": "code",
   "outputs": [],
   "source": [
    "# Podemos obtener el valor medio y desvio estandar de cada caso:\n",
    "print(f\"La media del MSE en 5-fold CV para la regresión Ridge con alpha={alpha} es {(-1)*cv.mean()}\")\n",
    "print(f\"El desvío estándar del MSE en 5-fold CV para la regresión Ridge con alpha={alpha} es {cv.std()}\")"
   ],
   "metadata": {
    "collapsed": false,
    "is_executing": true
   },
   "id": "847380d4e19ae5fb",
   "execution_count": null
  },
  {
   "cell_type": "code",
   "outputs": [],
   "source": [
    "# Acá generamos varios valores de alpha para la búsqueda pedida en el TP."
   ],
   "metadata": {
    "collapsed": false,
    "is_executing": true
   },
   "id": "a347a4f617e5b82c"
  },
  {
   "cell_type": "code",
   "outputs": [],
   "source": [
    "alpha_values = np.linspace(0, 12.5, 100)\n",
    "alpha_values"
   ],
   "metadata": {
    "collapsed": false,
    "is_executing": true
   },
   "id": "851257cf987268ce",
   "execution_count": null
  }
 ],
 "metadata": {
  "kernelspec": {
   "display_name": "Python 3",
   "language": "python",
   "name": "python3"
  },
  "language_info": {
   "codemirror_mode": {
    "name": "ipython",
    "version": 2
   },
   "file_extension": ".py",
   "mimetype": "text/x-python",
   "name": "python",
   "nbconvert_exporter": "python",
   "pygments_lexer": "ipython2",
   "version": "2.7.6"
  }
 },
 "nbformat": 4,
 "nbformat_minor": 5
}
