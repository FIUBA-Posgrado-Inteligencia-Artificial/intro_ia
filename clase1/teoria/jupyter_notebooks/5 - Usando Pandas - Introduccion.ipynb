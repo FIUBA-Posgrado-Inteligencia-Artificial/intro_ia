{
 "cells": [
  {
   "cell_type": "markdown",
   "id": "421a33cb",
   "metadata": {},
   "source": [
    "# Pandas (el R de Python)\n",
    "Inteligencia Artificial - Facundo A. Lucianna - CEIA - FIUBA\n",
    "\n",
    "Pandas es una herramienta de manipulación y análisis de datos de código abierto, rápida, potente, flexible y fácil de usar, construida sobre el lenguaje de programación Python. Esta herramienta hoy es estandar de facto en Data Science dado su versatilidad y potenicia para trabajar con datos estructurados. \n",
    "\n",
    "Pandas provee dos estructuras de datos:\n",
    "- [**Series**](https://pandas.pydata.org/docs/reference/api/pandas.Series.html#pandas.Series): Es una array unidimensional de cualquier tipo de dato.\n",
    "- [**DataFrame**](https://pandas.pydata.org/docs/reference/api/pandas.DataFrame.html#pandas.DataFrame): Es una estructura dos dimensional tal como una tabla con filas y columnas. Esta es la estructura principal de Pandas, nos permite manipular datos estructurados muy facilmente."
   ]
  },
  {
   "cell_type": "markdown",
   "id": "0fd94104",
   "metadata": {},
   "source": [
    "### Importar biblioteca\n",
    "\n",
    "Usando el alias **pd** para ahorrarnos trabajo cuando llamamemos a la libreria  en el script. "
   ]
  },
  {
   "cell_type": "code",
   "execution_count": 1,
   "id": "6aac9307",
   "metadata": {},
   "outputs": [],
   "source": [
    "import pandas as pd"
   ]
  },
  {
   "cell_type": "markdown",
   "id": "9e8e8650",
   "metadata": {},
   "source": [
    "### Series de pandas"
   ]
  },
  {
   "cell_type": "code",
   "execution_count": 2,
   "id": "f5b3dd22",
   "metadata": {},
   "outputs": [
    {
     "data": {
      "text/plain": [
       "0     17\n",
       "1      5\n",
       "2      7\n",
       "3      5\n",
       "4     67\n",
       "5     84\n",
       "6     29\n",
       "7     52\n",
       "8     12\n",
       "9     53\n",
       "10     1\n",
       "11    10\n",
       "dtype: int64"
      ]
     },
     "execution_count": 2,
     "metadata": {},
     "output_type": "execute_result"
    }
   ],
   "source": [
    "# Definición de una Serie\n",
    "serie1 = pd.Series([17,5,7,5,67,84,29,52,12,53,1,10])\n",
    "serie1.head(15)"
   ]
  },
  {
   "cell_type": "markdown",
   "id": "a12fb385",
   "metadata": {},
   "source": [
    "Las series por defecto guardan cada valor en un índice numérico que arranca en 0 y va incrementándose. Pero podemos cambiarlo a cualquier tipo de índice el cual no tenga necesariamente un orden (OBS: Los datos están ordenados dentro de la Serie por el orden que están ubicados pero el índice no necesariamente debe tener un orden)."
   ]
  },
  {
   "cell_type": "code",
   "execution_count": 3,
   "id": "ffa89100",
   "metadata": {},
   "outputs": [
    {
     "name": "stdout",
     "output_type": "stream",
     "text": [
      "A     5.7\n",
      "B     8.5\n",
      "C     9.1\n",
      "D     5.5\n",
      "E     8.2\n",
      "F     9.0\n",
      "G    10.0\n",
      "H     7.0\n",
      "I     7.7\n",
      "J     9.9\n",
      "dtype: float64\n"
     ]
    }
   ],
   "source": [
    "# Indices\n",
    "serie2 = pd.Series([5.7,8.5,9.1,5.5,8.2,9.0,10,7.0,7.7,9.9],\n",
    "                   index=[\"A\",\"B\",\"C\",\"D\",\"E\",\"F\",\"G\",\"H\",\"I\",\"J\"])\n",
    "print(serie2)"
   ]
  },
  {
   "cell_type": "markdown",
   "id": "6de3ab11",
   "metadata": {},
   "source": [
    "Las Series se pueden hacer cortes para obtener sub series"
   ]
  },
  {
   "cell_type": "code",
   "execution_count": 4,
   "id": "7edbb64f",
   "metadata": {},
   "outputs": [
    {
     "name": "stdout",
     "output_type": "stream",
     "text": [
      "El elemento ubicado en la posicion 2 es 9.1\n",
      "La sub serie con los elementos ubicados en la posición 1 y 4 (sin incluir) son:\n",
      "B    8.5\n",
      "C    9.1\n",
      "D    5.5\n",
      "dtype: float64\n"
     ]
    }
   ],
   "source": [
    "# Acceso a los elementos / Filtrado\n",
    "print(f\"El elemento ubicado en la posicion 2 es {serie2[2]}\" )\n",
    "print(\"La sub serie con los elementos ubicados en la posición 1 y 4 (sin incluir) son:\" )\n",
    "print(serie2[1:4])"
   ]
  },
  {
   "cell_type": "markdown",
   "id": "6597a922",
   "metadata": {},
   "source": [
    "Además del acceso por ubicación, podemos hacerlo por valor de índice si es que lo tiene"
   ]
  },
  {
   "cell_type": "code",
   "execution_count": 5,
   "id": "d6ef622e",
   "metadata": {},
   "outputs": [
    {
     "name": "stdout",
     "output_type": "stream",
     "text": [
      "El elemento ubicado en el indice F es 9.0\n",
      "La sub serie con los elementos ubicados en la posición D y G (sin incluir) son:\n",
      "D     5.5\n",
      "E     8.2\n",
      "F     9.0\n",
      "G    10.0\n",
      "dtype: float64\n"
     ]
    }
   ],
   "source": [
    "# Acceso a los elementos / Filtrado\n",
    "print(f\"El elemento ubicado en el indice F es {serie2['F']}\" )\n",
    "print(\"La sub serie con los elementos ubicados en la posición D y G (sin incluir) son:\" )\n",
    "print(serie2[\"D\":\"G\"])"
   ]
  },
  {
   "cell_type": "markdown",
   "id": "19f3e5dd",
   "metadata": {},
   "source": [
    "Muy similar a Numpy, las series se pueden manipular con operaciones, siempre y cuando los tipos de datos de las series sean compatibles. Ponemos algunas operaciones de la enorme cantidad. Más operaciones se pueden consultar [aqui](https://pandas.pydata.org/docs/user_guide/dsintro.html#series) "
   ]
  },
  {
   "cell_type": "code",
   "execution_count": 6,
   "id": "34a2d6fb",
   "metadata": {},
   "outputs": [
    {
     "name": "stdout",
     "output_type": "stream",
     "text": [
      "Suma:\n",
      "0     3\n",
      "1     7\n",
      "2    11\n",
      "dtype: int64\n",
      "Resta:\n",
      "0   -1\n",
      "1   -1\n",
      "2   -1\n",
      "dtype: int64\n",
      "Multiplicación elemento a elemento:\n",
      "0     2\n",
      "1    12\n",
      "2    30\n",
      "dtype: int64\n",
      "Comparaciones:\n",
      "Cada valor es mayor a 3?:\n",
      "0    False\n",
      "1    False\n",
      "2     True\n",
      "dtype: bool\n",
      "Filtrado:\n",
      "Todos valores de s1 que son mayores o iguales a 3:\n",
      "1    3\n",
      "2    5\n",
      "dtype: int64\n",
      "Calculo estadisticos:\n",
      "Media de s1: 3.0\n",
      "STD de s1: 2.0\n"
     ]
    }
   ],
   "source": [
    "# Operaciones entre series\n",
    "s1 = pd.Series([1, 3, 5])\n",
    "s2 = pd.Series([2, 4, 6])\n",
    "print(\"Suma:\")\n",
    "print(s1 + s2)\n",
    "print(\"Resta:\")\n",
    "print(s1 - s2)\n",
    "print(\"Multiplicación elemento a elemento:\")\n",
    "print(s1 * s2)\n",
    "print(\"Comparaciones:\")\n",
    "print(\"Cada valor es mayor a 3?:\")\n",
    "print(s1>3)\n",
    "print(\"Filtrado:\")\n",
    "print(\"Todos valores de s1 que son mayores o iguales a 3:\")\n",
    "print(s1[s1>=3])\n",
    "\n",
    "print(\"Calculo estadisticos:\")\n",
    "print(f\"Media de s1: {s1.mean()}\")\n",
    "print(f\"STD de s1: {s1.std()}\")"
   ]
  },
  {
   "cell_type": "markdown",
   "id": "81229d36",
   "metadata": {},
   "source": [
    "### Dataframes de Pandas\n",
    "Como mencionamos, esta estructura de datos es la más usada de Pandas y que nos permite realizar una amplia variedad de operaciones en datos tabulados de forma programática y sencilla.\n",
    "\n",
    "A continuación vemos como se pueden crear:"
   ]
  },
  {
   "cell_type": "code",
   "execution_count": 7,
   "id": "474c2a35",
   "metadata": {
    "scrolled": true
   },
   "outputs": [
    {
     "data": {
      "text/html": [
       "<div>\n",
       "<style scoped>\n",
       "    .dataframe tbody tr th:only-of-type {\n",
       "        vertical-align: middle;\n",
       "    }\n",
       "\n",
       "    .dataframe tbody tr th {\n",
       "        vertical-align: top;\n",
       "    }\n",
       "\n",
       "    .dataframe thead th {\n",
       "        text-align: right;\n",
       "    }\n",
       "</style>\n",
       "<table border=\"1\" class=\"dataframe\">\n",
       "  <thead>\n",
       "    <tr style=\"text-align: right;\">\n",
       "      <th></th>\n",
       "    </tr>\n",
       "  </thead>\n",
       "  <tbody>\n",
       "  </tbody>\n",
       "</table>\n",
       "</div>"
      ],
      "text/plain": [
       "Empty DataFrame\n",
       "Columns: []\n",
       "Index: []"
      ]
     },
     "execution_count": 7,
     "metadata": {},
     "output_type": "execute_result"
    }
   ],
   "source": [
    "# Dataframe vacío\n",
    "df1 = pd.DataFrame()\n",
    "df1.head()"
   ]
  },
  {
   "cell_type": "markdown",
   "id": "8a0d6c97",
   "metadata": {},
   "source": [
    "Los DataFrames tiene columnas los cuales tienen nombres. Además tienen índices que funcionan exactamente con las Series. Las filas y columnas se pueden acceder por posición y nombre, lo cual veremos más adelante en detalle."
   ]
  },
  {
   "cell_type": "code",
   "execution_count": 8,
   "id": "4257a556",
   "metadata": {},
   "outputs": [
    {
     "data": {
      "text/html": [
       "<div>\n",
       "<style scoped>\n",
       "    .dataframe tbody tr th:only-of-type {\n",
       "        vertical-align: middle;\n",
       "    }\n",
       "\n",
       "    .dataframe tbody tr th {\n",
       "        vertical-align: top;\n",
       "    }\n",
       "\n",
       "    .dataframe thead th {\n",
       "        text-align: right;\n",
       "    }\n",
       "</style>\n",
       "<table border=\"1\" class=\"dataframe\">\n",
       "  <thead>\n",
       "    <tr style=\"text-align: right;\">\n",
       "      <th></th>\n",
       "      <th>Nombre</th>\n",
       "      <th>Edad</th>\n",
       "      <th>Origen</th>\n",
       "      <th>Altura</th>\n",
       "    </tr>\n",
       "  </thead>\n",
       "  <tbody>\n",
       "    <tr>\n",
       "      <th>0</th>\n",
       "      <td>Sofía</td>\n",
       "      <td>33</td>\n",
       "      <td>ARG</td>\n",
       "      <td>1.77</td>\n",
       "    </tr>\n",
       "    <tr>\n",
       "      <th>1</th>\n",
       "      <td>Pedro</td>\n",
       "      <td>55</td>\n",
       "      <td>USA</td>\n",
       "      <td>1.75</td>\n",
       "    </tr>\n",
       "    <tr>\n",
       "      <th>2</th>\n",
       "      <td>Juan</td>\n",
       "      <td>18</td>\n",
       "      <td>CHL</td>\n",
       "      <td>1.68</td>\n",
       "    </tr>\n",
       "    <tr>\n",
       "      <th>3</th>\n",
       "      <td>María</td>\n",
       "      <td>47</td>\n",
       "      <td>ECU</td>\n",
       "      <td>1.50</td>\n",
       "    </tr>\n",
       "    <tr>\n",
       "      <th>4</th>\n",
       "      <td>Lucas</td>\n",
       "      <td>80</td>\n",
       "      <td>ESP</td>\n",
       "      <td>1.80</td>\n",
       "    </tr>\n",
       "  </tbody>\n",
       "</table>\n",
       "</div>"
      ],
      "text/plain": [
       "  Nombre  Edad Origen  Altura\n",
       "0  Sofía    33    ARG    1.77\n",
       "1  Pedro    55    USA    1.75\n",
       "2   Juan    18    CHL    1.68\n",
       "3  María    47    ECU    1.50\n",
       "4  Lucas    80    ESP    1.80"
      ]
     },
     "execution_count": 8,
     "metadata": {},
     "output_type": "execute_result"
    }
   ],
   "source": [
    "# Data frame desde una lista de listas\n",
    "l1 = ['Sofía', 33, 'ARG', 1.77]\n",
    "l2 = ['Pedro', 55, 'USA', 1.75]\n",
    "l3 = ['Juan' , 18, 'CHL', 1.68]\n",
    "l4 = ['María', 47, 'ECU', 1.50]\n",
    "l5 = ['Lucas', 80, 'ESP',  1.8]\n",
    "ListaDeListas = [l1, l2, l3, l4, l5]\n",
    "\n",
    "df2 = pd.DataFrame(ListaDeListas, columns=['Nombre', 'Edad', 'Origen', 'Altura'])\n",
    "\n",
    "# El método head nos permite ver las primera 5 filas del DataFrame\n",
    "df2.head()"
   ]
  },
  {
   "cell_type": "code",
   "execution_count": 9,
   "id": "2829e1b9",
   "metadata": {},
   "outputs": [
    {
     "name": "stdout",
     "output_type": "stream",
     "text": [
      "Accediendo por nombre de indice y columna: Sofía\n",
      "Accediendo por posición de indice y columna: Sofía\n",
      "\n",
      "Haciendo slicing de columnas\n"
     ]
    },
    {
     "data": {
      "text/html": [
       "<div>\n",
       "<style scoped>\n",
       "    .dataframe tbody tr th:only-of-type {\n",
       "        vertical-align: middle;\n",
       "    }\n",
       "\n",
       "    .dataframe tbody tr th {\n",
       "        vertical-align: top;\n",
       "    }\n",
       "\n",
       "    .dataframe thead th {\n",
       "        text-align: right;\n",
       "    }\n",
       "</style>\n",
       "<table border=\"1\" class=\"dataframe\">\n",
       "  <thead>\n",
       "    <tr style=\"text-align: right;\">\n",
       "      <th></th>\n",
       "      <th>Nombre</th>\n",
       "      <th>Origen</th>\n",
       "    </tr>\n",
       "  </thead>\n",
       "  <tbody>\n",
       "    <tr>\n",
       "      <th>0</th>\n",
       "      <td>Sofía</td>\n",
       "      <td>ARG</td>\n",
       "    </tr>\n",
       "    <tr>\n",
       "      <th>1</th>\n",
       "      <td>Pedro</td>\n",
       "      <td>USA</td>\n",
       "    </tr>\n",
       "    <tr>\n",
       "      <th>2</th>\n",
       "      <td>Juan</td>\n",
       "      <td>CHL</td>\n",
       "    </tr>\n",
       "    <tr>\n",
       "      <th>3</th>\n",
       "      <td>María</td>\n",
       "      <td>ECU</td>\n",
       "    </tr>\n",
       "    <tr>\n",
       "      <th>4</th>\n",
       "      <td>Lucas</td>\n",
       "      <td>ESP</td>\n",
       "    </tr>\n",
       "  </tbody>\n",
       "</table>\n",
       "</div>"
      ],
      "text/plain": [
       "  Nombre Origen\n",
       "0  Sofía    ARG\n",
       "1  Pedro    USA\n",
       "2   Juan    CHL\n",
       "3  María    ECU\n",
       "4  Lucas    ESP"
      ]
     },
     "execution_count": 9,
     "metadata": {},
     "output_type": "execute_result"
    }
   ],
   "source": [
    "# Acceso a los elementos / Filtrado\n",
    "\n",
    "print(f\"Accediendo por nombre de indice y columna: {df2.loc[0,'Nombre']}\")\n",
    "print(f\"Accediendo por posición de indice y columna: {df2.iloc[0,0]}\")\n",
    "\n",
    "print(\"\\nHaciendo slicing de columnas\")\n",
    "df2[['Nombre', 'Origen']].head()"
   ]
  },
  {
   "cell_type": "markdown",
   "id": "1fff4a48",
   "metadata": {},
   "source": [
    "Al igual de las series, podemos realizar una infinidad de operaciones con las columnas (cada columna es una Serie de Pandas):"
   ]
  },
  {
   "cell_type": "code",
   "execution_count": 10,
   "id": "71dc081c",
   "metadata": {},
   "outputs": [
    {
     "data": {
      "text/html": [
       "<div>\n",
       "<style scoped>\n",
       "    .dataframe tbody tr th:only-of-type {\n",
       "        vertical-align: middle;\n",
       "    }\n",
       "\n",
       "    .dataframe tbody tr th {\n",
       "        vertical-align: top;\n",
       "    }\n",
       "\n",
       "    .dataframe thead th {\n",
       "        text-align: right;\n",
       "    }\n",
       "</style>\n",
       "<table border=\"1\" class=\"dataframe\">\n",
       "  <thead>\n",
       "    <tr style=\"text-align: right;\">\n",
       "      <th></th>\n",
       "      <th>Nombre</th>\n",
       "      <th>Edad</th>\n",
       "      <th>Origen</th>\n",
       "      <th>Altura</th>\n",
       "      <th>2 edades</th>\n",
       "    </tr>\n",
       "  </thead>\n",
       "  <tbody>\n",
       "    <tr>\n",
       "      <th>0</th>\n",
       "      <td>Sofía</td>\n",
       "      <td>33</td>\n",
       "      <td>ARG</td>\n",
       "      <td>1.77</td>\n",
       "      <td>66</td>\n",
       "    </tr>\n",
       "    <tr>\n",
       "      <th>1</th>\n",
       "      <td>Pedro</td>\n",
       "      <td>55</td>\n",
       "      <td>USA</td>\n",
       "      <td>1.75</td>\n",
       "      <td>110</td>\n",
       "    </tr>\n",
       "    <tr>\n",
       "      <th>2</th>\n",
       "      <td>Juan</td>\n",
       "      <td>18</td>\n",
       "      <td>CHL</td>\n",
       "      <td>1.68</td>\n",
       "      <td>36</td>\n",
       "    </tr>\n",
       "    <tr>\n",
       "      <th>3</th>\n",
       "      <td>María</td>\n",
       "      <td>47</td>\n",
       "      <td>ECU</td>\n",
       "      <td>1.50</td>\n",
       "      <td>94</td>\n",
       "    </tr>\n",
       "    <tr>\n",
       "      <th>4</th>\n",
       "      <td>Lucas</td>\n",
       "      <td>80</td>\n",
       "      <td>ESP</td>\n",
       "      <td>1.80</td>\n",
       "      <td>160</td>\n",
       "    </tr>\n",
       "  </tbody>\n",
       "</table>\n",
       "</div>"
      ],
      "text/plain": [
       "  Nombre  Edad Origen  Altura  2 edades\n",
       "0  Sofía    33    ARG    1.77        66\n",
       "1  Pedro    55    USA    1.75       110\n",
       "2   Juan    18    CHL    1.68        36\n",
       "3  María    47    ECU    1.50        94\n",
       "4  Lucas    80    ESP    1.80       160"
      ]
     },
     "execution_count": 10,
     "metadata": {},
     "output_type": "execute_result"
    }
   ],
   "source": [
    "# Operaciones entre columnas\n",
    "df2['2 edades'] = df2['Edad'] * 2\n",
    "df2.head()"
   ]
  },
  {
   "cell_type": "code",
   "execution_count": 11,
   "id": "3c7a2a62",
   "metadata": {},
   "outputs": [
    {
     "data": {
      "text/html": [
       "<div>\n",
       "<style scoped>\n",
       "    .dataframe tbody tr th:only-of-type {\n",
       "        vertical-align: middle;\n",
       "    }\n",
       "\n",
       "    .dataframe tbody tr th {\n",
       "        vertical-align: top;\n",
       "    }\n",
       "\n",
       "    .dataframe thead th {\n",
       "        text-align: right;\n",
       "    }\n",
       "</style>\n",
       "<table border=\"1\" class=\"dataframe\">\n",
       "  <thead>\n",
       "    <tr style=\"text-align: right;\">\n",
       "      <th></th>\n",
       "      <th>Nombre</th>\n",
       "      <th>Edad</th>\n",
       "      <th>Origen</th>\n",
       "      <th>Altura</th>\n",
       "      <th>2 edades</th>\n",
       "      <th>NombreYPais</th>\n",
       "    </tr>\n",
       "  </thead>\n",
       "  <tbody>\n",
       "    <tr>\n",
       "      <th>0</th>\n",
       "      <td>Sofía</td>\n",
       "      <td>33</td>\n",
       "      <td>ARG</td>\n",
       "      <td>1.77</td>\n",
       "      <td>66</td>\n",
       "      <td>Sofía de ARG</td>\n",
       "    </tr>\n",
       "    <tr>\n",
       "      <th>1</th>\n",
       "      <td>Pedro</td>\n",
       "      <td>55</td>\n",
       "      <td>USA</td>\n",
       "      <td>1.75</td>\n",
       "      <td>110</td>\n",
       "      <td>Pedro de USA</td>\n",
       "    </tr>\n",
       "    <tr>\n",
       "      <th>2</th>\n",
       "      <td>Juan</td>\n",
       "      <td>18</td>\n",
       "      <td>CHL</td>\n",
       "      <td>1.68</td>\n",
       "      <td>36</td>\n",
       "      <td>Juan de CHL</td>\n",
       "    </tr>\n",
       "    <tr>\n",
       "      <th>3</th>\n",
       "      <td>María</td>\n",
       "      <td>47</td>\n",
       "      <td>ECU</td>\n",
       "      <td>1.50</td>\n",
       "      <td>94</td>\n",
       "      <td>María de ECU</td>\n",
       "    </tr>\n",
       "    <tr>\n",
       "      <th>4</th>\n",
       "      <td>Lucas</td>\n",
       "      <td>80</td>\n",
       "      <td>ESP</td>\n",
       "      <td>1.80</td>\n",
       "      <td>160</td>\n",
       "      <td>Lucas de ESP</td>\n",
       "    </tr>\n",
       "  </tbody>\n",
       "</table>\n",
       "</div>"
      ],
      "text/plain": [
       "  Nombre  Edad Origen  Altura  2 edades   NombreYPais\n",
       "0  Sofía    33    ARG    1.77        66  Sofía de ARG\n",
       "1  Pedro    55    USA    1.75       110  Pedro de USA\n",
       "2   Juan    18    CHL    1.68        36   Juan de CHL\n",
       "3  María    47    ECU    1.50        94  María de ECU\n",
       "4  Lucas    80    ESP    1.80       160  Lucas de ESP"
      ]
     },
     "execution_count": 11,
     "metadata": {},
     "output_type": "execute_result"
    }
   ],
   "source": [
    "df2['NombreYPais'] = df2['Nombre'] + ' de ' + df2['Origen']\n",
    "df2.head()"
   ]
  }
 ],
 "metadata": {
  "kernelspec": {
   "display_name": "Python 3",
   "language": "python",
   "name": "python3"
  },
  "language_info": {
   "codemirror_mode": {
    "name": "ipython",
    "version": 3
   },
   "file_extension": ".py",
   "mimetype": "text/x-python",
   "name": "python",
   "nbconvert_exporter": "python",
   "pygments_lexer": "ipython3",
   "version": "3.11.4"
  }
 },
 "nbformat": 4,
 "nbformat_minor": 5
}
