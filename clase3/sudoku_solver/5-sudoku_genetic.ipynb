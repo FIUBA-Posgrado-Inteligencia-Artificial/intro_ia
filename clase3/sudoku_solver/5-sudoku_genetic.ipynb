{
 "cells": [
  {
   "cell_type": "code",
   "execution_count": 1,
   "id": "initial_id",
   "metadata": {
    "jupyter": {
     "is_executing": true
    }
   },
   "outputs": [],
   "source": [
    "import numpy as np\n",
    "\n",
    "from sudoku_stuff import *"
   ]
  },
  {
   "cell_type": "markdown",
   "id": "b8bafd0acf580cb1",
   "metadata": {
    "collapsed": false,
    "jupyter": {
     "outputs_hidden": false
    }
   },
   "source": [
    "# Resolviendo Sudokus con Algoritmos Genéticos\n",
    "Inteligencia Artificial - Facundo A. Lucianna - CEIA - FIUBA\n",
    "\n",
    "En las notebooks anteriores, intentamos resolver sudokus utilizando los algoritmos de gradiente descendente, simulated annealing y búsqueda local beam. Vimos que los mejores resultados los encontramos con **búsqueda local beam**. Ahora veamos cómo nos va con los **algoritmos genéticos**.\n",
    "\n",
    "Como vimos en los videos, el algoritmo genético ya no es un enfoque tan de búsqueda local, sino que introduce el concepto de reproducción y mutación. Ahora, los nuevos estados que se generen serán producto de la reproducción de sus padres.\n",
    "\n",
    "Resolvamos este problema:\n",
    "\n",
    "<div>\n",
    "<img src=\"./sudoku_7.png\" width=\"300\"/>\n",
    "</div>\n",
    "\n",
    "El diccionario de **celdas fijas** quedaría de la siguiente forma:"
   ]
  },
  {
   "cell_type": "code",
   "execution_count": 2,
   "id": "8a83eafb-55a6-44b2-8aac-eecb5c0eeeaa",
   "metadata": {},
   "outputs": [],
   "source": [
    "fixed_squares = {\n",
    "    'A1': 3, 'A3': 4, 'A4': 5, 'A5': 6, 'A7': 9,\n",
    "    'B1': 1, 'B2': 8, 'B3': 5, 'B6': 9, 'B7': 7,\n",
    "    'C5': 7, 'C6': 8, 'C7': 4, 'C8': 1, 'C9': 5,\n",
    "    'D2': 2, 'D5': 1, 'D8': 4, 'D9': 9,\n",
    "    'E2': 4, 'E3': 9, 'E5': 5, \n",
    "    'F3': 1, \"F4\": 9, \"F5\": 8, \"F7\": 6, \"F8\": 7,\n",
    "    'G1': 4, 'G2': 9, 'G5': 3, 'G9': 7, \n",
    "    'H2': 1, 'H3': 8, 'H4': 7, 'H5': 4, 'H6': 5, 'H9': 6,\n",
    "    'I8': 8,\n",
    "}"
   ]
  },
  {
   "cell_type": "markdown",
   "id": "d741ef6a-6751-4761-b79b-931932cc6c00",
   "metadata": {},
   "source": [
    "Y la solución que tenemos, que vamos a usar para verificar al final de todo es:"
   ]
  },
  {
   "cell_type": "code",
   "execution_count": 3,
   "id": "c52990e0-9de5-4ce7-ae47-17daf7d1ae60",
   "metadata": {},
   "outputs": [],
   "source": [
    "solution = {\n",
    "    'A1': 3, 'A2': 7, 'A3': 4, 'A4': 5, 'A5': 6, 'A6': 1, 'A7': 9, 'A8': 2, 'A9': 8,\n",
    "    'B1': 1, 'B2': 8, 'B3': 5, 'B4': 4, 'B5': 2, 'B6': 9, 'B7': 7, 'B8': 6, 'B9': 3,\n",
    "    'C1': 9, 'C2': 6, 'C3': 2, 'C4': 3, 'C5': 7, 'C6': 8, 'C7': 4, 'C8': 1, 'C9': 5,\n",
    "    'D1': 8, 'D2': 2, 'D3': 7, 'D4': 6, 'D5': 1, 'D6': 3, 'D7': 5, 'D8': 4, 'D9': 9,\n",
    "    'E1': 6, 'E2': 4, 'E3': 9, 'E4': 2, 'E5': 5, 'E6': 7, 'E7': 8, 'E8': 3, 'E9': 1,\n",
    "    'F1': 5, 'F2': 3, 'F3': 1, 'F4': 9, 'F5': 8, 'F6': 4, 'F7': 6, 'F8': 7, 'F9': 2,\n",
    "    'G1': 4, 'G2': 9, 'G3': 6, 'G4': 8, 'G5': 3, 'G6': 2, 'G7': 1, 'G8': 5, 'G9': 7,\n",
    "    'H1': 2, 'H2': 1, 'H3': 8, 'H4': 7, 'H5': 4, 'H6': 5, 'H7': 3, 'H8': 9, 'H9': 6,\n",
    "    'I1': 7, 'I2': 5, 'I3': 3, 'I4': 1, 'I5': 9, 'I6': 6, 'I7': 2, 'I8': 8, 'I9': 4,\n",
    "}"
   ]
  },
  {
   "cell_type": "code",
   "execution_count": 4,
   "id": "9b13b263-9674-4874-ab0b-592bfcafa00b",
   "metadata": {},
   "outputs": [
    {
     "name": "stdout",
     "output_type": "stream",
     "text": [
      "*---------+---------+---------*\n",
      "| 3  7  4 | 5  6  1 | 9  2  8 |\n",
      "| 1  8  5 | 4  2  9 | 7  6  3 |\n",
      "| 9  6  2 | 3  7  8 | 4  1  5 |\n",
      "*---------+---------+---------*\n",
      "| 8  2  7 | 6  1  3 | 5  4  9 |\n",
      "| 6  4  9 | 2  5  7 | 8  3  1 |\n",
      "| 5  3  1 | 9  8  4 | 6  7  2 |\n",
      "*---------+---------+---------*\n",
      "| 4  9  6 | 8  3  2 | 1  5  7 |\n",
      "| 2  1  8 | 7  4  5 | 3  9  6 |\n",
      "| 7  5  3 | 1  9  6 | 2  8  4 |\n",
      "*---------+---------+---------*\n"
     ]
    }
   ],
   "source": [
    "print_state(solution)"
   ]
  },
  {
   "cell_type": "markdown",
   "id": "48030c7a-aba2-4616-a305-ead8291490b8",
   "metadata": {},
   "source": [
    "## Implementando herramientas para aplicar Algoritmos Genéticos en la resolución de Sudokus\n",
    "\n",
    "Un algoritmo genético es una variante de la búsqueda local beam estocástica en la que los estados sucesores se generan combinando dos estados padres (reproducción). Para implementar este algoritmo, debemos definir varios elementos:\n",
    "\n",
    "- Forma de codificar el estado como un string para definir el cromosoma.\n",
    "- Implementar la reproducción\n",
    "- Implementar la mutación\n",
    "- La función de idoneidad, que utilizaremos como la función de costo que hemos venido usando.\n",
    "\n",
    "### Cromosoma\n",
    "\n",
    "Primero, veamos cómo podemos codificar un estado particular del Sudoku en un cromosoma, que es un string que luego podemos manipular para realizar la reproducción.\n",
    "\n",
    "En este caso, dado que un Sudoku está formado por números, representaremos todos los números que llenan el Sudoku como una sola cadena de caracteres, aplanando a nivel de filas.\n",
    "\n",
    "Veamos un ejemplo de la implementación para que quede más claro, utilizando la solución que definimos previamente."
   ]
  },
  {
   "cell_type": "code",
   "execution_count": 14,
   "id": "6b2f43ea-37d7-4233-8c0e-c3ea30d52a11",
   "metadata": {},
   "outputs": [],
   "source": [
    "# Las funciones que implementan los distintos elementos para resolver con algortimos geneticos estan definido en genetic.py\n",
    "from genetic import *"
   ]
  },
  {
   "cell_type": "code",
   "execution_count": 15,
   "id": "ec84b946-b253-4c78-84ca-a9ed0a0a5f84",
   "metadata": {},
   "outputs": [
    {
     "name": "stdout",
     "output_type": "stream",
     "text": [
      "*---------+---------+---------*\n",
      "| 3  7  4 | 5  6  1 | 9  2  8 |\n",
      "| 1  8  5 | 4  2  9 | 7  6  3 |\n",
      "| 9  6  2 | 3  7  8 | 4  1  5 |\n",
      "*---------+---------+---------*\n",
      "| 8  2  7 | 6  1  3 | 5  4  9 |\n",
      "| 6  4  9 | 2  5  7 | 8  3  1 |\n",
      "| 5  3  1 | 9  8  4 | 6  7  2 |\n",
      "*---------+---------+---------*\n",
      "| 4  9  6 | 8  3  2 | 1  5  7 |\n",
      "| 2  1  8 | 7  4  5 | 3  9  6 |\n",
      "| 7  5  3 | 1  9  6 | 2  8  4 |\n",
      "*---------+---------+---------*\n"
     ]
    }
   ],
   "source": [
    "print_state(solution)"
   ]
  },
  {
   "cell_type": "code",
   "execution_count": 16,
   "id": "14799463-65e5-47ff-96de-35ee1e6b75f7",
   "metadata": {},
   "outputs": [],
   "source": [
    "# obtain_chromosome_sudoku devuelve el cromosoma del sudoku dado un estado (formado por un diccionario con las celdas\n",
    "chromosome_solution = obtain_chromosome_sudoku(solution, obtain_all_cells())"
   ]
  },
  {
   "cell_type": "code",
   "execution_count": 17,
   "id": "ecbf4545-e958-41db-954e-6d45b449b14f",
   "metadata": {},
   "outputs": [
    {
     "name": "stdout",
     "output_type": "stream",
     "text": [
      "374561928185429763962378415827613549649257831531984672496832157218745396753196284\n"
     ]
    }
   ],
   "source": [
    "print(chromosome_solution)"
   ]
  },
  {
   "cell_type": "markdown",
   "id": "f4627c1b-5ffc-4e2b-b8b0-a3b91f4b2133",
   "metadata": {},
   "source": [
    "Con esta función, podemos asegurarnos de que, por ejemplo, cuando realicemos una mutación, esas posiciones fijas no sean modificadas.\n",
    "\n",
    "Por último, en lo que respecta al cromosoma, necesitamos una función que, al pasarle un cromosoma, nos devuelva un estado. Es decir, el proceso de \"nacimiento\" de nuevos estados. Para esto, podemos usar la función `obtain_fixed_pos_in_chromosome_sudoku()`. Veamos un ejemplo:\n",
    "\n",
    "Tomemos el cromosoma que calculamos anteriormente y modifiquemos el número en el índice `1`:."
   ]
  },
  {
   "cell_type": "code",
   "execution_count": 19,
   "id": "7cb8d0f8-e5cb-49ac-b8c5-2426a4bbaaf7",
   "metadata": {},
   "outputs": [
    {
     "name": "stdout",
     "output_type": "stream",
     "text": [
      "[0, 2, 3, 4, 6, 9, 10, 11, 14, 15, 22, 23, 24, 25, 26, 28, 31, 34, 35, 37, 38, 40, 47, 48, 49, 51, 52, 54, 55, 58, 62, 64, 65, 66, 67, 68, 71, 79]\n"
     ]
    }
   ],
   "source": [
    "pos_fixed = obtain_fixed_pos_in_chromosome_sudoku(fixed_squares, obtain_all_cells())\n",
    "\n",
    "print(pos_fixed)"
   ]
  },
  {
   "cell_type": "markdown",
   "id": "90c387e1-a4ec-4b78-8d35-9452f0c2b00b",
   "metadata": {},
   "source": [
    "Entonces con esta función podemos usarlo para saber cuando por ejemplo realicemos una mutuación, esas posiciones no pueden ser modificadas.\n",
    "\n",
    "Por ultimo, en lo que respecta al cromosoma, necesitamos una funcion que le pasamos un cromosoma, y nos devuelva un estado, es decir el proceso de nacimiento de nuevos estados.\n",
    "Esto lo podemos realizar usando `obtain_sibling_from_chromosome_sudoku()`. Veamos un ejemplo:\n",
    "\n",
    "Tomemos el cromosoma que calculamos anteriormente y modifiquemos el numero del indice `1:`"
   ]
  },
  {
   "cell_type": "code",
   "execution_count": 22,
   "id": "6dfa11b6-0d6b-4788-9d67-d9e40a1ae18b",
   "metadata": {},
   "outputs": [
    {
     "name": "stdout",
     "output_type": "stream",
     "text": [
      "314561928185429763962378415827613549649257831531984672496832157218745396753196284\n"
     ]
    }
   ],
   "source": [
    "new_chromosome = chromosome_solution[:1] + '1' + chromosome_solution[2:]\n",
    "print(new_chromosome)"
   ]
  },
  {
   "cell_type": "markdown",
   "id": "b20cecb1-8c33-4e63-ba71-ddf2ed6d06e7",
   "metadata": {},
   "source": [
    "Obtengamos ahora el estado de este cromosoma:"
   ]
  },
  {
   "cell_type": "code",
   "execution_count": 23,
   "id": "362fae16-bae9-4433-8733-941b6b50a8fa",
   "metadata": {},
   "outputs": [
    {
     "name": "stdout",
     "output_type": "stream",
     "text": [
      "*---------+---------+---------*\n",
      "| 3  1  4 | 5  6  1 | 9  2  8 |\n",
      "| 1  8  5 | 4  2  9 | 7  6  3 |\n",
      "| 9  6  2 | 3  7  8 | 4  1  5 |\n",
      "*---------+---------+---------*\n",
      "| 8  2  7 | 6  1  3 | 5  4  9 |\n",
      "| 6  4  9 | 2  5  7 | 8  3  1 |\n",
      "| 5  3  1 | 9  8  4 | 6  7  2 |\n",
      "*---------+---------+---------*\n",
      "| 4  9  6 | 8  3  2 | 1  5  7 |\n",
      "| 2  1  8 | 7  4  5 | 3  9  6 |\n",
      "| 7  5  3 | 1  9  6 | 2  8  4 |\n",
      "*---------+---------+---------*\n"
     ]
    }
   ],
   "source": [
    "new_state = obtain_sibling_from_chromosome_sudoku(new_chromosome, obtain_all_cells())\n",
    "print_state(new_state)"
   ]
  },
  {
   "cell_type": "markdown",
   "id": "4f0b70ec-409e-43ab-80f2-d320c5d0f189",
   "metadata": {},
   "source": [
    "### Reproducción\n",
    "\n",
    "La reproducción la decidimos realizar mediante la siguiente operación. Dado dos cromosomas, seleccionamos un punto de corte al azar en el string. Usando ese punto de corte, concatenamos una parte del cromosoma de un padre con la del otro. Esta reproducción generará dos hijos, siendo cada uno el complemento del otro.\n",
    "\n",
    "Esta reproduccion esta implementada en la función `reproduction_sudoku()`. Veamos un ejemplo de uso: "
   ]
  },
  {
   "cell_type": "code",
   "execution_count": 26,
   "id": "768f9e2e-7f75-420c-b5be-749e4da81687",
   "metadata": {},
   "outputs": [
    {
     "name": "stdout",
     "output_type": "stream",
     "text": [
      "Estado 1\n",
      "*---------+---------+---------*\n",
      "| 3  7  4 | 5  6  6 | 9  3  3 |\n",
      "| 1  8  5 | 7  3  9 | 7  5  7 |\n",
      "| 4  1  4 | 9  7  8 | 4  1  5 |\n",
      "*---------+---------+---------*\n",
      "| 3  2  7 | 7  1  5 | 4  4  9 |\n",
      "| 4  4  9 | 3  5  7 | 8  9  6 |\n",
      "| 2  9  1 | 9  8  7 | 6  7  7 |\n",
      "*---------+---------+---------*\n",
      "| 4  9  9 | 7  3  4 | 5  9  7 |\n",
      "| 2  1  8 | 7  4  5 | 7  3  6 |\n",
      "| 1  7  5 | 3  2  8 | 6  8  4 |\n",
      "*---------+---------+---------*\n",
      "Estado 2\n",
      "*---------+---------+---------*\n",
      "| 3  8  4 | 5  6  5 | 9  9  1 |\n",
      "| 1  8  5 | 2  2  9 | 7  9  9 |\n",
      "| 7  6  6 | 2  7  8 | 4  1  5 |\n",
      "*---------+---------+---------*\n",
      "| 5  2  7 | 5  1  8 | 5  4  9 |\n",
      "| 1  4  9 | 6  5  4 | 4  8  6 |\n",
      "| 4  5  1 | 9  8  7 | 6  7  1 |\n",
      "*---------+---------+---------*\n",
      "| 4  9  7 | 7  3  4 | 9  1  7 |\n",
      "| 8  1  8 | 7  4  5 | 1  6  6 |\n",
      "| 3  7  8 | 7  2  9 | 6  8  5 |\n",
      "*---------+---------+---------*\n"
     ]
    }
   ],
   "source": [
    "# Generamos dos estados al azar \n",
    "state_1 = init_state(fixed_squares)\n",
    "state_2 = init_state(fixed_squares)\n",
    "\n",
    "print(\"Estado 1\")\n",
    "print_state(state_1)\n",
    "print(\"Estado 2\")\n",
    "print_state(state_2)"
   ]
  },
  {
   "cell_type": "code",
   "execution_count": 27,
   "id": "90039eaf-fae3-4a7b-bfcc-8fde416ac313",
   "metadata": {},
   "outputs": [
    {
     "name": "stdout",
     "output_type": "stream",
     "text": [
      "Estado 1\n",
      "374566933185739757414978415327715449449357896291987677499734597218745736175328684\n",
      "Estado 2\n",
      "384565991185229799766278415527518549149654486451987671497734917818745166378729685\n"
     ]
    }
   ],
   "source": [
    "# Obtenemos sus cromosomas\n",
    "chromosome_state_1 = obtain_chromosome_sudoku(state_1, obtain_all_cells())\n",
    "chromosome_state_2 = obtain_chromosome_sudoku(state_2, obtain_all_cells())\n",
    "\n",
    "print(\"Estado 1\")\n",
    "print(chromosome_state_1)\n",
    "print(\"Estado 2\")\n",
    "print(chromosome_state_2)"
   ]
  },
  {
   "cell_type": "code",
   "execution_count": 29,
   "id": "a4ed019b-24e8-4143-b1fe-f57d9215a6e7",
   "metadata": {},
   "outputs": [
    {
     "name": "stdout",
     "output_type": "stream",
     "text": [
      "Estado hijo 1\n",
      "374566933185739757414978415327715449449357896291987677499734517818745166378729685\n",
      "Estado hijo 2\n",
      "384565991185229799766278415527518549149654486451987671497734997218745736175328684\n"
     ]
    }
   ],
   "source": [
    "# Realizamos la reproducción\n",
    "chromosome_sibling_1, chromosome_sibling_2 = reproduction_sudoku(chromosome_state_1, chromosome_state_2)\n",
    "\n",
    "print(\"Estado hijo 1\")\n",
    "print(chromosome_sibling_1)\n",
    "print(\"Estado hijo 2\")\n",
    "print(chromosome_sibling_2)"
   ]
  },
  {
   "cell_type": "code",
   "execution_count": 30,
   "id": "bfb37cf8-3062-4cb4-bfe0-f8d123a4c046",
   "metadata": {},
   "outputs": [
    {
     "name": "stdout",
     "output_type": "stream",
     "text": [
      "Estado hijo 1\n",
      "*---------+---------+---------*\n",
      "| 3  7  4 | 5  6  6 | 9  3  3 |\n",
      "| 1  8  5 | 7  3  9 | 7  5  7 |\n",
      "| 4  1  4 | 9  7  8 | 4  1  5 |\n",
      "*---------+---------+---------*\n",
      "| 3  2  7 | 7  1  5 | 4  4  9 |\n",
      "| 4  4  9 | 3  5  7 | 8  9  6 |\n",
      "| 2  9  1 | 9  8  7 | 6  7  7 |\n",
      "*---------+---------+---------*\n",
      "| 4  9  9 | 7  3  4 | 5  1  7 |\n",
      "| 8  1  8 | 7  4  5 | 1  6  6 |\n",
      "| 3  7  8 | 7  2  9 | 6  8  5 |\n",
      "*---------+---------+---------*\n",
      "Estado hijo 2\n",
      "*---------+---------+---------*\n",
      "| 3  8  4 | 5  6  5 | 9  9  1 |\n",
      "| 1  8  5 | 2  2  9 | 7  9  9 |\n",
      "| 7  6  6 | 2  7  8 | 4  1  5 |\n",
      "*---------+---------+---------*\n",
      "| 5  2  7 | 5  1  8 | 5  4  9 |\n",
      "| 1  4  9 | 6  5  4 | 4  8  6 |\n",
      "| 4  5  1 | 9  8  7 | 6  7  1 |\n",
      "*---------+---------+---------*\n",
      "| 4  9  7 | 7  3  4 | 9  9  7 |\n",
      "| 2  1  8 | 7  4  5 | 7  3  6 |\n",
      "| 1  7  5 | 3  2  8 | 6  8  4 |\n",
      "*---------+---------+---------*\n"
     ]
    }
   ],
   "source": [
    "# Obtengamos a los hijos\n",
    "sibling_1 = obtain_sibling_from_chromosome_sudoku(chromosome_sibling_1, obtain_all_cells())\n",
    "sibling_2 = obtain_sibling_from_chromosome_sudoku(chromosome_sibling_2, obtain_all_cells())\n",
    "\n",
    "print(\"Estado hijo 1\")\n",
    "print_state(sibling_1)\n",
    "print(\"Estado hijo 2\")\n",
    "print_state(sibling_2)"
   ]
  },
  {
   "cell_type": "markdown",
   "id": "f32572a4-6d9e-4379-a555-0f1e80fd31ee",
   "metadata": {},
   "source": [
    "### Mutuación\n",
    "\n",
    "Un aspecto importante en los algoritmos genéticos es la aleatoriedad introducida por la mutación. La idea es que, por azar, se modifique una parte del cromosoma, de tal forma que, por simple casualidad, podamos encontrar un estado que se adapte mejor. En este caso, cuando mutamos, cambiamos una posición del cromosoma que no sea fija por un valor al azar.\n",
    "\n",
    "Para definir si se realiza o no la mutación, decidimos usar una \"temperatura\", la cual, cuanto más alta sea, mayor será la probabilidad de que el cromosoma mute. Por el contrario, cuando la temperatura sea baja, la probabilidad de mutación será menor. Implementamos algo similar a simulated annealing, en donde aceptamos la mutación si, al generar un valor aleatorio entre 0 y 1, este es menor que `exp(-1 * (1 / temperatura))`.\n",
    "\n",
    "Esto lo implementamos en la función `mutate_chromosome_sudoku_with_temperature()`. Veamos un ejemplo de esta función con uno de los hijos obtenidos y utilizando una temperatura muy alta para forzar la mutación."
   ]
  },
  {
   "cell_type": "code",
   "execution_count": 31,
   "id": "5a51c5bc-9103-41b1-ab3c-7734019d2e2d",
   "metadata": {},
   "outputs": [
    {
     "name": "stdout",
     "output_type": "stream",
     "text": [
      "Estado hijo 1\n",
      "*---------+---------+---------*\n",
      "| 3  7  4 | 5  6  6 | 9  3  3 |\n",
      "| 1  8  5 | 7  3  9 | 7  5  7 |\n",
      "| 4  1  4 | 9  7  8 | 4  1  5 |\n",
      "*---------+---------+---------*\n",
      "| 3  2  7 | 7  1  5 | 4  4  9 |\n",
      "| 4  4  9 | 3  5  7 | 8  9  6 |\n",
      "| 2  9  1 | 9  8  7 | 6  7  7 |\n",
      "*---------+---------+---------*\n",
      "| 4  9  9 | 7  3  4 | 5  1  7 |\n",
      "| 8  1  8 | 7  4  5 | 1  6  6 |\n",
      "| 3  7  8 | 7  2  9 | 6  8  5 |\n",
      "*---------+---------+---------*\n"
     ]
    }
   ],
   "source": [
    "print(\"Estado hijo 1\")\n",
    "print_state(sibling_1)"
   ]
  },
  {
   "cell_type": "code",
   "execution_count": 33,
   "id": "2f0a7f6a-20ba-41e6-8f10-e0a126f6aec2",
   "metadata": {},
   "outputs": [],
   "source": [
    "# Realizamos la mutación\n",
    "chromosome_mutated = mutate_chromosome_sudoku_with_temperature(chromosome_sibling_1, pos_fixed, temperature=100000)"
   ]
  },
  {
   "cell_type": "code",
   "execution_count": 34,
   "id": "537f8b09-664e-4a07-bfe6-66f05d68ce7f",
   "metadata": {},
   "outputs": [
    {
     "name": "stdout",
     "output_type": "stream",
     "text": [
      "Estado mutado\n",
      "*---------+---------+---------*\n",
      "| 3  7  4 | 5  6  6 | 9  3  3 |\n",
      "| 1  8  5 | 7  3  9 | 7  5  7 |\n",
      "| 4  1  4 | 9  7  8 | 4  1  5 |\n",
      "*---------+---------+---------*\n",
      "| 3  2  7 | 7  1  5 | 4  4  9 |\n",
      "| 4  4  9 | 3  5  7 | 1  9  6 |\n",
      "| 2  9  1 | 9  8  7 | 6  7  7 |\n",
      "*---------+---------+---------*\n",
      "| 4  9  9 | 7  3  4 | 5  1  7 |\n",
      "| 8  1  8 | 7  4  5 | 1  6  6 |\n",
      "| 3  7  8 | 7  2  9 | 6  8  5 |\n",
      "*---------+---------+---------*\n"
     ]
    }
   ],
   "source": [
    "# Obtengamos al hijo mutado\n",
    "sibling_mutated = obtain_sibling_from_chromosome_sudoku(chromosome_mutated, obtain_all_cells())\n",
    "\n",
    "print(\"Estado mutado\")\n",
    "print_state(sibling_mutated)"
   ]
  },
  {
   "cell_type": "markdown",
   "id": "1402b8b302abed22",
   "metadata": {
    "collapsed": false,
    "jupyter": {
     "outputs_hidden": false
    }
   },
   "source": [
    "## Implementación de Búsqueda con Algoritmos Genéticos\n",
    "\n",
    "Ya con todo lo necesario definido e implementado para el caso particular de Sudokus, armemos nuestra implementación de búsqueda con algoritmos genéticos. La última cosa que nos quedaba por definir es la función de idoneidad para determinar a los mejores, pero para esto ya contamos con nuestra función de costo.\n",
    "\n",
    "**Nota**: Todas las decisiones tomadas para el diseño, como la reproducción, la conformación del cromosoma, etc., son decisiones de diseño que son puramente arbitrarias y dependen de la creatividad del diseñador. Otras decisiones de diseño pueden dar resultados muy diferentes.\n",
    "\n",
    "Veamos la implementación, leyendo cada comentario con atención:"
   ]
  },
  {
   "cell_type": "code",
   "execution_count": 5,
   "id": "86a138da-75e6-418c-a4aa-f4191c264762",
   "metadata": {},
   "outputs": [],
   "source": [
    "import itertools"
   ]
  },
  {
   "cell_type": "code",
   "execution_count": 6,
   "id": "b0474e61-9e19-4aeb-9e84-2a06526e4661",
   "metadata": {},
   "outputs": [],
   "source": [
    "def genetic_algorithm_sudoku(initial_generation: list, fixed_squares: dict, max_iterations: int = 50, initial_temperature: float = 100) -> tuple:\n",
    "    \"\"\"\n",
    "    Realiza la optimización del Sudoku utilizando un algoritmo genético.\n",
    "\n",
    "    Args:\n",
    "        initial_generation (list): Lista con estados iniciales del Sudoku.\n",
    "        fixed_squares (dict): Diccionario que contiene las casillas fijas del Sudoku.\n",
    "        max_iterations (int, optional): El número máximo de iteraciones permitidas. Por defecto es 100.\n",
    "        initial_temperature (float, optional): La temperatura inicial para controlar la probabilidad de mutación. Por defecto es 0.1.\n",
    "\n",
    "    Returns:\n",
    "        dict: El mejor estado encontrado después de la optimización.\n",
    "        float: El costo del mejor estado encontrado\n",
    "        int: Numero indicando en que generación se encontró el mejor resultado\n",
    "    \"\"\"\n",
    "    temperature = initial_temperature\n",
    "    best_state = initial_generation[0]\n",
    "    best_cost = cost_function(best_state)\n",
    "    best_iteration = 0\n",
    "    no_changes = 0\n",
    "\n",
    "    # Determinamos el numero de la poblacion que vivirá cada generación\n",
    "    number_population = len(initial_generation)\n",
    "    current_population = initial_generation.copy()\n",
    "\n",
    "    # Obtenemos las posiciones del sudoku que no pueden mutar\n",
    "    squares = obtain_all_cells()\n",
    "    not_valid_positions = obtain_fixed_pos_in_chromosome_sudoku(fixed_squares, squares)\n",
    "\n",
    "    # Iteramos hasta max_iterations\n",
    "    for iteration in range(max_iterations):\n",
    "\n",
    "        no_changes += 1\n",
    "\n",
    "        # Para cada uno de la generación, calculamos su función de costo\n",
    "        actual_cost_list = [cost_function(state) for state in current_population]\n",
    "\n",
    "        generate_print = False\n",
    "        for index, cost in enumerate(actual_cost_list):\n",
    "            # Nos quedamos como mejor estado al que mejore el valor de costo historico\n",
    "            if cost < best_cost:\n",
    "                no_changes = 0\n",
    "                generate_print = True\n",
    "                best_state = current_population[index]\n",
    "                best_cost = cost\n",
    "                best_iteration = iteration\n",
    "\n",
    "        # Si encontramos un estado con costo 0, es que encontramos la solución.\n",
    "        # Tambien, si pasamos muchas generaciones que no mejoran el mejor costo, significa que es dificil que \n",
    "        # podamos mejorar, y terminamos la ejecución.\n",
    "        if best_cost == 0 or no_changes > 9:\n",
    "            return best_state, best_cost, best_iteration\n",
    "\n",
    "        if generate_print:\n",
    "            print(f\"El mejor costo es: {best_cost} en la iteración {iteration}\")\n",
    "\n",
    "        # Ordenamos a los estados en función del costo de menor a mayor (función de idoneidad)\n",
    "        index_list = sorted(range(len(actual_cost_list)), key=lambda x: actual_cost_list[x])\n",
    "        current_population = [current_population[k] for k in index_list]\n",
    "\n",
    "        # Nos quedamos con solo un valor de estados igual a la población inicial que pasan a reproducirse\n",
    "        # Acá extinguimos a los mas \"debiles\"\n",
    "        current_population = current_population[:number_population]\n",
    "\n",
    "        # Obtenemos los cromosomas de los estados\n",
    "        all_chromosome = [obtain_chromosome_sudoku(state, squares) for state in current_population]\n",
    "\n",
    "        # Generamos los hijos. Reproducimos a todos con todos\n",
    "        sibling_chromosomes_list = []\n",
    "        for chromosome_1, chromosome_2 in itertools.combinations(all_chromosome, 2):\n",
    "            offspring_1, offspring_2 = reproduction_sudoku(chromosome_1, chromosome_2)\n",
    "            sibling_chromosomes_list.extend([offspring_1, offspring_2])\n",
    "\n",
    "        # Vemos si algún hijo muta\n",
    "        sibling_chromosomes_list = [mutate_chromosome_sudoku_with_temperature(chromosome, not_valid_positions, temperature)\n",
    "                                    for chromosome in sibling_chromosomes_list]\n",
    "\n",
    "        # De los padres usados para reproducir, los diezmamos.\n",
    "        current_population = current_population[:number_population // 10]\n",
    "\n",
    "        # Creamos la nueva generación de estados usando el cromosoma obtenido\n",
    "        # Y los agregamos a la generación anterior diezmada. Es decir, mantenemos los mejores padres.\n",
    "        current_population += [obtain_sibling_from_chromosome_sudoku(chromosome, squares) for chromosome in\n",
    "                               sibling_chromosomes_list]\n",
    "\n",
    "    # Si terminamos las iteraciones, retornamos el mejor resultado encontrado\n",
    "    return best_state, best_cost, best_iteration"
   ]
  },
  {
   "cell_type": "markdown",
   "id": "f5b46e80-591f-44b0-b493-fb5c7b5472ce",
   "metadata": {},
   "source": [
    "Ahora, veamos si podemos encontrar la solución en una única ejecución. Para ello, vamos a llamar a una función llamada `execute_search_evolution()`, a la cual le pasamos la implementación del algoritmo. Esta función inicializa varios estados de sudoku al azar, aplica la búsqueda y verifica si se ha alcanzado una solución o no."
   ]
  },
  {
   "cell_type": "code",
   "execution_count": 7,
   "id": "f0e5773c-52bb-4ada-8781-0a97bb8b6e2e",
   "metadata": {},
   "outputs": [],
   "source": [
    "from processing import execute_search_evolution"
   ]
  },
  {
   "cell_type": "code",
   "execution_count": 8,
   "id": "55e63dee-989b-4562-b5b4-85df3907d909",
   "metadata": {},
   "outputs": [
    {
     "name": "stdout",
     "output_type": "stream",
     "text": [
      "El mejor costo es: 5.800000000000001 en la iteración 0\n",
      "El mejor costo es: 5.050000000000001 en la iteración 1\n",
      "El mejor costo es: 4.300000000000002 en la iteración 2\n",
      "El mejor costo es: 3.5000000000000013 en la iteración 3\n",
      "El mejor costo es: 3.100000000000001 en la iteración 4\n",
      "El mejor costo es: 2.600000000000001 en la iteración 5\n",
      "El mejor costo es: 2.200000000000001 en la iteración 6\n",
      "El mejor costo es: 1.7000000000000006 en la iteración 7\n",
      "El mejor costo es: 1.3 en la iteración 8\n",
      "El mejor costo es: 0.8999999999999999 en la iteración 9\n",
      "El mejor costo es: 0.6 en la iteración 10\n",
      "El mejor costo es: 0.4 en la iteración 11\n",
      "El mejor costo es: 0.2 en la iteración 13\n"
     ]
    }
   ],
   "source": [
    "solution_bool, best_state, best_generation, _ = execute_search_evolution(0, genetic_algorithm_sudoku, fixed_squares, number_generation_initial=200)"
   ]
  },
  {
   "cell_type": "code",
   "execution_count": 9,
   "id": "f2dfa72f-b8d6-4dcf-babe-51b96965e51d",
   "metadata": {},
   "outputs": [
    {
     "name": "stdout",
     "output_type": "stream",
     "text": [
      "Valor del mejor costo encontrado: 0.2, el mejor estado se encontró en la 13 generación\n",
      "Mejor estado encontrado:\n",
      "*---------+---------+---------*\n",
      "| 3  7  4 | 5  6  1 | 9  2  8 |\n",
      "| 1  8  5 | 4  2  9 | 7  6  3 |\n",
      "| 9  6  2 | 3  7  8 | 4  1  5 |\n",
      "*---------+---------+---------*\n",
      "| 8  2  3 | 6  1  7 | 5  4  9 |\n",
      "| 7  4  9 | 2  5  3 | 8  3  1 |\n",
      "| 6  5  1 | 9  8  4 | 6  7  2 |\n",
      "*---------+---------+---------*\n",
      "| 4  9  6 | 8  3  2 | 1  5  7 |\n",
      "| 2  1  8 | 7  4  5 | 3  9  6 |\n",
      "| 5  3  7 | 1  9  6 | 2  8  4 |\n",
      "*---------+---------+---------*\n"
     ]
    }
   ],
   "source": [
    "print(f\"Valor del mejor costo encontrado: {cost_function(best_state)}, el mejor estado se encontró en la {best_generation} generación\")\n",
    "\n",
    "print(\"Mejor estado encontrado:\")\n",
    "print_state(best_state)"
   ]
  },
  {
   "cell_type": "code",
   "execution_count": 10,
   "id": "a26ed1f8-f240-4932-8c02-299e41af3082",
   "metadata": {},
   "outputs": [
    {
     "name": "stdout",
     "output_type": "stream",
     "text": [
      "El estado encontrado es solución?\n",
      "El estado que encontramos no es solución\n"
     ]
    }
   ],
   "source": [
    "print(\"El estado encontrado es solución?\")\n",
    "if solution_bool:\n",
    "    print(\"El estado que encontramos verifica que realmente es la solución\")\n",
    "else:\n",
    "    print(\"El estado que encontramos no es solución\")"
   ]
  },
  {
   "cell_type": "markdown",
   "id": "9ecff94b-2fbf-4212-9c99-818807609c02",
   "metadata": {},
   "source": [
    "Vemos que no se encontró la solución. El algoritmo estuvo muy cerca, alcanzando un costo bajo y utilizando pocas generaciones, pero llegó a un punto en el que solo un par de números estaban mal ubicados (con solo 4 penalizaciones en las filas 5 y 6). El problema en esta implementación es que, rápidamente, los estados de bajo costo dominan las generaciones y, para salir de este estado de bajo costo, solo sería posible mediante una mutación que modifique justo algunos de esos valores. Sin embargo, esto es improbable, ya que solo se modifica un solo valor y, aunque este valor se ubique en el lugar correcto, puede seguir teniendo la misma penalización.\n",
    "\n",
    "Se podrían implementar dos mejoras en esta implementación, que se dejan como ejercicio:\n",
    "\n",
    "- Implementar un segundo tipo de mutación en el que, en lugar de cambiar un valor al azar, se intercambian números de posición.\n",
    "- Entre un cierto número de generaciones, introducir nuevos estados totalmente formados al azar, o permitir que sobrevivan estados con alto costo, de tal manera que se introduzca variedad.\n",
    "\n",
    "Como prueba final, vamos a ejecutar la búsqueda 100 veces y verificar cuántas veces llega a una solución. Para acelerar el proceso, aprovecharemos que tenemos **CPUs multinúcleo**.\n",
    "\n",
    "Para ello, vamos a llamar a la función `parallel_sudoku_search()`, a la cual le pasaremos la función de búsqueda y el número de iteraciones que queremos realizar, indicandole que estamos usando un algoritmo de búsqueda que usa multiple estados."
   ]
  },
  {
   "cell_type": "code",
   "execution_count": 11,
   "id": "945fcc19-eff4-41cd-92a7-0433d35adecd",
   "metadata": {},
   "outputs": [],
   "source": [
    "from processing import parallel_sudoku_search\n",
    "\n",
    "# Debemos llamar a la función de busqueda desde un archivo .py sino los threads no pueden recibir a la función desde la notebook directamente.\n",
    "from search_methods import genetic_algorithm_sudoku"
   ]
  },
  {
   "cell_type": "code",
   "execution_count": 12,
   "id": "504b6289-a136-42c6-a2fb-5d828b1a83f7",
   "metadata": {},
   "outputs": [
    {
     "data": {
      "application/vnd.jupyter.widget-view+json": {
       "model_id": "20b656ac76af471fa9bad8ef8846f6d6",
       "version_major": 2,
       "version_minor": 0
      },
      "text/plain": [
       "  0%|          | 0/100 [00:00<?, ?it/s]"
      ]
     },
     "metadata": {},
     "output_type": "display_data"
    }
   ],
   "source": [
    "results = parallel_sudoku_search(genetic_algorithm_sudoku, fixed_squares, max_iterations=100, generation_method=True, number_generation_initial=200)"
   ]
  },
  {
   "cell_type": "markdown",
   "id": "0d5e397d-9586-4799-a582-08a50d09bcf0",
   "metadata": {},
   "source": [
    "Veamos si algún proceso encontró la solución:"
   ]
  },
  {
   "cell_type": "code",
   "execution_count": 13,
   "id": "9ebe25b4-a66b-4bbf-85ab-95545dcf2b0a",
   "metadata": {},
   "outputs": [
    {
     "name": "stdout",
     "output_type": "stream",
     "text": [
      "*---------+---------+---------*\n",
      "| 3  7  4 | 5  6  1 | 9  2  8 |\n",
      "| 1  8  5 | 4  2  9 | 7  6  3 |\n",
      "| 9  6  2 | 3  7  8 | 4  1  5 |\n",
      "*---------+---------+---------*\n",
      "| 8  2  7 | 6  1  3 | 5  4  9 |\n",
      "| 6  4  9 | 2  5  7 | 8  3  1 |\n",
      "| 5  3  1 | 9  8  4 | 6  7  2 |\n",
      "*---------+---------+---------*\n",
      "| 4  9  6 | 8  3  2 | 1  5  7 |\n",
      "| 2  1  8 | 7  4  5 | 3  9  6 |\n",
      "| 7  5  3 | 1  9  6 | 2  8  4 |\n",
      "*---------+---------+---------*\n",
      "En la iteración 98 se encontró la solución.\n"
     ]
    }
   ],
   "source": [
    "show_solution = True\n",
    "for res in results:\n",
    "    # Acá nos devuelve el booleano de si encontró la solución o no\n",
    "    is_solution = res[0]\n",
    "    # Este es el últimos estado encontrado en esta iteración\n",
    "    last_state = res[1]\n",
    "    # Este es el estado desde donde partio\n",
    "    initial_state = res[2]\n",
    "    # Este es el identificador de cual iteración se obtuvo la solución\n",
    "    process_id = res[-1]\n",
    "\n",
    "    if is_solution:\n",
    "        if show_solution:\n",
    "            print_state(last_state)\n",
    "            show_solution = False\n",
    "        print(f\"En la iteración {process_id} se encontró la solución.\")"
   ]
  },
  {
   "cell_type": "markdown",
   "id": "7c51d079-e842-4150-bc3e-4febc08ed1d1",
   "metadata": {},
   "source": [
    "Vemos que de las 100 ejecuciones, solo una vez se encontró la solución, mientras que en el caso de **Local Beam** los resultados fueron mucho más fructíferos. La forma en que obtenemos los vecinos resulta más apropiada que los métodos de reproducción y mutación implementados aquí.\n",
    "\n",
    "Viendo el lado positivo, este comportamiento revela en qué aspectos es fuerte este algoritmo. Rápidamente encuentra mínimos, incluso más bajos que los otros algoritmos cuando estos fallan. Sin embargo, no es tan bueno para encontrar el mejor caso, como en el Sudoku, donde solo tenemos una única solución. Si el problema es más general, por ejemplo, cuando buscamos un estado que cumpla con algún criterio de optimización (como minimizar parámetros, error, energía o costo por debajo de un umbral), este algoritmo tiene mayor utilidad.\n",
    "\n",
    "Siempre con la desventaja del gran trabajo de diseño previo que se requiere."
   ]
  }
 ],
 "metadata": {
  "kernelspec": {
   "display_name": "Python 3 (ipykernel)",
   "language": "python",
   "name": "python3"
  },
  "language_info": {
   "codemirror_mode": {
    "name": "ipython",
    "version": 3
   },
   "file_extension": ".py",
   "mimetype": "text/x-python",
   "name": "python",
   "nbconvert_exporter": "python",
   "pygments_lexer": "ipython3",
   "version": "3.10.14"
  }
 },
 "nbformat": 4,
 "nbformat_minor": 5
}
