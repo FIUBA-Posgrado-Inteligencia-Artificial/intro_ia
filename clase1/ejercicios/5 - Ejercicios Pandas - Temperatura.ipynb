{
 "cells": [
  {
   "cell_type": "markdown",
   "id": "d5c7c760",
   "metadata": {},
   "source": [
    "# Temperatura\n",
    "Inteligencia Artificial - Facundo A. Lucianna - CEIA - FIUBA\n",
    "\n",
    "En este ejercicio estaremos explorando el archivo *temperature.csv* con datos de ciudades de países de todo el mundo. Fuente: [Kaggle](https://www.kaggle.com/datasets/sudalairajkumar/daily-temperature-of-major-cities) \n",
    "\n",
    "OBS: En las celdas de procesamiento si ves ___ es para que reemplaces.\n",
    "\n",
    "---\n",
    "\n",
    "## Configuración y eliminación de índices\n",
    "\n",
    "Pandas permite designar columnas como un índice. Esto permite un código más limpio al tomar subconjuntos (además de proporcionar una búsqueda más eficiente en algunas circunstancias).\n",
    "\n",
    "1. Importa `pandas` como `pd` "
   ]
  },
  {
   "cell_type": "code",
   "execution_count": null,
   "id": "1f6aae64",
   "metadata": {},
   "outputs": [],
   "source": []
  },
  {
   "cell_type": "markdown",
   "id": "4a4fadb1",
   "metadata": {},
   "source": [
    "2. Lea el csv en un DataFrame y llame al DataFrame `temperatures`"
   ]
  },
  {
   "cell_type": "code",
   "execution_count": null,
   "id": "04303bc9",
   "metadata": {},
   "outputs": [],
   "source": [
    "___ = pd.___(\"./temperatures.csv\")"
   ]
  },
  {
   "cell_type": "markdown",
   "id": "080f3b44",
   "metadata": {},
   "source": [
    "3. Vea la cabecera de `temperatures`. Ademas, explore la información sobre columnas y valores faltantes."
   ]
  },
  {
   "cell_type": "code",
   "execution_count": null,
   "id": "d9ce060b",
   "metadata": {},
   "outputs": [],
   "source": []
  },
  {
   "cell_type": "code",
   "execution_count": null,
   "id": "e422e46c",
   "metadata": {},
   "outputs": [],
   "source": []
  },
  {
   "cell_type": "markdown",
   "id": "6da3d454",
   "metadata": {},
   "source": [
    "4. Cambie el índice de temperatures usando la columna `\"city\"`, asignándolo a `temperatures_ind`."
   ]
  },
  {
   "cell_type": "code",
   "execution_count": null,
   "id": "95039a48",
   "metadata": {},
   "outputs": [],
   "source": [
    "___ = ___.set_index([\"city\"])"
   ]
  },
  {
   "cell_type": "markdown",
   "id": "8b29dc8c",
   "metadata": {},
   "source": [
    "5. Resetee el indice de `temperatures_ind`  sin perder la columna `city`."
   ]
  },
  {
   "cell_type": "code",
   "execution_count": null,
   "id": "888fbc11",
   "metadata": {},
   "outputs": [],
   "source": [
    "___.reset_index()"
   ]
  },
  {
   "cell_type": "markdown",
   "id": "9e3a314a",
   "metadata": {},
   "source": [
    "6. Resetee el indice de `temperatures_ind`  perdiendo la columna `\"city\"`."
   ]
  },
  {
   "cell_type": "code",
   "execution_count": null,
   "id": "2c295982",
   "metadata": {},
   "outputs": [],
   "source": [
    "___.reset_index(drop=True)"
   ]
  },
  {
   "cell_type": "markdown",
   "id": "6fb084ef",
   "metadata": {},
   "source": [
    "---\n",
    "\n",
    "## Slicing usando .loc[]\n",
    "\n",
    "`.loc[]` es un método de creación de subconjuntos que acepta valores de índice. Cuando se le pasa un solo argumento, tomará un subconjunto de filas y por defecto a todas las columnas.\n",
    "\n",
    "1. Crea una lista llamada `cities` que contenga a `'Paris'` y  `'Bordeaux'`"
   ]
  },
  {
   "cell_type": "code",
   "execution_count": null,
   "id": "ad3fedc4",
   "metadata": {},
   "outputs": [],
   "source": [
    "__ = [__, __]"
   ]
  },
  {
   "cell_type": "markdown",
   "id": "41245f49",
   "metadata": {},
   "source": [
    "2. En `temperatures` use filtrado de columnas para que se filtren a las filas en donde la columna `\"city\"` tome los valores de la lista `\"cities\"`."
   ]
  },
  {
   "cell_type": "code",
   "execution_count": null,
   "id": "529274f4",
   "metadata": {},
   "outputs": [],
   "source": [
    "__[__[\"city\"].isin(__)]"
   ]
  },
  {
   "cell_type": "markdown",
   "id": "c93c00d7",
   "metadata": {},
   "source": [
    "3. Use `.loc[]` para filtras en `temperatures_ind` para las filas en donde el indice coincide con las ciudades de la lista `cities`."
   ]
  },
  {
   "cell_type": "code",
   "execution_count": null,
   "id": "87fff640",
   "metadata": {},
   "outputs": [],
   "source": [
    "temperatures_ind.loc[__]"
   ]
  },
  {
   "cell_type": "markdown",
   "id": "959648c4",
   "metadata": {},
   "source": [
    "---\n",
    "\n",
    "## Índice de multi-niveles\n",
    "\n",
    "Los índices también se pueden crear a partir de varias columnas, formando un índice de varios niveles (a veces denominado índice jerárquico).\n",
    "\n",
    "El beneficio es que los índices multinivel hacen que sea más natural razonar sobre variables categóricas anidadas. Por ejemplo, en un ensayo clínico, podes tener grupos de control y de tratamiento. Entonces cada sujeto de prueba pertenece a uno u otro grupo, y podemos decir que un sujeto de prueba está anidado dentro del grupo de tratamiento. De manera similar, en el conjunto de datos de temperatura, la ciudad está ubicada en el país, por lo que podemos decir que una ciudad está anidada dentro del país.\n",
    "\n",
    "El principal inconveniente es que el código para manipular índices es diferente del código para manipular columnas, por lo que debe aprender dos sintaxis y realizar un seguimiento de cómo se representan sus datos.\n",
    "\n",
    "1. Establezca el índice de `temperatures` en las columnas `\"country\"` y `\"city\"`; asígnelo a `temperatures_ind`"
   ]
  },
  {
   "cell_type": "code",
   "execution_count": null,
   "id": "4065f012",
   "metadata": {},
   "outputs": [],
   "source": [
    "___ = temperatures.set_index(__)"
   ]
  },
  {
   "cell_type": "markdown",
   "id": "8d23b1ca",
   "metadata": {},
   "source": [
    "2. Arme una lista de tuplas. Cada tupla debe contener un país y ciudad: `\"Argentina\"/\"Buenos Aires\"` y `\"Brazil\"/\"Brasilia\"`. Llame a la lista de tupla como `rows_to_keep`."
   ]
  },
  {
   "cell_type": "code",
   "execution_count": null,
   "id": "ba530481",
   "metadata": {},
   "outputs": [],
   "source": [
    "rows_to_keep = [(\"Argentina\", ___), ___]"
   ]
  },
  {
   "cell_type": "markdown",
   "id": "205b8120",
   "metadata": {},
   "source": [
    "3. Filtre `temperatures_ind` usando `rows_to_keep` usando `.loc[]`. Imprima el resultado. "
   ]
  },
  {
   "cell_type": "code",
   "execution_count": null,
   "id": "39d00e71",
   "metadata": {},
   "outputs": [],
   "source": [
    "temperatures_ind.___"
   ]
  },
  {
   "cell_type": "markdown",
   "id": "4ae25827",
   "metadata": {},
   "source": [
    "---\n",
    "\n",
    "## Ordenando por valores de índices\n",
    "\n",
    "En el notebook *Homeless*, se cambió el orden de las filas usando `.sort_values()`. También se puede ordenar por elementos del índice. Para esto, necesita usar `.sort_index()`.\n",
    "\n",
    "La sintaxis es muy similar a la de `.sort_values()`:\n",
    "\n",
    "| Ordenar usando... | Sintaxis  |\n",
    "|---|---|\n",
    "| todos los índices  | `df.sort_index()`   |\n",
    "| usando algunos elementos del índice  | `df.sort_index(level=[\"peso\"])`  |\n",
    "| cambiando a modo descendente  | `df.sort_index(ascending=False)`  |\n",
    "| cambiando a modo descendente en uno de los niveles jerárquicos  | `df.sort_index(level=[\"altura\",\"peso\"], ascending=[False, True])`  |\n",
    "\n",
    "1. Ordene a `temperatures_ind` por los valores del índice."
   ]
  },
  {
   "cell_type": "code",
   "execution_count": null,
   "id": "c788502d",
   "metadata": {},
   "outputs": [],
   "source": [
    "___.sort_index()"
   ]
  },
  {
   "cell_type": "markdown",
   "id": "27fc07a8",
   "metadata": {},
   "source": [
    "2. Ordene a `temperatures_ind` por los valores de índice en el nivel de `\"city\"`."
   ]
  },
  {
   "cell_type": "code",
   "execution_count": null,
   "id": "8b8f0ce7",
   "metadata": {},
   "outputs": [],
   "source": [
    "temperatures_ind.___(level=[___])"
   ]
  },
  {
   "cell_type": "markdown",
   "id": "3ffb84ce",
   "metadata": {},
   "source": [
    "3. Ordene a `temperatures_ind` por `country` ascendente y luego `city` descendente."
   ]
  },
  {
   "cell_type": "code",
   "execution_count": null,
   "id": "c1e686e8",
   "metadata": {},
   "outputs": [],
   "source": [
    "___.___(___, ascending=[__, __])"
   ]
  },
  {
   "cell_type": "markdown",
   "id": "8b422d4b",
   "metadata": {},
   "source": [
    "---\n",
    "\n",
    "## Slicing más avanzado\n",
    "\n",
    "Slicing en Python, tal como vimos, permite seleccionar elementos consecutivos de un objeto utilizando la sintaxis `first:last`. Los DataFrames se pueden dividir por valores de índice o por número de fila/columna. Viendo el primer caso:\n",
    "\n",
    "Comparando cuando hacemos slicing de listas, hay cosa que debemos tener en cuenta, sobretodo si tenemos índices jerárquicos:\n",
    "\n",
    "Solo puede dividir un índice si el índice está ordenado (usando `.sort_index()`).\n",
    "Para cortar en el nivel exterior, `first:last` pueden ser strings.\n",
    "Para cortar en niveles internos, `first:last` deben ser tuplas.\n",
    "\n",
    "Trabajando con `temperatures_ind`\n",
    "\n",
    "1. Ordenar el índice de `temperatures_ind`"
   ]
  },
  {
   "cell_type": "code",
   "execution_count": null,
   "id": "b91def99",
   "metadata": {},
   "outputs": [],
   "source": [
    "temperatures_ind.___(inplace=True)"
   ]
  },
  {
   "cell_type": "markdown",
   "id": "5f302036",
   "metadata": {},
   "source": [
    "2. Use el corte con `.loc[]` para obtener estos subconjuntos:\n",
    "    \n",
    "A. de `\"Pakistan\"` a `\"Russia\"`"
   ]
  },
  {
   "cell_type": "code",
   "execution_count": null,
   "id": "bc1b39e7",
   "metadata": {},
   "outputs": [],
   "source": [
    "temperatures_ind.__[\"Pakistan\":___]"
   ]
  },
  {
   "cell_type": "markdown",
   "id": "2a5dd48c",
   "metadata": {},
   "source": [
    "B. de `\"Islamabad\"` a `\"Moscow\"` (Esto va a devolver algo sin sentido)"
   ]
  },
  {
   "cell_type": "code",
   "execution_count": null,
   "id": "3c9cd819",
   "metadata": {},
   "outputs": [],
   "source": [
    "__.loc[__:__]"
   ]
  },
  {
   "cell_type": "markdown",
   "id": "cd4488e0",
   "metadata": {},
   "source": [
    "C. de `(\"Pakistan\", \"Islamabad\")` a `(\"Russia\", \"Moscow\")`"
   ]
  },
  {
   "cell_type": "code",
   "execution_count": null,
   "id": "1bc205a4",
   "metadata": {},
   "outputs": [],
   "source": []
  },
  {
   "cell_type": "markdown",
   "id": "581ab1a6",
   "metadata": {},
   "source": [
    "---\n",
    "\n",
    "## Slicing tanto en filas como en columnas\n",
    "\n",
    "Hasta ahora has dividido el DataFrame en filas o columnas, pero a menudo es natural dividir en ambas dimensiones a la vez. Es decir, al pasar dos argumentos a `.loc[]`, puede crear subconjuntos por filas y columnas de una sola vez.\n",
    "\n",
    "Trabajando con `temperatures_ind`\n",
    "\n",
    "1. Utilice `.loc[]` para crear subconjuntos de filas desde `(\"India\", \"Delhi\")` hasta `(\"Indonesia\", \"Jakarta\")`."
   ]
  },
  {
   "cell_type": "code",
   "execution_count": null,
   "id": "88c08c33",
   "metadata": {},
   "outputs": [],
   "source": []
  },
  {
   "cell_type": "markdown",
   "id": "46d84507",
   "metadata": {},
   "source": [
    "2. Use `.loc[]` para crear subconjuntos de columnas desde `\"day\"` hasta `\"avg_temp_F\"`."
   ]
  },
  {
   "cell_type": "code",
   "execution_count": null,
   "id": "a52e32df",
   "metadata": {},
   "outputs": [],
   "source": [
    "temperatures_ind.loc[:, ___:___]"
   ]
  },
  {
   "cell_type": "markdown",
   "id": "bf58296e",
   "metadata": {},
   "source": [
    "3. Use `.loc[]` para crear el subconjunto desde `(\"India\", \"Delhi\")` hasta `(\"Indonesia\", \"Jakarta\")`, y desde `\"day\"` hasta `\"avg_temp_F\"`"
   ]
  },
  {
   "cell_type": "code",
   "execution_count": null,
   "id": "7444d108",
   "metadata": {},
   "outputs": [],
   "source": []
  },
  {
   "cell_type": "markdown",
   "id": "b9e73c9a",
   "metadata": {},
   "source": [
    "---\n",
    "\n",
    "## Creando filas de fechas\n",
    "\n",
    "Pandas proporciona un objeto DateTime con una precisión de nanosegundos llamado Timestamp para trabajar con valores de fecha y hora. Este objeto nos da la posibilidad de incorporarlo a DataFrames para realizar operaciones avanzadas de fechas sin preocuparnos de pormenores propios de las fechas (por ejemplo, podemos aplicar filtrados que teniendo solo nos quedemos con fechas con dia laborales, o despreocuparse si un año es bisiesto o no). \n",
    "\n",
    "La forma de convertir o crear una columna en una que utilice Timestamp, debemos usar `pd.to_datetime()`. `pd.to_datetime()` acepta diferentes Series, tales como formadas por strings, enteros, o combinación de columnas con enteros: \n",
    "\n",
    "``` Python\n",
    "pd.to_datetime(df[\"date_as_str\"])\n",
    "```\n",
    "\n",
    "En los casos de strings, las fechas deben estar en algún formato lógico y consistente. Pandas va a resolver la mayoría de los casos, pero llegado al caso se puede especificar el formato:\n",
    "\n",
    "``` Python\n",
    "pd.to_datetime(df[\"date_as_str\"], format=\"%Y-%m-%d %H:%M:%S\")\n",
    "```\n",
    "\n",
    "En general para evitar problemas, se recomienda utilizar el formato de fechas [ISO 8601](https://es.wikipedia.org/wiki/ISO_8601).\n",
    " \n",
    "Si tenemos números enteros,\n",
    "\n",
    "``` Python\n",
    "pd.to_datetime(df[\"date_as_int\"], unit='s')\n",
    "```\n",
    "\n",
    "Va a considerar a los enteros en segundos, y a una distancia del tiempo de [Unix](https://www.unixtimestamp.com/) (`1970-01-01`). \n",
    "\n",
    "OBS: El concepto de Unix es similar a la referencia del nacimiento de cristo.\n",
    "\n",
    "Si tenemos múltiples columnas desagregado año, mes, dia, hora, minutos, etc:\n",
    "\n",
    "``` Python\n",
    "pd.to_datetime(df[[\"year\", \"month\",\"day\"]])\n",
    "```\n",
    "\n",
    "Trabajando con `temperature`\n",
    "\n",
    "1. Cree la columna `\"date\"` en el DataFrame `temperature` que sea formato timestamp utilizando las columnas `\"year\"`, `\"month\"` y `\"day\"`"
   ]
  },
  {
   "cell_type": "code",
   "execution_count": null,
   "id": "80fbfb9d",
   "metadata": {},
   "outputs": [],
   "source": [
    "temperature[___] = pd.to_datetime(___[[\"year\", ___, ___]])"
   ]
  },
  {
   "cell_type": "markdown",
   "id": "b503ed8b",
   "metadata": {},
   "source": [
    "---\n",
    "\n",
    "## Slicing series de tiempo\n",
    "\n",
    "Hacer slicing de series de tiempo es útil para series de tiempo, ya que es común querer filtrar los datos dentro de un rango de fechas. Lo importante a la hora de filtrar es utilizar el formato *ISO 8601*, es decir, `\"yyyy-mm-dd\"` para año-mes-día, `\"yyyy-mm\"` para año-mes y `\"yyyy\"` para año.\n",
    "\n",
    "Trabajando con `temperature`\n",
    "\n",
    "1. Use filtrado por condiciones y la fecha completa `\"yyyy-mm-dd\"` en temperature para recortar las filas que van desde principio del 2010 a finales de 2011. Muestre el resultado."
   ]
  },
  {
   "cell_type": "code",
   "execution_count": null,
   "id": "8b31e19d",
   "metadata": {},
   "outputs": [],
   "source": [
    "___[(___[\"date\"] >= \"2010-___-___\") & ___]"
   ]
  },
  {
   "cell_type": "markdown",
   "id": "92549fe7",
   "metadata": {},
   "source": [
    "2. Establezca como índice de `temperature` a la columna de `\"date\"` y ordénelo. Asignelo a `temperatures_ind`."
   ]
  },
  {
   "cell_type": "code",
   "execution_count": null,
   "id": "a62c27e5",
   "metadata": {},
   "outputs": [],
   "source": []
  },
  {
   "cell_type": "markdown",
   "id": "429506f6",
   "metadata": {},
   "source": [
    "3. Filtre usando `.loc[]` a `temperatures_ind` para las filas que van desde 2010 a 2011."
   ]
  },
  {
   "cell_type": "code",
   "execution_count": null,
   "id": "a77470bc",
   "metadata": {},
   "outputs": [],
   "source": [
    "___.loc[\"2010\":___]"
   ]
  },
  {
   "cell_type": "markdown",
   "id": "f1d98524",
   "metadata": {},
   "source": [
    "4. Filtre usando `.loc[]` a `temperatures_ind` para las filas que van desde agosto de 2010 a febrero de 2011."
   ]
  },
  {
   "cell_type": "code",
   "execution_count": null,
   "id": "8f31f137",
   "metadata": {},
   "outputs": [],
   "source": [
    "___.loc[___:\"2011-__\"]"
   ]
  },
  {
   "cell_type": "markdown",
   "id": "3c53937f",
   "metadata": {},
   "source": [
    "----\n",
    "\n",
    "## Slicing por número de fila/columna\n",
    "\n",
    "Las formas más comunes de hacer slicing de filas son las formas que hemos visto anteriormente: usando una condición booleana o mediante etiquetas de índice. Sin embargo, ocasionalmente también es útil pasar números de fila.\n",
    "\n",
    "Esto se hace usando `.iloc[]`, y al igual que `.loc[]`, puede tomar dos argumentos para permitirle dividir por filas y columnas.\n",
    "\n",
    "Use `.iloc[]` en `temperatures` para tomar subconjuntos.\n",
    "\n",
    "1. Obtenga la fila 23, columna 2 (posiciones de índice 22 y 1)."
   ]
  },
  {
   "cell_type": "code",
   "execution_count": null,
   "id": "01355573",
   "metadata": {},
   "outputs": [],
   "source": [
    "___.iloc[___, ___]"
   ]
  },
  {
   "cell_type": "markdown",
   "id": "c81d06c6",
   "metadata": {},
   "source": [
    "2. Obtenga las primeras 5 filas (posiciones de índice 0 a 5)."
   ]
  },
  {
   "cell_type": "code",
   "execution_count": null,
   "id": "540679d9",
   "metadata": {},
   "outputs": [],
   "source": [
    "___.iloc[:___]"
   ]
  },
  {
   "cell_type": "markdown",
   "id": "1f3423f6",
   "metadata": {},
   "source": [
    "3. Obtenga todas las filas, columnas 3 y 4 (posiciones de índice 2 a 4)."
   ]
  },
  {
   "cell_type": "code",
   "execution_count": null,
   "id": "beeb276e",
   "metadata": {},
   "outputs": [],
   "source": [
    "___.iloc[___, ___:___]"
   ]
  },
  {
   "cell_type": "markdown",
   "id": "51c1bbd0",
   "metadata": {},
   "source": [
    "4. Obtenga las primeras 5 filas, columnas 3 y 4."
   ]
  },
  {
   "cell_type": "code",
   "execution_count": null,
   "id": "fc6e886b",
   "metadata": {},
   "outputs": [],
   "source": []
  },
  {
   "cell_type": "markdown",
   "id": "642f4654",
   "metadata": {},
   "source": [
    "----\n",
    "\n",
    "## Transformando tipos de variables\n",
    "\n",
    "Un problema típico es que una columna que deberían ser valores numéricos sean strings. Entonces al hacer sumas conducen a la concatenación de strings, no a resultados numéricos.\n",
    "\n",
    "Con el atributo `.dtypes` podemos ver el tipo de nuestra columnas. Ademas, podemos cambiar el tipo usando el metodo `.astype()` y en el paréntesis podemos especificar que tipo de variable que queremos convertir.\n",
    "\n",
    "`df.dtypes` -> Nos devuelve los tipos de cada columnas \n",
    "\n",
    "Cambiamos el tipo de variable:\n",
    "\n",
    "``` Python\n",
    "df[\"peso\"] = df[\"peso\"].astype(int)\n",
    "```\n",
    "\n",
    "En nuesto `temperatures` vamos a realizar lo siguiente:\n",
    "\n",
    "1. Convierta la columna `\"avg_temp_F\"` en tipo string (`str`) y guárdelo en la columna `\"avg_temp_F_as_string\"`.\n"
   ]
  },
  {
   "cell_type": "code",
   "execution_count": null,
   "id": "541652c8",
   "metadata": {},
   "outputs": [],
   "source": [
    "temperatures[___] = temperatures[___].astype(___)"
   ]
  },
  {
   "cell_type": "markdown",
   "id": "41ddaeea",
   "metadata": {},
   "source": [
    "2. Usando `.loc[]`, sume las primeras dos filas de la columna `\"avg_temp_F\"`."
   ]
  },
  {
   "cell_type": "code",
   "execution_count": null,
   "id": "3f4cec9f",
   "metadata": {},
   "outputs": [],
   "source": [
    "temperatures.loc[0, ___] + ___"
   ]
  },
  {
   "cell_type": "markdown",
   "id": "24f16f13",
   "metadata": {},
   "source": [
    "3. Usando `.loc[]`, sume las primeras dos filas de la columna `\"avg_temp_F_as_string\"`."
   ]
  },
  {
   "cell_type": "markdown",
   "id": "727e1673",
   "metadata": {},
   "source": [
    "¿Qué pasa en cada caso? ¿Cuál de los dos casos es la opción correcta para este problema?\n",
    "\n",
    "----\n",
    "\n",
    "## Transformando avanzadas\n",
    "\n",
    "Recordando el notebook *Homeless*, uno no está atascado únicamente con los datos que provienen del Dataset. Se pueden crear columnas desde cero, pero también, tal como vimos de clase, es común obtenerlas de otras columnas.\n",
    "\n",
    "Si vemos, el DataFrame `temperatures`, la temperatura está en grados *Fahrenheit*, podemos cambiar las unidades de temperatura ([Link con los tipos de conversiones](https://www.how-to-study.com/metodos-de-estudio/escalas-de-temperatura.asp)):\n",
    "\n",
    "1. Convierta los grados de Fahrenheit a Centigrados y guardelo en la columna `\"avg_temp_C\"`."
   ]
  },
  {
   "cell_type": "code",
   "execution_count": null,
   "id": "043f89a2",
   "metadata": {},
   "outputs": [],
   "source": [
    "temperatures[\"avg_temp_C\"] = "
   ]
  },
  {
   "cell_type": "markdown",
   "id": "b42f1d16",
   "metadata": {},
   "source": [
    "2. Convierta los grados de Fahrenheit a Kelvin y guardelo en la columna `\"avg_temp_K\"`."
   ]
  },
  {
   "cell_type": "code",
   "execution_count": null,
   "id": "5247e762",
   "metadata": {},
   "outputs": [],
   "source": []
  },
  {
   "cell_type": "markdown",
   "id": "7f10b1a8",
   "metadata": {},
   "source": [
    "3. Realice un slicing, filtrando a `\"city\"` con `\"Buenos Aires\"` y vea los tres tipos de grados obtenidos para esa ciudad."
   ]
  },
  {
   "cell_type": "code",
   "execution_count": null,
   "id": "7789778b",
   "metadata": {},
   "outputs": [],
   "source": []
  },
  {
   "cell_type": "markdown",
   "id": "18645010",
   "metadata": {},
   "source": [
    "---\n",
    "\n",
    "## Buscando duplicados\n",
    "\n",
    "Hay situaciones en las que nuestra información puede aparecer duplicada, o hacemos transformaciones que nos terminan duplicando la información. \n",
    "\n",
    "Pandas nos da varios métodos para manejar estos datos:\n",
    "\n",
    "`.duplicated()` el cual nos retorna una Serie de booleanos. Esto se puede usar en transformaciones o en `.loc[]`. \n",
    "\n",
    "``` Python\n",
    "df.duplicated() # Nos devuelve una serie de booleanos indicando si está duplicado o no.\n",
    "\n",
    "df[df.duplicated()] # Filtra y obtiene todas las filas que están duplicadas.\n",
    "\n",
    "df.duplicated(subset=[\"peso\", \"altura\"]) # Nos devuelve una serie de booleanos indicando si está duplicado o no, pero solamente se fija la columnas \"peso\" y \"altura\".\n",
    "```\n",
    "\n",
    "Si queremos eliminar a los duplicados y solo quedarmos con un solo valor, podemos usar `.duplicated()` combinandolo con `.loc[]` o `.drop_duplicated()`:\n",
    "\n",
    "``` Python\n",
    "df.loc[df.duplicated(), :] #Devuelve un dataframe sin duplicados. Por defecto se queda con los primeros valores que encuentre.\n",
    "\n",
    "df.loc[df.duplicated(subset=[\"peso\", \"altura\"]), :]  #Devuelve un dataframe sin duplicados de las columnas \"peso\" y \"altura\".\n",
    "\n",
    "df.loc[df.duplicated(keep=\"last\"), :] #Devuelve un dataframe sin duplicados. En este caso, se queda con la última ocurrencia.\n",
    "\n",
    "df.drop_duplicates() #Devuelve un dataframe sin duplicados. Por defecto se queda con los primeros valores que encuentre.\n",
    "\n",
    "df.drop_duplicates() #Devuelve un dataframe sin duplicados. Por defecto se queda con los primeros valores que encuentre.\n",
    "\n",
    "df.drop_duplicates(subset=[\"peso”, “altura\"]) #Devuelve un dataframe sin duplicados de las columnas \"peso\" y \"altura\".\n",
    "\n",
    "df.drop_duplicates(keep=\"last\") #Devuelve un dataframe sin duplicados. En este caso, se queda con la última ocurrencia.\n",
    "\n",
    "df.drop_duplicates(inplace=True) #Quita de df los duplicados.\n",
    "```\n",
    "\n",
    "En `temperature` hay algunas filas que se repiten (es decir, presentan la misma información):\n",
    "\n",
    "1. Filtre el DataFrame a las filas duplicadas de `temperature` y asígnelo a `temperature_dup`\n"
   ]
  },
  {
   "cell_type": "code",
   "execution_count": null,
   "id": "54b9fdcd",
   "metadata": {},
   "outputs": [],
   "source": [
    "___ = ___[___.duplicated()]"
   ]
  },
  {
   "cell_type": "markdown",
   "id": "efbe0d63",
   "metadata": {},
   "source": [
    "2. Imprima el numero de filas duplicadas"
   ]
  },
  {
   "cell_type": "code",
   "execution_count": null,
   "id": "9c021382",
   "metadata": {},
   "outputs": [],
   "source": []
  },
  {
   "cell_type": "markdown",
   "id": "0c12820e",
   "metadata": {},
   "source": [
    "3. Quite los duplicados de `temperature`"
   ]
  },
  {
   "cell_type": "code",
   "execution_count": null,
   "id": "c81874c6",
   "metadata": {},
   "outputs": [],
   "source": [
    "___.drop_duplicates(inplace=___) "
   ]
  }
 ],
 "metadata": {
  "kernelspec": {
   "display_name": "Python 3 (ipykernel)",
   "language": "python",
   "name": "python3"
  },
  "language_info": {
   "codemirror_mode": {
    "name": "ipython",
    "version": 3
   },
   "file_extension": ".py",
   "mimetype": "text/x-python",
   "name": "python",
   "nbconvert_exporter": "python",
   "pygments_lexer": "ipython3",
   "version": "3.10.6"
  }
 },
 "nbformat": 4,
 "nbformat_minor": 5
}
