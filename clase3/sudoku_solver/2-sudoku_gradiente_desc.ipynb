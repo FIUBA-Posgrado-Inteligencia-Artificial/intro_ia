{
 "cells": [
  {
   "cell_type": "code",
   "execution_count": 1,
   "id": "initial_id",
   "metadata": {
    "jupyter": {
     "is_executing": true
    }
   },
   "outputs": [],
   "source": [
    "import numpy as np\n",
    "\n",
    "from sudoku_stuff import *"
   ]
  },
  {
   "cell_type": "markdown",
   "id": "b8bafd0acf580cb1",
   "metadata": {
    "collapsed": false,
    "jupyter": {
     "outputs_hidden": false
    }
   },
   "source": [
    "# Resolviendo Sudokus con gradiente descendiente\n",
    "Inteligencia Artificial - Facundo A. Lucianna - CEIA - FIUBA\n",
    "\n",
    "Dado que ya tenemos implementado los elementos para resolver Sudokus, resolvamos primero con gradiente descendiente discreto.\n",
    "\n",
    "Resolvamos este problema:\n",
    "\n",
    "<div>\n",
    "<img src=\"./sudoku_7.png\" width=\"300\"/>\n",
    "</div>\n",
    "\n",
    "El diccionario de **celdas fijas** quedaría de la siguiente forma:"
   ]
  },
  {
   "cell_type": "code",
   "execution_count": 2,
   "id": "8a83eafb-55a6-44b2-8aac-eecb5c0eeeaa",
   "metadata": {},
   "outputs": [],
   "source": [
    "fixed_squares = {\n",
    "    'A1': 3, 'A3': 4, 'A4': 5, 'A5': 6, 'A7': 9,\n",
    "    'B1': 1, 'B2': 8, 'B3': 5, 'B6': 9, 'B7': 7,\n",
    "    'C5': 7, 'C6': 8, 'C7': 4, 'C8': 1, 'C9': 5,\n",
    "    'D2': 2, 'D5': 1, 'D8': 4, 'D9': 9,\n",
    "    'E2': 4, 'E3': 9, 'E5': 5, \n",
    "    'F3': 1, \"F4\": 9, \"F5\": 8, \"F7\": 6, \"F8\": 7,\n",
    "    'G1': 4, 'G2': 9, 'G5': 3, 'G9': 7, \n",
    "    'H2': 1, 'H3': 8, 'H4': 7, 'H5': 4, 'H6': 5, 'H9': 6,\n",
    "    'I8': 8,\n",
    "}"
   ]
  },
  {
   "cell_type": "markdown",
   "id": "d741ef6a-6751-4761-b79b-931932cc6c00",
   "metadata": {},
   "source": [
    "Y la solución que tenemos, que vamos a usar para verificar al final de todo es:"
   ]
  },
  {
   "cell_type": "code",
   "execution_count": 3,
   "id": "c52990e0-9de5-4ce7-ae47-17daf7d1ae60",
   "metadata": {},
   "outputs": [],
   "source": [
    "solution = {\n",
    "    'A1': 3, 'A2': 7, 'A3': 4, 'A4': 5, 'A5': 6, 'A6': 1, 'A7': 9, 'A8': 2, 'A9': 8,\n",
    "    'B1': 1, 'B2': 8, 'B3': 5, 'B4': 4, 'B5': 2, 'B6': 9, 'B7': 7, 'B8': 6, 'B9': 3,\n",
    "    'C1': 9, 'C2': 6, 'C3': 2, 'C4': 3, 'C5': 7, 'C6': 8, 'C7': 4, 'C8': 1, 'C9': 5,\n",
    "    'D1': 8, 'D2': 2, 'D3': 7, 'D4': 6, 'D5': 1, 'D6': 3, 'D7': 5, 'D8': 4, 'D9': 9,\n",
    "    'E1': 6, 'E2': 4, 'E3': 9, 'E4': 2, 'E5': 5, 'E6': 7, 'E7': 8, 'E8': 3, 'E9': 1,\n",
    "    'F1': 5, 'F2': 3, 'F3': 1, 'F4': 9, 'F5': 8, 'F6': 4, 'F7': 6, 'F8': 7, 'F9': 2,\n",
    "    'G1': 4, 'G2': 9, 'G3': 6, 'G4': 8, 'G5': 3, 'G6': 2, 'G7': 1, 'G8': 5, 'G9': 7,\n",
    "    'H1': 2, 'H2': 1, 'H3': 8, 'H4': 7, 'H5': 4, 'H6': 5, 'H7': 3, 'H8': 9, 'H9': 6,\n",
    "    'I1': 7, 'I2': 5, 'I3': 3, 'I4': 1, 'I5': 9, 'I6': 6, 'I7': 2, 'I8': 8, 'I9': 4,\n",
    "}"
   ]
  },
  {
   "cell_type": "code",
   "execution_count": 4,
   "id": "9b13b263-9674-4874-ab0b-592bfcafa00b",
   "metadata": {},
   "outputs": [
    {
     "name": "stdout",
     "output_type": "stream",
     "text": [
      "*---------+---------+---------*\n",
      "| 3  7  4 | 5  6  1 | 9  2  8 |\n",
      "| 1  8  5 | 4  2  9 | 7  6  3 |\n",
      "| 9  6  2 | 3  7  8 | 4  1  5 |\n",
      "*---------+---------+---------*\n",
      "| 8  2  7 | 6  1  3 | 5  4  9 |\n",
      "| 6  4  9 | 2  5  7 | 8  3  1 |\n",
      "| 5  3  1 | 9  8  4 | 6  7  2 |\n",
      "*---------+---------+---------*\n",
      "| 4  9  6 | 8  3  2 | 1  5  7 |\n",
      "| 2  1  8 | 7  4  5 | 3  9  6 |\n",
      "| 7  5  3 | 1  9  6 | 2  8  4 |\n",
      "*---------+---------+---------*\n"
     ]
    }
   ],
   "source": [
    "print_state(solution)"
   ]
  },
  {
   "cell_type": "markdown",
   "id": "1402b8b302abed22",
   "metadata": {
    "collapsed": false,
    "jupyter": {
     "outputs_hidden": false
    }
   },
   "source": [
    "## Implementado gradiente descendente\n",
    "\n",
    "Este algoritmo se mueve continuamente en la dirección de mayor decrecimiento del valor de la función de costo. La búsqueda termina cuando ningún vecino tiene un valor menor. El algoritmo no examina más allá de los vecinos inmediatos.\n",
    "\n",
    "Veamos la implementación, leyendo cada comentario con atención:"
   ]
  },
  {
   "cell_type": "code",
   "execution_count": 5,
   "id": "d9a3abe9-a648-4cd1-bac1-deea4e1c7cbf",
   "metadata": {},
   "outputs": [],
   "source": [
    "def gradient_descent_sudoku(initial_state: dict, fixed_squares: dict, max_iterations: int = 1000) -> tuple:\n",
    "    \"\"\"\n",
    "    Realiza la optimización del Sudoku utilizando el método de descenso de gradiente.\n",
    "\n",
    "    Args:\n",
    "        initial_state (dict): El estado inicial del Sudoku.\n",
    "        fixed_squares (dict): Diccionario que contiene las casillas fijas del Sudoku,\n",
    "        max_iterations (int, opcional): El número máximo de iteraciones permitidas.\n",
    "                                        Por defecto es 100.\n",
    "    Returns:\n",
    "        dict: El mejor estado encontrado después de la optimización.\n",
    "        float: El costo del mejor estado encontrado\n",
    "    \"\"\"\n",
    "    best_state = initial_state\n",
    "    cost_state = cost_function(best_state)\n",
    "\n",
    "    # Iteramos hasta max_iterations\n",
    "    for iteration in range(max_iterations):\n",
    "\n",
    "        # Calculamos la función de costo para el estado actual\n",
    "        cost_state = cost_function(best_state)\n",
    "\n",
    "        # Si el costo es cero, significa que estamos en el minimo. Esto tiene sentido para el caso de Sudoku y la\n",
    "        # función de costo que implementamos.\n",
    "        if cost_state == 0:\n",
    "            break\n",
    "\n",
    "        # Obtenemos a los vecinos más cercanos\n",
    "        neib_states = return_neib_states(best_state, fixed_squares)\n",
    "\n",
    "        # Calculamos el delta del costo entre el estado actual y sus vecinos\n",
    "        neib_energy_list = [cost_function(neib_state) - cost_state for neib_state in neib_states]\n",
    "\n",
    "        # Obtenemos el índice de la lista de estados vecinos que tenga el mínimo valor\n",
    "        index_min_energy = np.argmin(neib_energy_list)\n",
    "\n",
    "        # Si el delta del costo es positivo o cero, es que no hay vecino que reduzca el gradiente, llegamos a un minimo\n",
    "        # local.\n",
    "        if neib_energy_list[index_min_energy] >= 0:\n",
    "            return best_state, cost_state\n",
    "\n",
    "        # Si no, seguimos avanzando\n",
    "        best_state = neib_states[index_min_energy]\n",
    "\n",
    "    # Si terminamos las iteraciones, retornamos nuestro mejor resultado\n",
    "    return best_state, cost_state"
   ]
  },
  {
   "cell_type": "markdown",
   "id": "f5b46e80-591f-44b0-b493-fb5c7b5472ce",
   "metadata": {},
   "source": [
    "Ahora, veamos si podemos encontrar la solución en una única ejecución. Para ello, vamos a llamar a una función llamada `execute_search()`, a la cual le pasamos la implementación del algoritmo. Esta función inicializa el sudoku en un estado al azar, aplica la búsqueda y verifica si se ha alcanzado una solución o no."
   ]
  },
  {
   "cell_type": "code",
   "execution_count": 6,
   "id": "f0e5773c-52bb-4ada-8781-0a97bb8b6e2e",
   "metadata": {},
   "outputs": [],
   "source": [
    "from processing import execute_search"
   ]
  },
  {
   "cell_type": "code",
   "execution_count": 7,
   "id": "9d572050-d3ad-4bce-9998-ce4a5b6ae0ef",
   "metadata": {},
   "outputs": [],
   "source": [
    "# El primer número es un identificador que por ahora no nos importa que valor asume.\n",
    "solution_bool, last_state, initial_state, _ = execute_search(0, gradient_descent_sudoku, fixed_squares)"
   ]
  },
  {
   "cell_type": "code",
   "execution_count": 8,
   "id": "f2dfa72f-b8d6-4dcf-babe-51b96965e51d",
   "metadata": {},
   "outputs": [
    {
     "name": "stdout",
     "output_type": "stream",
     "text": [
      "Valor de costo inicial 7.1000000000000005 y final 0.7999999999999999\n",
      "Primer estado:\n",
      "*---------+---------+---------*\n",
      "| 3  1  4 | 5  6  5 | 9  9  5 |\n",
      "| 1  8  5 | 5  7  9 | 7  7  3 |\n",
      "| 7  2  9 | 8  7  8 | 4  1  5 |\n",
      "*---------+---------+---------*\n",
      "| 6  2  9 | 5  1  6 | 5  4  9 |\n",
      "| 3  4  9 | 2  5  7 | 5  2  7 |\n",
      "| 5  3  1 | 9  8  5 | 6  7  8 |\n",
      "*---------+---------+---------*\n",
      "| 4  9  2 | 7  3  8 | 7  5  7 |\n",
      "| 5  1  8 | 7  4  5 | 2  2  6 |\n",
      "| 3  4  8 | 5  9  4 | 6  8  6 |\n",
      "*---------+---------+---------*\n",
      "Último estado encontrado:\n",
      "*---------+---------+---------*\n",
      "| 3  7  4 | 5  6  1 | 9  2  8 |\n",
      "| 1  8  5 | 4  2  9 | 7  6  3 |\n",
      "| 9  2  6 | 3  7  8 | 4  1  5 |\n",
      "*---------+---------+---------*\n",
      "| 5  2  7 | 3  1  6 | 8  4  9 |\n",
      "| 8  4  9 | 2  5  7 | 5  3  1 |\n",
      "| 5  3  1 | 9  8  4 | 6  7  2 |\n",
      "*---------+---------+---------*\n",
      "| 4  9  2 | 6  3  8 | 1  5  7 |\n",
      "| 7  1  8 | 7  4  5 | 2  9  6 |\n",
      "| 6  5  3 | 1  9  2 | 3  8  4 |\n",
      "*---------+---------+---------*\n"
     ]
    }
   ],
   "source": [
    "print(f\"Valor de costo inicial {cost_function(initial_state)} y final {cost_function(last_state)}\")\n",
    "print(\"Primer estado:\")\n",
    "print_state(initial_state)\n",
    "\n",
    "print(\"Último estado encontrado:\")\n",
    "print_state(last_state)"
   ]
  },
  {
   "cell_type": "code",
   "execution_count": 9,
   "id": "a26ed1f8-f240-4932-8c02-299e41af3082",
   "metadata": {},
   "outputs": [
    {
     "name": "stdout",
     "output_type": "stream",
     "text": [
      "El estado encontrado es solución?\n",
      "El estado que encontramos no es solución\n"
     ]
    }
   ],
   "source": [
    "print(\"El estado encontrado es solución?\")\n",
    "if solution_bool:\n",
    "    print(\"El estado que encontramos verifica que realmente es la solución\")\n",
    "else:\n",
    "    print(\"El estado que encontramos no es solución\")"
   ]
  },
  {
   "cell_type": "markdown",
   "id": "9ecff94b-2fbf-4212-9c99-818807609c02",
   "metadata": {},
   "source": [
    "Vemos que el algoritmo no está encontrando la **solución**. Ahora, podemos probar repetir 500 ejecuciones de la busqueda, comenzando desde diferentes puntos iniciales, para ver si eventualmente llegamos a la solución. Para acelerar el proceso, aprovecharemos que tenemos **CPUs multinúcleo**.\n",
    "\n",
    "Para ello, vamos a llamar a la función `parallel_sudoku_search()`, a la cual le pasaremos la función de gradiente descendente y el número de iteraciones que queremos realizar.\n",
    "\n",
    "Nota: Deben instalar `tqdm` para poder visualizar el progreso de las ejecuciones. Si están usando conda, pueden instalarlo ejecutando el siguiente comando:\n",
    "\n",
    "```\n",
    "conda install -y tqdm\n",
    "```"
   ]
  },
  {
   "cell_type": "code",
   "execution_count": 10,
   "id": "945fcc19-eff4-41cd-92a7-0433d35adecd",
   "metadata": {},
   "outputs": [],
   "source": [
    "from processing import parallel_sudoku_search\n",
    "\n",
    "# Debemos llamar a la función de busqueda desde un archivo .py sino los threads no pueden recibir a la función desde la notebook directamente.\n",
    "from search_methods import gradient_descent_sudoku"
   ]
  },
  {
   "cell_type": "code",
   "execution_count": 11,
   "id": "504b6289-a136-42c6-a2fb-5d828b1a83f7",
   "metadata": {},
   "outputs": [
    {
     "data": {
      "application/vnd.jupyter.widget-view+json": {
       "model_id": "814f0fced14c423c90e22808df38dda1",
       "version_major": 2,
       "version_minor": 0
      },
      "text/plain": [
       "  0%|          | 0/500 [00:00<?, ?it/s]"
      ]
     },
     "metadata": {},
     "output_type": "display_data"
    }
   ],
   "source": [
    "results = parallel_sudoku_search(gradient_descent_sudoku, fixed_squares, max_iterations=500)"
   ]
  },
  {
   "cell_type": "markdown",
   "id": "0d5e397d-9586-4799-a582-08a50d09bcf0",
   "metadata": {},
   "source": [
    "Veamos si algún proceso encontró la solución:"
   ]
  },
  {
   "cell_type": "code",
   "execution_count": 12,
   "id": "9ebe25b4-a66b-4bbf-85ab-95545dcf2b0a",
   "metadata": {},
   "outputs": [
    {
     "name": "stdout",
     "output_type": "stream",
     "text": [
      "*---------+---------+---------*\n",
      "| 3  7  4 | 5  6  1 | 9  2  8 |\n",
      "| 1  8  5 | 4  2  9 | 7  6  3 |\n",
      "| 9  6  2 | 3  7  8 | 4  1  5 |\n",
      "*---------+---------+---------*\n",
      "| 8  2  7 | 6  1  3 | 5  4  9 |\n",
      "| 6  4  9 | 2  5  7 | 8  3  1 |\n",
      "| 5  3  1 | 9  8  4 | 6  7  2 |\n",
      "*---------+---------+---------*\n",
      "| 4  9  6 | 8  3  2 | 1  5  7 |\n",
      "| 2  1  8 | 7  4  5 | 3  9  6 |\n",
      "| 7  5  3 | 1  9  6 | 2  8  4 |\n",
      "*---------+---------+---------*\n",
      "En la iteración 485 se encontró la solución.\n"
     ]
    }
   ],
   "source": [
    "show_solution = True\n",
    "for res in results:\n",
    "    # Acá nos devuelve el booleano de si encontró la solución o no\n",
    "    is_solution = res[0]\n",
    "    # Este es el últimos estado encontrado en esta iteración\n",
    "    last_state = res[1]\n",
    "    # Este es el estado desde donde partio\n",
    "    initial_state = res[2]\n",
    "    # Este es el identificador de cual iteración se obtuvo la solución\n",
    "    process_id = res[-1]\n",
    "\n",
    "    if is_solution:\n",
    "        if show_solution:\n",
    "            print_state(last_state)\n",
    "            show_solution = False\n",
    "        print(f\"En la iteración {process_id} se encontró la solución.\")"
   ]
  },
  {
   "cell_type": "markdown",
   "id": "7c51d079-e842-4150-bc3e-4febc08ed1d1",
   "metadata": {},
   "source": [
    "---\n",
    "## Gradiente descendiente estocastico\n",
    "\n",
    "Vemos que con el gradiente descendente está siendo difícil encontrar la solución. Una variante de este algoritmo es el gradiente descendente estocástico, en el cual, en lugar de movernos siempre hacia la dirección de la máxima pendiente (o derivada), nos movemos en una dirección aleatoria que aún mantenga el descenso en el valor de la función de costo.\n",
    "\n",
    "Veamos la implementación, prestando atención a los comentarios en detalle:"
   ]
  },
  {
   "cell_type": "code",
   "execution_count": 13,
   "id": "b9b85da1-a93a-4ab2-9ff9-f64fdba20ab9",
   "metadata": {},
   "outputs": [],
   "source": [
    "def gradient_descent_random_sudoku(initial_state: dict, fixed_squares: dict, max_iterations: int = 1000) -> tuple:\n",
    "    \"\"\"\n",
    "    Realiza la optimización del Sudoku utilizando el método de descenso de gradiente estocástico.\n",
    "\n",
    "    Args:\n",
    "        initial_state (dict): El estado inicial del Sudoku.\n",
    "        fixed_squares (dict): Diccionario que contiene las casillas fijas del Sudoku,\n",
    "        max_iterations (int, opcional): El número máximo de iteraciones permitidas.\n",
    "                                        Por defecto es 100.\n",
    "    Returns:\n",
    "        dict: El mejor estado encontrado después de la optimización.\n",
    "        float: El costo del mejor estado encontrado\n",
    "    \"\"\"\n",
    "    best_state = initial_state\n",
    "    cost_state = cost_function(best_state)\n",
    "\n",
    "    # Iteramos hasta max_iterations\n",
    "    for iteration in range(max_iterations):\n",
    "\n",
    "        # Calculamos la función de costo para el estado actual\n",
    "        cost_state = cost_function(best_state)\n",
    "\n",
    "        # Si el costo es cero, significa que estamos en el minimo. Esto tiene sentido para el caso de Sudoku y la\n",
    "        # función de costo que implementamos.\n",
    "        if cost_state == 0:\n",
    "            break\n",
    "\n",
    "        # Obtenemos a los vecinos más cercanos\n",
    "        neib_states = return_neib_states(best_state, fixed_squares)\n",
    "\n",
    "        # Calculamos el delta del costo entre el estado actual y sus vecinos\n",
    "        neib_energy_list = [cost_function(neib_state) - cost_state for neib_state in neib_states]\n",
    "\n",
    "        # Obtenemos el índice de la lista de estados vecinos que tengan el mínimo valor y que además sea negativo\n",
    "        # significando que estamos descendiendo en la función en la dirección de máximo descenso.\n",
    "        index_min_energy = [i for i, x in enumerate(neib_energy_list) if x < 0]\n",
    "\n",
    "        # Si no tenemos ningún índice, significa que ya no hay más\n",
    "        # descenso, retornamos lo mejor que llegó el método\n",
    "        if not index_min_energy:\n",
    "            return best_state, cost_state\n",
    "\n",
    "        # Si no, elegimos una dirección al azar de los máximos cambios\n",
    "        index_sel = random.choice(index_min_energy)\n",
    "        best_state = neib_states[index_sel]\n",
    "\n",
    "    # Si terminamos las iteraciones, retornamos nuestro mejor resultado\n",
    "    return best_state, cost_state"
   ]
  },
  {
   "cell_type": "code",
   "execution_count": 14,
   "id": "f85502ad-efab-45ef-bf9c-10d26351b71b",
   "metadata": {},
   "outputs": [],
   "source": [
    "# El primer número es un identificador que por ahora no nos importa que valor asume.\n",
    "solution_bool, last_state, initial_state, _ = execute_search(0, gradient_descent_random_sudoku, fixed_squares)"
   ]
  },
  {
   "cell_type": "code",
   "execution_count": 15,
   "id": "9063c9ec-9922-49e8-8ae6-251ae00f8aa6",
   "metadata": {},
   "outputs": [
    {
     "name": "stdout",
     "output_type": "stream",
     "text": [
      "Valor de costo inicial 7.0 y final 1.0999999999999999\n",
      "Primer estado:\n",
      "*---------+---------+---------*\n",
      "| 3  1  4 | 5  6  9 | 9  8  5 |\n",
      "| 1  8  5 | 1  5  9 | 7  5  3 |\n",
      "| 9  8  4 | 2  7  8 | 4  1  5 |\n",
      "*---------+---------+---------*\n",
      "| 2  2  7 | 9  1  2 | 8  4  9 |\n",
      "| 8  4  9 | 2  5  3 | 9  9  2 |\n",
      "| 8  1  1 | 9  8  7 | 6  7  5 |\n",
      "*---------+---------+---------*\n",
      "| 4  9  5 | 3  3  5 | 8  1  7 |\n",
      "| 1  1  8 | 7  4  5 | 4  2  6 |\n",
      "| 7  9  1 | 2  6  6 | 9  8  7 |\n",
      "*---------+---------+---------*\n",
      "Último estado encontrado:\n",
      "*---------+---------+---------*\n",
      "| 3  2  4 | 5  6  7 | 9  6  8 |\n",
      "| 1  8  5 | 1  4  9 | 7  2  3 |\n",
      "| 9  7  6 | 2  7  8 | 4  1  5 |\n",
      "*---------+---------+---------*\n",
      "| 5  2  7 | 6  1  3 | 8  4  9 |\n",
      "| 6  4  9 | 7  5  2 | 5  3  1 |\n",
      "| 8  3  1 | 9  8  4 | 6  7  2 |\n",
      "*---------+---------+---------*\n",
      "| 4  9  6 | 8  3  1 | 2  5  7 |\n",
      "| 2  1  8 | 7  4  5 | 3  9  6 |\n",
      "| 7  5  3 | 9  2  6 | 1  8  4 |\n",
      "*---------+---------+---------*\n"
     ]
    }
   ],
   "source": [
    "print(f\"Valor de costo inicial {cost_function(initial_state)} y final {cost_function(last_state)}\")\n",
    "print(\"Primer estado:\")\n",
    "print_state(initial_state)\n",
    "\n",
    "print(\"Último estado encontrado:\")\n",
    "print_state(last_state)"
   ]
  },
  {
   "cell_type": "code",
   "execution_count": 16,
   "id": "ab8ac167-4217-4bc1-9344-8cdc3cb7869c",
   "metadata": {},
   "outputs": [
    {
     "name": "stdout",
     "output_type": "stream",
     "text": [
      "El estado encontrado es solución?\n",
      "El estado que encontramos no es solución\n"
     ]
    }
   ],
   "source": [
    "print(\"El estado encontrado es solución?\")\n",
    "if solution_bool:\n",
    "    print(\"El estado que encontramos verifica que realmente es la solución\")\n",
    "else:\n",
    "    print(\"El estado que encontramos no es solución\")"
   ]
  },
  {
   "cell_type": "markdown",
   "id": "996e2908-01ea-4591-bb47-818dec2f229c",
   "metadata": {},
   "source": [
    "Veamos ahora ejecutando varias veces:"
   ]
  },
  {
   "cell_type": "code",
   "execution_count": 17,
   "id": "17de40f1-1934-46b3-a779-a8a040869656",
   "metadata": {},
   "outputs": [
    {
     "data": {
      "application/vnd.jupyter.widget-view+json": {
       "model_id": "6ade0603c59a45e6820078bc3125a2ca",
       "version_major": 2,
       "version_minor": 0
      },
      "text/plain": [
       "  0%|          | 0/500 [00:00<?, ?it/s]"
      ]
     },
     "metadata": {},
     "output_type": "display_data"
    }
   ],
   "source": [
    "from search_methods import gradient_descent_random_sudoku\n",
    "\n",
    "results = parallel_sudoku_search(gradient_descent_random_sudoku, fixed_squares, max_iterations=500)"
   ]
  },
  {
   "cell_type": "code",
   "execution_count": 18,
   "id": "db971521-2e5a-41ab-bbb4-9dafe7233b33",
   "metadata": {},
   "outputs": [
    {
     "name": "stdout",
     "output_type": "stream",
     "text": [
      "*---------+---------+---------*\n",
      "| 3  7  4 | 5  6  1 | 9  2  8 |\n",
      "| 1  8  5 | 4  2  9 | 7  6  3 |\n",
      "| 9  6  2 | 3  7  8 | 4  1  5 |\n",
      "*---------+---------+---------*\n",
      "| 8  2  7 | 6  1  3 | 5  4  9 |\n",
      "| 6  4  9 | 2  5  7 | 8  3  1 |\n",
      "| 5  3  1 | 9  8  4 | 6  7  2 |\n",
      "*---------+---------+---------*\n",
      "| 4  9  6 | 8  3  2 | 1  5  7 |\n",
      "| 2  1  8 | 7  4  5 | 3  9  6 |\n",
      "| 7  5  3 | 1  9  6 | 2  8  4 |\n",
      "*---------+---------+---------*\n",
      "En la iteración 62 se encontró la solución.\n",
      "En la iteración 338 se encontró la solución.\n",
      "En la iteración 475 se encontró la solución.\n"
     ]
    }
   ],
   "source": [
    "show_solution = True\n",
    "for res in results:\n",
    "    # Acá nos devuelve el booleano de si encontró la solución o no\n",
    "    is_solution = res[0]\n",
    "    # Este es el últimos estado encontrado en esta iteración\n",
    "    last_state = res[1]\n",
    "    # Este es el estado desde donde partio\n",
    "    initial_state = res[2]\n",
    "    # Este es el identificador de cual iteración se obtuvo la solución\n",
    "    process_id = res[-1]\n",
    "\n",
    "    if is_solution:\n",
    "        if show_solution:\n",
    "            print_state(last_state)\n",
    "            show_solution = False\n",
    "        print(f\"En la iteración {process_id} se encontró la solución.\")"
   ]
  },
  {
   "cell_type": "markdown",
   "id": "56be9e08-8cc5-4550-8c19-f95cbfdc5446",
   "metadata": {},
   "source": [
    "Vemos con este cambio, encontramos mas rápido soluciones y en mayor cantidad.\n",
    "\n",
    "### Movernos en mesetas\n",
    "\n",
    "La última variante que vamos a aplicar en este caso es permitir que, en el gradiente descendente estocástico, se pueda seleccionar vecinos en los que la diferencia entre el costo del vecino y el estado actual sea cero. Esto nos permitirá movernos en las mesetas para ver si podemos llegar a un precipicio y continuar reduciendo el costo.\n",
    "\n",
    "Para esto, en la función `gradient_descent_random_sudoku()`, que está definida en `search_methods`, le agregamos un nuevo atributo llamado `move_in_zero`, que modifica una sola línea de la función:\n",
    "\n",
    "```python\n",
    "index_min_energy = [i for i, x in enumerate(neib_energy_list) if x <= 0]\n",
    "```\n",
    "\n",
    "La idea es quedarnos con todos los vecinos que mantengan o reduzcan el costo, y luego seleccionar uno de ellos."
   ]
  },
  {
   "cell_type": "code",
   "execution_count": 19,
   "id": "b2a35291-0dd6-4837-80d3-04430531782f",
   "metadata": {},
   "outputs": [
    {
     "data": {
      "application/vnd.jupyter.widget-view+json": {
       "model_id": "4aa39f4f53a54133bceff66bcd6649aa",
       "version_major": 2,
       "version_minor": 0
      },
      "text/plain": [
       "  0%|          | 0/500 [00:00<?, ?it/s]"
      ]
     },
     "metadata": {},
     "output_type": "display_data"
    }
   ],
   "source": [
    "from search_methods import gradient_descent_random_sudoku\n",
    "from functools import partial\n",
    "\n",
    "new_grad_desc = partial(gradient_descent_random_sudoku, move_in_zero=True)\n",
    "\n",
    "results = parallel_sudoku_search(new_grad_desc, fixed_squares, max_iterations=500)"
   ]
  },
  {
   "cell_type": "code",
   "execution_count": 20,
   "id": "1db389f0-6bd9-4043-9d39-f8dcc3c6057c",
   "metadata": {},
   "outputs": [],
   "source": [
    "show_solution = True\n",
    "for res in results:\n",
    "    # Acá nos devuelve el booleano de si encontró la solución o no\n",
    "    is_solution = res[0]\n",
    "    # Este es el últimos estado encontrado en esta iteración\n",
    "    last_state = res[1]\n",
    "    # Este es el estado desde donde partio\n",
    "    initial_state = res[2]\n",
    "    # Este es el identificador de cual iteración se obtuvo la solución\n",
    "    process_id = res[-1]\n",
    "\n",
    "    if is_solution:\n",
    "        if show_solution:\n",
    "            print_state(last_state)\n",
    "            show_solution = False\n",
    "        print(f\"En la iteración {process_id} se encontró la solución.\")"
   ]
  },
  {
   "cell_type": "markdown",
   "id": "0a918d0a-fbd5-454c-be5a-9fe8ca9fe5c7",
   "metadata": {},
   "source": [
    "En esta corrida no se encontró solución. En este caso, moverse en la meseta resultó contraproducente."
   ]
  },
  {
   "cell_type": "code",
   "execution_count": null,
   "id": "c795e942-2836-4ac6-a74a-3d16af90ed94",
   "metadata": {},
   "outputs": [],
   "source": []
  }
 ],
 "metadata": {
  "kernelspec": {
   "display_name": "Python 3 (ipykernel)",
   "language": "python",
   "name": "python3"
  },
  "language_info": {
   "codemirror_mode": {
    "name": "ipython",
    "version": 3
   },
   "file_extension": ".py",
   "mimetype": "text/x-python",
   "name": "python",
   "nbconvert_exporter": "python",
   "pygments_lexer": "ipython3",
   "version": "3.10.14"
  }
 },
 "nbformat": 4,
 "nbformat_minor": 5
}
