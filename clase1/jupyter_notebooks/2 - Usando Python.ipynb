{
 "cells": [
  {
   "cell_type": "markdown",
   "metadata": {},
   "source": [
    "# Python \n",
    "Inteligencia Artificial - Facundo A. Lucianna - CEIA - FIUBA\n",
    "\n",
    "Python es un lenguaje elegante y moderno para programación y resolución de problemas que ha encontrado un uso cada vez mayor por de científicos. En las siguientes celdas demostraremos algunas funciones básicas de Python.\n",
    "\n",
    "## Variables\n",
    "Python tiene diferentes tipos de variables. Estas, cuando se crea una variable, no es necesario declararla"
   ]
  },
  {
   "cell_type": "code",
   "execution_count": 1,
   "metadata": {},
   "outputs": [
    {
     "name": "stdout",
     "output_type": "stream",
     "text": [
      "La variable entero es igual a 3 y es de tipo <class 'int'>\n",
      "La variable var_float es igual a 3.1 y es de tipo <class 'float'>\n",
      "La variable string es igual a Hola, soy un string y es de tipo <class 'str'>\n",
      "La variable booleano es igual a True y es de tipo <class 'bool'>\n",
      "La variable lista es igual a [0, 1, 3] y es de tipo <class 'list'>\n",
      "La variable tupla es igual a (0, 1, 3) y es de tipo <class 'tuple'>\n",
      "La variable set es igual a {0, 1, 3} y es de tipo <class 'set'>\n",
      "La variable diccionario es igual a {'a': 0, 'b': 1} y es de tipo <class 'dict'>\n"
     ]
    }
   ],
   "source": [
    "entero = 3\n",
    "var_float = 3.1\n",
    "complex_num = 3 + 1j\n",
    "string = \"Hola, soy un string\"\n",
    "booleano = True\n",
    "lista = [0, 1, 3]\n",
    "tupla = (0, 1, 3)\n",
    "set = {0, 1, 3}\n",
    "diccionario = {\"a\": 0, \"b\": 1}\n",
    "\n",
    "print(f\"La variable entero es igual a {entero} y es de tipo {type(entero)}\" )\n",
    "print(f\"La variable var_float es igual a {var_float} y es de tipo {type(var_float)}\" )\n",
    "print(f\"La variable string es igual a {string} y es de tipo {type(string)}\" )\n",
    "print(f\"La variable booleano es igual a {booleano} y es de tipo {type(booleano)}\" )\n",
    "print(f\"La variable lista es igual a {lista} y es de tipo {type(lista)}\" )\n",
    "print(f\"La variable tupla es igual a {tupla} y es de tipo {type(tupla)}\" )\n",
    "print(f\"La variable set es igual a {set} y es de tipo {type(set)}\" )\n",
    "print(f\"La variable diccionario es igual a {diccionario} y es de tipo {type(diccionario)}\" )\n"
   ]
  },
  {
   "cell_type": "markdown",
   "metadata": {},
   "source": [
    "## Operaciones aritméticas básicas\n",
    "Las operaciones aritméticas básicas están integradas en Python. Aquí hay unos ejemplos. En particular, tenga en cuenta que la exponenciación se realiza con el operador `**`."
   ]
  },
  {
   "cell_type": "code",
   "execution_count": 2,
   "metadata": {},
   "outputs": [
    {
     "name": "stdout",
     "output_type": "stream",
     "text": [
      "26\n",
      "576\n",
      "12.0\n"
     ]
    }
   ],
   "source": [
    "a = 24\n",
    "b = 2\n",
    "\n",
    "print(a + b)\n",
    "print(a**b)\n",
    "print(a/b)\n"
   ]
  },
  {
   "cell_type": "markdown",
   "metadata": {},
   "source": [
    "## Operadores de comparación\n",
    "\n",
    "Si queremos comparar variables, podemos usar operadores de comparación:"
   ]
  },
  {
   "cell_type": "code",
   "execution_count": 3,
   "metadata": {},
   "outputs": [
    {
     "name": "stdout",
     "output_type": "stream",
     "text": [
      "True\n",
      "False\n",
      "False\n",
      "True\n",
      "False\n",
      "False\n",
      "True\n",
      "False\n",
      "False\n"
     ]
    }
   ],
   "source": [
    "a = 24\n",
    "b = 2\n",
    "c = True\n",
    "d = 0\n",
    "e = None\n",
    "\n",
    "print(a > b)\n",
    "print(a < b)\n",
    "print(a == b)\n",
    "print(a != b)\n",
    "\n",
    "# Los booleanos son interensantes. Si comparamos True con variables que son 0 o None, será False, pero otra cosa es True.\n",
    "# Para este tipo de comparaciones es mejor usar el operador \"is\"\n",
    "print(c is d)\n",
    "print(c is e)\n",
    "print(c is True)\n",
    "print(a is True)\n",
    "print(d is True)"
   ]
  },
  {
   "cell_type": "markdown",
   "metadata": {},
   "source": [
    "## Operador de asignación\n",
    "Python nos da opciones de asignación aparte de `=`"
   ]
  },
  {
   "cell_type": "code",
   "execution_count": 4,
   "metadata": {},
   "outputs": [
    {
     "name": "stdout",
     "output_type": "stream",
     "text": [
      "La variable a es 12\n",
      "La variable a es 14\n",
      "La variable a es 12\n",
      "La variable a es 6.0\n",
      "La variable a es 12.0\n",
      "La variable a es 144.0\n"
     ]
    }
   ],
   "source": [
    "a = 12\n",
    "b = 2\n",
    "\n",
    "print(f\"La variable a es {a}\")\n",
    "\n",
    "# Sumamos a + b y guardamos en a\n",
    "a += b\n",
    "\n",
    "print(f\"La variable a es {a}\")\n",
    "\n",
    "# Restamos a - b y guardamos en a\n",
    "a -= b\n",
    "\n",
    "print(f\"La variable a es {a}\")\n",
    "\n",
    "# Dividimos a / b y guardamos en a\n",
    "a /= b\n",
    "\n",
    "print(f\"La variable a es {a}\")\n",
    "\n",
    "# Multplicamos a * b y guardamos en a\n",
    "a *= b\n",
    "\n",
    "print(f\"La variable a es {a}\")\n",
    "\n",
    "# Calculamos el exponente a ** b y guardamos en a\n",
    "a **= b\n",
    "\n",
    "print(f\"La variable a es {a}\")"
   ]
  },
  {
   "cell_type": "markdown",
   "metadata": {},
   "source": [
    "## Librerias de Python\n",
    "\n",
    "Python sólo tiene operaciones básicas. La mayoría de las funciones matemáticas se encuentran en varias bibliotecas matemáticas. La libreria **math** es una biblioteca conveniente. La siguiente celda muestra cómo importar math y luego usarlo para llamar a funciones matemáticas comunes.\n",
    "\n",
    "OBS: En esta asignatura no vamos a usar `math`, sino a `numpy` que nos provee similares funcionalidades matemáticas y más avanzadas. En otro notebook, vemos a esa libreria en particular. "
   ]
  },
  {
   "cell_type": "code",
   "execution_count": 5,
   "metadata": {},
   "outputs": [
    {
     "name": "stdout",
     "output_type": "stream",
     "text": [
      "3.141592653589793\n",
      "2.718281828459045\n",
      "0.7071067811865475\n",
      "0.7071067811865476\n",
      "0.9999999999999999\n"
     ]
    }
   ],
   "source": [
    "import math\n",
    "\n",
    "# mathematical constants\n",
    "print(math.pi)\n",
    "print(math.e)\n",
    "\n",
    "# trignometric functions\n",
    "angle = math.pi/4\n",
    "print(math.sin(angle))\n",
    "print(math.cos(angle))\n",
    "print(math.tan(angle))\n"
   ]
  },
  {
   "cell_type": "markdown",
   "metadata": {},
   "source": [
    "Esto nos permite introducir la función `help()` para leer la documentacion de diferentes funciones"
   ]
  },
  {
   "cell_type": "code",
   "execution_count": 6,
   "metadata": {},
   "outputs": [
    {
     "name": "stdout",
     "output_type": "stream",
     "text": [
      "Help on module math:\n",
      "\n",
      "NAME\n",
      "    math\n",
      "\n",
      "DESCRIPTION\n",
      "    This module provides access to the mathematical functions\n",
      "    defined by the C standard.\n",
      "\n",
      "FUNCTIONS\n",
      "    acos(x, /)\n",
      "        Return the arc cosine (measured in radians) of x.\n",
      "        \n",
      "        The result is between 0 and pi.\n",
      "    \n",
      "    acosh(x, /)\n",
      "        Return the inverse hyperbolic cosine of x.\n",
      "    \n",
      "    asin(x, /)\n",
      "        Return the arc sine (measured in radians) of x.\n",
      "        \n",
      "        The result is between -pi/2 and pi/2.\n",
      "    \n",
      "    asinh(x, /)\n",
      "        Return the inverse hyperbolic sine of x.\n",
      "    \n",
      "    atan(x, /)\n",
      "        Return the arc tangent (measured in radians) of x.\n",
      "        \n",
      "        The result is between -pi/2 and pi/2.\n",
      "    \n",
      "    atan2(y, x, /)\n",
      "        Return the arc tangent (measured in radians) of y/x.\n",
      "        \n",
      "        Unlike atan(y/x), the signs of both x and y are considered.\n",
      "    \n",
      "    atanh(x, /)\n",
      "        Return the inverse hyperbolic tangent of x.\n",
      "    \n",
      "    cbrt(x, /)\n",
      "        Return the cube root of x.\n",
      "    \n",
      "    ceil(x, /)\n",
      "        Return the ceiling of x as an Integral.\n",
      "        \n",
      "        This is the smallest integer >= x.\n",
      "    \n",
      "    comb(n, k, /)\n",
      "        Number of ways to choose k items from n items without repetition and without order.\n",
      "        \n",
      "        Evaluates to n! / (k! * (n - k)!) when k <= n and evaluates\n",
      "        to zero when k > n.\n",
      "        \n",
      "        Also called the binomial coefficient because it is equivalent\n",
      "        to the coefficient of k-th term in polynomial expansion of the\n",
      "        expression (1 + x)**n.\n",
      "        \n",
      "        Raises TypeError if either of the arguments are not integers.\n",
      "        Raises ValueError if either of the arguments are negative.\n",
      "    \n",
      "    copysign(x, y, /)\n",
      "        Return a float with the magnitude (absolute value) of x but the sign of y.\n",
      "        \n",
      "        On platforms that support signed zeros, copysign(1.0, -0.0)\n",
      "        returns -1.0.\n",
      "    \n",
      "    cos(x, /)\n",
      "        Return the cosine of x (measured in radians).\n",
      "    \n",
      "    cosh(x, /)\n",
      "        Return the hyperbolic cosine of x.\n",
      "    \n",
      "    degrees(x, /)\n",
      "        Convert angle x from radians to degrees.\n",
      "    \n",
      "    dist(p, q, /)\n",
      "        Return the Euclidean distance between two points p and q.\n",
      "        \n",
      "        The points should be specified as sequences (or iterables) of\n",
      "        coordinates.  Both inputs must have the same dimension.\n",
      "        \n",
      "        Roughly equivalent to:\n",
      "            sqrt(sum((px - qx) ** 2.0 for px, qx in zip(p, q)))\n",
      "    \n",
      "    erf(x, /)\n",
      "        Error function at x.\n",
      "    \n",
      "    erfc(x, /)\n",
      "        Complementary error function at x.\n",
      "    \n",
      "    exp(x, /)\n",
      "        Return e raised to the power of x.\n",
      "    \n",
      "    exp2(x, /)\n",
      "        Return 2 raised to the power of x.\n",
      "    \n",
      "    expm1(x, /)\n",
      "        Return exp(x)-1.\n",
      "        \n",
      "        This function avoids the loss of precision involved in the direct evaluation of exp(x)-1 for small x.\n",
      "    \n",
      "    fabs(x, /)\n",
      "        Return the absolute value of the float x.\n",
      "    \n",
      "    factorial(n, /)\n",
      "        Find n!.\n",
      "        \n",
      "        Raise a ValueError if x is negative or non-integral.\n",
      "    \n",
      "    floor(x, /)\n",
      "        Return the floor of x as an Integral.\n",
      "        \n",
      "        This is the largest integer <= x.\n",
      "    \n",
      "    fmod(x, y, /)\n",
      "        Return fmod(x, y), according to platform C.\n",
      "        \n",
      "        x % y may differ.\n",
      "    \n",
      "    frexp(x, /)\n",
      "        Return the mantissa and exponent of x, as pair (m, e).\n",
      "        \n",
      "        m is a float and e is an int, such that x = m * 2.**e.\n",
      "        If x is 0, m and e are both 0.  Else 0.5 <= abs(m) < 1.0.\n",
      "    \n",
      "    fsum(seq, /)\n",
      "        Return an accurate floating point sum of values in the iterable seq.\n",
      "        \n",
      "        Assumes IEEE-754 floating point arithmetic.\n",
      "    \n",
      "    gamma(x, /)\n",
      "        Gamma function at x.\n",
      "    \n",
      "    gcd(*integers)\n",
      "        Greatest Common Divisor.\n",
      "    \n",
      "    hypot(...)\n",
      "        hypot(*coordinates) -> value\n",
      "        \n",
      "        Multidimensional Euclidean distance from the origin to a point.\n",
      "        \n",
      "        Roughly equivalent to:\n",
      "            sqrt(sum(x**2 for x in coordinates))\n",
      "        \n",
      "        For a two dimensional point (x, y), gives the hypotenuse\n",
      "        using the Pythagorean theorem:  sqrt(x*x + y*y).\n",
      "        \n",
      "        For example, the hypotenuse of a 3/4/5 right triangle is:\n",
      "        \n",
      "            >>> hypot(3.0, 4.0)\n",
      "            5.0\n",
      "    \n",
      "    isclose(a, b, *, rel_tol=1e-09, abs_tol=0.0)\n",
      "        Determine whether two floating point numbers are close in value.\n",
      "        \n",
      "          rel_tol\n",
      "            maximum difference for being considered \"close\", relative to the\n",
      "            magnitude of the input values\n",
      "          abs_tol\n",
      "            maximum difference for being considered \"close\", regardless of the\n",
      "            magnitude of the input values\n",
      "        \n",
      "        Return True if a is close in value to b, and False otherwise.\n",
      "        \n",
      "        For the values to be considered close, the difference between them\n",
      "        must be smaller than at least one of the tolerances.\n",
      "        \n",
      "        -inf, inf and NaN behave similarly to the IEEE 754 Standard.  That\n",
      "        is, NaN is not close to anything, even itself.  inf and -inf are\n",
      "        only close to themselves.\n",
      "    \n",
      "    isfinite(x, /)\n",
      "        Return True if x is neither an infinity nor a NaN, and False otherwise.\n",
      "    \n",
      "    isinf(x, /)\n",
      "        Return True if x is a positive or negative infinity, and False otherwise.\n",
      "    \n",
      "    isnan(x, /)\n",
      "        Return True if x is a NaN (not a number), and False otherwise.\n",
      "    \n",
      "    isqrt(n, /)\n",
      "        Return the integer part of the square root of the input.\n",
      "    \n",
      "    lcm(*integers)\n",
      "        Least Common Multiple.\n",
      "    \n",
      "    ldexp(x, i, /)\n",
      "        Return x * (2**i).\n",
      "        \n",
      "        This is essentially the inverse of frexp().\n",
      "    \n",
      "    lgamma(x, /)\n",
      "        Natural logarithm of absolute value of Gamma function at x.\n",
      "    \n",
      "    log(...)\n",
      "        log(x, [base=math.e])\n",
      "        Return the logarithm of x to the given base.\n",
      "        \n",
      "        If the base not specified, returns the natural logarithm (base e) of x.\n",
      "    \n",
      "    log10(x, /)\n",
      "        Return the base 10 logarithm of x.\n",
      "    \n",
      "    log1p(x, /)\n",
      "        Return the natural logarithm of 1+x (base e).\n",
      "        \n",
      "        The result is computed in a way which is accurate for x near zero.\n",
      "    \n",
      "    log2(x, /)\n",
      "        Return the base 2 logarithm of x.\n",
      "    \n",
      "    modf(x, /)\n",
      "        Return the fractional and integer parts of x.\n",
      "        \n",
      "        Both results carry the sign of x and are floats.\n",
      "    \n",
      "    nextafter(x, y, /)\n",
      "        Return the next floating-point value after x towards y.\n",
      "    \n",
      "    perm(n, k=None, /)\n",
      "        Number of ways to choose k items from n items without repetition and with order.\n",
      "        \n",
      "        Evaluates to n! / (n - k)! when k <= n and evaluates\n",
      "        to zero when k > n.\n",
      "        \n",
      "        If k is not specified or is None, then k defaults to n\n",
      "        and the function returns n!.\n",
      "        \n",
      "        Raises TypeError if either of the arguments are not integers.\n",
      "        Raises ValueError if either of the arguments are negative.\n",
      "    \n",
      "    pow(x, y, /)\n",
      "        Return x**y (x to the power of y).\n",
      "    \n",
      "    prod(iterable, /, *, start=1)\n",
      "        Calculate the product of all the elements in the input iterable.\n",
      "        \n",
      "        The default start value for the product is 1.\n",
      "        \n",
      "        When the iterable is empty, return the start value.  This function is\n",
      "        intended specifically for use with numeric values and may reject\n",
      "        non-numeric types.\n",
      "    \n",
      "    radians(x, /)\n",
      "        Convert angle x from degrees to radians.\n",
      "    \n",
      "    remainder(x, y, /)\n",
      "        Difference between x and the closest integer multiple of y.\n",
      "        \n",
      "        Return x - n*y where n*y is the closest integer multiple of y.\n",
      "        In the case where x is exactly halfway between two multiples of\n",
      "        y, the nearest even value of n is used. The result is always exact.\n",
      "    \n",
      "    sin(x, /)\n",
      "        Return the sine of x (measured in radians).\n",
      "    \n",
      "    sinh(x, /)\n",
      "        Return the hyperbolic sine of x.\n",
      "    \n",
      "    sqrt(x, /)\n",
      "        Return the square root of x.\n",
      "    \n",
      "    tan(x, /)\n",
      "        Return the tangent of x (measured in radians).\n",
      "    \n",
      "    tanh(x, /)\n",
      "        Return the hyperbolic tangent of x.\n",
      "    \n",
      "    trunc(x, /)\n",
      "        Truncates the Real x to the nearest Integral toward 0.\n",
      "        \n",
      "        Uses the __trunc__ magic method.\n",
      "    \n",
      "    ulp(x, /)\n",
      "        Return the value of the least significant bit of the float x.\n",
      "\n",
      "DATA\n",
      "    e = 2.718281828459045\n",
      "    inf = inf\n",
      "    nan = nan\n",
      "    pi = 3.141592653589793\n",
      "    tau = 6.283185307179586\n",
      "\n",
      "FILE\n",
      "    /opt/homebrew/Cellar/python@3.11/3.11.6/Frameworks/Python.framework/Versions/3.11/lib/python3.11/lib-dynload/math.cpython-311-darwin.so\n",
      "\n",
      "\n"
     ]
    }
   ],
   "source": [
    "help(math)"
   ]
  },
  {
   "cell_type": "code",
   "execution_count": 7,
   "metadata": {},
   "outputs": [
    {
     "name": "stdout",
     "output_type": "stream",
     "text": [
      "Help on built-in function cos in module math:\n",
      "\n",
      "cos(x, /)\n",
      "    Return the cosine of x (measured in radians).\n",
      "\n"
     ]
    }
   ],
   "source": [
    "help(math.cos)"
   ]
  },
  {
   "cell_type": "markdown",
   "metadata": {},
   "source": [
    "## Trabajando con listas\n",
    "\n",
    "Las listas son una forma versátil de organizar datos en Python"
   ]
  },
  {
   "cell_type": "code",
   "execution_count": 8,
   "metadata": {},
   "outputs": [
    {
     "data": {
      "text/plain": [
       "[1, 2, 3, 4]"
      ]
     },
     "execution_count": 8,
     "metadata": {},
     "output_type": "execute_result"
    }
   ],
   "source": [
    "xList = [1, 2, 3, 4]\n",
    "xList"
   ]
  },
  {
   "cell_type": "markdown",
   "metadata": {},
   "source": [
    "Concatenar es la operación de unir una lista con otra"
   ]
  },
  {
   "cell_type": "code",
   "execution_count": 9,
   "metadata": {},
   "outputs": [
    {
     "data": {
      "text/plain": [
       "[1, 2, 3, 4, 5, 6, 7, 8]"
      ]
     },
     "execution_count": 9,
     "metadata": {},
     "output_type": "execute_result"
    }
   ],
   "source": [
    "# Concatenation\n",
    "x = [1, 2, 3, 4]\n",
    "y = [5, 6, 7, 8]\n",
    "\n",
    "x + y"
   ]
  },
  {
   "cell_type": "markdown",
   "metadata": {},
   "source": [
    "Vemos la cantidad de elementos en una lista"
   ]
  },
  {
   "cell_type": "code",
   "execution_count": 10,
   "metadata": {},
   "outputs": [
    {
     "data": {
      "text/plain": [
       "4"
      ]
     },
     "execution_count": 10,
     "metadata": {},
     "output_type": "execute_result"
    }
   ],
   "source": [
    "len(x)"
   ]
  },
  {
   "cell_type": "markdown",
   "metadata": {},
   "source": [
    "Los listas se pueden hacer cortes para obtener sub listas"
   ]
  },
  {
   "cell_type": "code",
   "execution_count": 11,
   "metadata": {},
   "outputs": [
    {
     "name": "stdout",
     "output_type": "stream",
     "text": [
      "El primer elemento de la lista es 1 y el anteultimo es 4\n",
      "y podemos sacar sublistas tal como:\n",
      "[1, 2]\n",
      "tambien usando indices negativos:\n",
      "[3, 4, 'b']\n"
     ]
    }
   ],
   "source": [
    "x = [1, 2, 3, 4, \"b\"]\n",
    "\n",
    "print(f\"El primer elemento de la lista es {x[0]} y el anteultimo es {x[-2]}\")\n",
    "print(f\"y podemos sacar sublistas tal como:\")\n",
    "print(x[:2])\n",
    "print(f\"tambien usando indices negativos:\")\n",
    "print(x[-3:])"
   ]
  },
  {
   "cell_type": "markdown",
   "metadata": {},
   "source": [
    "## Trabajando con diccionarios\n",
    "\n",
    "Los diccionarios son útiles para almacenar y recuperar datos como pares `key-value`. Por ejemplo, aquí tienes un breve diccionario de masas molares. Las `keys` son fórmulas moleculares y los valores son las masas molares correspondientes:"
   ]
  },
  {
   "cell_type": "code",
   "execution_count": 12,
   "metadata": {},
   "outputs": [
    {
     "data": {
      "text/plain": [
       "{'CH4': 16.04, 'H2O': 18.02, 'O2': 32.0, 'CO2': 44.01}"
      ]
     },
     "execution_count": 12,
     "metadata": {},
     "output_type": "execute_result"
    }
   ],
   "source": [
    "mw = {'CH4': 16.04, \n",
    "      'H2O': 18.02, \n",
    "      'O2':32.00, \n",
    "      'CO2': 44.01}\n",
    "mw"
   ]
  },
  {
   "cell_type": "markdown",
   "metadata": {},
   "source": [
    "Se puede agregar valores al diccionario"
   ]
  },
  {
   "cell_type": "code",
   "execution_count": 13,
   "metadata": {},
   "outputs": [
    {
     "data": {
      "text/plain": [
       "{'CH4': 16.04, 'H2O': 18.02, 'O2': 32.0, 'CO2': 44.01, 'C8H18': 114.23}"
      ]
     },
     "execution_count": 13,
     "metadata": {},
     "output_type": "execute_result"
    }
   ],
   "source": [
    "mw['C8H18'] = 114.23\n",
    "mw"
   ]
  },
  {
   "cell_type": "markdown",
   "metadata": {},
   "source": [
    "Se puede obtener valores del diccionario"
   ]
  },
  {
   "cell_type": "code",
   "execution_count": 14,
   "metadata": {},
   "outputs": [
    {
     "data": {
      "text/plain": [
       "16.04"
      ]
     },
     "execution_count": 14,
     "metadata": {},
     "output_type": "execute_result"
    }
   ],
   "source": [
    "mw['CH4']"
   ]
  },
  {
   "cell_type": "markdown",
   "metadata": {},
   "source": [
    "## Strings\n",
    "\n",
    "Python nos da una variedad enorme de opearaciones de strigns"
   ]
  },
  {
   "cell_type": "code",
   "execution_count": 15,
   "metadata": {},
   "outputs": [
    {
     "name": "stdout",
     "output_type": "stream",
     "text": [
      "AurelianoBuendia\n",
      "AurelianoAureliano\n"
     ]
    }
   ],
   "source": [
    "name = \"Aureliano\"\n",
    "surname = \"Buendia\"\n",
    "\n",
    "print(name + surname) # Retorna \"AurelianoBuendia\"\n",
    "print(name * 2) # Retorna \"AurelianoAureliano\""
   ]
  },
  {
   "cell_type": "markdown",
   "metadata": {},
   "source": [
    "Tenemos igual que las listas, formas de hacer slicing de los strings"
   ]
  },
  {
   "cell_type": "code",
   "execution_count": 16,
   "metadata": {},
   "outputs": [
    {
     "name": "stdout",
     "output_type": "stream",
     "text": [
      "A\n",
      "Aureliano\n",
      "Aureliano\n",
      "Buendia\n",
      "Buendia\n",
      "Buendia\n"
     ]
    }
   ],
   "source": [
    "nombre_completo = name + \" \" + surname\n",
    "print(nombre_completo[0])\n",
    "print(nombre_completo[0:9])\n",
    "print(nombre_completo[:9])\n",
    "print(nombre_completo[10:17])\n",
    "print(nombre_completo[10:])\n",
    "print(nombre_completo[-7:])"
   ]
  },
  {
   "cell_type": "markdown",
   "metadata": {},
   "source": [
    "Los strings tienen una amplia variedad de métodos y atributos"
   ]
  },
  {
   "cell_type": "code",
   "execution_count": 17,
   "metadata": {},
   "outputs": [
    {
     "name": "stdout",
     "output_type": "stream",
     "text": [
      "False\n",
      "AURELIANO BUENDIA\n",
      "aureliano buendia\n",
      "True\n"
     ]
    }
   ],
   "source": [
    "print(nombre_completo.isupper()) # Retorna False\n",
    "print(nombre_completo.upper()) # Retorna AURELIANO BUENDIA\n",
    "print(nombre_completo.lower()) # Retorna aureliano buendia\n",
    "print(nombre_completo.startswith(\"Aureliano\")) # Retorna True"
   ]
  },
  {
   "cell_type": "markdown",
   "metadata": {},
   "source": [
    "## Declaraciones de control\n",
    "\n",
    "En Python tenemos como declaración de control a `if`:"
   ]
  },
  {
   "cell_type": "code",
   "execution_count": 18,
   "metadata": {},
   "outputs": [
    {
     "name": "stdout",
     "output_type": "stream",
     "text": [
      "Epaa!\n"
     ]
    }
   ],
   "source": [
    "num = 10\n",
    "if num > 3:\n",
    "    print(\"Epaa!\")"
   ]
  },
  {
   "cell_type": "code",
   "execution_count": 19,
   "metadata": {},
   "outputs": [
    {
     "name": "stdout",
     "output_type": "stream",
     "text": [
      "Epa!\n"
     ]
    }
   ],
   "source": [
    "if 3 < num < 24:\n",
    "    print(\"Epa!\")"
   ]
  },
  {
   "cell_type": "code",
   "execution_count": 20,
   "metadata": {},
   "outputs": [
    {
     "name": "stdout",
     "output_type": "stream",
     "text": [
      "Epaa\n"
     ]
    }
   ],
   "source": [
    "if num > 3 and (num < 5 or b == 2):\n",
    "    print(\"Epaa\")"
   ]
  },
  {
   "cell_type": "code",
   "execution_count": 21,
   "metadata": {},
   "outputs": [
    {
     "name": "stdout",
     "output_type": "stream",
     "text": [
      "Epaa\n"
     ]
    }
   ],
   "source": [
    "if 3 < num < 5 or b == 2:\n",
    "    print(\"Epaa\")"
   ]
  },
  {
   "cell_type": "code",
   "execution_count": 22,
   "metadata": {},
   "outputs": [
    {
     "name": "stdout",
     "output_type": "stream",
     "text": [
      "num es mayor a 3\n"
     ]
    }
   ],
   "source": [
    "if num > 3:\n",
    "    print(\"num es mayor a 3\")\n",
    "else:\n",
    "    print(\"num es menor o igual a 3\")"
   ]
  },
  {
   "cell_type": "code",
   "execution_count": 23,
   "metadata": {},
   "outputs": [
    {
     "name": "stdout",
     "output_type": "stream",
     "text": [
      "num es mayor a 3\n"
     ]
    }
   ],
   "source": [
    "if num > 3:\n",
    "    print(\"num es mayor a 3\")\n",
    "    if num < 5:\n",
    "        print(\"num es menor a 5\")\n",
    "else:\n",
    "    print(\"num es menor o igual a 3\")\n",
    "    if num > 1:\n",
    "        print(\"num es mayor a 1\")"
   ]
  },
  {
   "cell_type": "code",
   "execution_count": 24,
   "metadata": {},
   "outputs": [
    {
     "name": "stdout",
     "output_type": "stream",
     "text": [
      "num no es 3, 5 o 42\n"
     ]
    }
   ],
   "source": [
    "if num == 3:\n",
    "    print(\"num es 3\")\n",
    "elif num == 5:\n",
    "    print(\"num es 5\")\n",
    "elif num == 42:\n",
    "    print(\"num es 42\")\n",
    "else:\n",
    "    print(\"num no es 3, 5 o 42\")"
   ]
  },
  {
   "cell_type": "markdown",
   "metadata": {},
   "source": [
    "## Bucles\n",
    "\n",
    "Por un lado tenemos el bucle `while`:"
   ]
  },
  {
   "cell_type": "code",
   "execution_count": 25,
   "metadata": {},
   "outputs": [
    {
     "name": "stdout",
     "output_type": "stream",
     "text": [
      "Increasing level\n",
      "Increasing level\n",
      "Increasing level\n",
      "Increasing level\n",
      "Increasing level\n",
      "Increasing level\n",
      "Increasing level\n",
      "Increasing level\n",
      "Increasing level\n",
      "Increasing level\n",
      "It's over 9000\n"
     ]
    }
   ],
   "source": [
    "nivel = 0\n",
    "while nivel <= 9000:\n",
    "    if not(nivel % 1000):\n",
    "        print(\"Increasing level\")\n",
    "    nivel += 1\n",
    "\n",
    "print(\"It's over 9000\")"
   ]
  },
  {
   "cell_type": "markdown",
   "metadata": {},
   "source": [
    "Aunque el ciclo `for` es el más utilizado en Python por su capacidad de trabajar con iterables"
   ]
  },
  {
   "cell_type": "code",
   "execution_count": 26,
   "metadata": {},
   "outputs": [
    {
     "name": "stdout",
     "output_type": "stream",
     "text": [
      "3628800\n"
     ]
    }
   ],
   "source": [
    "producto = 1\n",
    "for value in range(1, 11):\n",
    "    producto *= value\n",
    "\n",
    "print(producto)"
   ]
  },
  {
   "cell_type": "code",
   "execution_count": 27,
   "metadata": {},
   "outputs": [
    {
     "name": "stdout",
     "output_type": "stream",
     "text": [
      "0\n",
      "1\n",
      "2\n",
      "3\n",
      "4\n",
      "5\n",
      "6\n",
      "7\n",
      "8\n",
      "9\n"
     ]
    }
   ],
   "source": [
    "for i in range(10):\n",
    "    print(i)"
   ]
  },
  {
   "cell_type": "code",
   "execution_count": 28,
   "metadata": {},
   "outputs": [
    {
     "name": "stdout",
     "output_type": "stream",
     "text": [
      "2\n",
      "4\n"
     ]
    }
   ],
   "source": [
    "for i in range(2, 6, 2):\n",
    "    print(i)"
   ]
  },
  {
   "cell_type": "code",
   "execution_count": 29,
   "metadata": {},
   "outputs": [
    {
     "name": "stdout",
     "output_type": "stream",
     "text": [
      "10\n",
      "8\n",
      "6\n",
      "4\n",
      "2\n"
     ]
    }
   ],
   "source": [
    "for i in range(10, 0, -2):\n",
    "    print(i)"
   ]
  },
  {
   "cell_type": "markdown",
   "metadata": {},
   "source": [
    "Usando los iterables, podemos hacer que el ciclo pase por todos los elementos"
   ]
  },
  {
   "cell_type": "code",
   "execution_count": 30,
   "metadata": {},
   "outputs": [
    {
     "name": "stdout",
     "output_type": "stream",
     "text": [
      "0\n",
      "alice\n",
      "3.14\n"
     ]
    }
   ],
   "source": [
    "# Lista\n",
    "lista = [0, \"alice\", 3.14]\n",
    "for elemento in lista:\n",
    "    print(elemento)"
   ]
  },
  {
   "cell_type": "markdown",
   "metadata": {},
   "source": [
    "Cuando tomamos un elemento para el ciclo, si hacemos un asignamiento, no modifica el valor:"
   ]
  },
  {
   "cell_type": "code",
   "execution_count": 31,
   "metadata": {},
   "outputs": [
    {
     "name": "stdout",
     "output_type": "stream",
     "text": [
      "[0, 1, 2]\n"
     ]
    }
   ],
   "source": [
    "lista = [0, 1, 2]\n",
    "for elemento in lista:\n",
    "    elemento = 3\n",
    "\n",
    "print(lista)"
   ]
  },
  {
   "cell_type": "markdown",
   "metadata": {},
   "source": [
    "Para hacer modificaciones, tenemos que usar directamente a la lista"
   ]
  },
  {
   "cell_type": "code",
   "execution_count": 32,
   "metadata": {},
   "outputs": [
    {
     "name": "stdout",
     "output_type": "stream",
     "text": [
      "[3, 3, 3]\n"
     ]
    }
   ],
   "source": [
    "lista = [0, 1, 2]\n",
    "for i in range(len(lista)):\n",
    "    lista[i] = 3\n",
    "\n",
    "print(lista)"
   ]
  },
  {
   "cell_type": "code",
   "execution_count": 33,
   "metadata": {},
   "outputs": [
    {
     "name": "stdout",
     "output_type": "stream",
     "text": [
      "H\n",
      "o\n",
      "l\n",
      "a\n",
      ",\n",
      " \n",
      "m\n",
      "u\n",
      "n\n",
      "d\n",
      "o\n"
     ]
    }
   ],
   "source": [
    "# Strings\n",
    "string = \"Hola, mundo\"\n",
    "for char in string:\n",
    "    print(char)"
   ]
  },
  {
   "cell_type": "code",
   "execution_count": 34,
   "metadata": {},
   "outputs": [
    {
     "name": "stdout",
     "output_type": "stream",
     "text": [
      "El par es: nombre: Aureliano\n",
      "El par es: apellido: Buendia\n",
      "El par es: pais: Colombia\n"
     ]
    }
   ],
   "source": [
    "diccionario = {\n",
    "    \"nombre\": \"Aureliano\",\n",
    "    \"apellido\": \"Buendia\",\n",
    "    \"pais\": \"Colombia\"\n",
    "}\n",
    "\n",
    "for key in diccionario:\n",
    "    print(f\"El par es: {key}: {diccionario[key]}\")"
   ]
  },
  {
   "cell_type": "markdown",
   "metadata": {},
   "source": [
    "## Declaración de funciones\n",
    "\n",
    "Armemos la funcion que implementa el numero combinatorio\n",
    "\n",
    "$$ C(m,n) = \\frac{m!}{(m-n)! n!} $$ \n",
    "\n",
    "Donde n! es el producto de los numeros enteros de 1 a n:\n",
    "\n",
    "$$ n! = 1 \\cdot 2 \\cdot 3 \\cdot ... \\cdot (n-1) \\cdot n = \\prod_{i=1}^{n} i  $$"
   ]
  },
  {
   "cell_type": "code",
   "execution_count": 35,
   "metadata": {},
   "outputs": [],
   "source": [
    "def factorial(n):\n",
    "    \"\"\" \n",
    "    Calcula el factorial de n\n",
    "    \"\"\"\n",
    "    if n < 2: \n",
    "        return 1\n",
    "    output = 1\n",
    "    for i in range(2, n+1):\n",
    "        output *= i\n",
    "\n",
    "    return output\n",
    "\n",
    "def num_com(n, m):\n",
    "    \"\"\"Calcula el número combinatorio de n y m\n",
    "    Args:\n",
    "    n - Es la cantidad de objetos a seleccionar del conjunto total\n",
    "    m - Es la cantidad total de objetos\n",
    "    \"\"\"\n",
    "\n",
    "    return int(factorial(m) / (factorial(n)* factorial(m-n)))"
   ]
  },
  {
   "cell_type": "markdown",
   "metadata": {},
   "source": [
    "El comentario multilinea usando `\"\"\"` al principio de la función nos permite documentar nuestras funciones"
   ]
  },
  {
   "cell_type": "code",
   "execution_count": 36,
   "metadata": {},
   "outputs": [
    {
     "name": "stdout",
     "output_type": "stream",
     "text": [
      "Help on function factorial in module __main__:\n",
      "\n",
      "factorial(n)\n",
      "    Calcula el factorial de n\n",
      "\n"
     ]
    }
   ],
   "source": [
    "help(factorial)"
   ]
  },
  {
   "cell_type": "code",
   "execution_count": 37,
   "metadata": {},
   "outputs": [
    {
     "name": "stdout",
     "output_type": "stream",
     "text": [
      "Help on function num_com in module __main__:\n",
      "\n",
      "num_com(n, m)\n",
      "    Calcula el número combinatorio de n y m\n",
      "    Args:\n",
      "    n - Es la cantidad de objetos a seleccionar del conjunto total\n",
      "    m - Es la cantidad total de objetos\n",
      "\n"
     ]
    }
   ],
   "source": [
    "help(num_com)"
   ]
  },
  {
   "cell_type": "code",
   "execution_count": 38,
   "metadata": {},
   "outputs": [
    {
     "name": "stdout",
     "output_type": "stream",
     "text": [
      "El factorial de 1 es 1\n",
      "El factorial de 2 es 2\n",
      "El factorial de 5 es 120\n",
      "El factorial de 10 es 3628800\n"
     ]
    }
   ],
   "source": [
    "print(f\"El factorial de 1 es {factorial(1)}\")\n",
    "print(f\"El factorial de 2 es {factorial(2)}\")\n",
    "print(f\"El factorial de 5 es {factorial(5)}\")\n",
    "print(f\"El factorial de 10 es {factorial(10)}\")"
   ]
  },
  {
   "cell_type": "code",
   "execution_count": 39,
   "metadata": {},
   "outputs": [
    {
     "name": "stdout",
     "output_type": "stream",
     "text": [
      "El numero combinatorio de tomar 3 objetos de 5 objetos es 10 combinaciones\n"
     ]
    }
   ],
   "source": [
    "print(f\"El numero combinatorio de tomar 3 objetos de 5 objetos es {num_com(3, 5)} combinaciones\")"
   ]
  },
  {
   "cell_type": "markdown",
   "metadata": {},
   "source": [
    "Las variables que están dentro de las funciones existen solamente dentro de las funciones"
   ]
  },
  {
   "cell_type": "code",
   "execution_count": 40,
   "metadata": {},
   "outputs": [
    {
     "name": "stdout",
     "output_type": "stream",
     "text": [
      "Por dentro de la funcion 'a' vale\n",
      "5\n",
      "Y por fuera es\n",
      "3\n"
     ]
    }
   ],
   "source": [
    "a = 3\n",
    "\n",
    "def print_a():\n",
    "    a = 5\n",
    "    print(a)\n",
    "\n",
    "print(\"Por dentro de la funcion 'a' vale\")\n",
    "print_a()\n",
    "print(\"Y por fuera es\")\n",
    "print(a)"
   ]
  },
  {
   "cell_type": "markdown",
   "metadata": {},
   "source": [
    "Salvo que usemos la keyword `global`"
   ]
  },
  {
   "cell_type": "code",
   "execution_count": 41,
   "metadata": {},
   "outputs": [
    {
     "name": "stdout",
     "output_type": "stream",
     "text": [
      "Por dentro de la funcion 'c' vale\n",
      "5\n",
      "Y por fuera es\n",
      "5\n"
     ]
    }
   ],
   "source": [
    "def print_c():\n",
    "    global c \n",
    "    c = 5\n",
    "    print(c)\n",
    "\n",
    "print(\"Por dentro de la funcion 'c' vale\")\n",
    "print_c()\n",
    "print(\"Y por fuera es\")\n",
    "print(c)"
   ]
  },
  {
   "cell_type": "markdown",
   "metadata": {},
   "source": [
    "Una función anónima es una función sin nombre. En Python, se crea una función anónima con la palabra clave `lambda`"
   ]
  },
  {
   "cell_type": "code",
   "execution_count": 42,
   "metadata": {},
   "outputs": [
    {
     "name": "stdout",
     "output_type": "stream",
     "text": [
      "11\n"
     ]
    }
   ],
   "source": [
    "sum_one = lambda x : x + 1\n",
    "print(sum_one(10))"
   ]
  },
  {
   "cell_type": "code",
   "execution_count": 43,
   "metadata": {},
   "outputs": [
    {
     "name": "stdout",
     "output_type": "stream",
     "text": [
      "6\n"
     ]
    }
   ],
   "source": [
    "print((lambda x, y : x + y)(2, 4))"
   ]
  },
  {
   "cell_type": "code",
   "execution_count": 44,
   "metadata": {},
   "outputs": [
    {
     "name": "stdout",
     "output_type": "stream",
     "text": [
      "-1\n"
     ]
    }
   ],
   "source": [
    "conditional = lambda x : x if not(x % 2) else -1\n",
    "print(conditional(3))"
   ]
  },
  {
   "cell_type": "markdown",
   "metadata": {},
   "source": [
    "## List comprehension\n",
    "\n",
    "Las List comprehension son herramientas de Python más avanzadas. Si estás aprendiendo por primera vez, podes sobrevivir sin usarlo, pero un usuario más avanzado puede aprovechar para realizar loops de forma mas rapida e eficiente"
   ]
  },
  {
   "cell_type": "code",
   "execution_count": 45,
   "metadata": {},
   "outputs": [],
   "source": [
    "even_squared = [x**2 for x in range(20) if not(x%2)]"
   ]
  },
  {
   "cell_type": "code",
   "execution_count": 46,
   "metadata": {},
   "outputs": [
    {
     "name": "stdout",
     "output_type": "stream",
     "text": [
      "[0, 4, 16, 36, 64, 100, 144, 196, 256, 324]\n"
     ]
    }
   ],
   "source": [
    "print(even_squared)"
   ]
  },
  {
   "cell_type": "markdown",
   "metadata": {},
   "source": [
    "## Generators\n",
    "\n",
    "Tambien tenemos generadores, que nos evita guardar todo en memoria RAM, sino que cada vez que se llama, consumir el siguiente valor del ciclo hasta que se termine el ciclo entero. Es decir, pagamos más procesamiento para ahorrar RAM:"
   ]
  },
  {
   "cell_type": "code",
   "execution_count": 47,
   "metadata": {},
   "outputs": [],
   "source": [
    "iterable_1 = (x for x in range(10))"
   ]
  },
  {
   "cell_type": "code",
   "execution_count": 48,
   "metadata": {},
   "outputs": [
    {
     "name": "stdout",
     "output_type": "stream",
     "text": [
      "0\n",
      "1\n",
      "2\n"
     ]
    }
   ],
   "source": [
    "print(next(iterable_1))\n",
    "print(next(iterable_1))\n",
    "print(next(iterable_1))"
   ]
  },
  {
   "cell_type": "code",
   "execution_count": 49,
   "metadata": {},
   "outputs": [
    {
     "name": "stdout",
     "output_type": "stream",
     "text": [
      "3\n",
      "4\n",
      "5\n",
      "6\n",
      "7\n",
      "8\n",
      "9\n"
     ]
    }
   ],
   "source": [
    "for value in iterable_1:\n",
    "    print(value)"
   ]
  },
  {
   "cell_type": "code",
   "execution_count": 50,
   "metadata": {},
   "outputs": [
    {
     "ename": "StopIteration",
     "evalue": "",
     "output_type": "error",
     "traceback": [
      "\u001b[0;31m---------------------------------------------------------------------------\u001b[0m",
      "\u001b[0;31mStopIteration\u001b[0m                             Traceback (most recent call last)",
      "\u001b[1;32m/Users/facundolucianna/Docencia/UBA/Aprendizaje Automatico/Apre_Aut_CEIoT/clase0/1 - Usando Python.ipynb Cell 79\u001b[0m line \u001b[0;36m2\n\u001b[1;32m      <a href='vscode-notebook-cell:/Users/facundolucianna/Docencia/UBA/Aprendizaje%20Automatico/Apre_Aut_CEIoT/clase0/1%20-%20Usando%20Python.ipynb#Y144sZmlsZQ%3D%3D?line=0'>1</a>\u001b[0m \u001b[39m#Una vez que se consumio todo, da error\u001b[39;00m\n\u001b[0;32m----> <a href='vscode-notebook-cell:/Users/facundolucianna/Docencia/UBA/Aprendizaje%20Automatico/Apre_Aut_CEIoT/clase0/1%20-%20Usando%20Python.ipynb#Y144sZmlsZQ%3D%3D?line=1'>2</a>\u001b[0m \u001b[39mprint\u001b[39m(\u001b[39mnext\u001b[39;49m(iterable_1))\n",
      "\u001b[0;31mStopIteration\u001b[0m: "
     ]
    }
   ],
   "source": [
    "#Una vez que se consumio todo, da error\n",
    "print(next(iterable_1))"
   ]
  }
 ],
 "metadata": {
  "kernelspec": {
   "display_name": "notebook_env_python3_11",
   "language": "python",
   "name": "notebook_env_python3_11"
  },
  "language_info": {
   "codemirror_mode": {
    "name": "ipython",
    "version": 3
   },
   "file_extension": ".py",
   "mimetype": "text/x-python",
   "name": "python",
   "nbconvert_exporter": "python",
   "pygments_lexer": "ipython3",
   "version": "3.11.6"
  }
 },
 "nbformat": 4,
 "nbformat_minor": 2
}
