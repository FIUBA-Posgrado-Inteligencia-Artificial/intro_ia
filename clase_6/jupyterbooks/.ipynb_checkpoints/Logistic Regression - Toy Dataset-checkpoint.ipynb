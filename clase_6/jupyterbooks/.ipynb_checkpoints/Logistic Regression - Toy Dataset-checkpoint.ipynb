{
 "cells": [
  {
   "cell_type": "markdown",
   "metadata": {},
   "source": [
    "# Logistic Regression"
   ]
  },
  {
   "cell_type": "markdown",
   "metadata": {},
   "source": [
    "En éste notebook vamos a ver la implementación en NumPy del modelo de regresión logística mediante gradient descent, usando los resultados obtenidos de la teoría. Por último, se computarán las métricas para medir el rendimiento del modelo."
   ]
  },
  {
   "cell_type": "markdown",
   "metadata": {},
   "source": [
    "## Cargamos las Librerías"
   ]
  },
  {
   "cell_type": "code",
   "execution_count": 3,
   "metadata": {},
   "outputs": [],
   "source": [
    "import numpy as np\n",
    "import pandas as pd\n",
    "import time\n",
    "import matplotlib.pyplot as plt"
   ]
  },
  {
   "cell_type": "code",
   "execution_count": 4,
   "metadata": {},
   "outputs": [],
   "source": [
    "import sys  \n",
    "sys.path.insert(0, '../../clase_3/ejercicios/src')"
   ]
  },
  {
   "cell_type": "code",
   "execution_count": 5,
   "metadata": {},
   "outputs": [],
   "source": [
    "from models import BaseModel"
   ]
  },
  {
   "cell_type": "code",
   "execution_count": 6,
   "metadata": {},
   "outputs": [],
   "source": [
    "from metrics import Accuracy, Precision, Recall"
   ]
  },
  {
   "cell_type": "markdown",
   "metadata": {},
   "source": [
    "## Cargamos el Dataset"
   ]
  },
  {
   "cell_type": "code",
   "execution_count": 9,
   "metadata": {},
   "outputs": [],
   "source": [
    "class Data(object):\n",
    "\n",
    "    def __init__(self, path):\n",
    "        self.dataset = self._build_dataset(path)\n",
    "\n",
    "    def _build_dataset(self, path):\n",
    "        structure = [('x_1', float),\n",
    "                     ('x_2', float),\n",
    "                     ('y', float)]\n",
    "\n",
    "        with open(path, encoding=\"utf8\") as data_csv:\n",
    "            data_gen = ((float(line.split(',')[0]), float(line.split(',')[1]), float(line.split(',')[2]))\n",
    "                        for i, line in enumerate(data_csv) if i != 0)\n",
    "            embeddings = np.fromiter(data_gen, structure)\n",
    "\n",
    "        return embeddings\n",
    "\n",
    "    def split(self, percentage):\n",
    "        X = np.array([self.dataset['x_1'], self.dataset['x_2']]).T\n",
    "        y = self.dataset['y']\n",
    "\n",
    "        permuted_idxs = np.random.permutation(X.shape[0])\n",
    "\n",
    "        train_idxs = permuted_idxs[0:int(percentage * X.shape[0])]\n",
    "\n",
    "        test_idxs = permuted_idxs[int(percentage * X.shape[0]): X.shape[0]]\n",
    "\n",
    "        X_train = X[train_idxs]\n",
    "        X_test = X[test_idxs]\n",
    "\n",
    "        y_train = y[train_idxs]\n",
    "        y_test = y[test_idxs]\n",
    "\n",
    "        return X_train, X_test, y_train, y_test"
   ]
  },
  {
   "cell_type": "code",
   "execution_count": 10,
   "metadata": {},
   "outputs": [
    {
     "name": "stdout",
     "output_type": "stream",
     "text": [
      "Formato del dataset: (79, 2)\n"
     ]
    }
   ],
   "source": [
    "dataset = Data('data/clase_6_dataset.txt')\n",
    "X_train, X_test, y_train, y_test = dataset.split(0.8)\n",
    "\n",
    "print('Formato del dataset: {}'.format(X_train.shape))"
   ]
  },
  {
   "cell_type": "code",
   "execution_count": 11,
   "metadata": {},
   "outputs": [
    {
     "data": {
      "text/plain": [
       "(20, 2)"
      ]
     },
     "execution_count": 11,
     "metadata": {},
     "output_type": "execute_result"
    }
   ],
   "source": [
    "X_test.shape"
   ]
  },
  {
   "cell_type": "code",
   "execution_count": 10,
   "metadata": {},
   "outputs": [
    {
     "name": "stdout",
     "output_type": "stream",
     "text": [
      "[[84.43281996 43.53339331]\n",
      " [35.84740877 72.90219803]\n",
      " [47.26426911 88.475865  ]\n",
      " [76.0987867  87.42056972]\n",
      " [55.34001756 64.93193801]\n",
      " [45.08327748 56.31637178]\n",
      " [32.57720017 95.59854761]\n",
      " [61.37928945 72.80788731]\n",
      " [99.8278578  72.36925193]\n",
      " [60.18259939 86.3085521 ]]\n"
     ]
    }
   ],
   "source": [
    "print(X_test[:10, :])"
   ]
  },
  {
   "cell_type": "code",
   "execution_count": 11,
   "metadata": {},
   "outputs": [
    {
     "data": {
      "image/png": "[encoded data removed]",
      "text/plain": [
       "<Figure size 432x288 with 1 Axes>"
      ]
     },
     "metadata": {
      "needs_background": "light"
     },
     "output_type": "display_data"
    }
   ],
   "source": [
    "# Observamos los datos\n",
    "plt.scatter(X_train[:, 0], X_train[:, 1], c=y_train)\n",
    "plt.xlabel('X1')\n",
    "plt.ylabel('X2')\n",
    "plt.show()"
   ]
  },
  {
   "cell_type": "code",
   "execution_count": 12,
   "metadata": {},
   "outputs": [],
   "source": [
    "# escalamos los datos de entrada.Es importante para evitar poblemas numéricos como overflow.\n",
    "from sklearn.preprocessing import StandardScaler\n",
    "\n",
    "scaler = StandardScaler()\n",
    "X_train = scaler.fit_transform(X_train)\n",
    "X_test = scaler.transform(X_test)"
   ]
  },
  {
   "cell_type": "code",
   "execution_count": 13,
   "metadata": {},
   "outputs": [
    {
     "data": {
      "text/plain": [
       "array([[-1.6698554 ,  0.52068184],\n",
       "       [ 0.73234368,  1.33647129],\n",
       "       [-0.2191965 ,  1.63786602],\n",
       "       [ 0.55611945, -0.91460347],\n",
       "       [ 1.44637883,  0.62037671]])"
      ]
     },
     "execution_count": 13,
     "metadata": {},
     "output_type": "execute_result"
    }
   ],
   "source": [
    "X_train[:5, :]"
   ]
  },
  {
   "cell_type": "code",
   "execution_count": 14,
   "metadata": {},
   "outputs": [
    {
     "data": {
      "text/plain": [
       "array([[ 0.94383861, -1.12436027],\n",
       "       [-1.58331503,  0.39949862],\n",
       "       [-0.98947092,  1.20756933],\n",
       "       [ 0.51034671,  1.15281323],\n",
       "       [-0.56941361, -0.01405419]])"
      ]
     },
     "execution_count": 14,
     "metadata": {},
     "output_type": "execute_result"
    }
   ],
   "source": [
    "X_test[:5, :]"
   ]
  },
  {
   "cell_type": "markdown",
   "metadata": {},
   "source": [
    "## Regresión Logística"
   ]
  },
  {
   "cell_type": "code",
   "execution_count": 16,
   "metadata": {},
   "outputs": [],
   "source": [
    "def sigmoid( x):\n",
    "        return 1 / (1 + np.exp(-x))"
   ]
  },
  {
   "cell_type": "code",
   "execution_count": 21,
   "metadata": {},
   "outputs": [],
   "source": [
    "class LogisticRegression(BaseModel):\n",
    "    \n",
    "    # definimos la función sigmoid para entrenamiento y las predicciones\n",
    "\n",
    "    \n",
    "    # definimos la función loss para reportarla cada cierta cantidad de epochs\n",
    "    def loss(self, y, y_hat):\n",
    "        loss = np.mean(-y*(np.log(y_hat)) - (1-y)*np.log(1-y_hat))\n",
    "        return loss \n",
    "\n",
    "    def fit(self, X, y, lr, b, epochs, bias=True, log=100, verbose=True):\n",
    "\n",
    "        # si decidimos utilizar bias, agregamos como siempre una columna con '1' al dataset de entrada\n",
    "        if bias:\n",
    "            X = np.hstack((np.ones((X.shape[0], 1)), X))\n",
    "\n",
    "        # inicializamos aleatoriamente los pesos\n",
    "        m = X.shape[1]\n",
    "        W = np.random.randn(m).reshape(m, 1)\n",
    "\n",
    "        loss_list = []\n",
    "        \n",
    "        # corremos Mini-Batch para optimizar los parámetros\n",
    "        for j in range(epochs):\n",
    "            idx = np.random.permutation(X.shape[0])\n",
    "            X_train = X[idx]\n",
    "            y_train = y[idx]\n",
    "            batch_size = int(len(X_train) / b)\n",
    "\n",
    "            for i in range(0, len(X_train), batch_size):\n",
    "                end = i + batch_size if i + batch_size <= len(X_train) else len(X_train)\n",
    "                batch_X = X_train[i: end]\n",
    "                batch_y = y_train[i: end]\n",
    "\n",
    "                prediction = sigmoid(np.sum(np.transpose(W) * batch_X, axis=1))\n",
    "                error = prediction.reshape(-1, 1) - batch_y.reshape(-1, 1)\n",
    "                grad_sum = np.sum(error * batch_X, axis=0)\n",
    "                grad_mul = 1 / batch_size * grad_sum\n",
    "                gradient = np.transpose(grad_mul).reshape(-1, 1)\n",
    "\n",
    "                W = W - (lr * gradient)\n",
    "            \n",
    "            l_epoch = self.loss(y_train, sigmoid(np.dot(X_train, W)))\n",
    "            loss_list.append(l_epoch)\n",
    "            if verbose:\n",
    "                if j%log==0:\n",
    "                    print(\"Epoch: {}, Loss: {}\".format(j, l_epoch))\n",
    "                \n",
    "        self.model = W\n",
    "        self.losses = loss_list\n",
    "\n",
    "    def predict(self, X):\n",
    "        X = np.hstack((np.ones((X.shape[0], 1)), X))\n",
    "        p = sigmoid(X @ self.model)\n",
    "        mask_true = p >= 0.5\n",
    "        mask_false = p < 0.5\n",
    "        p[mask_true] = 1\n",
    "        p[mask_false] = 0\n",
    "        return p"
   ]
  },
  {
   "cell_type": "code",
   "execution_count": 22,
   "metadata": {},
   "outputs": [
    {
     "name": "stdout",
     "output_type": "stream",
     "text": [
      "Epoch: 0, Loss: 0.9798232414502758\n",
      "Epoch: 50, Loss: 0.31323750160903874\n",
      "Epoch: 100, Loss: 0.26755023279078555\n",
      "Epoch: 150, Loss: 0.2526592944079315\n",
      "Epoch: 200, Loss: 0.24421560539410425\n",
      "Epoch: 250, Loss: 0.23867530590482025\n",
      "Epoch: 300, Loss: 0.23478551849708013\n",
      "Epoch: 350, Loss: 0.2319352609737719\n",
      "Epoch: 400, Loss: 0.22978058771421003\n",
      "Epoch: 450, Loss: 0.22811406990405705\n",
      "Epoch: 500, Loss: 0.22680121895099473\n",
      "Epoch: 550, Loss: 0.22575184626030279\n",
      "Epoch: 600, Loss: 0.22490223956728425\n",
      "Epoch: 650, Loss: 0.22420772862105876\n",
      "Epoch: 700, Loss: 0.22363480243733747\n",
      "Epoch: 750, Loss: 0.22315881934269827\n",
      "Epoch: 800, Loss: 0.2227605466302492\n",
      "Epoch: 850, Loss: 0.22242545094329247\n",
      "Epoch: 900, Loss: 0.22214239957308068\n",
      "Epoch: 950, Loss: 0.22190220770203348\n",
      "[[1.57978619]\n",
      " [3.43871583]\n",
      " [3.24150812]]\n"
     ]
    }
   ],
   "source": [
    "# Seleccionar hiperparámetros\n",
    "lr = 0.01\n",
    "b = 16\n",
    "epochs = 1000\n",
    "bias = True\n",
    "\n",
    "# Hacer el fit del modelo con los HPs seleccionados\n",
    "logistic_regression = LogisticRegression()\n",
    "logistic_regression.fit(X_train, y_train.reshape(-1, 1), lr, b, epochs, bias, log=50)\n",
    "print(logistic_regression.model)\n",
    "predictions = logistic_regression.predict(X_test)"
   ]
  },
  {
   "cell_type": "markdown",
   "metadata": {},
   "source": [
    "### Decision Boundary"
   ]
  },
  {
   "cell_type": "markdown",
   "metadata": {},
   "source": [
    "En los casos donde tengamos dos o tres features en el dataset, podemos graficar la línea de decisión (plano para 3 features) que aplica el modelo para clasificar las muestras bajo una u otra clase. La derivación surge de la fórmula lineal que se utiliza en la sigmoid:"
   ]
  },
  {
   "cell_type": "markdown",
   "metadata": {},
   "source": [
    "$\\hat{y}\\geq 0.5 \\to 1$ \n",
    "\n",
    "$\\hat{y}<0.5 \\to 0$\n",
    "\n",
    "Teniendo en cuenta la función sigmoid:\n",
    "\n",
    "$\\hat{y}\\geq 0.5 \\Leftrightarrow w^{T}x + b \\geq 0$\n",
    "\n",
    "Por lo que la decision boundary es:\n",
    "\n",
    "$w^{T}x + b \\geq 0$\n",
    "\n",
    "\n",
    "Igualando a la ecuación de una recta en 2D, donde la abcisa es $X_1$ y la ordenada $X_2$:\n",
    "\n",
    "$w_1x_1 + w_2x_2 + w_0 = mx_1 + c$\n",
    "\n",
    "$w_1x_1 + w_2x_2 + w_0 = 0 $\n",
    "\n",
    "$w_1x_1 + w_2mx_1+w_2c + w_0 = 0$\n",
    "\n",
    "$x_1 = 0 \\to w_2c + w_0 = 0$ \n",
    "\n",
    "$c = -w_0/w_2$\n",
    "\n",
    "Reemplazando $c$:\n",
    "\n",
    "$w_1x_1 + w_2mx_1 = 0$\n",
    "\n",
    "$w_1x_1 = -w_2mx_1$\n",
    "\n",
    "$m = -w_1/w_2$"
   ]
  },
  {
   "cell_type": "code",
   "execution_count": 17,
   "metadata": {},
   "outputs": [],
   "source": [
    "# Calculamos el slope e intercept para graficar\n",
    "slope = -(logistic_regression.model[1] / logistic_regression.model[2])\n",
    "intercept = -(logistic_regression.model[0] / logistic_regression.model[2])"
   ]
  },
  {
   "cell_type": "code",
   "execution_count": 18,
   "metadata": {},
   "outputs": [
    {
     "data": {
      "image/png": "[encoded data removed]",
      "text/plain": [
       "<Figure size 1080x1080 with 2 Axes>"
      ]
     },
     "metadata": {
      "needs_background": "light"
     },
     "output_type": "display_data"
    }
   ],
   "source": [
    "# Graficos\n",
    "f, (ax, bx) = plt.subplots(2, 1, sharey='col', figsize=(15, 15))\n",
    "\n",
    "ax.scatter(X_test[:, 0], X_test[:, 1], c=y_test)\n",
    "ax.set_title('Valores reales')\n",
    "\n",
    "bx.scatter(X_test[:, 0], X_test[:, 1], c=predictions[:, 0])\n",
    "y_vals = intercept + (slope * X_test[:, 0])\n",
    "bx.plot(X_test[:, 0], y_vals, c=\"k\")\n",
    "bx.set_title('Predicciones')\n",
    "\n",
    "plt.show()"
   ]
  },
  {
   "cell_type": "markdown",
   "metadata": {},
   "source": [
    "### Calculamos las métricas"
   ]
  },
  {
   "cell_type": "code",
   "execution_count": 26,
   "metadata": {},
   "outputs": [
    {
     "data": {
      "text/plain": [
       "(20, 1)"
      ]
     },
     "execution_count": 26,
     "metadata": {},
     "output_type": "execute_result"
    }
   ],
   "source": [
    "predictions.shape"
   ]
  },
  {
   "cell_type": "code",
   "execution_count": 27,
   "metadata": {},
   "outputs": [
    {
     "name": "stdout",
     "output_type": "stream",
     "text": [
      "Accuracy: 0.95\n",
      "Precision: 1.0\n",
      "Recall: 0.9230769230769231\n"
     ]
    }
   ],
   "source": [
    "metrics = [Accuracy(), Precision(), Recall()]\n",
    "results = {}\n",
    "for metric in metrics:\n",
    "    name = metric.__class__.__name__\n",
    "    results[name] = metric(y_test, predictions[:, 0])\n",
    "    print('{metric}: {value}'.format(metric=name, value=results[name]))"
   ]
  },
  {
   "cell_type": "markdown",
   "metadata": {},
   "source": [
    "### K-folds para selección de hiperparámetros"
   ]
  },
  {
   "cell_type": "code",
   "execution_count": 37,
   "metadata": {},
   "outputs": [],
   "source": [
    "def k_folds(X_train, y_train, lr, b, epochs, bias=True, k=5, verbose=False):\n",
    "    \n",
    "    # Definimos el modelo a emplear\n",
    "    l_regression = LogisticRegression()\n",
    "\n",
    "    # Definimos una métrica\n",
    "    error = Accuracy()\n",
    "\n",
    "    chunk_size = int(len(X_train) / k)\n",
    "    acc_list = []\n",
    "\n",
    "    for i in range(0, len(X_train), chunk_size):\n",
    "        end = i + chunk_size if i + chunk_size <= len(X_train) else len(X_train)\n",
    "        new_X_valid = X_train[i: end]\n",
    "        new_y_valid = y_train[i: end]\n",
    "        new_X_train = np.concatenate([X_train[: i], X_train[end:]])\n",
    "        new_y_train = np.concatenate([y_train[: i], y_train[end:]])\n",
    "\n",
    "        l_regression.fit(new_X_train, new_y_train, lr, b, epochs, bias, verbose=verbose)\n",
    "        prediction = l_regression.predict(new_X_valid)\n",
    "        k_error = error(new_y_valid, prediction)\n",
    "        acc_list.append(k_error)\n",
    "        # print(\"Modelo {i} de {k}, Métrica: {error}\".format(i=i/chunk_size, k=k, error=k_error))\n",
    "        \n",
    "    mean_acc = np.mean(acc_list)\n",
    "\n",
    "    return mean_acc"
   ]
  },
  {
   "cell_type": "code",
   "execution_count": 38,
   "metadata": {},
   "outputs": [],
   "source": [
    "# K-Folds para determinación del learning rate\n",
    "\n",
    "lr_list = np.linspace(0.001, 0.01, 10)\n",
    "kfolds_lr = np.zeros(lr_list.shape)\n",
    "\n",
    "for i, lr in enumerate(lr_list):\n",
    "    kfolds_lr[i] = k_folds(X_train, y_train.reshape(-1, 1), lr, 16, 1000)\n",
    "\n",
    "best_lr = lr_list[np.argmax(kfolds_lr)]"
   ]
  },
  {
   "cell_type": "code",
   "execution_count": 39,
   "metadata": {},
   "outputs": [
    {
     "data": {
      "text/plain": [
       "0.007"
      ]
     },
     "execution_count": 39,
     "metadata": {},
     "output_type": "execute_result"
    }
   ],
   "source": [
    "best_lr"
   ]
  },
  {
   "cell_type": "code",
   "execution_count": 42,
   "metadata": {},
   "outputs": [],
   "source": [
    "colname = ['learning_rate', 'kfolds_mean']\n",
    "lr_df = pd.DataFrame(np.column_stack([lr_list, kfolds_lr]),columns=colname)"
   ]
  },
  {
   "cell_type": "code",
   "execution_count": 45,
   "metadata": {},
   "outputs": [
    {
     "data": {
      "text/html": [
       "<div>\n",
       "<style scoped>\n",
       "    .dataframe tbody tr th:only-of-type {\n",
       "        vertical-align: middle;\n",
       "    }\n",
       "\n",
       "    .dataframe tbody tr th {\n",
       "        vertical-align: top;\n",
       "    }\n",
       "\n",
       "    .dataframe thead th {\n",
       "        text-align: right;\n",
       "    }\n",
       "</style>\n",
       "<table border=\"1\" class=\"dataframe\">\n",
       "  <thead>\n",
       "    <tr style=\"text-align: right;\">\n",
       "      <th></th>\n",
       "      <th>learning_rate</th>\n",
       "      <th>kfolds_mean</th>\n",
       "    </tr>\n",
       "  </thead>\n",
       "  <tbody>\n",
       "    <tr>\n",
       "      <th>0</th>\n",
       "      <td>0.001</td>\n",
       "      <td>0.836111</td>\n",
       "    </tr>\n",
       "    <tr>\n",
       "      <th>1</th>\n",
       "      <td>0.002</td>\n",
       "      <td>0.836111</td>\n",
       "    </tr>\n",
       "  </tbody>\n",
       "</table>\n",
       "</div>"
      ],
      "text/plain": [
       "   learning_rate  kfolds_mean\n",
       "0          0.001     0.836111\n",
       "1          0.002     0.836111"
      ]
     },
     "execution_count": 45,
     "metadata": {},
     "output_type": "execute_result"
    }
   ],
   "source": [
    "lr_df.head(2)"
   ]
  },
  {
   "cell_type": "code",
   "execution_count": 46,
   "metadata": {},
   "outputs": [
    {
     "data": {
      "text/html": [
       "<div>\n",
       "<style scoped>\n",
       "    .dataframe tbody tr th:only-of-type {\n",
       "        vertical-align: middle;\n",
       "    }\n",
       "\n",
       "    .dataframe tbody tr th {\n",
       "        vertical-align: top;\n",
       "    }\n",
       "\n",
       "    .dataframe thead th {\n",
       "        text-align: right;\n",
       "    }\n",
       "</style>\n",
       "<table border=\"1\" class=\"dataframe\">\n",
       "  <thead>\n",
       "    <tr style=\"text-align: right;\">\n",
       "      <th></th>\n",
       "      <th>learning_rate</th>\n",
       "      <th>kfolds_mean</th>\n",
       "    </tr>\n",
       "  </thead>\n",
       "  <tbody>\n",
       "    <tr>\n",
       "      <th>count</th>\n",
       "      <td>10.000000</td>\n",
       "      <td>10.000000</td>\n",
       "    </tr>\n",
       "    <tr>\n",
       "      <th>mean</th>\n",
       "      <td>0.005500</td>\n",
       "      <td>0.840556</td>\n",
       "    </tr>\n",
       "    <tr>\n",
       "      <th>std</th>\n",
       "      <td>0.003028</td>\n",
       "      <td>0.005738</td>\n",
       "    </tr>\n",
       "    <tr>\n",
       "      <th>min</th>\n",
       "      <td>0.001000</td>\n",
       "      <td>0.836111</td>\n",
       "    </tr>\n",
       "    <tr>\n",
       "      <th>25%</th>\n",
       "      <td>0.003250</td>\n",
       "      <td>0.836111</td>\n",
       "    </tr>\n",
       "    <tr>\n",
       "      <th>50%</th>\n",
       "      <td>0.005500</td>\n",
       "      <td>0.836111</td>\n",
       "    </tr>\n",
       "    <tr>\n",
       "      <th>75%</th>\n",
       "      <td>0.007750</td>\n",
       "      <td>0.847222</td>\n",
       "    </tr>\n",
       "    <tr>\n",
       "      <th>max</th>\n",
       "      <td>0.010000</td>\n",
       "      <td>0.847222</td>\n",
       "    </tr>\n",
       "  </tbody>\n",
       "</table>\n",
       "</div>"
      ],
      "text/plain": [
       "       learning_rate  kfolds_mean\n",
       "count      10.000000    10.000000\n",
       "mean        0.005500     0.840556\n",
       "std         0.003028     0.005738\n",
       "min         0.001000     0.836111\n",
       "25%         0.003250     0.836111\n",
       "50%         0.005500     0.836111\n",
       "75%         0.007750     0.847222\n",
       "max         0.010000     0.847222"
      ]
     },
     "execution_count": 46,
     "metadata": {},
     "output_type": "execute_result"
    }
   ],
   "source": [
    "lr_df.describe()"
   ]
  },
  {
   "cell_type": "code",
   "execution_count": 47,
   "metadata": {},
   "outputs": [],
   "source": [
    "# K-Folds para determinación del batch\n",
    "batch_list = np.linspace(1, 30, 30)\n",
    "kfolds_b = np.zeros(batch_list.shape)\n",
    "\n",
    "for i, b in enumerate(batch_list):\n",
    "    kfolds_b[i] = k_folds(X_train, y_train.reshape(-1, 1), best_lr, b, 1000)\n",
    "\n",
    "best_b = batch_list[np.argmax(kfolds_b)]"
   ]
  },
  {
   "cell_type": "code",
   "execution_count": 48,
   "metadata": {},
   "outputs": [
    {
     "data": {
      "text/plain": [
       "13.0"
      ]
     },
     "execution_count": 48,
     "metadata": {},
     "output_type": "execute_result"
    }
   ],
   "source": [
    "best_b"
   ]
  },
  {
   "cell_type": "code",
   "execution_count": 49,
   "metadata": {},
   "outputs": [],
   "source": [
    "colname = ['batch', 'kfolds_mean']\n",
    "batch_df = pd.DataFrame(np.column_stack([batch_list, kfolds_b]),columns=colname)"
   ]
  },
  {
   "cell_type": "code",
   "execution_count": 51,
   "metadata": {},
   "outputs": [
    {
     "data": {
      "text/html": [
       "<div>\n",
       "<style scoped>\n",
       "    .dataframe tbody tr th:only-of-type {\n",
       "        vertical-align: middle;\n",
       "    }\n",
       "\n",
       "    .dataframe tbody tr th {\n",
       "        vertical-align: top;\n",
       "    }\n",
       "\n",
       "    .dataframe thead th {\n",
       "        text-align: right;\n",
       "    }\n",
       "</style>\n",
       "<table border=\"1\" class=\"dataframe\">\n",
       "  <thead>\n",
       "    <tr style=\"text-align: right;\">\n",
       "      <th></th>\n",
       "      <th>batch</th>\n",
       "      <th>kfolds_mean</th>\n",
       "    </tr>\n",
       "  </thead>\n",
       "  <tbody>\n",
       "    <tr>\n",
       "      <th>count</th>\n",
       "      <td>30.000000</td>\n",
       "      <td>30.000000</td>\n",
       "    </tr>\n",
       "    <tr>\n",
       "      <th>mean</th>\n",
       "      <td>15.500000</td>\n",
       "      <td>0.842778</td>\n",
       "    </tr>\n",
       "    <tr>\n",
       "      <th>std</th>\n",
       "      <td>8.803408</td>\n",
       "      <td>0.005536</td>\n",
       "    </tr>\n",
       "    <tr>\n",
       "      <th>min</th>\n",
       "      <td>1.000000</td>\n",
       "      <td>0.836111</td>\n",
       "    </tr>\n",
       "    <tr>\n",
       "      <th>25%</th>\n",
       "      <td>8.250000</td>\n",
       "      <td>0.836111</td>\n",
       "    </tr>\n",
       "    <tr>\n",
       "      <th>50%</th>\n",
       "      <td>15.500000</td>\n",
       "      <td>0.847222</td>\n",
       "    </tr>\n",
       "    <tr>\n",
       "      <th>75%</th>\n",
       "      <td>22.750000</td>\n",
       "      <td>0.847222</td>\n",
       "    </tr>\n",
       "    <tr>\n",
       "      <th>max</th>\n",
       "      <td>30.000000</td>\n",
       "      <td>0.847222</td>\n",
       "    </tr>\n",
       "  </tbody>\n",
       "</table>\n",
       "</div>"
      ],
      "text/plain": [
       "           batch  kfolds_mean\n",
       "count  30.000000    30.000000\n",
       "mean   15.500000     0.842778\n",
       "std     8.803408     0.005536\n",
       "min     1.000000     0.836111\n",
       "25%     8.250000     0.836111\n",
       "50%    15.500000     0.847222\n",
       "75%    22.750000     0.847222\n",
       "max    30.000000     0.847222"
      ]
     },
     "execution_count": 51,
     "metadata": {},
     "output_type": "execute_result"
    }
   ],
   "source": [
    "batch_df.describe()"
   ]
  }
 ],
 "metadata": {
  "kernelspec": {
   "display_name": "Python 3 (ipykernel)",
   "language": "python",
   "name": "python3"
  },
  "language_info": {
   "codemirror_mode": {
    "name": "ipython",
    "version": 3
   },
   "file_extension": ".py",
   "mimetype": "text/x-python",
   "name": "python",
   "nbconvert_exporter": "python",
   "pygments_lexer": "ipython3",
   "version": "3.8.10"
  }
 },
 "nbformat": 4,
 "nbformat_minor": 4
}
