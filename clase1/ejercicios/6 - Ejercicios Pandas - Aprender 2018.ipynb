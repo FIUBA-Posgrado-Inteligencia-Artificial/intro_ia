{
 "cells": [
  {
   "cell_type": "markdown",
   "id": "dc38bd74",
   "metadata": {},
   "source": [
    "# Aprender 2018\n",
    "Inteligencia Artificial - Facundo A. Lucianna - CEIA - FIUBA\n",
    "\n",
    "Para este notebook vamos a trabajar con los datos del plan [Aprender en la edición del 2018](https://www.argentina.gob.ar/educacion/aprender2018). El plan Aprender es el dispositivo de evaluación nacional elaborado por el Ministerio de Educación de la Nación Argentina con el objetivo de relevar información oportuna y de calidad sobre los logros alcanzados y los desafíos pendientes del sistema educativo del país.\n",
    "\n",
    "El csv provisto cuenta con una versión resumida [Version completa](https://datos.gob.ar/dataset/educacion-aprender-2018). Corresponde a los resultados por cada alumnos de nivel primario alcanzado en el examen, el cual responde a una serie de preguntas, la nota de los exámenes de Lengua y Matemática, y datos que nos ubican al alumno en una provincia, un sector de educación y un nivel socioeconómico.\n",
    "\n",
    "En esta versión resumida, se presentan 7 preguntas:\n",
    "\n",
    "- ¿Cuántos años tenés? (p1)\n",
    "- Sexo  (p2)\n",
    "- ¿En qué país naciste? (p3)\n",
    "- ¿En qué país nació tu mamá? (p4)\n",
    "- ¿En qué país nació tu papá? (p5)\n",
    "- ¿Con cuántas personas vivís? (p6)\n",
    "- Aproximadamente, ¿cuántos libros hay donde vivís? (p7)\n",
    "\n",
    "Además se presenta el puntaje de los dos exámenes (lengua y matemáticas) y el nivel de desempeño.\n",
    "\n",
    "OBS: En las celdas de procesamiento si ves ___ es para que reemplaces.\n",
    "\n",
    "---\n",
    "\n",
    "## Configuración y eliminación de índices\n",
    "\n",
    "Pandas permite designar columnas como un índice. Esto permite un código más limpio al tomar subconjuntos (además de proporcionar una búsqueda más eficiente en algunas circunstancias).\n",
    "\n",
    "1. Importa `pandas` como `pd`"
   ]
  },
  {
   "cell_type": "code",
   "execution_count": null,
   "id": "073e5142",
   "metadata": {},
   "outputs": [],
   "source": []
  },
  {
   "cell_type": "markdown",
   "id": "ebd0c866",
   "metadata": {},
   "source": [
    "2. Lea el csv (`aprender2018-primaria-resumido.csv`) en un DataFrame y llame al DataFrame `aprender_2018`."
   ]
  },
  {
   "cell_type": "code",
   "execution_count": null,
   "id": "663761e0",
   "metadata": {},
   "outputs": [],
   "source": []
  },
  {
   "cell_type": "markdown",
   "id": "d7acac83",
   "metadata": {},
   "source": [
    "3. Vea la cabecera de `aprender_2018`. Además, explore la información sobre columnas y valores faltantes y una rápida estadística descriptiva."
   ]
  },
  {
   "cell_type": "code",
   "execution_count": null,
   "id": "36c828cb",
   "metadata": {},
   "outputs": [],
   "source": []
  },
  {
   "cell_type": "code",
   "execution_count": null,
   "id": "f2eee40f",
   "metadata": {},
   "outputs": [],
   "source": []
  },
  {
   "cell_type": "code",
   "execution_count": null,
   "id": "21ac12ff",
   "metadata": {},
   "outputs": [],
   "source": []
  },
  {
   "cell_type": "markdown",
   "id": "c550ab08",
   "metadata": {},
   "source": [
    "---\n",
    "## Limpiar una variable\n",
    "\n",
    "En el conjunto de datos de `aprender_2018`, la columna `\"mdesemp\"` registra desempeño del alumno en matemáticas. Similar es `\"ldesemp\"`. Estas dos columnas dan un valor categórico indicando si estuvo por debajo, satisfactorio, etc.\n",
    "\n",
    "`.value_counts()` es muy útil para columnas categóricas. Nos permite ver para una columna, que valores únicos tiene y cuántas veces se repite. Similarmente, `.unique()` nos devuelve los valores únicos que posee la columna y `.nunique()` el número de valores únicos.\n",
    "\n",
    "``` Python\n",
    "df[\"sexo\"].value_counts() \n",
    "df[\"sexo\"].unique() \n",
    "df[\"sexo\"].nunique()\n",
    "```\n",
    "\n",
    "Si se usa `.value_counts()` para `\"mdesemp\"`, verás que hay 5 valores posibles, cada uno significa:\n",
    "\n",
    "| Valor  | Significado   |\n",
    "|---|---|\n",
    "| 1  | Por debajo del nivel básico  |\n",
    "| 2  | Básico  |\n",
    "| 3  | Satisfactorio  |\n",
    "| 4  | Avanzado  |\n",
    "| -1  | No data  |\n",
    "\n",
    "`-1` significa que no hay datos. Por lo que podemos reemplazarlo por `NaN`.\n",
    "\n",
    "Además, tal como está en `\"ldesemp\"`, podemos reemplazar los números por el significado del mismo.\n",
    "\n",
    "1. Use `.value_counts()` para ver los valores de `\"mdesemp\"`"
   ]
  },
  {
   "cell_type": "code",
   "execution_count": null,
   "id": "20e92bdf",
   "metadata": {},
   "outputs": [],
   "source": [
    "aprender_2018[___].___"
   ]
  },
  {
   "cell_type": "markdown",
   "id": "60dce628",
   "metadata": {},
   "source": [
    "2. Usando `.replace()` reemplaze `-1` con `pd.NA` o `np.nan` de `\"mdesemp\"` y guárdelo en la misma columna "
   ]
  },
  {
   "cell_type": "code",
   "execution_count": null,
   "id": "baa405cf",
   "metadata": {},
   "outputs": [],
   "source": [
    "aprender_2018[___] = aprender_2018[___].replace({-1: ___})"
   ]
  },
  {
   "cell_type": "code",
   "execution_count": null,
   "id": "0f6526e0",
   "metadata": {},
   "outputs": [],
   "source": []
  },
  {
   "cell_type": "markdown",
   "id": "a435d688",
   "metadata": {},
   "source": [
    "3. Use `.value_counts()` para ver los valores modificados de `\"mdesemp\"`"
   ]
  },
  {
   "cell_type": "code",
   "execution_count": null,
   "id": "e274011a",
   "metadata": {},
   "outputs": [],
   "source": []
  },
  {
   "cell_type": "markdown",
   "id": "891b440c",
   "metadata": {},
   "source": [
    "---\n",
    "\n",
    "## Reemplazos usando .loc[]\n",
    "\n",
    "`.loc[]` no solo se puede usar para hacer slicing, sino para reemplazar valores, la forma que se hace es:\n",
    "\n",
    "``` Python\n",
    "df.loc[\"índice\", \"columna\"] = nuevo_valor\n",
    "```\n",
    "\n",
    "Pero este reemplazo lo podemos hacer además usando condicionales, tales como \n",
    "\n",
    "``` Python\n",
    "df.loc[df[\"peso\"] > 80, \"peso\"] = 80\n",
    "```\n",
    "\n",
    "Inclusive el condicional puede pertenecer a otra columna\n",
    "\n",
    "``` Python\n",
    "df.loc[df[\"peso\"] > 80, \"altura\"] = 180\n",
    "```\n",
    "\n",
    "La columna `\"p2\"` es sobre el sexo del alumno. Nos avisaron que hay errores de transcripción. Era esperable que si el valor es `1` es *Maculino* y si es `2` es *Femenino*. Pero algunos casos se transcribieron el número `22` en vez del `2`. Debemos reemplazar los valores, para esto vamos a usar un reemplazo usando `.loc[]`:\n",
    "\n",
    "1. Realice un slicing de `aprender_2018` usando condicionales las filas que `\"p2\"` es `22` (podes hacer igual a `22` o mayor a `2`). Imprima el resultado."
   ]
  },
  {
   "cell_type": "code",
   "execution_count": null,
   "id": "673189ea",
   "metadata": {},
   "outputs": [],
   "source": [
    "aprender_2018[aprender_2018[\"p2\"] ___ ___] "
   ]
  },
  {
   "cell_type": "markdown",
   "id": "01fc4a0b",
   "metadata": {},
   "source": [
    "2. Reemplace de `aprender_2018` todas las filas en aparece `22` por `2` usando `.loc[]`. Para ello use en la primera parte de `.loc[]` el condicional usado en el punto anterior, y para la columna a `\"p2\"`."
   ]
  },
  {
   "cell_type": "code",
   "execution_count": null,
   "id": "6d7657c5",
   "metadata": {},
   "outputs": [],
   "source": [
    "aprender_2018.loc[___, \"p2\"] = ___"
   ]
  },
  {
   "cell_type": "code",
   "execution_count": null,
   "id": "c10c73a4",
   "metadata": {},
   "outputs": [],
   "source": []
  },
  {
   "cell_type": "markdown",
   "id": "ecb72af9",
   "metadata": {},
   "source": [
    "3. Realice un nuevo slicing usando condicionales las filas que `\"p2\"` es `22`. Imprima el resultado."
   ]
  },
  {
   "cell_type": "code",
   "execution_count": null,
   "id": "77c1040f",
   "metadata": {},
   "outputs": [],
   "source": []
  },
  {
   "cell_type": "markdown",
   "id": "2b828f68",
   "metadata": {},
   "source": [
    "---\n",
    "\n",
    "## Computar una variable\n",
    "\n",
    "Para cada nota de los exámenes (mpuntaje y lpuntaje) la máxima nota es 1000. Podemos operar la variable para que esté en un rango que estemos más familiarizado, es decir de 0 a 10.\n",
    "\n",
    "Trabajando con `aprender_2018`:\n",
    "\n",
    "1. Seleccione `\"mpuntaje\"`, dividilo por 100 y asígnalo a la columna `\"mpuntaje_10\"`"
   ]
  },
  {
   "cell_type": "code",
   "execution_count": null,
   "id": "64fb9389",
   "metadata": {},
   "outputs": [],
   "source": [
    "___ = aprender_2018[___] / 100"
   ]
  },
  {
   "cell_type": "markdown",
   "id": "e89028a0",
   "metadata": {},
   "source": [
    "2. Seleccione `\"lpuntaje\"`, dividilo por 100 y asígnalo a la columna `\"lpuntaje_10\"`"
   ]
  },
  {
   "cell_type": "code",
   "execution_count": null,
   "id": "fa37aa2d",
   "metadata": {},
   "outputs": [],
   "source": []
  },
  {
   "cell_type": "markdown",
   "id": "fe6ad55c",
   "metadata": {},
   "source": [
    "---\n",
    "\n",
    "## Computar nota promedio de los alumnos con desempeño Avanzado.\n",
    "\n",
    "Uniendo lo que hemos hecho hasta ahora, podemos calcular la nota media del examen de lengua (`\"lpuntaje\"`) de aquellos alumnos que tuvieron un desempeño avanzado (`\"ldesemp\"`).\n",
    "\n",
    "Trabajando con `aprender_2018`:\n",
    "\n",
    "1. Filtra usando condicionales a las filas que `\"ldesemp\"` sea igual a `\"Avanzado\"`. Asignelo a `alumnos_lengua_avanzado`"
   ]
  },
  {
   "cell_type": "code",
   "execution_count": null,
   "id": "fe0c9c05",
   "metadata": {},
   "outputs": [],
   "source": [
    "___ = aprender_2018[___ == ___]"
   ]
  },
  {
   "cell_type": "markdown",
   "id": "bfe8f06a",
   "metadata": {},
   "source": [
    "2. Calcula la nota promedio de `\"lpuntaje_10\"` de alumnos_lengua_avanzado usando `.mean()` e imprimila"
   ]
  },
  {
   "cell_type": "code",
   "execution_count": null,
   "id": "811b411d",
   "metadata": {},
   "outputs": [],
   "source": [
    "alumnos_lengua_avanzado[___].mean()"
   ]
  },
  {
   "cell_type": "markdown",
   "id": "0383eb2b",
   "metadata": {},
   "source": [
    "3. Calcula la nota promedio de `\"mpuntaje_10\"` de alumnos_lengua_avanzado usando `.mean()` e imprimila\n",
    "\n"
   ]
  },
  {
   "cell_type": "code",
   "execution_count": null,
   "id": "f067aa51",
   "metadata": {},
   "outputs": [],
   "source": []
  },
  {
   "cell_type": "markdown",
   "id": "c0d339cb",
   "metadata": {},
   "source": [
    "¿Los alumnos con desempeño avanzado en lengua, tuvieron una nota promedio de matemática similar al de lengua?"
   ]
  },
  {
   "cell_type": "markdown",
   "id": "64139216",
   "metadata": {},
   "source": []
  }
 ],
 "metadata": {
  "kernelspec": {
   "display_name": "Python 3 (ipykernel)",
   "language": "python",
   "name": "python3"
  },
  "language_info": {
   "codemirror_mode": {
    "name": "ipython",
    "version": 3
   },
   "file_extension": ".py",
   "mimetype": "text/x-python",
   "name": "python",
   "nbconvert_exporter": "python",
   "pygments_lexer": "ipython3",
   "version": "3.9.13"
  }
 },
 "nbformat": 4,
 "nbformat_minor": 5
}
