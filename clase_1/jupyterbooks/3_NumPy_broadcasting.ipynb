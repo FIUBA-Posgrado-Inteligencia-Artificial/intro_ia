{
 "cells": [
  {
   "attachments": {},
   "cell_type": "markdown",
   "metadata": {},
   "source": [
    "<img src=\"img/Numpy.jpeg\" alt=\"drawing\" style=\"width:40%;\"/>"
   ]
  },
  {
   "attachments": {},
   "cell_type": "markdown",
   "metadata": {},
   "source": [
    "# Introducción a Broadcasting"
   ]
  },
  {
   "attachments": {},
   "cell_type": "markdown",
   "metadata": {},
   "source": [
    ">\"El término broadcasting refiere a como NumPy gestiona arreglos con diferentes dimensiones durante las operaciones aritméticas. Sujeto a ciertas restricciones, el arreglo de menor dimensión se \"extiende\" respecto del arreglo más grande, de forma que tienen dimensiones compatibles. La principal ventaja de broadcasting es que permite la **vectorización de operaciones matriciales** de forma que las iteraciones ocurren en C en vez de en Python. Por otro lado, realiza las operaciones **sin necesidad de efectuar copias de los datos** lo que lleva generalmente a implementaciones de algoritmos más eficientes.\" [NumPy Docs](https://numpy.org/doc/stable/user/basics.broadcasting.html#basics-broadcasting)"
   ]
  },
  {
   "attachments": {},
   "cell_type": "markdown",
   "metadata": {},
   "source": [
    "## Cargamos NumPy"
   ]
  },
  {
   "cell_type": "code",
   "execution_count": 1,
   "metadata": {},
   "outputs": [],
   "source": [
    "import numpy as np\n",
    "import sys"
   ]
  },
  {
   "cell_type": "code",
   "execution_count": 2,
   "metadata": {},
   "outputs": [
    {
     "name": "stdout",
     "output_type": "stream",
     "text": [
      "Sin broadcasting:  [2. 4. 6.]\n",
      "Con broadcasting:  [2. 4. 6.]\n"
     ]
    }
   ],
   "source": [
    "a = np.array([1.0, 2.0, 3.0])\n",
    "b = np.array([2.0, 2.0, 2.0])\n",
    "c = 2.0\n",
    "print(\"Sin broadcasting: \", a * b)\n",
    "print(\"Con broadcasting: \", a * c)"
   ]
  },
  {
   "attachments": {},
   "cell_type": "markdown",
   "metadata": {},
   "source": [
    "<img src=\"img/broadcast1.gif\" alt=\"drawing\" style=\"width:40%;\"/>"
   ]
  },
  {
   "cell_type": "code",
   "execution_count": 3,
   "metadata": {},
   "outputs": [],
   "source": [
    "d = np.arange(500000)\n",
    "e = np.full(500000, 2.0)\n",
    "f = 2.0"
   ]
  },
  {
   "cell_type": "code",
   "execution_count": 4,
   "metadata": {},
   "outputs": [
    {
     "name": "stdout",
     "output_type": "stream",
     "text": [
      "CPU times: user 1.73 ms, sys: 386 µs, total: 2.11 ms\n",
      "Wall time: 689 µs\n"
     ]
    },
    {
     "data": {
      "text/plain": [
       "array([0.00000e+00, 2.00000e+00, 4.00000e+00, ..., 9.99994e+05,\n",
       "       9.99996e+05, 9.99998e+05])"
      ]
     },
     "execution_count": 4,
     "metadata": {},
     "output_type": "execute_result"
    }
   ],
   "source": [
    "%time d * e"
   ]
  },
  {
   "cell_type": "code",
   "execution_count": 5,
   "metadata": {},
   "outputs": [
    {
     "name": "stdout",
     "output_type": "stream",
     "text": [
      "CPU times: user 2.02 ms, sys: 461 µs, total: 2.48 ms\n",
      "Wall time: 731 µs\n"
     ]
    },
    {
     "data": {
      "text/plain": [
       "array([0.00000e+00, 2.00000e+00, 4.00000e+00, ..., 9.99994e+05,\n",
       "       9.99996e+05, 9.99998e+05])"
      ]
     },
     "execution_count": 5,
     "metadata": {},
     "output_type": "execute_result"
    }
   ],
   "source": [
    "%time d * f"
   ]
  },
  {
   "attachments": {},
   "cell_type": "markdown",
   "metadata": {},
   "source": [
    "## Reglas de Broadcasting"
   ]
  },
  {
   "attachments": {},
   "cell_type": "markdown",
   "metadata": {},
   "source": [
    "> Cuando NumPy opera sobre dos arreglos o matrices, compara sus formas element-wise. Empieza con la dimensión más a la derecha y recorre hasta la primera dimensión. Se considera que dos dimensiones son compatibles cuando:\n",
    "* Son iguales\n",
    "* Una de ellas es 1\n",
    "\n",
    ">**Importante: no hace falta que los dos arreglos tengan la mísma dimensión para realizar broadcasting.**"
   ]
  },
  {
   "attachments": {},
   "cell_type": "markdown",
   "metadata": {},
   "source": [
    "<img src=\"img/b12.png\" alt=\"drawing\" style=\"width:60%;\"/>"
   ]
  },
  {
   "attachments": {},
   "cell_type": "markdown",
   "metadata": {},
   "source": [
    "<img src=\"img/b11.png\" alt=\"drawing\" style=\"width:60%;\"/>"
   ]
  },
  {
   "cell_type": "code",
   "execution_count": 6,
   "metadata": {},
   "outputs": [
    {
     "name": "stdout",
     "output_type": "stream",
     "text": [
      "(4,) (4, 1) (4,) (3, 4)\n"
     ]
    }
   ],
   "source": [
    "x = np.arange(4)\n",
    "xx = x.reshape(4,1)\n",
    "y = np.ones(4)\n",
    "z = np.ones((3,4))\n",
    "\n",
    "print(x.shape, xx.shape, y.shape, z.shape)"
   ]
  },
  {
   "cell_type": "code",
   "execution_count": 7,
   "metadata": {},
   "outputs": [
    {
     "data": {
      "text/plain": [
       "(4, 1)"
      ]
     },
     "execution_count": 7,
     "metadata": {},
     "output_type": "execute_result"
    }
   ],
   "source": [
    "np.array([[1],[2],[3],[4]]).shape"
   ]
  },
  {
   "cell_type": "code",
   "execution_count": 8,
   "metadata": {},
   "outputs": [
    {
     "data": {
      "text/plain": [
       "array([1., 2., 3., 4.])"
      ]
     },
     "execution_count": 8,
     "metadata": {},
     "output_type": "execute_result"
    }
   ],
   "source": [
    "x + y # (4,) + (4,) "
   ]
  },
  {
   "cell_type": "code",
   "execution_count": 9,
   "metadata": {},
   "outputs": [
    {
     "name": "stdout",
     "output_type": "stream",
     "text": [
      "[[0]\n",
      " [1]\n",
      " [2]\n",
      " [3]] [1. 1. 1. 1.]\n"
     ]
    }
   ],
   "source": [
    "print(xx, y) #(4, 1) (4,)->(1,4) "
   ]
  },
  {
   "cell_type": "code",
   "execution_count": 10,
   "metadata": {},
   "outputs": [
    {
     "name": "stdout",
     "output_type": "stream",
     "text": [
      "[[1. 1. 1. 1.]\n",
      " [2. 2. 2. 2.]\n",
      " [3. 3. 3. 3.]\n",
      " [4. 4. 4. 4.]]\n",
      "(4, 4)\n"
     ]
    }
   ],
   "source": [
    "print(xx + y) \n",
    "print((xx + y).shape)"
   ]
  },
  {
   "cell_type": "code",
   "execution_count": 11,
   "metadata": {},
   "outputs": [
    {
     "name": "stdout",
     "output_type": "stream",
     "text": [
      "[0 1 2 3] \n",
      " [[1. 1. 1. 1.]\n",
      " [1. 1. 1. 1.]\n",
      " [1. 1. 1. 1.]]\n"
     ]
    }
   ],
   "source": [
    "print(x,'\\n', z)"
   ]
  },
  {
   "cell_type": "code",
   "execution_count": 12,
   "metadata": {},
   "outputs": [
    {
     "name": "stdout",
     "output_type": "stream",
     "text": [
      "[[1. 2. 3. 4.]\n",
      " [1. 2. 3. 4.]\n",
      " [1. 2. 3. 4.]]\n",
      "(3, 4)\n"
     ]
    }
   ],
   "source": [
    "print(x + z)\n",
    "print((x + z).shape)"
   ]
  },
  {
   "cell_type": "code",
   "execution_count": 13,
   "metadata": {},
   "outputs": [
    {
     "data": {
      "text/plain": [
       "<numpy.broadcast at 0x113009740>"
      ]
     },
     "execution_count": 13,
     "metadata": {},
     "output_type": "execute_result"
    }
   ],
   "source": [
    "## Podemos verificar si una serie de arreglos pueden ser \"broadcasteados\" en NumPy. ¡No se suele usar!\n",
    "np.broadcast(*(xx, y))"
   ]
  },
  {
   "cell_type": "code",
   "execution_count": 14,
   "metadata": {},
   "outputs": [
    {
     "name": "stdout",
     "output_type": "stream",
     "text": [
      "(4,)\n",
      "(4, 1)\n"
     ]
    },
    {
     "data": {
      "text/plain": [
       "array([[ 1.,  2.,  3.],\n",
       "       [11., 12., 13.],\n",
       "       [21., 22., 23.],\n",
       "       [31., 32., 33.]])"
      ]
     },
     "execution_count": 14,
     "metadata": {},
     "output_type": "execute_result"
    }
   ],
   "source": [
    "a = np.array([0.0, 10.0, 20.0, 30.0])\n",
    "b = np.array([1.0, 2.0, 3.0])\n",
    "print(a.shape)\n",
    "# np.newaxis agrega una nueva dimensión (1).\n",
    "print(a[:,np.newaxis].shape)\n",
    "a[:,np.newaxis] + b # equivalente a a[:,None] + b"
   ]
  },
  {
   "attachments": {},
   "cell_type": "markdown",
   "metadata": {},
   "source": [
    "<img src=\"img/broadcast4.gif\" alt=\"drawing\" style=\"width:40%;\"/>"
   ]
  },
  {
   "attachments": {},
   "cell_type": "markdown",
   "metadata": {},
   "source": [
    "## Bibliografía\n",
    "\n",
    "* [NumPy Docs](https://numpy.org/doc/stable/user/quickstart.htm)\n",
    "* [NumPy Array Programming](https://realpython.com/numpy-array-programming/)\n",
    "* [FreeCodeCamp - Intro to NumPy](https://www.freecodecamp.org/learn/data-analysis-with-python#numpy)\n",
    "* [Broadcasting in NumPy](https://towardsdatascience.com/broadcasting-in-numpy-58856f926d73)"
   ]
  }
 ],
 "metadata": {
  "kernelspec": {
   "display_name": "Python 3.9.6 64-bit",
   "language": "python",
   "name": "python3"
  },
  "language_info": {
   "codemirror_mode": {
    "name": "ipython",
    "version": 3
   },
   "file_extension": ".py",
   "mimetype": "text/x-python",
   "name": "python",
   "nbconvert_exporter": "python",
   "pygments_lexer": "ipython3",
   "version": "3.9.16"
  },
  "vscode": {
   "interpreter": {
    "hash": "11938c6bc6919ae2720b4d5011047913343b08a43b18698fd82dedb0d4417594"
   }
  }
 },
 "nbformat": 4,
 "nbformat_minor": 4
}
