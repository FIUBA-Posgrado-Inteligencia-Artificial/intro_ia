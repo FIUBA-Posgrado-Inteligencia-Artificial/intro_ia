{
 "cells": [
  {
   "cell_type": "markdown",
   "id": "9dc3793379ee6eb9",
   "metadata": {
    "collapsed": false,
    "jupyter": {
     "outputs_hidden": false
    }
   },
   "source": [
    "# Algoritmos de búsqueda\n",
    "**Facundo A. Lucianna - Inteligencia Artificial - CEIA - FIUBA**\n",
    "\n",
    "Un algoritmo de búsqueda toma un problema de búsqueda como entrada y retorna una solución, o una indicación de falla.\n",
    "\n",
    "La idea es buscar un camino que llegue al estado objetivo. Para ello, vamos a construir un árbol que irá avanzando por los estados del grafo hasta llegar al estado objetivo.\n",
    "\n",
    "![arbol_de_hanoi](./img/tree_hanoi.png)\n",
    "\n",
    "Cada nodo del árbol corresponde a un **estado** y las aristas corresponden a una **acción**. Es importante destacar que el árbol **NO** es el grafo de estados. El grafo describe todo el conjunto de estados y las acciones que permiten pasar de un estado a otro. El árbol describe el camino entre estos estados para alcanzar el objetivo.\n",
    "\n",
    "Para poder aplicar los algoritmos, debemos definir las estructuras de datos necesarias para hacer seguimiento del árbol.\n",
    "\n",
    "## Nodos del árbol\n",
    "\n",
    "Los nodos del árbol están representados por los siguientes componentes:\n",
    "\n",
    "- **State**: El estado del espacio de estados que corresponde al nodo.\n",
    "- **Node Parent**: El nodo en el árbol de búsqueda que generó este nodo.\n",
    "- **Action**: La acción que se aplicó al nodo padre para generar este nodo.\n",
    "- **Path-Cost**: El costo de un camino desde el nodo inicial hasta este nodo.\n",
    "\n",
    "Definamos el **Problema** de la Torre de Hanoi:"
   ]
  },
  {
   "cell_type": "code",
   "execution_count": 1,
   "id": "d070f4f5-39ee-4081-85ab-ee2257ecd769",
   "metadata": {},
   "outputs": [],
   "source": [
    "from aima_libs.hanoi_states import ProblemHanoi, StatesHanoi\n",
    "\n",
    "initial_state = StatesHanoi([5, 4, 3, 2, 1], [], [], max_disks=5)\n",
    "goal_state = StatesHanoi([], [], [5, 4, 3, 2, 1], max_disks=5)\n",
    "\n",
    "problem = ProblemHanoi(initial=initial_state, goal=goal_state)"
   ]
  },
  {
   "cell_type": "markdown",
   "id": "b451fae2-72ea-435e-9877-85ff646d4971",
   "metadata": {},
   "source": [
    "Empezamos con la primera estructura, que implementamos con la clase `NodeHanoi`. Esta clase tiene implementados los siguientes:\n",
    "\n",
    "**Atributos:**\n",
    "* `state`: El estado que el nodo contiene. Representa un estado particular de ubicación de los discos.\n",
    "* `parent`: Es el nodo padre de este nodo. Si el nodo es la raíz, es `None`.\n",
    "* `action`: La acción que se aplicó al nodo padre para llegar a este nodo. Si es la raíz, es `None`.\n",
    "* `path_cost`: El costo del camino desde la raíz del árbol hasta este nodo.\n",
    "* `depth`: La profundidad del árbol en la que se encuentra el nodo. Si es la raíz, es cero; si es un hijo de la raíz, es igual a 1, y así sucesivamente.\n",
    "\n",
    "**Métodos:**\n",
    "* `child_node()`: Genera un nodo hijo a partir de una acción.\n",
    "* `expand()`: Expande la frontera de este nodo, devolviendo los nodos hijos al aplicar `expand`.\n",
    "* `solution()`: Retorna en una lista la secuencia de acciones que van desde la raíz hasta este nodo.\n",
    "* `path()`: Retorna una lista de nodos que van desde la raíz hasta este nodo.\n",
    "* `generate_solution_for_simulator()`: Este método permite obtener una salida para simular con PyGame. En otro notebook profundizaremos más en este aspecto.\n",
    "\n",
    "Además, tiene implementados métodos que nos permiten hacer diferentes operaciones en Python:\n",
    "\n",
    "* Podemos comparar dos nodos para ver si son iguales (haciendo `node1 == node2`)\n",
    "* Podemos preguntar si un nodo es mayor que otro (haciendo `node1 > node2`), lo que significa si el costo acumulado de un nodo es mayor que otro.\n",
    "* Tenemos una representación en cadena del estado, por lo que cuando hacemos `print()` se observa el estado dentro del nodo con el texto `<Node >`.\n",
    "* También podemos obtener un hash del estado con `hash(estado)`\n"
   ]
  },
  {
   "cell_type": "code",
   "execution_count": 2,
   "id": "a17e3bdb45589007",
   "metadata": {
    "ExecuteTime": {
     "end_time": "2024-03-18T04:57:37.910148Z",
     "start_time": "2024-03-18T04:57:37.905788Z"
    },
    "collapsed": false,
    "jupyter": {
     "outputs_hidden": false
    }
   },
   "outputs": [],
   "source": [
    "from aima_libs.tree_hanoi import NodeHanoi"
   ]
  },
  {
   "cell_type": "code",
   "execution_count": null,
   "id": "22167519c1c30b62",
   "metadata": {
    "ExecuteTime": {
     "end_time": "2024-03-18T04:57:37.917919Z",
     "start_time": "2024-03-18T04:57:37.915952Z"
    },
    "collapsed": false,
    "jupyter": {
     "outputs_hidden": false
    }
   },
   "outputs": [],
   "source": [
    "# Definimos la raíz del árbol\n",
    "root = NodeHanoi(state=initial_state)"
   ]
  },
  {
   "cell_type": "code",
   "execution_count": 4,
   "id": "26a442406bd09a4e",
   "metadata": {
    "ExecuteTime": {
     "end_time": "2024-03-18T04:57:37.922888Z",
     "start_time": "2024-03-18T04:57:37.921314Z"
    },
    "collapsed": false,
    "jupyter": {
     "outputs_hidden": false
    }
   },
   "outputs": [
    {
     "name": "stdout",
     "output_type": "stream",
     "text": [
      "El arbol tiene como raíz a:\n",
      "<Node HanoiState: 5 4 3 2 1 |  | >\n"
     ]
    }
   ],
   "source": [
    "print(\"El arbol tiene como raíz a:\")\n",
    "print(root)"
   ]
  },
  {
   "cell_type": "markdown",
   "id": "4816a67f49f8927f",
   "metadata": {
    "collapsed": false,
    "jupyter": {
     "outputs_hidden": false
    }
   },
   "source": [
    "Desde un nodo y con el problema definido, podemos encontrar la frontera, que es la separación entre el grafo que ya ha sido explorado por el algoritmo de búsqueda y aquel que aún no ha sido explorado.\n",
    "\n",
    "![frontera_en_arbol_de_hanoi](./img/tree_hanoi_frontier.png)"
   ]
  },
  {
   "cell_type": "markdown",
   "id": "fc1d4f99-f653-4fbe-80ea-a3c007df63bb",
   "metadata": {},
   "source": [
    "### Expandir la frontera del nodo raíz\n",
    "\n",
    "Expandimos la frontera del nodo raíz:\n"
   ]
  },
  {
   "cell_type": "code",
   "execution_count": 5,
   "id": "af623a7d186af4ee",
   "metadata": {
    "ExecuteTime": {
     "end_time": "2024-03-18T04:57:37.927884Z",
     "start_time": "2024-03-18T04:57:37.926222Z"
    },
    "collapsed": false,
    "jupyter": {
     "outputs_hidden": false
    }
   },
   "outputs": [],
   "source": [
    "lista_nodos_fronteras = root.expand(problem=problem)"
   ]
  },
  {
   "cell_type": "code",
   "execution_count": 6,
   "id": "c4c2c98172667f2c",
   "metadata": {
    "ExecuteTime": {
     "end_time": "2024-03-18T04:57:37.956383Z",
     "start_time": "2024-03-18T04:57:37.954247Z"
    },
    "collapsed": false,
    "jupyter": {
     "outputs_hidden": false
    }
   },
   "outputs": [
    {
     "name": "stdout",
     "output_type": "stream",
     "text": [
      "<Node HanoiState: 5 4 3 2 | 1 | >\n",
      "<Node HanoiState: 5 4 3 2 |  | 1>\n"
     ]
    }
   ],
   "source": [
    "for nodos in lista_nodos_fronteras:\n",
    "    print(nodos)"
   ]
  },
  {
   "cell_type": "markdown",
   "id": "40b78a77-9cfb-4499-ab0e-23763c7315e4",
   "metadata": {},
   "source": [
    "Los estados que corresponden a estos nuevos nodos son:\n",
    "\n",
    "![state](./img/state_hanoi5.png)\n",
    "\n",
    "Por lo tanto, el árbol para este problema se verá así:\n",
    "\n",
    "![tree](./img/tree_hanoi2.png)\n",
    "\n",
    "Es decir, se generan dos nodos nuevos con los siguientes estados:\n",
    "\n",
    "- El disco verde (el más pequeño) se mueve a la varilla del medio.\n",
    "- El disco verde (el más pequeño) se mueve a la varilla derecha.\n",
    "\n",
    "Quedémonos con el nodo cuyo estado tiene el disco verde en la varilla del medio:"
   ]
  },
  {
   "cell_type": "code",
   "execution_count": 7,
   "id": "d79462be-6c3f-4730-9207-3ffe6faa5318",
   "metadata": {},
   "outputs": [],
   "source": [
    "next_node = lista_nodos_fronteras[0]"
   ]
  },
  {
   "cell_type": "markdown",
   "id": "119af43e-8177-49fb-8ec4-ae8490bf50d7",
   "metadata": {},
   "source": [
    "Ahora, veamos su estado:"
   ]
  },
  {
   "cell_type": "code",
   "execution_count": 8,
   "id": "74201cb6-b3f2-4e7d-b0a2-506886527ccf",
   "metadata": {},
   "outputs": [
    {
     "data": {
      "text/plain": [
       "HanoiState: 5 4 3 2 | 1 | "
      ]
     },
     "execution_count": 8,
     "metadata": {},
     "output_type": "execute_result"
    }
   ],
   "source": [
    "next_node.state"
   ]
  },
  {
   "cell_type": "markdown",
   "id": "fb8af624-8d7e-4d7b-a4f7-b3f643a35d4c",
   "metadata": {},
   "source": [
    "Vemos quién es el padre, que debería ser la raíz:"
   ]
  },
  {
   "cell_type": "code",
   "execution_count": 9,
   "id": "97af5e9c-9a02-4388-8a2d-be8fcafc56f7",
   "metadata": {},
   "outputs": [
    {
     "data": {
      "text/plain": [
       "<Node HanoiState: 5 4 3 2 1 |  | >"
      ]
     },
     "execution_count": 9,
     "metadata": {},
     "output_type": "execute_result"
    }
   ],
   "source": [
    "next_node.parent"
   ]
  },
  {
   "cell_type": "markdown",
   "id": "cd3e4ea4-5e8a-4ce5-a755-4f0139d30049",
   "metadata": {},
   "source": [
    "El costo acumulado desde la raíz hasta este nodo es:"
   ]
  },
  {
   "cell_type": "code",
   "execution_count": 10,
   "id": "07bb08e5-fbee-4a81-bee9-9da0af93bc7c",
   "metadata": {},
   "outputs": [
    {
     "data": {
      "text/plain": [
       "1.0"
      ]
     },
     "execution_count": 10,
     "metadata": {},
     "output_type": "execute_result"
    }
   ],
   "source": [
    "next_node.path_cost"
   ]
  },
  {
   "cell_type": "markdown",
   "id": "7850f49d-b9c0-4241-bcd3-b5f89cc12f33",
   "metadata": {},
   "source": [
    "Y la profundidad en la que nos encontramos en el árbol:"
   ]
  },
  {
   "cell_type": "code",
   "execution_count": 11,
   "id": "0720fd3d-00bf-4792-9e59-404065610016",
   "metadata": {},
   "outputs": [
    {
     "data": {
      "text/plain": [
       "1"
      ]
     },
     "execution_count": 11,
     "metadata": {},
     "output_type": "execute_result"
    }
   ],
   "source": [
    "next_node.depth"
   ]
  },
  {
   "cell_type": "markdown",
   "id": "37bb198a-345d-4f7f-aa2e-38dd5a85058a",
   "metadata": {},
   "source": [
    "### Expandir la frontera del nodo siguiente\n",
    "\n",
    "\n",
    "Expandimos ahora la frontera de este nodo:"
   ]
  },
  {
   "cell_type": "code",
   "execution_count": 12,
   "id": "1596457f-e83f-4fbb-bc01-dc92ac235138",
   "metadata": {},
   "outputs": [],
   "source": [
    "lista_nodos_fronteras2 = next_node.expand(problem=problem)"
   ]
  },
  {
   "cell_type": "code",
   "execution_count": 13,
   "id": "2e858ab0-09d6-43ec-a6dd-0e890cf7a9fa",
   "metadata": {},
   "outputs": [
    {
     "name": "stdout",
     "output_type": "stream",
     "text": [
      "<Node HanoiState: 5 4 3 | 1 | 2>\n",
      "<Node HanoiState: 5 4 3 2 1 |  | >\n",
      "<Node HanoiState: 5 4 3 2 |  | 1>\n"
     ]
    }
   ],
   "source": [
    "for nodos in lista_nodos_fronteras2:\n",
    "    print(nodos)"
   ]
  },
  {
   "cell_type": "markdown",
   "id": "6971d114-f890-4715-80f3-0f1c9be82813",
   "metadata": {},
   "source": [
    "Veamos cómo quedó ahora el árbol:\n",
    "\n",
    "![tree](./img/tree_hanoi3.png)\n",
    "\n",
    "Observamos lo siguiente: se generaron tres nuevos nodos en la frontera. De estos, hay dos que llaman la atención.\n",
    "\n",
    "- Hay un nodo cuyo estado es igual al del nodo padre. Esto ocurre porque, si movemos el disco verde de vuelta a la varilla de la izquierda, *\"retornamos\"* al estado inicial.\n",
    "- Hay un nodo que tiene el mismo estado que el segundo nodo obtenido del padre.\n",
    "\n",
    "Esto es importante de destacar: **múltiples nodos pueden tener el mismo estado**, pero el costo para llegar a ese nodo y la secuencia de acciones desde la raíz hasta ese nodo serán diferentes.\n",
    "\n",
    "Veamos ahora el nodo cuyo estado no está repetido:"
   ]
  },
  {
   "cell_type": "code",
   "execution_count": 14,
   "id": "219e2594-28d3-44e7-83b2-835b51142c53",
   "metadata": {},
   "outputs": [],
   "source": [
    "next_node2 = lista_nodos_fronteras2[0]"
   ]
  },
  {
   "cell_type": "markdown",
   "id": "ea3aff19-ddf4-4457-a33e-2e6c0ff040c3",
   "metadata": {},
   "source": [
    "Vemos su estado:"
   ]
  },
  {
   "cell_type": "code",
   "execution_count": 15,
   "id": "b72fb999-17e0-49cf-b882-606f9efc5f98",
   "metadata": {},
   "outputs": [
    {
     "data": {
      "text/plain": [
       "HanoiState: 5 4 3 | 1 | 2"
      ]
     },
     "execution_count": 15,
     "metadata": {},
     "output_type": "execute_result"
    }
   ],
   "source": [
    "next_node2.state"
   ]
  },
  {
   "cell_type": "markdown",
   "id": "f16b6863-d8c7-48a8-952b-3ed435afc909",
   "metadata": {},
   "source": [
    "Vemos quién es el padre:"
   ]
  },
  {
   "cell_type": "code",
   "execution_count": 16,
   "id": "0c40a064-6176-4213-aac2-40359940c229",
   "metadata": {},
   "outputs": [
    {
     "data": {
      "text/plain": [
       "<Node HanoiState: 5 4 3 2 | 1 | >"
      ]
     },
     "execution_count": 16,
     "metadata": {},
     "output_type": "execute_result"
    }
   ],
   "source": [
    "next_node2.parent"
   ]
  },
  {
   "cell_type": "markdown",
   "id": "a8f0f2bb-266d-4421-8e18-23cb1d23d027",
   "metadata": {},
   "source": [
    "El costo acumulado desde la raíz hasta este nodo es:"
   ]
  },
  {
   "cell_type": "code",
   "execution_count": 17,
   "id": "f89f93d5-55fb-4af0-af6b-26c8383a192f",
   "metadata": {},
   "outputs": [
    {
     "data": {
      "text/plain": [
       "2.0"
      ]
     },
     "execution_count": 17,
     "metadata": {},
     "output_type": "execute_result"
    }
   ],
   "source": [
    "next_node2.path_cost"
   ]
  },
  {
   "cell_type": "markdown",
   "id": "b366bfd6-cbc3-4d77-ae9a-32ac612b1166",
   "metadata": {},
   "source": [
    "Y la profundidad en la que estamos en el árbol:"
   ]
  },
  {
   "cell_type": "code",
   "execution_count": 18,
   "id": "109a0a11-06c1-4b88-b20b-e67b86447e26",
   "metadata": {},
   "outputs": [
    {
     "data": {
      "text/plain": [
       "2"
      ]
     },
     "execution_count": 18,
     "metadata": {},
     "output_type": "execute_result"
    }
   ],
   "source": [
    "next_node2.depth"
   ]
  },
  {
   "cell_type": "markdown",
   "id": "678c223c-df4e-4263-80a2-f2f622114e34",
   "metadata": {},
   "source": [
    "Veamos el camino desde la raíz hasta este nodo:"
   ]
  },
  {
   "cell_type": "code",
   "execution_count": 19,
   "id": "ed92a01c-6410-45b7-abc4-0027f60919d9",
   "metadata": {},
   "outputs": [
    {
     "name": "stdout",
     "output_type": "stream",
     "text": [
      "<Node HanoiState: 5 4 3 2 1 |  | >\n",
      "<Node HanoiState: 5 4 3 2 | 1 | >\n",
      "<Node HanoiState: 5 4 3 | 1 | 2>\n"
     ]
    }
   ],
   "source": [
    "for nodos in next_node2.path():\n",
    "    print(nodos)"
   ]
  },
  {
   "cell_type": "markdown",
   "id": "be7c1ad5-c49c-485c-a854-b5119a77b083",
   "metadata": {},
   "source": [
    "Y las acciones que se aplicaron desde el inicio hasta este nodo:"
   ]
  },
  {
   "cell_type": "code",
   "execution_count": 20,
   "id": "fb396529-daa8-4606-815d-a98616cefe3a",
   "metadata": {},
   "outputs": [
    {
     "name": "stdout",
     "output_type": "stream",
     "text": [
      "Move disk 1 from 1 to 2\n",
      "Move disk 2 from 1 to 3\n"
     ]
    }
   ],
   "source": [
    "for nodos in next_node2.solution():\n",
    "    print(nodos)"
   ]
  },
  {
   "cell_type": "markdown",
   "id": "cc2b11bdc9cb336a",
   "metadata": {
    "collapsed": false,
    "jupyter": {
     "outputs_hidden": false
    }
   },
   "source": [
    "## Colas\n",
    "\n",
    "La pregunta es: ¿cómo hacemos para elegir cuál nodo seleccionar para explorar la frontera? Para ello necesitamos una estructura de datos que nos permita explorar la frontera. Esta estructura es vital para el algoritmo de búsqueda, ya que nos permite seleccionar qué nodo vamos a expandir primero. Como vimos en los videos, elegir el tipo de estructura para expandir es lo que define el tipo de algoritmo.\n",
    "\n",
    "La frontera se expande usando **colas**, y tenemos tres tipos:\n",
    "\n",
    "- Una cola **FIFO** (Primero entra, primero sale) que toma los nodos en el mismo orden en que se agregan.\n",
    "- Una cola **LIFO** (Último en entrar, primero en salir, o \"stack\") que quita el nodo más reciente.\n",
    "- Una **cola prioritaria** que quita primero los nodos con el mínimo costo, de acuerdo con una función de evaluación `f()`.\n",
    "\n",
    "### FIFO\n",
    "\n",
    "Veamos una implementación de cola FIFO usando una lista:"
   ]
  },
  {
   "cell_type": "code",
   "execution_count": 21,
   "id": "b6cb08bb91483cb1",
   "metadata": {
    "ExecuteTime": {
     "end_time": "2024-03-18T04:57:37.966246Z",
     "start_time": "2024-03-18T04:57:37.964611Z"
    },
    "collapsed": false,
    "jupyter": {
     "outputs_hidden": false
    }
   },
   "outputs": [],
   "source": [
    "fifo = []"
   ]
  },
  {
   "cell_type": "markdown",
   "id": "9210ed141b4bc46f",
   "metadata": {
    "collapsed": false,
    "jupyter": {
     "outputs_hidden": false
    }
   },
   "source": [
    "La implementación debe incorporar las siguientes funciones:\n",
    "\n",
    "- **Add(Frontier)**: Inserta el nodo en su correspondiente lugar de la cola. En el caso de la FIFO, inserta los nodos en el orden en que van llegando, utilizando el método `insert()`."
   ]
  },
  {
   "cell_type": "code",
   "execution_count": 22,
   "id": "572dd05b05bfd5af",
   "metadata": {
    "ExecuteTime": {
     "end_time": "2024-03-18T04:57:37.975399Z",
     "start_time": "2024-03-18T04:57:37.972597Z"
    },
    "collapsed": false,
    "jupyter": {
     "outputs_hidden": false
    }
   },
   "outputs": [
    {
     "name": "stdout",
     "output_type": "stream",
     "text": [
      "<Node HanoiState: 5 4 3 2 |  | 1>\n",
      "<Node HanoiState: 5 4 3 2 | 1 | >\n"
     ]
    }
   ],
   "source": [
    "fifo.insert(0, lista_nodos_fronteras[0])\n",
    "fifo.insert(0, lista_nodos_fronteras[1])\n",
    "\n",
    "for nodos in fifo:\n",
    "    print(nodos)"
   ]
  },
  {
   "cell_type": "markdown",
   "id": "88775cc4a588bfe0",
   "metadata": {
    "collapsed": false,
    "jupyter": {
     "outputs_hidden": false
    }
   },
   "source": [
    "- **Is-empty(frontier)**: Retorna `True` si no hay nodos en la frontera. En el caso de la implementación con una lista, podemos preguntar si la cantidad de elementos es cero."
   ]
  },
  {
   "cell_type": "code",
   "execution_count": 23,
   "id": "c669998769c9c5b0",
   "metadata": {
    "ExecuteTime": {
     "end_time": "2024-03-18T04:57:38.004038Z",
     "start_time": "2024-03-18T04:57:38.002108Z"
    },
    "collapsed": false,
    "jupyter": {
     "outputs_hidden": false
    }
   },
   "outputs": [
    {
     "name": "stdout",
     "output_type": "stream",
     "text": [
      "La cola está vacia?\n",
      "La cola tiene elementos\n"
     ]
    }
   ],
   "source": [
    "print(\"La cola está vacia?\")\n",
    "if len(fifo) == 0:\n",
    "    print(\"La cola esta vacía\")\n",
    "else:\n",
    "    print(\"La cola tiene elementos\")"
   ]
  },
  {
   "cell_type": "markdown",
   "id": "a7ceb6d0737f58a5",
   "metadata": {
    "collapsed": false,
    "jupyter": {
     "outputs_hidden": false
    }
   },
   "source": [
    "- **Pop(frontier)**: Quita el primer nodo en la cola. Con las listas, podemos usar el método `pop()`."
   ]
  },
  {
   "cell_type": "code",
   "execution_count": 24,
   "id": "288bfbf1c7c01e29",
   "metadata": {
    "ExecuteTime": {
     "end_time": "2024-03-18T04:57:38.014303Z",
     "start_time": "2024-03-18T04:57:38.012283Z"
    },
    "collapsed": false,
    "jupyter": {
     "outputs_hidden": false
    }
   },
   "outputs": [
    {
     "name": "stdout",
     "output_type": "stream",
     "text": [
      "El nodo que sacamos es <Node HanoiState: 5 4 3 2 | 1 | >\n"
     ]
    }
   ],
   "source": [
    "new_node = fifo.pop()\n",
    "print(f\"El nodo que sacamos es {new_node}\")"
   ]
  },
  {
   "cell_type": "markdown",
   "id": "928d39a8b36f627d",
   "metadata": {
    "collapsed": false,
    "jupyter": {
     "outputs_hidden": false
    }
   },
   "source": [
    "Podemos ver que, una vez sacado el nodo, el mismo ya no está en la fila, y que particularmente sacamos el primer nodo que entró:"
   ]
  },
  {
   "cell_type": "code",
   "execution_count": null,
   "id": "79996784e77b4da5",
   "metadata": {
    "ExecuteTime": {
     "end_time": "2024-03-18T04:57:38.022187Z",
     "start_time": "2024-03-18T04:57:38.020012Z"
    },
    "collapsed": false,
    "jupyter": {
     "outputs_hidden": false
    }
   },
   "outputs": [
    {
     "name": "stdout",
     "output_type": "stream",
     "text": [
      "Los nodos que quedan en la fila son:\n",
      "[<Node HanoiState: 5 4 3 2 |  | 1>]\n"
     ]
    }
   ],
   "source": [
    "print(\"Los nodos que quedan en la fila son:\")\n",
    "print(fifo)"
   ]
  },
  {
   "cell_type": "markdown",
   "id": "53f5f83682d162a5",
   "metadata": {
    "collapsed": false,
    "jupyter": {
     "outputs_hidden": false
    }
   },
   "source": [
    "Si expandimos la frontera del nuevo nodo que tenemos, podemos agregarlo a la cola:"
   ]
  },
  {
   "cell_type": "code",
   "execution_count": null,
   "id": "ffeecf283cae2cfd",
   "metadata": {
    "ExecuteTime": {
     "end_time": "2024-03-18T04:57:38.029537Z",
     "start_time": "2024-03-18T04:57:38.027477Z"
    },
    "collapsed": false,
    "jupyter": {
     "outputs_hidden": false
    }
   },
   "outputs": [],
   "source": [
    "lista_nodos_fronteras2 = new_node.expand(problem=problem)\n",
    "\n",
    "# Insertamos los nodos de frontera en el orden que nos fue presentado:\n",
    "fifo.insert(0, lista_nodos_fronteras2[0])\n",
    "fifo.insert(0, lista_nodos_fronteras2[1])\n",
    "fifo.insert(0, lista_nodos_fronteras2[2])"
   ]
  },
  {
   "cell_type": "code",
   "execution_count": 27,
   "id": "eb9041c677f751ee",
   "metadata": {
    "ExecuteTime": {
     "end_time": "2024-03-18T04:57:38.056390Z",
     "start_time": "2024-03-18T04:57:38.054157Z"
    },
    "collapsed": false,
    "jupyter": {
     "outputs_hidden": false
    }
   },
   "outputs": [
    {
     "name": "stdout",
     "output_type": "stream",
     "text": [
      "<Node HanoiState: 5 4 3 2 |  | 1>\n",
      "<Node HanoiState: 5 4 3 2 1 |  | >\n",
      "<Node HanoiState: 5 4 3 | 1 | 2>\n",
      "<Node HanoiState: 5 4 3 2 |  | 1>\n"
     ]
    }
   ],
   "source": [
    "for nodos in fifo:\n",
    "    print(nodos)"
   ]
  },
  {
   "cell_type": "markdown",
   "id": "5f53f547-2dc1-47cd-8c78-2ac9b01cb8af",
   "metadata": {},
   "source": [
    "- **Top(frontier)**: Podemos ver cuál es nuestro siguiente nodo sin sacarlo:"
   ]
  },
  {
   "cell_type": "code",
   "execution_count": 28,
   "id": "34c576906dc0feed",
   "metadata": {
    "ExecuteTime": {
     "end_time": "2024-03-18T04:57:38.066947Z",
     "start_time": "2024-03-18T04:57:38.064947Z"
    },
    "collapsed": false,
    "jupyter": {
     "outputs_hidden": false
    }
   },
   "outputs": [
    {
     "name": "stdout",
     "output_type": "stream",
     "text": [
      "El siguiente nodo que podemos sacar es <Node HanoiState: 5 4 3 2 |  | 1>\n"
     ]
    }
   ],
   "source": [
    "print(f\"El siguiente nodo que podemos sacar es {fifo[-1]}\")"
   ]
  },
  {
   "cell_type": "markdown",
   "id": "722c4f28-78a8-4fac-8ffa-94382df2daba",
   "metadata": {},
   "source": [
    "Este es el segundo nodo que introdujimos cuando agregamos la frontera de la raíz. Como vemos, se respeta el principio *\"Primero entra, primero sale\"*.\n",
    "\n",
    "### LIFO\n",
    "\n",
    "Ahora veamos cómo podemos implementar un **stack**. Esto también lo podemos hacer con una lista."
   ]
  },
  {
   "cell_type": "code",
   "execution_count": 29,
   "id": "67ce53f1-f362-4bbd-a5fb-f946b23890a2",
   "metadata": {},
   "outputs": [],
   "source": [
    "lifo = []"
   ]
  },
  {
   "cell_type": "markdown",
   "id": "1af4d466-c513-49cd-b221-69190b8e26d7",
   "metadata": {},
   "source": [
    "- **Add(Frontier)**: Inserta el nodo en su correspondiente lugar de la cola. En el caso de la LIFO, se inserta de forma apilada para que el último nodo que se inserte, esté listo para salir. Esto lo hacemos usando `append()`:"
   ]
  },
  {
   "cell_type": "code",
   "execution_count": 30,
   "id": "d56e98a3-e186-47eb-8a25-e7a36733a128",
   "metadata": {},
   "outputs": [
    {
     "name": "stdout",
     "output_type": "stream",
     "text": [
      "<Node HanoiState: 5 4 3 2 | 1 | >\n",
      "<Node HanoiState: 5 4 3 2 |  | 1>\n"
     ]
    }
   ],
   "source": [
    "lifo.append(lista_nodos_fronteras[0])\n",
    "lifo.append(lista_nodos_fronteras[1])\n",
    "\n",
    "for nodos in lifo:\n",
    "    print(nodos)"
   ]
  },
  {
   "cell_type": "markdown",
   "id": "b43d6550-d7d5-4d15-9da6-6c0052ddf61e",
   "metadata": {},
   "source": [
    "> ⚠️ **Nota**: Los nodos están ordenados de forma inversa al caso de la fila FIFO.\n",
    "\n",
    "- **Is-empty(frontier)**: Retorna `True` si no hay nodos en la frontera. En el caso de la implementación con una lista, podemos preguntar si la cantidad de elementos es cero."
   ]
  },
  {
   "cell_type": "code",
   "execution_count": 31,
   "id": "46b95f4b-ad3c-41c0-ae06-b0ed8f855bd6",
   "metadata": {},
   "outputs": [
    {
     "name": "stdout",
     "output_type": "stream",
     "text": [
      "El stack está vacio?\n",
      "El stack tiene elementos\n"
     ]
    }
   ],
   "source": [
    "print(\"El stack está vacio?\")\n",
    "if len(lifo) == 0:\n",
    "    print(\"El stack esta vacio\")\n",
    "else:\n",
    "    print(\"El stack tiene elementos\")"
   ]
  },
  {
   "cell_type": "markdown",
   "id": "0dfacaab-3831-4cba-b7a1-42cff8fb7ad5",
   "metadata": {},
   "source": [
    "- **Pop(frontier)**: Quita el primer nodo en la cola. Con las listas, usamos el método `pop()`."
   ]
  },
  {
   "cell_type": "code",
   "execution_count": 32,
   "id": "8fe319fe-a3fc-49ff-b7d3-36913c25b460",
   "metadata": {},
   "outputs": [
    {
     "name": "stdout",
     "output_type": "stream",
     "text": [
      "El nodo que sacamos es <Node HanoiState: 5 4 3 2 |  | 1>\n"
     ]
    }
   ],
   "source": [
    "new_node = lifo.pop()\n",
    "print(f\"El nodo que sacamos es {new_node}\")"
   ]
  },
  {
   "cell_type": "markdown",
   "id": "cb0df144-a369-4b58-8c51-b39a80bde704",
   "metadata": {},
   "source": [
    "Podemos ver que, una vez sacado el nodo, el mismo ya no está en la fila, y que particularmente sacamos el último nodo que entró:"
   ]
  },
  {
   "cell_type": "code",
   "execution_count": 33,
   "id": "0e6ff5fe-07c2-4853-934c-5133168e79ce",
   "metadata": {},
   "outputs": [
    {
     "name": "stdout",
     "output_type": "stream",
     "text": [
      "Los nodos que quedan en la fila son:\n",
      "[<Node HanoiState: 5 4 3 2 | 1 | >]\n"
     ]
    }
   ],
   "source": [
    "print(\"Los nodos que quedan en la fila son:\")\n",
    "print(lifo)"
   ]
  },
  {
   "cell_type": "markdown",
   "id": "f48cb0b0-a2e8-42a2-b3c7-e45e7d3a00df",
   "metadata": {},
   "source": [
    "Si expandimos la frontera del nuevo nodo que tenemos, podemos agregarlo a la cola:"
   ]
  },
  {
   "cell_type": "code",
   "execution_count": 34,
   "id": "d8b6a31e-15fe-410d-9dc5-849b5e80609c",
   "metadata": {},
   "outputs": [],
   "source": [
    "lista_nodos_fronteras2 = new_node.expand(problem=problem)\n",
    "\n",
    "lifo.append(lista_nodos_fronteras2[0])\n",
    "lifo.append(lista_nodos_fronteras2[1])\n",
    "lifo.append(lista_nodos_fronteras2[2])"
   ]
  },
  {
   "cell_type": "code",
   "execution_count": 35,
   "id": "aa4dead1-d72f-4190-97e9-10249c904056",
   "metadata": {},
   "outputs": [
    {
     "name": "stdout",
     "output_type": "stream",
     "text": [
      "<Node HanoiState: 5 4 3 2 | 1 | >\n",
      "<Node HanoiState: 5 4 3 | 2 | 1>\n",
      "<Node HanoiState: 5 4 3 2 1 |  | >\n",
      "<Node HanoiState: 5 4 3 2 | 1 | >\n"
     ]
    }
   ],
   "source": [
    "for nodos in lifo:\n",
    "    print(nodos)"
   ]
  },
  {
   "cell_type": "markdown",
   "id": "e088decd-bfe9-4db4-ac21-045322afbf04",
   "metadata": {},
   "source": [
    "- **Top(frontier)**: Podemos ver cuál es nuestro siguiente nodo sin sacarlo:"
   ]
  },
  {
   "cell_type": "code",
   "execution_count": 36,
   "id": "5d388520-7481-47ea-92f5-cac5cce183f3",
   "metadata": {},
   "outputs": [
    {
     "name": "stdout",
     "output_type": "stream",
     "text": [
      "El siguiente nodo que podemos sacar es <Node HanoiState: 5 4 3 2 | 1 | >\n"
     ]
    }
   ],
   "source": [
    "print(f\"El siguiente nodo que podemos sacar es {lifo[-1]}\")"
   ]
  },
  {
   "cell_type": "markdown",
   "id": "09466150-683c-4a3a-bde5-52109438a8a5",
   "metadata": {},
   "source": [
    "Este es el último nodo que introdujimos cuando agregamos la frontera del nodo que sacamos de la cola. Como vemos, se respeta el principio *\"Último entra, primero sale\"*.\n",
    "\n",
    "### Cola prioritaria\n",
    "\n",
    "Por último, nos queda ver la cola prioritaria. Para ello, usaremos la librería `queue` que viene por defecto en Python. [Esta librería](https://docs.python.org/3/library/queue.html) implementa varias colas (incluidas las colas FIFO y LIFO). Particularmente, vamos a usar la clase `PriorityQueue`."
   ]
  },
  {
   "cell_type": "code",
   "execution_count": 37,
   "id": "ddf02b73-5a44-4794-a1dd-97362a23e97e",
   "metadata": {},
   "outputs": [],
   "source": [
    "from queue import PriorityQueue\n",
    "\n",
    "priority_queue = PriorityQueue()"
   ]
  },
  {
   "cell_type": "markdown",
   "id": "831cad4a-f982-4e71-b792-71af39892b98",
   "metadata": {},
   "source": [
    "- **Add(Frontier)**: Para esta cola, se debe pasar el nodo que queremos encolar, pero además debemos pasar un número que defina la prioridad en forma de tupla. Esta cola siempre extrae el nodo con el valor de prioridad más bajo."
   ]
  },
  {
   "cell_type": "code",
   "execution_count": 38,
   "id": "3bffd3b3-ed29-4364-b4d2-adf67c8299f6",
   "metadata": {},
   "outputs": [],
   "source": [
    "priority_queue.put((4, lista_nodos_fronteras[0]))\n",
    "priority_queue.put((2, lista_nodos_fronteras[1]))"
   ]
  },
  {
   "cell_type": "markdown",
   "id": "b0e82527-cd5e-46b8-945c-7e132d4cf0e3",
   "metadata": {},
   "source": [
    "Como vimos en clase, el valor que podemos guardar puede ser:\n",
    "\n",
    "- El costo hasta ese nodo (`g(n)`),\n",
    "- Una heurística (`h(n)`),\n",
    "- O una combinación de ambas (`f(n) = g(n) + h(n)`).\n",
    "\n",
    "En este caso usamos valores arbitrarios solo para ver el funcionamiento.\n",
    "\n",
    "- **Is-empty(frontier)**: Retorna `True` si no hay nodos en la frontera. Podemos usar el método `empty()`:"
   ]
  },
  {
   "cell_type": "code",
   "execution_count": 39,
   "id": "20a432e3-a2ef-4524-95f3-9a6f25722cf5",
   "metadata": {},
   "outputs": [
    {
     "name": "stdout",
     "output_type": "stream",
     "text": [
      "La cola prioritaria está vacia?\n",
      "La cola prioritaria tiene elementos\n"
     ]
    }
   ],
   "source": [
    "print(\"La cola prioritaria está vacia?\")\n",
    "if priority_queue.empty():\n",
    "    print(\"La cola prioritaria esta vacia\")\n",
    "else:\n",
    "    print(\"La cola prioritaria tiene elementos\")"
   ]
  },
  {
   "cell_type": "markdown",
   "id": "08b26424-aa21-45d3-b0dd-7bfb12afabec",
   "metadata": {},
   "source": [
    "- **Pop(frontier)**: Quita el primer nodo en la cola usando el método `get()`. El nodo extraído será el de menor prioridad."
   ]
  },
  {
   "cell_type": "code",
   "execution_count": 40,
   "id": "17488166-90d7-4711-921a-989691bee598",
   "metadata": {},
   "outputs": [
    {
     "name": "stdout",
     "output_type": "stream",
     "text": [
      "El nodo que sacamos es <Node HanoiState: 5 4 3 2 |  | 1>, cuyo valor de prioridad es 2\n"
     ]
    }
   ],
   "source": [
    "priority_value, new_node = priority_queue.get()\n",
    "print(f\"El nodo que sacamos es {new_node}, cuyo valor de prioridad es {priority_value}\")"
   ]
  },
  {
   "cell_type": "markdown",
   "id": "63706b59-adf4-4475-b1f0-ca08abdf7a77",
   "metadata": {},
   "source": [
    "Si expandimos la frontera del nuevo nodo, podemos agregar los nuevos nodos generados a la cola:"
   ]
  },
  {
   "cell_type": "code",
   "execution_count": 41,
   "id": "389ebe11-2717-4609-8787-c6099e3e47a5",
   "metadata": {},
   "outputs": [],
   "source": [
    "lista_nodos_fronteras2 = new_node.expand(problem=problem)\n",
    "\n",
    "priority_queue.put((1, lista_nodos_fronteras2[0]))\n",
    "priority_queue.put((24, lista_nodos_fronteras2[1]))\n",
    "priority_queue.put((54, lista_nodos_fronteras2[2]))"
   ]
  },
  {
   "cell_type": "markdown",
   "id": "1d168962-91fa-4ee8-8553-a42f118d7732",
   "metadata": {},
   "source": [
    "- **Top(frontier)**: Para ver el siguiente nodo sin sacarlo, podemos acceder directamente a la lista interna queue (aunque esto no es lo más recomendable en producción):"
   ]
  },
  {
   "cell_type": "code",
   "execution_count": 42,
   "id": "2f0fb6b7-3a03-468b-92ee-e68a94d1b9a8",
   "metadata": {},
   "outputs": [
    {
     "name": "stdout",
     "output_type": "stream",
     "text": [
      "El siguiente nodo que podemos sacar es <Node HanoiState: 5 4 3 | 2 | 1>, el cual tiene prioridad 1\n"
     ]
    }
   ],
   "source": [
    "print(f\"El siguiente nodo que podemos sacar es {priority_queue.queue[0][-1]}, el cual tiene prioridad {priority_queue.queue[0][0]}\")"
   ]
  },
  {
   "cell_type": "markdown",
   "id": "b1f93f19-9de5-4411-bae9-9e89e4e5cc6c",
   "metadata": {},
   "source": [
    "#### Cola prioritaria de AIMA\n",
    "\n",
    "También tenemos implementada una cola prioritaria que permite usar una función de evaluación directamente, lo que simplifica bastante la gestión de prioridades. Esta implementación forma parte de la biblioteca `aima`."
   ]
  },
  {
   "cell_type": "code",
   "execution_count": 43,
   "id": "3caf61cb-dc68-4245-ab47-0fd2edb0f257",
   "metadata": {},
   "outputs": [],
   "source": [
    "from aima_libs.aima import PriorityQueue as AimaPriorityQueue\n",
    "\n",
    "priority_queue2 = AimaPriorityQueue()"
   ]
  },
  {
   "cell_type": "markdown",
   "id": "7cf570d9-1c2c-4abe-b693-f24b0c1e61da",
   "metadata": {},
   "source": [
    "Con esta cola, podemos:\n",
    "\n",
    "- Definir si la prioridad es por el menor o mayor valor (`order='min'` o `order='max'`).\n",
    "- Pasar una función `f()` que, dado un nodo, devuelva su prioridad.\n",
    "\n",
    "Por ejemplo, para probar su funcionamiento, podemos definir una función que devuelva una prioridad aleatoria:"
   ]
  },
  {
   "cell_type": "code",
   "execution_count": 44,
   "id": "f2d41075-4171-4723-8a3b-c424f87bf0c2",
   "metadata": {},
   "outputs": [],
   "source": [
    "import random\n",
    "\n",
    "def priority_func(x):\n",
    "    return random.randint(1, 1000)"
   ]
  },
  {
   "cell_type": "code",
   "execution_count": 45,
   "id": "fadeb651-7061-4046-98ef-6c8d9e3117de",
   "metadata": {},
   "outputs": [],
   "source": [
    "priority_queue2 = AimaPriorityQueue(order='min', f=priority_func)"
   ]
  },
  {
   "cell_type": "markdown",
   "id": "0b4dfc4a-6b6a-48b9-824d-4c6eed64da10",
   "metadata": {},
   "source": [
    "- **Add(Frontier)**: Se puede usar el método `append()` para agregar un nodo individual:"
   ]
  },
  {
   "cell_type": "code",
   "execution_count": 46,
   "id": "eca30c19-bb0d-4b31-b367-ac96dd5731a6",
   "metadata": {},
   "outputs": [],
   "source": [
    "priority_queue2.append(lista_nodos_fronteras[0])\n",
    "priority_queue2.append(lista_nodos_fronteras[1])"
   ]
  },
  {
   "cell_type": "markdown",
   "id": "7b47ed4a-e528-425e-9e48-c9e01a165f12",
   "metadata": {},
   "source": [
    "También se puede usar `extend()` para agregar varios nodos de una sola vez:"
   ]
  },
  {
   "cell_type": "code",
   "execution_count": 47,
   "id": "9688972b-f26a-4185-9bf8-2dc0c0f45c5d",
   "metadata": {},
   "outputs": [],
   "source": [
    "priority_queue2.extend(lista_nodos_fronteras2)"
   ]
  },
  {
   "cell_type": "markdown",
   "id": "ea61c9bc-7dbf-44ec-97cb-bb7d269c9ccc",
   "metadata": {},
   "source": [
    "Para ver los elementos dentro de la cola:"
   ]
  },
  {
   "cell_type": "code",
   "execution_count": 48,
   "id": "5723fd41-70ab-49f5-9e61-c2aac8a9c45c",
   "metadata": {},
   "outputs": [
    {
     "data": {
      "text/plain": [
       "[(31, <Node HanoiState: 5 4 3 | 2 | 1>),\n",
       " (226, <Node HanoiState: 5 4 3 2 1 |  | >),\n",
       " (119, <Node HanoiState: 5 4 3 2 |  | 1>),\n",
       " (582, <Node HanoiState: 5 4 3 2 | 1 | >),\n",
       " (889, <Node HanoiState: 5 4 3 2 | 1 | >)]"
      ]
     },
     "execution_count": 48,
     "metadata": {},
     "output_type": "execute_result"
    }
   ],
   "source": [
    "priority_queue2.heap.queue"
   ]
  },
  {
   "cell_type": "markdown",
   "id": "052a285c-e0da-49f9-9bcf-b6f40084183c",
   "metadata": {},
   "source": [
    "- **Is-empty(frontier)**: Verifica si la cola está vacía:"
   ]
  },
  {
   "cell_type": "code",
   "execution_count": 49,
   "id": "82d92abb-eb0e-49fe-aa73-0e8f4cd0ab32",
   "metadata": {},
   "outputs": [
    {
     "name": "stdout",
     "output_type": "stream",
     "text": [
      "La cola prioritaria está vacia?\n",
      "La cola prioritaria tiene elementos\n"
     ]
    }
   ],
   "source": [
    "print(\"La cola prioritaria está vacia?\")\n",
    "if len(priority_queue2) == 0:\n",
    "    print(\"La cola prioritaria esta vacia\")\n",
    "else:\n",
    "    print(\"La cola prioritaria tiene elementos\")"
   ]
  },
  {
   "cell_type": "markdown",
   "id": "c8c9718f-694a-44ea-b98b-099fa0f3108b",
   "metadata": {},
   "source": [
    "- **Pop(frontier)**: Quita el nodo con menor prioridad:"
   ]
  },
  {
   "cell_type": "code",
   "execution_count": 50,
   "id": "e5ef28e7-e910-4705-b0ea-3f00ff303c08",
   "metadata": {},
   "outputs": [
    {
     "name": "stdout",
     "output_type": "stream",
     "text": [
      "El nodo que sacamos es <Node HanoiState: 5 4 3 | 2 | 1>, cuyo valor de prioridad es 31\n"
     ]
    }
   ],
   "source": [
    "priority_value, new_node = priority_queue2.pop()\n",
    "print(f\"El nodo que sacamos es {new_node}, cuyo valor de prioridad es {priority_value}\")"
   ]
  },
  {
   "cell_type": "markdown",
   "id": "131599fb-30d9-46b1-8422-6c8811c2f21c",
   "metadata": {},
   "source": [
    "- **Top(frontier)**: Podemos ver el siguiente nodo que será extraído con el método `peek()`:"
   ]
  },
  {
   "cell_type": "code",
   "execution_count": 51,
   "id": "61bb5980-3006-4dcb-8eb5-4f064c5586aa",
   "metadata": {},
   "outputs": [
    {
     "name": "stdout",
     "output_type": "stream",
     "text": [
      "El siguiente nodo que podemos sacar es <Node HanoiState: 5 4 3 2 |  | 1>, el cual tiene prioridad 119\n"
     ]
    }
   ],
   "source": [
    "print(f\"El siguiente nodo que podemos sacar es {priority_queue2.peek()[-1]}, el cual tiene prioridad {priority_queue2.peek()[0]}\")"
   ]
  },
  {
   "cell_type": "markdown",
   "id": "3bc89c3b8cebc03f",
   "metadata": {
    "collapsed": false,
    "jupyter": {
     "outputs_hidden": false
    }
   },
   "source": [
    "### Conclusión\n",
    "\n",
    "Todo lo que hemos visto hasta ahora *—desde cómo definimos el problema hasta cómo se define la cola—* son ejemplos de implementación. Estos sirven como base, pero cada persona o proyecto es libre de usar estas soluciones o implementar las propias, de acuerdo a las necesidades del problema o del entorno en el que se esté trabajando.\n",
    "\n",
    "----\n",
    "\n",
    "## Búsqueda Primero en Anchura\n",
    "\n",
    "Con todo lo que fuimos implementando, ahora podemos aplicar un algoritmo de búsqueda. Observá todo lo que tuvimos que definir e implementar previamente para poder llegar hasta este punto.\n",
    "\n",
    "Vamos a implementar el algoritmo de **búsqueda primero en anchura (Breadth-First Search)**, tal como vimos en el video. Este algoritmo comienza desde la raíz y va expandiendo todos los nodos nivel por nivel utilizando una cola **FIFO**.\n",
    "\n",
    "![breadth_first_search](./img/breadth_first_search.png)\n",
    "\n",
    "### Probamos con menos discos\n",
    "\n",
    "Empecemos con menos discos para probar cómo implementarlo y luego pasamos al caso con 5 discos:"
   ]
  },
  {
   "cell_type": "code",
   "execution_count": null,
   "id": "e6142d0203362c8a",
   "metadata": {
    "ExecuteTime": {
     "end_time": "2024-03-18T04:57:38.150714Z",
     "start_time": "2024-03-18T04:57:38.073798Z"
    },
    "collapsed": false,
    "jupyter": {
     "outputs_hidden": false
    }
   },
   "outputs": [
    {
     "name": "stdout",
     "output_type": "stream",
     "text": [
      "Encontramos la solución\n"
     ]
    }
   ],
   "source": [
    "# Inicializamos el problema\n",
    "initial_state = StatesHanoi([3, 2, 1], [], [], max_disks=3)\n",
    "goal_state = StatesHanoi([], [], [3, 2, 1], max_disks=3)\n",
    "problem = ProblemHanoi(initial=initial_state, goal=goal_state)\n",
    "\n",
    "frontier = [NodeHanoi(problem.initial)]  # Creamos una cola FIFO con el nodo inicial\n",
    "\n",
    "find_solution = False\n",
    "\n",
    "# Mientras que la cola no este vacia\n",
    "while len(frontier) != 0:\n",
    "    node = frontier.pop()  # Extraemos el primer nodo de la cola\n",
    "    if problem.goal_test(node.state):  # Comprobamos si hemos alcanzado el estado objetivo\n",
    "        last_node = node\n",
    "        find_solution = True\n",
    "        print(\"Encontramos la solución\")\n",
    "        break\n",
    "    \n",
    "    # Agregamos a la cola todos los nodos sucesores del nodo actual\n",
    "    for next_node in node.expand(problem):\n",
    "        frontier.insert(0, next_node)\n",
    "\n",
    "if not find_solution:\n",
    "    print(\"No se encontró la solución\")"
   ]
  },
  {
   "cell_type": "markdown",
   "id": "ee823bed-50b4-4560-b280-4b42fc2da3d8",
   "metadata": {},
   "source": [
    "Una vez encontrada, podemos analizar el último nodo del árbol y ver cuánto costó llegar a la solución:"
   ]
  },
  {
   "cell_type": "code",
   "execution_count": 53,
   "id": "d651957d-eab9-48ef-a974-ac257b12d85d",
   "metadata": {},
   "outputs": [
    {
     "name": "stdout",
     "output_type": "stream",
     "text": [
      "Longitud del camino de la solución: 7.0\n",
      "Profundidad del arbol donde se encontró la solución: 7\n"
     ]
    }
   ],
   "source": [
    "print(f'Longitud del camino de la solución: {last_node.state.accumulated_cost}')\n",
    "print(f'Profundidad del arbol donde se encontró la solución: {last_node.depth}')"
   ]
  },
  {
   "cell_type": "markdown",
   "id": "31a82db6-8dbb-484e-a658-114c2cb6b0c2",
   "metadata": {},
   "source": [
    "Probemos el mismo algoritmo con 4 discos:"
   ]
  },
  {
   "cell_type": "code",
   "execution_count": null,
   "id": "590cd113-7793-4dfe-b1ac-77fba20bca0e",
   "metadata": {},
   "outputs": [
    {
     "ename": "KeyboardInterrupt",
     "evalue": "",
     "output_type": "error",
     "traceback": [
      "\u001b[0;31m---------------------------------------------------------------------------\u001b[0m",
      "\u001b[0;31mKeyboardInterrupt\u001b[0m                         Traceback (most recent call last)",
      "Cell \u001b[0;32mIn[54], line 18\u001b[0m\n\u001b[1;32m     15\u001b[0m         \u001b[38;5;28;01mbreak\u001b[39;00m\n\u001b[1;32m     17\u001b[0m     \u001b[38;5;66;03m# Agregamos a la cola todos los nodos sucesores del nodo actual\u001b[39;00m\n\u001b[0;32m---> 18\u001b[0m     \u001b[38;5;28;01mfor\u001b[39;00m next_node \u001b[38;5;129;01min\u001b[39;00m \u001b[43mnode\u001b[49m\u001b[38;5;241;43m.\u001b[39;49m\u001b[43mexpand\u001b[49m\u001b[43m(\u001b[49m\u001b[43mproblem\u001b[49m\u001b[43m)\u001b[49m:\n\u001b[1;32m     19\u001b[0m         frontier\u001b[38;5;241m.\u001b[39minsert(\u001b[38;5;241m0\u001b[39m, next_node)\n\u001b[1;32m     21\u001b[0m \u001b[38;5;28;01mif\u001b[39;00m \u001b[38;5;129;01mnot\u001b[39;00m find_solution:\n",
      "File \u001b[0;32m~/Docencia/UBA/Introduccion a Inteligencia Artificial/Repo/intro_ia/clase2/hanoi_tower/aima_libs/aima.py:114\u001b[0m, in \u001b[0;36mNode.expand\u001b[0;34m(self, problem)\u001b[0m\n\u001b[1;32m    112\u001b[0m \u001b[38;5;28;01mdef\u001b[39;00m\u001b[38;5;250m \u001b[39m\u001b[38;5;21mexpand\u001b[39m(\u001b[38;5;28mself\u001b[39m, problem):\n\u001b[1;32m    113\u001b[0m \u001b[38;5;250m    \u001b[39m\u001b[38;5;124;03m\"\"\"List the nodes reachable in one step from this node.\"\"\"\u001b[39;00m\n\u001b[0;32m--> 114\u001b[0m     \u001b[38;5;28;01mreturn\u001b[39;00m [\u001b[38;5;28mself\u001b[39m\u001b[38;5;241m.\u001b[39mchild_node(problem, action)\n\u001b[1;32m    115\u001b[0m             \u001b[38;5;28;01mfor\u001b[39;00m action \u001b[38;5;129;01min\u001b[39;00m problem\u001b[38;5;241m.\u001b[39mactions(\u001b[38;5;28mself\u001b[39m\u001b[38;5;241m.\u001b[39mstate)]\n",
      "File \u001b[0;32m~/Docencia/UBA/Introduccion a Inteligencia Artificial/Repo/intro_ia/clase2/hanoi_tower/aima_libs/aima.py:114\u001b[0m, in \u001b[0;36m<listcomp>\u001b[0;34m(.0)\u001b[0m\n\u001b[1;32m    112\u001b[0m \u001b[38;5;28;01mdef\u001b[39;00m\u001b[38;5;250m \u001b[39m\u001b[38;5;21mexpand\u001b[39m(\u001b[38;5;28mself\u001b[39m, problem):\n\u001b[1;32m    113\u001b[0m \u001b[38;5;250m    \u001b[39m\u001b[38;5;124;03m\"\"\"List the nodes reachable in one step from this node.\"\"\"\u001b[39;00m\n\u001b[0;32m--> 114\u001b[0m     \u001b[38;5;28;01mreturn\u001b[39;00m [\u001b[38;5;28;43mself\u001b[39;49m\u001b[38;5;241;43m.\u001b[39;49m\u001b[43mchild_node\u001b[49m\u001b[43m(\u001b[49m\u001b[43mproblem\u001b[49m\u001b[43m,\u001b[49m\u001b[43m \u001b[49m\u001b[43maction\u001b[49m\u001b[43m)\u001b[49m\n\u001b[1;32m    115\u001b[0m             \u001b[38;5;28;01mfor\u001b[39;00m action \u001b[38;5;129;01min\u001b[39;00m problem\u001b[38;5;241m.\u001b[39mactions(\u001b[38;5;28mself\u001b[39m\u001b[38;5;241m.\u001b[39mstate)]\n",
      "File \u001b[0;32m~/Docencia/UBA/Introduccion a Inteligencia Artificial/Repo/intro_ia/clase2/hanoi_tower/aima_libs/tree_hanoi.py:34\u001b[0m, in \u001b[0;36mNodeHanoi.child_node\u001b[0;34m(self, problem, action)\u001b[0m\n\u001b[1;32m     23\u001b[0m \u001b[38;5;28;01mdef\u001b[39;00m\u001b[38;5;250m \u001b[39m\u001b[38;5;21mchild_node\u001b[39m(\u001b[38;5;28mself\u001b[39m, problem: hanoi_states\u001b[38;5;241m.\u001b[39mProblemHanoi, action: hanoi_states\u001b[38;5;241m.\u001b[39mActionHanoi):\n\u001b[1;32m     24\u001b[0m \u001b[38;5;250m    \u001b[39m\u001b[38;5;124;03m\"\"\"\u001b[39;00m\n\u001b[1;32m     25\u001b[0m \u001b[38;5;124;03m    Genera el nodo hijo a partir de una acción.\u001b[39;00m\n\u001b[1;32m     26\u001b[0m \n\u001b[0;32m   (...)\u001b[0m\n\u001b[1;32m     32\u001b[0m \u001b[38;5;124;03m        NodeHanoi: Nodo hijo generado.\u001b[39;00m\n\u001b[1;32m     33\u001b[0m \u001b[38;5;124;03m    \"\"\"\u001b[39;00m\n\u001b[0;32m---> 34\u001b[0m     next_state \u001b[38;5;241m=\u001b[39m \u001b[43mproblem\u001b[49m\u001b[38;5;241;43m.\u001b[39;49m\u001b[43mresult\u001b[49m\u001b[43m(\u001b[49m\u001b[38;5;28;43mself\u001b[39;49m\u001b[38;5;241;43m.\u001b[39;49m\u001b[43mstate\u001b[49m\u001b[43m,\u001b[49m\u001b[43m \u001b[49m\u001b[43maction\u001b[49m\u001b[43m)\u001b[49m\n\u001b[1;32m     35\u001b[0m     next_node \u001b[38;5;241m=\u001b[39m NodeHanoi(next_state, parent\u001b[38;5;241m=\u001b[39m\u001b[38;5;28mself\u001b[39m, action\u001b[38;5;241m=\u001b[39maction)\n\u001b[1;32m     36\u001b[0m     \u001b[38;5;28;01mreturn\u001b[39;00m next_node\n",
      "File \u001b[0;32m~/Docencia/UBA/Introduccion a Inteligencia Artificial/Repo/intro_ia/clase2/hanoi_tower/aima_libs/hanoi_states.py:350\u001b[0m, in \u001b[0;36mProblemHanoi.result\u001b[0;34m(self, state, action)\u001b[0m\n\u001b[1;32m    339\u001b[0m \u001b[38;5;28;01mdef\u001b[39;00m\u001b[38;5;250m \u001b[39m\u001b[38;5;21mresult\u001b[39m(\u001b[38;5;28mself\u001b[39m, state: StatesHanoi, action: ActionHanoi):\n\u001b[1;32m    340\u001b[0m \u001b[38;5;250m    \u001b[39m\u001b[38;5;124;03m\"\"\"\u001b[39;00m\n\u001b[1;32m    341\u001b[0m \u001b[38;5;124;03m    Calcula el nuevo estado después de aplicar una acción.\u001b[39;00m\n\u001b[1;32m    342\u001b[0m \n\u001b[0;32m   (...)\u001b[0m\n\u001b[1;32m    348\u001b[0m \u001b[38;5;124;03m        hanoi_states.StatesHanoi: Nuevo estado después de aplicar la acción.\u001b[39;00m\n\u001b[1;32m    349\u001b[0m \u001b[38;5;124;03m    \"\"\"\u001b[39;00m\n\u001b[0;32m--> 350\u001b[0m     \u001b[38;5;28;01mreturn\u001b[39;00m \u001b[43maction\u001b[49m\u001b[38;5;241;43m.\u001b[39;49m\u001b[43mexecute\u001b[49m\u001b[43m(\u001b[49m\u001b[43mstate\u001b[49m\u001b[43m)\u001b[49m\n",
      "File \u001b[0;32m~/Docencia/UBA/Introduccion a Inteligencia Artificial/Repo/intro_ia/clase2/hanoi_tower/aima_libs/hanoi_states.py:289\u001b[0m, in \u001b[0;36mActionHanoi.execute\u001b[0;34m(self, state_hanoi)\u001b[0m\n\u001b[1;32m    279\u001b[0m \u001b[38;5;250m\u001b[39m\u001b[38;5;124;03m\"\"\"\u001b[39;00m\n\u001b[1;32m    280\u001b[0m \u001b[38;5;124;03mEjecuta la acción en un estado de Hanoi dado.\u001b[39;00m\n\u001b[1;32m    281\u001b[0m \n\u001b[0;32m   (...)\u001b[0m\n\u001b[1;32m    286\u001b[0m \u001b[38;5;124;03m    StatesHanoi: Nuevo estado de Hanoi después de ejecutar la acción.\u001b[39;00m\n\u001b[1;32m    287\u001b[0m \u001b[38;5;124;03m\"\"\"\u001b[39;00m\n\u001b[1;32m    288\u001b[0m \u001b[38;5;28;01mif\u001b[39;00m \u001b[38;5;124m\"\u001b[39m\u001b[38;5;124mmove\u001b[39m\u001b[38;5;124m\"\u001b[39m \u001b[38;5;129;01min\u001b[39;00m \u001b[38;5;28mself\u001b[39m\u001b[38;5;241m.\u001b[39maction\u001b[38;5;241m.\u001b[39mlower():\n\u001b[0;32m--> 289\u001b[0m     state_out \u001b[38;5;241m=\u001b[39m \u001b[43mcopy\u001b[49m\u001b[38;5;241;43m.\u001b[39;49m\u001b[43mdeepcopy\u001b[49m\u001b[43m(\u001b[49m\u001b[43mstate_hanoi\u001b[49m\u001b[43m)\u001b[49m\n\u001b[1;32m    291\u001b[0m     disk \u001b[38;5;241m=\u001b[39m state_out\u001b[38;5;241m.\u001b[39mget_last_disk_rod(\u001b[38;5;28mself\u001b[39m\u001b[38;5;241m.\u001b[39mrod_input)\n\u001b[1;32m    292\u001b[0m     state_out\u001b[38;5;241m.\u001b[39mput_disk_in_rod(\u001b[38;5;28mself\u001b[39m\u001b[38;5;241m.\u001b[39mrod_out, disk)\n",
      "File \u001b[0;32m~/.pyenv/versions/3.10.14/lib/python3.10/copy.py:172\u001b[0m, in \u001b[0;36mdeepcopy\u001b[0;34m(x, memo, _nil)\u001b[0m\n\u001b[1;32m    170\u001b[0m                 y \u001b[38;5;241m=\u001b[39m x\n\u001b[1;32m    171\u001b[0m             \u001b[38;5;28;01melse\u001b[39;00m:\n\u001b[0;32m--> 172\u001b[0m                 y \u001b[38;5;241m=\u001b[39m \u001b[43m_reconstruct\u001b[49m\u001b[43m(\u001b[49m\u001b[43mx\u001b[49m\u001b[43m,\u001b[49m\u001b[43m \u001b[49m\u001b[43mmemo\u001b[49m\u001b[43m,\u001b[49m\u001b[43m \u001b[49m\u001b[38;5;241;43m*\u001b[39;49m\u001b[43mrv\u001b[49m\u001b[43m)\u001b[49m\n\u001b[1;32m    174\u001b[0m \u001b[38;5;66;03m# If is its own copy, don't memoize.\u001b[39;00m\n\u001b[1;32m    175\u001b[0m \u001b[38;5;28;01mif\u001b[39;00m y \u001b[38;5;129;01mis\u001b[39;00m \u001b[38;5;129;01mnot\u001b[39;00m x:\n",
      "File \u001b[0;32m~/.pyenv/versions/3.10.14/lib/python3.10/copy.py:271\u001b[0m, in \u001b[0;36m_reconstruct\u001b[0;34m(x, memo, func, args, state, listiter, dictiter, deepcopy)\u001b[0m\n\u001b[1;32m    269\u001b[0m \u001b[38;5;28;01mif\u001b[39;00m state \u001b[38;5;129;01mis\u001b[39;00m \u001b[38;5;129;01mnot\u001b[39;00m \u001b[38;5;28;01mNone\u001b[39;00m:\n\u001b[1;32m    270\u001b[0m     \u001b[38;5;28;01mif\u001b[39;00m deep:\n\u001b[0;32m--> 271\u001b[0m         state \u001b[38;5;241m=\u001b[39m \u001b[43mdeepcopy\u001b[49m\u001b[43m(\u001b[49m\u001b[43mstate\u001b[49m\u001b[43m,\u001b[49m\u001b[43m \u001b[49m\u001b[43mmemo\u001b[49m\u001b[43m)\u001b[49m\n\u001b[1;32m    272\u001b[0m     \u001b[38;5;28;01mif\u001b[39;00m \u001b[38;5;28mhasattr\u001b[39m(y, \u001b[38;5;124m'\u001b[39m\u001b[38;5;124m__setstate__\u001b[39m\u001b[38;5;124m'\u001b[39m):\n\u001b[1;32m    273\u001b[0m         y\u001b[38;5;241m.\u001b[39m__setstate__(state)\n",
      "File \u001b[0;32m~/.pyenv/versions/3.10.14/lib/python3.10/copy.py:146\u001b[0m, in \u001b[0;36mdeepcopy\u001b[0;34m(x, memo, _nil)\u001b[0m\n\u001b[1;32m    144\u001b[0m copier \u001b[38;5;241m=\u001b[39m _deepcopy_dispatch\u001b[38;5;241m.\u001b[39mget(\u001b[38;5;28mcls\u001b[39m)\n\u001b[1;32m    145\u001b[0m \u001b[38;5;28;01mif\u001b[39;00m copier \u001b[38;5;129;01mis\u001b[39;00m \u001b[38;5;129;01mnot\u001b[39;00m \u001b[38;5;28;01mNone\u001b[39;00m:\n\u001b[0;32m--> 146\u001b[0m     y \u001b[38;5;241m=\u001b[39m \u001b[43mcopier\u001b[49m\u001b[43m(\u001b[49m\u001b[43mx\u001b[49m\u001b[43m,\u001b[49m\u001b[43m \u001b[49m\u001b[43mmemo\u001b[49m\u001b[43m)\u001b[49m\n\u001b[1;32m    147\u001b[0m \u001b[38;5;28;01melse\u001b[39;00m:\n\u001b[1;32m    148\u001b[0m     \u001b[38;5;28;01mif\u001b[39;00m \u001b[38;5;28missubclass\u001b[39m(\u001b[38;5;28mcls\u001b[39m, \u001b[38;5;28mtype\u001b[39m):\n",
      "File \u001b[0;32m~/.pyenv/versions/3.10.14/lib/python3.10/copy.py:231\u001b[0m, in \u001b[0;36m_deepcopy_dict\u001b[0;34m(x, memo, deepcopy)\u001b[0m\n\u001b[1;32m    229\u001b[0m memo[\u001b[38;5;28mid\u001b[39m(x)] \u001b[38;5;241m=\u001b[39m y\n\u001b[1;32m    230\u001b[0m \u001b[38;5;28;01mfor\u001b[39;00m key, value \u001b[38;5;129;01min\u001b[39;00m x\u001b[38;5;241m.\u001b[39mitems():\n\u001b[0;32m--> 231\u001b[0m     y[deepcopy(key, memo)] \u001b[38;5;241m=\u001b[39m \u001b[43mdeepcopy\u001b[49m\u001b[43m(\u001b[49m\u001b[43mvalue\u001b[49m\u001b[43m,\u001b[49m\u001b[43m \u001b[49m\u001b[43mmemo\u001b[49m\u001b[43m)\u001b[49m\n\u001b[1;32m    232\u001b[0m \u001b[38;5;28;01mreturn\u001b[39;00m y\n",
      "File \u001b[0;32m~/.pyenv/versions/3.10.14/lib/python3.10/copy.py:146\u001b[0m, in \u001b[0;36mdeepcopy\u001b[0;34m(x, memo, _nil)\u001b[0m\n\u001b[1;32m    144\u001b[0m copier \u001b[38;5;241m=\u001b[39m _deepcopy_dispatch\u001b[38;5;241m.\u001b[39mget(\u001b[38;5;28mcls\u001b[39m)\n\u001b[1;32m    145\u001b[0m \u001b[38;5;28;01mif\u001b[39;00m copier \u001b[38;5;129;01mis\u001b[39;00m \u001b[38;5;129;01mnot\u001b[39;00m \u001b[38;5;28;01mNone\u001b[39;00m:\n\u001b[0;32m--> 146\u001b[0m     y \u001b[38;5;241m=\u001b[39m \u001b[43mcopier\u001b[49m\u001b[43m(\u001b[49m\u001b[43mx\u001b[49m\u001b[43m,\u001b[49m\u001b[43m \u001b[49m\u001b[43mmemo\u001b[49m\u001b[43m)\u001b[49m\n\u001b[1;32m    147\u001b[0m \u001b[38;5;28;01melse\u001b[39;00m:\n\u001b[1;32m    148\u001b[0m     \u001b[38;5;28;01mif\u001b[39;00m \u001b[38;5;28missubclass\u001b[39m(\u001b[38;5;28mcls\u001b[39m, \u001b[38;5;28mtype\u001b[39m):\n",
      "File \u001b[0;32m~/.pyenv/versions/3.10.14/lib/python3.10/copy.py:206\u001b[0m, in \u001b[0;36m_deepcopy_list\u001b[0;34m(x, memo, deepcopy)\u001b[0m\n\u001b[1;32m    204\u001b[0m append \u001b[38;5;241m=\u001b[39m y\u001b[38;5;241m.\u001b[39mappend\n\u001b[1;32m    205\u001b[0m \u001b[38;5;28;01mfor\u001b[39;00m a \u001b[38;5;129;01min\u001b[39;00m x:\n\u001b[0;32m--> 206\u001b[0m     append(\u001b[43mdeepcopy\u001b[49m\u001b[43m(\u001b[49m\u001b[43ma\u001b[49m\u001b[43m,\u001b[49m\u001b[43m \u001b[49m\u001b[43mmemo\u001b[49m\u001b[43m)\u001b[49m)\n\u001b[1;32m    207\u001b[0m \u001b[38;5;28;01mreturn\u001b[39;00m y\n",
      "File \u001b[0;32m~/.pyenv/versions/3.10.14/lib/python3.10/copy.py:177\u001b[0m, in \u001b[0;36mdeepcopy\u001b[0;34m(x, memo, _nil)\u001b[0m\n\u001b[1;32m    175\u001b[0m \u001b[38;5;28;01mif\u001b[39;00m y \u001b[38;5;129;01mis\u001b[39;00m \u001b[38;5;129;01mnot\u001b[39;00m x:\n\u001b[1;32m    176\u001b[0m     memo[d] \u001b[38;5;241m=\u001b[39m y\n\u001b[0;32m--> 177\u001b[0m     \u001b[43m_keep_alive\u001b[49m\u001b[43m(\u001b[49m\u001b[43mx\u001b[49m\u001b[43m,\u001b[49m\u001b[43m \u001b[49m\u001b[43mmemo\u001b[49m\u001b[43m)\u001b[49m \u001b[38;5;66;03m# Make sure x lives at least as long as d\u001b[39;00m\n\u001b[1;32m    178\u001b[0m \u001b[38;5;28;01mreturn\u001b[39;00m y\n",
      "File \u001b[0;32m~/.pyenv/versions/3.10.14/lib/python3.10/copy.py:254\u001b[0m, in \u001b[0;36m_keep_alive\u001b[0;34m(x, memo)\u001b[0m\n\u001b[1;32m    244\u001b[0m \u001b[38;5;250m\u001b[39m\u001b[38;5;124;03m\"\"\"Keeps a reference to the object x in the memo.\u001b[39;00m\n\u001b[1;32m    245\u001b[0m \n\u001b[1;32m    246\u001b[0m \u001b[38;5;124;03mBecause we remember objects by their id, we have\u001b[39;00m\n\u001b[0;32m   (...)\u001b[0m\n\u001b[1;32m    251\u001b[0m \u001b[38;5;124;03mthe memo itself...\u001b[39;00m\n\u001b[1;32m    252\u001b[0m \u001b[38;5;124;03m\"\"\"\u001b[39;00m\n\u001b[1;32m    253\u001b[0m \u001b[38;5;28;01mtry\u001b[39;00m:\n\u001b[0;32m--> 254\u001b[0m     memo[\u001b[38;5;28;43mid\u001b[39;49m\u001b[43m(\u001b[49m\u001b[43mmemo\u001b[49m\u001b[43m)\u001b[49m]\u001b[38;5;241m.\u001b[39mappend(x)\n\u001b[1;32m    255\u001b[0m \u001b[38;5;28;01mexcept\u001b[39;00m \u001b[38;5;167;01mKeyError\u001b[39;00m:\n\u001b[1;32m    256\u001b[0m     \u001b[38;5;66;03m# aha, this is the first one :-)\u001b[39;00m\n\u001b[1;32m    257\u001b[0m     memo[\u001b[38;5;28mid\u001b[39m(memo)]\u001b[38;5;241m=\u001b[39m[x]\n",
      "\u001b[0;31mKeyboardInterrupt\u001b[0m: "
     ]
    }
   ],
   "source": [
    "initial_state = StatesHanoi([4, 3, 2, 1], [], [], max_disks=4)\n",
    "goal_state = StatesHanoi([], [], [4, 3, 2, 1], max_disks=4)\n",
    "problem = ProblemHanoi(initial=initial_state, goal=goal_state)\n",
    "\n",
    "find_solution = False\n",
    "\n",
    "while len(frontier) != 0:\n",
    "    node = frontier.pop()\n",
    "    if problem.goal_test(node.state):\n",
    "        last_node = node\n",
    "        find_solution = True\n",
    "        print(\"Encontramos la solución\")\n",
    "        break\n",
    "    \n",
    "    for next_node in node.expand(problem):\n",
    "        frontier.insert(0, next_node)\n",
    "\n",
    "if not find_solution:\n",
    "    print(\"No se encontró la solución\")"
   ]
  },
  {
   "cell_type": "markdown",
   "id": "bf144b34-c3ce-4fb3-b43e-c15b9be7f3f7",
   "metadata": {},
   "source": [
    "Este algoritmo puede tardar bastante tiempo (se puede interrumpir la ejecución si se desea), ya que ocurre un fenómeno que analizamos previamente al ver el árbol de búsqueda:\n",
    "\n",
    "![tree](./img/tree_hanoi3.png)\n",
    "\n",
    "Cuando expandimos un nodo de la frontera, los nuevos nodos pueden tener estados que ya fueron explorados en pasos anteriores, lo que hace que el algoritmo repita caminos y entre en bucles (aunque no infinitos, sí innecesariamente largos).\n",
    "\n",
    "### Versión con control de estados explorados\n",
    "\n",
    "Vamos a crear una variante del algoritmo que consume más memoria, pero evita explorar estados repetidos. Usamos para eso un `set`, estructura ideal para verificar rápidamente si un estado ya fue explorado:"
   ]
  },
  {
   "cell_type": "code",
   "execution_count": null,
   "id": "437689133f9019c1",
   "metadata": {
    "ExecuteTime": {
     "end_time": "2024-03-18T04:57:38.203069Z",
     "start_time": "2024-03-18T04:57:38.151590Z"
    },
    "collapsed": false,
    "jupyter": {
     "outputs_hidden": false
    }
   },
   "outputs": [
    {
     "name": "stdout",
     "output_type": "stream",
     "text": [
      "Encontramos la solución\n"
     ]
    }
   ],
   "source": [
    "initial_state = StatesHanoi([4, 3, 2, 1], [], [], max_disks=4)\n",
    "goal_state = StatesHanoi([], [], [4, 3, 2, 1], max_disks=4)\n",
    "problem = ProblemHanoi(initial=initial_state, goal=goal_state)\n",
    "\n",
    "frontier = [NodeHanoi(problem.initial)]\n",
    "\n",
    "explored = set()  # Almacena los estados que ya fueron explorados\n",
    "\n",
    "find_solution = False\n",
    "node_explored = 0\n",
    "\n",
    "while len(frontier) != 0:\n",
    "    node = frontier.pop()\n",
    "    node_explored += 1\n",
    "    \n",
    "    explored.add(node.state) # Agregamos el estado al set de explorados\n",
    "    \n",
    "    if problem.goal_test(node.state):\n",
    "        last_node = node\n",
    "        find_solution = True\n",
    "        print(\"Encontramos la solución\")\n",
    "        break\n",
    "    \n",
    "    # Agregamos a la cola todos los nodos sucesores del nodo actual\n",
    "    for next_node in node.expand(problem):\n",
    "        # Solo si el estado del nodo no fue explorado\n",
    "        if next_node.state not in explored:\n",
    "            frontier.insert(0, next_node)\n",
    "\n",
    "if not find_solution:\n",
    "    print(\"No se encontró la solución\")"
   ]
  },
  {
   "cell_type": "markdown",
   "id": "e99d5facedc66d51",
   "metadata": {
    "collapsed": false,
    "jupyter": {
     "outputs_hidden": false
    }
   },
   "source": [
    "Una vez que se encuentra la solución, podemos ver:"
   ]
  },
  {
   "cell_type": "code",
   "execution_count": 56,
   "id": "d317320198ec487e",
   "metadata": {
    "ExecuteTime": {
     "end_time": "2024-03-18T04:57:38.205407Z",
     "start_time": "2024-03-18T04:57:38.203749Z"
    },
    "collapsed": false,
    "jupyter": {
     "outputs_hidden": false
    }
   },
   "outputs": [
    {
     "name": "stdout",
     "output_type": "stream",
     "text": [
      "Longitud del camino de la solución: 15.0\n",
      "Profundidad del arbol donde se encontró la solución: 15\n"
     ]
    }
   ],
   "source": [
    "print(f'Longitud del camino de la solución: {last_node.state.accumulated_cost}')\n",
    "print(f'Profundidad del arbol donde se encontró la solución: {last_node.depth}')"
   ]
  },
  {
   "cell_type": "markdown",
   "id": "3abc28f0bb7e6f8c",
   "metadata": {
    "collapsed": false,
    "jupyter": {
     "outputs_hidden": false
    }
   },
   "source": [
    "Como todos los pasos tienen el mismo costo, la **búsqueda primero en anchura** garantiza que el camino encontrado es el más corto posible en términos de número de acciones. Es decir, el algoritmo encontró la solución en la mínima profundidad del árbol.\n",
    "\n",
    "Además, podemos analizar el desempeño del algoritmo:"
   ]
  },
  {
   "cell_type": "code",
   "execution_count": 57,
   "id": "111e1040cca051eb",
   "metadata": {
    "ExecuteTime": {
     "end_time": "2024-03-18T04:57:38.208071Z",
     "start_time": "2024-03-18T04:57:38.206571Z"
    },
    "collapsed": false,
    "jupyter": {
     "outputs_hidden": false
    }
   },
   "outputs": [
    {
     "name": "stdout",
     "output_type": "stream",
     "text": [
      "216 nodos se expandieron, correspondientes a 71 estados diferentes y 52 nodos quedaron en la frontera\n"
     ]
    }
   ],
   "source": [
    "print(node_explored, \"nodos se expandieron, correspondientes a\", len(explored),\"estados diferentes y\", len(frontier), \"nodos quedaron en la frontera\")"
   ]
  },
  {
   "cell_type": "markdown",
   "id": "39c146465af9c6eb",
   "metadata": {
    "collapsed": false,
    "jupyter": {
     "outputs_hidden": false
    }
   },
   "source": [
    "Podemos visualizar el camino desde el estado inicial hasta la solución:"
   ]
  },
  {
   "cell_type": "code",
   "execution_count": 58,
   "id": "887a95e2ba7fe592",
   "metadata": {
    "ExecuteTime": {
     "end_time": "2024-03-18T04:57:38.211061Z",
     "start_time": "2024-03-18T04:57:38.208851Z"
    },
    "collapsed": false,
    "jupyter": {
     "outputs_hidden": false
    }
   },
   "outputs": [
    {
     "name": "stdout",
     "output_type": "stream",
     "text": [
      "<Node HanoiState: 4 3 2 1 |  | >\n",
      "<Node HanoiState: 4 3 2 | 1 | >\n",
      "<Node HanoiState: 4 3 | 1 | 2>\n",
      "<Node HanoiState: 4 3 |  | 2 1>\n",
      "<Node HanoiState: 4 | 3 | 2 1>\n",
      "<Node HanoiState: 4 1 | 3 | 2>\n",
      "<Node HanoiState: 4 1 | 3 2 | >\n",
      "<Node HanoiState: 4 | 3 2 1 | >\n",
      "<Node HanoiState:  | 3 2 1 | 4>\n",
      "<Node HanoiState:  | 3 2 | 4 1>\n",
      "<Node HanoiState: 2 | 3 | 4 1>\n",
      "<Node HanoiState: 2 1 | 3 | 4>\n",
      "<Node HanoiState: 2 1 |  | 4 3>\n",
      "<Node HanoiState: 2 | 1 | 4 3>\n",
      "<Node HanoiState:  | 1 | 4 3 2>\n",
      "<Node HanoiState:  |  | 4 3 2 1>\n"
     ]
    }
   ],
   "source": [
    "for nodos in last_node.path():\n",
    "    print(nodos)"
   ]
  },
  {
   "cell_type": "markdown",
   "id": "67a9e669-d3f8-4558-ab35-facb1929b3a6",
   "metadata": {},
   "source": [
    "Y las acciones que el agente debería aplicar para alcanzar el estado objetivo:"
   ]
  },
  {
   "cell_type": "code",
   "execution_count": 59,
   "id": "e5fd973c-4a93-4c90-bda1-23c11b4a3fdb",
   "metadata": {},
   "outputs": [
    {
     "name": "stdout",
     "output_type": "stream",
     "text": [
      "Move disk 1 from 1 to 2\n",
      "Move disk 2 from 1 to 3\n",
      "Move disk 1 from 2 to 3\n",
      "Move disk 3 from 1 to 2\n",
      "Move disk 1 from 3 to 1\n",
      "Move disk 2 from 3 to 2\n",
      "Move disk 1 from 1 to 2\n",
      "Move disk 4 from 1 to 3\n",
      "Move disk 1 from 2 to 3\n",
      "Move disk 2 from 2 to 1\n",
      "Move disk 1 from 3 to 1\n",
      "Move disk 3 from 2 to 3\n",
      "Move disk 1 from 1 to 2\n",
      "Move disk 2 from 1 to 3\n",
      "Move disk 1 from 2 to 3\n"
     ]
    }
   ],
   "source": [
    "for act in last_node.solution():\n",
    "    print(act)"
   ]
  },
  {
   "cell_type": "markdown",
   "id": "e9d6e199-0d51-4b4f-b253-fbd868be31b0",
   "metadata": {},
   "source": [
    "### Creando una función y resolviendo con 5 discos\n",
    "\n",
    "Ahora que tenemos una implementación funcional, vamos a crear una función que aplique el algoritmo de **búsqueda primero en anchura (Breadth-First Search)**, y que retorne tanto la solución encontrada como algunas métricas de ejecución:"
   ]
  },
  {
   "cell_type": "code",
   "execution_count": null,
   "id": "d58cc9fe-ab05-4ab5-8627-6687c42c558e",
   "metadata": {},
   "outputs": [],
   "source": [
    "def breadth_first_search(number_disks=5):\n",
    "    # Inicializamos el problema\n",
    "    list_disks = [i for i in range(5, 0, -1)]\n",
    "    initial_state = StatesHanoi(list_disks, [], [], max_disks=number_disks)\n",
    "    goal_state = StatesHanoi([], [], list_disks, max_disks=number_disks)\n",
    "    problem = ProblemHanoi(initial=initial_state, goal=goal_state)\n",
    "\n",
    "    frontier = [NodeHanoi(problem.initial)] # Cola FIFO con el nodo inicial\n",
    "    explored = set() # Conjunto de estados ya visitados\n",
    "\n",
    "    node_explored = 0\n",
    "    \n",
    "    while len(frontier) != 0:\n",
    "        node = frontier.pop()\n",
    "        node_explored += 1\n",
    "        \n",
    "        explored.add(node.state) # Verificamos si llegamos al objetivo\n",
    "        \n",
    "        if problem.goal_test(node.state):\n",
    "            metrics = {\n",
    "                \"solution_found\": True,\n",
    "                \"nodes_explored\": node_explored,\n",
    "                \"states_visited\": len(explored),\n",
    "                \"nodes_in_frontier\": len(frontier),\n",
    "                \"max_depth\": node.depth,\n",
    "                \"cost_total\": node.state.accumulated_cost,\n",
    "            }\n",
    "            return node, metrics\n",
    "        \n",
    "        # Agregamos a la frontera los nodos sucesores que no hayan sido visitados\n",
    "        for next_node in node.expand(problem):\n",
    "            if next_node.state not in explored:\n",
    "                frontier.insert(0, next_node)\n",
    "\n",
    "    # Si no se encuentra solución, devolvemos métricas igualmente\n",
    "    metrics = {\n",
    "        \"solution_found\": False,\n",
    "        \"nodes_explored\": node_explored,\n",
    "        \"states_visited\": len(explored),\n",
    "        \"nodes_in_frontier\": len(frontier),\n",
    "        \"max_depth\": node.depth, # OBS: Si no se encontró la solución, este valor solo tiene sentido en breadth_first_search, en otros casos se debe ir llevando registro de cual fue la máxima profundidad\n",
    "        \"cost_total\": None,\n",
    "    }\n",
    "    return None, metrics"
   ]
  },
  {
   "cell_type": "markdown",
   "id": "5cd0daea-d105-410d-b575-98baf3118abb",
   "metadata": {},
   "source": [
    "Ejecutamos con 5 discos:"
   ]
  },
  {
   "cell_type": "code",
   "execution_count": 61,
   "id": "768cc0a3-c2d8-46a0-8008-8648e2858d0e",
   "metadata": {},
   "outputs": [],
   "source": [
    "solution, metrics = breadth_first_search(number_disks=5)"
   ]
  },
  {
   "cell_type": "markdown",
   "id": "934d0e1b-1791-405f-a53d-0b834ccc5409",
   "metadata": {},
   "source": [
    "Veamos algunas métricas:"
   ]
  },
  {
   "cell_type": "code",
   "execution_count": 62,
   "id": "43657735-9e67-4931-a4fc-11db96b5735a",
   "metadata": {},
   "outputs": [
    {
     "name": "stdout",
     "output_type": "stream",
     "text": [
      "solution_found: True\n",
      "nodes_explored: 1351\n",
      "states_visited: 233\n",
      "nodes_in_frontier: 285\n",
      "max_depth: 31\n",
      "cost_total: 31.0\n"
     ]
    }
   ],
   "source": [
    "for key, value in metrics.items():\n",
    "    print(f\"{key}: {value}\")"
   ]
  },
  {
   "cell_type": "markdown",
   "id": "32deebf6-2ab1-4573-9aaf-9add84c2939f",
   "metadata": {},
   "source": [
    "Para ver el camino completo desde el estado inicial hasta la solución:"
   ]
  },
  {
   "cell_type": "code",
   "execution_count": 63,
   "id": "7c398df5-9dc4-4fae-9181-308f859f2835",
   "metadata": {},
   "outputs": [
    {
     "name": "stdout",
     "output_type": "stream",
     "text": [
      "<Node HanoiState: 5 4 3 2 1 |  | >\n",
      "<Node HanoiState: 5 4 3 2 |  | 1>\n",
      "<Node HanoiState: 5 4 3 | 2 | 1>\n",
      "<Node HanoiState: 5 4 3 | 2 1 | >\n",
      "<Node HanoiState: 5 4 | 2 1 | 3>\n",
      "<Node HanoiState: 5 4 1 | 2 | 3>\n",
      "<Node HanoiState: 5 4 1 |  | 3 2>\n",
      "<Node HanoiState: 5 4 |  | 3 2 1>\n",
      "<Node HanoiState: 5 | 4 | 3 2 1>\n",
      "<Node HanoiState: 5 | 4 1 | 3 2>\n",
      "<Node HanoiState: 5 2 | 4 1 | 3>\n",
      "<Node HanoiState: 5 2 1 | 4 | 3>\n",
      "<Node HanoiState: 5 2 1 | 4 3 | >\n",
      "<Node HanoiState: 5 2 | 4 3 | 1>\n",
      "<Node HanoiState: 5 | 4 3 2 | 1>\n",
      "<Node HanoiState: 5 | 4 3 2 1 | >\n",
      "<Node HanoiState:  | 4 3 2 1 | 5>\n",
      "<Node HanoiState: 1 | 4 3 2 | 5>\n",
      "<Node HanoiState: 1 | 4 3 | 5 2>\n",
      "<Node HanoiState:  | 4 3 | 5 2 1>\n",
      "<Node HanoiState: 3 | 4 | 5 2 1>\n",
      "<Node HanoiState: 3 | 4 1 | 5 2>\n",
      "<Node HanoiState: 3 2 | 4 1 | 5>\n",
      "<Node HanoiState: 3 2 1 | 4 | 5>\n",
      "<Node HanoiState: 3 2 1 |  | 5 4>\n",
      "<Node HanoiState: 3 2 |  | 5 4 1>\n",
      "<Node HanoiState: 3 | 2 | 5 4 1>\n",
      "<Node HanoiState: 3 | 2 1 | 5 4>\n",
      "<Node HanoiState:  | 2 1 | 5 4 3>\n",
      "<Node HanoiState: 1 | 2 | 5 4 3>\n",
      "<Node HanoiState: 1 |  | 5 4 3 2>\n",
      "<Node HanoiState:  |  | 5 4 3 2 1>\n"
     ]
    }
   ],
   "source": [
    "for nodos in solution.path():\n",
    "    print(nodos)"
   ]
  },
  {
   "cell_type": "markdown",
   "id": "11d79725-95ec-4806-be05-ac0522e49afe",
   "metadata": {},
   "source": [
    "Y las acciones que el agente debería aplicar para llegar al objetivo:"
   ]
  },
  {
   "cell_type": "code",
   "execution_count": 64,
   "id": "9c7f1421-be80-45b8-8336-7afe2c2b1ad7",
   "metadata": {},
   "outputs": [
    {
     "name": "stdout",
     "output_type": "stream",
     "text": [
      "Move disk 1 from 1 to 3\n",
      "Move disk 2 from 1 to 2\n",
      "Move disk 1 from 3 to 2\n",
      "Move disk 3 from 1 to 3\n",
      "Move disk 1 from 2 to 1\n",
      "Move disk 2 from 2 to 3\n",
      "Move disk 1 from 1 to 3\n",
      "Move disk 4 from 1 to 2\n",
      "Move disk 1 from 3 to 2\n",
      "Move disk 2 from 3 to 1\n",
      "Move disk 1 from 2 to 1\n",
      "Move disk 3 from 3 to 2\n",
      "Move disk 1 from 1 to 3\n",
      "Move disk 2 from 1 to 2\n",
      "Move disk 1 from 3 to 2\n",
      "Move disk 5 from 1 to 3\n",
      "Move disk 1 from 2 to 1\n",
      "Move disk 2 from 2 to 3\n",
      "Move disk 1 from 1 to 3\n",
      "Move disk 3 from 2 to 1\n",
      "Move disk 1 from 3 to 2\n",
      "Move disk 2 from 3 to 1\n",
      "Move disk 1 from 2 to 1\n",
      "Move disk 4 from 2 to 3\n",
      "Move disk 1 from 1 to 3\n",
      "Move disk 2 from 1 to 2\n",
      "Move disk 1 from 3 to 2\n",
      "Move disk 3 from 1 to 3\n",
      "Move disk 1 from 2 to 1\n",
      "Move disk 2 from 2 to 3\n",
      "Move disk 1 from 1 to 3\n"
     ]
    }
   ],
   "source": [
    "for act in solution.solution():\n",
    "    print(act)"
   ]
  },
  {
   "cell_type": "markdown",
   "id": "dded617c-63c0-440b-963e-3e0148ead3df",
   "metadata": {},
   "source": [
    "## Medición de performance\n",
    "\n",
    "Por último, si nos preguntamos cómo medir la performance del algoritmo de búsqueda, Python nos ofrece algunas herramientas de *profiling*.\n",
    "\n",
    "### Medir el tiempo de ejecución\n",
    "Podemos utilizar `%%timeit` en notebooks de Jupyter para medir el tiempo de ejecución promedio de una celda:"
   ]
  },
  {
   "cell_type": "code",
   "execution_count": 65,
   "id": "4eb9232e-d2f7-4af9-82ff-496413410420",
   "metadata": {},
   "outputs": [
    {
     "name": "stdout",
     "output_type": "stream",
     "text": [
      "61.2 ms ± 1.59 ms per loop (mean ± std. dev. of 7 runs, 10 loops each)\n"
     ]
    }
   ],
   "source": [
    "%%timeit \n",
    "solution, metrics = breadth_first_search(number_disks=5)"
   ]
  },
  {
   "cell_type": "markdown",
   "id": "c8b18f1a-c900-4af5-ad26-3c8c3e96b3ea",
   "metadata": {},
   "source": [
    "En una prueba típica, por ejemplo, podemos observar que la ejecución demora unos 60 milisegundos. Este valor dependerá de la máquina utilizada y solo será significativo si se compara con otros algoritmos ejecutados en las mismas condiciones.\n",
    "\n",
    "### Medir el uso de memoria\n",
    "\n",
    "Medir el uso de memoria es un poco más complejo. Una forma sencilla es monitorear el pico de consumo de memoria RAM durante la ejecución. Para esto podemos usar la biblioteca `tracemalloc`:"
   ]
  },
  {
   "cell_type": "code",
   "execution_count": 66,
   "id": "ef46aea3401b7c52",
   "metadata": {
    "ExecuteTime": {
     "end_time": "2024-03-18T04:57:42.288659Z",
     "start_time": "2024-03-18T04:57:42.009243Z"
    },
    "collapsed": false,
    "jupyter": {
     "outputs_hidden": false
    }
   },
   "outputs": [
    {
     "name": "stdout",
     "output_type": "stream",
     "text": [
      "Pico de memoria ocupada: 1.61 [MB]\n"
     ]
    }
   ],
   "source": [
    "import tracemalloc\n",
    "\n",
    "tracemalloc.start()\n",
    "\n",
    "solution, metrics = breadth_first_search(number_disks=5)\n",
    "\n",
    "# Para medir memoria consumida usamos el pico de memoria\n",
    "_, memory_peak = tracemalloc.get_traced_memory()\n",
    "memory_peak /= 1024*1024\n",
    "tracemalloc.stop()\n",
    "\n",
    "print(f\"Pico de memoria ocupada: {round(memory_peak, 2)} [MB]\", )"
   ]
  },
  {
   "cell_type": "markdown",
   "id": "54273d59",
   "metadata": {},
   "source": [
    "Con esta estructura, tenemos un algoritmo funcional, evaluable en rendimiento y reutilizable. Desde acá podemos comparar esta implementación de búsqueda con otras variantes como:\n",
    "\n",
    "- Búsqueda en profundidad primero\n",
    "- Búsqueda con costo uniforme \n",
    "- Búsqueda Greedy\n",
    "- Búsqueda A*"
   ]
  }
 ],
 "metadata": {
  "kernelspec": {
   "display_name": "ia_env",
   "language": "python",
   "name": "python3"
  },
  "language_info": {
   "codemirror_mode": {
    "name": "ipython",
    "version": 3
   },
   "file_extension": ".py",
   "mimetype": "text/x-python",
   "name": "python",
   "nbconvert_exporter": "python",
   "pygments_lexer": "ipython3",
   "version": "3.11.11"
  }
 },
 "nbformat": 4,
 "nbformat_minor": 5
}
