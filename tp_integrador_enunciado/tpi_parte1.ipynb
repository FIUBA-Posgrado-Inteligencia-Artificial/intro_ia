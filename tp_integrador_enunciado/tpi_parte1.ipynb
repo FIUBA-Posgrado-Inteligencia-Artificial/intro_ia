{
  "cells": [
    {
      "attachments": {},
      "cell_type": "markdown",
      "id": "07289bb0",
      "metadata": {},
      "source": [
        "# Trabajo integrador - Parte 1\n",
        "## Python y Numpy\n",
        "\n",
        "**Nombre**:"
      ]
    },
    {
      "cell_type": "code",
      "execution_count": 1,
      "id": "aaf94e0a",
      "metadata": {
        "id": "aaf94e0a"
      },
      "outputs": [],
      "source": [
        "import numpy as np"
      ]
    },
    {
      "attachments": {},
      "cell_type": "markdown",
      "id": "0ffe9554",
      "metadata": {},
      "source": [
        "## Ejercicio 1\n",
        "\n",
        "Dada una matriz en formato *numpy array*, donde cada fila de la matriz representa un vector matemático, se requiere computar las normas $l_0$, $l_1$, $l_2$, $l_{\\infty}$, según la siguientes definiciones:\n",
        "\n",
        "\\begin{equation}\n",
        "    ||\\mathbf{x}||^{p} = \\bigg(\\sum_{j=1}^{n}{|x_i|^p}\\bigg)^{\\frac{1}{p}}\n",
        "\\end{equation}\n",
        "\n",
        "con los casos especiales para $p=0$ y $p=\\infty$ siendo:\n",
        "\n",
        "\\begin{equation}\n",
        "    \\begin{array}{rcl}\n",
        "        ||\\mathbf{x}||_0 & = & \\bigg(\\sum_{j=1 \\wedge x_j != 0}{|x_i|}\\bigg)\\\\\n",
        "        ||\\mathbf{x}||_{\\infty} & = & \\max_{i}{|x_i|}\\\\\n",
        "    \\end{array}\n",
        "\\end{equation}"
      ]
    },
    {
      "cell_type": "code",
      "execution_count": 96,
      "id": "0bdb0ee3",
      "metadata": {},
      "outputs": [
        {
          "name": "stdout",
          "output_type": "stream",
          "text": [
            "Matriz:\n",
            " [[ 0 -1  2]\n",
            " [ 3  4  5]\n",
            " [ 6  7  8]] \n",
            "\n",
            "Vector 1:\n",
            " [ 0 -1  2] \n",
            "\n",
            "Vector 2:\n",
            " [3 4 5] \n",
            "\n",
            "Vector 3:\n",
            " [6 7 8] \n",
            "\n",
            "Abs:\n",
            " [[0 1 2]\n",
            " [3 4 5]\n",
            " [6 7 8]] \n",
            "\n",
            "Norm L0 [2 3 3]\n",
            "Norm L1 [ 3. 12. 21.]\n",
            "Norm L2 [ 2.23606798  7.07106781 12.20655562]\n",
            "Norm L infinity [2 5 8]\n",
            "\n",
            "Using linalg.norm\n",
            "Norm L0 [2. 3. 3.]\n",
            "Norm L1 [ 3. 12. 21.]\n",
            "Norm L2 [ 2.23606798  7.07106781 12.20655562]\n",
            "Norm L infinity [2. 5. 8.]\n"
          ]
        }
      ],
      "source": [
        "matrix = np.array([[0, -1, 2], [3, 4, 5], [6, 7, 8]])\n",
        "\n",
        "print(\"Matriz:\\n\", matrix, \"\\n\")\n",
        "print(\"Vector 1:\\n\", matrix[0], \"\\n\")\n",
        "print(\"Vector 2:\\n\", matrix[1], \"\\n\")\n",
        "print(\"Vector 3:\\n\", matrix[2], \"\\n\")\n",
        "\n",
        "#test de valores absolutos\n",
        "print(\"Abs:\\n\", np.abs(matrix), \"\\n\")\n",
        "\n",
        "# Una norma para vectores o matrices, es una medida de la \"magnitud\" o \" tamaño\" de éstos (sacado de wiki).\n",
        "def apply_norm(array, p):\n",
        "    norm_val = None\n",
        "    if p == 0:\n",
        "        # En la norma 0 contar la cantidad de números en el array que sean diferentes de 0\n",
        "        norm_val = np.count_nonzero(array)\n",
        "    elif p == np.inf:\n",
        "        # En la norma infinito se pide el valor máximo de todos los elemtos del array\n",
        "        norm_val = np.max(np.abs(array))\n",
        "    else:\n",
        "        # para cualquier otro valor que tome P se pide la sumatoria cada uno de los valores del array elevado a P\n",
        "        # y a ese resultado se lo eleva a 1/P\n",
        "        norm_val = np.sum(np.abs(array)**p)**(1/p)\n",
        "    return norm_val\n",
        "\n",
        "print(\"Norm L0\", np.apply_along_axis(apply_norm, 1, matrix, p=0))\n",
        "print(\"Norm L1\", np.apply_along_axis(apply_norm, 1, matrix, p=1))\n",
        "print(\"Norm L2\", np.apply_along_axis(apply_norm, 1, matrix, p=2))\n",
        "print(\"Norm L infinity\", np.apply_along_axis(apply_norm, 1, matrix, p=np.inf))\n",
        "\n",
        "#--------------------------------------------------------------------\n",
        "print(\"\\nValidation using linalg.norm\")\n",
        "def apply_linalg_norm(array, ordParam):\n",
        "  return np.sum(np.linalg.norm(array, ord=ordParam))\n",
        "\n",
        "print(\"Norm L0\", np.apply_along_axis(apply_linalg_norm, 1, matrix, ordParam=0))\n",
        "print(\"Norm L1\", np.apply_along_axis(apply_linalg_norm, 1, matrix, ordParam=1))\n",
        "print(\"Norm L2\", np.apply_along_axis(apply_linalg_norm, 1, matrix, ordParam=2))\n",
        "print(\"Norm L infinity\", np.apply_along_axis(apply_linalg_norm, 1, matrix, ordParam=np.inf))"
      ]
    },
    {
      "attachments": {},
      "cell_type": "markdown",
      "id": "dd66d862",
      "metadata": {},
      "source": [
        "## Ejercicio 2\n",
        "\n",
        "En clasificación contamos con dos arreglos, la “verdad” y la “predicción”. Cada elemento de los arreglos pueden tomar dos valores, “True” (representado por 1) y “False” (representado por 0). Entonces podemos definir 4 variables:\n",
        "\n",
        "* True Positive (TP): El valor verdadero es 1 y el valor predicho es 1\n",
        "* True Negative (TN): El valor verdadero es 0 y el valor predicho es 0\n",
        "* False Positive (FP): El valor verdadero es 0 y el valor predicho es 1\n",
        "* False Negative (FN): El valor verdadero es 1 y el valor predicho es 0\n",
        "\n",
        "A partir de esto definimos:\n",
        "\n",
        "* Precision = TP / (TP + FP)\n",
        "* Recall = TP / (TP + FN)\n",
        "* Accuracy = (TP + TN) / (TP + TN + FP + FN)\n",
        " \n",
        "Calcular las 3 métricas con Numpy y operaciones vectorizadas."
      ]
    },
    {
      "cell_type": "code",
      "execution_count": 87,
      "id": "794dcd58",
      "metadata": {},
      "outputs": [
        {
          "name": "stdout",
          "output_type": "stream",
          "text": [
            "Truth:\n",
            " [1 1 0 1 1 1 0 0 0 1]\n",
            "Prediction:\n",
            " [1 1 1 1 0 0 1 1 0 0] \n",
            "\n",
            "True positive:  3\n",
            "True negative:  1\n",
            "False positive:  3\n",
            "False negative:  3\n",
            "\n",
            "Precision = TP/(TP+FP):  0.5\n",
            "Recall = TP/(TP+FN):  0.5\n",
            "Accuracy = (TP+TN)/(TP+TN+FP+FN):  0.4\n"
          ]
        }
      ],
      "source": [
        "truth = np.array([1,1,0,1,1,1,0,0,0,1])\n",
        "prediction = np.array([1,1,1,1,0,0,1,1,0,0])\n",
        "\n",
        "print(\"Truth:\\n\", truth)\n",
        "print(\"Prediction:\\n\", prediction, \"\\n\")\n",
        "\n",
        "#con la condición and funciona tal cual a un AND LÓGICO\n",
        "true_positive = np.sum(np.logical_and(truth, prediction))\n",
        "print(\"True positive: \", true_positive)\n",
        "\n",
        "#por cada valor de cada arreglo lo igualo a 0 para obtener True o False según corresponda (de esta manera invierto los valores), luego aplico el and\n",
        "true_negative = np.sum(np.logical_and(truth == 0, prediction == 0))\n",
        "print(\"True negative: \", true_negative)\n",
        "\n",
        "false_positive = np.sum(np.logical_and(truth == 0, prediction))\n",
        "print(\"False positive: \", false_positive)\n",
        "\n",
        "false_negative = np.sum(np.logical_and(truth, prediction == 0))\n",
        "print(\"False negative: \", false_negative)\n",
        "\n",
        "print(\"\\nPrecision = TP/(TP+FP): \", true_positive / (true_positive + false_positive))\n",
        "print(\"Recall = TP/(TP+FN): \", true_positive / (true_positive + false_negative))\n",
        "print(\"Accuracy = (TP+TN)/(TP+TN+FP+FN): \", (true_positive + true_negative) / (true_positive + true_negative + false_positive + false_negative))\n"
      ]
    },
    {
      "attachments": {},
      "cell_type": "markdown",
      "id": "d0ac6f6f",
      "metadata": {},
      "source": [
        "## Ejercicio 3\n",
        "\n",
        "Crear una función que separe los datos en train-validation-test. Debe recibir de parametros:\n",
        "\n",
        "- X: Array o Dataframe que contiene los datos de entrada del sistema.\n",
        "- y: Array o Dataframe que contiene la(s) variable(s) target del problema.\n",
        "- train_percentage: _float_ el porcentaje de training.\n",
        "- test_percentage: _float_ el porcentaje de testing.\n",
        "- val_percentage: _float_ el porcentaje de validación.\n",
        "- shuffle: _bool_ determina si el split debe hacerse de manera random o no.\n",
        "\n",
        "Hints: \n",
        "\n",
        "* Usar Indexing y slicing\n",
        "* Usar np.random.[...]"
      ]
    },
    {
      "cell_type": "code",
      "execution_count": null,
      "id": "ca85fc66",
      "metadata": {},
      "outputs": [],
      "source": [
        "def split(X_input,\n",
        "          Y_input,\n",
        "          train_size=0.7,\n",
        "          val_size=0.15,\n",
        "          test_size=0.15,\n",
        "          random_state=42,\n",
        "          shuffle=True):\n",
        "    \n",
        "    return NotImplementedError"
      ]
    }
  ],
  "metadata": {
    "colab": {
      "collapsed_sections": [],
      "name": "Practica_clase_3.ipynb",
      "provenance": []
    },
    "kernelspec": {
      "display_name": "Python 3.10.7 64-bit",
      "language": "python",
      "name": "python3"
    },
    "language_info": {
      "codemirror_mode": {
        "name": "ipython",
        "version": 3
      },
      "file_extension": ".py",
      "mimetype": "text/x-python",
      "name": "python",
      "nbconvert_exporter": "python",
      "pygments_lexer": "ipython3",
      "version": "3.11.3"
    },
    "vscode": {
      "interpreter": {
        "hash": "b5c22da4a52024410f64f9c5a5e2b4ffeeb944a5ed00e8825a42174cdab30315"
      }
    }
  },
  "nbformat": 4,
  "nbformat_minor": 5
}
