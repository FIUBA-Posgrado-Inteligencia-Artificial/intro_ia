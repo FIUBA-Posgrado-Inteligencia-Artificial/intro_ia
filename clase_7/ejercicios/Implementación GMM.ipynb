{
 "cells": [
  {
   "cell_type": "code",
   "execution_count": null,
   "id": "82892303",
   "metadata": {},
   "outputs": [],
   "source": [
    "class EMScalar(BaseModel):\n",
    "    \n",
    "    def fit(self, #parametros):\n",
    "        # Los parámetros deben incluir al menos:\n",
    "        #  - Alguna forma de detener la iteración\n",
    "        #  - Los datos observados\n",
    "        #  - La cantidad de distribuciones \n",
    "\n",
    "\n",
    "        # Inicialización de parámetros\n",
    "            \n",
    "        # Inicializar las probabilidades marginales de las clases P(z)\n",
    "\n",
    "        # Inicializar medias\n",
    "        \n",
    "        # Inicializar matrices covarianza\n",
    "\n",
    "        # Crear matrices place-holders para \n",
    "            # p(x|z) para cada clase z (n x k), [p(x1|z1) p(x1|z2) p(x1|z3) ..]\n",
    "            # Responsibilities\n",
    "        \n",
    "\n",
    "        # Calcular, con los parámetros iniciales, p(x|z) para todos los z\n",
    "        \n",
    "            \n",
    "        # Algoritmo de actualización \n",
    "        while # Criterio para detener:\n",
    "            for j in range(k):\n",
    "                # Responsibilities\n",
    "            \n",
    "                # Actualizar medias \n",
    "                \n",
    "                # Actualizar covarianzas\n",
    "                \n",
    "                # Actualizar pesos de clases\n",
    "                \n",
    "                # Actualizar p(x|z)\n",
    "                \n",
    "            \n",
    "        # Al finalizar el loop, guardar el modelo en la clase\n",
    "        self.model = \n",
    "\n",
    "    def predict(self, #inputs necesarios):\n",
    "        # Devuelve para cada observación la clase asignada\n",
    "        return "
   ]
  }
 ],
 "metadata": {
  "kernelspec": {
   "display_name": "Python 3 (ipykernel)",
   "language": "python",
   "name": "python3"
  },
  "language_info": {
   "codemirror_mode": {
    "name": "ipython",
    "version": 3
   },
   "file_extension": ".py",
   "mimetype": "text/x-python",
   "name": "python",
   "nbconvert_exporter": "python",
   "pygments_lexer": "ipython3",
   "version": "3.8.10"
  }
 },
 "nbformat": 4,
 "nbformat_minor": 5
}
