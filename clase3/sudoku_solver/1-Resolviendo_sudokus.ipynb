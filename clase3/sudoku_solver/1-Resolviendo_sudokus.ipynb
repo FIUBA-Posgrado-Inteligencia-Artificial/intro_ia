{
 "cells": [
  {
   "cell_type": "markdown",
   "id": "b8bafd0acf580cb1",
   "metadata": {
    "collapsed": false,
    "jupyter": {
     "outputs_hidden": false
    }
   },
   "source": [
    "# Resolviendo Sudokus\n",
    "Inteligencia Artificial - Facundo A. Lucianna - CEIA - FIUBA\n",
    "\n",
    "Las reglas del Sudoku son simples y bien definidas: debés completar las celdas vacías de manera que cada fila, cada columna y cada una de las cajas de 3x3 contenga todos los números del 1 al 9, sin repeticiones. Un ejemplo sería el siguiente:\n",
    "\n",
    "<div>\n",
    "<img src=\"./sudoku_1.png\" width=\"600\"/>\n",
    "</div>\n",
    "\n",
    "En este caso, el sudoku de la izquierda está sin resolver, mientras que el de la derecha muestra la solución, con los números resaltados en azul. Es importante destacar que, si un sudoku está bien diseñado, siempre tiene una única solución."
   ]
  },
  {
   "cell_type": "markdown",
   "id": "6e0eb29b00f5113a",
   "metadata": {
    "collapsed": false,
    "jupyter": {
     "outputs_hidden": false
    }
   },
   "source": [
    "# Implementando conceptos básicos\n",
    "\n",
    "Basándonos en el trabajo de Peter Norvig](https://github.com/norvig/pytudes/blob/main/ipynb/Sudoku.ipynb), vamos a definir los conceptos clave del Sudoku:\n",
    "\n",
    "- **Dígitos**: Son los números del `1` al `9`\n",
    "- **Filas**: Por convención, las 9 filas están etiquetadas con las letras `'A'` a `'I'` (de arriba hacia abajo).\n",
    "- **Columnas**: Por convención, las 9 columnas están etiquetadas con los números `'1'` a `'9'` (de izquierda a derecha).\n",
    "- **Celda**: Se nombra mediante la combinación de la etiqueta de la fila y la columna. Por ejemplo, `'A9'` es la celda en la esquina superior derecha.\n",
    "- **Celda fijas**: Son aquellas cuyos valores ya están definidos al inicio del juego.\n",
    "- **Cajas**: Las 9 cajas son bloques de 3x3 dentro de la grilla (destacadas con líneas negras en el diagrama).\n",
    "- **Unidad**: Una unidad puede ser una fila, una columna o una caja. Cada unidad consta de 9 celdas.\n",
    "\n",
    "Ahora necesitamos extender algunas definiciones para poder resolver el Sudoku usando algoritmos de búsqueda local:\n",
    "\n",
    "- **Estado**: Es el llenado completo de una grilla de Sudoku, usando los 9 dígitos, uno por celda.\n",
    "- **Solución**: Una grilla es válida como solución si cada unidad contiene los 9 dígitos sin repeticiones, y todos los dígitos están correctamente ubicados según las reglas del Sudoku.\n",
    "- **Vecinos**: Dado un estado A, se define como vecino cualquier otro estado que se obtenga mediante una de las siguientes condiciones:\n",
    "    1. Intercambio de valores entre dos celdas dentro de la misma unidad, siempre que ninguna de las celdas involucradas sea fija.\n",
    "    2. Cambio de valor en una única celda, siempre y cuando no sea una celda fija.\n",
    "\n",
    "Veamos algunos ejemplos que nos ayudarán a entender mejor estas definiciones.\n",
    "\n",
    "Este es un estado del Sudoku. Obsérvese que no es una solución válida:\n",
    "\n",
    "<div>\n",
    "<img src=\"./sudoku_3.png\" width=\"300\"/>\n",
    "</div>\n",
    "\n",
    "En cambio, este estado sí es **una solución** válida:\n",
    "\n",
    "<div>\n",
    "<img src=\"./sudoku_4.png\" width=\"300\"/>\n",
    "</div>\n",
    "\n",
    "Ahora, pasemos a un ejemplo de vecinos. Partimos del siguiente estado:\n",
    "\n",
    "<div>\n",
    "<img src=\"./sudoku_3.png\" width=\"300\"/>\n",
    "</div>\n",
    "\n",
    "Un vecino de este estado, según la condición 1 (intercambio de valores entre celdas dentro de la misma unidad, sin que ninguna sea fija), sería:\n",
    "\n",
    "<div>\n",
    "<img src=\"./sudoku_5.png\" width=\"300\"/>\n",
    "</div>\n",
    "\n",
    "Y un vecino, según la condición 2 (cambio de valor de una única celda no fija), sería:\n",
    "\n",
    "<div>\n",
    "<img src=\"./sudoku_6.png\" width=\"300\"/>\n",
    "</div>"
   ]
  },
  {
   "cell_type": "markdown",
   "id": "2f968d45-a4d5-4ed1-b820-51b3a73050ea",
   "metadata": {},
   "source": [
    "---\n",
    "## Implementación en código de Sudoku\n",
    "\n",
    "A continuación, crearemos en el archivo `sudoku_stuff.py` diversas funciones que nos permitirán resolver sudokus. Estas funciones incluirán:\n",
    "\n",
    "- Inicialización de un estado: Para configurar la grilla de Sudoku al inicio del juego.\n",
    "- Creación de vecinos: Para generar los estados vecinos a partir de uno dado, según las reglas que hemos definido.\n",
    "- Verificación de solución: Para comprobar si un estado es una solución válida de Sudoku, es decir, si cumple con todas las restricciones del juego."
   ]
  },
  {
   "cell_type": "code",
   "execution_count": 1,
   "id": "981b188f-2fe8-467f-a128-30ebeb00954e",
   "metadata": {},
   "outputs": [],
   "source": [
    "from sudoku_stuff import *"
   ]
  },
  {
   "cell_type": "markdown",
   "id": "4cd79b6a-8979-4960-8809-30c478c23d26",
   "metadata": {},
   "source": [
    "### Obtenemos las coordenadas de las celdas\n",
    "\n",
    "Podemos obtener las coordenadas de todas las celdas utilizando la función `obtain_all_cells()`:"
   ]
  },
  {
   "cell_type": "code",
   "execution_count": 2,
   "id": "00f0722d-0f11-4679-ae22-189aa2122316",
   "metadata": {},
   "outputs": [
    {
     "data": {
      "text/plain": [
       "('A1', 'A2', 'A3', 'A4', 'A5', 'A6', 'A7', 'A8', 'A9', 'B1')"
      ]
     },
     "execution_count": 2,
     "metadata": {},
     "output_type": "execute_result"
    }
   ],
   "source": [
    "squares = obtain_all_cells()\n",
    "\n",
    "squares[:10]"
   ]
  },
  {
   "cell_type": "markdown",
   "id": "6225142a-3c16-4dcb-852c-c58617a2a4f8",
   "metadata": {},
   "source": [
    "Si queremos obtener las coordenadas para el caso de un Sudoku de 2x2, por ejemplo:\n",
    "\n",
    "<div>\n",
    "<img src=\"./sudoku_2.png\" width=\"300\"/>\n",
    "</div>\n",
    "\n",
    "Podemos hacerlo indicando las coordenadas de cada celda mediante strings, como se muestra a continuación:"
   ]
  },
  {
   "cell_type": "code",
   "execution_count": 3,
   "id": "3ae10231-c23f-4689-8b7c-401bb361f6e4",
   "metadata": {},
   "outputs": [
    {
     "data": {
      "text/plain": [
       "('A1',\n",
       " 'A2',\n",
       " 'A3',\n",
       " 'A4',\n",
       " 'B1',\n",
       " 'B2',\n",
       " 'B3',\n",
       " 'B4',\n",
       " 'C1',\n",
       " 'C2',\n",
       " 'C3',\n",
       " 'C4',\n",
       " 'D1',\n",
       " 'D2',\n",
       " 'D3',\n",
       " 'D4')"
      ]
     },
     "execution_count": 3,
     "metadata": {},
     "output_type": "execute_result"
    }
   ],
   "source": [
    "squares = obtain_all_cells(rows=\"ABCD\", cols=\"1234\")\n",
    "\n",
    "squares"
   ]
  },
  {
   "cell_type": "markdown",
   "id": "34870884-9566-422e-a3b9-d3b6de36a84e",
   "metadata": {},
   "source": [
    "### Obtenemos cuáles son las unidades\n",
    "\n",
    "Además, si queremos obtener las unidades que conforman un Sudoku de 3x3, podemos usar la función `obtain_coordinates_of_units()`.\n",
    "\n",
    "Esta función nos devolverá un diccionario con las coordenadas de las unidades (filas, columnas y cajas) que forman el Sudoku:"
   ]
  },
  {
   "cell_type": "code",
   "execution_count": 4,
   "id": "cc27922a-ac03-40d9-b07f-fc4965ce73ac",
   "metadata": {},
   "outputs": [],
   "source": [
    "units_dict = obtain_coordinates_of_units()"
   ]
  },
  {
   "cell_type": "markdown",
   "id": "8930aadc-3a54-4cb4-9085-df8d1e9d4a02",
   "metadata": {},
   "source": [
    "Podemos acceder a las siguientes claves del diccionario:\n",
    "- `\"boxes\"`: Las cajas. Cada caja es una tupla que contiene las coordenadas de las celdas que la integran.\n",
    "- `\"rows\"`: Las filas. Cada fila es una lista con las coordenadas de sus celdas.\n",
    "- `\"columns\"`: Las columnas. Cada columna es una lista con las coordenadas de sus celdas.\n",
    "- `\"units\"`: Todas las unidades (filas, columnas y cajas), representadas como una lista de tuplas de coordenadas.\n",
    "\n",
    "Veamos algunos ejemplos:\n",
    "\n",
    "- La primera caja:"
   ]
  },
  {
   "cell_type": "code",
   "execution_count": 5,
   "id": "ea12b90c-8706-4716-ac92-3e0c7047b008",
   "metadata": {},
   "outputs": [
    {
     "data": {
      "text/plain": [
       "('A1', 'A2', 'A3', 'B1', 'B2', 'B3', 'C1', 'C2', 'C3')"
      ]
     },
     "execution_count": 5,
     "metadata": {},
     "output_type": "execute_result"
    }
   ],
   "source": [
    "units_dict[\"boxes\"][0]"
   ]
  },
  {
   "cell_type": "markdown",
   "id": "f8b27851-b3a8-42f2-b07d-600312dbb45f",
   "metadata": {},
   "source": [
    "- La primera fila:"
   ]
  },
  {
   "cell_type": "code",
   "execution_count": 6,
   "id": "0265d845-7d3c-4ddd-8c67-82118a6b4fc8",
   "metadata": {},
   "outputs": [
    {
     "data": {
      "text/plain": [
       "('A1', 'B1', 'C1', 'D1', 'E1', 'F1', 'G1', 'H1', 'I1')"
      ]
     },
     "execution_count": 6,
     "metadata": {},
     "output_type": "execute_result"
    }
   ],
   "source": [
    "units_dict[\"rows\"][0]"
   ]
  },
  {
   "cell_type": "markdown",
   "id": "b144cbc3-c3c9-430a-b9f5-cf4c3e305568",
   "metadata": {},
   "source": [
    "- La primera columna:"
   ]
  },
  {
   "cell_type": "code",
   "execution_count": 7,
   "id": "434efa81-1206-4036-9196-d0797ce5d31d",
   "metadata": {},
   "outputs": [
    {
     "data": {
      "text/plain": [
       "('A1', 'A2', 'A3', 'A4', 'A5', 'A6', 'A7', 'A8', 'A9')"
      ]
     },
     "execution_count": 7,
     "metadata": {},
     "output_type": "execute_result"
    }
   ],
   "source": [
    "units_dict[\"columns\"][0]"
   ]
  },
  {
   "cell_type": "markdown",
   "id": "d1483ab3-1bb7-45a6-9955-412058a5148f",
   "metadata": {},
   "source": [
    "### Estado de Sudoku\n",
    "\n",
    "Un estado de Sudoku se puede representar mediante un diccionario, donde las claves son las coordenadas de las celdas y los valores son los números que deben almacenarse en esas celdas. Es importante recordar que algunas celdas contienen valores fijos que no se pueden modificar. Estos valores fijos también pueden guardarse en un diccionario separado.\n",
    "\n",
    "Si usamos como ejemplo este Sudoku:\n",
    "\n",
    "<div>\n",
    "<img src=\"./sudoku_7.png\" width=\"300\"/>\n",
    "</div>\n",
    "\n",
    "El diccionario de **celdas fijas** sería el siguiente:\n"
   ]
  },
  {
   "cell_type": "code",
   "execution_count": 8,
   "id": "8a83eafb-55a6-44b2-8aac-eecb5c0eeeaa",
   "metadata": {},
   "outputs": [],
   "source": [
    "fixed_squares = {\n",
    "    'A1': 3, 'A3': 4, 'A4': 5, 'A5': 6, 'A7': 9,\n",
    "    'B1': 1, 'B2': 8, 'B3': 5, 'B6': 9, 'B7': 7,\n",
    "    'C5': 7, 'C6': 8, 'C7': 4, 'C8': 1, 'C9': 5,\n",
    "    'D2': 2, 'D5': 1, 'D8': 4, 'D9': 9,\n",
    "    'E2': 4, 'E3': 9, 'E5': 5, \n",
    "    'F3': 1, \"F4\": 9, \"F5\": 8, \"F7\": 6, \"F8\": 7,\n",
    "    'G1': 4, 'G2': 9, 'G5': 3, 'G9': 7, \n",
    "    'H2': 1, 'H3': 8, 'H4': 7, 'H5': 4, 'H6': 5, 'H9': 6,\n",
    "    'I8': 8,\n",
    "}"
   ]
  },
  {
   "cell_type": "markdown",
   "id": "d741ef6a-6751-4761-b79b-931932cc6c00",
   "metadata": {},
   "source": [
    "Y la solución correspondiente sería:\n",
    "\n",
    "<div>\n",
    "<img src=\"./sudoku_4.png\" width=\"300\"/>\n",
    "</div>\n",
    "\n",
    "Representada con el siguiente diccionario, que en este caso es un estado **solución**:"
   ]
  },
  {
   "cell_type": "code",
   "execution_count": 9,
   "id": "c52990e0-9de5-4ce7-ae47-17daf7d1ae60",
   "metadata": {},
   "outputs": [],
   "source": [
    "solution = {\n",
    "    'A1': 3, 'A2': 7, 'A3': 4, 'A4': 5, 'A5': 6, 'A6': 1, 'A7': 9, 'A8': 2, 'A9': 8,\n",
    "    'B1': 1, 'B2': 8, 'B3': 5, 'B4': 4, 'B5': 2, 'B6': 9, 'B7': 7, 'B8': 6, 'B9': 3,\n",
    "    'C1': 9, 'C2': 6, 'C3': 2, 'C4': 3, 'C5': 7, 'C6': 8, 'C7': 4, 'C8': 1, 'C9': 5,\n",
    "    'D1': 8, 'D2': 2, 'D3': 7, 'D4': 6, 'D5': 1, 'D6': 3, 'D7': 5, 'D8': 4, 'D9': 9,\n",
    "    'E1': 6, 'E2': 4, 'E3': 9, 'E4': 2, 'E5': 5, 'E6': 7, 'E7': 8, 'E8': 3, 'E9': 1,\n",
    "    'F1': 5, 'F2': 3, 'F3': 1, 'F4': 9, 'F5': 8, 'F6': 4, 'F7': 6, 'F8': 7, 'F9': 2,\n",
    "    'G1': 4, 'G2': 9, 'G3': 6, 'G4': 8, 'G5': 3, 'G6': 2, 'G7': 1, 'G8': 5, 'G9': 7,\n",
    "    'H1': 2, 'H2': 1, 'H3': 8, 'H4': 7, 'H5': 4, 'H6': 5, 'H7': 3, 'H8': 9, 'H9': 6,\n",
    "    'I1': 7, 'I2': 5, 'I3': 3, 'I4': 1, 'I5': 9, 'I6': 6, 'I7': 2, 'I8': 8, 'I9': 4,\n",
    "}"
   ]
  },
  {
   "cell_type": "markdown",
   "id": "983a5e7a-5976-482a-8850-6712210678d7",
   "metadata": {},
   "source": [
    "Ver este diccionario directamente puede dificultar la comprensión visual del Sudoku, pero contamos con una función que facilita esta tarea: `print_state()`."
   ]
  },
  {
   "cell_type": "code",
   "execution_count": 10,
   "id": "9b13b263-9674-4874-ab0b-592bfcafa00b",
   "metadata": {},
   "outputs": [
    {
     "name": "stdout",
     "output_type": "stream",
     "text": [
      "*---------+---------+---------*\n",
      "| 3  7  4 | 5  6  1 | 9  2  8 |\n",
      "| 1  8  5 | 4  2  9 | 7  6  3 |\n",
      "| 9  6  2 | 3  7  8 | 4  1  5 |\n",
      "*---------+---------+---------*\n",
      "| 8  2  7 | 6  1  3 | 5  4  9 |\n",
      "| 6  4  9 | 2  5  7 | 8  3  1 |\n",
      "| 5  3  1 | 9  8  4 | 6  7  2 |\n",
      "*---------+---------+---------*\n",
      "| 4  9  6 | 8  3  2 | 1  5  7 |\n",
      "| 2  1  8 | 7  4  5 | 3  9  6 |\n",
      "| 7  5  3 | 1  9  6 | 2  8  4 |\n",
      "*---------+---------+---------*\n"
     ]
    }
   ],
   "source": [
    "print_state(solution)"
   ]
  },
  {
   "cell_type": "markdown",
   "id": "96a940a7-1e00-43ea-b0cd-d302e8b03697",
   "metadata": {},
   "source": [
    "### Obteniendo estados al azar\n",
    "\n",
    "Una estrategia que nos ayudará a resolver estos Sudokus utilizando algoritmos de búsqueda local es inicializar el Sudoku en un estado aleatorio. Esto se puede lograr mediante la función `init_state()`, a la que debemos pasarle las celdas fijas."
   ]
  },
  {
   "cell_type": "code",
   "execution_count": 11,
   "id": "603261bc-70ab-44fc-a1b6-40aeae4038bb",
   "metadata": {},
   "outputs": [],
   "source": [
    "new_state = init_state(fixed_squares)"
   ]
  },
  {
   "cell_type": "code",
   "execution_count": 12,
   "id": "0b42cfb7-1c87-41be-b554-4560d830fb07",
   "metadata": {},
   "outputs": [
    {
     "name": "stdout",
     "output_type": "stream",
     "text": [
      "*---------+---------+---------*\n",
      "| 3  4  4 | 5  6  4 | 9  7  9 |\n",
      "| 1  8  5 | 1  9  9 | 7  7  2 |\n",
      "| 2  2  3 | 5  7  8 | 4  1  5 |\n",
      "*---------+---------+---------*\n",
      "| 7  2  5 | 9  1  4 | 2  4  9 |\n",
      "| 2  4  9 | 5  5  2 | 5  6  9 |\n",
      "| 9  3  1 | 9  8  7 | 6  7  5 |\n",
      "*---------+---------+---------*\n",
      "| 4  9  7 | 4  3  1 | 3  4  7 |\n",
      "| 8  1  8 | 7  4  5 | 3  9  6 |\n",
      "| 2  8  3 | 4  6  6 | 9  8  4 |\n",
      "*---------+---------+---------*\n"
     ]
    }
   ],
   "source": [
    "print_state(new_state)"
   ]
  },
  {
   "cell_type": "markdown",
   "id": "ae4da178-046b-4452-953b-cd3d739342c9",
   "metadata": {},
   "source": [
    "Obsérvese que este estado aleatorio no es una **solución válid** (aunque por pura casualidad podría serlo, es muy poco probable que ocurra).\n",
    "\n",
    "### Verificando si es solución\n",
    "\n",
    "Podemos verificar si un estado del Sudoku es una solución válida utilizando la función `is_solution()`. Esta función comprueba que todas las unidades (filas, columnas y cajas) contengan todos los dígitos del 1 al 9, sin repeticiones.\n",
    "\n",
    "La función retorna un valor booleano, que podemos usar para verificar si el estado es una solución."
   ]
  },
  {
   "cell_type": "code",
   "execution_count": 13,
   "id": "2ec11c5a-b51d-4870-b397-d1c6e2621217",
   "metadata": {},
   "outputs": [
    {
     "name": "stdout",
     "output_type": "stream",
     "text": [
      "¿El estado obtenido es solución?\n",
      "No, no es solución.\n"
     ]
    }
   ],
   "source": [
    "print(\"¿El estado obtenido es solución?\")\n",
    "if is_solution(new_state):\n",
    "    print(\"¡Sí, es solución!\")\n",
    "else:\n",
    "    print(\"No, no es solución.\")"
   ]
  },
  {
   "cell_type": "markdown",
   "id": "0f22a46a-410e-455b-b32c-8911c60f6168",
   "metadata": {},
   "source": [
    "Verifiquemos con la solución real:"
   ]
  },
  {
   "cell_type": "code",
   "execution_count": 14,
   "id": "172b3900-25cc-4317-9ba0-219789e82825",
   "metadata": {},
   "outputs": [
    {
     "name": "stdout",
     "output_type": "stream",
     "text": [
      "¿El estado definido como solution es realmente la solución?\n",
      "¡Sí, es solución!\n"
     ]
    }
   ],
   "source": [
    "print(\"¿El estado definido como solution es realmente la solución?\")\n",
    "if is_solution(solution):\n",
    "    print(\"¡Sí, es solución!\")\n",
    "else:\n",
    "    print(\"No, no es solución.\")"
   ]
  },
  {
   "cell_type": "markdown",
   "id": "ab7d112f-681d-40ad-8ada-48e2af8bc8d0",
   "metadata": {},
   "source": [
    "### Generando vecinos\n",
    "\n",
    "Por último, tenemos una función que genera los vecinos inmediatos de un estado dado, basándose en las dos condiciones que vimos previamente:\n",
    "1. Se intercambia el valor de una celda con otra dentro de la misma unidad, siempre que ninguna de las celdas involucradas sea fija.\n",
    "2. También se consideran vecinos aquellos estados en los que el valor de una sola celda cambia, siempre y cuando esa celda no sea fija.\n",
    "\n",
    "La función `return_neib_states()` obtiene todos estos vecinos. Para funcionar, necesita como entrada el estado del cual queremos generar los vecinos, así como las celdas fijas. Nos devuelve una lista con todos los nuevos estados vecinos."
   ]
  },
  {
   "cell_type": "code",
   "execution_count": 15,
   "id": "1759e213-ee50-44fa-8b9d-b0ce5d65e366",
   "metadata": {},
   "outputs": [],
   "source": [
    "neib = return_neib_states(new_state, fixed_squares)"
   ]
  },
  {
   "cell_type": "code",
   "execution_count": 16,
   "id": "2df81fc2-1d0d-4ad8-82b0-8d5a6c1e5a53",
   "metadata": {},
   "outputs": [
    {
     "name": "stdout",
     "output_type": "stream",
     "text": [
      "Tenemos 605 vecinos\n"
     ]
    }
   ],
   "source": [
    "print(f\"Tenemos {len(neib)} vecinos\")"
   ]
  },
  {
   "cell_type": "markdown",
   "id": "b3652df1-3412-4395-b910-74288a05a9b6",
   "metadata": {},
   "source": [
    "Veamos algunos ejemplos:"
   ]
  },
  {
   "cell_type": "code",
   "execution_count": 17,
   "id": "f676a9be-daec-44a9-97b8-92a41cb1f94b",
   "metadata": {},
   "outputs": [
    {
     "name": "stdout",
     "output_type": "stream",
     "text": [
      "*---------+---------+---------*\n",
      "| 3  4  4 | 5  6  4 | 9  7  9 |\n",
      "| 1  8  5 | 1  9  9 | 7  7  2 |\n",
      "| 7  2  3 | 5  7  8 | 4  1  5 |\n",
      "*---------+---------+---------*\n",
      "| 2  2  5 | 9  1  4 | 2  4  9 |\n",
      "| 2  4  9 | 5  5  2 | 5  6  9 |\n",
      "| 9  3  1 | 9  8  7 | 6  7  5 |\n",
      "*---------+---------+---------*\n",
      "| 4  9  7 | 4  3  1 | 3  4  7 |\n",
      "| 8  1  8 | 7  4  5 | 3  9  6 |\n",
      "| 2  8  3 | 4  6  6 | 9  8  4 |\n",
      "*---------+---------+---------*\n"
     ]
    }
   ],
   "source": [
    "print_state(neib[0]) "
   ]
  },
  {
   "cell_type": "code",
   "execution_count": 18,
   "id": "58d74c40-06b2-401a-9d0e-6cb5dfdc5af0",
   "metadata": {},
   "outputs": [
    {
     "name": "stdout",
     "output_type": "stream",
     "text": [
      "*---------+---------+---------*\n",
      "| 3  4  4 | 5  6  4 | 9  7  9 |\n",
      "| 1  8  5 | 1  9  9 | 7  7  2 |\n",
      "| 2  2  3 | 5  7  8 | 4  1  5 |\n",
      "*---------+---------+---------*\n",
      "| 7  2  3 | 9  1  4 | 2  4  9 |\n",
      "| 2  4  9 | 5  5  2 | 5  6  9 |\n",
      "| 9  3  1 | 9  8  7 | 6  7  5 |\n",
      "*---------+---------+---------*\n",
      "| 4  9  7 | 4  3  1 | 3  4  7 |\n",
      "| 8  1  8 | 7  4  5 | 3  9  6 |\n",
      "| 2  8  5 | 4  6  6 | 9  8  4 |\n",
      "*---------+---------+---------*\n"
     ]
    }
   ],
   "source": [
    "print_state(neib[25]) "
   ]
  },
  {
   "cell_type": "code",
   "execution_count": 19,
   "id": "2f88f122-01cf-4d1d-868c-a8e44cd633e3",
   "metadata": {},
   "outputs": [
    {
     "name": "stdout",
     "output_type": "stream",
     "text": [
      "*---------+---------+---------*\n",
      "| 3  4  4 | 5  6  4 | 9  7  9 |\n",
      "| 1  8  5 | 1  9  9 | 7  7  2 |\n",
      "| 2  2  3 | 5  7  8 | 4  1  5 |\n",
      "*---------+---------+---------*\n",
      "| 7  2  5 | 9  1  4 | 2  4  9 |\n",
      "| 2  4  9 | 5  5  2 | 5  6  9 |\n",
      "| 9  3  1 | 9  8  7 | 6  7  5 |\n",
      "*---------+---------+---------*\n",
      "| 4  9  7 | 4  3  1 | 3  4  7 |\n",
      "| 8  1  8 | 7  4  5 | 3  9  6 |\n",
      "| 2  8  3 | 4  6  6 | 9  8  9 |\n",
      "*---------+---------+---------*\n"
     ]
    }
   ],
   "source": [
    "print_state(neib[-1]) "
   ]
  },
  {
   "cell_type": "markdown",
   "id": "ca0918ca-8bb6-41e0-aab0-1c1a72db2334",
   "metadata": {},
   "source": [
    "Ya podemos empezar a percibir el desafío de resolver un Sudoku utilizando algoritmos de búsqueda local. Por cada estado, se generan muchos estados vecinos nuevos, lo que aumenta considerablemente el espacio de búsqueda y la complejidad del problema.\n",
    "\n",
    "----\n",
    "## Función de costo\n",
    "\n",
    "Ya hemos visto que el Sudoku genera muchísimos vecinos. Podemos imaginar que el Sudoku se encuentra en un espacio de dimensión igual al número de celdas. Por ejemplo, en un Sudoku de 3x3, la dimensión sería de 81.\n",
    "\n",
    "Para poder aplicar métodos de búsqueda local, necesitamos una forma de medir cuán lejos estamos de la solución. Es decir, necesitamos una función de costo o energía que, al pasarle un estado, nos devuelva un valor escalar. Esta función tomará como entrada las 81 celdas y devolverá un único número que indique qué tan cerca estamos de la solución.\n",
    "\n",
    "Esta función es clave para que los algoritmos de búsqueda local funcionen correctamente. En muchos casos, las funciones de costo están predefinidas por el problema, pero en este caso debemos diseñarla desde cero. Por eso, vamos a buscar una manera de que la función devuelva su valor mínimo cuando el Sudoku esté correctamente resuelto, evitando así problemas como mínimos locales, mesetas o crestas, los cuales son comunes en espacios de alta dimensión.\n",
    "\n",
    "El diseño elegido para la función de costo es el siguiente:\n",
    "\n",
    "- Para cada unidad (fila, columna o caja):\n",
    "    - Si un dígito no se encuentra, se suma una penalización de *0.05*.\n",
    "    - Si un dígito se repite una vez, se suma una penalización de *0.05*\n",
    "    - Si un dígito se repite más de una vez, se suma una penalización de *N * 0.05*, donde *N* es la cantidad de repeticiones del dígito.\n",
    "- Si el estado es una solución correcta, cada fila, columna y caja contendrá exactamente una vez cada dígito del 1 al 9. En ese caso, el costo será 0, lo que corresponde al mínimo global.\n",
    "\n",
    "Esta lógica está implementada en la función `cost_function()`, que toma un estado como entrada y devuelve el costo correspondiente.\n",
    "\n",
    "Veamos ahora el costo del estado aleatorio que generamos:"
   ]
  },
  {
   "cell_type": "code",
   "execution_count": 20,
   "id": "15870487-5ca4-466c-b827-c8be877611bd",
   "metadata": {},
   "outputs": [
    {
     "name": "stdout",
     "output_type": "stream",
     "text": [
      "El costo del estado es 6.8999999999999995\n"
     ]
    }
   ],
   "source": [
    "print(f\"El costo del estado es {cost_function(new_state)}\") "
   ]
  },
  {
   "cell_type": "markdown",
   "id": "352fb79a",
   "metadata": {},
   "source": [
    "Y comparemos con el costo de la solución:"
   ]
  },
  {
   "cell_type": "code",
   "execution_count": 21,
   "id": "746af392-b761-4125-a303-e668447bc6d5",
   "metadata": {},
   "outputs": [
    {
     "name": "stdout",
     "output_type": "stream",
     "text": [
      "El costo del estado es 0.0\n"
     ]
    }
   ],
   "source": [
    "print(f\"El costo del estado es {cost_function(solution)}\") "
   ]
  },
  {
   "cell_type": "markdown",
   "id": "c9734320-c25c-4851-b2dc-820192adfee8",
   "metadata": {},
   "source": [
    "¿Se te ocurre alguna otra función de costo que podrías implementar?"
   ]
  },
  {
   "cell_type": "markdown",
   "id": "03e235fd",
   "metadata": {},
   "source": []
  }
 ],
 "metadata": {
  "kernelspec": {
   "display_name": "ia_env",
   "language": "python",
   "name": "python3"
  },
  "language_info": {
   "codemirror_mode": {
    "name": "ipython",
    "version": 3
   },
   "file_extension": ".py",
   "mimetype": "text/x-python",
   "name": "python",
   "nbconvert_exporter": "python",
   "pygments_lexer": "ipython3",
   "version": "3.11.11"
  }
 },
 "nbformat": 4,
 "nbformat_minor": 5
}
