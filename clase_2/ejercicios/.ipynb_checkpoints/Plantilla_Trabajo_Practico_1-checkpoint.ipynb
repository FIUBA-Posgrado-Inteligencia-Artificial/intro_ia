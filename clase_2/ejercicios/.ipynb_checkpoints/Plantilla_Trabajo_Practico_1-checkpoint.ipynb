{
 "cells": [
  {
   "cell_type": "markdown",
   "id": "0ab6c4d9",
   "metadata": {},
   "source": [
    "# Trabajo práctico 1 \n",
    "\n"
   ]
  },
  {
   "cell_type": "markdown",
   "id": "45c02398",
   "metadata": {},
   "source": [
    "## Ejercicio 1 - Implementar PCA con numpy\n",
    "**Dataset** Human activity recognition\n",
    "\n",
    "Tomar las primeras 63 componentes principales y calcular la varianza contemplada. Realizar las operaciones internas con numpy.linalg. "
   ]
  },
  {
   "cell_type": "code",
   "execution_count": null,
   "id": "773a396d",
   "metadata": {},
   "outputs": [],
   "source": [
    "## not implemented"
   ]
  },
  {
   "cell_type": "markdown",
   "id": "21f045fe",
   "metadata": {},
   "source": [
    "## Ejercicio 2 - Implementar KMeans con numpy\n",
    "**Dataset** Human activity recognition\n",
    "\n",
    "Implementar kmeans con numpy. Agrupar el dataset transformado (ejercicio de PCA) y agrupar en clusters de k=2 a 6. Graficar los casos de k=2 y k=6 con las primeras dos componentes principales."
   ]
  },
  {
   "cell_type": "code",
   "execution_count": null,
   "id": "270ec0c7",
   "metadata": {},
   "outputs": [],
   "source": [
    "# not implemented"
   ]
  },
  {
   "cell_type": "markdown",
   "id": "a9ab9c7d",
   "metadata": {},
   "source": [
    "## Ejercicio 3 - Comparar los ejercicios anteriores con lo visto en las clases"
   ]
  },
  {
   "cell_type": "code",
   "execution_count": null,
   "id": "1725f42c",
   "metadata": {},
   "outputs": [],
   "source": [
    "# not implemented"
   ]
  },
  {
   "cell_type": "markdown",
   "id": "69213610",
   "metadata": {},
   "source": [
    "## Ejercicio 4 - PCA + KMeans\n",
    "\n",
    "**Dataset**: MNIST\n",
    "\n",
    "Con las implementaciones de sklearn, tomar las componentes principales que capturen el 90% de la varianza y aplicar kmeans para agrupar los dígitos. "
   ]
  },
  {
   "cell_type": "code",
   "execution_count": null,
   "id": "37b3f66e",
   "metadata": {},
   "outputs": [],
   "source": []
  }
 ],
 "metadata": {
  "kernelspec": {
   "display_name": "Python 3 (ipykernel)",
   "language": "python",
   "name": "python3"
  },
  "language_info": {
   "codemirror_mode": {
    "name": "ipython",
    "version": 3
   },
   "file_extension": ".py",
   "mimetype": "text/x-python",
   "name": "python",
   "nbconvert_exporter": "python",
   "pygments_lexer": "ipython3",
   "version": "3.8.10"
  }
 },
 "nbformat": 4,
 "nbformat_minor": 5
}
