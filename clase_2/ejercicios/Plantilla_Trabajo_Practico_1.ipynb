{
 "cells": [
  {
   "cell_type": "markdown",
   "id": "8bddde07",
   "metadata": {},
   "source": [
    "# Trabajo práctico 1 \n",
    "\n"
   ]
  },
  {
   "cell_type": "markdown",
   "id": "a4ddf903",
   "metadata": {},
   "source": [
    "**Human activity recognition**\n",
    "\n",
    "https://archive.ics.uci.edu/ml/datasets/Human+Activity+Recognition+Using+Smartphones\n",
    "\n",
    "https://github.com/FIUBA-Posgrado-Inteligencia-Artificial/intro_ia/tree/cohorte-6/clase_2/jupyterbooks/data\n",
    "\n",
    "**MNIST**\n",
    "\n",
    "    from sklearn.datasets import fetch_openml\n",
    "    X, y = fetch_openml(\"mnist_784\", version=1, return_X_y=True, as_frame=False)\n",
    "\n",
    "\n",
    "Deben maximizarse la cantidad de operaciones vectorizadas en las implementaciones.\n"
   ]
  },
  {
   "cell_type": "markdown",
   "id": "f07915d5",
   "metadata": {},
   "source": [
    "## Ejercicio 1 - Implementar clase PCA con numpy\n",
    "**Dataset** Human activity recognition\n",
    "\n",
    "Tomar las primeras 63 componentes principales y calcular la varianza contemplada. Realizar las operaciones internas con numpy.linalg. "
   ]
  },
  {
   "cell_type": "code",
   "execution_count": null,
   "id": "dba8dda1",
   "metadata": {},
   "outputs": [],
   "source": [
    "## not implemented"
   ]
  },
  {
   "cell_type": "markdown",
   "id": "2de2733a",
   "metadata": {},
   "source": [
    "## Ejercicio 2 - Implementar clase KMeans con numpy\n",
    "**Dataset** Human activity recognition\n",
    "\n",
    "Implementar kmeans con numpy. Agrupar el dataset transformado (ejercicio de PCA) y agrupar en clusters de k=2 y 6. Graficar los casos de k=2 y k=6 con las primeras dos componentes principales."
   ]
  },
  {
   "cell_type": "code",
   "execution_count": null,
   "id": "4180a5e5",
   "metadata": {},
   "outputs": [],
   "source": [
    "# not implemented"
   ]
  },
  {
   "cell_type": "markdown",
   "id": "fe48063a",
   "metadata": {},
   "source": [
    "## Ejercicio 3 - Comparar los ejercicios anteriores con lo visto en las clases"
   ]
  },
  {
   "cell_type": "code",
   "execution_count": null,
   "id": "e4e8fa89",
   "metadata": {},
   "outputs": [],
   "source": [
    "# not implemented"
   ]
  },
  {
   "cell_type": "markdown",
   "id": "c6b83908",
   "metadata": {},
   "source": [
    "## Ejercicio 4 - PCA + KMeans\n",
    "\n",
    "**Dataset**: MNIST\n",
    "\n",
    "Con las implementaciones de sklearn, tomar las componentes principales que capturen el 90% de la varianza y aplicar kmeans para agrupar los dígitos en 10 clusters. Analizar los resultados. "
   ]
  },
  {
   "cell_type": "code",
   "execution_count": null,
   "id": "69e7f8cc",
   "metadata": {},
   "outputs": [],
   "source": []
  }
 ],
 "metadata": {
  "kernelspec": {
   "display_name": "Python 3 (ipykernel)",
   "language": "python",
   "name": "python3"
  },
  "language_info": {
   "codemirror_mode": {
    "name": "ipython",
    "version": 3
   },
   "file_extension": ".py",
   "mimetype": "text/x-python",
   "name": "python",
   "nbconvert_exporter": "python",
   "pygments_lexer": "ipython3",
   "version": "3.8.10"
  }
 },
 "nbformat": 4,
 "nbformat_minor": 5
}
