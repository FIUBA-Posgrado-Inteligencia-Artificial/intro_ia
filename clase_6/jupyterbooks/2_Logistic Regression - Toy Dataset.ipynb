{
 "cells": [
  {
   "cell_type": "markdown",
   "metadata": {},
   "source": [
    "# Logistic Regression"
   ]
  },
  {
   "cell_type": "markdown",
   "metadata": {},
   "source": [
    "En éste notebook vamos a ver la implementación en NumPy del modelo de regresión logística mediante gradient descent, usando los resultados obtenidos de la teoría. Por último, se computarán las métricas para medir el rendimiento del modelo."
   ]
  },
  {
   "cell_type": "markdown",
   "metadata": {},
   "source": [
    "## Cargamos las Librerías"
   ]
  },
  {
   "cell_type": "code",
   "execution_count": 1,
   "metadata": {},
   "outputs": [],
   "source": [
    "import numpy as np\n",
    "import pandas as pd\n",
    "import time\n",
    "import matplotlib.pyplot as plt"
   ]
  },
  {
   "cell_type": "code",
   "execution_count": 2,
   "metadata": {},
   "outputs": [],
   "source": [
    "import sys  \n",
    "sys.path.insert(0, '../../clase_3/ejercicios/src')"
   ]
  },
  {
   "cell_type": "markdown",
   "metadata": {},
   "source": [
    "## Cargamos el Dataset"
   ]
  },
  {
   "cell_type": "code",
   "execution_count": 4,
   "metadata": {},
   "outputs": [],
   "source": [
    "class Data(object):\n",
    "\n",
    "    def __init__(self, path):\n",
    "        self.dataset = self._build_dataset(path)\n",
    "\n",
    "    def _build_dataset(self, path):\n",
    "        structure = [('x_1', float),\n",
    "                     ('x_2', float),\n",
    "                     ('y', float)]\n",
    "\n",
    "        with open(path, encoding=\"utf8\") as data_csv:\n",
    "            data_gen = ((float(line.split(',')[0]), float(line.split(',')[1]), float(line.split(',')[2]))\n",
    "                        for i, line in enumerate(data_csv) if i != 0)\n",
    "            embeddings = np.fromiter(data_gen, structure)\n",
    "\n",
    "        return embeddings\n",
    "\n",
    "    def split(self, percentage):\n",
    "        X = np.array([self.dataset['x_1'], self.dataset['x_2']]).T\n",
    "        y = self.dataset['y']\n",
    "\n",
    "        permuted_idxs = np.random.permutation(X.shape[0])\n",
    "\n",
    "        train_idxs = permuted_idxs[0:int(percentage * X.shape[0])]\n",
    "\n",
    "        test_idxs = permuted_idxs[int(percentage * X.shape[0]): X.shape[0]]\n",
    "\n",
    "        X_train = X[train_idxs]\n",
    "        X_test = X[test_idxs]\n",
    "\n",
    "        y_train = y[train_idxs]\n",
    "        y_test = y[test_idxs]\n",
    "\n",
    "        return X_train, X_test, y_train, y_test"
   ]
  },
  {
   "cell_type": "code",
   "execution_count": 5,
   "metadata": {},
   "outputs": [
    {
     "name": "stdout",
     "output_type": "stream",
     "text": [
      "Formato del dataset: (79, 2)\n"
     ]
    }
   ],
   "source": [
    "dataset = Data('data/clase_6_dataset.txt')\n",
    "X_train, X_test, y_train, y_test = dataset.split(0.8)\n",
    "\n",
    "print('Formato del dataset: {}'.format(X_train.shape))"
   ]
  },
  {
   "cell_type": "code",
   "execution_count": 6,
   "metadata": {},
   "outputs": [
    {
     "data": {
      "text/plain": [
       "(20, 2)"
      ]
     },
     "execution_count": 6,
     "metadata": {},
     "output_type": "execute_result"
    }
   ],
   "source": [
    "X_test.shape"
   ]
  },
  {
   "cell_type": "code",
   "execution_count": 7,
   "metadata": {},
   "outputs": [
    {
     "name": "stdout",
     "output_type": "stream",
     "text": [
      "[[44.66826172 66.45008615]\n",
      " [35.28611282 47.02051395]\n",
      " [50.28649612 49.80453881]\n",
      " [58.84095622 75.85844831]\n",
      " [47.26426911 88.475865  ]\n",
      " [66.74671857 60.99139403]\n",
      " [61.10666454 96.51142588]\n",
      " [30.28671077 43.89499752]\n",
      " [56.2538175  39.26147251]\n",
      " [53.97105215 89.20735014]]\n"
     ]
    }
   ],
   "source": [
    "print(X_test[:10, :])"
   ]
  },
  {
   "cell_type": "code",
   "execution_count": 8,
   "metadata": {},
   "outputs": [
    {
     "data": {
      "image/png": "[encoded data removed]",
      "text/plain": [
       "<Figure size 432x288 with 1 Axes>"
      ]
     },
     "metadata": {
      "needs_background": "light"
     },
     "output_type": "display_data"
    }
   ],
   "source": [
    "# Observamos los datos\n",
    "plt.scatter(X_train[:, 0], X_train[:, 1], c=y_train)\n",
    "plt.xlabel('X1')\n",
    "plt.ylabel('X2')\n",
    "plt.show()"
   ]
  },
  {
   "cell_type": "code",
   "execution_count": 18,
   "metadata": {},
   "outputs": [],
   "source": [
    "# escalamos los datos de entrada.Es importante para evitar poblemas numéricos como overflow.\n",
    "from sklearn.preprocessing import StandardScaler\n",
    "\n",
    "scaler = StandardScaler()\n",
    "X_train = scaler.fit_transform(X_train)\n",
    "X_test = scaler.transform(X_test)"
   ]
  },
  {
   "cell_type": "code",
   "execution_count": 19,
   "metadata": {},
   "outputs": [
    {
     "data": {
      "text/plain": [
       "array([[-0.55126918, -1.69051254],\n",
       "       [-1.71942306, -1.25995933],\n",
       "       [ 0.45178089, -1.07926482],\n",
       "       [ 1.69851213,  0.15740951],\n",
       "       [-1.33375354,  0.29054893]])"
      ]
     },
     "execution_count": 19,
     "metadata": {},
     "output_type": "execute_result"
    }
   ],
   "source": [
    "X_train[:5, :]"
   ]
  },
  {
   "cell_type": "code",
   "execution_count": 11,
   "metadata": {},
   "outputs": [
    {
     "data": {
      "text/plain": [
       "array([[-1.10630747,  0.02799965],\n",
       "       [-1.5878592 , -1.05330295],\n",
       "       [-0.81794385, -0.89836524],\n",
       "       [-0.3788744 ,  0.55159772],\n",
       "       [-0.97306382,  1.25378742]])"
      ]
     },
     "execution_count": 11,
     "metadata": {},
     "output_type": "execute_result"
    }
   ],
   "source": [
    "X_test[:5, :]"
   ]
  },
  {
   "cell_type": "markdown",
   "metadata": {},
   "source": [
    "## Regresión Logística"
   ]
  },
  {
   "cell_type": "markdown",
   "metadata": {},
   "source": [
    "## Implementación de Building Blocks del Modelo"
   ]
  },
  {
   "cell_type": "markdown",
   "metadata": {},
   "source": [
    "A continuación, se deberán implementar paso a paso los distintos bloques de código que conforman el modelo, junto con algunas funciones auxiliares."
   ]
  },
  {
   "cell_type": "markdown",
   "metadata": {},
   "source": [
    "### Función Sigmoid"
   ]
  },
  {
   "cell_type": "markdown",
   "metadata": {},
   "source": [
    "Implementar la función: $g(z) = \\frac{1}{1 + e^{-z}}$ en NumPy"
   ]
  },
  {
   "cell_type": "code",
   "execution_count": null,
   "metadata": {},
   "outputs": [],
   "source": [
    "# TODO"
   ]
  },
  {
   "cell_type": "markdown",
   "metadata": {},
   "source": [
    "### Binary Cross Entropy"
   ]
  },
  {
   "cell_type": "markdown",
   "metadata": {},
   "source": [
    "Implementar la función de costo: $J(w) = \\frac{1}{n}\\sum_{i=1}^{n}L\\left ( \\hat{y},y \\right )= \\frac{1}{n}\\sum_{i=1}^{n}\\left [y^{(i)}log(\\hat{y}^{(i)})+ (1-y^{(i)})log(1-\\hat{y}^{(i)}) \\right ]$"
   ]
  },
  {
   "cell_type": "code",
   "execution_count": null,
   "metadata": {},
   "outputs": [],
   "source": [
    "# TODO"
   ]
  },
  {
   "cell_type": "markdown",
   "metadata": {},
   "source": [
    "### Gradiente"
   ]
  },
  {
   "cell_type": "markdown",
   "metadata": {},
   "source": [
    "Implementar el gradiente de la función costo respecto de los parámetros: $\\frac{\\partial J(w)}{\\partial w} = \\frac{1}{n}\\sum_{i=1}^{n}\\left ( \\hat{y}^{i}-y^{i}\\right )\\bar{x}^i$"
   ]
  },
  {
   "cell_type": "code",
   "execution_count": null,
   "metadata": {},
   "outputs": [],
   "source": [
    "# prediccion\n",
    "\n",
    "# error\n",
    "\n",
    "# suma de gradiente\n",
    "\n",
    "# promedio\n",
    "\n",
    "# transponer (depende de su implementación)\n",
    "\n",
    "# ¿todo junto?\n",
    "\n"
   ]
  },
  {
   "cell_type": "markdown",
   "metadata": {},
   "source": [
    "### Implementar función fit"
   ]
  },
  {
   "cell_type": "markdown",
   "metadata": {},
   "source": [
    "Utilizas los bloques anteriores, junto con la implementación en NumPy del algoritmo Mini-Batch gradient descent, para crear la función fit de nuestro modelo de regresión logística. Cada un determinado número de epochs calculen el loss, almacénenlo en una lista y hagan un log de los valores. La función debe devolver los parámetros ajustados."
   ]
  },
  {
   "cell_type": "code",
   "execution_count": null,
   "metadata": {},
   "outputs": [],
   "source": [
    "# TODO\n",
    "def fit(self, X, y, lr, b, epochs, bias=True):\n",
    "    # si decidimos utilizar bias, agregamos como siempre una columna con '1' al dataset de entrada\n",
    "    if bias:\n",
    "        X = np.hstack((np.ones((X.shape[0], 1)), X))\n",
    "\n",
    "    # inicializamos aleatoriamente los pesos\n",
    "\n",
    "    \n",
    "    loss_list = []\n",
    "\n",
    "    # corremos Mini-Batch para optimizar los parámetros\n",
    "    for j in #...:\n",
    "        idx = np.random.permutation(X.shape[0])\n",
    "        X_train = X[idx]\n",
    "        y_train = y[idx]\n",
    "\n",
    "        for i in range(0, len(X_train), batch_size):\n",
    "            # Seleccionar los elementos del batch actual\n",
    "            end = #notimplemented\n",
    "            batch_X = X_train[i: end]\n",
    "            batch_y = y_train[i: end]\n",
    "\n",
    "            # cálculo de predicciones\n",
    "            prediction = #...\n",
    "            # cálculo del error\n",
    "            error = prediction.reshape(-1, 1) - batch_y.reshape(-1, 1)\n",
    "            # cálculo del grandiente\n",
    "            grad_sum = np.sum(error * batch_X, axis=0)\n",
    "            grad_mul = 1 / batch_size * grad_sum\n",
    "            gradient = np.transpose(grad_mul).reshape(-1, 1)\n",
    "            #actualizar pesos\n",
    "            W = #...\n",
    "    self.model = W\n",
    "    return NotImplemented"
   ]
  },
  {
   "cell_type": "markdown",
   "metadata": {},
   "source": [
    "## Implementación completa"
   ]
  },
  {
   "cell_type": "code",
   "execution_count": 20,
   "metadata": {},
   "outputs": [],
   "source": [
    "class LogisticRegression():\n",
    "    \n",
    "    # definimos la función sigmoid para entrenamiento y las predicciones\n",
    "    def sigmoid(self,x):\n",
    "            return 1 / (1 + np.exp(-x))\n",
    "\n",
    "    # definimos la función loss para reportarla cada cierta cantidad de epochs\n",
    "    def loss(self, y, y_hat):\n",
    "        loss = np.mean(-y*(np.log(y_hat)) - (1-y)*np.log(1-y_hat))\n",
    "        return loss \n",
    "\n",
    "    def fit(self, X, y, lr, b, epochs, bias=True, log=100, verbose=True):\n",
    "\n",
    "        # si decidimos utilizar bias, agregamos como siempre una columna con '1' al dataset de entrada\n",
    "        if bias:\n",
    "            X = np.hstack((np.ones((X.shape[0], 1)), X))\n",
    "\n",
    "        # inicializamos aleatoriamente los pesos\n",
    "        m = X.shape[1]\n",
    "        W = np.random.randn(m).reshape(m, 1)\n",
    "\n",
    "        loss_list = []\n",
    "        \n",
    "        # corremos Mini-Batch para optimizar los parámetros\n",
    "        for j in range(epochs):\n",
    "            idx = np.random.permutation(X.shape[0])\n",
    "            X_train = X[idx]\n",
    "            y_train = y[idx]\n",
    "            batch_size = int(len(X_train) / b)\n",
    "\n",
    "            for i in range(0, len(X_train), batch_size):\n",
    "                end = i + batch_size if i + batch_size <= len(X_train) else len(X_train)\n",
    "                batch_X = X_train[i: end]\n",
    "                batch_y = y_train[i: end]\n",
    "\n",
    "                prediction = self.sigmoid(np.sum(np.transpose(W) * batch_X, axis=1))\n",
    "                error = prediction.reshape(-1, 1) - batch_y.reshape(-1, 1)\n",
    "                grad_sum = np.sum(error * batch_X, axis=0)\n",
    "                grad_mul = 1 / batch_size * grad_sum\n",
    "                gradient = np.transpose(grad_mul).reshape(-1, 1)\n",
    "\n",
    "                W = W - (lr * gradient)\n",
    "            \n",
    "            l_epoch = self.loss(y_train, self.sigmoid(np.dot(X_train, W)))\n",
    "            loss_list.append(l_epoch)\n",
    "            if verbose:\n",
    "                if j%log==0:\n",
    "                    print(\"Epoch: {}, Loss: {}\".format(j, l_epoch))\n",
    "                \n",
    "        self.model = W\n",
    "        self.losses = loss_list\n",
    "\n",
    "    def predict(self, X):\n",
    "        X = np.hstack((np.ones((X.shape[0], 1)), X))\n",
    "        p = self.sigmoid(X @ self.model)\n",
    "        mask_true = p >= 0.5\n",
    "        mask_false = p < 0.5\n",
    "        p[mask_true] = 1\n",
    "        p[mask_false] = 0\n",
    "        return p"
   ]
  },
  {
   "cell_type": "code",
   "execution_count": 21,
   "metadata": {},
   "outputs": [
    {
     "name": "stdout",
     "output_type": "stream",
     "text": [
      "Epoch: 0, Loss: 1.2558737377875382\n",
      "Epoch: 5, Loss: 0.9514067163546517\n",
      "Epoch: 10, Loss: 0.7373404328105767\n",
      "Epoch: 15, Loss: 0.600165647259541\n",
      "Epoch: 20, Loss: 0.5136075004009973\n",
      "Epoch: 25, Loss: 0.45695647143150386\n",
      "Epoch: 30, Loss: 0.417944041597724\n",
      "Epoch: 35, Loss: 0.38979395190017635\n",
      "Epoch: 40, Loss: 0.36858478143737905\n",
      "Epoch: 45, Loss: 0.35202000875336514\n",
      "Epoch: 50, Loss: 0.338703725144511\n",
      "Epoch: 55, Loss: 0.3277544962709031\n",
      "Epoch: 60, Loss: 0.31857488222362146\n",
      "Epoch: 65, Loss: 0.31074576481069077\n",
      "Epoch: 70, Loss: 0.303976937096524\n",
      "Epoch: 75, Loss: 0.2980545591713865\n",
      "Epoch: 80, Loss: 0.29282497394603385\n",
      "Epoch: 85, Loss: 0.2881666870427923\n",
      "Epoch: 90, Loss: 0.28398404918078163\n",
      "Epoch: 95, Loss: 0.28020583824449435\n",
      "Epoch: 100, Loss: 0.27677275329795387\n",
      "Epoch: 105, Loss: 0.2736406068214991\n",
      "Epoch: 110, Loss: 0.27076879707506785\n",
      "Epoch: 115, Loss: 0.2681239684115235\n",
      "Epoch: 120, Loss: 0.26568092545943667\n",
      "Epoch: 125, Loss: 0.2634170837254844\n",
      "Epoch: 130, Loss: 0.2613128402184493\n",
      "Epoch: 135, Loss: 0.2593524389797592\n",
      "Epoch: 140, Loss: 0.2575193653748726\n",
      "Epoch: 145, Loss: 0.2558022170211239\n",
      "Epoch: 150, Loss: 0.25419041467378267\n",
      "Epoch: 155, Loss: 0.25267422834916536\n",
      "Epoch: 160, Loss: 0.251245631141243\n",
      "Epoch: 165, Loss: 0.24989690218407928\n",
      "Epoch: 170, Loss: 0.2486223574923396\n",
      "Epoch: 175, Loss: 0.24741567771388004\n",
      "Epoch: 180, Loss: 0.2462717174688492\n",
      "Epoch: 185, Loss: 0.24518529551992507\n",
      "Epoch: 190, Loss: 0.24415330679348282\n",
      "Epoch: 195, Loss: 0.2431705417620493\n",
      "Epoch: 200, Loss: 0.2422341793477861\n",
      "Epoch: 205, Loss: 0.24134139511208272\n",
      "Epoch: 210, Loss: 0.24048885504035208\n",
      "Epoch: 215, Loss: 0.23967397896433607\n",
      "Epoch: 220, Loss: 0.23889440447903906\n",
      "Epoch: 225, Loss: 0.23814815979652063\n",
      "Epoch: 230, Loss: 0.2374336227203123\n",
      "Epoch: 235, Loss: 0.23674837873670104\n",
      "Epoch: 240, Loss: 0.23609077028584974\n",
      "Epoch: 245, Loss: 0.2354590900970797\n",
      "Epoch: 250, Loss: 0.23485267834003018\n",
      "Epoch: 255, Loss: 0.23426881040274458\n",
      "Epoch: 260, Loss: 0.23370739241143001\n",
      "Epoch: 265, Loss: 0.23316675417296062\n",
      "Epoch: 270, Loss: 0.23264593641857106\n",
      "Epoch: 275, Loss: 0.2321436214269448\n",
      "Epoch: 280, Loss: 0.23165958051219168\n",
      "Epoch: 285, Loss: 0.23119245613662492\n",
      "Epoch: 290, Loss: 0.23074155400555868\n",
      "Epoch: 295, Loss: 0.23030589276153238\n",
      "Epoch: 300, Loss: 0.22988500126500747\n",
      "Epoch: 305, Loss: 0.22947828710545248\n",
      "Epoch: 310, Loss: 0.2290847682382809\n",
      "Epoch: 315, Loss: 0.22870405625750354\n",
      "Epoch: 320, Loss: 0.22833574759685876\n",
      "Epoch: 325, Loss: 0.22797866528483077\n",
      "Epoch: 330, Loss: 0.2276328687350119\n",
      "Epoch: 335, Loss: 0.22729788822548433\n",
      "Epoch: 340, Loss: 0.22697291468225897\n",
      "Epoch: 345, Loss: 0.22665797909005791\n",
      "Epoch: 350, Loss: 0.226352328392866\n",
      "Epoch: 355, Loss: 0.22605588385009254\n",
      "Epoch: 360, Loss: 0.22576812172042857\n",
      "Epoch: 365, Loss: 0.22548871358076233\n",
      "Epoch: 370, Loss: 0.22521722435184025\n",
      "Epoch: 375, Loss: 0.22495366237148862\n",
      "Epoch: 380, Loss: 0.2246972050648241\n",
      "Epoch: 385, Loss: 0.22444793067167507\n",
      "Epoch: 390, Loss: 0.22420566494439678\n",
      "Epoch: 395, Loss: 0.22397001769457217\n",
      "Epoch: 400, Loss: 0.22374064530400176\n",
      "Epoch: 405, Loss: 0.22351755783915825\n",
      "Epoch: 410, Loss: 0.223300466249625\n",
      "Epoch: 415, Loss: 0.22308878089800757\n",
      "Epoch: 420, Loss: 0.22288294679017012\n",
      "Epoch: 425, Loss: 0.22268239166570347\n",
      "Epoch: 430, Loss: 0.22248698806606945\n",
      "Epoch: 435, Loss: 0.22229660972678594\n",
      "Epoch: 440, Loss: 0.22211098905633567\n",
      "Epoch: 445, Loss: 0.22193005451119152\n",
      "Epoch: 450, Loss: 0.2217535190545789\n",
      "Epoch: 455, Loss: 0.2215814870304237\n",
      "Epoch: 460, Loss: 0.2214137542194124\n",
      "Epoch: 465, Loss: 0.2212500767091561\n",
      "Epoch: 470, Loss: 0.22109039403252023\n",
      "Epoch: 475, Loss: 0.22093448370522648\n",
      "Epoch: 480, Loss: 0.22078231205116033\n",
      "Epoch: 485, Loss: 0.22063378959635352\n",
      "Epoch: 490, Loss: 0.22048858200880508\n",
      "Epoch: 495, Loss: 0.22034695289266137\n",
      "Epoch: 500, Loss: 0.22020854543764157\n",
      "Epoch: 505, Loss: 0.22007333833077772\n",
      "Epoch: 510, Loss: 0.21994123428488715\n",
      "Epoch: 515, Loss: 0.2198120490195895\n",
      "Epoch: 520, Loss: 0.2196858325790918\n",
      "Epoch: 525, Loss: 0.21956235091194143\n",
      "Epoch: 530, Loss: 0.21944184210325612\n",
      "Epoch: 535, Loss: 0.2193239481462104\n",
      "Epoch: 540, Loss: 0.21920857649724418\n",
      "Epoch: 545, Loss: 0.21909578673373153\n",
      "Epoch: 550, Loss: 0.2189855233648543\n",
      "Epoch: 555, Loss: 0.21887755816292442\n",
      "Epoch: 560, Loss: 0.2187719292276218\n",
      "Epoch: 565, Loss: 0.21866859485109805\n",
      "Epoch: 570, Loss: 0.21856747479280766\n",
      "Epoch: 575, Loss: 0.2184685004168619\n",
      "Epoch: 580, Loss: 0.21837167307320748\n",
      "Epoch: 585, Loss: 0.21827690129575789\n",
      "Epoch: 590, Loss: 0.2181841163260234\n",
      "Epoch: 595, Loss: 0.218093218058507\n",
      "Epoch: 600, Loss: 0.21800420061042688\n",
      "Epoch: 605, Loss: 0.21791703883354813\n",
      "Epoch: 610, Loss: 0.21783165008894853\n",
      "Epoch: 615, Loss: 0.2177479000659978\n",
      "Epoch: 620, Loss: 0.21766588772960843\n",
      "Epoch: 625, Loss: 0.217585528825782\n",
      "Epoch: 630, Loss: 0.21750677367832888\n",
      "Epoch: 635, Loss: 0.21742958298966955\n",
      "Epoch: 640, Loss: 0.2173539860934027\n",
      "Epoch: 645, Loss: 0.21727982858108733\n",
      "Epoch: 650, Loss: 0.21720721697113213\n",
      "Epoch: 655, Loss: 0.2171360156698562\n",
      "Epoch: 660, Loss: 0.2170661544610573\n",
      "Epoch: 665, Loss: 0.21699771701052795\n",
      "Epoch: 670, Loss: 0.21693055536045053\n",
      "Epoch: 675, Loss: 0.21686467539911278\n",
      "Epoch: 680, Loss: 0.2168000799985512\n",
      "Epoch: 685, Loss: 0.21673669399749135\n",
      "Epoch: 690, Loss: 0.21667456631782864\n",
      "Epoch: 695, Loss: 0.21661361703679272\n",
      "Epoch: 700, Loss: 0.2165538075459757\n",
      "Epoch: 705, Loss: 0.2164950063819628\n",
      "Epoch: 710, Loss: 0.21643731099533867\n",
      "Epoch: 715, Loss: 0.21638074391204268\n",
      "Epoch: 720, Loss: 0.216325258707266\n",
      "Epoch: 725, Loss: 0.21627081996608985\n",
      "Epoch: 730, Loss: 0.2162173605989085\n",
      "Epoch: 735, Loss: 0.21616485590949294\n",
      "Epoch: 740, Loss: 0.2161133092388247\n",
      "Epoch: 745, Loss: 0.2160627043769237\n",
      "Epoch: 750, Loss: 0.21601304826457596\n",
      "Epoch: 755, Loss: 0.21596425019920093\n",
      "Epoch: 760, Loss: 0.21591635589147193\n",
      "Epoch: 765, Loss: 0.21586930736344065\n",
      "Epoch: 770, Loss: 0.2158230584382805\n",
      "Epoch: 775, Loss: 0.21577769515057674\n",
      "Epoch: 780, Loss: 0.21573313700755362\n",
      "Epoch: 785, Loss: 0.21568932190844323\n",
      "Epoch: 790, Loss: 0.21564634870767033\n",
      "Epoch: 795, Loss: 0.21560415330385366\n",
      "Epoch: 800, Loss: 0.21556264397488759\n",
      "Epoch: 805, Loss: 0.2155218606934471\n",
      "Epoch: 810, Loss: 0.2154818166901566\n",
      "Epoch: 815, Loss: 0.2154424515764429\n",
      "Epoch: 820, Loss: 0.2154037675800154\n",
      "Epoch: 825, Loss: 0.21536572132704468\n",
      "Epoch: 830, Loss: 0.21532842744032046\n",
      "Epoch: 835, Loss: 0.21529166504244307\n",
      "Epoch: 840, Loss: 0.2152555945054876\n",
      "Epoch: 845, Loss: 0.21522016316194909\n",
      "Epoch: 850, Loss: 0.2151852787337472\n",
      "Epoch: 855, Loss: 0.21515097171232594\n",
      "Epoch: 860, Loss: 0.21511720482896954\n",
      "Epoch: 865, Loss: 0.21508413554791464\n",
      "Epoch: 870, Loss: 0.21505153752406928\n",
      "Epoch: 875, Loss: 0.21501945172383272\n",
      "Epoch: 880, Loss: 0.21498794032802804\n",
      "Epoch: 885, Loss: 0.21495692667660596\n",
      "Epoch: 890, Loss: 0.21492648481610227\n",
      "Epoch: 895, Loss: 0.2148965292237378\n",
      "Epoch: 900, Loss: 0.21486707115328346\n",
      "Epoch: 905, Loss: 0.2148380657963437\n",
      "Epoch: 910, Loss: 0.2148095627945042\n",
      "Epoch: 915, Loss: 0.2147814924580989\n",
      "Epoch: 920, Loss: 0.2147539063061749\n",
      "Epoch: 925, Loss: 0.2147268218582252\n",
      "Epoch: 930, Loss: 0.2147001151211196\n",
      "Epoch: 935, Loss: 0.2146738874371428\n",
      "Epoch: 940, Loss: 0.21464808741762026\n",
      "Epoch: 945, Loss: 0.21462265627358137\n",
      "Epoch: 950, Loss: 0.21459762890693204\n",
      "Epoch: 955, Loss: 0.21457302530831035\n",
      "Epoch: 960, Loss: 0.21454884787234232\n",
      "Epoch: 965, Loss: 0.21452504919170984\n",
      "Epoch: 970, Loss: 0.21450160367052024\n",
      "Epoch: 975, Loss: 0.21447852136150405\n",
      "Epoch: 980, Loss: 0.21445582074531785\n",
      "Epoch: 985, Loss: 0.21443348349368546\n",
      "Epoch: 990, Loss: 0.21441149828349385\n",
      "Epoch: 995, Loss: 0.2143897974174498\n",
      "[[1.55225575]\n",
      " [3.61098985]\n",
      " [3.0756303 ]]\n"
     ]
    }
   ],
   "source": [
    "# Seleccionar hiperparámetros\n",
    "lr = 0.01\n",
    "b = 16\n",
    "epochs = 1000\n",
    "bias = True\n",
    "\n",
    "# Hacer el fit del modelo con los HPs seleccionados\n",
    "logistic_regression = LogisticRegression()\n",
    "logistic_regression.fit(X_train, y_train.reshape(-1, 1), lr, b, epochs, bias, log=5)\n",
    "print(logistic_regression.model)\n",
    "predictions = logistic_regression.predict(X_test)"
   ]
  },
  {
   "cell_type": "markdown",
   "metadata": {},
   "source": [
    "### Decision Boundary"
   ]
  },
  {
   "cell_type": "markdown",
   "metadata": {},
   "source": [
    "En los casos donde tengamos dos o tres features en el dataset, podemos graficar la línea de decisión (plano para 3 features) que aplica el modelo para clasificar las muestras bajo una u otra clase. La derivación surge de la fórmula lineal que se utiliza en la sigmoid:"
   ]
  },
  {
   "cell_type": "markdown",
   "metadata": {},
   "source": [
    "$\\hat{y}\\geq 0.5 \\to 1$ \n",
    "\n",
    "$\\hat{y}<0.5 \\to 0$\n",
    "\n",
    "Teniendo en cuenta la función sigmoid:\n",
    "\n",
    "$\\hat{y}\\geq 0.5 \\Leftrightarrow w^{T}x + b \\geq 0$\n",
    "\n",
    "Por lo que la decision boundary es:\n",
    "\n",
    "$w^{T}x + b \\geq 0$\n",
    "\n",
    "\n",
    "Igualando a la ecuación de una recta en 2D, donde la abcisa es $X_1$ y la ordenada $X_2$:\n",
    "\n",
    "$w_1x_1 + w_2x_2 + w_0 = mx_1 + c$\n",
    "\n",
    "$w_1x_1 + w_2x_2 + w_0 = 0 $\n",
    "\n",
    "$w_1x_1 + w_2mx_1+w_2c + w_0 = 0$\n",
    "\n",
    "$x_1 = 0 \\to w_2c + w_0 = 0$ \n",
    "\n",
    "$c = -w_0/w_2$\n",
    "\n",
    "Reemplazando $c$:\n",
    "\n",
    "$w_1x_1 + w_2mx_1 = 0$\n",
    "\n",
    "$w_1x_1 = -w_2mx_1$\n",
    "\n",
    "$m = -w_1/w_2$"
   ]
  },
  {
   "cell_type": "code",
   "execution_count": 22,
   "metadata": {},
   "outputs": [],
   "source": [
    "# Calculamos el slope e intercept para graficar\n",
    "slope = -(logistic_regression.model[1] / logistic_regression.model[2])\n",
    "intercept = -(logistic_regression.model[0] / logistic_regression.model[2])"
   ]
  },
  {
   "cell_type": "code",
   "execution_count": 23,
   "metadata": {},
   "outputs": [
    {
     "data": {
      "image/png": "[encoded data removed]",
      "text/plain": [
       "<Figure size 1080x1080 with 2 Axes>"
      ]
     },
     "metadata": {
      "needs_background": "light"
     },
     "output_type": "display_data"
    }
   ],
   "source": [
    "# Graficos\n",
    "f, (ax, bx) = plt.subplots(2, 1, sharey='col', figsize=(15, 15))\n",
    "\n",
    "ax.scatter(X_test[:, 0], X_test[:, 1], c=y_test)\n",
    "ax.set_title('Valores reales')\n",
    "\n",
    "bx.scatter(X_test[:, 0], X_test[:, 1], c=predictions[:, 0])\n",
    "y_vals = intercept + (slope * X_test[:, 0])\n",
    "bx.plot(X_test[:, 0], y_vals, c=\"k\")\n",
    "bx.set_title('Predicciones')\n",
    "\n",
    "plt.show()"
   ]
  },
  {
   "cell_type": "markdown",
   "metadata": {},
   "source": [
    "### Calculamos las métricas"
   ]
  },
  {
   "cell_type": "code",
   "execution_count": 26,
   "metadata": {},
   "outputs": [
    {
     "data": {
      "text/plain": [
       "(20, 1)"
      ]
     },
     "execution_count": 26,
     "metadata": {},
     "output_type": "execute_result"
    }
   ],
   "source": [
    "predictions.shape"
   ]
  },
  {
   "cell_type": "code",
   "execution_count": 27,
   "metadata": {},
   "outputs": [
    {
     "name": "stdout",
     "output_type": "stream",
     "text": [
      "Accuracy: 0.95\n",
      "Precision: 1.0\n",
      "Recall: 0.9230769230769231\n"
     ]
    }
   ],
   "source": [
    "metrics = [Accuracy(), Precision(), Recall()]\n",
    "results = {}\n",
    "for metric in metrics:\n",
    "    name = metric.__class__.__name__\n",
    "    results[name] = metric(y_test, predictions[:, 0])\n",
    "    print('{metric}: {value}'.format(metric=name, value=results[name]))"
   ]
  },
  {
   "cell_type": "markdown",
   "metadata": {},
   "source": [
    "### K-folds para selección de hiperparámetros"
   ]
  },
  {
   "cell_type": "code",
   "execution_count": 27,
   "metadata": {},
   "outputs": [],
   "source": [
    "from sklearn.metrics import accuracy_score"
   ]
  },
  {
   "cell_type": "code",
   "execution_count": 30,
   "metadata": {},
   "outputs": [],
   "source": [
    "def k_folds(X_train, y_train, lr, b, epochs, bias=True, k=5, verbose=False):\n",
    "    \n",
    "    # Definimos el modelo a emplear\n",
    "    l_regression = LogisticRegression()\n",
    "\n",
    "    # Definimos una métrica\n",
    "\n",
    "    chunk_size = int(len(X_train) / k)\n",
    "    acc_list = []\n",
    "\n",
    "    for i in range(0, len(X_train), chunk_size):\n",
    "        end = i + chunk_size if i + chunk_size <= len(X_train) else len(X_train)\n",
    "        new_X_valid = X_train[i: end]\n",
    "        new_y_valid = y_train[i: end]\n",
    "        new_X_train = np.concatenate([X_train[: i], X_train[end:]])\n",
    "        new_y_train = np.concatenate([y_train[: i], y_train[end:]])\n",
    "\n",
    "        l_regression.fit(new_X_train, new_y_train, lr, b, epochs, bias, verbose=verbose)\n",
    "        prediction = l_regression.predict(new_X_valid)\n",
    "        k_error = accuracy_score(new_y_valid, prediction)\n",
    "        acc_list.append(k_error)\n",
    "        # print(\"Modelo {i} de {k}, Métrica: {error}\".format(i=i/chunk_size, k=k, error=k_error))\n",
    "        \n",
    "    mean_acc = np.mean(acc_list)\n",
    "\n",
    "    return mean_acc"
   ]
  },
  {
   "cell_type": "code",
   "execution_count": 31,
   "metadata": {},
   "outputs": [],
   "source": [
    "# K-Folds para determinación del learning rate\n",
    "\n",
    "lr_list = np.linspace(0.001, 0.01, 10)\n",
    "kfolds_lr = np.zeros(lr_list.shape)\n",
    "\n",
    "for i, lr in enumerate(lr_list):\n",
    "    kfolds_lr[i] = k_folds(X_train, y_train.reshape(-1, 1), lr, 16, 1000)\n",
    "\n",
    "best_lr = lr_list[np.argmax(kfolds_lr)]"
   ]
  },
  {
   "cell_type": "code",
   "execution_count": 32,
   "metadata": {},
   "outputs": [
    {
     "data": {
      "text/plain": [
       "0.006"
      ]
     },
     "execution_count": 32,
     "metadata": {},
     "output_type": "execute_result"
    }
   ],
   "source": [
    "best_lr"
   ]
  },
  {
   "cell_type": "code",
   "execution_count": 33,
   "metadata": {},
   "outputs": [],
   "source": [
    "colname = ['learning_rate', 'kfolds_mean']\n",
    "lr_df = pd.DataFrame(np.column_stack([lr_list, kfolds_lr]),columns=colname)"
   ]
  },
  {
   "cell_type": "code",
   "execution_count": 34,
   "metadata": {},
   "outputs": [
    {
     "data": {
      "text/html": [
       "<div>\n",
       "<style scoped>\n",
       "    .dataframe tbody tr th:only-of-type {\n",
       "        vertical-align: middle;\n",
       "    }\n",
       "\n",
       "    .dataframe tbody tr th {\n",
       "        vertical-align: top;\n",
       "    }\n",
       "\n",
       "    .dataframe thead th {\n",
       "        text-align: right;\n",
       "    }\n",
       "</style>\n",
       "<table border=\"1\" class=\"dataframe\">\n",
       "  <thead>\n",
       "    <tr style=\"text-align: right;\">\n",
       "      <th></th>\n",
       "      <th>learning_rate</th>\n",
       "      <th>kfolds_mean</th>\n",
       "    </tr>\n",
       "  </thead>\n",
       "  <tbody>\n",
       "    <tr>\n",
       "      <th>0</th>\n",
       "      <td>0.001</td>\n",
       "      <td>0.855556</td>\n",
       "    </tr>\n",
       "    <tr>\n",
       "      <th>1</th>\n",
       "      <td>0.002</td>\n",
       "      <td>0.877778</td>\n",
       "    </tr>\n",
       "  </tbody>\n",
       "</table>\n",
       "</div>"
      ],
      "text/plain": [
       "   learning_rate  kfolds_mean\n",
       "0          0.001     0.855556\n",
       "1          0.002     0.877778"
      ]
     },
     "execution_count": 34,
     "metadata": {},
     "output_type": "execute_result"
    }
   ],
   "source": [
    "lr_df.head(2)"
   ]
  },
  {
   "cell_type": "code",
   "execution_count": 35,
   "metadata": {},
   "outputs": [
    {
     "data": {
      "text/html": [
       "<div>\n",
       "<style scoped>\n",
       "    .dataframe tbody tr th:only-of-type {\n",
       "        vertical-align: middle;\n",
       "    }\n",
       "\n",
       "    .dataframe tbody tr th {\n",
       "        vertical-align: top;\n",
       "    }\n",
       "\n",
       "    .dataframe thead th {\n",
       "        text-align: right;\n",
       "    }\n",
       "</style>\n",
       "<table border=\"1\" class=\"dataframe\">\n",
       "  <thead>\n",
       "    <tr style=\"text-align: right;\">\n",
       "      <th></th>\n",
       "      <th>learning_rate</th>\n",
       "      <th>kfolds_mean</th>\n",
       "    </tr>\n",
       "  </thead>\n",
       "  <tbody>\n",
       "    <tr>\n",
       "      <th>count</th>\n",
       "      <td>10.000000</td>\n",
       "      <td>10.000000</td>\n",
       "    </tr>\n",
       "    <tr>\n",
       "      <th>mean</th>\n",
       "      <td>0.005500</td>\n",
       "      <td>0.881111</td>\n",
       "    </tr>\n",
       "    <tr>\n",
       "      <th>std</th>\n",
       "      <td>0.003028</td>\n",
       "      <td>0.010541</td>\n",
       "    </tr>\n",
       "    <tr>\n",
       "      <th>min</th>\n",
       "      <td>0.001000</td>\n",
       "      <td>0.855556</td>\n",
       "    </tr>\n",
       "    <tr>\n",
       "      <th>25%</th>\n",
       "      <td>0.003250</td>\n",
       "      <td>0.877778</td>\n",
       "    </tr>\n",
       "    <tr>\n",
       "      <th>50%</th>\n",
       "      <td>0.005500</td>\n",
       "      <td>0.883333</td>\n",
       "    </tr>\n",
       "    <tr>\n",
       "      <th>75%</th>\n",
       "      <td>0.007750</td>\n",
       "      <td>0.888889</td>\n",
       "    </tr>\n",
       "    <tr>\n",
       "      <th>max</th>\n",
       "      <td>0.010000</td>\n",
       "      <td>0.888889</td>\n",
       "    </tr>\n",
       "  </tbody>\n",
       "</table>\n",
       "</div>"
      ],
      "text/plain": [
       "       learning_rate  kfolds_mean\n",
       "count      10.000000    10.000000\n",
       "mean        0.005500     0.881111\n",
       "std         0.003028     0.010541\n",
       "min         0.001000     0.855556\n",
       "25%         0.003250     0.877778\n",
       "50%         0.005500     0.883333\n",
       "75%         0.007750     0.888889\n",
       "max         0.010000     0.888889"
      ]
     },
     "execution_count": 35,
     "metadata": {},
     "output_type": "execute_result"
    }
   ],
   "source": [
    "lr_df.describe()"
   ]
  },
  {
   "cell_type": "code",
   "execution_count": 36,
   "metadata": {},
   "outputs": [],
   "source": [
    "# K-Folds para determinación del batch\n",
    "batch_list = np.linspace(1, 30, 30)\n",
    "kfolds_b = np.zeros(batch_list.shape)\n",
    "\n",
    "for i, b in enumerate(batch_list):\n",
    "    kfolds_b[i] = k_folds(X_train, y_train.reshape(-1, 1), best_lr, b, 1000)\n",
    "\n",
    "best_b = batch_list[np.argmax(kfolds_b)]"
   ]
  },
  {
   "cell_type": "code",
   "execution_count": 37,
   "metadata": {},
   "outputs": [
    {
     "data": {
      "text/plain": [
       "2.0"
      ]
     },
     "execution_count": 37,
     "metadata": {},
     "output_type": "execute_result"
    }
   ],
   "source": [
    "best_b"
   ]
  },
  {
   "cell_type": "code",
   "execution_count": 38,
   "metadata": {},
   "outputs": [],
   "source": [
    "colname = ['batch', 'kfolds_mean']\n",
    "batch_df = pd.DataFrame(np.column_stack([batch_list, kfolds_b]),columns=colname)"
   ]
  },
  {
   "cell_type": "code",
   "execution_count": 39,
   "metadata": {
    "scrolled": true
   },
   "outputs": [
    {
     "data": {
      "text/html": [
       "<div>\n",
       "<style scoped>\n",
       "    .dataframe tbody tr th:only-of-type {\n",
       "        vertical-align: middle;\n",
       "    }\n",
       "\n",
       "    .dataframe tbody tr th {\n",
       "        vertical-align: top;\n",
       "    }\n",
       "\n",
       "    .dataframe thead th {\n",
       "        text-align: right;\n",
       "    }\n",
       "</style>\n",
       "<table border=\"1\" class=\"dataframe\">\n",
       "  <thead>\n",
       "    <tr style=\"text-align: right;\">\n",
       "      <th></th>\n",
       "      <th>batch</th>\n",
       "      <th>kfolds_mean</th>\n",
       "    </tr>\n",
       "  </thead>\n",
       "  <tbody>\n",
       "    <tr>\n",
       "      <th>count</th>\n",
       "      <td>30.000000</td>\n",
       "      <td>30.000000</td>\n",
       "    </tr>\n",
       "    <tr>\n",
       "      <th>mean</th>\n",
       "      <td>15.500000</td>\n",
       "      <td>0.884074</td>\n",
       "    </tr>\n",
       "    <tr>\n",
       "      <th>std</th>\n",
       "      <td>8.803408</td>\n",
       "      <td>0.007543</td>\n",
       "    </tr>\n",
       "    <tr>\n",
       "      <th>min</th>\n",
       "      <td>1.000000</td>\n",
       "      <td>0.866667</td>\n",
       "    </tr>\n",
       "    <tr>\n",
       "      <th>25%</th>\n",
       "      <td>8.250000</td>\n",
       "      <td>0.877778</td>\n",
       "    </tr>\n",
       "    <tr>\n",
       "      <th>50%</th>\n",
       "      <td>15.500000</td>\n",
       "      <td>0.888889</td>\n",
       "    </tr>\n",
       "    <tr>\n",
       "      <th>75%</th>\n",
       "      <td>22.750000</td>\n",
       "      <td>0.888889</td>\n",
       "    </tr>\n",
       "    <tr>\n",
       "      <th>max</th>\n",
       "      <td>30.000000</td>\n",
       "      <td>0.888889</td>\n",
       "    </tr>\n",
       "  </tbody>\n",
       "</table>\n",
       "</div>"
      ],
      "text/plain": [
       "           batch  kfolds_mean\n",
       "count  30.000000    30.000000\n",
       "mean   15.500000     0.884074\n",
       "std     8.803408     0.007543\n",
       "min     1.000000     0.866667\n",
       "25%     8.250000     0.877778\n",
       "50%    15.500000     0.888889\n",
       "75%    22.750000     0.888889\n",
       "max    30.000000     0.888889"
      ]
     },
     "execution_count": 39,
     "metadata": {},
     "output_type": "execute_result"
    }
   ],
   "source": [
    "batch_df.describe()"
   ]
  }
 ],
 "metadata": {
  "kernelspec": {
   "display_name": "Python 3 (ipykernel)",
   "language": "python",
   "name": "python3"
  },
  "language_info": {
   "codemirror_mode": {
    "name": "ipython",
    "version": 3
   },
   "file_extension": ".py",
   "mimetype": "text/x-python",
   "name": "python",
   "nbconvert_exporter": "python",
   "pygments_lexer": "ipython3",
   "version": "3.8.10"
  }
 },
 "nbformat": 4,
 "nbformat_minor": 4
}
