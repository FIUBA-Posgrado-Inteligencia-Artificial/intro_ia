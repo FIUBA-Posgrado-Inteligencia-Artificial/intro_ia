{
 "cells": [
  {
   "cell_type": "markdown",
   "id": "9dc3793379ee6eb9",
   "metadata": {
    "collapsed": false,
    "jupyter": {
     "outputs_hidden": false
    }
   },
   "source": [
    "# Ejercicio Módulo 2\n",
    "**Inteligencia Artificial - CEIA - FIUBA**\n",
    "\n",
    "**INSERTE AQUÍ SU NOMBRE**\n",
    "\n",
    "En este ejercicio deben implementar un algoritmo de búsqueda que no sea **Búsqueda Primero en Anchura (BFS)** para resolver el problema de la Torre de Hanoi. La nota máxima dependerá del algoritmo implementado:\n",
    "\n",
    "- **Búsqueda Primero en Profundidad**: nota máxima 6.\n",
    "- **Búsqueda de Costo Uniforme**: nota máxima 6.\n",
    "- **Búsqueda de Profundidad Limitada con Profundidad Iterativa**: nota máxima 7.\n",
    "- **Búsqueda Voraz usando la heurística dada en el aula virtual**: nota máxima 8.\n",
    "- **Búsqueda Voraz usando una heurística desarrollada por vos**: nota máxima 9.\n",
    "- **Búsqueda A\\* usando la heurística dada en el aula virtual**: nota máxima 9.\n",
    "- **Búsqueda A\\* usando una heurística desarrollada por vos**: nota máxima 10.\n",
    "\n",
    "La función debe devolver la salida correspondiente a la solución encontrada o `None si no se encontró una solución.\n",
    "\n",
    "Además, debe calcular métricas de rendimiento que, como mínimo, incluyan:\n",
    "\n",
    "- `solution_found`: `True` si se encontró la solución, `False` en caso contrario.\n",
    "- `nodes_explored`: cantidad de nodos explorados (entero).\n",
    "- `states_visited`: cantidad de estados distintos visitados (entero).\n",
    "- `nodes_in_frontier`: cantidad de nodos que quedaron en la frontera al finalizar la ejecución (entero).\n",
    "- `max_depth`: máxima profundidad explorada (entero).\n",
    "- `cost_total`: costo total para encontrar la solución (float)."
   ]
  },
  {
   "cell_type": "code",
   "execution_count": null,
   "id": "d070f4f5-39ee-4081-85ab-ee2257ecd769",
   "metadata": {},
   "outputs": [],
   "source": [
    "from aima_libs.hanoi_states import ProblemHanoi, StatesHanoi\n",
    "from aima_libs.tree_hanoi import NodeHanoi"
   ]
  },
  {
   "cell_type": "code",
   "execution_count": null,
   "id": "d58cc9fe-ab05-4ab5-8627-6687c42c558e",
   "metadata": {},
   "outputs": [],
   "source": [
    "def search_algorithm(number_disks=5) -> (NodeHanoi, dict):\n",
    "\n",
    "    list_disks = [i for i in range(5, 0, -1)]\n",
    "    initial_state = StatesHanoi(list_disks, [], [], max_disks=number_disks)\n",
    "    goal_state = StatesHanoi([], [], list_disks, max_disks=number_disks)\n",
    "    problem = ProblemHanoi(initial=initial_state, goal=goal_state)\n",
    "\n",
    "    ##### EDITAR ESTA ZONA\n",
    "\n",
    "    # Inicializamos las salidas, pero reemplazar con lo que se quiera usar.\n",
    "    metrics = {\n",
    "        \"solution_found\": True,\n",
    "        \"nodes_explored\": None,\n",
    "        \"states_visited\": None,\n",
    "        \"nodes_in_frontier\": None,\n",
    "        \"max_depth\": None,\n",
    "        \"cost_total\": None,\n",
    "    }\n",
    "    solution = NodeHanoi(initial_state)\n",
    "\n",
    "    # TODO: Completar con el algoritmo de búsqueda que desees implementar\n",
    "    #####\n",
    "\n",
    "    return solution, metrics"
   ]
  },
  {
   "cell_type": "markdown",
   "id": "5cd0daea-d105-410d-b575-98baf3118abb",
   "metadata": {},
   "source": [
    "Se prueba la función:"
   ]
  },
  {
   "cell_type": "code",
   "execution_count": null,
   "id": "768cc0a3-c2d8-46a0-8008-8648e2858d0e",
   "metadata": {},
   "outputs": [],
   "source": [
    "solution, metrics = search_algorithm(number_disks=5)"
   ]
  },
  {
   "cell_type": "markdown",
   "id": "934d0e1b-1791-405f-a53d-0b834ccc5409",
   "metadata": {},
   "source": [
    "Veamos las métricas:"
   ]
  },
  {
   "cell_type": "code",
   "execution_count": null,
   "id": "43657735-9e67-4931-a4fc-11db96b5735a",
   "metadata": {},
   "outputs": [],
   "source": [
    "for key, value in metrics.items():\n",
    "    print(f\"{key}: {value}\")"
   ]
  },
  {
   "cell_type": "markdown",
   "id": "32deebf6-2ab1-4573-9aaf-9add84c2939f",
   "metadata": {},
   "source": [
    "Veamos el camino de estados desde el principio a la solución:"
   ]
  },
  {
   "cell_type": "code",
   "execution_count": null,
   "id": "7c398df5-9dc4-4fae-9181-308f859f2835",
   "metadata": {},
   "outputs": [],
   "source": [
    "for nodos in solution.path():\n",
    "    print(nodos)"
   ]
  },
  {
   "cell_type": "markdown",
   "id": "11d79725-95ec-4806-be05-ac0522e49afe",
   "metadata": {},
   "source": [
    "Y las acciones que el agente debería aplicar para llegar al objetivo:"
   ]
  },
  {
   "cell_type": "code",
   "execution_count": null,
   "id": "9c7f1421-be80-45b8-8336-7afe2c2b1ad7",
   "metadata": {},
   "outputs": [],
   "source": [
    "for act in solution.solution():\n",
    "    print(act)"
   ]
  }
 ],
 "metadata": {
  "kernelspec": {
   "display_name": "ia_env",
   "language": "python",
   "name": "python3"
  },
  "language_info": {
   "codemirror_mode": {
    "name": "ipython",
    "version": 3
   },
   "file_extension": ".py",
   "mimetype": "text/x-python",
   "name": "python",
   "nbconvert_exporter": "python",
   "pygments_lexer": "ipython3",
   "version": "3.11.11"
  }
 },
 "nbformat": 4,
 "nbformat_minor": 5
}
