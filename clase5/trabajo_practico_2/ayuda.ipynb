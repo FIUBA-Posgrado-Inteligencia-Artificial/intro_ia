{
 "cells": [
  {
   "cell_type": "code",
   "execution_count": 1,
   "id": "initial_id",
   "metadata": {
    "is_executing": true
   },
   "outputs": [],
   "source": [
    "import pandas as pd\n",
    "import numpy as np\n",
    "import matplotlib.pyplot as plt\n",
    "import seaborn as sns\n",
    "\n",
    "from sklearn.datasets import fetch_california_housing\n",
    "from sklearn.model_selection import train_test_split, cross_val_score\n",
    "from sklearn.preprocessing import StandardScaler\n",
    "from sklearn.metrics import r2_score, mean_absolute_error, mean_squared_error\n",
    "\n",
    "from sklearn.linear_model import LinearRegression, Ridge\n",
    "\n",
    "sns.set()"
   ]
  },
  {
   "cell_type": "markdown",
   "id": "fc079c7f8e6fdb1",
   "metadata": {
    "collapsed": false,
    "jupyter": {
     "outputs_hidden": false
    }
   },
   "source": [
    "# California Housing\n",
    "\n",
    "Este es un popular [dataset](https://scikit-learn.org/stable/datasets/real_world.html#california-housing-dataset) que vamos a estar leyendo desde **Scikit-Learn**.\n",
    "\n",
    "Se requiere construir una regresión que nos permita predecir el valor de valor medio de casas en distritos de California (medidos en ciento de miles de dólares $100.000). Este dataset deriva del censo de 1990 de EEUU, donde cada observación es un bloque. Un bloque es la unidad geográfica más pequeña para la cual la Oficina del Censo de EE. UU. publica datos de muestra (un bloque típicamente tiene una población de 600 a 3,000 personas).\n",
    "\n",
    "Un hogar es un grupo de personas que residen dentro de una casa. Dado que el número promedio de habitaciones y dormitorios en este conjunto de datos se proporciona por hogar, estas columnas pueden tomar valores grandes para grupos de bloques con pocos hogares y muchas casas vacías.\n",
    "\n",
    "Los atributos en el orden que se guardaron en el dataset son:\n",
    "\n",
    "- `MedInc`: Ingreso medio en el bloque\n",
    "- `HouseAge`: Edad mediana de las casas en el bloque\n",
    "- `AveRooms`: Número promedio de habitaciones por hogar.\n",
    "- `AveBedrms`: Número promedio de dormitorios por hogar.\n",
    "- `Population`: Población del bloque\n",
    "- `AveOccup`: Número promedio de miembros por hogar.\n",
    "- `Latitude`: Latitud del bloque\n",
    "- `Longitude`: Longitud del bloque"
   ]
  },
  {
   "cell_type": "code",
   "execution_count": 2,
   "id": "2a5842f97e2b9daa",
   "metadata": {
    "collapsed": false,
    "is_executing": true,
    "jupyter": {
     "outputs_hidden": false
    }
   },
   "outputs": [],
   "source": [
    "# Leemos el dataset\n",
    "california_housing = fetch_california_housing()\n",
    "\n",
    "# Y obtenemos los atributos y target\n",
    "X = california_housing.data\n",
    "y = california_housing.target\n",
    "\n",
    "# Transformamos en Pandas\n",
    "X = pd.DataFrame(X, columns=california_housing['feature_names'])\n",
    "y = pd.Series(y, name=california_housing['target_names'][0])\n",
    "\n",
    "# Unimos a X e y, esto ayuda a la parte de la gráfica del mapa de calor de correlación\n",
    "df_california = pd.concat([X, y], axis=1)"
   ]
  },
  {
   "cell_type": "code",
   "execution_count": 3,
   "id": "ac6af619d900031c",
   "metadata": {
    "collapsed": false,
    "is_executing": true,
    "jupyter": {
     "outputs_hidden": false
    }
   },
   "outputs": [
    {
     "data": {
      "text/html": [
       "<div>\n",
       "<style scoped>\n",
       "    .dataframe tbody tr th:only-of-type {\n",
       "        vertical-align: middle;\n",
       "    }\n",
       "\n",
       "    .dataframe tbody tr th {\n",
       "        vertical-align: top;\n",
       "    }\n",
       "\n",
       "    .dataframe thead th {\n",
       "        text-align: right;\n",
       "    }\n",
       "</style>\n",
       "<table border=\"1\" class=\"dataframe\">\n",
       "  <thead>\n",
       "    <tr style=\"text-align: right;\">\n",
       "      <th></th>\n",
       "      <th>MedInc</th>\n",
       "      <th>HouseAge</th>\n",
       "      <th>AveRooms</th>\n",
       "      <th>AveBedrms</th>\n",
       "      <th>Population</th>\n",
       "      <th>AveOccup</th>\n",
       "      <th>Latitude</th>\n",
       "      <th>Longitude</th>\n",
       "    </tr>\n",
       "  </thead>\n",
       "  <tbody>\n",
       "    <tr>\n",
       "      <th>0</th>\n",
       "      <td>8.3252</td>\n",
       "      <td>41.0</td>\n",
       "      <td>6.984127</td>\n",
       "      <td>1.023810</td>\n",
       "      <td>322.0</td>\n",
       "      <td>2.555556</td>\n",
       "      <td>37.88</td>\n",
       "      <td>-122.23</td>\n",
       "    </tr>\n",
       "    <tr>\n",
       "      <th>1</th>\n",
       "      <td>8.3014</td>\n",
       "      <td>21.0</td>\n",
       "      <td>6.238137</td>\n",
       "      <td>0.971880</td>\n",
       "      <td>2401.0</td>\n",
       "      <td>2.109842</td>\n",
       "      <td>37.86</td>\n",
       "      <td>-122.22</td>\n",
       "    </tr>\n",
       "    <tr>\n",
       "      <th>2</th>\n",
       "      <td>7.2574</td>\n",
       "      <td>52.0</td>\n",
       "      <td>8.288136</td>\n",
       "      <td>1.073446</td>\n",
       "      <td>496.0</td>\n",
       "      <td>2.802260</td>\n",
       "      <td>37.85</td>\n",
       "      <td>-122.24</td>\n",
       "    </tr>\n",
       "    <tr>\n",
       "      <th>3</th>\n",
       "      <td>5.6431</td>\n",
       "      <td>52.0</td>\n",
       "      <td>5.817352</td>\n",
       "      <td>1.073059</td>\n",
       "      <td>558.0</td>\n",
       "      <td>2.547945</td>\n",
       "      <td>37.85</td>\n",
       "      <td>-122.25</td>\n",
       "    </tr>\n",
       "    <tr>\n",
       "      <th>4</th>\n",
       "      <td>3.8462</td>\n",
       "      <td>52.0</td>\n",
       "      <td>6.281853</td>\n",
       "      <td>1.081081</td>\n",
       "      <td>565.0</td>\n",
       "      <td>2.181467</td>\n",
       "      <td>37.85</td>\n",
       "      <td>-122.25</td>\n",
       "    </tr>\n",
       "  </tbody>\n",
       "</table>\n",
       "</div>"
      ],
      "text/plain": [
       "   MedInc  HouseAge  AveRooms  AveBedrms  Population  AveOccup  Latitude  \\\n",
       "0  8.3252      41.0  6.984127   1.023810       322.0  2.555556     37.88   \n",
       "1  8.3014      21.0  6.238137   0.971880      2401.0  2.109842     37.86   \n",
       "2  7.2574      52.0  8.288136   1.073446       496.0  2.802260     37.85   \n",
       "3  5.6431      52.0  5.817352   1.073059       558.0  2.547945     37.85   \n",
       "4  3.8462      52.0  6.281853   1.081081       565.0  2.181467     37.85   \n",
       "\n",
       "   Longitude  \n",
       "0    -122.23  \n",
       "1    -122.22  \n",
       "2    -122.24  \n",
       "3    -122.25  \n",
       "4    -122.25  "
      ]
     },
     "execution_count": 3,
     "metadata": {},
     "output_type": "execute_result"
    }
   ],
   "source": [
    "X.head()"
   ]
  },
  {
   "cell_type": "code",
   "execution_count": 4,
   "id": "ab4b60432f9b4eba",
   "metadata": {
    "collapsed": false,
    "is_executing": true,
    "jupyter": {
     "outputs_hidden": false
    }
   },
   "outputs": [
    {
     "data": {
      "text/plain": [
       "0    4.526\n",
       "1    3.585\n",
       "2    3.521\n",
       "3    3.413\n",
       "4    3.422\n",
       "Name: MedHouseVal, dtype: float64"
      ]
     },
     "execution_count": 4,
     "metadata": {},
     "output_type": "execute_result"
    }
   ],
   "source": [
    "y.head()"
   ]
  },
  {
   "cell_type": "code",
   "execution_count": 5,
   "id": "b9709c1907a3f8a7",
   "metadata": {
    "collapsed": false,
    "is_executing": true,
    "jupyter": {
     "outputs_hidden": false
    }
   },
   "outputs": [
    {
     "data": {
      "text/html": [
       "<div>\n",
       "<style scoped>\n",
       "    .dataframe tbody tr th:only-of-type {\n",
       "        vertical-align: middle;\n",
       "    }\n",
       "\n",
       "    .dataframe tbody tr th {\n",
       "        vertical-align: top;\n",
       "    }\n",
       "\n",
       "    .dataframe thead th {\n",
       "        text-align: right;\n",
       "    }\n",
       "</style>\n",
       "<table border=\"1\" class=\"dataframe\">\n",
       "  <thead>\n",
       "    <tr style=\"text-align: right;\">\n",
       "      <th></th>\n",
       "      <th>MedInc</th>\n",
       "      <th>HouseAge</th>\n",
       "      <th>AveRooms</th>\n",
       "      <th>AveBedrms</th>\n",
       "      <th>Population</th>\n",
       "      <th>AveOccup</th>\n",
       "      <th>Latitude</th>\n",
       "      <th>Longitude</th>\n",
       "      <th>MedHouseVal</th>\n",
       "    </tr>\n",
       "  </thead>\n",
       "  <tbody>\n",
       "    <tr>\n",
       "      <th>0</th>\n",
       "      <td>8.3252</td>\n",
       "      <td>41.0</td>\n",
       "      <td>6.984127</td>\n",
       "      <td>1.023810</td>\n",
       "      <td>322.0</td>\n",
       "      <td>2.555556</td>\n",
       "      <td>37.88</td>\n",
       "      <td>-122.23</td>\n",
       "      <td>4.526</td>\n",
       "    </tr>\n",
       "    <tr>\n",
       "      <th>1</th>\n",
       "      <td>8.3014</td>\n",
       "      <td>21.0</td>\n",
       "      <td>6.238137</td>\n",
       "      <td>0.971880</td>\n",
       "      <td>2401.0</td>\n",
       "      <td>2.109842</td>\n",
       "      <td>37.86</td>\n",
       "      <td>-122.22</td>\n",
       "      <td>3.585</td>\n",
       "    </tr>\n",
       "    <tr>\n",
       "      <th>2</th>\n",
       "      <td>7.2574</td>\n",
       "      <td>52.0</td>\n",
       "      <td>8.288136</td>\n",
       "      <td>1.073446</td>\n",
       "      <td>496.0</td>\n",
       "      <td>2.802260</td>\n",
       "      <td>37.85</td>\n",
       "      <td>-122.24</td>\n",
       "      <td>3.521</td>\n",
       "    </tr>\n",
       "    <tr>\n",
       "      <th>3</th>\n",
       "      <td>5.6431</td>\n",
       "      <td>52.0</td>\n",
       "      <td>5.817352</td>\n",
       "      <td>1.073059</td>\n",
       "      <td>558.0</td>\n",
       "      <td>2.547945</td>\n",
       "      <td>37.85</td>\n",
       "      <td>-122.25</td>\n",
       "      <td>3.413</td>\n",
       "    </tr>\n",
       "    <tr>\n",
       "      <th>4</th>\n",
       "      <td>3.8462</td>\n",
       "      <td>52.0</td>\n",
       "      <td>6.281853</td>\n",
       "      <td>1.081081</td>\n",
       "      <td>565.0</td>\n",
       "      <td>2.181467</td>\n",
       "      <td>37.85</td>\n",
       "      <td>-122.25</td>\n",
       "      <td>3.422</td>\n",
       "    </tr>\n",
       "  </tbody>\n",
       "</table>\n",
       "</div>"
      ],
      "text/plain": [
       "   MedInc  HouseAge  AveRooms  AveBedrms  Population  AveOccup  Latitude  \\\n",
       "0  8.3252      41.0  6.984127   1.023810       322.0  2.555556     37.88   \n",
       "1  8.3014      21.0  6.238137   0.971880      2401.0  2.109842     37.86   \n",
       "2  7.2574      52.0  8.288136   1.073446       496.0  2.802260     37.85   \n",
       "3  5.6431      52.0  5.817352   1.073059       558.0  2.547945     37.85   \n",
       "4  3.8462      52.0  6.281853   1.081081       565.0  2.181467     37.85   \n",
       "\n",
       "   Longitude  MedHouseVal  \n",
       "0    -122.23        4.526  \n",
       "1    -122.22        3.585  \n",
       "2    -122.24        3.521  \n",
       "3    -122.25        3.413  \n",
       "4    -122.25        3.422  "
      ]
     },
     "execution_count": 5,
     "metadata": {},
     "output_type": "execute_result"
    }
   ],
   "source": [
    "df_california.head()"
   ]
  },
  {
   "cell_type": "markdown",
   "id": "7bfdabef0544bd2",
   "metadata": {
    "collapsed": false,
    "jupyter": {
     "outputs_hidden": false
    }
   },
   "source": [
    "Se separa el dataset en entrenamiento y evaluación"
   ]
  },
  {
   "cell_type": "code",
   "execution_count": 6,
   "id": "be2e0c22a0da2786",
   "metadata": {
    "collapsed": false,
    "is_executing": true,
    "jupyter": {
     "outputs_hidden": false
    }
   },
   "outputs": [],
   "source": [
    "X_train, X_test, y_train, y_test = train_test_split(X,  y, test_size=0.3, random_state=42)"
   ]
  },
  {
   "cell_type": "code",
   "execution_count": 7,
   "id": "5e4f8a6651a59e25",
   "metadata": {
    "collapsed": false,
    "is_executing": true,
    "jupyter": {
     "outputs_hidden": false
    }
   },
   "outputs": [],
   "source": [
    "# Escalemos los datos\n",
    "scaler = StandardScaler()\n",
    "X_train_scaled = scaler.fit_transform(X_train)\n",
    "X_test_scaled = scaler.transform(X_test)\n",
    "\n",
    "# Lo transformemos en DataFrames\n",
    "X_train_scaled = pd.DataFrame(X_train_scaled, columns=california_housing['feature_names'])\n",
    "X_test_scaled = pd.DataFrame(X_test_scaled, columns=california_housing['feature_names'])"
   ]
  },
  {
   "cell_type": "code",
   "execution_count": 8,
   "id": "173c93ae1ca22667",
   "metadata": {
    "collapsed": false,
    "is_executing": true,
    "jupyter": {
     "outputs_hidden": false
    }
   },
   "outputs": [
    {
     "data": {
      "text/html": [
       "<div>\n",
       "<style scoped>\n",
       "    .dataframe tbody tr th:only-of-type {\n",
       "        vertical-align: middle;\n",
       "    }\n",
       "\n",
       "    .dataframe tbody tr th {\n",
       "        vertical-align: top;\n",
       "    }\n",
       "\n",
       "    .dataframe thead th {\n",
       "        text-align: right;\n",
       "    }\n",
       "</style>\n",
       "<table border=\"1\" class=\"dataframe\">\n",
       "  <thead>\n",
       "    <tr style=\"text-align: right;\">\n",
       "      <th></th>\n",
       "      <th>MedInc</th>\n",
       "      <th>HouseAge</th>\n",
       "      <th>AveRooms</th>\n",
       "      <th>AveBedrms</th>\n",
       "      <th>Population</th>\n",
       "      <th>AveOccup</th>\n",
       "      <th>Latitude</th>\n",
       "      <th>Longitude</th>\n",
       "    </tr>\n",
       "  </thead>\n",
       "  <tbody>\n",
       "    <tr>\n",
       "      <th>0</th>\n",
       "      <td>0.133506</td>\n",
       "      <td>0.509357</td>\n",
       "      <td>0.181060</td>\n",
       "      <td>-0.273850</td>\n",
       "      <td>-0.184117</td>\n",
       "      <td>-0.010825</td>\n",
       "      <td>-0.805682</td>\n",
       "      <td>0.780934</td>\n",
       "    </tr>\n",
       "    <tr>\n",
       "      <th>1</th>\n",
       "      <td>-0.532218</td>\n",
       "      <td>-0.679873</td>\n",
       "      <td>-0.422630</td>\n",
       "      <td>-0.047868</td>\n",
       "      <td>-0.376191</td>\n",
       "      <td>-0.089316</td>\n",
       "      <td>-1.339473</td>\n",
       "      <td>1.245270</td>\n",
       "    </tr>\n",
       "    <tr>\n",
       "      <th>2</th>\n",
       "      <td>0.170990</td>\n",
       "      <td>-0.362745</td>\n",
       "      <td>0.073128</td>\n",
       "      <td>-0.242600</td>\n",
       "      <td>-0.611240</td>\n",
       "      <td>-0.044800</td>\n",
       "      <td>-0.496645</td>\n",
       "      <td>-0.277552</td>\n",
       "    </tr>\n",
       "    <tr>\n",
       "      <th>3</th>\n",
       "      <td>-0.402916</td>\n",
       "      <td>-1.155565</td>\n",
       "      <td>0.175848</td>\n",
       "      <td>-0.008560</td>\n",
       "      <td>-0.987495</td>\n",
       "      <td>-0.075230</td>\n",
       "      <td>1.690024</td>\n",
       "      <td>-0.706938</td>\n",
       "    </tr>\n",
       "    <tr>\n",
       "      <th>4</th>\n",
       "      <td>-0.299285</td>\n",
       "      <td>1.857152</td>\n",
       "      <td>-0.259598</td>\n",
       "      <td>-0.070993</td>\n",
       "      <td>0.086015</td>\n",
       "      <td>-0.066357</td>\n",
       "      <td>0.992350</td>\n",
       "      <td>-1.430902</td>\n",
       "    </tr>\n",
       "  </tbody>\n",
       "</table>\n",
       "</div>"
      ],
      "text/plain": [
       "     MedInc  HouseAge  AveRooms  AveBedrms  Population  AveOccup  Latitude  \\\n",
       "0  0.133506  0.509357  0.181060  -0.273850   -0.184117 -0.010825 -0.805682   \n",
       "1 -0.532218 -0.679873 -0.422630  -0.047868   -0.376191 -0.089316 -1.339473   \n",
       "2  0.170990 -0.362745  0.073128  -0.242600   -0.611240 -0.044800 -0.496645   \n",
       "3 -0.402916 -1.155565  0.175848  -0.008560   -0.987495 -0.075230  1.690024   \n",
       "4 -0.299285  1.857152 -0.259598  -0.070993    0.086015 -0.066357  0.992350   \n",
       "\n",
       "   Longitude  \n",
       "0   0.780934  \n",
       "1   1.245270  \n",
       "2  -0.277552  \n",
       "3  -0.706938  \n",
       "4  -1.430902  "
      ]
     },
     "execution_count": 8,
     "metadata": {},
     "output_type": "execute_result"
    }
   ],
   "source": [
    "X_train_scaled.head()"
   ]
  },
  {
   "cell_type": "markdown",
   "id": "d45225a6d622f98",
   "metadata": {
    "collapsed": false,
    "jupyter": {
     "outputs_hidden": false
    }
   },
   "source": [
    "Aquí se muestra un ejemplo de validación cruzada.\n",
    "\n",
    "- Usamos método de 5-folds\n",
    "- Usamos el MSE. [Scikit-Learn](https://scikit-learn.org/stable/modules/generated/sklearn.model_selection.cross_val_score.html#sklearn.model_selection.cross_val_score) usa el valor negativo por motivos de simplificar el funcionamiento de otras funciones de la libreria."
   ]
  },
  {
   "cell_type": "code",
   "execution_count": 9,
   "id": "6bf9ae822cf0547e",
   "metadata": {
    "collapsed": false,
    "is_executing": true,
    "jupyter": {
     "outputs_hidden": false
    }
   },
   "outputs": [
    {
     "data": {
      "text/plain": [
       "array([-0.54786366, -0.5008472 , -0.52047089, -0.51611229, -0.54882174])"
      ]
     },
     "execution_count": 9,
     "metadata": {},
     "output_type": "execute_result"
    }
   ],
   "source": [
    "# Creamos un modelo\n",
    "alpha = 1.0\n",
    "ridge_model = Ridge(alpha=alpha)\n",
    "\n",
    "# Este la forma que se implementa en scikit-learn\n",
    "cv = cross_val_score(ridge_model, X_train_scaled, y=y_train, scoring=\"neg_mean_squared_error\", cv=5, n_jobs=-1)\n",
    "\n",
    "# Este calculo nos devuelve el valor de MSE para cada una de los folds\n",
    "cv"
   ]
  },
  {
   "cell_type": "code",
   "execution_count": 10,
   "id": "847380d4e19ae5fb",
   "metadata": {
    "collapsed": false,
    "is_executing": true,
    "jupyter": {
     "outputs_hidden": false
    }
   },
   "outputs": [
    {
     "name": "stdout",
     "output_type": "stream",
     "text": [
      "La media del MSE en 5-fold CV para la regresión Ridge con alpha=1.0 es 0.5268231539349313\n",
      "El desvío estándar del MSE en 5-fold CV para la regresión Ridge con alpha=1.0 es 0.01874280974833451\n"
     ]
    }
   ],
   "source": [
    "# Podemos obtener el valor medio y desvio estandar de cada caso:\n",
    "print(f\"La media del MSE en 5-fold CV para la regresión Ridge con alpha={alpha} es {(-1)*cv.mean()}\")\n",
    "print(f\"El desvío estándar del MSE en 5-fold CV para la regresión Ridge con alpha={alpha} es {cv.std()}\")"
   ]
  },
  {
   "cell_type": "code",
   "execution_count": 11,
   "id": "a347a4f617e5b82c",
   "metadata": {
    "collapsed": false,
    "is_executing": true,
    "jupyter": {
     "outputs_hidden": false
    }
   },
   "outputs": [],
   "source": [
    "# Acá generamos varios valores de alpha para la búsqueda pedida en el TP."
   ]
  },
  {
   "cell_type": "code",
   "execution_count": 12,
   "id": "851257cf987268ce",
   "metadata": {
    "collapsed": false,
    "is_executing": true,
    "jupyter": {
     "outputs_hidden": false
    }
   },
   "outputs": [
    {
     "data": {
      "text/plain": [
       "array([ 0.        ,  0.12626263,  0.25252525,  0.37878788,  0.50505051,\n",
       "        0.63131313,  0.75757576,  0.88383838,  1.01010101,  1.13636364,\n",
       "        1.26262626,  1.38888889,  1.51515152,  1.64141414,  1.76767677,\n",
       "        1.89393939,  2.02020202,  2.14646465,  2.27272727,  2.3989899 ,\n",
       "        2.52525253,  2.65151515,  2.77777778,  2.9040404 ,  3.03030303,\n",
       "        3.15656566,  3.28282828,  3.40909091,  3.53535354,  3.66161616,\n",
       "        3.78787879,  3.91414141,  4.04040404,  4.16666667,  4.29292929,\n",
       "        4.41919192,  4.54545455,  4.67171717,  4.7979798 ,  4.92424242,\n",
       "        5.05050505,  5.17676768,  5.3030303 ,  5.42929293,  5.55555556,\n",
       "        5.68181818,  5.80808081,  5.93434343,  6.06060606,  6.18686869,\n",
       "        6.31313131,  6.43939394,  6.56565657,  6.69191919,  6.81818182,\n",
       "        6.94444444,  7.07070707,  7.1969697 ,  7.32323232,  7.44949495,\n",
       "        7.57575758,  7.7020202 ,  7.82828283,  7.95454545,  8.08080808,\n",
       "        8.20707071,  8.33333333,  8.45959596,  8.58585859,  8.71212121,\n",
       "        8.83838384,  8.96464646,  9.09090909,  9.21717172,  9.34343434,\n",
       "        9.46969697,  9.5959596 ,  9.72222222,  9.84848485,  9.97474747,\n",
       "       10.1010101 , 10.22727273, 10.35353535, 10.47979798, 10.60606061,\n",
       "       10.73232323, 10.85858586, 10.98484848, 11.11111111, 11.23737374,\n",
       "       11.36363636, 11.48989899, 11.61616162, 11.74242424, 11.86868687,\n",
       "       11.99494949, 12.12121212, 12.24747475, 12.37373737, 12.5       ])"
      ]
     },
     "execution_count": 12,
     "metadata": {},
     "output_type": "execute_result"
    }
   ],
   "source": [
    "alpha_values = np.linspace(0, 12.5, 100)\n",
    "alpha_values"
   ]
  }
 ],
 "metadata": {
  "kernelspec": {
   "display_name": "Python 3 (ipykernel)",
   "language": "python",
   "name": "python3"
  },
  "language_info": {
   "codemirror_mode": {
    "name": "ipython",
    "version": 3
   },
   "file_extension": ".py",
   "mimetype": "text/x-python",
   "name": "python",
   "nbconvert_exporter": "python",
   "pygments_lexer": "ipython3",
   "version": "3.11.8"
  }
 },
 "nbformat": 4,
 "nbformat_minor": 5
}
