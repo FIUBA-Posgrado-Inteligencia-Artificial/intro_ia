{
 "cells": [
  {
   "cell_type": "code",
   "execution_count": 1,
   "id": "27b5644f",
   "metadata": {},
   "outputs": [],
   "source": [
    "import random"
   ]
  },
  {
   "cell_type": "markdown",
   "id": "65d82df5",
   "metadata": {},
   "source": [
    "# Ejercicio Módulo 3 - N reinas\n",
    "**Inteligencia Artificial - CEIA - FIUBA**\n",
    "\n",
    "**INSERTE AQUÍ SU NOMBRE**\n",
    "\n",
    "El problema de las **N reinas** es un clásico desafío en informática que consiste en colocar N reinas sobre un tablero de ajedrez de tamaño N x N de manera que ninguna reina pueda atacar a otra.\n",
    "\n",
    "### ¿Qué significa que las reinas no se ataquen?\n",
    "\n",
    "En ajedrez, una reina puede moverse y atacar en cualquier cantidad de casillas:\n",
    "\n",
    "- En la misma fila\n",
    "- En la misma columna\n",
    "- En cualquiera de las diagonales\n",
    "\n",
    "Por lo tanto, la restricción principal del problema es que no puede haber dos reinas compartiendo:\n",
    "\n",
    "- La misma fila\n",
    "- La misma columna\n",
    "- La misma diagonal\n",
    "\n",
    "### ¿Qué vamos a hacer en este ejercicio?\n",
    "\n",
    "En este ejercicio trabajaremos con el clásico problema de las N reinas y exploraremos cómo encontrar una solución usando métodos de búsqueda local. Primero, veremos una implementación básica basada en **gradiente descendente discreto (hill climbing)**, que nos permitirá entender cómo movernos en el espacio de soluciones para minimizar conflictos.\n",
    "\n",
    "Luego, tu desafío será implementar el algoritmo de **Simulated Annealing**, una técnica que mejora la búsqueda local al evitar quedar atrapados en soluciones subóptimas.\n",
    "\n",
    "\n",
    "Para lograr esto, iremos paso a paso, definiendo y trabajando con:\n",
    "1. **Representación del problema en Python**: cómo codificamos el tablero y las posiciones de las reinas.\n",
    "2. **Generación de vecinos**: cómo obtener estados cercanos a partir de un estado actual.\n",
    "3. **Función de costo**: cómo medir la calidad de una solución (número de conflictos).\n",
    "4. **Visualización del tablero**: mostrar las reinas ubicadas para entender mejor cada estado.\n",
    "5. **Algoritmo de gradiente descendente**: aplicar esta búsqueda local para acercarnos a una solución.\n",
    "\n",
    "\n",
    "## Representación del problema en Python\n",
    "\n",
    "Para trabajar con el problema de las N reinas, necesitamos una forma sencilla y eficiente de representar el tablero y la ubicación de las reinas.\n",
    "\n",
    "La forma más común y práctica es usar una lista de tamaño N, donde:\n",
    "- El índice de la lista representa la columna del tablero.\n",
    "- El valor almacenado en ese índice representa la fila donde está ubicada la reina en esa columna.\n",
    "\n",
    "Por ejemplo, para *N=8*, un arreglo como este:"
   ]
  },
  {
   "cell_type": "code",
   "execution_count": 2,
   "id": "930b9b6f",
   "metadata": {},
   "outputs": [],
   "source": [
    "board = [0, 4, 7, 5, 2, 6, 1, 3]"
   ]
  },
  {
   "cell_type": "markdown",
   "id": "fc5566d2",
   "metadata": {},
   "source": [
    "Significa:\n",
    "- La reina en la columna 0 está en la fila 0.\n",
    "- La reina en la columna 1 está en la fila 4.\n",
    "- La reina en la columna 2 está en la fila 7.\n",
    "- ... y así sucesivamente.\n",
    "\n",
    "De esta forma podemos representar diferentes estados y empezar a \"mover\" a las reinas. Pero antes, necesitamos una función que inicialice un estado al azar:"
   ]
  },
  {
   "cell_type": "code",
   "execution_count": 3,
   "id": "5f5184d8",
   "metadata": {},
   "outputs": [
    {
     "name": "stdout",
     "output_type": "stream",
     "text": [
      "Estado inicial aleatorio: [1, 1, 7, 2, 3, 6, 6, 1]\n"
     ]
    }
   ],
   "source": [
    "def initialize_random_state(n: int = 8):\n",
    "    \"\"\"\n",
    "    Initializes a random state for the N-queens problem.\n",
    "    Returns a list where each index represents a column\n",
    "    and the value is the row where the queen is placed.\n",
    "    \"\"\"\n",
    "    return [random.randint(0, n - 1) for _ in range(n)]\n",
    "\n",
    "# Ejemplo de uso:\n",
    "estado_inicial = initialize_random_state()\n",
    "print(\"Estado inicial aleatorio:\", estado_inicial)\n"
   ]
  },
  {
   "cell_type": "markdown",
   "id": "50c6053e",
   "metadata": {},
   "source": [
    "## Generación de vecinos\n",
    "\n",
    "En los algoritmos de búsqueda local, la idea es moverse en el espacio de soluciones explorando vecinos del estado actual.\n",
    "\n",
    "**¿Qué es un vecino en el problema de las N reinas?**\n",
    "\n",
    "Dado un estado (una configuración particular de reinas en el tablero), un vecino es otro estado que resulta de hacer una pequeña modificación en el estado actual.\n",
    "\n",
    "En nuestro caso, donde cada reina está en una columna, una forma natural de definir vecinos es:\n",
    "\n",
    "1. Elegir una columna.\n",
    "2. Mover la reina de esa columna a una fila diferente dentro de la misma columna.\n",
    "\n",
    "**Ejemplo**\n",
    "\n",
    "Si el estado actual es:"
   ]
  },
  {
   "cell_type": "code",
   "execution_count": 4,
   "id": "1d3f1152",
   "metadata": {},
   "outputs": [],
   "source": [
    "board = [0, 4, 7, 5, 2, 6, 1, 3]"
   ]
  },
  {
   "cell_type": "markdown",
   "id": "faed6d18",
   "metadata": {},
   "source": [
    "Un vecino puede ser:\n",
    "\n",
    "`Mover la reina en la columna 2 (que está en fila 7) a la fila 0`, dando:"
   ]
  },
  {
   "cell_type": "code",
   "execution_count": 5,
   "id": "0b9c4946",
   "metadata": {},
   "outputs": [],
   "source": [
    "neig_board = [0, 4, 0, 5, 2, 6, 1, 3]"
   ]
  },
  {
   "cell_type": "markdown",
   "id": "a22ff1be",
   "metadata": {},
   "source": [
    "A continuación, definamos una función que genera todos los vecinos posibles a partir de un estado dado:"
   ]
  },
  {
   "cell_type": "code",
   "execution_count": 6,
   "id": "dd71ed9b",
   "metadata": {},
   "outputs": [
    {
     "name": "stdout",
     "output_type": "stream",
     "text": [
      "Cantidad de vecinos generados: 56\n",
      "Algunos vecinos:\n",
      "[1, 4, 7, 5, 2, 6, 1, 3]\n",
      "[2, 4, 7, 5, 2, 6, 1, 3]\n",
      "[3, 4, 7, 5, 2, 6, 1, 3]\n",
      "[4, 4, 7, 5, 2, 6, 1, 3]\n",
      "[5, 4, 7, 5, 2, 6, 1, 3]\n"
     ]
    }
   ],
   "source": [
    "def generate_neighbors(state):\n",
    "    \"\"\"\n",
    "    Generates all neighboring states from the current state.\n",
    "    A neighbor is a state where one queen is moved to a different\n",
    "    row within its column.\n",
    "    \n",
    "    Args:\n",
    "        state (list): List representing the queen positions.\n",
    "        \n",
    "    Returns:\n",
    "        list: List of neighboring states.\n",
    "    \"\"\"\n",
    "    n = len(state)\n",
    "    neighbors = []\n",
    "    \n",
    "    for col in range(n):\n",
    "        current_row = state[col]\n",
    "        for new_row in range(n):\n",
    "            if new_row != current_row:\n",
    "                neighbor = state.copy()\n",
    "                neighbor[col] = new_row\n",
    "                neighbors.append(neighbor)\n",
    "                \n",
    "    return neighbors\n",
    "\n",
    "# Ejemplo de uso:\n",
    "estado_actual = [0, 4, 7, 5, 2, 6, 1, 3]\n",
    "vecinos = generate_neighbors(estado_actual)\n",
    "print(f\"Cantidad de vecinos generados: {len(vecinos)}\")\n",
    "print(\"Algunos vecinos:\")\n",
    "for vecino in vecinos[:5]:\n",
    "    print(vecino)\n"
   ]
  },
  {
   "cell_type": "markdown",
   "id": "844dca57",
   "metadata": {},
   "source": [
    "**¿Qué hace esta función?**\n",
    "\n",
    "1. Para cada columna, prueba mover la reina a todas las filas distintas de la actual.\n",
    "2. Copia el estado actual y modifica la posición para crear un vecino nuevo.\n",
    "3. Devuelve una lista con todos los vecinos posibles.\n",
    "\n",
    "## Función de costo\n",
    "\n",
    "En los algoritmos de búsqueda local, cada estado (o solución parcial) tiene un *costo* que indica qué tan lejos está de ser una solución válida.\n",
    "\n",
    "En el caso del problema de las N reinas, una solución válida es aquella donde ninguna reina puede atacar a otra. Por lo tanto, una forma natural de definir la función de costo es:\n",
    "\n",
    "> Sea:\n",
    "> - N el tamaño del tablero (y cantidad de reinas)\n",
    "> - $s = [s_0, s_1, ..., s_{N-1}]$ un estado, donde $s_i \\in \\{ 0, 1, ..., N-1 \\}$ representa la fila en la quie está la reina de la columna *i*.\n",
    ">\n",
    "> Entonces, la función de costo $C(s)$ mide el número total de pares de reinas que se atacan entre sí:\n",
    ">\n",
    "> $$C(s) = \\sum_{i=0}^{N-1} \\sum_{j=i+1}^{N-1} \\delta(s_i, s_j)$$\n",
    "> donde la función $\\delta(s_i, s_j)$ se define como:\n",
    "> $$ \\delta(s_i, s_j) = \\begin{cases} 1 & \\text{si } s_i = s_j \\quad \\text{(misma fila)} \\\\ 1 & \\text{si } |s_i - s_j| = |i - j| \\quad \\text{(misma diagonal)} \\\\ 0 & \\text{en otro caso}\\end{cases}  $$\n",
    "\n",
    "Queremos minimizar esta función:\n",
    "- Si el costo es `0`, ¡tenemos una solución válida!\n",
    "- Si el costo es mayor que `0`, hay conflictos que resolver.\n",
    "\n",
    "¿Cuándo dos reinas se atacan? Dos reinas se atacan si están:\n",
    "\n",
    "- En la misma fila\n",
    "- En la misma diagonal (ascendente o descendente)\n",
    "- ⚠️ No necesitamos preocuparnos por columnas, porque la representación del problema (una reina por columna) ya garantiza que no haya más de una reina por columna.\n",
    "\n",
    "La implementación en Python es:"
   ]
  },
  {
   "cell_type": "code",
   "execution_count": 15,
   "id": "f18efce1",
   "metadata": {},
   "outputs": [
    {
     "name": "stdout",
     "output_type": "stream",
     "text": [
      "Estado: [0, 4, 7, 5, 2, 6, 1, 3]\n",
      "Costo: 0\n",
      "Estado: [0, 4, 7, 5, 2, 6, 1, 0]\n",
      "Costo: 2\n"
     ]
    }
   ],
   "source": [
    "def cost(state):\n",
    "    \"\"\"\n",
    "    Calculates the number of pairs of queens that are attacking each other.\n",
    "    \n",
    "    Args:\n",
    "        state (list): A list where state[i] is the row of the queen in column i.\n",
    "        \n",
    "    Returns:\n",
    "        int: Total number of conflicting pairs.\n",
    "    \"\"\"\n",
    "    n = len(state)\n",
    "    conflicts = 0\n",
    "    for i in range(n):\n",
    "        for j in range(i + 1, n):\n",
    "            same_row = state[i] == state[j]\n",
    "            same_diag = abs(state[i] - state[j]) == abs(i - j)\n",
    "            if same_row or same_diag:\n",
    "                conflicts += 1\n",
    "    return conflicts\n",
    "\n",
    "# Ejemplo de uso\n",
    "state = [0, 4, 7, 5, 2, 6, 1, 3]  # Solución valida para N=8\n",
    "print(\"Estado:\", state) \n",
    "print(\"Costo:\", cost(state))     \n",
    "\n",
    "state = [0, 4, 7, 5, 2, 6, 1, 0]\n",
    "print(\"Estado:\", state)\n",
    "print(\"Costo:\", cost(state))"
   ]
  },
  {
   "cell_type": "markdown",
   "id": "67f66606",
   "metadata": {},
   "source": [
    "Esta función se usa para:\n",
    "- Evaluar qué tan buena es una solución actual.\n",
    "- Comparar varios vecinos y elegir el de menor costo.\n",
    "- Saber si ya llegamos a una solución (cuando el costo es 0).\n",
    "\n",
    "## Visualización del tablero\n",
    "\n",
    "Una forma muy útil de comprender y depurar soluciones al problema de las N reinas es poder visualizar el estado del tablero. Para esto, podemos imprimirlo en consola usando caracteres ASCII, representando las casillas vacías y las reinas.\n",
    "\n",
    "¿Cómo lo representamos? Usamos los siguientes símbolos:\n",
    "\n",
    "- `♛` para indicar una reina\n",
    "- `|` y `---` para simular los bordes del tablero\n",
    "\n",
    "Definamos la función que nos permita armar la representación:"
   ]
  },
  {
   "cell_type": "code",
   "execution_count": null,
   "id": "0fb2bb7e",
   "metadata": {},
   "outputs": [
    {
     "name": "stdout",
     "output_type": "stream",
     "text": [
      "+---+---+---+---+---+---+---+---+\n",
      "| ♛ |   |   |   |   |   |   |   |\n",
      "+---+---+---+---+---+---+---+---+\n",
      "|   |   |   |   |   |   | ♛ |   |\n",
      "+---+---+---+---+---+---+---+---+\n",
      "|   |   |   |   | ♛ |   |   |   |\n",
      "+---+---+---+---+---+---+---+---+\n",
      "|   |   |   |   |   |   |   | ♛ |\n",
      "+---+---+---+---+---+---+---+---+\n",
      "|   | ♛ |   |   |   |   |   |   |\n",
      "+---+---+---+---+---+---+---+---+\n",
      "|   |   |   | ♛ |   |   |   |   |\n",
      "+---+---+---+---+---+---+---+---+\n",
      "|   |   |   |   |   | ♛ |   |   |\n",
      "+---+---+---+---+---+---+---+---+\n",
      "|   |   | ♛ |   |   |   |   |   |\n",
      "+---+---+---+---+---+---+---+---+\n"
     ]
    }
   ],
   "source": [
    "def print_board_ascii(state: list):\n",
    "    \"\"\"\n",
    "    Prints an ASCII representation of the N-Queens board.\n",
    "    \n",
    "    Each index in the input list represents the column,\n",
    "    and the value at that index represents the row where the queen is placed.\n",
    "\n",
    "    Args:\n",
    "        state (list): A list of integers where state[i] is the row of the queen in column i.\n",
    "\n",
    "    Example:\n",
    "        For board = [0, 4, 7, 5, 2, 6, 1, 3], prints a visual 8x8 board with queens.\n",
    "    \"\"\"\n",
    "    n = len(state)\n",
    "    horizontal_border = \"+\" + \"---+\" * n\n",
    "    for row in range(n):\n",
    "        print(horizontal_border)\n",
    "        row_str = \"\"\n",
    "        for col in range(n):\n",
    "            if state[col] == row:\n",
    "                row_str += \"| ♛ \"\n",
    "            else:\n",
    "                row_str += \"|   \"\n",
    "        row_str += \"|\"\n",
    "        print(row_str)\n",
    "    print(horizontal_border)\n",
    "\n",
    "# Ejemplo de uso\n",
    "state = [0, 4, 7, 5, 2, 6, 1, 3]  # Solución válida para N=8\n",
    "print_board_ascii(state)"
   ]
  },
  {
   "cell_type": "markdown",
   "id": "a1d2bcca",
   "metadata": {},
   "source": [
    "## Algoritmo de gradiente descendente (hill climbing)\n",
    "\n",
    "Tal como vimos en los videos, este algoritmo parte de un estado inicial y se mueve siempre al mejor vecino, es decir, al estado vecino con menor cantidad de conflictos (menor costo), esperando llegar a una solución sin conflictos.\n",
    "\n",
    "**Estructura general del algoritmo**\n",
    "1. Generar un estado inicial aleatorio.\n",
    "2. Evaluar su costo.\n",
    "3. Generar todos sus vecinos.\n",
    "4. Elegir el vecino con menor costo.\n",
    "5. Si es mejor que el actual, avanzar a ese estado.\n",
    "6. Si no hay mejora posible → nos quedamos en un óptimo local.\n",
    "\n",
    "Veamos la implementación:"
   ]
  },
  {
   "cell_type": "code",
   "execution_count": 9,
   "id": "7b74407e",
   "metadata": {},
   "outputs": [],
   "source": [
    "N = 8 # Número de reinas\n",
    "MAX_STEPS = 1000 # Número maximo de iteraciones\n",
    "\n",
    "def grad_desc(n, max_steps=1000) -> tuple:\n",
    "    \"\"\"\n",
    "    Hill Climbing algorithm for solving the N-Queens problem.\n",
    "    \n",
    "    Args:\n",
    "        n (int): Size of the board (number of queens).\n",
    "        max_steps (int): Maximum number of steps before giving up.\n",
    "        \n",
    "    Returns:\n",
    "        tuple: (final_state, final_cost)\n",
    "    \"\"\"\n",
    "\n",
    "    # 1. Inicializamos un estado al azar\n",
    "    current = initialize_random_state(n)\n",
    "    # Calculamos el costo\n",
    "    current_cost = cost(current)\n",
    "\n",
    "    print(\"Estado inicial:\", current)\n",
    "    print(\"Costo:\", current_cost)\n",
    "    print_board_ascii(current)\n",
    "    print(\"------------\")\n",
    "    \n",
    "    last_step = max_steps\n",
    "    for step in range(max_steps):\n",
    "        # 3. Generamos todos sus vecinos.\n",
    "        neighbors = generate_neighbors(current)\n",
    "        # Calculamos todos los costos de los vecinos\n",
    "        neighbor_costs = [cost(neighbor) for neighbor in neighbors]\n",
    "        # Obtenemos el minimo costo\n",
    "        min_cost = min(neighbor_costs)\n",
    "\n",
    "        # Si todos los vecinos tienen el mismo valor o mayor, terminamos.\n",
    "        if min_cost >= current_cost:\n",
    "            last_step = step\n",
    "            break\n",
    "\n",
    "        # Elegimos el vecino con menor costo.\n",
    "        best_index = neighbor_costs.index(min_cost)\n",
    "        current = neighbors[best_index]\n",
    "        current_cost = min_cost\n",
    "        \n",
    "\n",
    "    if current_cost == 0:\n",
    "        print(\"✅ ¡Se encontró una solución!\")\n",
    "    else:\n",
    "        print(\"❌ No se encontró una solución :(\")\n",
    "\n",
    "    print(\"Iteraciones ejecutadas:\", last_step)\n",
    "    print(\"Estado final:\", current)\n",
    "    print(\"Costo final:\", current_cost)\n",
    "    print_board_ascii(current)\n",
    "\n",
    "    return current, current_cost"
   ]
  },
  {
   "cell_type": "code",
   "execution_count": 10,
   "id": "46fdac67",
   "metadata": {},
   "outputs": [
    {
     "name": "stdout",
     "output_type": "stream",
     "text": [
      "Estado inicial: [7, 4, 7, 7, 6, 4, 0, 3]\n",
      "Costo: 8\n",
      "+---+---+---+---+---+---+---+---+\n",
      "| ♛ |   |   |   |   |   |   |   |\n",
      "+---+---+---+---+---+---+---+---+\n",
      "|   |   |   |   |   |   | ♛ |   |\n",
      "+---+---+---+---+---+---+---+---+\n",
      "|   |   |   |   | ♛ |   |   |   |\n",
      "+---+---+---+---+---+---+---+---+\n",
      "|   |   |   |   |   |   |   | ♛ |\n",
      "+---+---+---+---+---+---+---+---+\n",
      "|   | ♛ |   |   |   |   |   |   |\n",
      "+---+---+---+---+---+---+---+---+\n",
      "|   |   |   | ♛ |   |   |   |   |\n",
      "+---+---+---+---+---+---+---+---+\n",
      "|   |   |   |   |   | ♛ |   |   |\n",
      "+---+---+---+---+---+---+---+---+\n",
      "|   |   | ♛ |   |   |   |   |   |\n",
      "+---+---+---+---+---+---+---+---+\n",
      "------------\n",
      "❌ No se encontró una solución :(\n",
      "Iteraciones ejecutadas: 3\n",
      "Estado final: [7, 2, 5, 1, 6, 4, 0, 3]\n",
      "Costo final: 2\n",
      "+---+---+---+---+---+---+---+---+\n",
      "| ♛ |   |   |   |   |   |   |   |\n",
      "+---+---+---+---+---+---+---+---+\n",
      "|   |   |   |   |   |   | ♛ |   |\n",
      "+---+---+---+---+---+---+---+---+\n",
      "|   |   |   |   | ♛ |   |   |   |\n",
      "+---+---+---+---+---+---+---+---+\n",
      "|   |   |   |   |   |   |   | ♛ |\n",
      "+---+---+---+---+---+---+---+---+\n",
      "|   | ♛ |   |   |   |   |   |   |\n",
      "+---+---+---+---+---+---+---+---+\n",
      "|   |   |   | ♛ |   |   |   |   |\n",
      "+---+---+---+---+---+---+---+---+\n",
      "|   |   |   |   |   | ♛ |   |   |\n",
      "+---+---+---+---+---+---+---+---+\n",
      "|   |   | ♛ |   |   |   |   |   |\n",
      "+---+---+---+---+---+---+---+---+\n"
     ]
    }
   ],
   "source": [
    "_ = grad_desc(8, max_steps=MAX_STEPS)"
   ]
  },
  {
   "cell_type": "code",
   "execution_count": 11,
   "id": "74d44da9",
   "metadata": {},
   "outputs": [
    {
     "name": "stdout",
     "output_type": "stream",
     "text": [
      "Estado inicial: [6, 6, 2, 0, 6, 4, 3, 1]\n",
      "Costo: 5\n",
      "+---+---+---+---+---+---+---+---+\n",
      "| ♛ |   |   |   |   |   |   |   |\n",
      "+---+---+---+---+---+---+---+---+\n",
      "|   |   |   |   |   |   | ♛ |   |\n",
      "+---+---+---+---+---+---+---+---+\n",
      "|   |   |   |   | ♛ |   |   |   |\n",
      "+---+---+---+---+---+---+---+---+\n",
      "|   |   |   |   |   |   |   | ♛ |\n",
      "+---+---+---+---+---+---+---+---+\n",
      "|   | ♛ |   |   |   |   |   |   |\n",
      "+---+---+---+---+---+---+---+---+\n",
      "|   |   |   | ♛ |   |   |   |   |\n",
      "+---+---+---+---+---+---+---+---+\n",
      "|   |   |   |   |   | ♛ |   |   |\n",
      "+---+---+---+---+---+---+---+---+\n",
      "|   |   | ♛ |   |   |   |   |   |\n",
      "+---+---+---+---+---+---+---+---+\n",
      "------------\n",
      "❌ No se encontró una solución :(\n",
      "Iteraciones ejecutadas: 2\n",
      "Estado final: [6, 6, 2, 0, 7, 4, 4, 1]\n",
      "Costo final: 2\n",
      "+---+---+---+---+---+---+---+---+\n",
      "| ♛ |   |   |   |   |   |   |   |\n",
      "+---+---+---+---+---+---+---+---+\n",
      "|   |   |   |   |   |   | ♛ |   |\n",
      "+---+---+---+---+---+---+---+---+\n",
      "|   |   |   |   | ♛ |   |   |   |\n",
      "+---+---+---+---+---+---+---+---+\n",
      "|   |   |   |   |   |   |   | ♛ |\n",
      "+---+---+---+---+---+---+---+---+\n",
      "|   | ♛ |   |   |   |   |   |   |\n",
      "+---+---+---+---+---+---+---+---+\n",
      "|   |   |   | ♛ |   |   |   |   |\n",
      "+---+---+---+---+---+---+---+---+\n",
      "|   |   |   |   |   | ♛ |   |   |\n",
      "+---+---+---+---+---+---+---+---+\n",
      "|   |   | ♛ |   |   |   |   |   |\n",
      "+---+---+---+---+---+---+---+---+\n"
     ]
    }
   ],
   "source": [
    "_ = grad_desc(8, max_steps=MAX_STEPS)"
   ]
  },
  {
   "cell_type": "code",
   "execution_count": 12,
   "id": "5ce20c55",
   "metadata": {},
   "outputs": [
    {
     "name": "stdout",
     "output_type": "stream",
     "text": [
      "Estado inicial: [3, 0, 4, 6, 4, 0, 1, 6]\n",
      "Costo: 6\n",
      "+---+---+---+---+---+---+---+---+\n",
      "| ♛ |   |   |   |   |   |   |   |\n",
      "+---+---+---+---+---+---+---+---+\n",
      "|   |   |   |   |   |   | ♛ |   |\n",
      "+---+---+---+---+---+---+---+---+\n",
      "|   |   |   |   | ♛ |   |   |   |\n",
      "+---+---+---+---+---+---+---+---+\n",
      "|   |   |   |   |   |   |   | ♛ |\n",
      "+---+---+---+---+---+---+---+---+\n",
      "|   | ♛ |   |   |   |   |   |   |\n",
      "+---+---+---+---+---+---+---+---+\n",
      "|   |   |   | ♛ |   |   |   |   |\n",
      "+---+---+---+---+---+---+---+---+\n",
      "|   |   |   |   |   | ♛ |   |   |\n",
      "+---+---+---+---+---+---+---+---+\n",
      "|   |   | ♛ |   |   |   |   |   |\n",
      "+---+---+---+---+---+---+---+---+\n",
      "------------\n",
      "❌ No se encontró una solución :(\n",
      "Iteraciones ejecutadas: 2\n",
      "Estado final: [3, 2, 4, 7, 4, 0, 1, 6]\n",
      "Costo final: 3\n",
      "+---+---+---+---+---+---+---+---+\n",
      "| ♛ |   |   |   |   |   |   |   |\n",
      "+---+---+---+---+---+---+---+---+\n",
      "|   |   |   |   |   |   | ♛ |   |\n",
      "+---+---+---+---+---+---+---+---+\n",
      "|   |   |   |   | ♛ |   |   |   |\n",
      "+---+---+---+---+---+---+---+---+\n",
      "|   |   |   |   |   |   |   | ♛ |\n",
      "+---+---+---+---+---+---+---+---+\n",
      "|   | ♛ |   |   |   |   |   |   |\n",
      "+---+---+---+---+---+---+---+---+\n",
      "|   |   |   | ♛ |   |   |   |   |\n",
      "+---+---+---+---+---+---+---+---+\n",
      "|   |   |   |   |   | ♛ |   |   |\n",
      "+---+---+---+---+---+---+---+---+\n",
      "|   |   | ♛ |   |   |   |   |   |\n",
      "+---+---+---+---+---+---+---+---+\n"
     ]
    }
   ],
   "source": [
    "_ = grad_desc(8, max_steps=MAX_STEPS)"
   ]
  },
  {
   "cell_type": "code",
   "execution_count": 13,
   "id": "88168001",
   "metadata": {},
   "outputs": [
    {
     "name": "stdout",
     "output_type": "stream",
     "text": [
      "Estado inicial: [7, 3, 3, 5, 2, 4, 1, 7]\n",
      "Costo: 4\n",
      "+---+---+---+---+---+---+---+---+\n",
      "| ♛ |   |   |   |   |   |   |   |\n",
      "+---+---+---+---+---+---+---+---+\n",
      "|   |   |   |   |   |   | ♛ |   |\n",
      "+---+---+---+---+---+---+---+---+\n",
      "|   |   |   |   | ♛ |   |   |   |\n",
      "+---+---+---+---+---+---+---+---+\n",
      "|   |   |   |   |   |   |   | ♛ |\n",
      "+---+---+---+---+---+---+---+---+\n",
      "|   | ♛ |   |   |   |   |   |   |\n",
      "+---+---+---+---+---+---+---+---+\n",
      "|   |   |   | ♛ |   |   |   |   |\n",
      "+---+---+---+---+---+---+---+---+\n",
      "|   |   |   |   |   | ♛ |   |   |\n",
      "+---+---+---+---+---+---+---+---+\n",
      "|   |   | ♛ |   |   |   |   |   |\n",
      "+---+---+---+---+---+---+---+---+\n",
      "------------\n",
      "❌ No se encontró una solución :(\n",
      "Iteraciones ejecutadas: 2\n",
      "Estado final: [0, 6, 3, 5, 2, 4, 1, 7]\n",
      "Costo final: 2\n",
      "+---+---+---+---+---+---+---+---+\n",
      "| ♛ |   |   |   |   |   |   |   |\n",
      "+---+---+---+---+---+---+---+---+\n",
      "|   |   |   |   |   |   | ♛ |   |\n",
      "+---+---+---+---+---+---+---+---+\n",
      "|   |   |   |   | ♛ |   |   |   |\n",
      "+---+---+---+---+---+---+---+---+\n",
      "|   |   |   |   |   |   |   | ♛ |\n",
      "+---+---+---+---+---+---+---+---+\n",
      "|   | ♛ |   |   |   |   |   |   |\n",
      "+---+---+---+---+---+---+---+---+\n",
      "|   |   |   | ♛ |   |   |   |   |\n",
      "+---+---+---+---+---+---+---+---+\n",
      "|   |   |   |   |   | ♛ |   |   |\n",
      "+---+---+---+---+---+---+---+---+\n",
      "|   |   | ♛ |   |   |   |   |   |\n",
      "+---+---+---+---+---+---+---+---+\n"
     ]
    }
   ],
   "source": [
    "_ = grad_desc(8, max_steps=MAX_STEPS)"
   ]
  },
  {
   "cell_type": "code",
   "execution_count": 14,
   "id": "3e20e89c",
   "metadata": {},
   "outputs": [
    {
     "name": "stdout",
     "output_type": "stream",
     "text": [
      "Estado inicial: [3, 1, 6, 0, 2, 2, 2, 7]\n",
      "Costo: 7\n",
      "+---+---+---+---+---+---+---+---+\n",
      "| ♛ |   |   |   |   |   |   |   |\n",
      "+---+---+---+---+---+---+---+---+\n",
      "|   |   |   |   |   |   | ♛ |   |\n",
      "+---+---+---+---+---+---+---+---+\n",
      "|   |   |   |   | ♛ |   |   |   |\n",
      "+---+---+---+---+---+---+---+---+\n",
      "|   |   |   |   |   |   |   | ♛ |\n",
      "+---+---+---+---+---+---+---+---+\n",
      "|   | ♛ |   |   |   |   |   |   |\n",
      "+---+---+---+---+---+---+---+---+\n",
      "|   |   |   | ♛ |   |   |   |   |\n",
      "+---+---+---+---+---+---+---+---+\n",
      "|   |   |   |   |   | ♛ |   |   |\n",
      "+---+---+---+---+---+---+---+---+\n",
      "|   |   | ♛ |   |   |   |   |   |\n",
      "+---+---+---+---+---+---+---+---+\n",
      "------------\n",
      "✅ ¡Se encontró una solución!\n",
      "Iteraciones ejecutadas: 4\n",
      "Estado final: [5, 3, 6, 0, 2, 4, 1, 7]\n",
      "Costo final: 0\n",
      "+---+---+---+---+---+---+---+---+\n",
      "| ♛ |   |   |   |   |   |   |   |\n",
      "+---+---+---+---+---+---+---+---+\n",
      "|   |   |   |   |   |   | ♛ |   |\n",
      "+---+---+---+---+---+---+---+---+\n",
      "|   |   |   |   | ♛ |   |   |   |\n",
      "+---+---+---+---+---+---+---+---+\n",
      "|   |   |   |   |   |   |   | ♛ |\n",
      "+---+---+---+---+---+---+---+---+\n",
      "|   | ♛ |   |   |   |   |   |   |\n",
      "+---+---+---+---+---+---+---+---+\n",
      "|   |   |   | ♛ |   |   |   |   |\n",
      "+---+---+---+---+---+---+---+---+\n",
      "|   |   |   |   |   | ♛ |   |   |\n",
      "+---+---+---+---+---+---+---+---+\n",
      "|   |   | ♛ |   |   |   |   |   |\n",
      "+---+---+---+---+---+---+---+---+\n"
     ]
    }
   ],
   "source": [
    "_ = grad_desc(8, max_steps=MAX_STEPS)"
   ]
  },
  {
   "cell_type": "markdown",
   "id": "3981a268",
   "metadata": {},
   "source": [
    "De 5 ejecuciones, 1 termino en solución.\n",
    "\n",
    "### Simmulated Annealing\n",
    "\n",
    "Llegamos a la parte que **vos debés desarrollar**. Ahora te toca implementar el algoritmo de búsqueda Simulated Annealing.\n",
    "\n",
    "Para eso, debés completar la función que aparece más abajo.\n",
    "\n",
    "> ⚠️ No modifiques los argumentos ni el tipo de salida: la función debe recibir exactamente los parámetros indicados y devolver el resultado especificado."
   ]
  },
  {
   "cell_type": "code",
   "execution_count": null,
   "id": "639475db",
   "metadata": {},
   "outputs": [],
   "source": [
    "def simulated_annealing(n: int, initial_temp: float, cooling_rate: float, max_steps: int = 1000) -> tuple\n",
    "    \"\"\"\n",
    "    Simulated Annealing algorithm for solving the N-Queens problem.\n",
    "    \n",
    "    Args:\n",
    "        n (int): Size of the board (number of queens).\n",
    "        initial_temp (float): Starting temperature.\n",
    "        cooling_rate (float): How much the temperature decreases per step.\n",
    "        max_steps (int): Maximum number of iterations.\n",
    "    \n",
    "    Returns:\n",
    "        tuple: (final_state, final_cost)\n",
    "    \"\"\"\n",
    "    current = initialize_random_state(n)\n",
    "    current_cost = cost(current)\n",
    "    temperature = initial_temp\n",
    "\n",
    "    print(\"Estado inicial:\", current)\n",
    "    print(\"Costo:\", current_cost)\n",
    "    print_board_ascii(current)\n",
    "    print(\"------------\")\n",
    "\n",
    "    #######################\n",
    "    # TODO: Implementa aquí el algoritmo de Simulated Annealing.\n",
    "    last_step = 0\n",
    "    # Debés actualizar:\n",
    "    # - current (para moverte a un nuevo estado)\n",
    "    # - current_cost (según el nuevo estado)\n",
    "    # - temperature (disminuirla con el tiempo)\n",
    "    # - last_step (número de iteraciones realizadas)\n",
    "    #######################\n",
    "\n",
    "    if current_cost == 0:\n",
    "        print(\"✅ ¡Se encontró una solución!\")\n",
    "    else:\n",
    "        print(\"❌ No se encontró una solución :(\")\n",
    "\n",
    "    print(\"Iteraciones ejecutadas:\", last_step)\n",
    "    print(\"Estado final:\", current)\n",
    "    print(\"Costo final:\", current_cost)\n",
    "    print_board_ascii(current)\n",
    "\n",
    "    return current, current_cost "
   ]
  },
  {
   "cell_type": "markdown",
   "id": "c81628ef",
   "metadata": {},
   "source": [
    "Ejecutemos 5 veces la función:"
   ]
  },
  {
   "cell_type": "code",
   "execution_count": null,
   "id": "ec2d3f9e",
   "metadata": {},
   "outputs": [],
   "source": [
    "_ = simulated_annealing(8, initial_temp, cooling_rate, max_steps=MAX_STEPS) # Cambia a initial_temp y cooling_rate con los valores que deseas usar."
   ]
  },
  {
   "cell_type": "code",
   "execution_count": null,
   "id": "5f0c5915",
   "metadata": {},
   "outputs": [],
   "source": [
    "_ = simulated_annealing(8, initial_temp, cooling_rate, max_steps=MAX_STEPS) # Cambia a initial_temp y cooling_rate con los valores que deseas usar."
   ]
  },
  {
   "cell_type": "code",
   "execution_count": null,
   "id": "55e966f6",
   "metadata": {},
   "outputs": [],
   "source": [
    "_ = simulated_annealing(8, initial_temp, cooling_rate, max_steps=MAX_STEPS) # Cambia a initial_temp y cooling_rate con los valores que deseas usar."
   ]
  },
  {
   "cell_type": "code",
   "execution_count": null,
   "id": "c55b63b7",
   "metadata": {},
   "outputs": [],
   "source": [
    "_ = simulated_annealing(8, initial_temp, cooling_rate, max_steps=MAX_STEPS) # Cambia a initial_temp y cooling_rate con los valores que deseas usar."
   ]
  },
  {
   "cell_type": "code",
   "execution_count": null,
   "id": "64efb3d6",
   "metadata": {},
   "outputs": [],
   "source": [
    "_ = simulated_annealing(8, initial_temp, cooling_rate, max_steps=MAX_STEPS) # Cambia a initial_temp y cooling_rate con los valores que deseas usar."
   ]
  },
  {
   "cell_type": "markdown",
   "id": "43e3d44f",
   "metadata": {},
   "source": [
    "Escribe aqui cuantas veces de las 5 ejecuciones se encontró la solucion: \n",
    "\n",
    "<<ESCRIBE AQUÍ>>"
   ]
  }
 ],
 "metadata": {
  "kernelspec": {
   "display_name": "Python 3 (ipykernel)",
   "language": "python",
   "name": "python3"
  },
  "language_info": {
   "codemirror_mode": {
    "name": "ipython",
    "version": 3
   },
   "file_extension": ".py",
   "mimetype": "text/x-python",
   "name": "python",
   "nbconvert_exporter": "python",
   "pygments_lexer": "ipython3",
   "version": "3.11.12"
  }
 },
 "nbformat": 4,
 "nbformat_minor": 5
}
