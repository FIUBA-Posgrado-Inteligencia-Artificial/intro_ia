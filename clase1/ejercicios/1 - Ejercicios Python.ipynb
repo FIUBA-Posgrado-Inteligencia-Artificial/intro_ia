{
 "cells": [
  {
   "cell_type": "markdown",
   "metadata": {},
   "source": [
    "# Ejercicios de Python\n",
    "Inteligencia Artificial - Facundo A. Lucianna - CEIA - FIUBA\n",
    "\n",
    "A continuación veamos ejercicios de Python que deben resolver.\n",
    "\n",
    "**Ejercicio 1**: Imprima el texto `”Hola, estoy aprendiendo Python”`. Agregue un comentario de una sola línea antes de la impresión de texto que explique qué hace la función `print()`."
   ]
  },
  {
   "cell_type": "code",
   "execution_count": null,
   "metadata": {},
   "outputs": [],
   "source": []
  },
  {
   "cell_type": "markdown",
   "metadata": {},
   "source": [
    "**Ejercicio 2**: Imprima el siguiente texto respetando el formato (use triple \"\"\"):\n",
    "\n",
    "```\n",
    "Sobre el puente de Avignon\n",
    "      Todos bailan, todos bailan\n",
    "Sobre el puente de Avignon\n",
    "      Todos bailan y yo también\n",
    "```"
   ]
  },
  {
   "cell_type": "code",
   "execution_count": null,
   "metadata": {},
   "outputs": [],
   "source": [
    "avignon_song = \"\"\"\n",
    "\"\"\"\n",
    "\n",
    "print(avignon_song)"
   ]
  },
  {
   "cell_type": "markdown",
   "metadata": {},
   "source": [
    "**Ejercicio 3**: Crea las siguiente variables:\n",
    "\n",
    "```\n",
    "var1 = 1\n",
    "var2 = 3.14\n",
    "var3 = −8\n",
    "var4 = \"CEIoT\"\n",
    "```\n",
    "\n",
    "1. Realice las siguientes operaciones e imprímalas. Comente en la notebook qué operaciones se hace en cada caso:\n",
    "    1. `var1 + var2`\n",
    "    2. `var1 − var2`\n",
    "    3. `var3 / 3`\n",
    "    4. `var3 // 3`\n",
    "    5. `var3 % 3`\n",
    "    6. `var2 ** 2`\n",
    "    7. `var3 ∗ var2`\n",
    "    8. `var4 + var4`\n",
    "    9. `var4 * ((-1) * var3)`\n",
    "    10. `var4 / var2`\n",
    "2. ¿Todas las operaciones aquí listadas pueden realizar? Si la respuesta es no, cual no se puede realizar? ¿Qué error da Python? ¿Qué significa ese error?"
   ]
  },
  {
   "cell_type": "code",
   "execution_count": null,
   "metadata": {},
   "outputs": [],
   "source": []
  },
  {
   "cell_type": "markdown",
   "metadata": {},
   "source": [
    "**Ejercicio 4**: Cree la variable `pi_string = \"3.1415926\"`\n",
    "1.  Conviertala en `float` (use la función `float()`) y guarda el resultado en la variable `pi_float`.\n",
    "2.  Imprima la variable `pi_float` con solo 3 decimales"
   ]
  },
  {
   "cell_type": "code",
   "execution_count": null,
   "metadata": {},
   "outputs": [],
   "source": []
  },
  {
   "cell_type": "markdown",
   "metadata": {},
   "source": [
    "**Ejercicio 5**: Crea una variable con el string: `\"Me gusta la comida mexicana\"`.\n",
    "1. Crea una variable que se llame `mexican_food` que sea booleana.\n",
    "2. Mediante control de flujo, imprima condicionalmente la variable string si la variable del apartado 1 es verdadera."
   ]
  },
  {
   "cell_type": "code",
   "execution_count": null,
   "metadata": {},
   "outputs": [],
   "source": []
  },
  {
   "cell_type": "markdown",
   "metadata": {},
   "source": [
    "**Ejercicio 6**: Imprima la fecha y hora actual (utilice la librería [datetime](https://www.w3schools.com/python/python_datetime.asp))"
   ]
  },
  {
   "cell_type": "code",
   "execution_count": null,
   "metadata": {},
   "outputs": [],
   "source": []
  },
  {
   "cell_type": "markdown",
   "metadata": {},
   "source": [
    "**Ejercicio 7**: Imprima el calendario del mes de Marzo de 2023 (utilice la librería [calendar](https://www.geeksforgeeks.org/python-calendar-module/))"
   ]
  },
  {
   "cell_type": "code",
   "execution_count": null,
   "metadata": {},
   "outputs": [],
   "source": []
  },
  {
   "cell_type": "markdown",
   "metadata": {},
   "source": [
    "**Ejercicio 8**: Usando Python resuelva este ejercicio:\n",
    "```\n",
    "Supongamos que tenemos U$D 100, el cual se puede invertir y retornar el 10% extra cada año. Es decir, después del primer año tendríamos 100 * 1.1 = 110, luego de dos años 100 * 1.1 * 1.1 = 121.\n",
    "\n",
    "Calcule la cantidad de plata que uno tendría luego de 7 años, y después de 23 años.\n",
    "```"
   ]
  },
  {
   "cell_type": "code",
   "execution_count": null,
   "metadata": {},
   "outputs": [],
   "source": []
  },
  {
   "cell_type": "markdown",
   "metadata": {},
   "source": [
    "**Ejercicio 9**: Introduzca el código del punto anterior en una función. Que los argumentos sean la inversión inicial, el interés y la cantidad de años. Obtenga diferentes salidas combinando estas variables."
   ]
  },
  {
   "cell_type": "code",
   "execution_count": null,
   "metadata": {},
   "outputs": [],
   "source": []
  },
  {
   "cell_type": "markdown",
   "metadata": {},
   "source": [
    "**Ejercicio 10**: Escriba una función que teste si un número está entre 100 y 2000."
   ]
  },
  {
   "cell_type": "code",
   "execution_count": null,
   "metadata": {},
   "outputs": [],
   "source": []
  },
  {
   "cell_type": "markdown",
   "metadata": {},
   "source": [
    "**Ejercicio 11**: Escriba una función que verifique si dado un número natural, si es capicúa (por ejemplo 12321 o 90809)."
   ]
  },
  {
   "cell_type": "code",
   "execution_count": null,
   "metadata": {},
   "outputs": [],
   "source": []
  },
  {
   "cell_type": "markdown",
   "metadata": {},
   "source": [
    "**Ejercicio 12**: \n",
    "1. Escriba una función que dado un string reemplaza todos los caracteres con `\"*\"` menos los últimos 5 caracteres.\n",
    "2. Modifique la función para que un argumento opcional se pueda cambiar cuantos caracteres se quieren dejar sin `\"*\"`."
   ]
  },
  {
   "cell_type": "code",
   "execution_count": null,
   "metadata": {},
   "outputs": [],
   "source": []
  },
  {
   "cell_type": "markdown",
   "metadata": {},
   "source": [
    "**Ejercicio 13**: \n",
    "1. Escriba una función que dado el radio (número flotante) como entrada devuelva el diámetro, circunferencia y área de un círculo.\n",
    "2. Agregue un argumento opcional dimensión que por defecto es 2, si es 3 retorna el diámetro y el volumen de una esfera. Cualquier otro valor, retorne\n",
    "-1."
   ]
  },
  {
   "cell_type": "code",
   "execution_count": null,
   "metadata": {},
   "outputs": [],
   "source": []
  },
  {
   "cell_type": "markdown",
   "metadata": {},
   "source": [
    "**Ejercicio 14**: Genere una lista formada por los números naturales desde el 1 hasta el 9 incluidos llamada `mi_lista` usado list comprehension.\n",
    "1. Imprima el primer, el quinto y último elemento, y además la cantidad de elementos que tiene la lista.\n",
    "2. Cree una lista nueva que incluya solamente desde el segundo al sexto elemento.\n",
    "3. Quite el último elemento de la lista `mi_lista` y guárdelo en una variable llamada `ultimo_elemento`.\n",
    "4. Quite el tercer elemento de la lista `mi_lista`.\n",
    "5. Agregue el número 4 al final de `mi_lista`.\n",
    "6. Agregue el string `\"Soy un string\"` en la tercera posición de `mi_lista`."
   ]
  },
  {
   "cell_type": "code",
   "execution_count": null,
   "metadata": {},
   "outputs": [],
   "source": []
  },
  {
   "cell_type": "markdown",
   "metadata": {},
   "source": [
    "**Ejercicio 15**: Escriba una función que devuelva una tupla de todos los números impares dado un valor de inicio y final. Siendo el de inicio opcional, con valor por defecto igual a 1."
   ]
  },
  {
   "cell_type": "code",
   "execution_count": null,
   "metadata": {},
   "outputs": [],
   "source": []
  },
  {
   "cell_type": "markdown",
   "metadata": {},
   "source": [
    "**Ejercicio 16**: Escriba una función que realice la suma de dos vectores. Para \"armar\" a los vectores vamos a usar listas de igual tamaño. La función debe devolver el vector suma en forma de lista."
   ]
  },
  {
   "cell_type": "code",
   "execution_count": null,
   "metadata": {},
   "outputs": [],
   "source": []
  },
  {
   "cell_type": "markdown",
   "metadata": {},
   "source": [
    "**Ejercicio 17**: Cree un diccionario llamado datos_personales con los siguientes datos:\n",
    "```\n",
    "nombre: Pedro\n",
    "apellido: Perez\n",
    "edad: 43\n",
    "```\n",
    "\n",
    "1. Imprima el apellido.\n",
    "2. Cambie el valor de la edad a 24.\n",
    "3. Agregue dos elementos:\n",
    "```\n",
    "    tipo de sangre: A\n",
    "    dirección: Av. Colón 1132.\n",
    "```\n",
    "4. Elimine el elemento tipo de sangre.\n",
    "5. Imprima todo el diccionario."
   ]
  },
  {
   "cell_type": "code",
   "execution_count": null,
   "metadata": {},
   "outputs": [],
   "source": []
  },
  {
   "cell_type": "markdown",
   "metadata": {},
   "source": [
    "**Ejercicio 18**: Cree un programa que usando while sume los números del 1 a 1000. Al final imprima la suma."
   ]
  },
  {
   "cell_type": "code",
   "execution_count": null,
   "metadata": {},
   "outputs": [],
   "source": []
  },
  {
   "cell_type": "markdown",
   "metadata": {},
   "source": [
    "**Ejercicio 19**: Usando for:\n",
    "1. Imprima todos los elementos de la lista `mi_lista` del ejercicio 14.\n",
    "2. Genere una nueva lista que sea los valores al cuadrado de todos los elementos de `mi_lista` que sean numéricos."
   ]
  },
  {
   "cell_type": "code",
   "execution_count": null,
   "metadata": {},
   "outputs": [],
   "source": []
  },
  {
   "cell_type": "markdown",
   "metadata": {},
   "source": [
    "**Ejercicio 20**: Calcule los primeros 30 números primos"
   ]
  },
  {
   "cell_type": "code",
   "execution_count": null,
   "metadata": {},
   "outputs": [],
   "source": []
  },
  {
   "cell_type": "markdown",
   "metadata": {},
   "source": [
    "**Ejercicio 21**: Escriba una función que construya el patrón que tenga como argumento de entrada el maximo numero de asterisco de la punta (valor minimo igual a 2):\n",
    "\n",
    "```\n",
    "*\n",
    "**\n",
    "***\n",
    "****\n",
    "*****\n",
    "****\n",
    "***\n",
    "**\n",
    "*\n",
    "```"
   ]
  },
  {
   "cell_type": "code",
   "execution_count": null,
   "metadata": {},
   "outputs": [],
   "source": []
  },
  {
   "cell_type": "markdown",
   "metadata": {},
   "source": [
    "**Ejercicio 22**: El matemático aleman Gottfried Leibniz desarrolló un método para aproximar el valor de π:\n",
    "\n",
    "$$ \\pi = 4 \\sum_{n=0}^{\\infty} \\frac{(-1)^n}{2n + 1} $$\n",
    "\n",
    "Escriba una función que mediante un argumento especifique el número de iteraciones usadas para aproximarse usando esta serie e imprima en pantalla el valor resultante."
   ]
  },
  {
   "cell_type": "code",
   "execution_count": null,
   "metadata": {},
   "outputs": [],
   "source": []
  },
  {
   "cell_type": "markdown",
   "metadata": {},
   "source": [
    "**Ejercicio 25**: Escriba un script para crear una función **lambda** que sume 15 a un número dado pasado como argumento, también cree una función **lambda** que multiplique el argumento x con el argumento y e imprima el resultado."
   ]
  },
  {
   "cell_type": "code",
   "execution_count": null,
   "metadata": {},
   "outputs": [],
   "source": []
  },
  {
   "cell_type": "markdown",
   "metadata": {},
   "source": [
    "**Ejercicio 26**: Un sistema de administración de perros de una veterinaria permite cargar datos del perro:\n",
    "```\n",
    "Nombre del perro\n",
    "Nombre completo del dueño\n",
    "Peso\n",
    "Raza\n",
    "```\n",
    "\n",
    "Defina una clase llamada `Dog` que se inicie con todos los atributos vacíos y que con diferentes métodos se puedan completar la información y mostrar la información."
   ]
  },
  {
   "cell_type": "code",
   "execution_count": null,
   "metadata": {},
   "outputs": [],
   "source": []
  }
 ],
 "metadata": {
  "kernelspec": {
   "display_name": "notebook_env_python3_11",
   "language": "python",
   "name": "notebook_env_python3_11"
  },
  "language_info": {
   "codemirror_mode": {
    "name": "ipython",
    "version": 3
   },
   "file_extension": ".py",
   "mimetype": "text/x-python",
   "name": "python",
   "nbconvert_exporter": "python",
   "pygments_lexer": "ipython3",
   "version": "3.11.6"
  }
 },
 "nbformat": 4,
 "nbformat_minor": 2
}
