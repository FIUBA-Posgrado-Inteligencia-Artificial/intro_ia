{
 "cells": [
  {
   "cell_type": "code",
   "execution_count": 2,
   "id": "c4492d8e",
   "metadata": {},
   "outputs": [],
   "source": [
    "import numpy as np\n",
    "import matplotlib.pyplot as plt"
   ]
  },
  {
   "cell_type": "markdown",
   "id": "785b2969",
   "metadata": {},
   "source": [
    "# Regresión lineal"
   ]
  },
  {
   "cell_type": "markdown",
   "id": "a8ac6712",
   "metadata": {},
   "source": [
    "## Feature generation"
   ]
  },
  {
   "cell_type": "markdown",
   "id": "4a22e0cb",
   "metadata": {},
   "source": [
    "Dado un dataset $X$ con $N$ muestras $x_i \\in \\mathbb{R}$, tal que quedan los pares $(x_i, y_i)$.\n",
    "\n",
    "Se define la pendiente $\\beta$ de la recta que pasa por el origen como:\n",
    "\n",
    "$$ \\beta=(X^T X)^{-1} X^Ty $$\n",
    "\n",
    "¿Cómo considerar la ordenada al origen?"
   ]
  },
  {
   "cell_type": "markdown",
   "id": "1f28f6ae",
   "metadata": {},
   "source": [
    "### Ordenada"
   ]
  },
  {
   "cell_type": "markdown",
   "id": "0c9d32c7",
   "metadata": {},
   "source": [
    "Sea \n",
    "\n",
    "$$\n",
    "  X =\n",
    "  \\left[ {\\begin{array}{c}\n",
    "    x_1\\\\\n",
    "    x_2 \\\\\n",
    "    x_3 \\\\\n",
    "    \\vdots \\\\\n",
    "    x_N \\\\\n",
    "  \\end{array} } \\right]\\in \\mathbb{R}^{Nx1}\n",
    "$$\n",
    "\n",
    "Puede agregarse una columna de 1, tal que queda $X_{aug}$:\n",
    "\n",
    "$$\n",
    "  X_{aug} =\n",
    "  \\left[ {\\begin{array}{cc}\n",
    "    1 & x_1\\\\\n",
    "    1 & x_2 \\\\\n",
    "    1 & x_3 \\\\\n",
    "    \\vdots & \\vdots \\\\\n",
    "    1 & x_N \\\\\n",
    "  \\end{array} } \\right] \\in \\mathbb{R}^{Nx2}\n",
    "$$\n",
    "\n",
    "De modo tal que $\\beta \\in \\mathbb{R}^2$ en vez de ser solo la pendiente\n",
    "\n",
    "$$ \\beta=(X_{aug}^T X_{aug})^{-1} X_{aug}^Ty $$\n",
    "\n",
    "\\begin{align}\n",
    "dim(\\beta) = ([2xN][Nx2])^{-1} [2xN][Nx1]\\\\\n",
    "dim(\\beta) = [2x2] [2x1]\\\\\n",
    "dim(\\beta) = [2x1] \\rightarrow \\beta \\in \\mathbb{R}^2\n",
    "\\end{align}\n",
    "\n",
    "$$\n",
    "\\beta_0 = \\text{ordenada, multiplica la columna de 1}\\\\\n",
    "\\beta_1 = \\text{pendiente, multiplica la columna de x}\\\\\n",
    "$$\n",
    "\n",
    "Nota: En el libro MML $X_{aug}$ le llaman $\\Phi(X)$."
   ]
  },
  {
   "cell_type": "markdown",
   "id": "d04ef16c",
   "metadata": {},
   "source": [
    "### Features polinómicas"
   ]
  },
  {
   "cell_type": "markdown",
   "id": "06289b01",
   "metadata": {},
   "source": [
    "En lugar de una columna de 1, se agregan columnas con las potencias de $x_i$:\n",
    "\n",
    "$$\n",
    "  X_{aug} =\n",
    "  \\left[ {\\begin{array}{cccc}\n",
    "    x_1 & x_1^{2} & \\cdots & x_1^{M}\\\\\n",
    "    x_2 & x_2^{2} & \\cdots & x_2^{M}\\\\\n",
    "    x_3 & x_3^{2} & \\cdots & x_3^{M}\\\\\n",
    "    \\vdots & \\vdots & \\ddots& \\vdots\\\\\n",
    "    x_N & x_N^{2} & \\cdots & x_N^{M}\\\\\n",
    "  \\end{array} } \\right] \\in \\mathbb{R}^{NxM}\n",
    "$$"
   ]
  },
  {
   "cell_type": "markdown",
   "id": "c0ad128d",
   "metadata": {},
   "source": [
    "Luego, $\\beta \\in \\mathbb{R}^{M}$"
   ]
  },
  {
   "cell_type": "markdown",
   "id": "f03b9fa2",
   "metadata": {},
   "source": [
    "## Regresión polinómica"
   ]
  },
  {
   "cell_type": "markdown",
   "id": "eaa379c1",
   "metadata": {},
   "source": [
    "$P(x) = 2 + 5x - 3x^2 + x^3$"
   ]
  },
  {
   "cell_type": "code",
   "execution_count": 3,
   "id": "388139bb",
   "metadata": {},
   "outputs": [],
   "source": [
    "poly = np.polynomial.Polynomial(coef=(2,5,-3,1))"
   ]
  },
  {
   "cell_type": "code",
   "execution_count": 4,
   "id": "25bc66d8",
   "metadata": {},
   "outputs": [],
   "source": [
    "xpoly, ypoly = poly.linspace(400,[-4,4])"
   ]
  },
  {
   "cell_type": "code",
   "execution_count": 5,
   "id": "c77f6c2f",
   "metadata": {},
   "outputs": [
    {
     "data": {
      "image/png": "[encoded data removed]",
      "text/plain": [
       "<Figure size 432x288 with 1 Axes>"
      ]
     },
     "metadata": {
      "needs_background": "light"
     },
     "output_type": "display_data"
    }
   ],
   "source": [
    "f, ax = plt.subplots()\n",
    "\n",
    "ax.plot(xpoly,ypoly)\n",
    "\n",
    "plt.show()"
   ]
  },
  {
   "cell_type": "code",
   "execution_count": 6,
   "id": "79228b48",
   "metadata": {},
   "outputs": [],
   "source": [
    "xpoly = xpoly.reshape((400,1))"
   ]
  },
  {
   "cell_type": "code",
   "execution_count": 7,
   "id": "b02aadf3",
   "metadata": {
    "scrolled": true
   },
   "outputs": [],
   "source": [
    "xpoly1 = np.hstack((xpoly,xpoly))\n",
    "xpoly1 = np.hstack((xpoly1,xpoly1))"
   ]
  },
  {
   "cell_type": "code",
   "execution_count": 8,
   "id": "6bfcdde0",
   "metadata": {},
   "outputs": [],
   "source": [
    "xpoly1[:,0] = xpoly1[:,0]**0 # Columna de 1\n",
    "xpoly1[:,2] = xpoly1[:,2]**2 # x^2\n",
    "xpoly1[:,3] = xpoly1[:,3]**3 # x^3"
   ]
  },
  {
   "cell_type": "code",
   "execution_count": 9,
   "id": "a26df020",
   "metadata": {},
   "outputs": [
    {
     "data": {
      "text/plain": [
       "(400, 4)"
      ]
     },
     "execution_count": 9,
     "metadata": {},
     "output_type": "execute_result"
    }
   ],
   "source": [
    "xpoly1.shape"
   ]
  },
  {
   "cell_type": "code",
   "execution_count": 10,
   "id": "3d79a1e5",
   "metadata": {},
   "outputs": [
    {
     "data": {
      "text/plain": [
       "array([[  1.        ,  -4.        ,  16.        , -64.        ],\n",
       "       [  1.        ,  -3.97994987,  15.84000101, -63.04241001]])"
      ]
     },
     "execution_count": 10,
     "metadata": {},
     "output_type": "execute_result"
    }
   ],
   "source": [
    "xpoly1[:2,:]"
   ]
  },
  {
   "cell_type": "code",
   "execution_count": 13,
   "id": "e765feb8",
   "metadata": {},
   "outputs": [],
   "source": [
    "coef_hat = np.dot(np.linalg.inv(np.dot(xpoly1.T,xpoly1)), np.dot(xpoly1.T,ypoly))"
   ]
  },
  {
   "cell_type": "code",
   "execution_count": 14,
   "id": "416b64a1",
   "metadata": {},
   "outputs": [],
   "source": [
    "coef_hat2 = np.dot(np.linalg.pinv(np.dot(xpoly1.T,xpoly1)), np.dot(xpoly1.T,ypoly))"
   ]
  },
  {
   "cell_type": "code",
   "execution_count": 15,
   "id": "6b131aec",
   "metadata": {},
   "outputs": [
    {
     "data": {
      "text/plain": [
       "(array([ 2.,  5., -3.,  1.]), array([ 2.,  5., -3.,  1.]))"
      ]
     },
     "execution_count": 15,
     "metadata": {},
     "output_type": "execute_result"
    }
   ],
   "source": [
    "coef_hat, coef_hat2"
   ]
  },
  {
   "cell_type": "code",
   "execution_count": 16,
   "id": "16b96732",
   "metadata": {},
   "outputs": [],
   "source": [
    "polyhat = np.polynomial.Polynomial(coef=coef_hat)\n",
    "xphat, yphat = polyhat.linspace(400,[-4,4])"
   ]
  },
  {
   "cell_type": "code",
   "execution_count": 17,
   "id": "9f196d6b",
   "metadata": {},
   "outputs": [
    {
     "data": {
      "image/png": "[encoded data removed]",
      "text/plain": [
       "<Figure size 504x504 with 1 Axes>"
      ]
     },
     "metadata": {
      "needs_background": "light"
     },
     "output_type": "display_data"
    }
   ],
   "source": [
    "f, ax = plt.subplots(figsize=(7,7))\n",
    "\n",
    "ax.plot(xpoly,ypoly,color='black',lw=6)\n",
    "ax.plot(xphat,yphat, color='orange',ls='-.',lw=4)\n",
    "\n",
    "plt.show()"
   ]
  },
  {
   "cell_type": "markdown",
   "id": "3a65e1fc",
   "metadata": {},
   "source": [
    "## Random sample + ruido"
   ]
  },
  {
   "cell_type": "code",
   "execution_count": 18,
   "id": "03150e4c",
   "metadata": {},
   "outputs": [],
   "source": [
    "idx = np.random.randint(0,400,50)"
   ]
  },
  {
   "cell_type": "code",
   "execution_count": 19,
   "id": "b3fab92e",
   "metadata": {},
   "outputs": [],
   "source": [
    "xsample = xpoly1[idx,:]\n",
    "ysample = ypoly[idx]"
   ]
  },
  {
   "cell_type": "code",
   "execution_count": 20,
   "id": "ec0a2bf8",
   "metadata": {},
   "outputs": [],
   "source": [
    "ysample = ysample + np.random.normal(loc=0,scale=4,size = 50)"
   ]
  },
  {
   "cell_type": "code",
   "execution_count": 21,
   "id": "9a9342c0",
   "metadata": {},
   "outputs": [
    {
     "data": {
      "text/plain": [
       "(50, 4)"
      ]
     },
     "execution_count": 21,
     "metadata": {},
     "output_type": "execute_result"
    }
   ],
   "source": [
    "xsample.shape"
   ]
  },
  {
   "cell_type": "code",
   "execution_count": 22,
   "id": "df84226f",
   "metadata": {},
   "outputs": [],
   "source": [
    "coef_hat3 = np.dot(np.linalg.pinv(np.dot(xsample.T,xsample)), np.dot(xsample.T,ysample))"
   ]
  },
  {
   "cell_type": "code",
   "execution_count": 23,
   "id": "4a55da01",
   "metadata": {},
   "outputs": [],
   "source": [
    "xspace = np.linspace(-4,4,400)"
   ]
  },
  {
   "cell_type": "code",
   "execution_count": 24,
   "id": "defa80fb",
   "metadata": {},
   "outputs": [],
   "source": [
    "xspace_aug = np.array([xspace**0,xspace**1,xspace**2,xspace**3]).T"
   ]
  },
  {
   "cell_type": "code",
   "execution_count": 25,
   "id": "ddeb8a20",
   "metadata": {},
   "outputs": [
    {
     "data": {
      "text/plain": [
       "(400, 4)"
      ]
     },
     "execution_count": 25,
     "metadata": {},
     "output_type": "execute_result"
    }
   ],
   "source": [
    "xspace_aug.shape"
   ]
  },
  {
   "cell_type": "code",
   "execution_count": 26,
   "id": "802799c7",
   "metadata": {},
   "outputs": [],
   "source": [
    "yhat = xspace_aug @ coef_hat3"
   ]
  },
  {
   "cell_type": "code",
   "execution_count": 27,
   "id": "30aeb188",
   "metadata": {},
   "outputs": [
    {
     "data": {
      "text/plain": [
       "(400,)"
      ]
     },
     "execution_count": 27,
     "metadata": {},
     "output_type": "execute_result"
    }
   ],
   "source": [
    "yhat.shape"
   ]
  },
  {
   "cell_type": "code",
   "execution_count": 28,
   "id": "5ba2ed3e",
   "metadata": {},
   "outputs": [
    {
     "data": {
      "image/png": "[encoded data removed]",
      "text/plain": [
       "<Figure size 504x504 with 1 Axes>"
      ]
     },
     "metadata": {
      "needs_background": "light"
     },
     "output_type": "display_data"
    }
   ],
   "source": [
    "f, ax = plt.subplots(figsize=(7,7))\n",
    "\n",
    "ax.scatter(xsample[:,1],ysample, label='Muestra con ruido')\n",
    "ax.plot(xpoly,ypoly, color='green', label='Proceso real') # Calculado arriba\n",
    "ax.plot(xspace[:],yhat, color='red', label='Aprox. lineal')\n",
    "plt.legend()\n",
    "plt.show()"
   ]
  },
  {
   "cell_type": "code",
   "execution_count": 29,
   "id": "9733643f",
   "metadata": {},
   "outputs": [
    {
     "data": {
      "image/png": "[encoded data removed]",
      "text/plain": [
       "<Figure size 504x504 with 1 Axes>"
      ]
     },
     "metadata": {
      "needs_background": "light"
     },
     "output_type": "display_data"
    }
   ],
   "source": [
    "f, ax = plt.subplots(figsize=(7,7))\n",
    "\n",
    "ax.scatter(xsample[:,1],ysample, label='Muestra con ruido')\n",
    "ax.plot(xpoly,ypoly, color='green', label='Proceso real') # Calculado arriba\n",
    "ax.plot(xspace[:],yhat, color='red', label='Aprox. lineal')\n",
    "ax.set_xlim(-2,-1)\n",
    "plt.legend()\n",
    "plt.show()"
   ]
  },
  {
   "cell_type": "code",
   "execution_count": 31,
   "id": "f21f82fa",
   "metadata": {},
   "outputs": [
    {
     "data": {
      "image/png": "[encoded data removed]",
      "text/plain": [
       "<Figure size 504x504 with 1 Axes>"
      ]
     },
     "metadata": {
      "needs_background": "light"
     },
     "output_type": "display_data"
    }
   ],
   "source": [
    "f, ax = plt.subplots(figsize=(7,7))\n",
    "\n",
    "ax.scatter(xsample[:,1],ysample, label='Muestra con ruido')\n",
    "ax.plot(xpoly,ypoly, color='green', label='Proceso real') # Calculado arriba\n",
    "ax.plot(xspace[:],yhat, color='red', label='Aprox. lineal')\n",
    "ax.set_xlim(-1.2,-1)\n",
    "ax.set_ylim(-10,-5)\n",
    "plt.legend()\n",
    "plt.show()"
   ]
  },
  {
   "cell_type": "code",
   "execution_count": null,
   "id": "4d4c9092",
   "metadata": {},
   "outputs": [],
   "source": []
  }
 ],
 "metadata": {
  "kernelspec": {
   "display_name": "Python 3 (ipykernel)",
   "language": "python",
   "name": "python3"
  },
  "language_info": {
   "codemirror_mode": {
    "name": "ipython",
    "version": 3
   },
   "file_extension": ".py",
   "mimetype": "text/x-python",
   "name": "python",
   "nbconvert_exporter": "python",
   "pygments_lexer": "ipython3",
   "version": "3.8.10"
  }
 },
 "nbformat": 4,
 "nbformat_minor": 5
}
