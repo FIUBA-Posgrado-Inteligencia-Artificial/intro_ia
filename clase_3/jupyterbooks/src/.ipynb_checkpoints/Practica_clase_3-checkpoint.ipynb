{
 "cells": [
  {
   "cell_type": "code",
   "execution_count": 8,
   "id": "aaf94e0a",
   "metadata": {},
   "outputs": [],
   "source": [
    "import numpy as np\n",
    "import pandas as pd\n",
    "from sklearn import *"
   ]
  },
  {
   "cell_type": "code",
   "execution_count": 11,
   "id": "65843123",
   "metadata": {},
   "outputs": [],
   "source": [
    "data = np.loadtxt('../data/clase3v2.csv', delimiter = ';')"
   ]
  },
  {
   "cell_type": "markdown",
   "id": "bc637a8c",
   "metadata": {},
   "source": [
    "El dataset 'clase3v2.csv' es un dataset sintético para un problema de regresión. Su columna target es la última. "
   ]
  },
  {
   "cell_type": "markdown",
   "id": "c51994ab",
   "metadata": {},
   "source": [
    "# Ejercicio 1\n",
    "\n",
    "Crear una función que remueva filas y columnas con NaNs."
   ]
  },
  {
   "cell_type": "code",
   "execution_count": null,
   "id": "3cfc1af6",
   "metadata": {},
   "outputs": [],
   "source": [
    "def func():\n",
    "    return NotImplemented"
   ]
  },
  {
   "cell_type": "markdown",
   "id": "808ffcaa",
   "metadata": {},
   "source": [
    "# Ejercicio 2\n",
    "\n",
    "Crear una función que reemplace NaN por la media y otra con la mediana de la columna."
   ]
  },
  {
   "cell_type": "code",
   "execution_count": null,
   "id": "4d824cde",
   "metadata": {},
   "outputs": [],
   "source": [
    "def func():\n",
    "    return NotImplemented"
   ]
  },
  {
   "cell_type": "markdown",
   "id": "b77ad81a",
   "metadata": {},
   "source": [
    "# Ejercicio 3\n",
    "\n",
    "Crear una función que separe los datos en train-validation-test 70-20-10\n",
    "\n",
    "\n",
    "Hints: \n",
    "\n",
    "* Usar Indexing y slicing\n",
    "* Usar np.random.[...]"
   ]
  },
  {
   "cell_type": "code",
   "execution_count": null,
   "id": "1aa81f0d",
   "metadata": {},
   "outputs": [],
   "source": [
    "def data_split(data):\n",
    "    # ... \n",
    "    return train, validation, test"
   ]
  },
  {
   "cell_type": "markdown",
   "id": "d481762b",
   "metadata": {},
   "source": [
    "# Ejercicio 4\n",
    "\n",
    "Tomar una matrix numpy y agregarle **una columna y una fila** de 1's\n",
    "\n",
    "Puede usar \n",
    "\n",
    "$$\n",
    "  A =\n",
    "  \\left[ {\\begin{array}{ccc}\n",
    "    -2 & -4 & 2 \\\\\n",
    "    -2 & 1 & 2 \\\\\n",
    "    4 & 2 & 5 \\\\\n",
    "  \\end{array} } \\right]\n",
    "$$\n",
    "\n"
   ]
  },
  {
   "cell_type": "markdown",
   "id": "cea5e862",
   "metadata": {},
   "source": [
    "# Ejercicio 5\n",
    "\n",
    "Implementar la función regresión lineal **con término independiente**. \n",
    "\n",
    "Considerar el caso en que $X^TX$ no sea invertible. "
   ]
  },
  {
   "cell_type": "code",
   "execution_count": null,
   "id": "0f842b37",
   "metadata": {},
   "outputs": [],
   "source": [
    "def regresion_lineal(x,y):\n",
    "    return NotImplemented"
   ]
  },
  {
   "cell_type": "markdown",
   "id": "f086c2c6",
   "metadata": {},
   "source": [
    "# Ejercicio 6\n",
    "\n",
    "Fittear la regresión lineal a los datos cargados. "
   ]
  },
  {
   "cell_type": "code",
   "execution_count": null,
   "id": "13a00ffc",
   "metadata": {},
   "outputs": [],
   "source": []
  },
  {
   "cell_type": "markdown",
   "id": "53d5f573",
   "metadata": {},
   "source": [
    "# Ejercicio 7\n",
    "\n",
    "Graficar los puntos y la recta ajustada."
   ]
  },
  {
   "cell_type": "markdown",
   "id": "217f6ccf",
   "metadata": {},
   "source": [
    "# Ejercicio 8 \n",
    "\n",
    "Repetir el ajuste anterior utilizando la regresión lineal de sklearn."
   ]
  },
  {
   "cell_type": "code",
   "execution_count": null,
   "id": "f447fe76",
   "metadata": {},
   "outputs": [],
   "source": []
  }
 ],
 "metadata": {
  "kernelspec": {
   "display_name": "Python 3 (ipykernel)",
   "language": "python",
   "name": "python3"
  },
  "language_info": {
   "codemirror_mode": {
    "name": "ipython",
    "version": 3
   },
   "file_extension": ".py",
   "mimetype": "text/x-python",
   "name": "python",
   "nbconvert_exporter": "python",
   "pygments_lexer": "ipython3",
   "version": "3.8.10"
  }
 },
 "nbformat": 4,
 "nbformat_minor": 5
}
