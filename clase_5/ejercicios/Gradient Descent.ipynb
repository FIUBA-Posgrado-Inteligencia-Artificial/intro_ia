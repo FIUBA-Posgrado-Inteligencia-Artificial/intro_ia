{
 "cells": [
  {
   "cell_type": "markdown",
   "metadata": {},
   "source": [
    "# Optimización - Gradient Descent"
   ]
  },
  {
   "cell_type": "code",
   "execution_count": 1,
   "metadata": {},
   "outputs": [],
   "source": [
    "import numpy as np\n",
    "import matplotlib.pyplot as plt"
   ]
  },
  {
   "cell_type": "code",
   "execution_count": 2,
   "metadata": {},
   "outputs": [],
   "source": [
    "np.random.normal(loc=0,scale=1,size=(200,1))"
   ]
  },
  {
   "cell_type": "code",
   "execution_count": 8,
   "metadata": {},
   "outputs": [],
   "source": [
    "x = np.linspace(-2,2,50).reshape(50,1)\n",
    "y = 1 + 2*x + np.random.normal(loc=0,scale=1,size=(50,1))"
   ]
  },
  {
   "cell_type": "code",
   "execution_count": 13,
   "metadata": {},
   "outputs": [
    {
     "data": {
      "image/png": "[encoded data removed]",
      "text/plain": [
       "<Figure size 432x288 with 1 Axes>"
      ]
     },
     "metadata": {
      "needs_background": "light"
     },
     "output_type": "display_data"
    }
   ],
   "source": [
    "plt.scatter(x,y)\n",
    "plt.show()"
   ]
  },
  {
   "cell_type": "markdown",
   "metadata": {},
   "source": [
    "# Ejercicio 1"
   ]
  },
  {
   "cell_type": "markdown",
   "metadata": {},
   "source": [
    "## 1.a Dado el dataset anterior, calcular la forma cerrada de una regresión lineal considerando la ordenada al origen. \n",
    "\n",
    "$$w^* = (X^TX)^{-1} X^Ty $$"
   ]
  },
  {
   "cell_type": "code",
   "execution_count": null,
   "metadata": {},
   "outputs": [],
   "source": []
  },
  {
   "cell_type": "markdown",
   "metadata": {},
   "source": [
    "## 1.b Calcular las predicciones sobre el dataset original\n",
    "\n",
    "$$\\hat{y}= X w^* $$"
   ]
  },
  {
   "cell_type": "code",
   "execution_count": null,
   "metadata": {},
   "outputs": [],
   "source": []
  },
  {
   "cell_type": "markdown",
   "metadata": {},
   "source": [
    "## 1.c Calcular el error de las predicciones\n",
    "\n",
    "$$ e = y - \\hat{y}$$"
   ]
  },
  {
   "cell_type": "code",
   "execution_count": null,
   "metadata": {},
   "outputs": [],
   "source": []
  },
  {
   "cell_type": "markdown",
   "metadata": {},
   "source": [
    "## 1.d Computar el valor del gradiente\n",
    "\n",
    "\\begin{align}\n",
    "     \\nabla_w J(w) &= \\nabla_w \\Big( \\sum_{i} (y_i - X_i W)^2 \\Big) \\\\\n",
    "     &= \\sum_{i} \\Big( \\nabla_w (y_i - X_i W)^2 \\Big) \\\\\n",
    "    &=  \\sum_i \\Big( \\nabla_w (y_i - (x_{i1}w_1 + x_{i2}w_2+ \\cdots + x_{im}w_m))^2 \\Big)\\\\\n",
    "    &=  \\sum_i \\Big( -2 (y_i - \\hat{y}_i) x_{ij} \\Big) \\hspace{1cm} \\forall j \\in (1 \\cdots m)\\\\\n",
    "    &= \\begin{bmatrix} \\sum_i \\Big( -2 (y_i - \\hat{y}_i) x_{i1} \\Big) \\\\ \\vdots \\\\ \\sum_i \\Big( -2 (y_i - \\hat{y}_i) x_{im} \\Big) \\end{bmatrix}\n",
    "\\end{align}"
   ]
  },
  {
   "cell_type": "code",
   "execution_count": null,
   "metadata": {},
   "outputs": [],
   "source": []
  },
  {
   "cell_type": "markdown",
   "metadata": {},
   "source": [
    "# Ejercicio 2"
   ]
  },
  {
   "cell_type": "markdown",
   "metadata": {},
   "source": [
    "# 2.a Implementar gradient descent con Numpy"
   ]
  },
  {
   "cell_type": "markdown",
   "metadata": {},
   "source": [
    "for *epoch* in **n_epochs**:\n",
    "1. Calcular las predicciones para todas las muestras $\\hat{y}$\n",
    "2. Calcular el error entre la salida real y las predicciones.\n",
    "3. Calcular el gradiente usando todas las muestras.\n",
    "4. Actualizar todos los parámetros del modelo."
   ]
  },
  {
   "cell_type": "code",
   "execution_count": 1,
   "metadata": {},
   "outputs": [],
   "source": [
    "# Ejercicio: Implementar GD vectorizado en NumPy\n",
    "def gradient_descent(X_train, y_train, lr=0.01, epochs=100):\n",
    "\n",
    "\n",
    "    # Inicializar parámetros\n",
    "\n",
    "    for i in range(amt_epochs):\n",
    "        # Calcular predicciones\n",
    "        \n",
    "        # Calcular error\n",
    "\n",
    "        # Calcular gradientes\n",
    "\n",
    "        # Actualizar parámetros\n",
    "\n",
    "    return NotImplemented"
   ]
  },
  {
   "cell_type": "markdown",
   "metadata": {},
   "source": [
    "## 2.b Implementar Stochastic Gradient Descent con Numpy"
   ]
  },
  {
   "cell_type": "markdown",
   "metadata": {},
   "source": [
    "for *epoch* in **n_epochs**:\n",
    "* Mezclar las muestras (shuffle)\n",
    "* for *sample* in **n_samples**:\n",
    "    1. Calcular la predicción para la muestra $\\hat{y_{i}}$\n",
    "    2. Calcular el error entre la salida real y la predicción.\n",
    "    3. Calcular el gradiente usando la muestra.\n",
    "    4. Actualizar todos los parámetros del modelo."
   ]
  },
  {
   "cell_type": "code",
   "execution_count": 5,
   "metadata": {},
   "outputs": [],
   "source": [
    "def stochastic_gradient_descent(X_train, y_train, lr=0.01, amt_epochs=100):\n",
    "    \n",
    "    # Inicializar parámetros\n",
    "\n",
    "    # Iterate over the n_epochs\n",
    "    for i in range(epochs):\n",
    "        \n",
    "        # Mezclar muestras / Tomar índices aleatorios\n",
    "\n",
    "        # Iterar sobre el dataset aplicando GD\n",
    "\n",
    "\n",
    "    return W\n"
   ]
  },
  {
   "cell_type": "markdown",
   "metadata": {},
   "source": [
    "## 2.c Implementar Mini-Batch Gradient Descent con Numpy"
   ]
  },
  {
   "cell_type": "markdown",
   "metadata": {},
   "source": [
    "for *epoch* in **n_epochs**:\n",
    "* Mezclar los **batches** (shuffle)\n",
    "* for *batch* in **n_batches**:\n",
    "    1. Calcular las predicciones para el batch $\\hat{y_{batch}}$\n",
    "    2. Calcular el error entre las salidas reales del batch y las predicciones.\n",
    "    3. Calcular el gradiente para el batch.\n",
    "    4. Actualizar todos los parámetros del modelo."
   ]
  },
  {
   "cell_type": "code",
   "execution_count": 9,
   "metadata": {},
   "outputs": [],
   "source": [
    "def mini_batch_gradient_descent(X_train, y_train, lr=0.01, epochs=100, batch_size=16):\n",
    "    \n",
    "\n",
    "    # Inicializar parámetros\n",
    "   \n",
    "    # Iterar las epochs\n",
    "    for i in range(epochs):\n",
    "        \n",
    "        # Mezclar samples / Índices aleatorios \n",
    "\n",
    " \n",
    "        # Iterar sobre los batches\n",
    "        \n",
    "        for i ...:\n",
    "            # Implementar Gradient Descent tomando los \"tramos\" de \n",
    "            # dataset correspondientes al batch\n",
    "\n",
    "    return W"
   ]
  },
  {
   "cell_type": "markdown",
   "metadata": {},
   "source": [
    "# Ejercicio 3"
   ]
  },
  {
   "cell_type": "markdown",
   "metadata": {},
   "source": [
    "## 3.a Calcular los pesos con los tres algoritmos. Comparar los resultados entre sí y con la solución cerrada"
   ]
  },
  {
   "cell_type": "markdown",
   "metadata": {},
   "source": [
    "## 3.b Computar los tiempos de ejecución de los cuatro métodos y comparar. "
   ]
  },
  {
   "cell_type": "markdown",
   "metadata": {},
   "source": [
    "Utilizar %%timeit. Para más información ejecutar %%timeit?"
   ]
  },
  {
   "cell_type": "code",
   "execution_count": 28,
   "metadata": {},
   "outputs": [
    {
     "name": "stdout",
     "output_type": "stream",
     "text": [
      "20.4 ns ± 1.06 ns per loop (mean ± std. dev. of 5 runs, 1,000 loops each)\n"
     ]
    }
   ],
   "source": [
    "# Ejemplo de timeit\n",
    "%%timeit -n 1000 -r 5 \n",
    "11 - 2"
   ]
  }
 ],
 "metadata": {
  "kernelspec": {
   "display_name": "Python 3 (ipykernel)",
   "language": "python",
   "name": "python3"
  },
  "language_info": {
   "codemirror_mode": {
    "name": "ipython",
    "version": 3
   },
   "file_extension": ".py",
   "mimetype": "text/x-python",
   "name": "python",
   "nbconvert_exporter": "python",
   "pygments_lexer": "ipython3",
   "version": "3.8.10"
  }
 },
 "nbformat": 4,
 "nbformat_minor": 4
}
