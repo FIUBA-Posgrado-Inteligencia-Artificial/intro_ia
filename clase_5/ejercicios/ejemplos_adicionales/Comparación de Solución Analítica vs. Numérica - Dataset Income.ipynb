{
 "cells": [
  {
   "cell_type": "markdown",
   "metadata": {},
   "source": [
    "# Comparación de Solución Analítica vs. Numérica - Dataset Income"
   ]
  },
  {
   "cell_type": "markdown",
   "metadata": {},
   "source": [
    "En éste notebook vamos a comparar los resultados obtenidos para el dataset de income-happiness con la solución cerrada de las clases 3 y 4, con los métodos de optimización vistos en la clase (GD, SGD y MBGD). Compararemos asimismo los tiempos de ejecución de éstos tres métodos."
   ]
  },
  {
   "cell_type": "markdown",
   "metadata": {},
   "source": [
    "### Cargamos las librerías"
   ]
  },
  {
   "cell_type": "code",
   "execution_count": 1,
   "metadata": {},
   "outputs": [],
   "source": [
    "import numpy as np\n",
    "import time\n",
    "import matplotlib.pyplot as plt"
   ]
  },
  {
   "cell_type": "code",
   "execution_count": 2,
   "metadata": {},
   "outputs": [],
   "source": [
    "import sys  \n",
    "sys.path.insert(0, '../../clase_3/ejercicios/src')"
   ]
  },
  {
   "cell_type": "markdown",
   "metadata": {},
   "source": [
    "### Cargamos los módulos de métricas, dataset, modelos y optimización"
   ]
  },
  {
   "cell_type": "code",
   "execution_count": 3,
   "metadata": {},
   "outputs": [],
   "source": [
    "from dataset_income import Data\n",
    "from metrics import MSE\n",
    "from models import ConstantModel, LinearRegression, LinearRegressionWithB\n",
    "from gradient_descent import gradient_descent, stochastic_gradient_descent, mini_batch_gradient_descent"
   ]
  },
  {
   "cell_type": "markdown",
   "metadata": {},
   "source": [
    "### Cargamos y Analizamos los Datos"
   ]
  },
  {
   "cell_type": "code",
   "execution_count": 5,
   "metadata": {},
   "outputs": [],
   "source": [
    "# Cargamos los datos\n",
    "\n",
    "dataset = Data(r'../../clase_3/ejercicios/data/income.csv')\n",
    "X_train, X_test, y_train, y_test = dataset.split(0.8)"
   ]
  },
  {
   "cell_type": "code",
   "execution_count": 6,
   "metadata": {},
   "outputs": [
    {
     "data": {
      "text/plain": [
       "(398,)"
      ]
     },
     "execution_count": 6,
     "metadata": {},
     "output_type": "execute_result"
    }
   ],
   "source": [
    "X_train.shape"
   ]
  },
  {
   "cell_type": "code",
   "execution_count": 8,
   "metadata": {},
   "outputs": [
    {
     "data": {
      "image/png": "[encoded data removed]",
      "text/plain": [
       "<Figure size 432x288 with 1 Axes>"
      ]
     },
     "metadata": {
      "needs_background": "light"
     },
     "output_type": "display_data"
    }
   ],
   "source": [
    "plt.scatter(X_train, y_train)\n",
    "plt.show()"
   ]
  },
  {
   "cell_type": "markdown",
   "metadata": {},
   "source": [
    "### Corremos los modelos (solución cerrada)"
   ]
  },
  {
   "cell_type": "code",
   "execution_count": 9,
   "metadata": {},
   "outputs": [],
   "source": [
    "linear_regression = LinearRegression()\n",
    "linear_regression.fit(X_train, y_train)\n",
    "lr_y_hat = linear_regression.predict(X_test)"
   ]
  },
  {
   "cell_type": "code",
   "execution_count": 10,
   "metadata": {},
   "outputs": [],
   "source": [
    "linear_regression_b = LinearRegressionWithB()\n",
    "linear_regression_b.fit(X_train, y_train)\n",
    "lrb_y_hat = linear_regression_b.predict(X_test)"
   ]
  },
  {
   "cell_type": "code",
   "execution_count": 11,
   "metadata": {},
   "outputs": [],
   "source": [
    "constant_model = ConstantModel()\n",
    "constant_model.fit(X_train, y_train)\n",
    "ct_y_hat = constant_model.predict(X_test)"
   ]
  },
  {
   "cell_type": "code",
   "execution_count": 12,
   "metadata": {},
   "outputs": [],
   "source": [
    "mse = MSE()\n",
    "lr_mse = mse(y_test, lr_y_hat)\n",
    "lrb_mse = mse(y_test, lrb_y_hat)\n",
    "ct_mse = mse(y_test, ct_y_hat)"
   ]
  },
  {
   "cell_type": "code",
   "execution_count": 13,
   "metadata": {},
   "outputs": [],
   "source": [
    "x_plot = np.linspace(0, 10, 10)\n",
    "lr_y_plot = linear_regression.model * x_plot\n",
    "lrb_y_plot = linear_regression_b.model[0] * x_plot + linear_regression_b.model[1]"
   ]
  },
  {
   "cell_type": "markdown",
   "metadata": {},
   "source": [
    "### Corremos los Optimizadores (solución numérica)"
   ]
  },
  {
   "cell_type": "markdown",
   "metadata": {},
   "source": [
    "#### Gradient Descent"
   ]
  },
  {
   "cell_type": "code",
   "execution_count": 14,
   "metadata": {},
   "outputs": [
    {
     "name": "stdout",
     "output_type": "stream",
     "text": [
      "GRADIENT DESCENT VS LINEAR REGRESSION\n",
      "W_manual:  [0.7611742]\n",
      "W_real:    0.7611741959511212\n",
      "Manual time [s]: 0.015799283981323242\n"
     ]
    }
   ],
   "source": [
    "# run gradient descent and compare with the linear model (no intercept)\n",
    "print('GRADIENT DESCENT VS LINEAR REGRESSION')\n",
    "\n",
    "# Hyperparameters\n",
    "\n",
    "# Set up the learning rate\n",
    "lr_1 = 0.001\n",
    "# Set up the n° of epochs\n",
    "amt_epochs_1 = 1000\n",
    "\n",
    "# Calculate algorithm time\n",
    "start = time.time()\n",
    "# Get the weights \"manually\"\n",
    "W_manual = gradient_descent(X_train.reshape(-1, 1), y_train.reshape(-1, 1), lr=lr_1, amt_epochs=amt_epochs_1)\n",
    "time_1 = time.time() - start\n",
    "# Compare with the closed form weights\n",
    "W_real = linear_regression.model\n",
    "\n",
    "print('W_manual:  {}\\nW_real:    {}\\nManual time [s]: {}'.format(W_manual.reshape(-1), W_real, time_1))"
   ]
  },
  {
   "cell_type": "code",
   "execution_count": 15,
   "metadata": {},
   "outputs": [
    {
     "name": "stdout",
     "output_type": "stream",
     "text": [
      "GRADIENT DESCENT VS LINEAR REGRESSION WITH B\n",
      "W_manual:  [0.70358195 0.29528936]\n",
      "W_real:    [0.70358195 0.29528936]\n",
      "Manual time [s]: 1.228255271911621\n"
     ]
    }
   ],
   "source": [
    "# run gradient descent and compare with the affine model (with intercept)\n",
    "\n",
    "print('GRADIENT DESCENT VS LINEAR REGRESSION WITH B')\n",
    "# Expand the input with a column of \"1\"\n",
    "X_expanded = np.vstack((X_train, np.ones(len(X_train)))).T\n",
    "\n",
    "# Hyperparameters\n",
    "\n",
    "# Set up the learning rate\n",
    "lr_2 = 0.001\n",
    "# Set up the n° of epochs\n",
    "amt_epochs_2 = 100000\n",
    "\n",
    "# Calculate algorithm time\n",
    "start = time.time()\n",
    "# Get the weights \"manually\"\n",
    "W_manual = gradient_descent(X_expanded, y_train.reshape(-1, 1), lr=lr_2, amt_epochs=amt_epochs_2)\n",
    "time_2 = time.time() - start\n",
    "# Compare with the closed form weights\n",
    "W_real = linear_regression_b.model\n",
    "\n",
    "print('W_manual:  {}\\nW_real:    {}\\nManual time [s]: {}'.format(W_manual.reshape(-1), W_real, time_2))"
   ]
  },
  {
   "cell_type": "markdown",
   "metadata": {},
   "source": [
    "#### Stochastic Gradient Descent"
   ]
  },
  {
   "cell_type": "code",
   "execution_count": 16,
   "metadata": {},
   "outputs": [
    {
     "name": "stdout",
     "output_type": "stream",
     "text": [
      "STOCHASTIC GRADIENT DESCENT VS LINEAR REGRESSION WITH B\n",
      "W_manual:  [0.71386272 0.29732352]\n",
      "W_real:    [0.70358195 0.29528936]\n",
      "Manual time [s]: 3.4144303798675537\n"
     ]
    }
   ],
   "source": [
    "# run stochastic gradient descent and compare with the affine model (with intercept)\n",
    "\n",
    "print('STOCHASTIC GRADIENT DESCENT VS LINEAR REGRESSION WITH B')\n",
    "# Expand the input with a column of \"1\"\n",
    "X_expanded = np.vstack((X_train, np.ones(len(X_train)))).T\n",
    "\n",
    "# Hyperparameters\n",
    "\n",
    "# Set up the learning rate\n",
    "lr_3 = 0.05\n",
    "# Set up the n° of epochs\n",
    "amt_epochs_3 = 1000\n",
    "\n",
    "# Calculate algorithm time\n",
    "start = time.time()\n",
    "# Get the weights \"manually\"\n",
    "W_manual = stochastic_gradient_descent(X_expanded, y_train.reshape(-1, 1), lr=lr_3, amt_epochs=amt_epochs_3)\n",
    "time_3 = time.time() - start\n",
    "# Compare with the closed form weights\n",
    "W_real = linear_regression_b.model\n",
    "print('W_manual:  {}\\nW_real:    {}\\nManual time [s]: {}'.format(W_manual.reshape(-1), W_real, time_3))"
   ]
  },
  {
   "cell_type": "markdown",
   "metadata": {},
   "source": [
    "#### Mini-Batch Gradient Descent"
   ]
  },
  {
   "cell_type": "code",
   "execution_count": 17,
   "metadata": {},
   "outputs": [
    {
     "name": "stdout",
     "output_type": "stream",
     "text": [
      "MINI BATCH GRADIENT DESCENT VS LINEAR REGRESSION WITH B\n",
      "W_manual:  [0.69880062 0.29455838]\n",
      "W_real:    [0.70358195 0.29528936]\n",
      "Manual time [s]: 1.103524923324585\n"
     ]
    }
   ],
   "source": [
    "# run mini-batch gradient descent and compare with the affine model (with intercept)\n",
    "\n",
    "print('MINI BATCH GRADIENT DESCENT VS LINEAR REGRESSION WITH B')\n",
    "# Expand the input with a column of \"1\"\n",
    "X_expanded = np.vstack((X_train, np.ones(len(X_train)))).T\n",
    "\n",
    "# Hyperparameters\n",
    "\n",
    "# Set up the learning rate\n",
    "lr_4 = 0.05\n",
    "# Set up the n° of epochs\n",
    "amt_epochs_4 = 5000\n",
    "\n",
    "# Calculate algorithm time\n",
    "start = time.time()\n",
    "# Get the weights \"manually\"\n",
    "W_manual = mini_batch_gradient_descent(X_expanded, y_train.reshape(-1, 1), lr=lr_4, amt_epochs=amt_epochs_4)\n",
    "time_4 = time.time() - start\n",
    "# Compare with the closed form weights\n",
    "W_real = linear_regression_b.model\n",
    "\n",
    "print('W_manual:  {}\\nW_real:    {}\\nManual time [s]: {}'.format(W_manual.reshape(-1), W_real, time_4))"
   ]
  },
  {
   "cell_type": "markdown",
   "metadata": {},
   "source": [
    "### Gráficos"
   ]
  },
  {
   "cell_type": "code",
   "execution_count": 30,
   "metadata": {},
   "outputs": [
    {
     "data": {
      "image/png": "[encoded data removed]",
      "text/plain": [
       "<Figure size 1440x720 with 3 Axes>"
      ]
     },
     "metadata": {
      "needs_background": "light"
     },
     "output_type": "display_data"
    }
   ],
   "source": [
    "plt.figure(figsize=(20, 10))\n",
    "x_plot = np.linspace(1, 4, 4)\n",
    "legend = ['GD', 'GD(B)', 'S-GD(B)', 'MB-GD(B)']\n",
    "\n",
    "plt.subplot(1, 3, 1)\n",
    "plt.gca().set_title('Learning Rate')\n",
    "y_plot = [lr_1, lr_2, lr_3, lr_4]\n",
    "plt.plot(x_plot[0], y_plot[0], 'o', x_plot[1], y_plot[1], 'o', x_plot[2], y_plot[2], 'o', x_plot[3], y_plot[3], 'o')\n",
    "plt.legend(legend)\n",
    "for x, y in zip(x_plot, y_plot):\n",
    "    plt.text(x, y, str(y))\n",
    "\n",
    "plt.subplot(1, 3, 2)\n",
    "plt.gca().set_title('Epochs')\n",
    "y_plot = [amt_epochs_1, amt_epochs_2, amt_epochs_3, amt_epochs_4]\n",
    "plt.plot(x_plot[0], y_plot[0], 'o', x_plot[1], y_plot[1], 'o', x_plot[2], y_plot[2], 'o', x_plot[3], y_plot[3], 'o')\n",
    "plt.legend(legend)\n",
    "for x, y in zip(x_plot, y_plot):\n",
    "    plt.text(x, y, str(y))\n",
    "\n",
    "plt.subplot(1, 3, 3)\n",
    "plt.gca().set_title('Time')\n",
    "y_plot = [time_1, time_2, time_3, time_4]\n",
    "plt.plot(x_plot[0], y_plot[0], 'o', x_plot[1], y_plot[1], 'o', x_plot[2], y_plot[2], 'o', x_plot[3], y_plot[3], 'o')\n",
    "plt.legend(legend)\n",
    "for x, y in zip(x_plot, y_plot):\n",
    "    plt.text(x, y, str(y))\n",
    "\n",
    "plt.show()"
   ]
  }
 ],
 "metadata": {
  "kernelspec": {
   "display_name": "Python 3 (ipykernel)",
   "language": "python",
   "name": "python3"
  },
  "language_info": {
   "codemirror_mode": {
    "name": "ipython",
    "version": 3
   },
   "file_extension": ".py",
   "mimetype": "text/x-python",
   "name": "python",
   "nbconvert_exporter": "python",
   "pygments_lexer": "ipython3",
   "version": "3.8.10"
  }
 },
 "nbformat": 4,
 "nbformat_minor": 4
}
