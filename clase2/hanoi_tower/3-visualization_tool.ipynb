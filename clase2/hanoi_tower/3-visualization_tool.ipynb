{
 "cells": [
  {
   "attachments": {},
   "cell_type": "markdown",
   "id": "9dc3793379ee6eb9",
   "metadata": {
    "collapsed": false,
    "jupyter": {
     "outputs_hidden": false
    }
   },
   "source": [
    "# Herramienta de visualización\n",
    "**Facundo A. Lucianna - Inteligencia Artificial - CEIA - FIUBA**\n",
    "\n",
    "Un extra que se presenta aquí es básicamente aplicar la solución encontrada por nuestro algoritmo, para ello se creó un visualizador basado en [PyGame](https://www.pygame.org/news) que obtiene un representación de las Torres de Hanoi y realiza la secuencia que nos indique la solución encontrada.\n",
    "\n",
    "![files](./img/hanoi_sim.png)\n",
    "\n",
    "La implementación de esto está en `simulator` y está fuertemente documentado por si les da curiosidad cómo se implementó. Es altamente configurable, tanto en velocidad general como en tamaños y geometrías, todos accesibles desde `constants.py`.\n",
    "\n",
    "Para ejecutar la animación script, desde la línea de comando se debe utilizar el siguiente comando:\n",
    "\n",
    "```bash\n",
    "python3 ./simulation_hanoi.py\n",
    "\n",
    "```\n",
    "\n",
    "Para su funcionamiento, el visualizador depende de dos archivos JSON que deben encontrarse dentro de `simulator`:\n",
    "\n",
    "- `initial_state.json`: Este JSON indica cómo se inicializan los discos y determina cuántos discos habrá en total.\n",
    "- `sequence.json`: Este JSON indica el orden de los movimientos de los discos. \n",
    "\n",
    "El visualizador permite movimientos ilegales dentro del juego de movimientos de discos, y siempre recuerda la altura a la que debe quedar el disco al insertarse en una varilla específica. Sin embargo, no puede realizar movimientos imposibles, como mover un disco que no esté en la varilla correcta o sacar el último disco de una varilla llena. En sí, el visualizador no fallará, pero la animación resultante puede no tener sentido en estos casos.\n",
    "\n",
    "## Requisitos para los programas de búsqueda de soluciones\n",
    "\n",
    "Los programas utilizados para encontrar soluciones deben respetar las siguientes especificaciones para que la solución pueda ser visualizada correctamente en el visualizador.\n",
    "\n",
    "### `initial_state.json`\n",
    "\n",
    "El programa de búsqueda debe generar (o pueden crear manualmente) un JSON con el estado inicial de la ubicación de los discos. Se aceptan cualquier configuración y número de discos (máximo 15 discos).\n",
    "\n",
    "El archivo tiene el siguiente formato:\n",
    "\n",
    "```JSON\n",
    "{\n",
    "  \"peg_1\": [5, 4, 3, 2, 1],\n",
    "  \"peg_2\": [],\n",
    "  \"peg_3\": []\n",
    "}\n",
    "```\n",
    "\n",
    "Donde `peg_1` es la varilla de la izquierda, `peg_2` es la varilla del medio y `peg_3` es la varilla de la derecha. Para cada varilla se guarda un array con los números correspondientes a cada disco, siendo el 1 el más pequeño y así sucesivamente.\n",
    "\n",
    "Se acepta cualquier configuración siempre y cuando **no se repita** ningún número de disco y todos los discos estén presentes (por ejemplo, si está el disco 4, también deben estar presentes el 1, el 2 y el 3).\n",
    "\n",
    "Este es otro ejemplo válido:\n",
    "\n",
    "```JSON\n",
    "{\n",
    "  \"peg_1\": [6, 2],\n",
    "  \"peg_2\": [8, 7, 4],\n",
    "  \"peg_3\": [1, 5, 3]\n",
    "}\n",
    "```\n",
    "\n",
    "❌ Este es invalido porque falta el disco 4\n",
    "\n",
    "```JSON\n",
    "{\n",
    "  \"peg_1\": [6, 2],\n",
    "  \"peg_2\": [8, 7],\n",
    "  \"peg_3\": [1, 5, 3]\n",
    "}\n",
    "```\n",
    "\n",
    "❌ Este es inválido porque el disco 6 está repetido dos veces\n",
    "\n",
    "```JSON\n",
    "{\n",
    "  \"peg_1\": [6, 2],\n",
    "  \"peg_2\": [8, 7, 6],\n",
    "  \"peg_3\": [1, 5, 3]\n",
    "}\n",
    "```\n",
    "\n",
    "### `sequence.json`\n",
    "\n",
    "El programa de búsqueda debe generar un JSON con la secuencia de movimientos de un disco por vez. \n",
    "\n",
    "El archivo tiene el siguiente formato:\n",
    "\n",
    "```JSON\n",
    "[\n",
    "\t{\n",
    "\t\t\"type\": \"movement\",\n",
    "\t\t\"disk\": 1,\n",
    "\t\t\"peg_start\": 1,\n",
    "\t\t\"peg_end\": 2\n",
    "\t},\n",
    "\t{\n",
    "\t\t\"type\": \"movement\",\n",
    "\t\t\"disk\": 2,\n",
    "\t\t\"peg_start\": 1,\n",
    "\t\t\"peg_end\": 3\n",
    "\t},\n",
    "        .\n",
    "        .\n",
    "        . \n",
    "\t{\n",
    "\t\t\"type\": \"movement\",\n",
    "\t\t\"disk\": 3,\n",
    "\t\t\"peg_start\": 2,\n",
    "\t\t\"peg_end\": 1\n",
    "\t}\n",
    "]\n",
    "```\n",
    "\n",
    "Se observa que es un array de objetos JSON.\n",
    "\n",
    "Cada movimiento indica qué disco (`disk`) se mueve, desde qué varilla (`peg_start`) y hacia qué varilla se inserta (`peg_end`). El script ejecuta el movimiento si es de tipo `movement`. Otros tipos de secuencias son ignorados por el script.\n",
    "\n",
    "---\n",
    "\n",
    "## Usando la implementación que vimos en notebooks anteriores\n",
    "\n",
    "La implementación de la clase `NodeHanoi` para armar los nodos del árbol de búsqueda tiene un método llamado `generate_solution_for_simulator()` el cual automáticamente genera los dos archivos con toda la secuencia desde la raíz hasta el nodo que se está ejecutando el método.\n",
    "\n",
    "Traigamos el algoritmo de búsqueda que implementamos en el anterior notebook:"
   ]
  },
  {
   "cell_type": "code",
   "execution_count": 1,
   "id": "f79a5290-079a-4344-99d7-d69e747f6347",
   "metadata": {},
   "outputs": [],
   "source": [
    "from aima_libs.hanoi_states import ProblemHanoi, StatesHanoi\n",
    "from aima_libs.tree_hanoi import NodeHanoi"
   ]
  },
  {
   "cell_type": "code",
   "execution_count": 2,
   "id": "cb2a9a67-c487-4665-8487-a5b321c5ec2a",
   "metadata": {},
   "outputs": [],
   "source": [
    "def breadth_first_search(number_disks=5):\n",
    "    # Inicializamos el problema\n",
    "    list_disks = [i for i in range(5, 0, -1)]\n",
    "    initial_state = StatesHanoi(list_disks, [], [], max_disks=number_disks)\n",
    "    goal_state = StatesHanoi([], [], list_disks, max_disks=number_disks)\n",
    "    problem = ProblemHanoi(initial=initial_state, goal=goal_state)\n",
    "\n",
    "    # Creamos una cola FIFO con el nodo inicial\n",
    "    frontier = [NodeHanoi(problem.initial)]  \n",
    "\n",
    "    # Creamos el set con estados ya visitados\n",
    "    explored = set()\n",
    "    \n",
    "    node_explored = 0\n",
    "    \n",
    "    while len(frontier) != 0:\n",
    "        node = frontier.pop()\n",
    "        node_explored += 1\n",
    "        \n",
    "        # Agregamos el estado del nodo al set. Esto evita guardar duplicados, porque set nunca tiene elementos repetidos\n",
    "        explored.add(node.state)\n",
    "        \n",
    "        if problem.goal_test(node.state):  # Comprobamos si hemos alcanzado el estado objetivo\n",
    "            metrics = {\n",
    "                \"solution_found\": True,\n",
    "                \"nodes_explored\": node_explored,\n",
    "                \"states_visited\": len(explored),\n",
    "                \"nodes_in_frontier\": len(frontier),\n",
    "                \"max_depth\": node.depth,\n",
    "                \"cost_total\": node.state.accumulated_cost,\n",
    "            }\n",
    "            return node, metrics\n",
    "        \n",
    "        # Agregamos a la cola todos los nodos sucesores del nodo actual\n",
    "        for next_node in node.expand(problem):\n",
    "            # Solo si el estado del nodo no fue explorado\n",
    "            if next_node.state not in explored:\n",
    "                frontier.insert(0, next_node)\n",
    "\n",
    "    # Si no se encontro la solución, devolvemos la métricas igual\n",
    "    metrics = {\n",
    "        \"solution_found\": False,\n",
    "        \"nodes_explored\": node_explored,\n",
    "        \"states_visited\": len(explored),\n",
    "        \"nodes_in_frontier\": len(frontier),\n",
    "        \"max_depth\": node.depth, # OBS: Si no se encontró la solución, este valor solo tiene sentido en breadth_first_search, en otros casos se debe ir llevando registro de cual fue la máxima profundidad\n",
    "        \"cost_total\": None,\n",
    "    }\n",
    "    return None, metrics"
   ]
  },
  {
   "cell_type": "markdown",
   "id": "813dc902-ff41-4c50-91fa-5720935da693",
   "metadata": {},
   "source": [
    "Ejecutemos una búsqueda:"
   ]
  },
  {
   "cell_type": "code",
   "execution_count": 3,
   "id": "768cc0a3-c2d8-46a0-8008-8648e2858d0e",
   "metadata": {},
   "outputs": [],
   "source": [
    "solution, metrics = breadth_first_search(number_disks=5)"
   ]
  },
  {
   "cell_type": "markdown",
   "id": "934d0e1b-1791-405f-a53d-0b834ccc5409",
   "metadata": {},
   "source": [
    "Veamos algunas metricas:"
   ]
  },
  {
   "cell_type": "code",
   "execution_count": 4,
   "id": "43657735-9e67-4931-a4fc-11db96b5735a",
   "metadata": {},
   "outputs": [
    {
     "name": "stdout",
     "output_type": "stream",
     "text": [
      "solution_found: True\n",
      "nodes_explored: 1351\n",
      "states_visited: 233\n",
      "nodes_in_frontier: 285\n",
      "max_depth: 31\n",
      "cost_total: 31.0\n"
     ]
    }
   ],
   "source": [
    "for key, value in metrics.items():\n",
    "    print(f\"{key}: {value}\")"
   ]
  },
  {
   "cell_type": "markdown",
   "id": "32deebf6-2ab1-4573-9aaf-9add84c2939f",
   "metadata": {},
   "source": [
    "Ahora ejecutemos el método que nos genera los archivos para el visualizador:"
   ]
  },
  {
   "cell_type": "code",
   "execution_count": 5,
   "id": "16b4749a-9b5c-4317-996e-eca604d5f748",
   "metadata": {},
   "outputs": [],
   "source": [
    "solution.generate_solution_for_simulator()"
   ]
  },
  {
   "cell_type": "markdown",
   "id": "f32094d1-71da-48c6-b27a-86510b161d88",
   "metadata": {},
   "source": [
    "El método no retorna nada, pero en donde ejecutamos esta notebook se guardaron los dos archivos.\n",
    "\n",
    "![files](./img/files.png)\n",
    "\n",
    "Esos `JSONs` los movemos a la carpeta `simulator` y desde esa carpeta podemos ejecutar:\n",
    "\n",
    "```bash\n",
    "python3 ./simulation_hanoi.py\n",
    "\n",
    "```\n",
    "\n",
    "Para poder visualizar la solución encontrada."
   ]
  },
  {
   "cell_type": "code",
   "execution_count": null,
   "id": "63d60073-69b3-4f57-bb66-aaf16881fb24",
   "metadata": {},
   "outputs": [],
   "source": []
  }
 ],
 "metadata": {
  "kernelspec": {
   "display_name": "Python 3 (ipykernel)",
   "language": "python",
   "name": "python3"
  },
  "language_info": {
   "codemirror_mode": {
    "name": "ipython",
    "version": 3
   },
   "file_extension": ".py",
   "mimetype": "text/x-python",
   "name": "python",
   "nbconvert_exporter": "python",
   "pygments_lexer": "ipython3",
   "version": "3.10.14"
  }
 },
 "nbformat": 4,
 "nbformat_minor": 5
}
