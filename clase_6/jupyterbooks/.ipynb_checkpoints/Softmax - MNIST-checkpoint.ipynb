{
 "cells": [
  {
   "cell_type": "markdown",
   "metadata": {},
   "source": [
    "# Softmax - MNIST"
   ]
  },
  {
   "cell_type": "markdown",
   "metadata": {},
   "source": [
    "En este notebook vamos a ver la implementación de Softmax en NumPy para clasificación multiclase. Vamos a aplicar el modelo al dataset de dígitos escritos a mano de la clase 2. "
   ]
  },
  {
   "cell_type": "markdown",
   "metadata": {},
   "source": [
    "## Cargamos las Librerías"
   ]
  },
  {
   "cell_type": "code",
   "execution_count": 1,
   "metadata": {},
   "outputs": [],
   "source": [
    "import numpy as np\n",
    "import pandas as pd\n",
    "import time\n",
    "import matplotlib.pyplot as plt\n",
    "from sklearn.datasets import load_digits\n",
    "import matplotlib.image as mpimg\n",
    "import matplotlib.pyplot as plt\n",
    "import matplotlib.gridspec as gridspec\n",
    "from sklearn.model_selection import train_test_split\n",
    "from sklearn.decomposition import PCA\n",
    "import itertools\n",
    "import random\n",
    "\n",
    "RANDOM_STATE = 17"
   ]
  },
  {
   "cell_type": "code",
   "execution_count": 2,
   "metadata": {},
   "outputs": [],
   "source": [
    "import sys  \n",
    "sys.path.insert(0, 'C:/Users/Lautaro/PycharmProjects/ceia_intro_a_IA/clase_3/ejercicios/src')"
   ]
  },
  {
   "cell_type": "code",
   "execution_count": 3,
   "metadata": {},
   "outputs": [],
   "source": [
    "from models import BaseModel"
   ]
  },
  {
   "cell_type": "code",
   "execution_count": 4,
   "metadata": {},
   "outputs": [],
   "source": [
    "from metrics import Accuracy, Precision, Recall"
   ]
  },
  {
   "cell_type": "markdown",
   "metadata": {},
   "source": [
    "## Cargamos el Dataset"
   ]
  },
  {
   "cell_type": "code",
   "execution_count": 5,
   "metadata": {},
   "outputs": [
    {
     "name": "stdout",
     "output_type": "stream",
     "text": [
      "Formato del dataset: (1797, 64)\n"
     ]
    }
   ],
   "source": [
    "# Cargamos los datos\n",
    "\n",
    "X, y = load_digits(return_X_y=True)\n",
    "print('Formato del dataset: {}'.format(X.shape))"
   ]
  },
  {
   "cell_type": "code",
   "execution_count": 6,
   "metadata": {},
   "outputs": [
    {
     "name": "stdout",
     "output_type": "stream",
     "text": [
      "Formato de las etiquetas: (1797,)\n"
     ]
    }
   ],
   "source": [
    "print('Formato de las etiquetas: {}'.format(y.shape))"
   ]
  },
  {
   "cell_type": "code",
   "execution_count": 7,
   "metadata": {},
   "outputs": [
    {
     "name": "stdout",
     "output_type": "stream",
     "text": [
      "[0 1 2 3 4 5 6 7 8 9]\n"
     ]
    }
   ],
   "source": [
    "clases = np.unique(y)\n",
    "print(clases)"
   ]
  },
  {
   "cell_type": "code",
   "execution_count": 8,
   "metadata": {},
   "outputs": [
    {
     "data": {
      "text/plain": [
       "<matplotlib.image.AxesImage at 0x1a417352130>"
      ]
     },
     "execution_count": 8,
     "metadata": {},
     "output_type": "execute_result"
    },
    {
     "data": {
      "image/png": "[encoded data removed]",
      "text/plain": [
       "<Figure size 432x288 with 1 Axes>"
      ]
     },
     "metadata": {
      "needs_background": "light"
     },
     "output_type": "display_data"
    }
   ],
   "source": [
    "# Cargamos una muestra\n",
    "\n",
    "plt.grid(True)\n",
    "plt.title(\"Ejemplo de {}\".format(y[8]))\n",
    "plt.imshow(X[8, :].reshape((8, 8)), cmap='gray')"
   ]
  },
  {
   "cell_type": "code",
   "execution_count": 9,
   "metadata": {},
   "outputs": [
    {
     "data": {
      "image/png": "[encoded data removed]",
      "text/plain": [
       "<Figure size 720x720 with 15 Axes>"
      ]
     },
     "metadata": {
      "needs_background": "light"
     },
     "output_type": "display_data"
    }
   ],
   "source": [
    "# Graficamos varias muestras\n",
    "\n",
    "fig = plt.figure(figsize=(10, 10))\n",
    "for i in range(15):  \n",
    "    ax = fig.add_subplot(3, 5, i+1)\n",
    "    ax.imshow(X[i].reshape(8, 8), cmap=plt.get_cmap('gray'))\n",
    "    ax.set_title('Clase:{y}'.format(y=y[i]))\n",
    "    plt.axis('off')"
   ]
  },
  {
   "cell_type": "code",
   "execution_count": 10,
   "metadata": {},
   "outputs": [],
   "source": [
    "# Split del dataset\n",
    "\n",
    "X_train, X_test, y_train, y_test = train_test_split(X, y, test_size=0.2, shuffle=True)"
   ]
  },
  {
   "cell_type": "code",
   "execution_count": 11,
   "metadata": {},
   "outputs": [
    {
     "data": {
      "text/plain": [
       "(1437, 64)"
      ]
     },
     "execution_count": 11,
     "metadata": {},
     "output_type": "execute_result"
    }
   ],
   "source": [
    "X_train.shape"
   ]
  },
  {
   "cell_type": "code",
   "execution_count": 12,
   "metadata": {},
   "outputs": [
    {
     "data": {
      "text/plain": [
       "(1437,)"
      ]
     },
     "execution_count": 12,
     "metadata": {},
     "output_type": "execute_result"
    }
   ],
   "source": [
    "y_train.shape"
   ]
  },
  {
   "cell_type": "markdown",
   "metadata": {},
   "source": [
    "## Creamos el Modelo"
   ]
  },
  {
   "cell_type": "code",
   "execution_count": 13,
   "metadata": {},
   "outputs": [],
   "source": [
    "class Softmax(BaseModel):\n",
    "\n",
    "    def fit(self, X, y, epochs, lr, batchSize, alpha, momentum, verbose=True, log=50):\n",
    "        \n",
    "        \"\"\"\n",
    "        shapes:\n",
    "            X ==> n*m\n",
    "            y ==> n*c\n",
    "            W ==> m*c\n",
    "        \"\"\"\n",
    "        \n",
    "        # inicializamos aleatoriamente los pesos\n",
    "\n",
    "        n = X.shape[0] # numero de muestras\n",
    "        m = X.shape[1] # numero de features\n",
    "        c = np.unique(y).shape[0] # numero de clases\n",
    "\n",
    "        self.model = 0.001 * np.random.rand(m, c)\n",
    "        \n",
    "        # Inicializamos el término de velocidad (comprende el momento + gradiente de epoch)\n",
    "        self.velocity = np.zeros_like(self.model)\n",
    "        \n",
    "        y_hot = self.OneHotEncoding(y)\n",
    "        \n",
    "        train_loss = []\n",
    "\n",
    "        for i in range(epochs):\n",
    "            loss = self.MiniBatchGD(X, y_hot, lr, batchSize, alpha, momentum)\n",
    "            train_loss.append(loss)\n",
    "        \n",
    "            if verbose:\n",
    "                if i%log==0:\n",
    "                    print(\"Epoch: {}, Loss: {}\".format(i, loss))\n",
    "\n",
    "        return train_loss\n",
    "\n",
    "    def MiniBatchGD(self, X, y, lr, batchSize, alpha, momentum):\n",
    "        \n",
    "        losses = []\n",
    "        \n",
    "        # Hcemos un shuffle de los datos\n",
    "        idx = random.sample(range(X.shape[0]), X.shape[0])\n",
    "        X = X[idx]\n",
    "        y = y[idx]\n",
    "        \n",
    "        for i in range(0, X.shape[0], batchSize):\n",
    "            batch_X = X[i:i+batchSize]\n",
    "            batch_y = y[i:i+batchSize]\n",
    "            \n",
    "            loss, dw = self.computeLoss(batch_X, batch_y, alpha)\n",
    "            \n",
    "            self.velocity = (momentum * self.velocity) + (lr * dw)\n",
    "            \n",
    "            self.model -= self.velocity\n",
    "            \n",
    "            losses.append(loss)\n",
    "        \n",
    "        return np.mean(losses)\n",
    "    \n",
    "    def softmaxEquation(self, z):\n",
    "        \n",
    "        # Restamos el máximos por estabilidad numérica\n",
    "        z -= np.max(z)\n",
    "        \n",
    "        prob = (np.exp(z).T / np.sum(np.exp(z), axis=1)).T\n",
    "        \n",
    "        return prob\n",
    "    \n",
    "\n",
    "    def computeLoss(self, X, y, alpha):\n",
    "        \n",
    "        n = X.shape[0]\n",
    "        \n",
    "        # Calculamos el linear mapping y las predicciones con softmax\n",
    "        z = np.dot(X, self.model)\n",
    "        predictions = self.softmaxEquation(z)\n",
    "\n",
    "        # Calculamos el loss total (modelo + regularización)\n",
    "        loss = -np.log(np.max(predictions)) * y\n",
    "        reg_loss = (1/2) * alpha * np.sum(self.model * self.model)\n",
    "        total_loss = (np.sum(loss) / n) + reg_loss\n",
    "        \n",
    "        # Calculamos el gradiente\n",
    "        gradient = ((-1 / n) * np.dot(X.T, (y - predictions))) + (alpha * self.model)\n",
    "        \n",
    "        return total_loss, gradient\n",
    "\n",
    "    \n",
    "    def OneHotEncoding(self, y):\n",
    "        \n",
    "        \"\"\"\n",
    "        shapes:\n",
    "            y     --> nx1 \n",
    "            y_hot --> nxc\n",
    "            c = cantidad de clases    \n",
    "        \"\"\"    \n",
    "        c = np.unique(y).shape[0]\n",
    "\n",
    "        # matriz de ceros de nxc\n",
    "        y_hot = np.zeros((len(y), c))\n",
    "\n",
    "        # indexamos con el valor de y (0,1,...,9) y colocamos un 1\n",
    "        y_hot[np.arange(len(y)), y] = 1\n",
    "\n",
    "        return y_hot\n",
    "    \n",
    "\n",
    "    def predict(self, X):\n",
    "        return np.argmax(X.dot(self.model), axis=1)\n"
   ]
  },
  {
   "cell_type": "code",
   "execution_count": 14,
   "metadata": {},
   "outputs": [
    {
     "data": {
      "text/plain": [
       "16.0"
      ]
     },
     "execution_count": 14,
     "metadata": {},
     "output_type": "execute_result"
    }
   ],
   "source": [
    "np.max(X_train)"
   ]
  },
  {
   "cell_type": "code",
   "execution_count": 15,
   "metadata": {},
   "outputs": [],
   "source": [
    "# Escalamos las features\n",
    "\n",
    "X_train_s = X_train / 16\n",
    "X_test_s = X_test / 16"
   ]
  },
  {
   "cell_type": "code",
   "execution_count": 16,
   "metadata": {},
   "outputs": [],
   "source": [
    "# Seleccionar hiperparámetros\n",
    "\n",
    "lr = 0.01\n",
    "batchSize = 10\n",
    "epochs = 1000\n",
    "alpha = 0.001\n",
    "momentum = 0.05"
   ]
  },
  {
   "cell_type": "code",
   "execution_count": 17,
   "metadata": {},
   "outputs": [
    {
     "name": "stdout",
     "output_type": "stream",
     "text": [
      "Epoch: 0, Loss: 2.0490865518907113\n",
      "Epoch: 50, Loss: 0.09329783000222405\n",
      "Epoch: 100, Loss: 0.08962305166108878\n",
      "Epoch: 150, Loss: 0.09645788058619008\n",
      "Epoch: 200, Loss: 0.10257547315495547\n",
      "Epoch: 250, Loss: 0.10707522503823055\n",
      "Epoch: 300, Loss: 0.11189545977733359\n",
      "Epoch: 350, Loss: 0.11502736763489442\n",
      "Epoch: 400, Loss: 0.11816788371847592\n",
      "Epoch: 450, Loss: 0.11935806024451755\n",
      "Epoch: 500, Loss: 0.1210222690504063\n",
      "Epoch: 550, Loss: 0.12306421561235897\n",
      "Epoch: 600, Loss: 0.1239151826956559\n",
      "Epoch: 650, Loss: 0.12473647229664736\n",
      "Epoch: 700, Loss: 0.12517059586451057\n",
      "Epoch: 750, Loss: 0.1262226630288369\n",
      "Epoch: 800, Loss: 0.1265849266838569\n",
      "Epoch: 850, Loss: 0.12696824756255837\n",
      "Epoch: 900, Loss: 0.12745838462176923\n",
      "Epoch: 950, Loss: 0.1277918383022265\n"
     ]
    }
   ],
   "source": [
    "softmax_clf = Softmax()\n",
    "\n",
    "train_loss = softmax_clf.fit(X_train_s, y_train, epochs=epochs, lr=lr, batchSize=batchSize, alpha=alpha, momentum=momentum)"
   ]
  },
  {
   "cell_type": "markdown",
   "metadata": {},
   "source": [
    "### Predicciones y Matriz de Confusión"
   ]
  },
  {
   "cell_type": "code",
   "execution_count": 21,
   "metadata": {},
   "outputs": [],
   "source": [
    "def getConfusionMatrix(truth, prediction, c):\n",
    "\n",
    "    conf_mtx =[]\n",
    "    \n",
    "    for _ in range(c):\n",
    "        conf_mtx.append([])\n",
    "        for _ in range(c):\n",
    "            conf_mtx[-1].append(0)\n",
    "\n",
    "    for i in range(truth.shape[0]):\n",
    "        conf_mtx[int(truth[i])][int(prediction[i])] += 1\n",
    "    \n",
    "    conf_mtx = np.array(conf_mtx)\n",
    "    \n",
    "    conf_mtx = conf_mtx.astype('float') / conf_mtx.sum(axis=1)[:, np.newaxis]\n",
    "    \n",
    "    return conf_mtx"
   ]
  },
  {
   "cell_type": "code",
   "execution_count": 28,
   "metadata": {},
   "outputs": [],
   "source": [
    "def plotConfusionMatrix(conf_mtx, c):\n",
    "    plt.figure(figsize=(15,15))\n",
    "    plt.imshow(conf_mtx, interpolation='nearest', cmap=plt.cm.Blues)\n",
    "    plt.title(\"Confusion Matrix\")\n",
    "    plt.colorbar()\n",
    "\n",
    "    tick_marks = np.arange(c)\n",
    "    plt.xticks(tick_marks, np.arange(c) , rotation=45)\n",
    "    plt.yticks(tick_marks, np.arange(c))\n",
    "\n",
    "    fmt = '.2f'\n",
    "    thresh = conf_mtx.max() / 2.\n",
    "\n",
    "    for i, j in itertools.product(range(conf_mtx.shape[0]), range(conf_mtx.shape[1])):\n",
    "        plt.text(j, i, format(conf_mtx[i, j], fmt),\n",
    "                 horizontalalignment=\"center\",\n",
    "                 color=\"white\" if conf_mtx[i, j] > thresh else \"black\")\n",
    "\n",
    "        plt.tight_layout()\n",
    "        plt.ylabel('True label')\n",
    "        plt.xlabel('Predicted label')"
   ]
  },
  {
   "cell_type": "code",
   "execution_count": 18,
   "metadata": {},
   "outputs": [],
   "source": [
    "predictions = softmax_clf.predict(X_test_s)"
   ]
  },
  {
   "cell_type": "code",
   "execution_count": 19,
   "metadata": {},
   "outputs": [],
   "source": [
    "Acc = Accuracy()"
   ]
  },
  {
   "cell_type": "code",
   "execution_count": 20,
   "metadata": {},
   "outputs": [
    {
     "data": {
      "text/plain": [
       "0.9638888888888889"
      ]
     },
     "execution_count": 20,
     "metadata": {},
     "output_type": "execute_result"
    }
   ],
   "source": [
    "Acc(y_test, predictions)"
   ]
  },
  {
   "cell_type": "code",
   "execution_count": 29,
   "metadata": {},
   "outputs": [
    {
     "data": {
      "image/png": "[encoded data removed]",
      "text/plain": [
       "<Figure size 1080x1080 with 2 Axes>"
      ]
     },
     "metadata": {
      "needs_background": "light"
     },
     "output_type": "display_data"
    }
   ],
   "source": [
    "conf_mtx = getConfusionMatrix(y_test, predictions, 10)\n",
    "plotConfusionMatrix(conf_mtx, 10)"
   ]
  },
  {
   "cell_type": "code",
   "execution_count": 27,
   "metadata": {},
   "outputs": [
    {
     "data": {
      "image/png": "[encoded data removed]",
      "text/plain": [
       "<Figure size 1080x1080 with 40 Axes>"
      ]
     },
     "metadata": {
      "needs_background": "light"
     },
     "output_type": "display_data"
    }
   ],
   "source": [
    "fig = plt.figure(figsize=(15,15))\n",
    "\n",
    "for i in range(40):  \n",
    "    ax = fig.add_subplot(5, 8, i+1)\n",
    "    ax.imshow(X_test[i].reshape(8, 8), cmap=plt.get_cmap('gray'))    \n",
    "    ax.set_title('real: {y}/ predicción: {y_hat}'.format(y=y_test[i], y_hat=predictions[i]), fontsize=8)\n",
    "    plt.axis('off')"
   ]
  }
 ],
 "metadata": {
  "kernelspec": {
   "display_name": "Python 3 (ipykernel)",
   "language": "python",
   "name": "python3"
  },
  "language_info": {
   "codemirror_mode": {
    "name": "ipython",
    "version": 3
   },
   "file_extension": ".py",
   "mimetype": "text/x-python",
   "name": "python",
   "nbconvert_exporter": "python",
   "pygments_lexer": "ipython3",
   "version": "3.8.10"
  }
 },
 "nbformat": 4,
 "nbformat_minor": 4
}
