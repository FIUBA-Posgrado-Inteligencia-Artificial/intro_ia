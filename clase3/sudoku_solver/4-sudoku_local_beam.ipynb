{
 "cells": [
  {
   "cell_type": "code",
   "execution_count": 1,
   "id": "initial_id",
   "metadata": {
    "jupyter": {
     "is_executing": true
    }
   },
   "outputs": [],
   "source": [
    "from sudoku_stuff import *"
   ]
  },
  {
   "cell_type": "markdown",
   "id": "b8bafd0acf580cb1",
   "metadata": {
    "collapsed": false,
    "jupyter": {
     "outputs_hidden": false
    }
   },
   "source": [
    "# Resolviendo Sudokus con Local Beam Search\n",
    "Inteligencia Artificial - Facundo A. Lucianna - CEIA - FIUBA\n",
    "\n",
    "En las notebooks anteriores intentamos resolver sudokus utilizando los algoritmos de gradiente descendente y simulated annealing.\n",
    "\n",
    "Ahora, a diferencia de los métodos anteriores —donde la búsqueda comenzaba desde un único estado inicial—, la **búsqueda local beam** mantiene la información de **k estados** y realiza la búsqueda de manera independiente sobre cada uno de ellos.\n",
    "\n",
    "Resolvamos el siguiente problema:\n",
    "\n",
    "<div>\n",
    "<img src=\"./sudoku_7.png\" width=\"300\"/>\n",
    "</div>\n",
    "\n",
    "El diccionario de **celdas fijas** queda de la siguiente forma:"
   ]
  },
  {
   "cell_type": "code",
   "execution_count": 2,
   "id": "8a83eafb-55a6-44b2-8aac-eecb5c0eeeaa",
   "metadata": {},
   "outputs": [],
   "source": [
    "fixed_squares = {\n",
    "    'A1': 3, 'A3': 4, 'A4': 5, 'A5': 6, 'A7': 9,\n",
    "    'B1': 1, 'B2': 8, 'B3': 5, 'B6': 9, 'B7': 7,\n",
    "    'C5': 7, 'C6': 8, 'C7': 4, 'C8': 1, 'C9': 5,\n",
    "    'D2': 2, 'D5': 1, 'D8': 4, 'D9': 9,\n",
    "    'E2': 4, 'E3': 9, 'E5': 5, \n",
    "    'F3': 1, \"F4\": 9, \"F5\": 8, \"F7\": 6, \"F8\": 7,\n",
    "    'G1': 4, 'G2': 9, 'G5': 3, 'G9': 7, \n",
    "    'H2': 1, 'H3': 8, 'H4': 7, 'H5': 4, 'H6': 5, 'H9': 6,\n",
    "    'I8': 8,\n",
    "}"
   ]
  },
  {
   "cell_type": "markdown",
   "id": "d741ef6a-6751-4761-b79b-931932cc6c00",
   "metadata": {},
   "source": [
    "Y la solución que tenemos es:"
   ]
  },
  {
   "cell_type": "code",
   "execution_count": 3,
   "id": "c52990e0-9de5-4ce7-ae47-17daf7d1ae60",
   "metadata": {},
   "outputs": [],
   "source": [
    "solution = {\n",
    "    'A1': 3, 'A2': 7, 'A3': 4, 'A4': 5, 'A5': 6, 'A6': 1, 'A7': 9, 'A8': 2, 'A9': 8,\n",
    "    'B1': 1, 'B2': 8, 'B3': 5, 'B4': 4, 'B5': 2, 'B6': 9, 'B7': 7, 'B8': 6, 'B9': 3,\n",
    "    'C1': 9, 'C2': 6, 'C3': 2, 'C4': 3, 'C5': 7, 'C6': 8, 'C7': 4, 'C8': 1, 'C9': 5,\n",
    "    'D1': 8, 'D2': 2, 'D3': 7, 'D4': 6, 'D5': 1, 'D6': 3, 'D7': 5, 'D8': 4, 'D9': 9,\n",
    "    'E1': 6, 'E2': 4, 'E3': 9, 'E4': 2, 'E5': 5, 'E6': 7, 'E7': 8, 'E8': 3, 'E9': 1,\n",
    "    'F1': 5, 'F2': 3, 'F3': 1, 'F4': 9, 'F5': 8, 'F6': 4, 'F7': 6, 'F8': 7, 'F9': 2,\n",
    "    'G1': 4, 'G2': 9, 'G3': 6, 'G4': 8, 'G5': 3, 'G6': 2, 'G7': 1, 'G8': 5, 'G9': 7,\n",
    "    'H1': 2, 'H2': 1, 'H3': 8, 'H4': 7, 'H5': 4, 'H6': 5, 'H7': 3, 'H8': 9, 'H9': 6,\n",
    "    'I1': 7, 'I2': 5, 'I3': 3, 'I4': 1, 'I5': 9, 'I6': 6, 'I7': 2, 'I8': 8, 'I9': 4,\n",
    "}"
   ]
  },
  {
   "cell_type": "code",
   "execution_count": 4,
   "id": "9b13b263-9674-4874-ab0b-592bfcafa00b",
   "metadata": {},
   "outputs": [
    {
     "name": "stdout",
     "output_type": "stream",
     "text": [
      "*---------+---------+---------*\n",
      "| 3  7  4 | 5  6  1 | 9  2  8 |\n",
      "| 1  8  5 | 4  2  9 | 7  6  3 |\n",
      "| 9  6  2 | 3  7  8 | 4  1  5 |\n",
      "*---------+---------+---------*\n",
      "| 8  2  7 | 6  1  3 | 5  4  9 |\n",
      "| 6  4  9 | 2  5  7 | 8  3  1 |\n",
      "| 5  3  1 | 9  8  4 | 6  7  2 |\n",
      "*---------+---------+---------*\n",
      "| 4  9  6 | 8  3  2 | 1  5  7 |\n",
      "| 2  1  8 | 7  4  5 | 3  9  6 |\n",
      "| 7  5  3 | 1  9  6 | 2  8  4 |\n",
      "*---------+---------+---------*\n"
     ]
    }
   ],
   "source": [
    "print_state(solution)"
   ]
  },
  {
   "cell_type": "markdown",
   "id": "1402b8b302abed22",
   "metadata": {
    "collapsed": false,
    "jupyter": {
     "outputs_hidden": false
    }
   },
   "source": [
    "## Implementando la búsqueda por Local Beam\n",
    "\n",
    "Este algoritmo comienza con k estados generados al azar. En cada paso, se generan sucesores para esos **k estados**. Si alguno de los sucesores cumple con el objetivo, el algoritmo termina. En caso contrario, se seleccionan los k mejores sucesores de la lista.\n",
    "\n",
    "A simple vista, podría parecer equivalente a ejecutar k veces el algoritmo de gradiente descendente, pero la diferencia radica en que, entre los procesos de búsqueda, hay un intercambio de información:\n",
    "\n",
    "*Si un estado genera varios sucesores buenos y los otros k–1 estados generan sucesores malos, el efecto es que el primer estado “abandona” la búsqueda de los demás y se queda con los sucesores que él mismo generó.*\n",
    "\n",
    "Veamos la implementación, prestando atención a cada comentario:"
   ]
  },
  {
   "cell_type": "code",
   "execution_count": 5,
   "id": "b0474e61-9e19-4aeb-9e84-2a06526e4661",
   "metadata": {},
   "outputs": [],
   "source": [
    "def local_beam_search(initial_generation, fixed_squares, max_iterations=100):\n",
    "    \"\"\"\n",
    "    Realiza la optimización del Sudoku utilizando búsqueda por Local Beam.\n",
    "\n",
    "    Args:\n",
    "        initial_generation (list): Lista con los estados iniciales del Sudoku.\n",
    "        fixed_squares (dict): Diccionario que contiene las casillas fijas del Sudoku.\n",
    "        max_iterations (int, optional): Número máximo de iteraciones permitidas (por defecto, 100).\n",
    "\n",
    "    Returns:\n",
    "        dict: El mejor estado encontrado después de la optimización.\n",
    "        float: El costo del mejor estado encontrado.\n",
    "        int: Iteración en la que se encontró el mejor resultado.\n",
    "    \"\"\"\n",
    "    # Inicialización   \n",
    "    best_state = initial_generation[0]\n",
    "    best_cost = cost_function(best_state)\n",
    "    best_iteration = 0\n",
    "    no_changes = 0\n",
    "\n",
    "    number_population = len(initial_generation)\n",
    "    current_population = initial_generation.copy()\n",
    "\n",
    "    # Iteramos hasta max_iterations\n",
    "    for iteration in range(max_iterations):\n",
    "        no_changes += 1\n",
    "\n",
    "        # Calculamos la función de costo para cada estado de la generación actual\n",
    "        actual_cost_list = []\n",
    "        for index in range(number_population):\n",
    "            state = current_population[index]\n",
    "            cost = cost_function(state)\n",
    "            actual_cost_list.append(cost)\n",
    "            if cost < best_cost:\n",
    "                no_changes = 0\n",
    "                best_state = state\n",
    "                best_cost = cost\n",
    "                best_iteration = iteration\n",
    "                print(f\"El mejor costo es: {best_cost} en la iteración {best_iteration}\")\n",
    "\n",
    "        # Si se encontró la solución o si no hubo mejoras durante varias iteraciones, terminamos\n",
    "        if best_cost == 0 or no_changes > 5:\n",
    "            return best_state, best_cost, best_iteration\n",
    "            \n",
    "        # Obtenemos todos los vecinos posibles y sus respectivos costos\n",
    "        all_neib = []\n",
    "        all_cost = []\n",
    "        for index, state in enumerate(current_population):\n",
    "            actual_neib = return_neib_states(state, fixed_squares)\n",
    "            all_neib += actual_neib\n",
    "            all_cost += [cost_function(state_neib) for state_neib in actual_neib]\n",
    "\n",
    "        # Ordenamos los vecinos en función de su costo\n",
    "        index_neib_list = sorted(range(len(all_cost)), key=lambda x: all_cost[x])\n",
    "        all_neib = [all_neib[k] for k in index_neib_list]\n",
    "\n",
    "        # Seleccionamos los k mejores para la nueva generación\n",
    "        current_population = all_neib[:number_population]\n",
    "\n",
    "    # Si se alcanzó el límite de iteraciones, retornamos el mejor resultado encontrado\n",
    "    return best_state, best_cost, best_iteration"
   ]
  },
  {
   "cell_type": "markdown",
   "id": "f5b46e80-591f-44b0-b493-fb5c7b5472ce",
   "metadata": {},
   "source": [
    "Ahora veamos si podemos encontrar la solución en una única ejecución. Para ello, vamos a llamar a una función llamada `execute_search_evolution()`, a la cual le pasamos la implementación del algoritmo. Esta función inicializa varios estados de Sudoku al azar, aplica la búsqueda y verifica si se ha alcanzado una solución."
   ]
  },
  {
   "cell_type": "code",
   "execution_count": 6,
   "id": "f0e5773c-52bb-4ada-8781-0a97bb8b6e2e",
   "metadata": {},
   "outputs": [],
   "source": [
    "from processing import execute_search_evolution"
   ]
  },
  {
   "cell_type": "code",
   "execution_count": 7,
   "id": "55e63dee-989b-4562-b5b4-85df3907d909",
   "metadata": {},
   "outputs": [
    {
     "name": "stdout",
     "output_type": "stream",
     "text": [
      "El mejor costo es: 6.400000000000001 en la iteración 0\n",
      "El mejor costo es: 6.3999999999999995 en la iteración 0\n",
      "El mejor costo es: 6.0 en la iteración 1\n",
      "El mejor costo es: 5.699999999999999 en la iteración 2\n",
      "El mejor costo es: 5.399999999999999 en la iteración 3\n",
      "El mejor costo es: 5.099999999999999 en la iteración 4\n",
      "El mejor costo es: 4.8 en la iteración 5\n",
      "El mejor costo es: 4.5 en la iteración 6\n",
      "El mejor costo es: 4.200000000000001 en la iteración 7\n",
      "El mejor costo es: 3.9000000000000012 en la iteración 8\n",
      "El mejor costo es: 3.700000000000001 en la iteración 9\n",
      "El mejor costo es: 3.400000000000001 en la iteración 10\n",
      "El mejor costo es: 3.2000000000000006 en la iteración 11\n",
      "El mejor costo es: 3.0 en la iteración 12\n",
      "El mejor costo es: 2.8 en la iteración 13\n",
      "El mejor costo es: 2.6 en la iteración 14\n",
      "El mejor costo es: 2.4000000000000004 en la iteración 15\n",
      "El mejor costo es: 2.2000000000000006 en la iteración 16\n",
      "El mejor costo es: 2.1 en la iteración 17\n",
      "El mejor costo es: 1.9000000000000008 en la iteración 18\n",
      "El mejor costo es: 1.8000000000000007 en la iteración 19\n",
      "El mejor costo es: 1.7000000000000004 en la iteración 20\n",
      "El mejor costo es: 1.6000000000000003 en la iteración 21\n",
      "El mejor costo es: 1.4000000000000001 en la iteración 22\n",
      "El mejor costo es: 1.3 en la iteración 23\n",
      "El mejor costo es: 1.2 en la iteración 24\n",
      "El mejor costo es: 1.0999999999999999 en la iteración 25\n",
      "El mejor costo es: 0.9999999999999999 en la iteración 26\n",
      "El mejor costo es: 0.8999999999999999 en la iteración 27\n",
      "El mejor costo es: 0.7999999999999999 en la iteración 28\n",
      "El mejor costo es: 0.7 en la iteración 29\n",
      "El mejor costo es: 0.6 en la iteración 30\n",
      "El mejor costo es: 0.4 en la iteración 33\n",
      "El mejor costo es: 0.30000000000000004 en la iteración 34\n",
      "El mejor costo es: 0.2 en la iteración 35\n",
      "El mejor costo es: 0.0 en la iteración 39\n"
     ]
    }
   ],
   "source": [
    "solution_bool, best_state, best_generation, _ = execute_search_evolution(0, local_beam_search, fixed_squares, number_generation_initial=20)"
   ]
  },
  {
   "cell_type": "code",
   "execution_count": 8,
   "id": "f2dfa72f-b8d6-4dcf-babe-51b96965e51d",
   "metadata": {},
   "outputs": [
    {
     "name": "stdout",
     "output_type": "stream",
     "text": [
      "Valor del mejor costo encontrado: 0.0. El mejor estado se encontró en la generación 39.\n",
      "Mejor estado encontrado:\n",
      "*---------+---------+---------*\n",
      "| 3  7  4 | 5  6  1 | 9  2  8 |\n",
      "| 1  8  5 | 4  2  9 | 7  6  3 |\n",
      "| 9  6  2 | 3  7  8 | 4  1  5 |\n",
      "*---------+---------+---------*\n",
      "| 8  2  7 | 6  1  3 | 5  4  9 |\n",
      "| 6  4  9 | 2  5  7 | 8  3  1 |\n",
      "| 5  3  1 | 9  8  4 | 6  7  2 |\n",
      "*---------+---------+---------*\n",
      "| 4  9  6 | 8  3  2 | 1  5  7 |\n",
      "| 2  1  8 | 7  4  5 | 3  9  6 |\n",
      "| 7  5  3 | 1  9  6 | 2  8  4 |\n",
      "*---------+---------+---------*\n"
     ]
    }
   ],
   "source": [
    "print(f\"Valor del mejor costo encontrado: {cost_function(best_state)}. El mejor estado se encontró en la generación {best_generation}.\")\n",
    "print(\"Mejor estado encontrado:\")\n",
    "print_state(best_state)"
   ]
  },
  {
   "cell_type": "code",
   "execution_count": 9,
   "id": "a26ed1f8-f240-4932-8c02-299e41af3082",
   "metadata": {},
   "outputs": [
    {
     "name": "stdout",
     "output_type": "stream",
     "text": [
      "¿El estado encontrado es una solución?\n",
      "El estado que encontramos verifica correctamente que es la solución.\n"
     ]
    }
   ],
   "source": [
    "print(\"¿El estado encontrado es una solución?\")\n",
    "if solution_bool:\n",
    "    print(\"El estado que encontramos verifica correctamente que es la solución.\")\n",
    "else:\n",
    "    print(\"El estado que encontramos no es una solución.\")"
   ]
  },
  {
   "cell_type": "markdown",
   "id": "9ecff94b-2fbf-4212-9c99-818807609c02",
   "metadata": {},
   "source": [
    "Vemos que el algoritmo está encontrando la **solución**. En el caso del Sudoku, esta estrategia de iniciar múltiples búsquedas en paralelo y abandonar los caminos infructuosos da buenos resultados.\n",
    "\n",
    "Como prueba, vamos a ejecutar la búsqueda 100 veces y verificar cuántas veces alcanza una solución. Para acelerar el proceso, aprovecharemos que contamos con **CPUs multinúcleo**.\n",
    "\n",
    "Para ello, llamaremos a la función `parallel_sudoku_search()`, a la que le pasaremos la función de búsqueda y el número de iteraciones deseadas, indicando que estamos utilizando un algoritmo basado en múltiples estados."
   ]
  },
  {
   "cell_type": "code",
   "execution_count": 10,
   "id": "945fcc19-eff4-41cd-92a7-0433d35adecd",
   "metadata": {},
   "outputs": [],
   "source": [
    "from processing import parallel_sudoku_search\n",
    "\n",
    "# Es necesario llamar a la función de búsqueda desde un archivo .py, ya que los threads no pueden recibir funciones directamente desde la notebook.\n",
    "from search_methods import local_beam_search"
   ]
  },
  {
   "cell_type": "code",
   "execution_count": 11,
   "id": "504b6289-a136-42c6-a2fb-5d828b1a83f7",
   "metadata": {},
   "outputs": [
    {
     "data": {
      "application/vnd.jupyter.widget-view+json": {
       "model_id": "5eb2e52e467945088cac00fab4b0ce06",
       "version_major": 2,
       "version_minor": 0
      },
      "text/plain": [
       "  0%|          | 0/100 [00:00<?, ?it/s]"
      ]
     },
     "metadata": {},
     "output_type": "display_data"
    }
   ],
   "source": [
    "results = parallel_sudoku_search(local_beam_search, fixed_squares, max_iterations=100, generation_method=True)"
   ]
  },
  {
   "cell_type": "markdown",
   "id": "0d5e397d-9586-4799-a582-08a50d09bcf0",
   "metadata": {},
   "source": [
    "Veamos si algún proceso encontró la solución:"
   ]
  },
  {
   "cell_type": "code",
   "execution_count": 12,
   "id": "9ebe25b4-a66b-4bbf-85ab-95545dcf2b0a",
   "metadata": {},
   "outputs": [
    {
     "name": "stdout",
     "output_type": "stream",
     "text": [
      "*---------+---------+---------*\n",
      "| 3  7  4 | 5  6  1 | 9  2  8 |\n",
      "| 1  8  5 | 4  2  9 | 7  6  3 |\n",
      "| 9  6  2 | 3  7  8 | 4  1  5 |\n",
      "*---------+---------+---------*\n",
      "| 8  2  7 | 6  1  3 | 5  4  9 |\n",
      "| 6  4  9 | 2  5  7 | 8  3  1 |\n",
      "| 5  3  1 | 9  8  4 | 6  7  2 |\n",
      "*---------+---------+---------*\n",
      "| 4  9  6 | 8  3  2 | 1  5  7 |\n",
      "| 2  1  8 | 7  4  5 | 3  9  6 |\n",
      "| 7  5  3 | 1  9  6 | 2  8  4 |\n",
      "*---------+---------+---------*\n",
      "En la iteración 3 se encontró la solución.\n",
      "En la iteración 4 se encontró la solución.\n",
      "En la iteración 7 se encontró la solución.\n",
      "En la iteración 10 se encontró la solución.\n",
      "En la iteración 11 se encontró la solución.\n",
      "En la iteración 17 se encontró la solución.\n",
      "En la iteración 19 se encontró la solución.\n",
      "En la iteración 33 se encontró la solución.\n",
      "En la iteración 36 se encontró la solución.\n",
      "En la iteración 41 se encontró la solución.\n",
      "En la iteración 43 se encontró la solución.\n",
      "En la iteración 44 se encontró la solución.\n",
      "En la iteración 45 se encontró la solución.\n",
      "En la iteración 46 se encontró la solución.\n",
      "En la iteración 62 se encontró la solución.\n",
      "En la iteración 66 se encontró la solución.\n",
      "En la iteración 69 se encontró la solución.\n",
      "En la iteración 70 se encontró la solución.\n",
      "En la iteración 71 se encontró la solución.\n",
      "En la iteración 75 se encontró la solución.\n",
      "En la iteración 76 se encontró la solución.\n",
      "En la iteración 82 se encontró la solución.\n",
      "En la iteración 84 se encontró la solución.\n",
      "En la iteración 86 se encontró la solución.\n",
      "En la iteración 87 se encontró la solución.\n",
      "En la iteración 89 se encontró la solución.\n",
      "En la iteración 95 se encontró la solución.\n"
     ]
    }
   ],
   "source": [
    "show_solution = True\n",
    "for res in results:\n",
    "    # Acá se devuelve un booleano que indica si se encontró la solución\n",
    "    is_solution = res[0]\n",
    "    # Este es el último estado encontrado en esta iteración\n",
    "    last_state = res[1]\n",
    "    # Este es el estado desde donde partió la búsqueda\n",
    "    initial_state = res[2]\n",
    "    # Este es el identificador de la iteración en la que se obtuvo la solución\n",
    "    process_id = res[-1]\n",
    "\n",
    "    if is_solution:\n",
    "        if show_solution:\n",
    "            print_state(last_state)\n",
    "            show_solution = False\n",
    "        print(f\"En la iteración {process_id} se encontró la solución.\")"
   ]
  },
  {
   "cell_type": "markdown",
   "id": "7c51d079-e842-4150-bc3e-4febc08ed1d1",
   "metadata": {},
   "source": [
    "Aquí verificamos que, efectivamente, **Local Beam** arroja resultados muy positivos: en muchas de las 100 ejecuciones, logra encontrar la solución."
   ]
  }
 ],
 "metadata": {
  "kernelspec": {
   "display_name": "ia_env2",
   "language": "python",
   "name": "python3"
  },
  "language_info": {
   "codemirror_mode": {
    "name": "ipython",
    "version": 3
   },
   "file_extension": ".py",
   "mimetype": "text/x-python",
   "name": "python",
   "nbconvert_exporter": "python",
   "pygments_lexer": "ipython3",
   "version": "3.10.16"
  }
 },
 "nbformat": 4,
 "nbformat_minor": 5
}
