{
 "cells": [
  {
   "cell_type": "code",
   "execution_count": 1,
   "id": "initial_id",
   "metadata": {
    "jupyter": {
     "is_executing": true
    }
   },
   "outputs": [],
   "source": [
    "from sudoku_stuff import *"
   ]
  },
  {
   "cell_type": "markdown",
   "id": "b8bafd0acf580cb1",
   "metadata": {
    "collapsed": false,
    "jupyter": {
     "outputs_hidden": false
    }
   },
   "source": [
    "# Resolviendo Sudokus con Algoritmos Genéticos\n",
    "Inteligencia Artificial - Facundo A. Lucianna - CEIA - FIUBA\n",
    "\n",
    "En las notebooks anteriores, intentamos resolver Sudokus utilizando los algoritmos de gradiente descendente, simulated annealing y búsqueda local beam. Vimos que los mejores resultados los obtuvimos con **búsqueda local beam**. Ahora veamos cómo nos va con los **algoritmos genéticos**.\n",
    "\n",
    "Como vimos en los videos, el algoritmo genético ya no se considera un enfoque puramente de búsqueda local, sino que introduce los conceptos de reproducción y mutación. Los nuevos estados que se generen serán el resultado de la combinación entre sus \"padres\".\n",
    "\n",
    "Resolvamos este problema:\n",
    "\n",
    "<div>\n",
    "<img src=\"./sudoku_7.png\" width=\"300\"/>\n",
    "</div>\n",
    "\n",
    "El diccionario de **celdas fijas** queda de la siguiente forma:"
   ]
  },
  {
   "cell_type": "code",
   "execution_count": 2,
   "id": "8a83eafb-55a6-44b2-8aac-eecb5c0eeeaa",
   "metadata": {},
   "outputs": [],
   "source": [
    "fixed_squares = {\n",
    "    'A1': 3, 'A3': 4, 'A4': 5, 'A5': 6, 'A7': 9,\n",
    "    'B1': 1, 'B2': 8, 'B3': 5, 'B6': 9, 'B7': 7,\n",
    "    'C5': 7, 'C6': 8, 'C7': 4, 'C8': 1, 'C9': 5,\n",
    "    'D2': 2, 'D5': 1, 'D8': 4, 'D9': 9,\n",
    "    'E2': 4, 'E3': 9, 'E5': 5, \n",
    "    'F3': 1, \"F4\": 9, \"F5\": 8, \"F7\": 6, \"F8\": 7,\n",
    "    'G1': 4, 'G2': 9, 'G5': 3, 'G9': 7, \n",
    "    'H2': 1, 'H3': 8, 'H4': 7, 'H5': 4, 'H6': 5, 'H9': 6,\n",
    "    'I8': 8,\n",
    "}"
   ]
  },
  {
   "cell_type": "markdown",
   "id": "d741ef6a-6751-4761-b79b-931932cc6c00",
   "metadata": {},
   "source": [
    "Y la solución que tenemos es:"
   ]
  },
  {
   "cell_type": "code",
   "execution_count": 3,
   "id": "c52990e0-9de5-4ce7-ae47-17daf7d1ae60",
   "metadata": {},
   "outputs": [],
   "source": [
    "solution = {\n",
    "    'A1': 3, 'A2': 7, 'A3': 4, 'A4': 5, 'A5': 6, 'A6': 1, 'A7': 9, 'A8': 2, 'A9': 8,\n",
    "    'B1': 1, 'B2': 8, 'B3': 5, 'B4': 4, 'B5': 2, 'B6': 9, 'B7': 7, 'B8': 6, 'B9': 3,\n",
    "    'C1': 9, 'C2': 6, 'C3': 2, 'C4': 3, 'C5': 7, 'C6': 8, 'C7': 4, 'C8': 1, 'C9': 5,\n",
    "    'D1': 8, 'D2': 2, 'D3': 7, 'D4': 6, 'D5': 1, 'D6': 3, 'D7': 5, 'D8': 4, 'D9': 9,\n",
    "    'E1': 6, 'E2': 4, 'E3': 9, 'E4': 2, 'E5': 5, 'E6': 7, 'E7': 8, 'E8': 3, 'E9': 1,\n",
    "    'F1': 5, 'F2': 3, 'F3': 1, 'F4': 9, 'F5': 8, 'F6': 4, 'F7': 6, 'F8': 7, 'F9': 2,\n",
    "    'G1': 4, 'G2': 9, 'G3': 6, 'G4': 8, 'G5': 3, 'G6': 2, 'G7': 1, 'G8': 5, 'G9': 7,\n",
    "    'H1': 2, 'H2': 1, 'H3': 8, 'H4': 7, 'H5': 4, 'H6': 5, 'H7': 3, 'H8': 9, 'H9': 6,\n",
    "    'I1': 7, 'I2': 5, 'I3': 3, 'I4': 1, 'I5': 9, 'I6': 6, 'I7': 2, 'I8': 8, 'I9': 4,\n",
    "}"
   ]
  },
  {
   "cell_type": "code",
   "execution_count": 4,
   "id": "9b13b263-9674-4874-ab0b-592bfcafa00b",
   "metadata": {},
   "outputs": [
    {
     "name": "stdout",
     "output_type": "stream",
     "text": [
      "*---------+---------+---------*\n",
      "| 3  7  4 | 5  6  1 | 9  2  8 |\n",
      "| 1  8  5 | 4  2  9 | 7  6  3 |\n",
      "| 9  6  2 | 3  7  8 | 4  1  5 |\n",
      "*---------+---------+---------*\n",
      "| 8  2  7 | 6  1  3 | 5  4  9 |\n",
      "| 6  4  9 | 2  5  7 | 8  3  1 |\n",
      "| 5  3  1 | 9  8  4 | 6  7  2 |\n",
      "*---------+---------+---------*\n",
      "| 4  9  6 | 8  3  2 | 1  5  7 |\n",
      "| 2  1  8 | 7  4  5 | 3  9  6 |\n",
      "| 7  5  3 | 1  9  6 | 2  8  4 |\n",
      "*---------+---------+---------*\n"
     ]
    }
   ],
   "source": [
    "print_state(solution)"
   ]
  },
  {
   "cell_type": "markdown",
   "id": "48030c7a-aba2-4616-a305-ead8291490b8",
   "metadata": {},
   "source": [
    "## Implementando herramientas para aplicar Algoritmos Genéticos en la resolución de Sudokus\n",
    "\n",
    "Un algoritmo genético es una variante estocástica de la búsqueda local beam, en la cual los estados sucesores se generan combinando dos estados padres (reproducción). Para implementar este algoritmo, debemos definir varios elementos:\n",
    "\n",
    "- La forma de codificar un estado como una cadena (cromosoma).\n",
    "- La función de reproducción.\n",
    "- La función de mutación.\n",
    "- La función de idoneidad (fitness), que en este caso será la función de costo que venimos utilizando.\n",
    "\n",
    "### Cromosoma\n",
    "\n",
    "Primero, veamos cómo podemos codificar un estado particular del Sudoku como un cromosoma, que será una cadena de caracteres que luego podremos manipular para realizar reproducción y mutación.\n",
    "\n",
    "En este caso, dado que un Sudoku está formado por números, representaremos todos los valores que completan el Sudoku como una única cadena, aplanando las filas en una secuencia lineal.\n",
    "\n",
    "Veamos un ejemplo de implementación utilizando la solución definida previamente:"
   ]
  },
  {
   "cell_type": "code",
   "execution_count": 5,
   "id": "6b2f43ea-37d7-4233-8c0e-c3ea30d52a11",
   "metadata": {},
   "outputs": [],
   "source": [
    "# Las funciones que implementan los distintos elementos del algoritmo genético están definidas en genetic.py\n",
    "from genetic import *"
   ]
  },
  {
   "cell_type": "code",
   "execution_count": 6,
   "id": "ec84b946-b253-4c78-84ca-a9ed0a0a5f84",
   "metadata": {},
   "outputs": [
    {
     "name": "stdout",
     "output_type": "stream",
     "text": [
      "*---------+---------+---------*\n",
      "| 3  7  4 | 5  6  1 | 9  2  8 |\n",
      "| 1  8  5 | 4  2  9 | 7  6  3 |\n",
      "| 9  6  2 | 3  7  8 | 4  1  5 |\n",
      "*---------+---------+---------*\n",
      "| 8  2  7 | 6  1  3 | 5  4  9 |\n",
      "| 6  4  9 | 2  5  7 | 8  3  1 |\n",
      "| 5  3  1 | 9  8  4 | 6  7  2 |\n",
      "*---------+---------+---------*\n",
      "| 4  9  6 | 8  3  2 | 1  5  7 |\n",
      "| 2  1  8 | 7  4  5 | 3  9  6 |\n",
      "| 7  5  3 | 1  9  6 | 2  8  4 |\n",
      "*---------+---------+---------*\n"
     ]
    }
   ],
   "source": [
    "print_state(solution)"
   ]
  },
  {
   "cell_type": "code",
   "execution_count": 7,
   "id": "14799463-65e5-47ff-96de-35ee1e6b75f7",
   "metadata": {},
   "outputs": [],
   "source": [
    "# obtain_chromosome_sudoku devuelve el cromosoma del Sudoku dado un estado (formado por un diccionario con las celdas)\n",
    "chromosome_solution = obtain_chromosome_sudoku(solution, obtain_all_cells())"
   ]
  },
  {
   "cell_type": "code",
   "execution_count": 8,
   "id": "ecbf4545-e958-41db-954e-6d45b449b14f",
   "metadata": {},
   "outputs": [
    {
     "name": "stdout",
     "output_type": "stream",
     "text": [
      "374561928185429763962378415827613549649257831531984672496832157218745396753196284\n"
     ]
    }
   ],
   "source": [
    "print(chromosome_solution)"
   ]
  },
  {
   "cell_type": "markdown",
   "id": "f4627c1b-5ffc-4e2b-b8b0-a3b91f4b2133",
   "metadata": {},
   "source": [
    "A continuación, necesitamos una función que, al recibir un cromosoma, nos devuelva el estado correspondiente. Es decir, el proceso de \"nacimiento\" de nuevos estados. Para esto, utilizaremos la función `obtain_sibling_from_chromosome_sudoku()`.\n",
    "\n",
    "Antes de eso, veamos cómo identificar las posiciones fijas dentro del cromosoma:"
   ]
  },
  {
   "cell_type": "code",
   "execution_count": 9,
   "id": "7cb8d0f8-e5cb-49ac-b8c5-2426a4bbaaf7",
   "metadata": {},
   "outputs": [
    {
     "name": "stdout",
     "output_type": "stream",
     "text": [
      "[0, 2, 3, 4, 6, 9, 10, 11, 14, 15, 22, 23, 24, 25, 26, 28, 31, 34, 35, 37, 38, 40, 47, 48, 49, 51, 52, 54, 55, 58, 62, 64, 65, 66, 67, 68, 71, 79]\n"
     ]
    }
   ],
   "source": [
    "pos_fixed = obtain_fixed_pos_in_chromosome_sudoku(fixed_squares, obtain_all_cells())\n",
    "\n",
    "print(pos_fixed)"
   ]
  },
  {
   "cell_type": "markdown",
   "id": "90c387e1-a4ec-4b78-8d35-9452f0c2b00b",
   "metadata": {},
   "source": [
    "Con esta función podemos asegurarnos de que, al aplicar mutaciones, dichas posiciones fijas no sean modificadas.\n",
    "\n",
    "Finalmente, tomemos el cromosoma que calculamos anteriormente y modifiquemos el número en el índice `1:`"
   ]
  },
  {
   "cell_type": "code",
   "execution_count": 10,
   "id": "6dfa11b6-0d6b-4788-9d67-d9e40a1ae18b",
   "metadata": {},
   "outputs": [
    {
     "name": "stdout",
     "output_type": "stream",
     "text": [
      "314561928185429763962378415827613549649257831531984672496832157218745396753196284\n"
     ]
    }
   ],
   "source": [
    "new_chromosome = chromosome_solution[:1] + '1' + chromosome_solution[2:]\n",
    "print(new_chromosome)"
   ]
  },
  {
   "cell_type": "markdown",
   "id": "b20cecb1-8c33-4e63-ba71-ddf2ed6d06e7",
   "metadata": {},
   "source": [
    "Ahora obtengamos el estado correspondiente a ese cromosoma modificado:"
   ]
  },
  {
   "cell_type": "code",
   "execution_count": 11,
   "id": "362fae16-bae9-4433-8733-941b6b50a8fa",
   "metadata": {},
   "outputs": [
    {
     "name": "stdout",
     "output_type": "stream",
     "text": [
      "*---------+---------+---------*\n",
      "| 3  1  4 | 5  6  1 | 9  2  8 |\n",
      "| 1  8  5 | 4  2  9 | 7  6  3 |\n",
      "| 9  6  2 | 3  7  8 | 4  1  5 |\n",
      "*---------+---------+---------*\n",
      "| 8  2  7 | 6  1  3 | 5  4  9 |\n",
      "| 6  4  9 | 2  5  7 | 8  3  1 |\n",
      "| 5  3  1 | 9  8  4 | 6  7  2 |\n",
      "*---------+---------+---------*\n",
      "| 4  9  6 | 8  3  2 | 1  5  7 |\n",
      "| 2  1  8 | 7  4  5 | 3  9  6 |\n",
      "| 7  5  3 | 1  9  6 | 2  8  4 |\n",
      "*---------+---------+---------*\n"
     ]
    }
   ],
   "source": [
    "new_state = obtain_sibling_from_chromosome_sudoku(new_chromosome, obtain_all_cells())\n",
    "print_state(new_state)"
   ]
  },
  {
   "cell_type": "markdown",
   "id": "4f0b70ec-409e-43ab-80f2-d320c5d0f189",
   "metadata": {},
   "source": [
    "### Reproducción\n",
    "\n",
    "La reproducción la realizamos mediante la siguiente operación: dados dos cromosomas, seleccionamos un punto de corte aleatorio en la cadena. A partir de ese punto, concatenamos una parte del cromosoma de un padre con la del otro. Esta reproducción generará dos hijos, siendo cada uno el complemento del otro.\n",
    "\n",
    "Esta operación está implementada en la función `reproduction_sudoku()`. Veamos un ejemplo de uso:"
   ]
  },
  {
   "cell_type": "code",
   "execution_count": 12,
   "id": "768f9e2e-7f75-420c-b5be-749e4da81687",
   "metadata": {},
   "outputs": [
    {
     "name": "stdout",
     "output_type": "stream",
     "text": [
      "Estado 1\n",
      "*---------+---------+---------*\n",
      "| 3  6  4 | 5  6  8 | 9  8  9 |\n",
      "| 1  8  5 | 7  9  9 | 7  3  3 |\n",
      "| 9  4  4 | 4  7  8 | 4  1  5 |\n",
      "*---------+---------+---------*\n",
      "| 3  2  3 | 9  1  1 | 1  4  9 |\n",
      "| 9  4  9 | 7  5  8 | 2  8  9 |\n",
      "| 8  5  1 | 9  8  9 | 6  7  7 |\n",
      "*---------+---------+---------*\n",
      "| 4  9  1 | 5  3  8 | 6  7  7 |\n",
      "| 6  1  8 | 7  4  5 | 3  1  6 |\n",
      "| 4  9  6 | 3  1  6 | 5  8  3 |\n",
      "*---------+---------+---------*\n",
      "Estado 2\n",
      "*---------+---------+---------*\n",
      "| 3  4  4 | 5  6  4 | 9  1  8 |\n",
      "| 1  8  5 | 3  7  9 | 7  1  9 |\n",
      "| 5  7  8 | 7  7  8 | 4  1  5 |\n",
      "*---------+---------+---------*\n",
      "| 6  2  1 | 7  1  8 | 5  4  9 |\n",
      "| 5  4  9 | 6  5  8 | 1  5  4 |\n",
      "| 2  4  1 | 9  8  3 | 6  7  5 |\n",
      "*---------+---------+---------*\n",
      "| 4  9  3 | 4  3  3 | 6  9  7 |\n",
      "| 8  1  8 | 7  4  5 | 6  1  6 |\n",
      "| 1  4  7 | 3  1  2 | 6  8  9 |\n",
      "*---------+---------+---------*\n"
     ]
    }
   ],
   "source": [
    "# Generamos dos estados al azar \n",
    "state_1 = init_state(fixed_squares)\n",
    "state_2 = init_state(fixed_squares)\n",
    "\n",
    "print(\"Estado 1\")\n",
    "print_state(state_1)\n",
    "print(\"Estado 2\")\n",
    "print_state(state_2)"
   ]
  },
  {
   "cell_type": "code",
   "execution_count": 13,
   "id": "90039eaf-fae3-4a7b-bfcc-8fde416ac313",
   "metadata": {},
   "outputs": [
    {
     "name": "stdout",
     "output_type": "stream",
     "text": [
      "Estado 1\n",
      "364568989185799733944478415323911149949758289851989677491538677618745316496316583\n",
      "Estado 2\n",
      "344564918185379719578778415621718549549658154241983675493433697818745616147312689\n"
     ]
    }
   ],
   "source": [
    "# Obtenemos sus cromosomas\n",
    "chromosome_state_1 = obtain_chromosome_sudoku(state_1, obtain_all_cells())\n",
    "chromosome_state_2 = obtain_chromosome_sudoku(state_2, obtain_all_cells())\n",
    "\n",
    "print(\"Estado 1\")\n",
    "print(chromosome_state_1)\n",
    "print(\"Estado 2\")\n",
    "print(chromosome_state_2)"
   ]
  },
  {
   "cell_type": "code",
   "execution_count": 14,
   "id": "a4ed019b-24e8-4143-b1fe-f57d9215a6e7",
   "metadata": {},
   "outputs": [
    {
     "name": "stdout",
     "output_type": "stream",
     "text": [
      "Estado hijo 1\n",
      "364568988185379719578778415621718549549658154241983675493433697818745616147312689\n",
      "Estado hijo 2\n",
      "344564919185799733944478415323911149949758289851989677491538677618745316496316583\n"
     ]
    }
   ],
   "source": [
    "# Realizamos la reproducción\n",
    "chromosome_sibling_1, chromosome_sibling_2 = reproduction_sudoku(chromosome_state_1, chromosome_state_2)\n",
    "\n",
    "print(\"Estado hijo 1\")\n",
    "print(chromosome_sibling_1)\n",
    "print(\"Estado hijo 2\")\n",
    "print(chromosome_sibling_2)"
   ]
  },
  {
   "cell_type": "code",
   "execution_count": 15,
   "id": "bfb37cf8-3062-4cb4-bfe0-f8d123a4c046",
   "metadata": {},
   "outputs": [
    {
     "name": "stdout",
     "output_type": "stream",
     "text": [
      "Estado hijo 1\n",
      "*---------+---------+---------*\n",
      "| 3  6  4 | 5  6  8 | 9  8  8 |\n",
      "| 1  8  5 | 3  7  9 | 7  1  9 |\n",
      "| 5  7  8 | 7  7  8 | 4  1  5 |\n",
      "*---------+---------+---------*\n",
      "| 6  2  1 | 7  1  8 | 5  4  9 |\n",
      "| 5  4  9 | 6  5  8 | 1  5  4 |\n",
      "| 2  4  1 | 9  8  3 | 6  7  5 |\n",
      "*---------+---------+---------*\n",
      "| 4  9  3 | 4  3  3 | 6  9  7 |\n",
      "| 8  1  8 | 7  4  5 | 6  1  6 |\n",
      "| 1  4  7 | 3  1  2 | 6  8  9 |\n",
      "*---------+---------+---------*\n",
      "Estado hijo 2\n",
      "*---------+---------+---------*\n",
      "| 3  4  4 | 5  6  4 | 9  1  9 |\n",
      "| 1  8  5 | 7  9  9 | 7  3  3 |\n",
      "| 9  4  4 | 4  7  8 | 4  1  5 |\n",
      "*---------+---------+---------*\n",
      "| 3  2  3 | 9  1  1 | 1  4  9 |\n",
      "| 9  4  9 | 7  5  8 | 2  8  9 |\n",
      "| 8  5  1 | 9  8  9 | 6  7  7 |\n",
      "*---------+---------+---------*\n",
      "| 4  9  1 | 5  3  8 | 6  7  7 |\n",
      "| 6  1  8 | 7  4  5 | 3  1  6 |\n",
      "| 4  9  6 | 3  1  6 | 5  8  3 |\n",
      "*---------+---------+---------*\n"
     ]
    }
   ],
   "source": [
    "# Obtenemos los hijos\n",
    "sibling_1 = obtain_sibling_from_chromosome_sudoku(chromosome_sibling_1, obtain_all_cells())\n",
    "sibling_2 = obtain_sibling_from_chromosome_sudoku(chromosome_sibling_2, obtain_all_cells())\n",
    "\n",
    "print(\"Estado hijo 1\")\n",
    "print_state(sibling_1)\n",
    "print(\"Estado hijo 2\")\n",
    "print_state(sibling_2)"
   ]
  },
  {
   "cell_type": "markdown",
   "id": "f32572a4-6d9e-4379-a555-0f1e80fd31ee",
   "metadata": {},
   "source": [
    "### Mutación\n",
    "\n",
    "Un aspecto importante en los algoritmos genéticos es la aleatoriedad introducida por la mutación. La idea es que, al azar, se modifique una parte del cromosoma, lo que podría llevar a encontrar un estado que se adapte mejor a la solución. En este caso, al mutar, se cambia una posición del cromosoma —que no sea fija— por un valor aleatorio.\n",
    "\n",
    "Para decidir si se realiza la mutación, usamos una **“temperatura”**, que determina la probabilidad de mutar: cuanto más alta sea, mayor será esa probabilidad; cuanto más baja, menor será. Implementamos un mecanismo similar al de simulated annealing, donde se acepta la mutación si un valor aleatorio entre 0 y 1 es menor que `exp(-1 * (1 / temperatura))`.\n",
    "\n",
    "Esto está implementado en la función `mutate_chromosome_sudoku_with_temperature()`. Veamos un ejemplo utilizando uno de los hijos generados anteriormente, con una temperatura muy alta para forzar la mutación:"
   ]
  },
  {
   "cell_type": "code",
   "execution_count": 16,
   "id": "5a51c5bc-9103-41b1-ab3c-7734019d2e2d",
   "metadata": {},
   "outputs": [
    {
     "name": "stdout",
     "output_type": "stream",
     "text": [
      "Estado hijo 1\n",
      "*---------+---------+---------*\n",
      "| 3  6  4 | 5  6  8 | 9  8  8 |\n",
      "| 1  8  5 | 3  7  9 | 7  1  9 |\n",
      "| 5  7  8 | 7  7  8 | 4  1  5 |\n",
      "*---------+---------+---------*\n",
      "| 6  2  1 | 7  1  8 | 5  4  9 |\n",
      "| 5  4  9 | 6  5  8 | 1  5  4 |\n",
      "| 2  4  1 | 9  8  3 | 6  7  5 |\n",
      "*---------+---------+---------*\n",
      "| 4  9  3 | 4  3  3 | 6  9  7 |\n",
      "| 8  1  8 | 7  4  5 | 6  1  6 |\n",
      "| 1  4  7 | 3  1  2 | 6  8  9 |\n",
      "*---------+---------+---------*\n"
     ]
    }
   ],
   "source": [
    "print(\"Estado hijo 1\")\n",
    "print_state(sibling_1)"
   ]
  },
  {
   "cell_type": "code",
   "execution_count": 17,
   "id": "2f0a7f6a-20ba-41e6-8f10-e0a126f6aec2",
   "metadata": {},
   "outputs": [],
   "source": [
    "# Realizamos la mutación\n",
    "chromosome_mutated = mutate_chromosome_sudoku_with_temperature(chromosome_sibling_1, pos_fixed, temperature=100000)"
   ]
  },
  {
   "cell_type": "code",
   "execution_count": 18,
   "id": "537f8b09-664e-4a07-bfe6-66f05d68ce7f",
   "metadata": {},
   "outputs": [
    {
     "name": "stdout",
     "output_type": "stream",
     "text": [
      "Estado mutado\n",
      "*---------+---------+---------*\n",
      "| 3  6  4 | 5  6  8 | 9  8  8 |\n",
      "| 1  8  5 | 3  7  9 | 7  1  9 |\n",
      "| 5  7  8 | 7  7  8 | 4  1  5 |\n",
      "*---------+---------+---------*\n",
      "| 6  2  1 | 7  1  5 | 5  4  9 |\n",
      "| 5  4  9 | 6  5  8 | 1  5  4 |\n",
      "| 2  4  1 | 9  8  3 | 6  7  5 |\n",
      "*---------+---------+---------*\n",
      "| 4  9  3 | 4  3  3 | 6  9  7 |\n",
      "| 8  1  8 | 7  4  5 | 6  1  6 |\n",
      "| 1  4  7 | 3  1  2 | 6  8  9 |\n",
      "*---------+---------+---------*\n"
     ]
    }
   ],
   "source": [
    "# Obtenemos al hijo mutado\n",
    "sibling_mutated = obtain_sibling_from_chromosome_sudoku(chromosome_mutated, obtain_all_cells())\n",
    "\n",
    "print(\"Estado mutado\")\n",
    "print_state(sibling_mutated)"
   ]
  },
  {
   "cell_type": "markdown",
   "id": "1402b8b302abed22",
   "metadata": {
    "collapsed": false,
    "jupyter": {
     "outputs_hidden": false
    }
   },
   "source": [
    "## Implementación de Búsqueda con Algoritmos Genéticos\n",
    "\n",
    "Con todos los elementos necesarios definidos e implementados para el caso particular de Sudokus, ahora podemos armar nuestra implementación de búsqueda utilizando algoritmos genéticos. La última pieza que nos faltaba era la función de idoneidad para seleccionar los mejores individuos, pero para eso ya contamos con nuestra función de costo.\n",
    "\n",
    "> 🧠 **Nota**: Todas las decisiones tomadas para el diseño —como la forma de reproducción, la codificación del cromosoma, etc.— son arbitrarias y dependen de la creatividad del diseñador. Otras decisiones pueden dar resultados muy diferentes.\n",
    "\n",
    "Veamos la implementación, leyendo cada comentario con atención:"
   ]
  },
  {
   "cell_type": "code",
   "execution_count": 19,
   "id": "86a138da-75e6-418c-a4aa-f4191c264762",
   "metadata": {},
   "outputs": [],
   "source": [
    "import itertools"
   ]
  },
  {
   "cell_type": "code",
   "execution_count": 20,
   "id": "b0474e61-9e19-4aeb-9e84-2a06526e4661",
   "metadata": {},
   "outputs": [],
   "source": [
    "def genetic_algorithm_sudoku(initial_generation: list, fixed_squares: dict, max_iterations: int = 50, initial_temperature: float = 100) -> tuple:\n",
    "    \"\"\"\n",
    "    Realiza la optimización del Sudoku utilizando un algoritmo genético.\n",
    "\n",
    "    Args:\n",
    "        initial_generation (list): Lista con estados iniciales del Sudoku.\n",
    "        fixed_squares (dict): Diccionario que contiene las casillas fijas del Sudoku.\n",
    "        max_iterations (int, optional): Número máximo de iteraciones permitidas. Por defecto es 50.\n",
    "        initial_temperature (float, optional): Temperatura inicial para controlar la probabilidad de mutación. Por defecto es 100.\n",
    "\n",
    "    Returns:\n",
    "        dict: El mejor estado encontrado después de la optimización.\n",
    "        float: El costo del mejor estado encontrado.\n",
    "        int: Número que indica en qué generación se encontró el mejor resultado.\n",
    "    \"\"\"\n",
    "    temperature = initial_temperature\n",
    "    best_state = initial_generation[0]\n",
    "    best_cost = cost_function(best_state)\n",
    "    best_iteration = 0\n",
    "    no_changes = 0\n",
    "\n",
    "    # Determinamos el tamaño de la población\n",
    "    number_population = len(initial_generation)\n",
    "    current_population = initial_generation.copy()\n",
    "\n",
    "    # Obtenemos las posiciones del Sudoku que no pueden mutar\n",
    "    squares = obtain_all_cells()\n",
    "    not_valid_positions = obtain_fixed_pos_in_chromosome_sudoku(fixed_squares, squares)\n",
    "\n",
    "    # Iteramos hasta alcanzar el número máximo de generaciones\n",
    "    for iteration in range(max_iterations):\n",
    "\n",
    "        no_changes += 1\n",
    "\n",
    "        # Calculamos el costo de cada estado en la generación actual\n",
    "        actual_cost_list = [cost_function(state) for state in current_population]\n",
    "\n",
    "        generate_print = False\n",
    "        for index, cost in enumerate(actual_cost_list):\n",
    "            # Actualizamos el mejor estado si encontramos uno con menor costo\n",
    "            if cost < best_cost:\n",
    "                no_changes = 0\n",
    "                generate_print = True\n",
    "                best_state = current_population[index]\n",
    "                best_cost = cost\n",
    "                best_iteration = iteration\n",
    "\n",
    "        # Si encontramos un estado con costo 0, hemos encontrado la solución.\n",
    "        # Si pasan muchas generaciones sin mejoras, asumimos estancamiento y detenemos la búsqueda.\n",
    "        if best_cost == 0 or no_changes > 9:\n",
    "            return best_state, best_cost, best_iteration\n",
    "\n",
    "        if generate_print:\n",
    "            print(f\"El mejor costo es: {best_cost} en la iteración {iteration}\")\n",
    "\n",
    "        # Ordenamos los estados por su función de costo (idoneidad)\n",
    "        index_list = sorted(range(len(actual_cost_list)), key=lambda x: actual_cost_list[x])\n",
    "        current_population = [current_population[k] for k in index_list]\n",
    "\n",
    "        # Conservamos solo la mejor parte de la generación para reproducirse\n",
    "        current_population = current_population[:number_population]\n",
    "\n",
    "        # Obtenemos los cromosomas de los estados actuales\n",
    "        all_chromosome = [obtain_chromosome_sudoku(state, squares) for state in current_population]\n",
    "\n",
    "        # Generamos los hijos: todos se reproducen con todos\n",
    "        sibling_chromosomes_list = []\n",
    "        for chromosome_1, chromosome_2 in itertools.combinations(all_chromosome, 2):\n",
    "            offspring_1, offspring_2 = reproduction_sudoku(chromosome_1, chromosome_2)\n",
    "            sibling_chromosomes_list.extend([offspring_1, offspring_2])\n",
    "\n",
    "        # Aplicamos mutaciones a los hijos\n",
    "        sibling_chromosomes_list = [mutate_chromosome_sudoku_with_temperature(chromosome, not_valid_positions, temperature)\n",
    "                                    for chromosome in sibling_chromosomes_list]\n",
    "\n",
    "        # Diezmamos la población actual: solo el 10% sobrevive\n",
    "        current_population = current_population[:number_population // 10]\n",
    "\n",
    "        # Creamos la nueva generación a partir de los cromosomas hijos y los agregamos a la población diezmada\n",
    "        current_population += [obtain_sibling_from_chromosome_sudoku(chromosome, squares) for chromosome in\n",
    "                               sibling_chromosomes_list]\n",
    "\n",
    "    # Si se alcanzó el máximo de iteraciones, devolvemos el mejor resultado encontrado\n",
    "    return best_state, best_cost, best_iteration"
   ]
  },
  {
   "cell_type": "markdown",
   "id": "f5b46e80-591f-44b0-b493-fb5c7b5472ce",
   "metadata": {},
   "source": [
    "Ahora, veamos si podemos encontrar la solución en una única ejecución. Para ello, llamaremos a una función llamada `execute_search_evolution()`, a la cual le pasamos la implementación del algoritmo. Esta función inicializa varios estados de Sudoku al azar, aplica la búsqueda y verifica si se ha alcanzado una solución o no."
   ]
  },
  {
   "cell_type": "code",
   "execution_count": 21,
   "id": "f0e5773c-52bb-4ada-8781-0a97bb8b6e2e",
   "metadata": {},
   "outputs": [],
   "source": [
    "from processing import execute_search_evolution"
   ]
  },
  {
   "cell_type": "code",
   "execution_count": 22,
   "id": "55e63dee-989b-4562-b5b4-85df3907d909",
   "metadata": {},
   "outputs": [
    {
     "name": "stdout",
     "output_type": "stream",
     "text": [
      "El mejor costo es: 5.7 en la iteración 0\n",
      "El mejor costo es: 5.000000000000002 en la iteración 1\n",
      "El mejor costo es: 4.55 en la iteración 2\n",
      "El mejor costo es: 3.800000000000001 en la iteración 3\n",
      "El mejor costo es: 3.300000000000001 en la iteración 4\n",
      "El mejor costo es: 2.8000000000000007 en la iteración 5\n",
      "El mejor costo es: 2.0500000000000003 en la iteración 6\n",
      "El mejor costo es: 1.8500000000000003 en la iteración 7\n",
      "El mejor costo es: 1.4000000000000004 en la iteración 8\n",
      "El mejor costo es: 1.1 en la iteración 9\n",
      "El mejor costo es: 0.7999999999999999 en la iteración 10\n"
     ]
    }
   ],
   "source": [
    "solution_bool, best_state, best_generation, _ = execute_search_evolution(0, genetic_algorithm_sudoku, fixed_squares, number_generation_initial=200)"
   ]
  },
  {
   "cell_type": "code",
   "execution_count": 23,
   "id": "f2dfa72f-b8d6-4dcf-babe-51b96965e51d",
   "metadata": {},
   "outputs": [
    {
     "name": "stdout",
     "output_type": "stream",
     "text": [
      "Valor del mejor costo encontrado: 0.7999999999999999. El mejor estado se encontró en la generación 10.\n",
      "Mejor estado encontrado:\n",
      "*---------+---------+---------*\n",
      "| 3  7  4 | 5  6  3 | 9  8  2 |\n",
      "| 1  8  5 | 4  2  9 | 7  6  3 |\n",
      "| 9  6  2 | 1  7  8 | 4  1  5 |\n",
      "*---------+---------+---------*\n",
      "| 6  2  3 | 8  1  7 | 5  4  9 |\n",
      "| 7  4  9 | 3  5  6 | 1  2  8 |\n",
      "| 8  5  1 | 9  8  2 | 6  7  3 |\n",
      "*---------+---------+---------*\n",
      "| 4  9  6 | 2  3  1 | 8  5  7 |\n",
      "| 2  1  8 | 7  4  5 | 3  9  6 |\n",
      "| 5  3  7 | 6  9  4 | 2  8  1 |\n",
      "*---------+---------+---------*\n"
     ]
    }
   ],
   "source": [
    "print(f\"Valor del mejor costo encontrado: {cost_function(best_state)}. El mejor estado se encontró en la generación {best_generation}.\")\n",
    "print(\"Mejor estado encontrado:\")\n",
    "print_state(best_state)"
   ]
  },
  {
   "cell_type": "code",
   "execution_count": 24,
   "id": "a26ed1f8-f240-4932-8c02-299e41af3082",
   "metadata": {},
   "outputs": [
    {
     "name": "stdout",
     "output_type": "stream",
     "text": [
      "¿El estado encontrado es una solución?\n",
      "El estado que encontramos no es una solución.\n"
     ]
    }
   ],
   "source": [
    "print(\"¿El estado encontrado es una solución?\")\n",
    "if solution_bool:\n",
    "    print(\"El estado que encontramos verifica correctamente que es la solución.\")\n",
    "else:\n",
    "    print(\"El estado que encontramos no es una solución.\")"
   ]
  },
  {
   "cell_type": "markdown",
   "id": "9ecff94b-2fbf-4212-9c99-818807609c02",
   "metadata": {},
   "source": [
    "Vemos que no se encontró la solución. El algoritmo estuvo muy cerca, alcanzando un costo bajo y utilizando pocas generaciones, pero llegó a un punto en el que solo un par de números estaban mal ubicados (con solo 4 penalizaciones en las filas 5 y 6). El problema en esta implementación es que, rápidamente, los estados de bajo costo dominan las generaciones, y para salir de ese estado solo sería posible mediante una mutación que modifique justo algunos de esos valores. Sin embargo, esto es poco probable, ya que solo se modifica un valor y, aunque este se ubique correctamente, podría seguir generando la misma penalización.\n",
    "\n",
    "Se podrían implementar dos mejoras, que se dejan como ejercicio:\n",
    "\n",
    "- Implementar un segundo tipo de mutación en el que, en lugar de cambiar un valor al azar, se intercambien dos valores de posición.\n",
    "- Cada cierta cantidad de generaciones, introducir nuevos estados completamente aleatorios o permitir que sobrevivan estados con alto costo, con el fin de introducir más variedad en la población.\n",
    "\n",
    "Como prueba final, vamos a ejecutar la búsqueda 100 veces y verificar cuántas veces se llega a una solución. Para acelerar el proceso, aprovecharemos que contamos con **CPUs multinúcleo**.\n",
    "\n",
    "Para ello, llamaremos a la función `parallel_sudoku_search()`, a la cual le pasaremos la función de búsqueda y el número de iteraciones que queremos realizar, indicando que estamos usando un algoritmo que opera con múltiples estados."
   ]
  },
  {
   "cell_type": "code",
   "execution_count": 25,
   "id": "945fcc19-eff4-41cd-92a7-0433d35adecd",
   "metadata": {},
   "outputs": [],
   "source": [
    "from processing import parallel_sudoku_search\n",
    "\n",
    "# Debemos llamar a la función de búsqueda desde un archivo .py, ya que los threads no pueden recibir la función directamente desde la notebook.\n",
    "from search_methods import genetic_algorithm_sudoku"
   ]
  },
  {
   "cell_type": "code",
   "execution_count": 26,
   "id": "504b6289-a136-42c6-a2fb-5d828b1a83f7",
   "metadata": {},
   "outputs": [
    {
     "data": {
      "application/vnd.jupyter.widget-view+json": {
       "model_id": "bc9f1bfb02a1405e8092a2a6bca929d2",
       "version_major": 2,
       "version_minor": 0
      },
      "text/plain": [
       "  0%|          | 0/100 [00:00<?, ?it/s]"
      ]
     },
     "metadata": {},
     "output_type": "display_data"
    }
   ],
   "source": [
    "results = parallel_sudoku_search(genetic_algorithm_sudoku, fixed_squares, max_iterations=100, generation_method=True, number_generation_initial=200)"
   ]
  },
  {
   "cell_type": "markdown",
   "id": "0d5e397d-9586-4799-a582-08a50d09bcf0",
   "metadata": {},
   "source": [
    "Veamos si algún proceso encontró la solución:"
   ]
  },
  {
   "cell_type": "code",
   "execution_count": 27,
   "id": "9ebe25b4-a66b-4bbf-85ab-95545dcf2b0a",
   "metadata": {},
   "outputs": [
    {
     "name": "stdout",
     "output_type": "stream",
     "text": [
      "*---------+---------+---------*\n",
      "| 3  7  4 | 5  6  1 | 9  2  8 |\n",
      "| 1  8  5 | 4  2  9 | 7  6  3 |\n",
      "| 9  6  2 | 3  7  8 | 4  1  5 |\n",
      "*---------+---------+---------*\n",
      "| 8  2  7 | 6  1  3 | 5  4  9 |\n",
      "| 6  4  9 | 2  5  7 | 8  3  1 |\n",
      "| 5  3  1 | 9  8  4 | 6  7  2 |\n",
      "*---------+---------+---------*\n",
      "| 4  9  6 | 8  3  2 | 1  5  7 |\n",
      "| 2  1  8 | 7  4  5 | 3  9  6 |\n",
      "| 7  5  3 | 1  9  6 | 2  8  4 |\n",
      "*---------+---------+---------*\n",
      "En la iteración 28 se encontró la solución.\n",
      "En la iteración 88 se encontró la solución.\n"
     ]
    }
   ],
   "source": [
    "show_solution = True\n",
    "for res in results:\n",
    "    # Acá se devuelve un booleano que indica si se encontró la solución\n",
    "    is_solution = res[0]\n",
    "    # Este es el último estado encontrado en esta iteración\n",
    "    last_state = res[1]\n",
    "    # Este es el estado desde donde partió la búsqueda\n",
    "    initial_state = res[2]\n",
    "    # Este es el identificador de la iteración en la que se obtuvo la solución\n",
    "    process_id = res[-1]\n",
    "\n",
    "    if is_solution:\n",
    "        if show_solution:\n",
    "            print_state(last_state)\n",
    "            show_solution = False\n",
    "        print(f\"En la iteración {process_id} se encontró la solución.\")"
   ]
  },
  {
   "cell_type": "markdown",
   "id": "7c51d079-e842-4150-bc3e-4febc08ed1d1",
   "metadata": {},
   "source": [
    "Vemos que, de las 100 ejecuciones, solo dos vez se encontró la solución, mientras que en el caso de **Local Beam Search**, los resultados fueron mucho más exitosos. La forma en que se generan los vecinos resulta más efectiva que los métodos de reproducción y mutación implementados aquí.\n",
    "\n",
    "Viendo el lado positivo, este comportamiento revela en qué aspectos es fuerte este algoritmo. Rápidamente encuentra mínimos, incluso más profundos que otros algoritmos cuando estos fallan. Sin embargo, no es tan eficiente para encontrar el mejor caso, como en el Sudoku, donde solo existe una única solución. Si el problema fuera más general —por ejemplo, cuando buscamos un estado que cumpla con ciertos criterios de optimización, como minimizar un parámetro, error, energía o costo por debajo de un umbral— este algoritmo sería más útil.\n",
    "\n",
    "Eso sí, siempre con la desventaja del gran trabajo de diseño previo que requiere."
   ]
  }
 ],
 "metadata": {
  "kernelspec": {
   "display_name": "ia_env2",
   "language": "python",
   "name": "python3"
  },
  "language_info": {
   "codemirror_mode": {
    "name": "ipython",
    "version": 3
   },
   "file_extension": ".py",
   "mimetype": "text/x-python",
   "name": "python",
   "nbconvert_exporter": "python",
   "pygments_lexer": "ipython3",
   "version": "3.10.16"
  }
 },
 "nbformat": 4,
 "nbformat_minor": 5
}
