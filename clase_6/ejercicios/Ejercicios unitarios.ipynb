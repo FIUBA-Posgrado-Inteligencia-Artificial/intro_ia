{
 "cells": [
  {
   "cell_type": "markdown",
   "id": "683c97ba",
   "metadata": {},
   "source": [
    "Sea la matriz:\n",
    "\n",
    "$$\n",
    "  A =\n",
    "  \\left[ {\\begin{array}{ccc}\n",
    "    -2 & -4 & 2 \\\\\n",
    "    -2 & 1 & 2 \\\\\n",
    "    4 & 2 & 5 \\\\\n",
    "  \\end{array} } \\right]\n",
    "$$\n",
    "\n",
    "cuyos autovalores son: 3, -5 y 6.\n",
    "\n",
    "\n",
    "y los vectores \n",
    "\n",
    "$$\n",
    "V_1 = \n",
    "\\left[ {\\begin{array}{c}\n",
    "    1 \\\\\n",
    "    1 \\\\\n",
    "    1 \\\\\n",
    "  \\end{array} } \\right]\n",
    "$$\n",
    "\n",
    "y \n",
    "\n",
    "$$\n",
    "V_2 = \n",
    "\\left[ {\\begin{array}{c}\n",
    "    1 \\\\\n",
    "    2 \\\\\n",
    "    3 \\\\\n",
    "  \\end{array} } \\right] \n",
    "$$"
   ]
  },
  {
   "cell_type": "markdown",
   "id": "0a1ba10e",
   "metadata": {},
   "source": [
    "# Ejercicio 0\n",
    "\n",
    "Crear la matriz y los vectores anteriores en numpy."
   ]
  },
  {
   "cell_type": "markdown",
   "id": "4b1679ca",
   "metadata": {},
   "source": [
    "# Ejercicio 1\n",
    "Dada una matriz en formato numpy array, donde cada fila de la matriz representa un vector matemático, se\n",
    "requiere computar las normas l0, l1, l2, l-infinity, según la siguientes definiciones:\n",
    "\n",
    "$||x||_0 =$ cantidad de elementos diferentes a cero en el vector. \n",
    "\n",
    "$||x||_p := \\big( \\sum_{i=1}^{n} |x_i|^p \\big)^\\frac{1}{p}$\n",
    "\n",
    "$||x||_{\\infty} := max_{i} |x_i|$\n"
   ]
  },
  {
   "cell_type": "markdown",
   "id": "17e45a08",
   "metadata": {},
   "source": [
    "# Ejercicio 2\n",
    "Dada una matriz en formato numpy array, donde cada fila de la matriz representa un vector matemático, se\n",
    "requiere computar la norma l2 de cada vector.\n",
    "Una vez obtenida la norma l2 de cada vector, se debe ordenar las normas de mayor a menor.\n",
    "Finalmente, obtener la matriz original ordenada por fila según la norma l2.\n",
    "Todas las operaciones debe ser vectorizadas.\n",
    "\n",
    "**Utilizar el resultado del ejercicio anterior.** "
   ]
  },
  {
   "cell_type": "markdown",
   "id": "3bd8743a",
   "metadata": {},
   "source": [
    "# Ejercicio 3\n",
    "\n",
    "Implementar una función que reste la media y divida por el desvío estándar de la matriz A, por columna. "
   ]
  },
  {
   "cell_type": "markdown",
   "id": "0bf5739e",
   "metadata": {},
   "source": [
    "# Ejercicio 4\n",
    "\n",
    "Utilizando numpy.linalg, calcular la inversa, el determinante y la traza. Determinar autovalores y autovectores. "
   ]
  },
  {
   "cell_type": "markdown",
   "id": "67b0383b",
   "metadata": {},
   "source": [
    "# Ejercicio 5\n",
    "\n",
    "Dada una nube de puntos X y centroides C, obtener la distancia entre cada vector X y los centroides\n",
    "utilizando operaciones vectorizadas y broadcasting en NumPy. Utilizar como referencia los siguientes\n",
    "valores.\n",
    "\n",
    "● X = [[1, 2, 3], [4, 5, 6], [7, 8, 9]]\n",
    "\n",
    "● C = [[1, 0, 0], [0, 1, 1]]"
   ]
  },
  {
   "cell_type": "markdown",
   "id": "52d449cc",
   "metadata": {},
   "source": [
    "\n",
    "# Ejercicio 6\n",
    "\n",
    "Obtener para cada fila en X, el índice de la fila en C con distancia euclídea más pequeña.\n",
    "Es decir, decir para cada fila en X a qué cluster pertenece en C.\n",
    "Por ejemplo, si el resultado anterior fue:\n",
    "\n",
    "\n",
    "[[ 3.60555128 8.36660027 13.45362405]\n",
    "\n",
    "[ 2.44948974 7.54983444 12.72792206]]\n",
    "\n",
    "\n",
    "El programa debería devolver [1, 1, 1]\n",
    "\n",
    "\n",
    "Hint: utilizar np.argmin"
   ]
  }
 ],
 "metadata": {
  "kernelspec": {
   "display_name": "Python 3 (ipykernel)",
   "language": "python",
   "name": "python3"
  },
  "language_info": {
   "codemirror_mode": {
    "name": "ipython",
    "version": 3
   },
   "file_extension": ".py",
   "mimetype": "text/x-python",
   "name": "python",
   "nbconvert_exporter": "python",
   "pygments_lexer": "ipython3",
   "version": "3.8.10"
  }
 },
 "nbformat": 4,
 "nbformat_minor": 5
}
