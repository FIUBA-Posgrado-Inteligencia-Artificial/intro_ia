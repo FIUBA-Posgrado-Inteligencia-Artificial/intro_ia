{
 "cells": [
  {
   "cell_type": "markdown",
   "id": "fc2654fe",
   "metadata": {},
   "source": [
    "# Estadística Descriptiva\n",
    "Inteligencia Artificial - Facundo A. Lucianna - CEIA - FIUBA\n",
    "\n",
    "Una parte esencial del día a día de un Data Scientist es realizar análisis exploratorios de datos. Buscando resumir de un dataset sus características principales, a menudo utilizando gráficos estadísticos y otros métodos de visualización de datos. Se puede usar o no un modelo estadístico, pero principalmente EDA es para ver lo que los datos pueden decirnos más allá del modelado formal.\n",
    "\n",
    "En este notebook trabajaremos con datos del [INDEC de población por provincia de 2022](https://www.indec.gob.ar/indec/web/Nivel4-Tema-2-24-85).\n",
    "\n",
    "OBS: En las celdas de procesamiento si ves ___ es para que reemplaces.\n",
    "\n",
    "---\n",
    "\n",
    "Arranquemos cargando nuestro datos.\n",
    "\n",
    "1. a. Importa `pandas` como `pd` "
   ]
  },
  {
   "cell_type": "code",
   "execution_count": null,
   "id": "88f93c01",
   "metadata": {},
   "outputs": [],
   "source": [
    "import ___ as ___"
   ]
  },
  {
   "cell_type": "markdown",
   "id": "ce8adacd",
   "metadata": {},
   "source": [
    "1. b. De `scipy` importa `stats`"
   ]
  },
  {
   "cell_type": "code",
   "execution_count": null,
   "id": "279d94ec",
   "metadata": {},
   "outputs": [],
   "source": [
    "___"
   ]
  },
  {
   "cell_type": "markdown",
   "id": "75872edb",
   "metadata": {},
   "source": [
    "2. Lea el csv `poblacion_provincias.csv` en un DataFrame y llame al DataFrame `poblacion`"
   ]
  },
  {
   "cell_type": "code",
   "execution_count": null,
   "id": "3542d7cc",
   "metadata": {},
   "outputs": [],
   "source": [
    "poblacion = pd.___(\"./datasets/poblacion_provincias.csv\")"
   ]
  },
  {
   "cell_type": "markdown",
   "id": "33efe95e",
   "metadata": {},
   "source": [
    "3. Imprima `poblacion` entero. Ademas, explore la información sobre columnas."
   ]
  },
  {
   "cell_type": "code",
   "execution_count": null,
   "id": "0ffed83a",
   "metadata": {},
   "outputs": [],
   "source": [
    "___"
   ]
  },
  {
   "cell_type": "code",
   "execution_count": null,
   "id": "ff3530b0",
   "metadata": {},
   "outputs": [],
   "source": [
    "___.info()"
   ]
  },
  {
   "cell_type": "markdown",
   "id": "c1666d7d",
   "metadata": {},
   "source": [
    "## Mediciones de posición\n",
    "\n",
    "Las variables numericas pueden tener miles de valores unicos. Un paso básico para explorar los datos, es obtener un valor tipico para cada característica o variable. Buscamos encontrar una estimación de donde se encuentran la mayoria de los datos.\n",
    "\n",
    "### Media\n",
    "\n",
    "La estimación más básica de la ubicación es la media o valor promedio. La media es la suma de todos los valores dividida por el número de valores.\n",
    "\n",
    "Calculemos el valor medio de la población de las provincias:\n",
    "\n",
    "1. Calcule la media de la columna `\"población\"` de `poblacion`, usando el metodo `.mean()`"
   ]
  },
  {
   "cell_type": "code",
   "execution_count": null,
   "id": "89626595",
   "metadata": {},
   "outputs": [],
   "source": [
    "poblacion[___].___()"
   ]
  },
  {
   "cell_type": "markdown",
   "id": "54b93679",
   "metadata": {},
   "source": [
    "Una variación de la media es la **media truncada**, la cual se cálcula descartando porciones de los datos en el extremo inferior y superior, típicamente se descarta igual cantidad en ambos extremos. Justamente se hace esto para eliminar la influencia de valores alejados. \n",
    "\n",
    "Un ejemplo de uso de esto el puntaje final en competencia de salto. En el cual el puntaje más alto y más bajo son descartado para calcular el puntaje final, con el objetivo de quitar influencias de manipular el puntaje, tal vez para favorecer a su país.\n",
    "\n",
    "Otra variante es la **media ponderada**, la cual se multiplica a cada valor por un factor individual, se suma estos valores y luego se divide por la suma de los factores.  \n",
    "\n",
    "Un ejemplo de esto es calcular el puntaje promedio de un set de examenen, pero los cuales los examenes tienen diferencia ponderancia, con temas más importantes que otros.\n",
    "\n",
    "2. Calcule la media quitando a `Provincia de Buenos Aires` y `Tierra del Fuego` (Las provincias con mas y menos habitantes respectivamente)."
   ]
  },
  {
   "cell_type": "code",
   "execution_count": null,
   "id": "e19b0f9d",
   "metadata": {},
   "outputs": [],
   "source": [
    "poblacion[~(poblacion[___].isin([\"Provincia de Buenos Aires\", ___]))][\"población\"].___()"
   ]
  },
  {
   "cell_type": "markdown",
   "id": "055d8dd8",
   "metadata": {},
   "source": [
    "3. Calcule la media truncada usando `stats.trim_mean()` quitando un `5%` de ambos extremos."
   ]
  },
  {
   "cell_type": "code",
   "execution_count": null,
   "id": "d344342b",
   "metadata": {},
   "outputs": [],
   "source": [
    "___.trim_mean(___[\"población\"], proportiontocut=0.05)"
   ]
  },
  {
   "cell_type": "markdown",
   "id": "d29ed813",
   "metadata": {},
   "source": [
    "Como podemos ver stats.trim_mean() nos quita automaticamente a `Provincia de Buenos Aires` y `Tierra del Fuego` eligiendo correctamente que porcentaje cortar.\n",
    "\n",
    "### Mediana\n",
    "\n",
    "La **mediana** es el número del medio en una lista ordenada de datos. Si hay un número par de valores de datos, el valor medio es uno que no está realmente en el conjunto de datos, sino el promedio de los dos valores que dividen los datos ordenados en mitades superior e inferior. En comparación con la media, que usa todas las observaciones, la mediana depende solo de los valores en el centro de los datos ordenados.\n",
    "\n",
    "Un ejemplo de la utilidad de la mediana es por ejemplo en el cálculo del salario de un puesto, por ejemplo de Data Scientist. Para saber cuando se gana en el sector, es más util saber la mediana, ya que es el salario del medio, y no la media que puede moverse con salarios extremos (en general para valores superiores) en empresa multinacionales.\n",
    "\n",
    "1. Calcule la mediana de la columna `\"población\"` de `poblacion`, usando el metodo `.median()`"
   ]
  },
  {
   "cell_type": "code",
   "execution_count": null,
   "id": "c551a692",
   "metadata": {},
   "outputs": [],
   "source": [
    "poblacion[\"población\"].___()"
   ]
  },
  {
   "cell_type": "markdown",
   "id": "7871c448",
   "metadata": {},
   "source": [
    "En el dataset tenemos 24 distritos. Veamos que provincias se usaron para calcular el valor de la mediana.\n",
    "\n",
    "2. Ordene a `poblacion` de menor a mayor usando `\"población\"` y asignelo a `poblacion_ord`"
   ]
  },
  {
   "cell_type": "code",
   "execution_count": null,
   "id": "0fac4464",
   "metadata": {},
   "outputs": [],
   "source": [
    "___ = poblacion.___(by=___)"
   ]
  },
  {
   "cell_type": "markdown",
   "id": "52d89682",
   "metadata": {},
   "source": [
    "3. Usando .iloc, encuentre la fila 11 y 12."
   ]
  },
  {
   "cell_type": "code",
   "execution_count": null,
   "id": "3eccba40",
   "metadata": {},
   "outputs": [],
   "source": [
    "poblacion_ord.___[11:13,:]"
   ]
  },
  {
   "cell_type": "markdown",
   "id": "ec755f59",
   "metadata": {},
   "source": [
    "Ahi obtenemos a las dos provincias\n",
    "\n",
    "4. Calcule el promedio de estas dos provincias."
   ]
  },
  {
   "cell_type": "code",
   "execution_count": null,
   "id": "8d1be0cd",
   "metadata": {},
   "outputs": [],
   "source": [
    "poblacion_ord.___[___,2].___()"
   ]
  },
  {
   "cell_type": "markdown",
   "id": "f430c676",
   "metadata": {},
   "source": [
    "## Mediciones de variación\n",
    "\n",
    "La posición central es una de las dimensiones de sintetizado de un atributo. Una segunda dimensión, variación o dispersion, mide si los datos estan pegados entre si o si están dispersos. La dispersión de datos es quizas de una de las partes más importante de los datos, entenderla y poder distinguir de la variabilidad que es aleatoria a la que es propia del proceso.  \n",
    "\n",
    "### Desviación absoluta media\n",
    "\n",
    "Las medidas de variación mas usadas se basan en medir la diferencia entre los valores medidos y la medida de posición central. Estos desvios nos dicen que tanto estan dispersos los datos alrededor de un valor central. \n",
    "\n",
    "Una forma de medir la variabilidad es estimar un valor típico para estas desviaciones. Promediar las desviaciones no es una buena forma de hacerlo, ya que las desviaciones negativas compensan las positivas y será cercana a cero, ya que estamos usando una estimación de valor central. Por lo que una forma de evitar esto es calcular el valor absoluto de estas diferencias y de ahi calcular el promedio. Esta forma de medir variabilidad se llama **desviación absoluta media**.\n",
    "\n",
    "1. Calcule la desviación media de la columna `\"población\"` de `poblacion`, usando el metodo `.mad()`"
   ]
  },
  {
   "cell_type": "code",
   "execution_count": null,
   "id": "f1ee14f0",
   "metadata": {},
   "outputs": [],
   "source": [
    "___[\"población\"].___()"
   ]
  },
  {
   "cell_type": "markdown",
   "id": "2c2900f5",
   "metadata": {},
   "source": [
    "### Desvio estandar\n",
    "\n",
    "La medida de variación mas conocida es la **varianza** y el **desvio estandar**, los cuales están basados en vez de obtener el valor absoluto de la desviaciones, es calcular el cuadrado de ellos. La varianza es el promedio de estos desvios al cuadrado, y el desvio estandar es la raiz de la varianza. \n",
    "\n",
    "La desviación estándar es mucho más fácil de interpretar que la varianza ya que está en la misma escala que los datos originales. \n",
    "\n",
    "1. Calcule el desvio estandar de la columna `\"población\"` de `poblacion`, usando el metodo `.std()`"
   ]
  },
  {
   "cell_type": "code",
   "execution_count": null,
   "id": "06c4f901",
   "metadata": {},
   "outputs": [],
   "source": [
    "___.std()"
   ]
  },
  {
   "cell_type": "markdown",
   "id": "61503c82",
   "metadata": {},
   "source": [
    "2. Calcule la varianza de la columna `\"población\"` de `poblacion`, usando el metodo `.var()`"
   ]
  },
  {
   "cell_type": "code",
   "execution_count": null,
   "id": "86e06bbd",
   "metadata": {},
   "outputs": [],
   "source": [
    "___"
   ]
  },
  {
   "cell_type": "markdown",
   "id": "f246e9a4",
   "metadata": {},
   "source": [
    "### Desviación absoluta mediana\n",
    "\n",
    "Las tres metricas de variacion vista hasta ahora sufre en el problema de ser afectados por valores atipico y extremos. Principalmente la **varianza** y el **desvio estandar** ya que a los desvios se elevan al cuadrado. Una forma más robusta antes valores extremos es usar la **desviación absoluta mediana**. \n",
    "\n",
    "Para esta metrica, los desvio se calculan entre los datos y la mediana. Se calcula el valor absoluto de estos desvios y finalmente se calcula la mediana del valor absoluto de los desvios.\n",
    "\n",
    "1. Calcule la desviación absoluta mediana de la columna `\"población\"` de `poblacion` usando `stats.median_abs_deviation()`"
   ]
  },
  {
   "cell_type": "code",
   "execution_count": null,
   "id": "e7b285a3",
   "metadata": {},
   "outputs": [],
   "source": [
    "stats.___(___)"
   ]
  },
  {
   "cell_type": "markdown",
   "id": "e0a5aa1b",
   "metadata": {},
   "source": [
    "Como se puede ver, las diferentes metricas dan resultados diferentes. El desvio estandar es siempre mayor a la desviacion absoluta media, la cual es siempre mayor a la desviacion absoluta mediana. Lo importante cuando se usan estas metricas es mantener consistentes en nuestros calculos y de otros para poder realizar comparaciones similares.\n",
    "\n",
    "### Rango\n",
    "\n",
    "Otra forma de estimar la dispersion de los datos es viendo la dispersión de los datos ordenados. La medida más basica es el rango: la diferencia entre el numero mas grande y el más chico. \n",
    "\n",
    "1. Calcule el valor maximo de la columna `\"población\"` de `poblacion`, usando el metodo `.max()`. Asignelo a `poblacion_maxima`."
   ]
  },
  {
   "cell_type": "code",
   "execution_count": null,
   "id": "d9def5d5",
   "metadata": {},
   "outputs": [],
   "source": [
    "poblacion_maxima = poblacion[___].___()"
   ]
  },
  {
   "cell_type": "markdown",
   "id": "3b5dd6e7",
   "metadata": {},
   "source": [
    "2. 1. Calcule el valor minimo de la columna `\"población\"` de `poblacion`, usando el metodo `.min()`. Asignelo a `poblacion_minima`."
   ]
  },
  {
   "cell_type": "code",
   "execution_count": null,
   "id": "105e4860",
   "metadata": {},
   "outputs": [],
   "source": [
    "poblacion_minima = ___"
   ]
  },
  {
   "cell_type": "markdown",
   "id": "ff6cb2fc",
   "metadata": {},
   "source": [
    "3. Calcule el rango de `\"población\"` usando `poblacion_maxima` y `poblacion_minima`. Asignelo a `range_pobl`"
   ]
  },
  {
   "cell_type": "code",
   "execution_count": null,
   "id": "47cb20d8",
   "metadata": {},
   "outputs": [],
   "source": [
    "range_pobl = ___"
   ]
  },
  {
   "cell_type": "markdown",
   "id": "73d1b1c0",
   "metadata": {},
   "source": [
    "4. Muestre a `range_pobl`"
   ]
  },
  {
   "cell_type": "code",
   "execution_count": null,
   "id": "1ffa33bf",
   "metadata": {},
   "outputs": [],
   "source": [
    "___"
   ]
  },
  {
   "cell_type": "markdown",
   "id": "53dece50",
   "metadata": {},
   "source": [
    "Aunque siempre es util saber cual es el valor maximo y minimo de un conjunto de datos, pero el rango es muy sensible a los valores atípicos y no es muy útil como medida general de dispersión en los datos.\n",
    "\n",
    "### Rango basado en percentiles\n",
    "\n",
    "Para evitar la sensiblidad de los valores alejados, se puede ver el **rango** de los datos luego de descartar los valores de cada extremos. Formalmente, estos tipos de estimaciones se basan en la diferencia entre porcentiles. \n",
    "\n",
    "> En un dataset, el percentil Pth es un valor tal que al menos el P por ciento de los valores toman este valor o menos y al menos el (100 – P) por ciento de los valores toman este valor o más. Por ejemplo, para encontrar el percentil 70, se ordena los datos, y luego arrancando del valor más bajo se avanza hasta tomar el 70% de los datos, el ultimo valor que se obtiene es el percentil 70. La mediana es lo mismo que obtener el percentil 50. \n",
    "\n",
    "Una variante de percentiles es el cuantil, el cual se indexan los valores usando fracciones (El cuantil 0.7 es lo mismo que el percentil 70).\n",
    "\n",
    "1. Calcule el cuantil (o percentil) 0.25 y 0.75 (25% y 75%) de la columna `\"población\"` de `poblacion`, usando el metodo `.quantile()`. Asignelo a `percentile_XX` siendo XX el percentil a calcular."
   ]
  },
  {
   "cell_type": "code",
   "execution_count": null,
   "id": "a3ba20f1",
   "metadata": {},
   "outputs": [],
   "source": [
    "percentile_25 = poblacion[___].___(.25)\n",
    "percentile_75 = ___"
   ]
  },
  {
   "cell_type": "markdown",
   "id": "9c17c863",
   "metadata": {},
   "source": [
    "2. Imprima todos los percentiles"
   ]
  },
  {
   "cell_type": "code",
   "execution_count": null,
   "id": "bc085c71",
   "metadata": {},
   "outputs": [],
   "source": [
    "print(percentile_25)\n",
    "print(percentile_75)"
   ]
  },
  {
   "cell_type": "markdown",
   "id": "6dacaa89",
   "metadata": {},
   "source": [
    "#### Rango intercuartil\n",
    "\n",
    "Una medida común de la variabilidad es la diferencia entre el **percentil 25** y el **percentil 75**, denominada **rango intercuartil (o IQR)**. \n",
    "\n",
    "> Un cuartil es una variante del percentil, en el cual en vez de dividir en 100 valores posibles, se divide en 4, siendo:\n",
    "> - Q1: percentil 25\n",
    "> - Q2: percentil 50\n",
    "> - Q3: percentil 75\n",
    "\n",
    "El rango intercuartil es la diferencia entre **Q1** y **Q3**. \n",
    "\n",
    "1. Calcule el rango intercuartil de la columna `\"población\"` de `poblacion`, usando el metodo `.quantile()`. Asignelo a IQR."
   ]
  },
  {
   "cell_type": "code",
   "execution_count": null,
   "id": "1d82f09c",
   "metadata": {},
   "outputs": [],
   "source": [
    "IQR = ___.quantile(.75) - ___"
   ]
  },
  {
   "cell_type": "markdown",
   "id": "3a644d9c",
   "metadata": {},
   "source": [
    "2. Muestre el resultado"
   ]
  },
  {
   "cell_type": "code",
   "execution_count": null,
   "id": "b1605e40",
   "metadata": {},
   "outputs": [],
   "source": [
    "___"
   ]
  },
  {
   "cell_type": "markdown",
   "id": "ae96bc00",
   "metadata": {},
   "source": [
    "El rango intercuartil es una medida de dispersión robusta a valores alejados. El principal problema en obtener el rango basado en percentiles es que es costoso computacionalmente, por lo que en dataset grandes puede demorar mucho tiempo en calcularse.\n",
    "\n",
    "## Explorando la distribución de los datos\n",
    "\n",
    "Cada una de las estimaciones que hemos visto resume los datos en un solo número para describir la posición o la variabilidad de los datos. Aunque nos presenta un buen resumen de los datos, no alcanza para tener una idea general de los mismos, por eso es útil explorar cómo se distribuyen los datos en general.\n",
    "\n",
    "### Percentiles y diagramas de caja\n",
    "\n",
    "Cuando vimos *Rango basado en percentiles*, vimos que se pueden usar estos percentiles para medir la dispersión de los datos. Pero los percentiles son valiosos para resumir la distribución de los datos. Es habitual informar los cuartiles (percentiles 25, 50 y 75) y los deciles (percentiles 10, 20,..., 90). Los percentiles son especialmente valiosos para resumir las colas de la distribución. Un caso común que se observa esto es en el Principio de Pareto:\n",
    "\n",
    "> El principio de Pareto describe el fenómeno estadístico por el que en cualquier población que contribuye a un efecto común, es una proporción pequeña la que contribuye a la mayor parte del efecto. Por ejemplo, al describir la riqueza mundial, se observa que aproximadamente el 20% de la población ostenta el 80% de la riqueza.\n",
    "\n",
    "Por lo que cualquier distribución de estas características, con una cola larga ([long-tail](https://www.statology.org/long-tail-distribution/)) los percentiles pueden ser útiles. \n",
    "\n",
    "1. Calcule el cuantil (o percentil) 0.12, 0.25, 0.5, 0.6, 0.75, 0.94 y 1 (12%, 25%, 50%, 60%, 75%, 94% y 100%) de la columna `\"población\"` de `poblacion`, usando el metodo `.quantile()`. Asignelo a `percentile_XX` siendo XX el percentil a calcular."
   ]
  },
  {
   "cell_type": "code",
   "execution_count": null,
   "id": "a40d09bc",
   "metadata": {},
   "outputs": [],
   "source": [
    "percentile_12 = ___[\"población\"].___(.12)\n",
    "percentile_25 = ___(.25)\n",
    "percentile_50 = ___\n",
    "percentile_60 = ___\n",
    "percentile_75 = ___\n",
    "percentile_94 = ___\n",
    "percentile_100 = ___"
   ]
  },
  {
   "cell_type": "markdown",
   "id": "6baf8586",
   "metadata": {},
   "source": [
    "2. Imprima todos los percentiles"
   ]
  },
  {
   "cell_type": "code",
   "execution_count": null,
   "id": "1cb7ff7c",
   "metadata": {},
   "outputs": [],
   "source": [
    "print(percentile_12)\n",
    "print(percentile_25)\n",
    "print(percentile_50)\n",
    "print(percentile_60)\n",
    "print(percentile_75)\n",
    "print(percentile_94)\n",
    "print(percentile_100)"
   ]
  },
  {
   "cell_type": "markdown",
   "id": "ea8394dc",
   "metadata": {},
   "source": [
    "Santa Cruz tiene una población que la ubica cercana del percentil 12. En cambio, Córdoba vemos que presenta una población que se ubica cercano del percentil 94%."
   ]
  },
  {
   "cell_type": "code",
   "execution_count": null,
   "id": "9f6aad29",
   "metadata": {},
   "outputs": [],
   "source": [
    "poblacion[poblacion[\"distrito\"] == \"Santa Cruz\"]"
   ]
  },
  {
   "cell_type": "code",
   "execution_count": null,
   "id": "8446441e",
   "metadata": {},
   "outputs": [],
   "source": [
    "poblacion[poblacion[\"distrito\"] == \"Cordoba\"]"
   ]
  },
  {
   "cell_type": "markdown",
   "id": "684f15cf",
   "metadata": {},
   "source": [
    "Los diagramas de cajas están basadas en los percentiles, y dan una rapida visualización de la distribución de los datos.\n",
    "\n",
    "1. Grafique el diagrama de caja de la columna `\"población\"` de `poblacion`, usando el metodo `.plot.box()`."
   ]
  },
  {
   "cell_type": "code",
   "execution_count": null,
   "id": "ad7b3b93",
   "metadata": {},
   "outputs": [],
   "source": [
    "ax = poblacion[___].plot.___()\n",
    "ax.set_ylabel('Population');\n",
    "ax.set_xticklabels('');"
   ]
  },
  {
   "cell_type": "markdown",
   "id": "4f1c3f60",
   "metadata": {},
   "source": [
    "A partir de este diagrama de caja, podemos ver de inmediato que la población de las provincias promedio es de aproximadamente 1 millón, que la mitad de las provincias están entre 500.000 y 1.500.000 y hay valores atípicos de población altos. La parte superior e inferior de la caja son los percentiles 75 y 25, respectivamente. La mediana se muestra con la línea horizontal en el recuadro. Las líneas que salen de la caja, denominadas bigotes, se extienden desde la parte superior e inferior del cuadro para indicar el rango de la mayor parte de los datos. Los bigotes es la librería gráfica que usa Pandas por detrás (Matplotlib) los extiende por defecto hasta 1.5 veces el valor del IQR (pero se puede modificar y otros software usan otra interpretación). Cualquier valor por fuera de los bigotes se consideran valores alejados y se los representa como círculos unicos.\n",
    "\n",
    "### Tablas de frecuencia e histogramas\n",
    "\n",
    "Una tabla de frecuencia de una variable divide el rango de la variable en segmentos igualmente espaciados y nos dice cuántos valores caen dentro de cada segmento.\n",
    "\n",
    "1. La función `pd.cut` crea una serie que mapea los valores en los segmentos. Usando la función `pd.cut` divida en 15 segmentos a la columna `\"poblacion\"` del dataframe `poblacion`. Asignelo a `segmento_provincia`."
   ]
  },
  {
   "cell_type": "code",
   "execution_count": null,
   "id": "79b7c528",
   "metadata": {},
   "outputs": [],
   "source": [
    "segmento_provincia = pd.cut(___, 15)"
   ]
  },
  {
   "cell_type": "markdown",
   "id": "4661cbf5",
   "metadata": {},
   "source": [
    "2. Obtenga la cuenta de cuanta provincias se encuentra en cada segmento usando el metodo `.value_counts()` en `segmento_provincia`."
   ]
  },
  {
   "cell_type": "code",
   "execution_count": null,
   "id": "268bc863",
   "metadata": {},
   "outputs": [],
   "source": [
    "segmento_provincia.___"
   ]
  },
  {
   "cell_type": "markdown",
   "id": "9f654620",
   "metadata": {},
   "source": [
    "Obsérvese que a pesar que haber una gran cantidad de segmentos, la mayoría de las provincias se encuentran en el primer segmento (menos de 1.361.567 habitantes). Cada segmento es de un rango de 1.179.584 habitantes. La provincia con mayor habitante es la provincia de Buenos Aires, los segmentos que están por debajo de la provincia de Buenos Aires están vacíos. Es importante incluir los segmentos vacíos; el hecho de que no haya valores en esos segmentos es información útil. También puede ser útil experimentar con diferentes tamaños de segmentos. Si son demasiado grandes, las características importantes de la distribución pueden perderse. Si son demasiado pequeños, el resultado es demasiado granular y se pierde la capacidad de ver el panorama general.\n",
    "\n",
    "Un histograma es una forma de visualizar una tabla de frecuencia, con los segmentos en el eje x y el conteo de datos en el eje y. \n",
    "\n",
    "1. Grafique el histograma de la columna `\"población\"` de `poblacion`, usando el metodo `.plot.hist()` con quince segmentos (`bins=15`)."
   ]
  },
  {
   "cell_type": "code",
   "execution_count": null,
   "id": "49741cba",
   "metadata": {},
   "outputs": [],
   "source": [
    "ax = (___['población']).___.hist(___=15)\n",
    "ax.set_xlabel('Population');"
   ]
  },
  {
   "cell_type": "markdown",
   "id": "1cbdd15b",
   "metadata": {},
   "source": [
    "En general, los histogramas se grafican de manera que:\n",
    "- Los segmentos vacíos se incluyen en el gráfico.\n",
    "- Los segmentos tienen el mismo ancho.\n",
    "- El número de segmentos es a elección del usuario.\n",
    "- Las barras son contiguas, no se muestra ningún espacio vacío entre las barras, a menos que haya un segmentos vacío.\n",
    "\n",
    "### Gráfica de densidad\n",
    "\n",
    "Relacionado con el histograma se encuentra el gráfico de densidad, que muestra la distribución de valores de datos como ua línea continua. Este tipo de grafico se puede considerar como un histograma suavizado, haciendo uso de los datos directos a travez de estimación de la densidad del núcleo (para entender en mejor detalle como se construye estos graficos, le recomendamos este [trabajo](https://www.mvstat.net/tduong/research/seminars/seminar-2001-05.pdf).\n",
    "\n",
    "1. Grafique el histograma de la columna `\"población\"` de `poblacion`, usando el metodo `.plot.hist()` con quince segmentos (`bins=15`) y que el eje y sea la densidad de probabilidad (`density=True`), es decir el conteo por segmento dividido la cuenta total por el ancho de los segmentos.\n",
    "2. Grafique en el mismo eje la gráfica de densidad de la columna `\"población\"` de `poblacion`, usando el metodo `.plot.density()`."
   ]
  },
  {
   "cell_type": "code",
   "execution_count": null,
   "id": "0ad92cd8",
   "metadata": {},
   "outputs": [],
   "source": [
    "ax = ___.plot.hist(___)\n",
    "___.plot.density(ax=ax)\n",
    "ax.set_xlabel('Población')\n",
    "ax.set_xlim([0, 22000000])\n",
    "ax.legend([\"Histograma\", \"Gráfico de densidad\"]);"
   ]
  }
 ],
 "metadata": {
  "kernelspec": {
   "display_name": "Python 3 (ipykernel)",
   "language": "python",
   "name": "python3"
  },
  "language_info": {
   "codemirror_mode": {
    "name": "ipython",
    "version": 3
   },
   "file_extension": ".py",
   "mimetype": "text/x-python",
   "name": "python",
   "nbconvert_exporter": "python",
   "pygments_lexer": "ipython3",
   "version": "3.9.15"
  }
 },
 "nbformat": 4,
 "nbformat_minor": 5
}
