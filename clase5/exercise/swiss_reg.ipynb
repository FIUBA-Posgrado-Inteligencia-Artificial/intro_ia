{
 "cells": [
  {
   "cell_type": "markdown",
   "id": "7ab5e04c",
   "metadata": {},
   "source": [
    "# Ejercicio Módulo 5 - Dataset Swiss\n",
    "**Inteligencia Artificial - CEIA - FIUBA**\n",
    "\n",
    "**INSERTE AQUÍ SU NOMBRE**\n",
    "\n",
    "Para aprender sobre regresión, vamos a utilizar un dataset clásico llamado Swiss, que proviene originalmente del lenguaje R. Este dataset contiene datos socioeconómicos de 47 provincias suizas a fines del siglo XIX. Cada fila representa una provincia, y las variables reflejan características demográficas y sociales relevantes para ese contexto histórico.\n",
    "\n",
    "## Variables\n",
    "\n",
    "- `Location`: Provincia donde se midieron los datos.\n",
    "- `Fertility`: Tasa de fertilidad (número promedio de hijos por mujer)\n",
    "- `Agriculture`:` Porcentaje de hombres ocupados en agricultura\n",
    "- `Examination`: Porcentaje de hombres que completaron exámenes de educación superior\n",
    "- `Education`: Nivel promedio de educación (escala arbitraria)\n",
    "- `Catholic`: Porcentaje de población católica\n",
    "- `Infant.Mortality`: Tasa de mortalidad infantil (por cada 1000 nacidos vivos)\n",
    "\n",
    "## Que queremos predecir?\n",
    "\n",
    "Vamos a utilizar este dataset para predecir la tasa de fertilidad en cada provincia mediante diferentes métodos de regresión.\n",
    "\n",
    "--- \n",
    "\n",
    "Siguiendo el procedimiento típico de Machine Learning, vamos a leer los datos y separarlos en los datasets de entrenamiento y testeo utilizando Scikit-Learn..."
   ]
  },
  {
   "cell_type": "code",
   "execution_count": null,
   "id": "23a28331",
   "metadata": {},
   "outputs": [],
   "source": [
    "import pandas as pd\n",
    "\n",
    "df = pd.read_csv(\"swiss.csv\")\n",
    "\n",
    "df.head()"
   ]
  },
  {
   "cell_type": "code",
   "execution_count": null,
   "id": "5b63e6b3",
   "metadata": {},
   "outputs": [],
   "source": [
    "print(f\"Tenemos {df.shape[0]} observaciones\")"
   ]
  },
  {
   "cell_type": "markdown",
   "id": "c302ee9e",
   "metadata": {},
   "source": [
    "Obtenemos la variable objetivo (`Fertility`) y, por otro lado, los atributos (quitamos `Location` ya que no es un atributo numérico relevante para la regresión)"
   ]
  },
  {
   "cell_type": "code",
   "execution_count": null,
   "id": "e0d09d2f",
   "metadata": {},
   "outputs": [],
   "source": [
    "X = df.drop([\"Fertility\", \"Location\"], axis=1)\n",
    "y = df[\"Fertility\"]"
   ]
  },
  {
   "cell_type": "markdown",
   "id": "3ea384b1",
   "metadata": {},
   "source": [
    "Dado que tenemos pocas observaciones, vamos a separar el dataset en un 50% para entrenamiento y 50% para testeo:"
   ]
  },
  {
   "cell_type": "code",
   "execution_count": null,
   "id": "cad8856e",
   "metadata": {},
   "outputs": [],
   "source": [
    "from sklearn.model_selection import train_test_split\n",
    "\n",
    "X_train, X_test, y_train, y_test = train_test_split(X, y, test_size=0.5, random_state=42)"
   ]
  },
  {
   "cell_type": "markdown",
   "id": "18e05d11",
   "metadata": {},
   "source": [
    "## Regresión lineal múltiple\n",
    "\n",
    "Arranquemos la primera parte del ejercicio. Para eso, vamos a entrenar un modelo de regresión lineal múltiple usando todos los atributos. Para ello debes:\n",
    "\n",
    "1. Escalar los atributos usando `StandardScaler`\n",
    "2. Entrenar el modelo usando el dataset de entrenamiento.\n",
    "3. Obtener las predicciones sobre el dataset de testeo.\n",
    "4. Calcular las métricas MAE, MSE  y $R^2$, e imprimir los resultados."
   ]
  },
  {
   "cell_type": "code",
   "execution_count": null,
   "id": "56876f4d",
   "metadata": {},
   "outputs": [],
   "source": [
    "from sklearn.linear_model import LinearRegression\n",
    "from sklearn.pipeline import Pipeline\n",
    "from sklearn.preprocessing import StandardScaler\n",
    "from sklearn.metrics import r2_score, mean_squared_error, mean_absolute_error\n",
    "\n",
    "##### COMPLETAR AQUI LO PEDIDO"
   ]
  },
  {
   "cell_type": "markdown",
   "id": "dbc13508",
   "metadata": {},
   "source": [
    "## Modelo con regularización\n",
    "\n",
    "Para mejorar nuestro modelo, vamos a explorar técnicas de regresión lineal con regularización, que nos permiten controlar el sobreajuste y seleccionar variables relevantes automáticamente.\n",
    "\n",
    "Existen dos variantes muy populares:\n",
    "\n",
    "- Una penaliza la suma de los cuadrados de los coeficientes (regularización L2).\n",
    "- La otra penaliza la suma del valor absoluto de los coeficientes (regularización L1).\n",
    "\n",
    "Ambas ayudan a mejorar la generalización, pero una de ellas además puede eliminar variables (coeficientes exactamente cero), lo que ayuda a identificar qué atributos son realmente importantes.\n",
    "\n",
    "Tu tarea:\n",
    "\n",
    "1. Elegí correctamente cuál de los dos métodos de regularización usar para este problema. \n",
    "    - Pista: Queremos que el modelo sea capaz de hacer una selección automática de variables, dejando fuera aquellas que no aportan.\n",
    "2. Implementá un pipeline que incluya escalado y el modelo elegido.\n",
    "3. Buscá automáticamente el mejor valor del hiperparámetro de regularización (alpha) usando validación cruzada usando 3-folds.\n",
    "4. Entrená el modelo con los datos de entrenamiento y obtené las predicciones para el set de testeo.\n",
    "5. Calcular las métricas MAE, MSE  y $R^2$, e imprimir los resultados.\n",
    "6. Imprimí los coeficientes resultantes e identificá qué variables fueron eliminadas (coeficiente = 0)."
   ]
  },
  {
   "cell_type": "code",
   "execution_count": null,
   "id": "67bba4de",
   "metadata": {},
   "outputs": [],
   "source": [
    "import numpy as np\n",
    "\n",
    "from sklearn.linear_model import LassoCV, RidgeCV"
   ]
  },
  {
   "cell_type": "markdown",
   "id": "1548509b",
   "metadata": {},
   "source": [
    "Paremos un momento para entender qué hacen LassoCV y RidgeCV antes de continuar con la resolución:\n",
    "\n",
    "> Tanto `LassoCV` como `RidgeCV` son implementaciones de regresión lineal con regularización que incluyen la búsqueda automática del mejor hiperparámetro alpha mediante validación cruzada.\n",
    ">\n",
    "> Ambos métodos prueban distintos valores de alpha y eligen el que minimiza el error del modelo, facilitando el proceso de ajuste sin necesidad de una búsqueda manual.\n",
    ">\n",
    "> Internamente, utilizan la métrica del error cuadrático medio (MSE) para evaluar el rendimiento del modelo en cada fold de la validación cruzada.\n",
    ">\n",
    "> Por ejemplo, si llamás a RidgeCV(alphas=alphas, cv=5), se hará una validación cruzada de 5 folds utilizando los valores de alpha que vos le pases, y se seleccionará el que obtenga el menor MSE promedio.\n",
    "> \n",
    "> Una vez elegido el mejor alpha, el modelo final se entrena con todos los datos de entrenamiento usando ese valor.\n",
    "\n",
    "¡Listo! Con todo lo que vimos hasta ahora, ya estás en condiciones de resolver esta parte y completar los 6 puntos propuestos"
   ]
  },
  {
   "cell_type": "code",
   "execution_count": null,
   "id": "340d24d8",
   "metadata": {},
   "outputs": [],
   "source": [
    "alphas = np.logspace(-4, 1, 500)\n",
    "\n",
    "##### COMPLETAR AQUI LO PEDIDO"
   ]
  },
  {
   "cell_type": "markdown",
   "id": "5d10c858",
   "metadata": {},
   "source": [
    "## Comparación de modelos y conclusiones\n",
    "\n",
    "Completá la siguiente tabla con las métricas obtenidas para cada uno de los modelos que entrenaste:\n",
    "\n",
    "| Modelo                        | MAE | MSE | $R^2$ |\n",
    "| ----------------------------- | --- | --- | ----- |\n",
    "| Regresión Lineal              |     |     |       |\n",
    "| Modelo Regularizado (L1 o L2) |     |     |       |\n",
    "\n",
    "\n",
    "> ⚠️ Asegurate de cambiar el nombre del modelo `Modelo Regularizado (L1 o L2)` según el modelo que usaste (Lasso o Ridge).\n",
    "\n",
    "### Justificación\n",
    "\n",
    "**¿Cuál de los modelos te parece que tuvo un mejor desempeño general?**\n",
    "\n",
    "Tené en cuenta las tres métricas al responder, y también pensá en la complejidad del modelo (por ejemplo, si eliminó variables innecesarias).\n",
    "\n",
    "Escribí tu respuesta a continuación:"
   ]
  },
  {
   "cell_type": "markdown",
   "id": "8c1ada5c",
   "metadata": {},
   "source": [
    "ESCRIBA AQUI SU RESPUESTA"
   ]
  }
 ],
 "metadata": {
  "kernelspec": {
   "display_name": "Python 3 (ipykernel)",
   "language": "python",
   "name": "python3"
  },
  "language_info": {
   "codemirror_mode": {
    "name": "ipython",
    "version": 3
   },
   "file_extension": ".py",
   "mimetype": "text/x-python",
   "name": "python",
   "nbconvert_exporter": "python",
   "pygments_lexer": "ipython3",
   "version": "3.11.12"
  }
 },
 "nbformat": 4,
 "nbformat_minor": 5
}
